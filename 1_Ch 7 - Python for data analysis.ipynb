{
  "nbformat": 4,
  "nbformat_minor": 0,
  "metadata": {
    "colab": {
      "name": "Untitled",
      "version": "0.3.2",
      "provenance": [],
      "collapsed_sections": []
    },
    "kernelspec": {
      "name": "python3",
      "display_name": "Python 3"
    }
  },
  "cells": [
    {
      "metadata": {
        "id": "U1jv7hKOUBIJ",
        "colab_type": "text"
      },
      "cell_type": "markdown",
      "source": [
        "# 7.1 Handling Missing Data"
      ]
    },
    {
      "metadata": {
        "id": "Khwo27L-UZ_d",
        "colab_type": "code",
        "colab": {}
      },
      "cell_type": "code",
      "source": [
        "import pandas as pd\n",
        "import numpy as np"
      ],
      "execution_count": 0,
      "outputs": []
    },
    {
      "metadata": {
        "id": "yQviZCydUe09",
        "colab_type": "code",
        "outputId": "c62f4a5a-3d6e-41e1-da20-9f722bc40f79",
        "colab": {
          "base_uri": "https://localhost:8080/",
          "height": 106
        }
      },
      "cell_type": "code",
      "source": [
        "string_data = pd.Series(['aardvark', 'artichoke', np.nan, 'avocado'])\n",
        "\n",
        "string_data"
      ],
      "execution_count": 2,
      "outputs": [
        {
          "output_type": "execute_result",
          "data": {
            "text/plain": [
              "0     aardvark\n",
              "1    artichoke\n",
              "2          NaN\n",
              "3      avocado\n",
              "dtype: object"
            ]
          },
          "metadata": {
            "tags": []
          },
          "execution_count": 2
        }
      ]
    },
    {
      "metadata": {
        "id": "ENHPc2-cUpV9",
        "colab_type": "code",
        "outputId": "ad3f7694-5293-4625-b402-a07e6414f0fc",
        "colab": {
          "base_uri": "https://localhost:8080/",
          "height": 106
        }
      },
      "cell_type": "code",
      "source": [
        "string_data.isnull()"
      ],
      "execution_count": 3,
      "outputs": [
        {
          "output_type": "execute_result",
          "data": {
            "text/plain": [
              "0    False\n",
              "1    False\n",
              "2     True\n",
              "3    False\n",
              "dtype: bool"
            ]
          },
          "metadata": {
            "tags": []
          },
          "execution_count": 3
        }
      ]
    },
    {
      "metadata": {
        "id": "7A6l-dUCUtne",
        "colab_type": "code",
        "colab": {}
      },
      "cell_type": "code",
      "source": [
        "string_data[0] = None"
      ],
      "execution_count": 0,
      "outputs": []
    },
    {
      "metadata": {
        "id": "pskSzp-9Uz2x",
        "colab_type": "code",
        "outputId": "b0e969e4-8c9c-4c62-fbe1-d95b84d05e05",
        "colab": {
          "base_uri": "https://localhost:8080/",
          "height": 106
        }
      },
      "cell_type": "code",
      "source": [
        "string_data.isnull()"
      ],
      "execution_count": 5,
      "outputs": [
        {
          "output_type": "execute_result",
          "data": {
            "text/plain": [
              "0     True\n",
              "1    False\n",
              "2     True\n",
              "3    False\n",
              "dtype: bool"
            ]
          },
          "metadata": {
            "tags": []
          },
          "execution_count": 5
        }
      ]
    },
    {
      "metadata": {
        "id": "0G7QShwJVS_x",
        "colab_type": "text"
      },
      "cell_type": "markdown",
      "source": [
        "## NA handling methods"
      ]
    },
    {
      "metadata": {
        "id": "R1J-WaeNVVhs",
        "colab_type": "text"
      },
      "cell_type": "markdown",
      "source": [
        "### pd.DataFrame.dropna()"
      ]
    },
    {
      "metadata": {
        "id": "INnfXbQnU2GL",
        "colab_type": "code",
        "outputId": "85a35aa7-8776-4c61-c032-e8223be51d02",
        "colab": {
          "base_uri": "https://localhost:8080/",
          "height": 143
        }
      },
      "cell_type": "code",
      "source": [
        "df = pd.DataFrame({\"name\": ['Alfred', 'Batman', 'Catwoman'],\n",
        "                   \"toy\": [np.nan, 'Batmobile', 'Bullwhip'],\n",
        "                   \"born\": [pd.NaT, pd.Timestamp(\"1940-04-25\"),\n",
        "                            pd.NaT]})\n",
        "\n",
        "df"
      ],
      "execution_count": 6,
      "outputs": [
        {
          "output_type": "execute_result",
          "data": {
            "text/html": [
              "<div>\n",
              "<style scoped>\n",
              "    .dataframe tbody tr th:only-of-type {\n",
              "        vertical-align: middle;\n",
              "    }\n",
              "\n",
              "    .dataframe tbody tr th {\n",
              "        vertical-align: top;\n",
              "    }\n",
              "\n",
              "    .dataframe thead th {\n",
              "        text-align: right;\n",
              "    }\n",
              "</style>\n",
              "<table border=\"1\" class=\"dataframe\">\n",
              "  <thead>\n",
              "    <tr style=\"text-align: right;\">\n",
              "      <th></th>\n",
              "      <th>born</th>\n",
              "      <th>name</th>\n",
              "      <th>toy</th>\n",
              "    </tr>\n",
              "  </thead>\n",
              "  <tbody>\n",
              "    <tr>\n",
              "      <th>0</th>\n",
              "      <td>NaT</td>\n",
              "      <td>Alfred</td>\n",
              "      <td>NaN</td>\n",
              "    </tr>\n",
              "    <tr>\n",
              "      <th>1</th>\n",
              "      <td>1940-04-25</td>\n",
              "      <td>Batman</td>\n",
              "      <td>Batmobile</td>\n",
              "    </tr>\n",
              "    <tr>\n",
              "      <th>2</th>\n",
              "      <td>NaT</td>\n",
              "      <td>Catwoman</td>\n",
              "      <td>Bullwhip</td>\n",
              "    </tr>\n",
              "  </tbody>\n",
              "</table>\n",
              "</div>"
            ],
            "text/plain": [
              "        born      name        toy\n",
              "0        NaT    Alfred        NaN\n",
              "1 1940-04-25    Batman  Batmobile\n",
              "2        NaT  Catwoman   Bullwhip"
            ]
          },
          "metadata": {
            "tags": []
          },
          "execution_count": 6
        }
      ]
    },
    {
      "metadata": {
        "id": "xgFMmpshVis1",
        "colab_type": "code",
        "outputId": "510ebc7b-85cf-4d02-c20b-603b05295265",
        "colab": {
          "base_uri": "https://localhost:8080/",
          "height": 81
        }
      },
      "cell_type": "code",
      "source": [
        "df.dropna()"
      ],
      "execution_count": 7,
      "outputs": [
        {
          "output_type": "execute_result",
          "data": {
            "text/html": [
              "<div>\n",
              "<style scoped>\n",
              "    .dataframe tbody tr th:only-of-type {\n",
              "        vertical-align: middle;\n",
              "    }\n",
              "\n",
              "    .dataframe tbody tr th {\n",
              "        vertical-align: top;\n",
              "    }\n",
              "\n",
              "    .dataframe thead th {\n",
              "        text-align: right;\n",
              "    }\n",
              "</style>\n",
              "<table border=\"1\" class=\"dataframe\">\n",
              "  <thead>\n",
              "    <tr style=\"text-align: right;\">\n",
              "      <th></th>\n",
              "      <th>born</th>\n",
              "      <th>name</th>\n",
              "      <th>toy</th>\n",
              "    </tr>\n",
              "  </thead>\n",
              "  <tbody>\n",
              "    <tr>\n",
              "      <th>1</th>\n",
              "      <td>1940-04-25</td>\n",
              "      <td>Batman</td>\n",
              "      <td>Batmobile</td>\n",
              "    </tr>\n",
              "  </tbody>\n",
              "</table>\n",
              "</div>"
            ],
            "text/plain": [
              "        born    name        toy\n",
              "1 1940-04-25  Batman  Batmobile"
            ]
          },
          "metadata": {
            "tags": []
          },
          "execution_count": 7
        }
      ]
    },
    {
      "metadata": {
        "id": "u_fyqBEFV81z",
        "colab_type": "code",
        "outputId": "4a1e277c-b813-4237-f42e-d4fa4761b6b9",
        "colab": {
          "base_uri": "https://localhost:8080/",
          "height": 143
        }
      },
      "cell_type": "code",
      "source": [
        "df.dropna(axis = 'columns')"
      ],
      "execution_count": 8,
      "outputs": [
        {
          "output_type": "execute_result",
          "data": {
            "text/html": [
              "<div>\n",
              "<style scoped>\n",
              "    .dataframe tbody tr th:only-of-type {\n",
              "        vertical-align: middle;\n",
              "    }\n",
              "\n",
              "    .dataframe tbody tr th {\n",
              "        vertical-align: top;\n",
              "    }\n",
              "\n",
              "    .dataframe thead th {\n",
              "        text-align: right;\n",
              "    }\n",
              "</style>\n",
              "<table border=\"1\" class=\"dataframe\">\n",
              "  <thead>\n",
              "    <tr style=\"text-align: right;\">\n",
              "      <th></th>\n",
              "      <th>name</th>\n",
              "    </tr>\n",
              "  </thead>\n",
              "  <tbody>\n",
              "    <tr>\n",
              "      <th>0</th>\n",
              "      <td>Alfred</td>\n",
              "    </tr>\n",
              "    <tr>\n",
              "      <th>1</th>\n",
              "      <td>Batman</td>\n",
              "    </tr>\n",
              "    <tr>\n",
              "      <th>2</th>\n",
              "      <td>Catwoman</td>\n",
              "    </tr>\n",
              "  </tbody>\n",
              "</table>\n",
              "</div>"
            ],
            "text/plain": [
              "       name\n",
              "0    Alfred\n",
              "1    Batman\n",
              "2  Catwoman"
            ]
          },
          "metadata": {
            "tags": []
          },
          "execution_count": 8
        }
      ]
    },
    {
      "metadata": {
        "id": "1Qu_-lnNWJWJ",
        "colab_type": "code",
        "outputId": "2274cd97-4f53-47bf-a7f4-c126c2230c7c",
        "colab": {
          "base_uri": "https://localhost:8080/",
          "height": 143
        }
      },
      "cell_type": "code",
      "source": [
        "df.dropna(how = 'all') # drop rows where all elements are missing"
      ],
      "execution_count": 9,
      "outputs": [
        {
          "output_type": "execute_result",
          "data": {
            "text/html": [
              "<div>\n",
              "<style scoped>\n",
              "    .dataframe tbody tr th:only-of-type {\n",
              "        vertical-align: middle;\n",
              "    }\n",
              "\n",
              "    .dataframe tbody tr th {\n",
              "        vertical-align: top;\n",
              "    }\n",
              "\n",
              "    .dataframe thead th {\n",
              "        text-align: right;\n",
              "    }\n",
              "</style>\n",
              "<table border=\"1\" class=\"dataframe\">\n",
              "  <thead>\n",
              "    <tr style=\"text-align: right;\">\n",
              "      <th></th>\n",
              "      <th>born</th>\n",
              "      <th>name</th>\n",
              "      <th>toy</th>\n",
              "    </tr>\n",
              "  </thead>\n",
              "  <tbody>\n",
              "    <tr>\n",
              "      <th>0</th>\n",
              "      <td>NaT</td>\n",
              "      <td>Alfred</td>\n",
              "      <td>NaN</td>\n",
              "    </tr>\n",
              "    <tr>\n",
              "      <th>1</th>\n",
              "      <td>1940-04-25</td>\n",
              "      <td>Batman</td>\n",
              "      <td>Batmobile</td>\n",
              "    </tr>\n",
              "    <tr>\n",
              "      <th>2</th>\n",
              "      <td>NaT</td>\n",
              "      <td>Catwoman</td>\n",
              "      <td>Bullwhip</td>\n",
              "    </tr>\n",
              "  </tbody>\n",
              "</table>\n",
              "</div>"
            ],
            "text/plain": [
              "        born      name        toy\n",
              "0        NaT    Alfred        NaN\n",
              "1 1940-04-25    Batman  Batmobile\n",
              "2        NaT  Catwoman   Bullwhip"
            ]
          },
          "metadata": {
            "tags": []
          },
          "execution_count": 9
        }
      ]
    },
    {
      "metadata": {
        "id": "Z-nMW-owWQcm",
        "colab_type": "code",
        "outputId": "3cfd1203-659b-4890-8253-59fa524db290",
        "colab": {
          "base_uri": "https://localhost:8080/",
          "height": 112
        }
      },
      "cell_type": "code",
      "source": [
        "df.dropna(thresh = 2)"
      ],
      "execution_count": 10,
      "outputs": [
        {
          "output_type": "execute_result",
          "data": {
            "text/html": [
              "<div>\n",
              "<style scoped>\n",
              "    .dataframe tbody tr th:only-of-type {\n",
              "        vertical-align: middle;\n",
              "    }\n",
              "\n",
              "    .dataframe tbody tr th {\n",
              "        vertical-align: top;\n",
              "    }\n",
              "\n",
              "    .dataframe thead th {\n",
              "        text-align: right;\n",
              "    }\n",
              "</style>\n",
              "<table border=\"1\" class=\"dataframe\">\n",
              "  <thead>\n",
              "    <tr style=\"text-align: right;\">\n",
              "      <th></th>\n",
              "      <th>born</th>\n",
              "      <th>name</th>\n",
              "      <th>toy</th>\n",
              "    </tr>\n",
              "  </thead>\n",
              "  <tbody>\n",
              "    <tr>\n",
              "      <th>1</th>\n",
              "      <td>1940-04-25</td>\n",
              "      <td>Batman</td>\n",
              "      <td>Batmobile</td>\n",
              "    </tr>\n",
              "    <tr>\n",
              "      <th>2</th>\n",
              "      <td>NaT</td>\n",
              "      <td>Catwoman</td>\n",
              "      <td>Bullwhip</td>\n",
              "    </tr>\n",
              "  </tbody>\n",
              "</table>\n",
              "</div>"
            ],
            "text/plain": [
              "        born      name        toy\n",
              "1 1940-04-25    Batman  Batmobile\n",
              "2        NaT  Catwoman   Bullwhip"
            ]
          },
          "metadata": {
            "tags": []
          },
          "execution_count": 10
        }
      ]
    },
    {
      "metadata": {
        "id": "icUyTjwsWWHJ",
        "colab_type": "code",
        "outputId": "f77f5124-d26f-4d6e-d678-dbee8a12262c",
        "colab": {
          "base_uri": "https://localhost:8080/",
          "height": 81
        }
      },
      "cell_type": "code",
      "source": [
        "df.dropna(subset = ['name', 'born'])"
      ],
      "execution_count": 11,
      "outputs": [
        {
          "output_type": "execute_result",
          "data": {
            "text/html": [
              "<div>\n",
              "<style scoped>\n",
              "    .dataframe tbody tr th:only-of-type {\n",
              "        vertical-align: middle;\n",
              "    }\n",
              "\n",
              "    .dataframe tbody tr th {\n",
              "        vertical-align: top;\n",
              "    }\n",
              "\n",
              "    .dataframe thead th {\n",
              "        text-align: right;\n",
              "    }\n",
              "</style>\n",
              "<table border=\"1\" class=\"dataframe\">\n",
              "  <thead>\n",
              "    <tr style=\"text-align: right;\">\n",
              "      <th></th>\n",
              "      <th>born</th>\n",
              "      <th>name</th>\n",
              "      <th>toy</th>\n",
              "    </tr>\n",
              "  </thead>\n",
              "  <tbody>\n",
              "    <tr>\n",
              "      <th>1</th>\n",
              "      <td>1940-04-25</td>\n",
              "      <td>Batman</td>\n",
              "      <td>Batmobile</td>\n",
              "    </tr>\n",
              "  </tbody>\n",
              "</table>\n",
              "</div>"
            ],
            "text/plain": [
              "        born    name        toy\n",
              "1 1940-04-25  Batman  Batmobile"
            ]
          },
          "metadata": {
            "tags": []
          },
          "execution_count": 11
        }
      ]
    },
    {
      "metadata": {
        "id": "b9s1mSwnWbOR",
        "colab_type": "code",
        "outputId": "a5221e97-5515-4ea7-82c1-004ab57a0be1",
        "colab": {
          "base_uri": "https://localhost:8080/",
          "height": 81
        }
      },
      "cell_type": "code",
      "source": [
        "df.dropna(inplace = True)\n",
        "\n",
        "df"
      ],
      "execution_count": 12,
      "outputs": [
        {
          "output_type": "execute_result",
          "data": {
            "text/html": [
              "<div>\n",
              "<style scoped>\n",
              "    .dataframe tbody tr th:only-of-type {\n",
              "        vertical-align: middle;\n",
              "    }\n",
              "\n",
              "    .dataframe tbody tr th {\n",
              "        vertical-align: top;\n",
              "    }\n",
              "\n",
              "    .dataframe thead th {\n",
              "        text-align: right;\n",
              "    }\n",
              "</style>\n",
              "<table border=\"1\" class=\"dataframe\">\n",
              "  <thead>\n",
              "    <tr style=\"text-align: right;\">\n",
              "      <th></th>\n",
              "      <th>born</th>\n",
              "      <th>name</th>\n",
              "      <th>toy</th>\n",
              "    </tr>\n",
              "  </thead>\n",
              "  <tbody>\n",
              "    <tr>\n",
              "      <th>1</th>\n",
              "      <td>1940-04-25</td>\n",
              "      <td>Batman</td>\n",
              "      <td>Batmobile</td>\n",
              "    </tr>\n",
              "  </tbody>\n",
              "</table>\n",
              "</div>"
            ],
            "text/plain": [
              "        born    name        toy\n",
              "1 1940-04-25  Batman  Batmobile"
            ]
          },
          "metadata": {
            "tags": []
          },
          "execution_count": 12
        }
      ]
    },
    {
      "metadata": {
        "id": "DTkx-Lb_Wd5a",
        "colab_type": "code",
        "colab": {}
      },
      "cell_type": "code",
      "source": [
        "data = pd.read_csv(\"https://cdncontribute.geeksforgeeks.org/wp-content/uploads/nba.csv\")"
      ],
      "execution_count": 0,
      "outputs": []
    },
    {
      "metadata": {
        "id": "4bW1xnirW-PR",
        "colab_type": "code",
        "colab": {}
      },
      "cell_type": "code",
      "source": [
        "new_data = data.dropna(axis = 0, how = 'any')"
      ],
      "execution_count": 0,
      "outputs": []
    },
    {
      "metadata": {
        "id": "oViZTlm1XEvj",
        "colab_type": "code",
        "outputId": "83e6ae9a-11fd-4242-9fcd-12d0227a938f",
        "colab": {
          "base_uri": "https://localhost:8080/",
          "height": 71
        }
      },
      "cell_type": "code",
      "source": [
        "print(\"Old data frame length: \", len(data),\n",
        "      \"\\nNew data frame length: \", len(new_data),\n",
        "      \"\\nNumber of rows with at least 1 NA value: \", \n",
        "      (len(data) - len(new_data)))"
      ],
      "execution_count": 15,
      "outputs": [
        {
          "output_type": "stream",
          "text": [
            "Old data frame length:  458 \n",
            "New data frame length:  364 \n",
            "Number of rows with at least 1 NA value:  94\n"
          ],
          "name": "stdout"
        }
      ]
    },
    {
      "metadata": {
        "id": "DdhvvmVxXUi8",
        "colab_type": "code",
        "colab": {}
      },
      "cell_type": "code",
      "source": [
        "new = pd.read_csv(\"https://cdncontribute.geeksforgeeks.org/wp-content/uploads/nba.csv\")"
      ],
      "execution_count": 0,
      "outputs": []
    },
    {
      "metadata": {
        "id": "vfyIWaClXszA",
        "colab_type": "code",
        "colab": {}
      },
      "cell_type": "code",
      "source": [
        "new[\"Null Column\"] = None"
      ],
      "execution_count": 0,
      "outputs": []
    },
    {
      "metadata": {
        "id": "0AYgiJJzXxZN",
        "colab_type": "code",
        "outputId": "76a6ac81-32d1-4805-e5b6-3da3ea72f6d7",
        "colab": {
          "base_uri": "https://localhost:8080/",
          "height": 88
        }
      },
      "cell_type": "code",
      "source": [
        "print(data.columns.values, \"\\n\", new.columns.values)"
      ],
      "execution_count": 18,
      "outputs": [
        {
          "output_type": "stream",
          "text": [
            "['Name' 'Team' 'Number' 'Position' 'Age' 'Height' 'Weight' 'College'\n",
            " 'Salary'] \n",
            " ['Name' 'Team' 'Number' 'Position' 'Age' 'Height' 'Weight' 'College'\n",
            " 'Salary' 'Null Column']\n"
          ],
          "name": "stdout"
        }
      ]
    },
    {
      "metadata": {
        "id": "KqSxh-unX4Ax",
        "colab_type": "code",
        "outputId": "439ead7c-11e8-4cfe-c4dd-acc87bc0e00d",
        "colab": {
          "base_uri": "https://localhost:8080/",
          "height": 53
        }
      },
      "cell_type": "code",
      "source": [
        "print(\"\\nColumn number before dropping Null column:\",\n",
        "      len(data.dtypes), \n",
        "      len(new.dtypes))"
      ],
      "execution_count": 19,
      "outputs": [
        {
          "output_type": "stream",
          "text": [
            "\n",
            "Column number before dropping Null column: 9 10\n"
          ],
          "name": "stdout"
        }
      ]
    },
    {
      "metadata": {
        "id": "KPaCg2QwYAe2",
        "colab_type": "code",
        "colab": {}
      },
      "cell_type": "code",
      "source": [
        "new.dropna(axis = 1, how= 'all', inplace = True)"
      ],
      "execution_count": 0,
      "outputs": []
    },
    {
      "metadata": {
        "id": "0GCbiSLoYV7t",
        "colab_type": "code",
        "outputId": "b580d7ad-a27d-4d8b-abd0-2c5d67951127",
        "colab": {
          "base_uri": "https://localhost:8080/",
          "height": 53
        }
      },
      "cell_type": "code",
      "source": [
        "print(\"\\nColumn number after dropping Null column:\",\n",
        "      len(data.dtypes),\n",
        "      len(new.dtypes))"
      ],
      "execution_count": 21,
      "outputs": [
        {
          "output_type": "stream",
          "text": [
            "\n",
            "Column number after dropping Null column: 9 9\n"
          ],
          "name": "stdout"
        }
      ]
    },
    {
      "metadata": {
        "id": "wJZVWK8WZPsK",
        "colab_type": "text"
      },
      "cell_type": "markdown",
      "source": [
        "### pd.Series.dropna()"
      ]
    },
    {
      "metadata": {
        "id": "hfZrwiwlYg89",
        "colab_type": "code",
        "outputId": "c226bcf3-295f-4119-ce40-3cad38e849da",
        "colab": {
          "base_uri": "https://localhost:8080/",
          "height": 88
        }
      },
      "cell_type": "code",
      "source": [
        "ser = pd.Series([1., 2., np.nan])\n",
        "\n",
        "ser"
      ],
      "execution_count": 22,
      "outputs": [
        {
          "output_type": "execute_result",
          "data": {
            "text/plain": [
              "0    1.0\n",
              "1    2.0\n",
              "2    NaN\n",
              "dtype: float64"
            ]
          },
          "metadata": {
            "tags": []
          },
          "execution_count": 22
        }
      ]
    },
    {
      "metadata": {
        "id": "NM4R2AiyZWNE",
        "colab_type": "code",
        "outputId": "1525cfb5-954e-47d9-a10c-8f1ba1b031b7",
        "colab": {
          "base_uri": "https://localhost:8080/",
          "height": 71
        }
      },
      "cell_type": "code",
      "source": [
        "ser.dropna()"
      ],
      "execution_count": 23,
      "outputs": [
        {
          "output_type": "execute_result",
          "data": {
            "text/plain": [
              "0    1.0\n",
              "1    2.0\n",
              "dtype: float64"
            ]
          },
          "metadata": {
            "tags": []
          },
          "execution_count": 23
        }
      ]
    },
    {
      "metadata": {
        "id": "D0oea2vHZYwA",
        "colab_type": "code",
        "outputId": "a582c842-04ea-440e-81df-772a98d77742",
        "colab": {
          "base_uri": "https://localhost:8080/",
          "height": 71
        }
      },
      "cell_type": "code",
      "source": [
        "ser.dropna(inplace = True)\n",
        "\n",
        "ser"
      ],
      "execution_count": 24,
      "outputs": [
        {
          "output_type": "execute_result",
          "data": {
            "text/plain": [
              "0    1.0\n",
              "1    2.0\n",
              "dtype: float64"
            ]
          },
          "metadata": {
            "tags": []
          },
          "execution_count": 24
        }
      ]
    },
    {
      "metadata": {
        "id": "VDhl8PYfZhNo",
        "colab_type": "code",
        "outputId": "c50df02b-39ae-4d56-da1f-38b4f989acc8",
        "colab": {
          "base_uri": "https://localhost:8080/",
          "height": 142
        }
      },
      "cell_type": "code",
      "source": [
        "ser = pd.Series([np.NaN, 2, pd.NaT, '', None, 'I stay'])\n",
        "\n",
        "ser"
      ],
      "execution_count": 25,
      "outputs": [
        {
          "output_type": "execute_result",
          "data": {
            "text/plain": [
              "0       NaN\n",
              "1         2\n",
              "2       NaT\n",
              "3          \n",
              "4      None\n",
              "5    I stay\n",
              "dtype: object"
            ]
          },
          "metadata": {
            "tags": []
          },
          "execution_count": 25
        }
      ]
    },
    {
      "metadata": {
        "id": "9pbVcwttZrwE",
        "colab_type": "code",
        "outputId": "1b4b13db-73e3-46d0-dee6-9b027a3eacf4",
        "colab": {
          "base_uri": "https://localhost:8080/",
          "height": 88
        }
      },
      "cell_type": "code",
      "source": [
        "ser.dropna()"
      ],
      "execution_count": 26,
      "outputs": [
        {
          "output_type": "execute_result",
          "data": {
            "text/plain": [
              "1         2\n",
              "3          \n",
              "5    I stay\n",
              "dtype: object"
            ]
          },
          "metadata": {
            "tags": []
          },
          "execution_count": 26
        }
      ]
    },
    {
      "metadata": {
        "id": "TZe3tNmDZuDd",
        "colab_type": "code",
        "outputId": "addac67a-58af-4514-89c6-d2e9fe5fc3d2",
        "colab": {
          "base_uri": "https://localhost:8080/",
          "height": 124
        }
      },
      "cell_type": "code",
      "source": [
        "sr = pd.Series(['New York', 'Chicago', 'Toronto', None, 'Rio'])\n",
        "\n",
        "index_ = ['City 1', 'City 2', 'City 3', 'City 4', 'City 5']\n",
        "\n",
        "sr.index = index_\n",
        "\n",
        "sr"
      ],
      "execution_count": 27,
      "outputs": [
        {
          "output_type": "execute_result",
          "data": {
            "text/plain": [
              "City 1    New York\n",
              "City 2     Chicago\n",
              "City 3     Toronto\n",
              "City 4        None\n",
              "City 5         Rio\n",
              "dtype: object"
            ]
          },
          "metadata": {
            "tags": []
          },
          "execution_count": 27
        }
      ]
    },
    {
      "metadata": {
        "id": "LL1mWfeuaOO1",
        "colab_type": "code",
        "outputId": "5e7a93e6-128d-4863-abc0-b0b264901d1c",
        "colab": {
          "base_uri": "https://localhost:8080/",
          "height": 106
        }
      },
      "cell_type": "code",
      "source": [
        "result = sr.dropna()\n",
        "\n",
        "result"
      ],
      "execution_count": 28,
      "outputs": [
        {
          "output_type": "execute_result",
          "data": {
            "text/plain": [
              "City 1    New York\n",
              "City 2     Chicago\n",
              "City 3     Toronto\n",
              "City 5         Rio\n",
              "dtype: object"
            ]
          },
          "metadata": {
            "tags": []
          },
          "execution_count": 28
        }
      ]
    },
    {
      "metadata": {
        "id": "IT9IYW_oaWBw",
        "colab_type": "code",
        "outputId": "af5c3748-3885-41a9-f3fa-12f28e9e702f",
        "colab": {
          "base_uri": "https://localhost:8080/",
          "height": 231
        }
      },
      "cell_type": "code",
      "source": [
        "sr = pd.Series([100, None, None, 18, 65, None, 32, 10, 5, 24, None])\n",
        "\n",
        "index_ = pd.date_range('2010-10-09', periods = 11, freq = 'M')\n",
        "\n",
        "sr.index = index_\n",
        "\n",
        "sr"
      ],
      "execution_count": 29,
      "outputs": [
        {
          "output_type": "execute_result",
          "data": {
            "text/plain": [
              "2010-10-31    100.0\n",
              "2010-11-30      NaN\n",
              "2010-12-31      NaN\n",
              "2011-01-31     18.0\n",
              "2011-02-28     65.0\n",
              "2011-03-31      NaN\n",
              "2011-04-30     32.0\n",
              "2011-05-31     10.0\n",
              "2011-06-30      5.0\n",
              "2011-07-31     24.0\n",
              "2011-08-31      NaN\n",
              "Freq: M, dtype: float64"
            ]
          },
          "metadata": {
            "tags": []
          },
          "execution_count": 29
        }
      ]
    },
    {
      "metadata": {
        "id": "bC1RPOcUan62",
        "colab_type": "code",
        "outputId": "52844a87-4d12-4919-97f3-c97dbc9bb1ac",
        "colab": {
          "base_uri": "https://localhost:8080/",
          "height": 160
        }
      },
      "cell_type": "code",
      "source": [
        "result = sr.dropna()\n",
        "\n",
        "result"
      ],
      "execution_count": 30,
      "outputs": [
        {
          "output_type": "execute_result",
          "data": {
            "text/plain": [
              "2010-10-31    100.0\n",
              "2011-01-31     18.0\n",
              "2011-02-28     65.0\n",
              "2011-04-30     32.0\n",
              "2011-05-31     10.0\n",
              "2011-06-30      5.0\n",
              "2011-07-31     24.0\n",
              "dtype: float64"
            ]
          },
          "metadata": {
            "tags": []
          },
          "execution_count": 30
        }
      ]
    },
    {
      "metadata": {
        "id": "-9dyypSnbeOS",
        "colab_type": "text"
      },
      "cell_type": "markdown",
      "source": [
        "### pd.DataFrame.fillna()"
      ]
    },
    {
      "metadata": {
        "id": "eabHZ49ibFnR",
        "colab_type": "code",
        "outputId": "811602ac-3cb8-44d8-a6e9-57d1f7356dac",
        "colab": {
          "base_uri": "https://localhost:8080/",
          "height": 175
        }
      },
      "cell_type": "code",
      "source": [
        "df = pd.DataFrame([[np.nan, 2, np.nan, 0],\n",
        "                   [3, 4, np.nan, 1],\n",
        "                   [np.nan, np.nan, np.nan, 5],\n",
        "                   [np.nan, 3, np.nan, 4]],\n",
        "                  columns = list('ABCD'))\n",
        "\n",
        "df"
      ],
      "execution_count": 31,
      "outputs": [
        {
          "output_type": "execute_result",
          "data": {
            "text/html": [
              "<div>\n",
              "<style scoped>\n",
              "    .dataframe tbody tr th:only-of-type {\n",
              "        vertical-align: middle;\n",
              "    }\n",
              "\n",
              "    .dataframe tbody tr th {\n",
              "        vertical-align: top;\n",
              "    }\n",
              "\n",
              "    .dataframe thead th {\n",
              "        text-align: right;\n",
              "    }\n",
              "</style>\n",
              "<table border=\"1\" class=\"dataframe\">\n",
              "  <thead>\n",
              "    <tr style=\"text-align: right;\">\n",
              "      <th></th>\n",
              "      <th>A</th>\n",
              "      <th>B</th>\n",
              "      <th>C</th>\n",
              "      <th>D</th>\n",
              "    </tr>\n",
              "  </thead>\n",
              "  <tbody>\n",
              "    <tr>\n",
              "      <th>0</th>\n",
              "      <td>NaN</td>\n",
              "      <td>2.0</td>\n",
              "      <td>NaN</td>\n",
              "      <td>0</td>\n",
              "    </tr>\n",
              "    <tr>\n",
              "      <th>1</th>\n",
              "      <td>3.0</td>\n",
              "      <td>4.0</td>\n",
              "      <td>NaN</td>\n",
              "      <td>1</td>\n",
              "    </tr>\n",
              "    <tr>\n",
              "      <th>2</th>\n",
              "      <td>NaN</td>\n",
              "      <td>NaN</td>\n",
              "      <td>NaN</td>\n",
              "      <td>5</td>\n",
              "    </tr>\n",
              "    <tr>\n",
              "      <th>3</th>\n",
              "      <td>NaN</td>\n",
              "      <td>3.0</td>\n",
              "      <td>NaN</td>\n",
              "      <td>4</td>\n",
              "    </tr>\n",
              "  </tbody>\n",
              "</table>\n",
              "</div>"
            ],
            "text/plain": [
              "     A    B   C  D\n",
              "0  NaN  2.0 NaN  0\n",
              "1  3.0  4.0 NaN  1\n",
              "2  NaN  NaN NaN  5\n",
              "3  NaN  3.0 NaN  4"
            ]
          },
          "metadata": {
            "tags": []
          },
          "execution_count": 31
        }
      ]
    },
    {
      "metadata": {
        "id": "TaO9oPenbtyt",
        "colab_type": "code",
        "outputId": "cea6b72a-7da4-48aa-f1d7-eeb02871572b",
        "colab": {
          "base_uri": "https://localhost:8080/",
          "height": 175
        }
      },
      "cell_type": "code",
      "source": [
        "df.fillna(0)"
      ],
      "execution_count": 32,
      "outputs": [
        {
          "output_type": "execute_result",
          "data": {
            "text/html": [
              "<div>\n",
              "<style scoped>\n",
              "    .dataframe tbody tr th:only-of-type {\n",
              "        vertical-align: middle;\n",
              "    }\n",
              "\n",
              "    .dataframe tbody tr th {\n",
              "        vertical-align: top;\n",
              "    }\n",
              "\n",
              "    .dataframe thead th {\n",
              "        text-align: right;\n",
              "    }\n",
              "</style>\n",
              "<table border=\"1\" class=\"dataframe\">\n",
              "  <thead>\n",
              "    <tr style=\"text-align: right;\">\n",
              "      <th></th>\n",
              "      <th>A</th>\n",
              "      <th>B</th>\n",
              "      <th>C</th>\n",
              "      <th>D</th>\n",
              "    </tr>\n",
              "  </thead>\n",
              "  <tbody>\n",
              "    <tr>\n",
              "      <th>0</th>\n",
              "      <td>0.0</td>\n",
              "      <td>2.0</td>\n",
              "      <td>0.0</td>\n",
              "      <td>0</td>\n",
              "    </tr>\n",
              "    <tr>\n",
              "      <th>1</th>\n",
              "      <td>3.0</td>\n",
              "      <td>4.0</td>\n",
              "      <td>0.0</td>\n",
              "      <td>1</td>\n",
              "    </tr>\n",
              "    <tr>\n",
              "      <th>2</th>\n",
              "      <td>0.0</td>\n",
              "      <td>0.0</td>\n",
              "      <td>0.0</td>\n",
              "      <td>5</td>\n",
              "    </tr>\n",
              "    <tr>\n",
              "      <th>3</th>\n",
              "      <td>0.0</td>\n",
              "      <td>3.0</td>\n",
              "      <td>0.0</td>\n",
              "      <td>4</td>\n",
              "    </tr>\n",
              "  </tbody>\n",
              "</table>\n",
              "</div>"
            ],
            "text/plain": [
              "     A    B    C  D\n",
              "0  0.0  2.0  0.0  0\n",
              "1  3.0  4.0  0.0  1\n",
              "2  0.0  0.0  0.0  5\n",
              "3  0.0  3.0  0.0  4"
            ]
          },
          "metadata": {
            "tags": []
          },
          "execution_count": 32
        }
      ]
    },
    {
      "metadata": {
        "id": "LpeZDqEwb2Tr",
        "colab_type": "code",
        "outputId": "a07fd059-0525-4bf5-df3d-55a181dc025e",
        "colab": {
          "base_uri": "https://localhost:8080/",
          "height": 175
        }
      },
      "cell_type": "code",
      "source": [
        "df.fillna(method = 'ffill')"
      ],
      "execution_count": 33,
      "outputs": [
        {
          "output_type": "execute_result",
          "data": {
            "text/html": [
              "<div>\n",
              "<style scoped>\n",
              "    .dataframe tbody tr th:only-of-type {\n",
              "        vertical-align: middle;\n",
              "    }\n",
              "\n",
              "    .dataframe tbody tr th {\n",
              "        vertical-align: top;\n",
              "    }\n",
              "\n",
              "    .dataframe thead th {\n",
              "        text-align: right;\n",
              "    }\n",
              "</style>\n",
              "<table border=\"1\" class=\"dataframe\">\n",
              "  <thead>\n",
              "    <tr style=\"text-align: right;\">\n",
              "      <th></th>\n",
              "      <th>A</th>\n",
              "      <th>B</th>\n",
              "      <th>C</th>\n",
              "      <th>D</th>\n",
              "    </tr>\n",
              "  </thead>\n",
              "  <tbody>\n",
              "    <tr>\n",
              "      <th>0</th>\n",
              "      <td>NaN</td>\n",
              "      <td>2.0</td>\n",
              "      <td>NaN</td>\n",
              "      <td>0</td>\n",
              "    </tr>\n",
              "    <tr>\n",
              "      <th>1</th>\n",
              "      <td>3.0</td>\n",
              "      <td>4.0</td>\n",
              "      <td>NaN</td>\n",
              "      <td>1</td>\n",
              "    </tr>\n",
              "    <tr>\n",
              "      <th>2</th>\n",
              "      <td>3.0</td>\n",
              "      <td>4.0</td>\n",
              "      <td>NaN</td>\n",
              "      <td>5</td>\n",
              "    </tr>\n",
              "    <tr>\n",
              "      <th>3</th>\n",
              "      <td>3.0</td>\n",
              "      <td>3.0</td>\n",
              "      <td>NaN</td>\n",
              "      <td>4</td>\n",
              "    </tr>\n",
              "  </tbody>\n",
              "</table>\n",
              "</div>"
            ],
            "text/plain": [
              "     A    B   C  D\n",
              "0  NaN  2.0 NaN  0\n",
              "1  3.0  4.0 NaN  1\n",
              "2  3.0  4.0 NaN  5\n",
              "3  3.0  3.0 NaN  4"
            ]
          },
          "metadata": {
            "tags": []
          },
          "execution_count": 33
        }
      ]
    },
    {
      "metadata": {
        "id": "bsN7AK00b5Vl",
        "colab_type": "code",
        "outputId": "3ca5eecc-e906-4c12-da1f-646e955f0c79",
        "colab": {
          "base_uri": "https://localhost:8080/",
          "height": 175
        }
      },
      "cell_type": "code",
      "source": [
        "values = {'A': 0, 'B': 1, 'C': 2, 'D': 3}\n",
        "\n",
        "df.fillna(value = values)"
      ],
      "execution_count": 34,
      "outputs": [
        {
          "output_type": "execute_result",
          "data": {
            "text/html": [
              "<div>\n",
              "<style scoped>\n",
              "    .dataframe tbody tr th:only-of-type {\n",
              "        vertical-align: middle;\n",
              "    }\n",
              "\n",
              "    .dataframe tbody tr th {\n",
              "        vertical-align: top;\n",
              "    }\n",
              "\n",
              "    .dataframe thead th {\n",
              "        text-align: right;\n",
              "    }\n",
              "</style>\n",
              "<table border=\"1\" class=\"dataframe\">\n",
              "  <thead>\n",
              "    <tr style=\"text-align: right;\">\n",
              "      <th></th>\n",
              "      <th>A</th>\n",
              "      <th>B</th>\n",
              "      <th>C</th>\n",
              "      <th>D</th>\n",
              "    </tr>\n",
              "  </thead>\n",
              "  <tbody>\n",
              "    <tr>\n",
              "      <th>0</th>\n",
              "      <td>0.0</td>\n",
              "      <td>2.0</td>\n",
              "      <td>2.0</td>\n",
              "      <td>0</td>\n",
              "    </tr>\n",
              "    <tr>\n",
              "      <th>1</th>\n",
              "      <td>3.0</td>\n",
              "      <td>4.0</td>\n",
              "      <td>2.0</td>\n",
              "      <td>1</td>\n",
              "    </tr>\n",
              "    <tr>\n",
              "      <th>2</th>\n",
              "      <td>0.0</td>\n",
              "      <td>1.0</td>\n",
              "      <td>2.0</td>\n",
              "      <td>5</td>\n",
              "    </tr>\n",
              "    <tr>\n",
              "      <th>3</th>\n",
              "      <td>0.0</td>\n",
              "      <td>3.0</td>\n",
              "      <td>2.0</td>\n",
              "      <td>4</td>\n",
              "    </tr>\n",
              "  </tbody>\n",
              "</table>\n",
              "</div>"
            ],
            "text/plain": [
              "     A    B    C  D\n",
              "0  0.0  2.0  2.0  0\n",
              "1  3.0  4.0  2.0  1\n",
              "2  0.0  1.0  2.0  5\n",
              "3  0.0  3.0  2.0  4"
            ]
          },
          "metadata": {
            "tags": []
          },
          "execution_count": 34
        }
      ]
    },
    {
      "metadata": {
        "id": "urOpnQEjcIKX",
        "colab_type": "code",
        "outputId": "03f9df00-18c1-4dcb-9e3c-29332c64256a",
        "colab": {
          "base_uri": "https://localhost:8080/",
          "height": 175
        }
      },
      "cell_type": "code",
      "source": [
        "df.fillna(value = values, limit = 1)"
      ],
      "execution_count": 35,
      "outputs": [
        {
          "output_type": "execute_result",
          "data": {
            "text/html": [
              "<div>\n",
              "<style scoped>\n",
              "    .dataframe tbody tr th:only-of-type {\n",
              "        vertical-align: middle;\n",
              "    }\n",
              "\n",
              "    .dataframe tbody tr th {\n",
              "        vertical-align: top;\n",
              "    }\n",
              "\n",
              "    .dataframe thead th {\n",
              "        text-align: right;\n",
              "    }\n",
              "</style>\n",
              "<table border=\"1\" class=\"dataframe\">\n",
              "  <thead>\n",
              "    <tr style=\"text-align: right;\">\n",
              "      <th></th>\n",
              "      <th>A</th>\n",
              "      <th>B</th>\n",
              "      <th>C</th>\n",
              "      <th>D</th>\n",
              "    </tr>\n",
              "  </thead>\n",
              "  <tbody>\n",
              "    <tr>\n",
              "      <th>0</th>\n",
              "      <td>0.0</td>\n",
              "      <td>2.0</td>\n",
              "      <td>2.0</td>\n",
              "      <td>0</td>\n",
              "    </tr>\n",
              "    <tr>\n",
              "      <th>1</th>\n",
              "      <td>3.0</td>\n",
              "      <td>4.0</td>\n",
              "      <td>NaN</td>\n",
              "      <td>1</td>\n",
              "    </tr>\n",
              "    <tr>\n",
              "      <th>2</th>\n",
              "      <td>NaN</td>\n",
              "      <td>1.0</td>\n",
              "      <td>NaN</td>\n",
              "      <td>5</td>\n",
              "    </tr>\n",
              "    <tr>\n",
              "      <th>3</th>\n",
              "      <td>NaN</td>\n",
              "      <td>3.0</td>\n",
              "      <td>NaN</td>\n",
              "      <td>4</td>\n",
              "    </tr>\n",
              "  </tbody>\n",
              "</table>\n",
              "</div>"
            ],
            "text/plain": [
              "     A    B    C  D\n",
              "0  0.0  2.0  2.0  0\n",
              "1  3.0  4.0  NaN  1\n",
              "2  NaN  1.0  NaN  5\n",
              "3  NaN  3.0  NaN  4"
            ]
          },
          "metadata": {
            "tags": []
          },
          "execution_count": 35
        }
      ]
    },
    {
      "metadata": {
        "id": "Fs3qCHgpcLN8",
        "colab_type": "code",
        "outputId": "9cbe7c4c-2f26-425a-9fc2-43243b1f8463",
        "colab": {
          "base_uri": "https://localhost:8080/",
          "height": 1992
        }
      },
      "cell_type": "code",
      "source": [
        "nba = pd.read_csv(\"https://cdncontribute.geeksforgeeks.org/wp-content/uploads/nba.csv\")\n",
        "\n",
        "nba"
      ],
      "execution_count": 36,
      "outputs": [
        {
          "output_type": "execute_result",
          "data": {
            "text/html": [
              "<div>\n",
              "<style scoped>\n",
              "    .dataframe tbody tr th:only-of-type {\n",
              "        vertical-align: middle;\n",
              "    }\n",
              "\n",
              "    .dataframe tbody tr th {\n",
              "        vertical-align: top;\n",
              "    }\n",
              "\n",
              "    .dataframe thead th {\n",
              "        text-align: right;\n",
              "    }\n",
              "</style>\n",
              "<table border=\"1\" class=\"dataframe\">\n",
              "  <thead>\n",
              "    <tr style=\"text-align: right;\">\n",
              "      <th></th>\n",
              "      <th>Name</th>\n",
              "      <th>Team</th>\n",
              "      <th>Number</th>\n",
              "      <th>Position</th>\n",
              "      <th>Age</th>\n",
              "      <th>Height</th>\n",
              "      <th>Weight</th>\n",
              "      <th>College</th>\n",
              "      <th>Salary</th>\n",
              "    </tr>\n",
              "  </thead>\n",
              "  <tbody>\n",
              "    <tr>\n",
              "      <th>0</th>\n",
              "      <td>Avery Bradley</td>\n",
              "      <td>Boston Celtics</td>\n",
              "      <td>0.0</td>\n",
              "      <td>PG</td>\n",
              "      <td>25.0</td>\n",
              "      <td>6-2</td>\n",
              "      <td>180.0</td>\n",
              "      <td>Texas</td>\n",
              "      <td>7730337.0</td>\n",
              "    </tr>\n",
              "    <tr>\n",
              "      <th>1</th>\n",
              "      <td>Jae Crowder</td>\n",
              "      <td>Boston Celtics</td>\n",
              "      <td>99.0</td>\n",
              "      <td>SF</td>\n",
              "      <td>25.0</td>\n",
              "      <td>6-6</td>\n",
              "      <td>235.0</td>\n",
              "      <td>Marquette</td>\n",
              "      <td>6796117.0</td>\n",
              "    </tr>\n",
              "    <tr>\n",
              "      <th>2</th>\n",
              "      <td>John Holland</td>\n",
              "      <td>Boston Celtics</td>\n",
              "      <td>30.0</td>\n",
              "      <td>SG</td>\n",
              "      <td>27.0</td>\n",
              "      <td>6-5</td>\n",
              "      <td>205.0</td>\n",
              "      <td>Boston University</td>\n",
              "      <td>NaN</td>\n",
              "    </tr>\n",
              "    <tr>\n",
              "      <th>3</th>\n",
              "      <td>R.J. Hunter</td>\n",
              "      <td>Boston Celtics</td>\n",
              "      <td>28.0</td>\n",
              "      <td>SG</td>\n",
              "      <td>22.0</td>\n",
              "      <td>6-5</td>\n",
              "      <td>185.0</td>\n",
              "      <td>Georgia State</td>\n",
              "      <td>1148640.0</td>\n",
              "    </tr>\n",
              "    <tr>\n",
              "      <th>4</th>\n",
              "      <td>Jonas Jerebko</td>\n",
              "      <td>Boston Celtics</td>\n",
              "      <td>8.0</td>\n",
              "      <td>PF</td>\n",
              "      <td>29.0</td>\n",
              "      <td>6-10</td>\n",
              "      <td>231.0</td>\n",
              "      <td>NaN</td>\n",
              "      <td>5000000.0</td>\n",
              "    </tr>\n",
              "    <tr>\n",
              "      <th>5</th>\n",
              "      <td>Amir Johnson</td>\n",
              "      <td>Boston Celtics</td>\n",
              "      <td>90.0</td>\n",
              "      <td>PF</td>\n",
              "      <td>29.0</td>\n",
              "      <td>6-9</td>\n",
              "      <td>240.0</td>\n",
              "      <td>NaN</td>\n",
              "      <td>12000000.0</td>\n",
              "    </tr>\n",
              "    <tr>\n",
              "      <th>6</th>\n",
              "      <td>Jordan Mickey</td>\n",
              "      <td>Boston Celtics</td>\n",
              "      <td>55.0</td>\n",
              "      <td>PF</td>\n",
              "      <td>21.0</td>\n",
              "      <td>6-8</td>\n",
              "      <td>235.0</td>\n",
              "      <td>LSU</td>\n",
              "      <td>1170960.0</td>\n",
              "    </tr>\n",
              "    <tr>\n",
              "      <th>7</th>\n",
              "      <td>Kelly Olynyk</td>\n",
              "      <td>Boston Celtics</td>\n",
              "      <td>41.0</td>\n",
              "      <td>C</td>\n",
              "      <td>25.0</td>\n",
              "      <td>7-0</td>\n",
              "      <td>238.0</td>\n",
              "      <td>Gonzaga</td>\n",
              "      <td>2165160.0</td>\n",
              "    </tr>\n",
              "    <tr>\n",
              "      <th>8</th>\n",
              "      <td>Terry Rozier</td>\n",
              "      <td>Boston Celtics</td>\n",
              "      <td>12.0</td>\n",
              "      <td>PG</td>\n",
              "      <td>22.0</td>\n",
              "      <td>6-2</td>\n",
              "      <td>190.0</td>\n",
              "      <td>Louisville</td>\n",
              "      <td>1824360.0</td>\n",
              "    </tr>\n",
              "    <tr>\n",
              "      <th>9</th>\n",
              "      <td>Marcus Smart</td>\n",
              "      <td>Boston Celtics</td>\n",
              "      <td>36.0</td>\n",
              "      <td>PG</td>\n",
              "      <td>22.0</td>\n",
              "      <td>6-4</td>\n",
              "      <td>220.0</td>\n",
              "      <td>Oklahoma State</td>\n",
              "      <td>3431040.0</td>\n",
              "    </tr>\n",
              "    <tr>\n",
              "      <th>10</th>\n",
              "      <td>Jared Sullinger</td>\n",
              "      <td>Boston Celtics</td>\n",
              "      <td>7.0</td>\n",
              "      <td>C</td>\n",
              "      <td>24.0</td>\n",
              "      <td>6-9</td>\n",
              "      <td>260.0</td>\n",
              "      <td>Ohio State</td>\n",
              "      <td>2569260.0</td>\n",
              "    </tr>\n",
              "    <tr>\n",
              "      <th>11</th>\n",
              "      <td>Isaiah Thomas</td>\n",
              "      <td>Boston Celtics</td>\n",
              "      <td>4.0</td>\n",
              "      <td>PG</td>\n",
              "      <td>27.0</td>\n",
              "      <td>5-9</td>\n",
              "      <td>185.0</td>\n",
              "      <td>Washington</td>\n",
              "      <td>6912869.0</td>\n",
              "    </tr>\n",
              "    <tr>\n",
              "      <th>12</th>\n",
              "      <td>Evan Turner</td>\n",
              "      <td>Boston Celtics</td>\n",
              "      <td>11.0</td>\n",
              "      <td>SG</td>\n",
              "      <td>27.0</td>\n",
              "      <td>6-7</td>\n",
              "      <td>220.0</td>\n",
              "      <td>Ohio State</td>\n",
              "      <td>3425510.0</td>\n",
              "    </tr>\n",
              "    <tr>\n",
              "      <th>13</th>\n",
              "      <td>James Young</td>\n",
              "      <td>Boston Celtics</td>\n",
              "      <td>13.0</td>\n",
              "      <td>SG</td>\n",
              "      <td>20.0</td>\n",
              "      <td>6-6</td>\n",
              "      <td>215.0</td>\n",
              "      <td>Kentucky</td>\n",
              "      <td>1749840.0</td>\n",
              "    </tr>\n",
              "    <tr>\n",
              "      <th>14</th>\n",
              "      <td>Tyler Zeller</td>\n",
              "      <td>Boston Celtics</td>\n",
              "      <td>44.0</td>\n",
              "      <td>C</td>\n",
              "      <td>26.0</td>\n",
              "      <td>7-0</td>\n",
              "      <td>253.0</td>\n",
              "      <td>North Carolina</td>\n",
              "      <td>2616975.0</td>\n",
              "    </tr>\n",
              "    <tr>\n",
              "      <th>15</th>\n",
              "      <td>Bojan Bogdanovic</td>\n",
              "      <td>Brooklyn Nets</td>\n",
              "      <td>44.0</td>\n",
              "      <td>SG</td>\n",
              "      <td>27.0</td>\n",
              "      <td>6-8</td>\n",
              "      <td>216.0</td>\n",
              "      <td>NaN</td>\n",
              "      <td>3425510.0</td>\n",
              "    </tr>\n",
              "    <tr>\n",
              "      <th>16</th>\n",
              "      <td>Markel Brown</td>\n",
              "      <td>Brooklyn Nets</td>\n",
              "      <td>22.0</td>\n",
              "      <td>SG</td>\n",
              "      <td>24.0</td>\n",
              "      <td>6-3</td>\n",
              "      <td>190.0</td>\n",
              "      <td>Oklahoma State</td>\n",
              "      <td>845059.0</td>\n",
              "    </tr>\n",
              "    <tr>\n",
              "      <th>17</th>\n",
              "      <td>Wayne Ellington</td>\n",
              "      <td>Brooklyn Nets</td>\n",
              "      <td>21.0</td>\n",
              "      <td>SG</td>\n",
              "      <td>28.0</td>\n",
              "      <td>6-4</td>\n",
              "      <td>200.0</td>\n",
              "      <td>North Carolina</td>\n",
              "      <td>1500000.0</td>\n",
              "    </tr>\n",
              "    <tr>\n",
              "      <th>18</th>\n",
              "      <td>Rondae Hollis-Jefferson</td>\n",
              "      <td>Brooklyn Nets</td>\n",
              "      <td>24.0</td>\n",
              "      <td>SG</td>\n",
              "      <td>21.0</td>\n",
              "      <td>6-7</td>\n",
              "      <td>220.0</td>\n",
              "      <td>Arizona</td>\n",
              "      <td>1335480.0</td>\n",
              "    </tr>\n",
              "    <tr>\n",
              "      <th>19</th>\n",
              "      <td>Jarrett Jack</td>\n",
              "      <td>Brooklyn Nets</td>\n",
              "      <td>2.0</td>\n",
              "      <td>PG</td>\n",
              "      <td>32.0</td>\n",
              "      <td>6-3</td>\n",
              "      <td>200.0</td>\n",
              "      <td>Georgia Tech</td>\n",
              "      <td>6300000.0</td>\n",
              "    </tr>\n",
              "    <tr>\n",
              "      <th>20</th>\n",
              "      <td>Sergey Karasev</td>\n",
              "      <td>Brooklyn Nets</td>\n",
              "      <td>10.0</td>\n",
              "      <td>SG</td>\n",
              "      <td>22.0</td>\n",
              "      <td>6-7</td>\n",
              "      <td>208.0</td>\n",
              "      <td>NaN</td>\n",
              "      <td>1599840.0</td>\n",
              "    </tr>\n",
              "    <tr>\n",
              "      <th>21</th>\n",
              "      <td>Sean Kilpatrick</td>\n",
              "      <td>Brooklyn Nets</td>\n",
              "      <td>6.0</td>\n",
              "      <td>SG</td>\n",
              "      <td>26.0</td>\n",
              "      <td>6-4</td>\n",
              "      <td>219.0</td>\n",
              "      <td>Cincinnati</td>\n",
              "      <td>134215.0</td>\n",
              "    </tr>\n",
              "    <tr>\n",
              "      <th>22</th>\n",
              "      <td>Shane Larkin</td>\n",
              "      <td>Brooklyn Nets</td>\n",
              "      <td>0.0</td>\n",
              "      <td>PG</td>\n",
              "      <td>23.0</td>\n",
              "      <td>5-11</td>\n",
              "      <td>175.0</td>\n",
              "      <td>Miami (FL)</td>\n",
              "      <td>1500000.0</td>\n",
              "    </tr>\n",
              "    <tr>\n",
              "      <th>23</th>\n",
              "      <td>Brook Lopez</td>\n",
              "      <td>Brooklyn Nets</td>\n",
              "      <td>11.0</td>\n",
              "      <td>C</td>\n",
              "      <td>28.0</td>\n",
              "      <td>7-0</td>\n",
              "      <td>275.0</td>\n",
              "      <td>Stanford</td>\n",
              "      <td>19689000.0</td>\n",
              "    </tr>\n",
              "    <tr>\n",
              "      <th>24</th>\n",
              "      <td>Chris McCullough</td>\n",
              "      <td>Brooklyn Nets</td>\n",
              "      <td>1.0</td>\n",
              "      <td>PF</td>\n",
              "      <td>21.0</td>\n",
              "      <td>6-11</td>\n",
              "      <td>200.0</td>\n",
              "      <td>Syracuse</td>\n",
              "      <td>1140240.0</td>\n",
              "    </tr>\n",
              "    <tr>\n",
              "      <th>25</th>\n",
              "      <td>Willie Reed</td>\n",
              "      <td>Brooklyn Nets</td>\n",
              "      <td>33.0</td>\n",
              "      <td>PF</td>\n",
              "      <td>26.0</td>\n",
              "      <td>6-10</td>\n",
              "      <td>220.0</td>\n",
              "      <td>Saint Louis</td>\n",
              "      <td>947276.0</td>\n",
              "    </tr>\n",
              "    <tr>\n",
              "      <th>26</th>\n",
              "      <td>Thomas Robinson</td>\n",
              "      <td>Brooklyn Nets</td>\n",
              "      <td>41.0</td>\n",
              "      <td>PF</td>\n",
              "      <td>25.0</td>\n",
              "      <td>6-10</td>\n",
              "      <td>237.0</td>\n",
              "      <td>Kansas</td>\n",
              "      <td>981348.0</td>\n",
              "    </tr>\n",
              "    <tr>\n",
              "      <th>27</th>\n",
              "      <td>Henry Sims</td>\n",
              "      <td>Brooklyn Nets</td>\n",
              "      <td>14.0</td>\n",
              "      <td>C</td>\n",
              "      <td>26.0</td>\n",
              "      <td>6-10</td>\n",
              "      <td>248.0</td>\n",
              "      <td>Georgetown</td>\n",
              "      <td>947276.0</td>\n",
              "    </tr>\n",
              "    <tr>\n",
              "      <th>28</th>\n",
              "      <td>Donald Sloan</td>\n",
              "      <td>Brooklyn Nets</td>\n",
              "      <td>15.0</td>\n",
              "      <td>PG</td>\n",
              "      <td>28.0</td>\n",
              "      <td>6-3</td>\n",
              "      <td>205.0</td>\n",
              "      <td>Texas A&amp;M</td>\n",
              "      <td>947276.0</td>\n",
              "    </tr>\n",
              "    <tr>\n",
              "      <th>29</th>\n",
              "      <td>Thaddeus Young</td>\n",
              "      <td>Brooklyn Nets</td>\n",
              "      <td>30.0</td>\n",
              "      <td>PF</td>\n",
              "      <td>27.0</td>\n",
              "      <td>6-8</td>\n",
              "      <td>221.0</td>\n",
              "      <td>Georgia Tech</td>\n",
              "      <td>11235955.0</td>\n",
              "    </tr>\n",
              "    <tr>\n",
              "      <th>...</th>\n",
              "      <td>...</td>\n",
              "      <td>...</td>\n",
              "      <td>...</td>\n",
              "      <td>...</td>\n",
              "      <td>...</td>\n",
              "      <td>...</td>\n",
              "      <td>...</td>\n",
              "      <td>...</td>\n",
              "      <td>...</td>\n",
              "    </tr>\n",
              "    <tr>\n",
              "      <th>428</th>\n",
              "      <td>Al-Farouq Aminu</td>\n",
              "      <td>Portland Trail Blazers</td>\n",
              "      <td>8.0</td>\n",
              "      <td>SF</td>\n",
              "      <td>25.0</td>\n",
              "      <td>6-9</td>\n",
              "      <td>215.0</td>\n",
              "      <td>Wake Forest</td>\n",
              "      <td>8042895.0</td>\n",
              "    </tr>\n",
              "    <tr>\n",
              "      <th>429</th>\n",
              "      <td>Pat Connaughton</td>\n",
              "      <td>Portland Trail Blazers</td>\n",
              "      <td>5.0</td>\n",
              "      <td>SG</td>\n",
              "      <td>23.0</td>\n",
              "      <td>6-5</td>\n",
              "      <td>206.0</td>\n",
              "      <td>Notre Dame</td>\n",
              "      <td>625093.0</td>\n",
              "    </tr>\n",
              "    <tr>\n",
              "      <th>430</th>\n",
              "      <td>Allen Crabbe</td>\n",
              "      <td>Portland Trail Blazers</td>\n",
              "      <td>23.0</td>\n",
              "      <td>SG</td>\n",
              "      <td>24.0</td>\n",
              "      <td>6-6</td>\n",
              "      <td>210.0</td>\n",
              "      <td>California</td>\n",
              "      <td>947276.0</td>\n",
              "    </tr>\n",
              "    <tr>\n",
              "      <th>431</th>\n",
              "      <td>Ed Davis</td>\n",
              "      <td>Portland Trail Blazers</td>\n",
              "      <td>17.0</td>\n",
              "      <td>C</td>\n",
              "      <td>27.0</td>\n",
              "      <td>6-10</td>\n",
              "      <td>240.0</td>\n",
              "      <td>North Carolina</td>\n",
              "      <td>6980802.0</td>\n",
              "    </tr>\n",
              "    <tr>\n",
              "      <th>432</th>\n",
              "      <td>Maurice Harkless</td>\n",
              "      <td>Portland Trail Blazers</td>\n",
              "      <td>4.0</td>\n",
              "      <td>SF</td>\n",
              "      <td>23.0</td>\n",
              "      <td>6-9</td>\n",
              "      <td>215.0</td>\n",
              "      <td>St. John's</td>\n",
              "      <td>2894059.0</td>\n",
              "    </tr>\n",
              "    <tr>\n",
              "      <th>433</th>\n",
              "      <td>Gerald Henderson</td>\n",
              "      <td>Portland Trail Blazers</td>\n",
              "      <td>9.0</td>\n",
              "      <td>SG</td>\n",
              "      <td>28.0</td>\n",
              "      <td>6-5</td>\n",
              "      <td>215.0</td>\n",
              "      <td>Duke</td>\n",
              "      <td>6000000.0</td>\n",
              "    </tr>\n",
              "    <tr>\n",
              "      <th>434</th>\n",
              "      <td>Chris Kaman</td>\n",
              "      <td>Portland Trail Blazers</td>\n",
              "      <td>35.0</td>\n",
              "      <td>C</td>\n",
              "      <td>34.0</td>\n",
              "      <td>7-0</td>\n",
              "      <td>265.0</td>\n",
              "      <td>Central Michigan</td>\n",
              "      <td>5016000.0</td>\n",
              "    </tr>\n",
              "    <tr>\n",
              "      <th>435</th>\n",
              "      <td>Meyers Leonard</td>\n",
              "      <td>Portland Trail Blazers</td>\n",
              "      <td>11.0</td>\n",
              "      <td>PF</td>\n",
              "      <td>24.0</td>\n",
              "      <td>7-1</td>\n",
              "      <td>245.0</td>\n",
              "      <td>Illinois</td>\n",
              "      <td>3075880.0</td>\n",
              "    </tr>\n",
              "    <tr>\n",
              "      <th>436</th>\n",
              "      <td>Damian Lillard</td>\n",
              "      <td>Portland Trail Blazers</td>\n",
              "      <td>0.0</td>\n",
              "      <td>PG</td>\n",
              "      <td>25.0</td>\n",
              "      <td>6-3</td>\n",
              "      <td>195.0</td>\n",
              "      <td>Weber State</td>\n",
              "      <td>4236287.0</td>\n",
              "    </tr>\n",
              "    <tr>\n",
              "      <th>437</th>\n",
              "      <td>C.J. McCollum</td>\n",
              "      <td>Portland Trail Blazers</td>\n",
              "      <td>3.0</td>\n",
              "      <td>SG</td>\n",
              "      <td>24.0</td>\n",
              "      <td>6-4</td>\n",
              "      <td>200.0</td>\n",
              "      <td>Lehigh</td>\n",
              "      <td>2525160.0</td>\n",
              "    </tr>\n",
              "    <tr>\n",
              "      <th>438</th>\n",
              "      <td>Luis Montero</td>\n",
              "      <td>Portland Trail Blazers</td>\n",
              "      <td>44.0</td>\n",
              "      <td>SG</td>\n",
              "      <td>23.0</td>\n",
              "      <td>6-7</td>\n",
              "      <td>185.0</td>\n",
              "      <td>Westchester CC</td>\n",
              "      <td>525093.0</td>\n",
              "    </tr>\n",
              "    <tr>\n",
              "      <th>439</th>\n",
              "      <td>Mason Plumlee</td>\n",
              "      <td>Portland Trail Blazers</td>\n",
              "      <td>24.0</td>\n",
              "      <td>C</td>\n",
              "      <td>26.0</td>\n",
              "      <td>6-11</td>\n",
              "      <td>235.0</td>\n",
              "      <td>Duke</td>\n",
              "      <td>1415520.0</td>\n",
              "    </tr>\n",
              "    <tr>\n",
              "      <th>440</th>\n",
              "      <td>Brian Roberts</td>\n",
              "      <td>Portland Trail Blazers</td>\n",
              "      <td>2.0</td>\n",
              "      <td>PG</td>\n",
              "      <td>30.0</td>\n",
              "      <td>6-1</td>\n",
              "      <td>173.0</td>\n",
              "      <td>Dayton</td>\n",
              "      <td>2854940.0</td>\n",
              "    </tr>\n",
              "    <tr>\n",
              "      <th>441</th>\n",
              "      <td>Noah Vonleh</td>\n",
              "      <td>Portland Trail Blazers</td>\n",
              "      <td>21.0</td>\n",
              "      <td>PF</td>\n",
              "      <td>20.0</td>\n",
              "      <td>6-9</td>\n",
              "      <td>240.0</td>\n",
              "      <td>Indiana</td>\n",
              "      <td>2637720.0</td>\n",
              "    </tr>\n",
              "    <tr>\n",
              "      <th>442</th>\n",
              "      <td>Trevor Booker</td>\n",
              "      <td>Utah Jazz</td>\n",
              "      <td>33.0</td>\n",
              "      <td>PF</td>\n",
              "      <td>28.0</td>\n",
              "      <td>6-8</td>\n",
              "      <td>228.0</td>\n",
              "      <td>Clemson</td>\n",
              "      <td>4775000.0</td>\n",
              "    </tr>\n",
              "    <tr>\n",
              "      <th>443</th>\n",
              "      <td>Trey Burke</td>\n",
              "      <td>Utah Jazz</td>\n",
              "      <td>3.0</td>\n",
              "      <td>PG</td>\n",
              "      <td>23.0</td>\n",
              "      <td>6-1</td>\n",
              "      <td>191.0</td>\n",
              "      <td>Michigan</td>\n",
              "      <td>2658240.0</td>\n",
              "    </tr>\n",
              "    <tr>\n",
              "      <th>444</th>\n",
              "      <td>Alec Burks</td>\n",
              "      <td>Utah Jazz</td>\n",
              "      <td>10.0</td>\n",
              "      <td>SG</td>\n",
              "      <td>24.0</td>\n",
              "      <td>6-6</td>\n",
              "      <td>214.0</td>\n",
              "      <td>Colorado</td>\n",
              "      <td>9463484.0</td>\n",
              "    </tr>\n",
              "    <tr>\n",
              "      <th>445</th>\n",
              "      <td>Dante Exum</td>\n",
              "      <td>Utah Jazz</td>\n",
              "      <td>11.0</td>\n",
              "      <td>PG</td>\n",
              "      <td>20.0</td>\n",
              "      <td>6-6</td>\n",
              "      <td>190.0</td>\n",
              "      <td>NaN</td>\n",
              "      <td>3777720.0</td>\n",
              "    </tr>\n",
              "    <tr>\n",
              "      <th>446</th>\n",
              "      <td>Derrick Favors</td>\n",
              "      <td>Utah Jazz</td>\n",
              "      <td>15.0</td>\n",
              "      <td>PF</td>\n",
              "      <td>24.0</td>\n",
              "      <td>6-10</td>\n",
              "      <td>265.0</td>\n",
              "      <td>Georgia Tech</td>\n",
              "      <td>12000000.0</td>\n",
              "    </tr>\n",
              "    <tr>\n",
              "      <th>447</th>\n",
              "      <td>Rudy Gobert</td>\n",
              "      <td>Utah Jazz</td>\n",
              "      <td>27.0</td>\n",
              "      <td>C</td>\n",
              "      <td>23.0</td>\n",
              "      <td>7-1</td>\n",
              "      <td>245.0</td>\n",
              "      <td>NaN</td>\n",
              "      <td>1175880.0</td>\n",
              "    </tr>\n",
              "    <tr>\n",
              "      <th>448</th>\n",
              "      <td>Gordon Hayward</td>\n",
              "      <td>Utah Jazz</td>\n",
              "      <td>20.0</td>\n",
              "      <td>SF</td>\n",
              "      <td>26.0</td>\n",
              "      <td>6-8</td>\n",
              "      <td>226.0</td>\n",
              "      <td>Butler</td>\n",
              "      <td>15409570.0</td>\n",
              "    </tr>\n",
              "    <tr>\n",
              "      <th>449</th>\n",
              "      <td>Rodney Hood</td>\n",
              "      <td>Utah Jazz</td>\n",
              "      <td>5.0</td>\n",
              "      <td>SG</td>\n",
              "      <td>23.0</td>\n",
              "      <td>6-8</td>\n",
              "      <td>206.0</td>\n",
              "      <td>Duke</td>\n",
              "      <td>1348440.0</td>\n",
              "    </tr>\n",
              "    <tr>\n",
              "      <th>450</th>\n",
              "      <td>Joe Ingles</td>\n",
              "      <td>Utah Jazz</td>\n",
              "      <td>2.0</td>\n",
              "      <td>SF</td>\n",
              "      <td>28.0</td>\n",
              "      <td>6-8</td>\n",
              "      <td>226.0</td>\n",
              "      <td>NaN</td>\n",
              "      <td>2050000.0</td>\n",
              "    </tr>\n",
              "    <tr>\n",
              "      <th>451</th>\n",
              "      <td>Chris Johnson</td>\n",
              "      <td>Utah Jazz</td>\n",
              "      <td>23.0</td>\n",
              "      <td>SF</td>\n",
              "      <td>26.0</td>\n",
              "      <td>6-6</td>\n",
              "      <td>206.0</td>\n",
              "      <td>Dayton</td>\n",
              "      <td>981348.0</td>\n",
              "    </tr>\n",
              "    <tr>\n",
              "      <th>452</th>\n",
              "      <td>Trey Lyles</td>\n",
              "      <td>Utah Jazz</td>\n",
              "      <td>41.0</td>\n",
              "      <td>PF</td>\n",
              "      <td>20.0</td>\n",
              "      <td>6-10</td>\n",
              "      <td>234.0</td>\n",
              "      <td>Kentucky</td>\n",
              "      <td>2239800.0</td>\n",
              "    </tr>\n",
              "    <tr>\n",
              "      <th>453</th>\n",
              "      <td>Shelvin Mack</td>\n",
              "      <td>Utah Jazz</td>\n",
              "      <td>8.0</td>\n",
              "      <td>PG</td>\n",
              "      <td>26.0</td>\n",
              "      <td>6-3</td>\n",
              "      <td>203.0</td>\n",
              "      <td>Butler</td>\n",
              "      <td>2433333.0</td>\n",
              "    </tr>\n",
              "    <tr>\n",
              "      <th>454</th>\n",
              "      <td>Raul Neto</td>\n",
              "      <td>Utah Jazz</td>\n",
              "      <td>25.0</td>\n",
              "      <td>PG</td>\n",
              "      <td>24.0</td>\n",
              "      <td>6-1</td>\n",
              "      <td>179.0</td>\n",
              "      <td>NaN</td>\n",
              "      <td>900000.0</td>\n",
              "    </tr>\n",
              "    <tr>\n",
              "      <th>455</th>\n",
              "      <td>Tibor Pleiss</td>\n",
              "      <td>Utah Jazz</td>\n",
              "      <td>21.0</td>\n",
              "      <td>C</td>\n",
              "      <td>26.0</td>\n",
              "      <td>7-3</td>\n",
              "      <td>256.0</td>\n",
              "      <td>NaN</td>\n",
              "      <td>2900000.0</td>\n",
              "    </tr>\n",
              "    <tr>\n",
              "      <th>456</th>\n",
              "      <td>Jeff Withey</td>\n",
              "      <td>Utah Jazz</td>\n",
              "      <td>24.0</td>\n",
              "      <td>C</td>\n",
              "      <td>26.0</td>\n",
              "      <td>7-0</td>\n",
              "      <td>231.0</td>\n",
              "      <td>Kansas</td>\n",
              "      <td>947276.0</td>\n",
              "    </tr>\n",
              "    <tr>\n",
              "      <th>457</th>\n",
              "      <td>NaN</td>\n",
              "      <td>NaN</td>\n",
              "      <td>NaN</td>\n",
              "      <td>NaN</td>\n",
              "      <td>NaN</td>\n",
              "      <td>NaN</td>\n",
              "      <td>NaN</td>\n",
              "      <td>NaN</td>\n",
              "      <td>NaN</td>\n",
              "    </tr>\n",
              "  </tbody>\n",
              "</table>\n",
              "<p>458 rows × 9 columns</p>\n",
              "</div>"
            ],
            "text/plain": [
              "                        Name                    Team  Number Position   Age  \\\n",
              "0              Avery Bradley          Boston Celtics     0.0       PG  25.0   \n",
              "1                Jae Crowder          Boston Celtics    99.0       SF  25.0   \n",
              "2               John Holland          Boston Celtics    30.0       SG  27.0   \n",
              "3                R.J. Hunter          Boston Celtics    28.0       SG  22.0   \n",
              "4              Jonas Jerebko          Boston Celtics     8.0       PF  29.0   \n",
              "5               Amir Johnson          Boston Celtics    90.0       PF  29.0   \n",
              "6              Jordan Mickey          Boston Celtics    55.0       PF  21.0   \n",
              "7               Kelly Olynyk          Boston Celtics    41.0        C  25.0   \n",
              "8               Terry Rozier          Boston Celtics    12.0       PG  22.0   \n",
              "9               Marcus Smart          Boston Celtics    36.0       PG  22.0   \n",
              "10           Jared Sullinger          Boston Celtics     7.0        C  24.0   \n",
              "11             Isaiah Thomas          Boston Celtics     4.0       PG  27.0   \n",
              "12               Evan Turner          Boston Celtics    11.0       SG  27.0   \n",
              "13               James Young          Boston Celtics    13.0       SG  20.0   \n",
              "14              Tyler Zeller          Boston Celtics    44.0        C  26.0   \n",
              "15          Bojan Bogdanovic           Brooklyn Nets    44.0       SG  27.0   \n",
              "16              Markel Brown           Brooklyn Nets    22.0       SG  24.0   \n",
              "17           Wayne Ellington           Brooklyn Nets    21.0       SG  28.0   \n",
              "18   Rondae Hollis-Jefferson           Brooklyn Nets    24.0       SG  21.0   \n",
              "19              Jarrett Jack           Brooklyn Nets     2.0       PG  32.0   \n",
              "20            Sergey Karasev           Brooklyn Nets    10.0       SG  22.0   \n",
              "21           Sean Kilpatrick           Brooklyn Nets     6.0       SG  26.0   \n",
              "22              Shane Larkin           Brooklyn Nets     0.0       PG  23.0   \n",
              "23               Brook Lopez           Brooklyn Nets    11.0        C  28.0   \n",
              "24          Chris McCullough           Brooklyn Nets     1.0       PF  21.0   \n",
              "25               Willie Reed           Brooklyn Nets    33.0       PF  26.0   \n",
              "26           Thomas Robinson           Brooklyn Nets    41.0       PF  25.0   \n",
              "27                Henry Sims           Brooklyn Nets    14.0        C  26.0   \n",
              "28              Donald Sloan           Brooklyn Nets    15.0       PG  28.0   \n",
              "29            Thaddeus Young           Brooklyn Nets    30.0       PF  27.0   \n",
              "..                       ...                     ...     ...      ...   ...   \n",
              "428          Al-Farouq Aminu  Portland Trail Blazers     8.0       SF  25.0   \n",
              "429          Pat Connaughton  Portland Trail Blazers     5.0       SG  23.0   \n",
              "430             Allen Crabbe  Portland Trail Blazers    23.0       SG  24.0   \n",
              "431                 Ed Davis  Portland Trail Blazers    17.0        C  27.0   \n",
              "432         Maurice Harkless  Portland Trail Blazers     4.0       SF  23.0   \n",
              "433         Gerald Henderson  Portland Trail Blazers     9.0       SG  28.0   \n",
              "434              Chris Kaman  Portland Trail Blazers    35.0        C  34.0   \n",
              "435           Meyers Leonard  Portland Trail Blazers    11.0       PF  24.0   \n",
              "436           Damian Lillard  Portland Trail Blazers     0.0       PG  25.0   \n",
              "437            C.J. McCollum  Portland Trail Blazers     3.0       SG  24.0   \n",
              "438             Luis Montero  Portland Trail Blazers    44.0       SG  23.0   \n",
              "439            Mason Plumlee  Portland Trail Blazers    24.0        C  26.0   \n",
              "440            Brian Roberts  Portland Trail Blazers     2.0       PG  30.0   \n",
              "441              Noah Vonleh  Portland Trail Blazers    21.0       PF  20.0   \n",
              "442            Trevor Booker               Utah Jazz    33.0       PF  28.0   \n",
              "443               Trey Burke               Utah Jazz     3.0       PG  23.0   \n",
              "444               Alec Burks               Utah Jazz    10.0       SG  24.0   \n",
              "445               Dante Exum               Utah Jazz    11.0       PG  20.0   \n",
              "446           Derrick Favors               Utah Jazz    15.0       PF  24.0   \n",
              "447              Rudy Gobert               Utah Jazz    27.0        C  23.0   \n",
              "448           Gordon Hayward               Utah Jazz    20.0       SF  26.0   \n",
              "449              Rodney Hood               Utah Jazz     5.0       SG  23.0   \n",
              "450               Joe Ingles               Utah Jazz     2.0       SF  28.0   \n",
              "451            Chris Johnson               Utah Jazz    23.0       SF  26.0   \n",
              "452               Trey Lyles               Utah Jazz    41.0       PF  20.0   \n",
              "453             Shelvin Mack               Utah Jazz     8.0       PG  26.0   \n",
              "454                Raul Neto               Utah Jazz    25.0       PG  24.0   \n",
              "455             Tibor Pleiss               Utah Jazz    21.0        C  26.0   \n",
              "456              Jeff Withey               Utah Jazz    24.0        C  26.0   \n",
              "457                      NaN                     NaN     NaN      NaN   NaN   \n",
              "\n",
              "    Height  Weight            College      Salary  \n",
              "0      6-2   180.0              Texas   7730337.0  \n",
              "1      6-6   235.0          Marquette   6796117.0  \n",
              "2      6-5   205.0  Boston University         NaN  \n",
              "3      6-5   185.0      Georgia State   1148640.0  \n",
              "4     6-10   231.0                NaN   5000000.0  \n",
              "5      6-9   240.0                NaN  12000000.0  \n",
              "6      6-8   235.0                LSU   1170960.0  \n",
              "7      7-0   238.0            Gonzaga   2165160.0  \n",
              "8      6-2   190.0         Louisville   1824360.0  \n",
              "9      6-4   220.0     Oklahoma State   3431040.0  \n",
              "10     6-9   260.0         Ohio State   2569260.0  \n",
              "11     5-9   185.0         Washington   6912869.0  \n",
              "12     6-7   220.0         Ohio State   3425510.0  \n",
              "13     6-6   215.0           Kentucky   1749840.0  \n",
              "14     7-0   253.0     North Carolina   2616975.0  \n",
              "15     6-8   216.0                NaN   3425510.0  \n",
              "16     6-3   190.0     Oklahoma State    845059.0  \n",
              "17     6-4   200.0     North Carolina   1500000.0  \n",
              "18     6-7   220.0            Arizona   1335480.0  \n",
              "19     6-3   200.0       Georgia Tech   6300000.0  \n",
              "20     6-7   208.0                NaN   1599840.0  \n",
              "21     6-4   219.0         Cincinnati    134215.0  \n",
              "22    5-11   175.0         Miami (FL)   1500000.0  \n",
              "23     7-0   275.0           Stanford  19689000.0  \n",
              "24    6-11   200.0           Syracuse   1140240.0  \n",
              "25    6-10   220.0        Saint Louis    947276.0  \n",
              "26    6-10   237.0             Kansas    981348.0  \n",
              "27    6-10   248.0         Georgetown    947276.0  \n",
              "28     6-3   205.0          Texas A&M    947276.0  \n",
              "29     6-8   221.0       Georgia Tech  11235955.0  \n",
              "..     ...     ...                ...         ...  \n",
              "428    6-9   215.0        Wake Forest   8042895.0  \n",
              "429    6-5   206.0         Notre Dame    625093.0  \n",
              "430    6-6   210.0         California    947276.0  \n",
              "431   6-10   240.0     North Carolina   6980802.0  \n",
              "432    6-9   215.0         St. John's   2894059.0  \n",
              "433    6-5   215.0               Duke   6000000.0  \n",
              "434    7-0   265.0   Central Michigan   5016000.0  \n",
              "435    7-1   245.0           Illinois   3075880.0  \n",
              "436    6-3   195.0        Weber State   4236287.0  \n",
              "437    6-4   200.0             Lehigh   2525160.0  \n",
              "438    6-7   185.0     Westchester CC    525093.0  \n",
              "439   6-11   235.0               Duke   1415520.0  \n",
              "440    6-1   173.0             Dayton   2854940.0  \n",
              "441    6-9   240.0            Indiana   2637720.0  \n",
              "442    6-8   228.0            Clemson   4775000.0  \n",
              "443    6-1   191.0           Michigan   2658240.0  \n",
              "444    6-6   214.0           Colorado   9463484.0  \n",
              "445    6-6   190.0                NaN   3777720.0  \n",
              "446   6-10   265.0       Georgia Tech  12000000.0  \n",
              "447    7-1   245.0                NaN   1175880.0  \n",
              "448    6-8   226.0             Butler  15409570.0  \n",
              "449    6-8   206.0               Duke   1348440.0  \n",
              "450    6-8   226.0                NaN   2050000.0  \n",
              "451    6-6   206.0             Dayton    981348.0  \n",
              "452   6-10   234.0           Kentucky   2239800.0  \n",
              "453    6-3   203.0             Butler   2433333.0  \n",
              "454    6-1   179.0                NaN    900000.0  \n",
              "455    7-3   256.0                NaN   2900000.0  \n",
              "456    7-0   231.0             Kansas    947276.0  \n",
              "457    NaN     NaN                NaN         NaN  \n",
              "\n",
              "[458 rows x 9 columns]"
            ]
          },
          "metadata": {
            "tags": []
          },
          "execution_count": 36
        }
      ]
    },
    {
      "metadata": {
        "id": "GGeSn43sc57U",
        "colab_type": "code",
        "outputId": "c6df8c50-8749-490b-ef8b-0e6a553fb0fd",
        "colab": {
          "base_uri": "https://localhost:8080/",
          "height": 1992
        }
      },
      "cell_type": "code",
      "source": [
        "nba[\"College\"].fillna(\"No College\", inplace = True)\n",
        "\n",
        "nba"
      ],
      "execution_count": 37,
      "outputs": [
        {
          "output_type": "execute_result",
          "data": {
            "text/html": [
              "<div>\n",
              "<style scoped>\n",
              "    .dataframe tbody tr th:only-of-type {\n",
              "        vertical-align: middle;\n",
              "    }\n",
              "\n",
              "    .dataframe tbody tr th {\n",
              "        vertical-align: top;\n",
              "    }\n",
              "\n",
              "    .dataframe thead th {\n",
              "        text-align: right;\n",
              "    }\n",
              "</style>\n",
              "<table border=\"1\" class=\"dataframe\">\n",
              "  <thead>\n",
              "    <tr style=\"text-align: right;\">\n",
              "      <th></th>\n",
              "      <th>Name</th>\n",
              "      <th>Team</th>\n",
              "      <th>Number</th>\n",
              "      <th>Position</th>\n",
              "      <th>Age</th>\n",
              "      <th>Height</th>\n",
              "      <th>Weight</th>\n",
              "      <th>College</th>\n",
              "      <th>Salary</th>\n",
              "    </tr>\n",
              "  </thead>\n",
              "  <tbody>\n",
              "    <tr>\n",
              "      <th>0</th>\n",
              "      <td>Avery Bradley</td>\n",
              "      <td>Boston Celtics</td>\n",
              "      <td>0.0</td>\n",
              "      <td>PG</td>\n",
              "      <td>25.0</td>\n",
              "      <td>6-2</td>\n",
              "      <td>180.0</td>\n",
              "      <td>Texas</td>\n",
              "      <td>7730337.0</td>\n",
              "    </tr>\n",
              "    <tr>\n",
              "      <th>1</th>\n",
              "      <td>Jae Crowder</td>\n",
              "      <td>Boston Celtics</td>\n",
              "      <td>99.0</td>\n",
              "      <td>SF</td>\n",
              "      <td>25.0</td>\n",
              "      <td>6-6</td>\n",
              "      <td>235.0</td>\n",
              "      <td>Marquette</td>\n",
              "      <td>6796117.0</td>\n",
              "    </tr>\n",
              "    <tr>\n",
              "      <th>2</th>\n",
              "      <td>John Holland</td>\n",
              "      <td>Boston Celtics</td>\n",
              "      <td>30.0</td>\n",
              "      <td>SG</td>\n",
              "      <td>27.0</td>\n",
              "      <td>6-5</td>\n",
              "      <td>205.0</td>\n",
              "      <td>Boston University</td>\n",
              "      <td>NaN</td>\n",
              "    </tr>\n",
              "    <tr>\n",
              "      <th>3</th>\n",
              "      <td>R.J. Hunter</td>\n",
              "      <td>Boston Celtics</td>\n",
              "      <td>28.0</td>\n",
              "      <td>SG</td>\n",
              "      <td>22.0</td>\n",
              "      <td>6-5</td>\n",
              "      <td>185.0</td>\n",
              "      <td>Georgia State</td>\n",
              "      <td>1148640.0</td>\n",
              "    </tr>\n",
              "    <tr>\n",
              "      <th>4</th>\n",
              "      <td>Jonas Jerebko</td>\n",
              "      <td>Boston Celtics</td>\n",
              "      <td>8.0</td>\n",
              "      <td>PF</td>\n",
              "      <td>29.0</td>\n",
              "      <td>6-10</td>\n",
              "      <td>231.0</td>\n",
              "      <td>No College</td>\n",
              "      <td>5000000.0</td>\n",
              "    </tr>\n",
              "    <tr>\n",
              "      <th>5</th>\n",
              "      <td>Amir Johnson</td>\n",
              "      <td>Boston Celtics</td>\n",
              "      <td>90.0</td>\n",
              "      <td>PF</td>\n",
              "      <td>29.0</td>\n",
              "      <td>6-9</td>\n",
              "      <td>240.0</td>\n",
              "      <td>No College</td>\n",
              "      <td>12000000.0</td>\n",
              "    </tr>\n",
              "    <tr>\n",
              "      <th>6</th>\n",
              "      <td>Jordan Mickey</td>\n",
              "      <td>Boston Celtics</td>\n",
              "      <td>55.0</td>\n",
              "      <td>PF</td>\n",
              "      <td>21.0</td>\n",
              "      <td>6-8</td>\n",
              "      <td>235.0</td>\n",
              "      <td>LSU</td>\n",
              "      <td>1170960.0</td>\n",
              "    </tr>\n",
              "    <tr>\n",
              "      <th>7</th>\n",
              "      <td>Kelly Olynyk</td>\n",
              "      <td>Boston Celtics</td>\n",
              "      <td>41.0</td>\n",
              "      <td>C</td>\n",
              "      <td>25.0</td>\n",
              "      <td>7-0</td>\n",
              "      <td>238.0</td>\n",
              "      <td>Gonzaga</td>\n",
              "      <td>2165160.0</td>\n",
              "    </tr>\n",
              "    <tr>\n",
              "      <th>8</th>\n",
              "      <td>Terry Rozier</td>\n",
              "      <td>Boston Celtics</td>\n",
              "      <td>12.0</td>\n",
              "      <td>PG</td>\n",
              "      <td>22.0</td>\n",
              "      <td>6-2</td>\n",
              "      <td>190.0</td>\n",
              "      <td>Louisville</td>\n",
              "      <td>1824360.0</td>\n",
              "    </tr>\n",
              "    <tr>\n",
              "      <th>9</th>\n",
              "      <td>Marcus Smart</td>\n",
              "      <td>Boston Celtics</td>\n",
              "      <td>36.0</td>\n",
              "      <td>PG</td>\n",
              "      <td>22.0</td>\n",
              "      <td>6-4</td>\n",
              "      <td>220.0</td>\n",
              "      <td>Oklahoma State</td>\n",
              "      <td>3431040.0</td>\n",
              "    </tr>\n",
              "    <tr>\n",
              "      <th>10</th>\n",
              "      <td>Jared Sullinger</td>\n",
              "      <td>Boston Celtics</td>\n",
              "      <td>7.0</td>\n",
              "      <td>C</td>\n",
              "      <td>24.0</td>\n",
              "      <td>6-9</td>\n",
              "      <td>260.0</td>\n",
              "      <td>Ohio State</td>\n",
              "      <td>2569260.0</td>\n",
              "    </tr>\n",
              "    <tr>\n",
              "      <th>11</th>\n",
              "      <td>Isaiah Thomas</td>\n",
              "      <td>Boston Celtics</td>\n",
              "      <td>4.0</td>\n",
              "      <td>PG</td>\n",
              "      <td>27.0</td>\n",
              "      <td>5-9</td>\n",
              "      <td>185.0</td>\n",
              "      <td>Washington</td>\n",
              "      <td>6912869.0</td>\n",
              "    </tr>\n",
              "    <tr>\n",
              "      <th>12</th>\n",
              "      <td>Evan Turner</td>\n",
              "      <td>Boston Celtics</td>\n",
              "      <td>11.0</td>\n",
              "      <td>SG</td>\n",
              "      <td>27.0</td>\n",
              "      <td>6-7</td>\n",
              "      <td>220.0</td>\n",
              "      <td>Ohio State</td>\n",
              "      <td>3425510.0</td>\n",
              "    </tr>\n",
              "    <tr>\n",
              "      <th>13</th>\n",
              "      <td>James Young</td>\n",
              "      <td>Boston Celtics</td>\n",
              "      <td>13.0</td>\n",
              "      <td>SG</td>\n",
              "      <td>20.0</td>\n",
              "      <td>6-6</td>\n",
              "      <td>215.0</td>\n",
              "      <td>Kentucky</td>\n",
              "      <td>1749840.0</td>\n",
              "    </tr>\n",
              "    <tr>\n",
              "      <th>14</th>\n",
              "      <td>Tyler Zeller</td>\n",
              "      <td>Boston Celtics</td>\n",
              "      <td>44.0</td>\n",
              "      <td>C</td>\n",
              "      <td>26.0</td>\n",
              "      <td>7-0</td>\n",
              "      <td>253.0</td>\n",
              "      <td>North Carolina</td>\n",
              "      <td>2616975.0</td>\n",
              "    </tr>\n",
              "    <tr>\n",
              "      <th>15</th>\n",
              "      <td>Bojan Bogdanovic</td>\n",
              "      <td>Brooklyn Nets</td>\n",
              "      <td>44.0</td>\n",
              "      <td>SG</td>\n",
              "      <td>27.0</td>\n",
              "      <td>6-8</td>\n",
              "      <td>216.0</td>\n",
              "      <td>No College</td>\n",
              "      <td>3425510.0</td>\n",
              "    </tr>\n",
              "    <tr>\n",
              "      <th>16</th>\n",
              "      <td>Markel Brown</td>\n",
              "      <td>Brooklyn Nets</td>\n",
              "      <td>22.0</td>\n",
              "      <td>SG</td>\n",
              "      <td>24.0</td>\n",
              "      <td>6-3</td>\n",
              "      <td>190.0</td>\n",
              "      <td>Oklahoma State</td>\n",
              "      <td>845059.0</td>\n",
              "    </tr>\n",
              "    <tr>\n",
              "      <th>17</th>\n",
              "      <td>Wayne Ellington</td>\n",
              "      <td>Brooklyn Nets</td>\n",
              "      <td>21.0</td>\n",
              "      <td>SG</td>\n",
              "      <td>28.0</td>\n",
              "      <td>6-4</td>\n",
              "      <td>200.0</td>\n",
              "      <td>North Carolina</td>\n",
              "      <td>1500000.0</td>\n",
              "    </tr>\n",
              "    <tr>\n",
              "      <th>18</th>\n",
              "      <td>Rondae Hollis-Jefferson</td>\n",
              "      <td>Brooklyn Nets</td>\n",
              "      <td>24.0</td>\n",
              "      <td>SG</td>\n",
              "      <td>21.0</td>\n",
              "      <td>6-7</td>\n",
              "      <td>220.0</td>\n",
              "      <td>Arizona</td>\n",
              "      <td>1335480.0</td>\n",
              "    </tr>\n",
              "    <tr>\n",
              "      <th>19</th>\n",
              "      <td>Jarrett Jack</td>\n",
              "      <td>Brooklyn Nets</td>\n",
              "      <td>2.0</td>\n",
              "      <td>PG</td>\n",
              "      <td>32.0</td>\n",
              "      <td>6-3</td>\n",
              "      <td>200.0</td>\n",
              "      <td>Georgia Tech</td>\n",
              "      <td>6300000.0</td>\n",
              "    </tr>\n",
              "    <tr>\n",
              "      <th>20</th>\n",
              "      <td>Sergey Karasev</td>\n",
              "      <td>Brooklyn Nets</td>\n",
              "      <td>10.0</td>\n",
              "      <td>SG</td>\n",
              "      <td>22.0</td>\n",
              "      <td>6-7</td>\n",
              "      <td>208.0</td>\n",
              "      <td>No College</td>\n",
              "      <td>1599840.0</td>\n",
              "    </tr>\n",
              "    <tr>\n",
              "      <th>21</th>\n",
              "      <td>Sean Kilpatrick</td>\n",
              "      <td>Brooklyn Nets</td>\n",
              "      <td>6.0</td>\n",
              "      <td>SG</td>\n",
              "      <td>26.0</td>\n",
              "      <td>6-4</td>\n",
              "      <td>219.0</td>\n",
              "      <td>Cincinnati</td>\n",
              "      <td>134215.0</td>\n",
              "    </tr>\n",
              "    <tr>\n",
              "      <th>22</th>\n",
              "      <td>Shane Larkin</td>\n",
              "      <td>Brooklyn Nets</td>\n",
              "      <td>0.0</td>\n",
              "      <td>PG</td>\n",
              "      <td>23.0</td>\n",
              "      <td>5-11</td>\n",
              "      <td>175.0</td>\n",
              "      <td>Miami (FL)</td>\n",
              "      <td>1500000.0</td>\n",
              "    </tr>\n",
              "    <tr>\n",
              "      <th>23</th>\n",
              "      <td>Brook Lopez</td>\n",
              "      <td>Brooklyn Nets</td>\n",
              "      <td>11.0</td>\n",
              "      <td>C</td>\n",
              "      <td>28.0</td>\n",
              "      <td>7-0</td>\n",
              "      <td>275.0</td>\n",
              "      <td>Stanford</td>\n",
              "      <td>19689000.0</td>\n",
              "    </tr>\n",
              "    <tr>\n",
              "      <th>24</th>\n",
              "      <td>Chris McCullough</td>\n",
              "      <td>Brooklyn Nets</td>\n",
              "      <td>1.0</td>\n",
              "      <td>PF</td>\n",
              "      <td>21.0</td>\n",
              "      <td>6-11</td>\n",
              "      <td>200.0</td>\n",
              "      <td>Syracuse</td>\n",
              "      <td>1140240.0</td>\n",
              "    </tr>\n",
              "    <tr>\n",
              "      <th>25</th>\n",
              "      <td>Willie Reed</td>\n",
              "      <td>Brooklyn Nets</td>\n",
              "      <td>33.0</td>\n",
              "      <td>PF</td>\n",
              "      <td>26.0</td>\n",
              "      <td>6-10</td>\n",
              "      <td>220.0</td>\n",
              "      <td>Saint Louis</td>\n",
              "      <td>947276.0</td>\n",
              "    </tr>\n",
              "    <tr>\n",
              "      <th>26</th>\n",
              "      <td>Thomas Robinson</td>\n",
              "      <td>Brooklyn Nets</td>\n",
              "      <td>41.0</td>\n",
              "      <td>PF</td>\n",
              "      <td>25.0</td>\n",
              "      <td>6-10</td>\n",
              "      <td>237.0</td>\n",
              "      <td>Kansas</td>\n",
              "      <td>981348.0</td>\n",
              "    </tr>\n",
              "    <tr>\n",
              "      <th>27</th>\n",
              "      <td>Henry Sims</td>\n",
              "      <td>Brooklyn Nets</td>\n",
              "      <td>14.0</td>\n",
              "      <td>C</td>\n",
              "      <td>26.0</td>\n",
              "      <td>6-10</td>\n",
              "      <td>248.0</td>\n",
              "      <td>Georgetown</td>\n",
              "      <td>947276.0</td>\n",
              "    </tr>\n",
              "    <tr>\n",
              "      <th>28</th>\n",
              "      <td>Donald Sloan</td>\n",
              "      <td>Brooklyn Nets</td>\n",
              "      <td>15.0</td>\n",
              "      <td>PG</td>\n",
              "      <td>28.0</td>\n",
              "      <td>6-3</td>\n",
              "      <td>205.0</td>\n",
              "      <td>Texas A&amp;M</td>\n",
              "      <td>947276.0</td>\n",
              "    </tr>\n",
              "    <tr>\n",
              "      <th>29</th>\n",
              "      <td>Thaddeus Young</td>\n",
              "      <td>Brooklyn Nets</td>\n",
              "      <td>30.0</td>\n",
              "      <td>PF</td>\n",
              "      <td>27.0</td>\n",
              "      <td>6-8</td>\n",
              "      <td>221.0</td>\n",
              "      <td>Georgia Tech</td>\n",
              "      <td>11235955.0</td>\n",
              "    </tr>\n",
              "    <tr>\n",
              "      <th>...</th>\n",
              "      <td>...</td>\n",
              "      <td>...</td>\n",
              "      <td>...</td>\n",
              "      <td>...</td>\n",
              "      <td>...</td>\n",
              "      <td>...</td>\n",
              "      <td>...</td>\n",
              "      <td>...</td>\n",
              "      <td>...</td>\n",
              "    </tr>\n",
              "    <tr>\n",
              "      <th>428</th>\n",
              "      <td>Al-Farouq Aminu</td>\n",
              "      <td>Portland Trail Blazers</td>\n",
              "      <td>8.0</td>\n",
              "      <td>SF</td>\n",
              "      <td>25.0</td>\n",
              "      <td>6-9</td>\n",
              "      <td>215.0</td>\n",
              "      <td>Wake Forest</td>\n",
              "      <td>8042895.0</td>\n",
              "    </tr>\n",
              "    <tr>\n",
              "      <th>429</th>\n",
              "      <td>Pat Connaughton</td>\n",
              "      <td>Portland Trail Blazers</td>\n",
              "      <td>5.0</td>\n",
              "      <td>SG</td>\n",
              "      <td>23.0</td>\n",
              "      <td>6-5</td>\n",
              "      <td>206.0</td>\n",
              "      <td>Notre Dame</td>\n",
              "      <td>625093.0</td>\n",
              "    </tr>\n",
              "    <tr>\n",
              "      <th>430</th>\n",
              "      <td>Allen Crabbe</td>\n",
              "      <td>Portland Trail Blazers</td>\n",
              "      <td>23.0</td>\n",
              "      <td>SG</td>\n",
              "      <td>24.0</td>\n",
              "      <td>6-6</td>\n",
              "      <td>210.0</td>\n",
              "      <td>California</td>\n",
              "      <td>947276.0</td>\n",
              "    </tr>\n",
              "    <tr>\n",
              "      <th>431</th>\n",
              "      <td>Ed Davis</td>\n",
              "      <td>Portland Trail Blazers</td>\n",
              "      <td>17.0</td>\n",
              "      <td>C</td>\n",
              "      <td>27.0</td>\n",
              "      <td>6-10</td>\n",
              "      <td>240.0</td>\n",
              "      <td>North Carolina</td>\n",
              "      <td>6980802.0</td>\n",
              "    </tr>\n",
              "    <tr>\n",
              "      <th>432</th>\n",
              "      <td>Maurice Harkless</td>\n",
              "      <td>Portland Trail Blazers</td>\n",
              "      <td>4.0</td>\n",
              "      <td>SF</td>\n",
              "      <td>23.0</td>\n",
              "      <td>6-9</td>\n",
              "      <td>215.0</td>\n",
              "      <td>St. John's</td>\n",
              "      <td>2894059.0</td>\n",
              "    </tr>\n",
              "    <tr>\n",
              "      <th>433</th>\n",
              "      <td>Gerald Henderson</td>\n",
              "      <td>Portland Trail Blazers</td>\n",
              "      <td>9.0</td>\n",
              "      <td>SG</td>\n",
              "      <td>28.0</td>\n",
              "      <td>6-5</td>\n",
              "      <td>215.0</td>\n",
              "      <td>Duke</td>\n",
              "      <td>6000000.0</td>\n",
              "    </tr>\n",
              "    <tr>\n",
              "      <th>434</th>\n",
              "      <td>Chris Kaman</td>\n",
              "      <td>Portland Trail Blazers</td>\n",
              "      <td>35.0</td>\n",
              "      <td>C</td>\n",
              "      <td>34.0</td>\n",
              "      <td>7-0</td>\n",
              "      <td>265.0</td>\n",
              "      <td>Central Michigan</td>\n",
              "      <td>5016000.0</td>\n",
              "    </tr>\n",
              "    <tr>\n",
              "      <th>435</th>\n",
              "      <td>Meyers Leonard</td>\n",
              "      <td>Portland Trail Blazers</td>\n",
              "      <td>11.0</td>\n",
              "      <td>PF</td>\n",
              "      <td>24.0</td>\n",
              "      <td>7-1</td>\n",
              "      <td>245.0</td>\n",
              "      <td>Illinois</td>\n",
              "      <td>3075880.0</td>\n",
              "    </tr>\n",
              "    <tr>\n",
              "      <th>436</th>\n",
              "      <td>Damian Lillard</td>\n",
              "      <td>Portland Trail Blazers</td>\n",
              "      <td>0.0</td>\n",
              "      <td>PG</td>\n",
              "      <td>25.0</td>\n",
              "      <td>6-3</td>\n",
              "      <td>195.0</td>\n",
              "      <td>Weber State</td>\n",
              "      <td>4236287.0</td>\n",
              "    </tr>\n",
              "    <tr>\n",
              "      <th>437</th>\n",
              "      <td>C.J. McCollum</td>\n",
              "      <td>Portland Trail Blazers</td>\n",
              "      <td>3.0</td>\n",
              "      <td>SG</td>\n",
              "      <td>24.0</td>\n",
              "      <td>6-4</td>\n",
              "      <td>200.0</td>\n",
              "      <td>Lehigh</td>\n",
              "      <td>2525160.0</td>\n",
              "    </tr>\n",
              "    <tr>\n",
              "      <th>438</th>\n",
              "      <td>Luis Montero</td>\n",
              "      <td>Portland Trail Blazers</td>\n",
              "      <td>44.0</td>\n",
              "      <td>SG</td>\n",
              "      <td>23.0</td>\n",
              "      <td>6-7</td>\n",
              "      <td>185.0</td>\n",
              "      <td>Westchester CC</td>\n",
              "      <td>525093.0</td>\n",
              "    </tr>\n",
              "    <tr>\n",
              "      <th>439</th>\n",
              "      <td>Mason Plumlee</td>\n",
              "      <td>Portland Trail Blazers</td>\n",
              "      <td>24.0</td>\n",
              "      <td>C</td>\n",
              "      <td>26.0</td>\n",
              "      <td>6-11</td>\n",
              "      <td>235.0</td>\n",
              "      <td>Duke</td>\n",
              "      <td>1415520.0</td>\n",
              "    </tr>\n",
              "    <tr>\n",
              "      <th>440</th>\n",
              "      <td>Brian Roberts</td>\n",
              "      <td>Portland Trail Blazers</td>\n",
              "      <td>2.0</td>\n",
              "      <td>PG</td>\n",
              "      <td>30.0</td>\n",
              "      <td>6-1</td>\n",
              "      <td>173.0</td>\n",
              "      <td>Dayton</td>\n",
              "      <td>2854940.0</td>\n",
              "    </tr>\n",
              "    <tr>\n",
              "      <th>441</th>\n",
              "      <td>Noah Vonleh</td>\n",
              "      <td>Portland Trail Blazers</td>\n",
              "      <td>21.0</td>\n",
              "      <td>PF</td>\n",
              "      <td>20.0</td>\n",
              "      <td>6-9</td>\n",
              "      <td>240.0</td>\n",
              "      <td>Indiana</td>\n",
              "      <td>2637720.0</td>\n",
              "    </tr>\n",
              "    <tr>\n",
              "      <th>442</th>\n",
              "      <td>Trevor Booker</td>\n",
              "      <td>Utah Jazz</td>\n",
              "      <td>33.0</td>\n",
              "      <td>PF</td>\n",
              "      <td>28.0</td>\n",
              "      <td>6-8</td>\n",
              "      <td>228.0</td>\n",
              "      <td>Clemson</td>\n",
              "      <td>4775000.0</td>\n",
              "    </tr>\n",
              "    <tr>\n",
              "      <th>443</th>\n",
              "      <td>Trey Burke</td>\n",
              "      <td>Utah Jazz</td>\n",
              "      <td>3.0</td>\n",
              "      <td>PG</td>\n",
              "      <td>23.0</td>\n",
              "      <td>6-1</td>\n",
              "      <td>191.0</td>\n",
              "      <td>Michigan</td>\n",
              "      <td>2658240.0</td>\n",
              "    </tr>\n",
              "    <tr>\n",
              "      <th>444</th>\n",
              "      <td>Alec Burks</td>\n",
              "      <td>Utah Jazz</td>\n",
              "      <td>10.0</td>\n",
              "      <td>SG</td>\n",
              "      <td>24.0</td>\n",
              "      <td>6-6</td>\n",
              "      <td>214.0</td>\n",
              "      <td>Colorado</td>\n",
              "      <td>9463484.0</td>\n",
              "    </tr>\n",
              "    <tr>\n",
              "      <th>445</th>\n",
              "      <td>Dante Exum</td>\n",
              "      <td>Utah Jazz</td>\n",
              "      <td>11.0</td>\n",
              "      <td>PG</td>\n",
              "      <td>20.0</td>\n",
              "      <td>6-6</td>\n",
              "      <td>190.0</td>\n",
              "      <td>No College</td>\n",
              "      <td>3777720.0</td>\n",
              "    </tr>\n",
              "    <tr>\n",
              "      <th>446</th>\n",
              "      <td>Derrick Favors</td>\n",
              "      <td>Utah Jazz</td>\n",
              "      <td>15.0</td>\n",
              "      <td>PF</td>\n",
              "      <td>24.0</td>\n",
              "      <td>6-10</td>\n",
              "      <td>265.0</td>\n",
              "      <td>Georgia Tech</td>\n",
              "      <td>12000000.0</td>\n",
              "    </tr>\n",
              "    <tr>\n",
              "      <th>447</th>\n",
              "      <td>Rudy Gobert</td>\n",
              "      <td>Utah Jazz</td>\n",
              "      <td>27.0</td>\n",
              "      <td>C</td>\n",
              "      <td>23.0</td>\n",
              "      <td>7-1</td>\n",
              "      <td>245.0</td>\n",
              "      <td>No College</td>\n",
              "      <td>1175880.0</td>\n",
              "    </tr>\n",
              "    <tr>\n",
              "      <th>448</th>\n",
              "      <td>Gordon Hayward</td>\n",
              "      <td>Utah Jazz</td>\n",
              "      <td>20.0</td>\n",
              "      <td>SF</td>\n",
              "      <td>26.0</td>\n",
              "      <td>6-8</td>\n",
              "      <td>226.0</td>\n",
              "      <td>Butler</td>\n",
              "      <td>15409570.0</td>\n",
              "    </tr>\n",
              "    <tr>\n",
              "      <th>449</th>\n",
              "      <td>Rodney Hood</td>\n",
              "      <td>Utah Jazz</td>\n",
              "      <td>5.0</td>\n",
              "      <td>SG</td>\n",
              "      <td>23.0</td>\n",
              "      <td>6-8</td>\n",
              "      <td>206.0</td>\n",
              "      <td>Duke</td>\n",
              "      <td>1348440.0</td>\n",
              "    </tr>\n",
              "    <tr>\n",
              "      <th>450</th>\n",
              "      <td>Joe Ingles</td>\n",
              "      <td>Utah Jazz</td>\n",
              "      <td>2.0</td>\n",
              "      <td>SF</td>\n",
              "      <td>28.0</td>\n",
              "      <td>6-8</td>\n",
              "      <td>226.0</td>\n",
              "      <td>No College</td>\n",
              "      <td>2050000.0</td>\n",
              "    </tr>\n",
              "    <tr>\n",
              "      <th>451</th>\n",
              "      <td>Chris Johnson</td>\n",
              "      <td>Utah Jazz</td>\n",
              "      <td>23.0</td>\n",
              "      <td>SF</td>\n",
              "      <td>26.0</td>\n",
              "      <td>6-6</td>\n",
              "      <td>206.0</td>\n",
              "      <td>Dayton</td>\n",
              "      <td>981348.0</td>\n",
              "    </tr>\n",
              "    <tr>\n",
              "      <th>452</th>\n",
              "      <td>Trey Lyles</td>\n",
              "      <td>Utah Jazz</td>\n",
              "      <td>41.0</td>\n",
              "      <td>PF</td>\n",
              "      <td>20.0</td>\n",
              "      <td>6-10</td>\n",
              "      <td>234.0</td>\n",
              "      <td>Kentucky</td>\n",
              "      <td>2239800.0</td>\n",
              "    </tr>\n",
              "    <tr>\n",
              "      <th>453</th>\n",
              "      <td>Shelvin Mack</td>\n",
              "      <td>Utah Jazz</td>\n",
              "      <td>8.0</td>\n",
              "      <td>PG</td>\n",
              "      <td>26.0</td>\n",
              "      <td>6-3</td>\n",
              "      <td>203.0</td>\n",
              "      <td>Butler</td>\n",
              "      <td>2433333.0</td>\n",
              "    </tr>\n",
              "    <tr>\n",
              "      <th>454</th>\n",
              "      <td>Raul Neto</td>\n",
              "      <td>Utah Jazz</td>\n",
              "      <td>25.0</td>\n",
              "      <td>PG</td>\n",
              "      <td>24.0</td>\n",
              "      <td>6-1</td>\n",
              "      <td>179.0</td>\n",
              "      <td>No College</td>\n",
              "      <td>900000.0</td>\n",
              "    </tr>\n",
              "    <tr>\n",
              "      <th>455</th>\n",
              "      <td>Tibor Pleiss</td>\n",
              "      <td>Utah Jazz</td>\n",
              "      <td>21.0</td>\n",
              "      <td>C</td>\n",
              "      <td>26.0</td>\n",
              "      <td>7-3</td>\n",
              "      <td>256.0</td>\n",
              "      <td>No College</td>\n",
              "      <td>2900000.0</td>\n",
              "    </tr>\n",
              "    <tr>\n",
              "      <th>456</th>\n",
              "      <td>Jeff Withey</td>\n",
              "      <td>Utah Jazz</td>\n",
              "      <td>24.0</td>\n",
              "      <td>C</td>\n",
              "      <td>26.0</td>\n",
              "      <td>7-0</td>\n",
              "      <td>231.0</td>\n",
              "      <td>Kansas</td>\n",
              "      <td>947276.0</td>\n",
              "    </tr>\n",
              "    <tr>\n",
              "      <th>457</th>\n",
              "      <td>NaN</td>\n",
              "      <td>NaN</td>\n",
              "      <td>NaN</td>\n",
              "      <td>NaN</td>\n",
              "      <td>NaN</td>\n",
              "      <td>NaN</td>\n",
              "      <td>NaN</td>\n",
              "      <td>No College</td>\n",
              "      <td>NaN</td>\n",
              "    </tr>\n",
              "  </tbody>\n",
              "</table>\n",
              "<p>458 rows × 9 columns</p>\n",
              "</div>"
            ],
            "text/plain": [
              "                        Name                    Team  Number Position   Age  \\\n",
              "0              Avery Bradley          Boston Celtics     0.0       PG  25.0   \n",
              "1                Jae Crowder          Boston Celtics    99.0       SF  25.0   \n",
              "2               John Holland          Boston Celtics    30.0       SG  27.0   \n",
              "3                R.J. Hunter          Boston Celtics    28.0       SG  22.0   \n",
              "4              Jonas Jerebko          Boston Celtics     8.0       PF  29.0   \n",
              "5               Amir Johnson          Boston Celtics    90.0       PF  29.0   \n",
              "6              Jordan Mickey          Boston Celtics    55.0       PF  21.0   \n",
              "7               Kelly Olynyk          Boston Celtics    41.0        C  25.0   \n",
              "8               Terry Rozier          Boston Celtics    12.0       PG  22.0   \n",
              "9               Marcus Smart          Boston Celtics    36.0       PG  22.0   \n",
              "10           Jared Sullinger          Boston Celtics     7.0        C  24.0   \n",
              "11             Isaiah Thomas          Boston Celtics     4.0       PG  27.0   \n",
              "12               Evan Turner          Boston Celtics    11.0       SG  27.0   \n",
              "13               James Young          Boston Celtics    13.0       SG  20.0   \n",
              "14              Tyler Zeller          Boston Celtics    44.0        C  26.0   \n",
              "15          Bojan Bogdanovic           Brooklyn Nets    44.0       SG  27.0   \n",
              "16              Markel Brown           Brooklyn Nets    22.0       SG  24.0   \n",
              "17           Wayne Ellington           Brooklyn Nets    21.0       SG  28.0   \n",
              "18   Rondae Hollis-Jefferson           Brooklyn Nets    24.0       SG  21.0   \n",
              "19              Jarrett Jack           Brooklyn Nets     2.0       PG  32.0   \n",
              "20            Sergey Karasev           Brooklyn Nets    10.0       SG  22.0   \n",
              "21           Sean Kilpatrick           Brooklyn Nets     6.0       SG  26.0   \n",
              "22              Shane Larkin           Brooklyn Nets     0.0       PG  23.0   \n",
              "23               Brook Lopez           Brooklyn Nets    11.0        C  28.0   \n",
              "24          Chris McCullough           Brooklyn Nets     1.0       PF  21.0   \n",
              "25               Willie Reed           Brooklyn Nets    33.0       PF  26.0   \n",
              "26           Thomas Robinson           Brooklyn Nets    41.0       PF  25.0   \n",
              "27                Henry Sims           Brooklyn Nets    14.0        C  26.0   \n",
              "28              Donald Sloan           Brooklyn Nets    15.0       PG  28.0   \n",
              "29            Thaddeus Young           Brooklyn Nets    30.0       PF  27.0   \n",
              "..                       ...                     ...     ...      ...   ...   \n",
              "428          Al-Farouq Aminu  Portland Trail Blazers     8.0       SF  25.0   \n",
              "429          Pat Connaughton  Portland Trail Blazers     5.0       SG  23.0   \n",
              "430             Allen Crabbe  Portland Trail Blazers    23.0       SG  24.0   \n",
              "431                 Ed Davis  Portland Trail Blazers    17.0        C  27.0   \n",
              "432         Maurice Harkless  Portland Trail Blazers     4.0       SF  23.0   \n",
              "433         Gerald Henderson  Portland Trail Blazers     9.0       SG  28.0   \n",
              "434              Chris Kaman  Portland Trail Blazers    35.0        C  34.0   \n",
              "435           Meyers Leonard  Portland Trail Blazers    11.0       PF  24.0   \n",
              "436           Damian Lillard  Portland Trail Blazers     0.0       PG  25.0   \n",
              "437            C.J. McCollum  Portland Trail Blazers     3.0       SG  24.0   \n",
              "438             Luis Montero  Portland Trail Blazers    44.0       SG  23.0   \n",
              "439            Mason Plumlee  Portland Trail Blazers    24.0        C  26.0   \n",
              "440            Brian Roberts  Portland Trail Blazers     2.0       PG  30.0   \n",
              "441              Noah Vonleh  Portland Trail Blazers    21.0       PF  20.0   \n",
              "442            Trevor Booker               Utah Jazz    33.0       PF  28.0   \n",
              "443               Trey Burke               Utah Jazz     3.0       PG  23.0   \n",
              "444               Alec Burks               Utah Jazz    10.0       SG  24.0   \n",
              "445               Dante Exum               Utah Jazz    11.0       PG  20.0   \n",
              "446           Derrick Favors               Utah Jazz    15.0       PF  24.0   \n",
              "447              Rudy Gobert               Utah Jazz    27.0        C  23.0   \n",
              "448           Gordon Hayward               Utah Jazz    20.0       SF  26.0   \n",
              "449              Rodney Hood               Utah Jazz     5.0       SG  23.0   \n",
              "450               Joe Ingles               Utah Jazz     2.0       SF  28.0   \n",
              "451            Chris Johnson               Utah Jazz    23.0       SF  26.0   \n",
              "452               Trey Lyles               Utah Jazz    41.0       PF  20.0   \n",
              "453             Shelvin Mack               Utah Jazz     8.0       PG  26.0   \n",
              "454                Raul Neto               Utah Jazz    25.0       PG  24.0   \n",
              "455             Tibor Pleiss               Utah Jazz    21.0        C  26.0   \n",
              "456              Jeff Withey               Utah Jazz    24.0        C  26.0   \n",
              "457                      NaN                     NaN     NaN      NaN   NaN   \n",
              "\n",
              "    Height  Weight            College      Salary  \n",
              "0      6-2   180.0              Texas   7730337.0  \n",
              "1      6-6   235.0          Marquette   6796117.0  \n",
              "2      6-5   205.0  Boston University         NaN  \n",
              "3      6-5   185.0      Georgia State   1148640.0  \n",
              "4     6-10   231.0         No College   5000000.0  \n",
              "5      6-9   240.0         No College  12000000.0  \n",
              "6      6-8   235.0                LSU   1170960.0  \n",
              "7      7-0   238.0            Gonzaga   2165160.0  \n",
              "8      6-2   190.0         Louisville   1824360.0  \n",
              "9      6-4   220.0     Oklahoma State   3431040.0  \n",
              "10     6-9   260.0         Ohio State   2569260.0  \n",
              "11     5-9   185.0         Washington   6912869.0  \n",
              "12     6-7   220.0         Ohio State   3425510.0  \n",
              "13     6-6   215.0           Kentucky   1749840.0  \n",
              "14     7-0   253.0     North Carolina   2616975.0  \n",
              "15     6-8   216.0         No College   3425510.0  \n",
              "16     6-3   190.0     Oklahoma State    845059.0  \n",
              "17     6-4   200.0     North Carolina   1500000.0  \n",
              "18     6-7   220.0            Arizona   1335480.0  \n",
              "19     6-3   200.0       Georgia Tech   6300000.0  \n",
              "20     6-7   208.0         No College   1599840.0  \n",
              "21     6-4   219.0         Cincinnati    134215.0  \n",
              "22    5-11   175.0         Miami (FL)   1500000.0  \n",
              "23     7-0   275.0           Stanford  19689000.0  \n",
              "24    6-11   200.0           Syracuse   1140240.0  \n",
              "25    6-10   220.0        Saint Louis    947276.0  \n",
              "26    6-10   237.0             Kansas    981348.0  \n",
              "27    6-10   248.0         Georgetown    947276.0  \n",
              "28     6-3   205.0          Texas A&M    947276.0  \n",
              "29     6-8   221.0       Georgia Tech  11235955.0  \n",
              "..     ...     ...                ...         ...  \n",
              "428    6-9   215.0        Wake Forest   8042895.0  \n",
              "429    6-5   206.0         Notre Dame    625093.0  \n",
              "430    6-6   210.0         California    947276.0  \n",
              "431   6-10   240.0     North Carolina   6980802.0  \n",
              "432    6-9   215.0         St. John's   2894059.0  \n",
              "433    6-5   215.0               Duke   6000000.0  \n",
              "434    7-0   265.0   Central Michigan   5016000.0  \n",
              "435    7-1   245.0           Illinois   3075880.0  \n",
              "436    6-3   195.0        Weber State   4236287.0  \n",
              "437    6-4   200.0             Lehigh   2525160.0  \n",
              "438    6-7   185.0     Westchester CC    525093.0  \n",
              "439   6-11   235.0               Duke   1415520.0  \n",
              "440    6-1   173.0             Dayton   2854940.0  \n",
              "441    6-9   240.0            Indiana   2637720.0  \n",
              "442    6-8   228.0            Clemson   4775000.0  \n",
              "443    6-1   191.0           Michigan   2658240.0  \n",
              "444    6-6   214.0           Colorado   9463484.0  \n",
              "445    6-6   190.0         No College   3777720.0  \n",
              "446   6-10   265.0       Georgia Tech  12000000.0  \n",
              "447    7-1   245.0         No College   1175880.0  \n",
              "448    6-8   226.0             Butler  15409570.0  \n",
              "449    6-8   206.0               Duke   1348440.0  \n",
              "450    6-8   226.0         No College   2050000.0  \n",
              "451    6-6   206.0             Dayton    981348.0  \n",
              "452   6-10   234.0           Kentucky   2239800.0  \n",
              "453    6-3   203.0             Butler   2433333.0  \n",
              "454    6-1   179.0         No College    900000.0  \n",
              "455    7-3   256.0         No College   2900000.0  \n",
              "456    7-0   231.0             Kansas    947276.0  \n",
              "457    NaN     NaN         No College         NaN  \n",
              "\n",
              "[458 rows x 9 columns]"
            ]
          },
          "metadata": {
            "tags": []
          },
          "execution_count": 37
        }
      ]
    },
    {
      "metadata": {
        "id": "a13sjmzQdGcY",
        "colab_type": "code",
        "outputId": "a61ba3ca-5fc5-4e3a-edb8-b9d7c7572e95",
        "colab": {
          "base_uri": "https://localhost:8080/",
          "height": 1992
        }
      },
      "cell_type": "code",
      "source": [
        "nba = pd.read_csv(\"https://cdncontribute.geeksforgeeks.org/wp-content/uploads/nba.csv\")\n",
        "\n",
        "nba[\"College\"].fillna(method = 'ffill', inplace = True)\n",
        "\n",
        "nba"
      ],
      "execution_count": 38,
      "outputs": [
        {
          "output_type": "execute_result",
          "data": {
            "text/html": [
              "<div>\n",
              "<style scoped>\n",
              "    .dataframe tbody tr th:only-of-type {\n",
              "        vertical-align: middle;\n",
              "    }\n",
              "\n",
              "    .dataframe tbody tr th {\n",
              "        vertical-align: top;\n",
              "    }\n",
              "\n",
              "    .dataframe thead th {\n",
              "        text-align: right;\n",
              "    }\n",
              "</style>\n",
              "<table border=\"1\" class=\"dataframe\">\n",
              "  <thead>\n",
              "    <tr style=\"text-align: right;\">\n",
              "      <th></th>\n",
              "      <th>Name</th>\n",
              "      <th>Team</th>\n",
              "      <th>Number</th>\n",
              "      <th>Position</th>\n",
              "      <th>Age</th>\n",
              "      <th>Height</th>\n",
              "      <th>Weight</th>\n",
              "      <th>College</th>\n",
              "      <th>Salary</th>\n",
              "    </tr>\n",
              "  </thead>\n",
              "  <tbody>\n",
              "    <tr>\n",
              "      <th>0</th>\n",
              "      <td>Avery Bradley</td>\n",
              "      <td>Boston Celtics</td>\n",
              "      <td>0.0</td>\n",
              "      <td>PG</td>\n",
              "      <td>25.0</td>\n",
              "      <td>6-2</td>\n",
              "      <td>180.0</td>\n",
              "      <td>Texas</td>\n",
              "      <td>7730337.0</td>\n",
              "    </tr>\n",
              "    <tr>\n",
              "      <th>1</th>\n",
              "      <td>Jae Crowder</td>\n",
              "      <td>Boston Celtics</td>\n",
              "      <td>99.0</td>\n",
              "      <td>SF</td>\n",
              "      <td>25.0</td>\n",
              "      <td>6-6</td>\n",
              "      <td>235.0</td>\n",
              "      <td>Marquette</td>\n",
              "      <td>6796117.0</td>\n",
              "    </tr>\n",
              "    <tr>\n",
              "      <th>2</th>\n",
              "      <td>John Holland</td>\n",
              "      <td>Boston Celtics</td>\n",
              "      <td>30.0</td>\n",
              "      <td>SG</td>\n",
              "      <td>27.0</td>\n",
              "      <td>6-5</td>\n",
              "      <td>205.0</td>\n",
              "      <td>Boston University</td>\n",
              "      <td>NaN</td>\n",
              "    </tr>\n",
              "    <tr>\n",
              "      <th>3</th>\n",
              "      <td>R.J. Hunter</td>\n",
              "      <td>Boston Celtics</td>\n",
              "      <td>28.0</td>\n",
              "      <td>SG</td>\n",
              "      <td>22.0</td>\n",
              "      <td>6-5</td>\n",
              "      <td>185.0</td>\n",
              "      <td>Georgia State</td>\n",
              "      <td>1148640.0</td>\n",
              "    </tr>\n",
              "    <tr>\n",
              "      <th>4</th>\n",
              "      <td>Jonas Jerebko</td>\n",
              "      <td>Boston Celtics</td>\n",
              "      <td>8.0</td>\n",
              "      <td>PF</td>\n",
              "      <td>29.0</td>\n",
              "      <td>6-10</td>\n",
              "      <td>231.0</td>\n",
              "      <td>Georgia State</td>\n",
              "      <td>5000000.0</td>\n",
              "    </tr>\n",
              "    <tr>\n",
              "      <th>5</th>\n",
              "      <td>Amir Johnson</td>\n",
              "      <td>Boston Celtics</td>\n",
              "      <td>90.0</td>\n",
              "      <td>PF</td>\n",
              "      <td>29.0</td>\n",
              "      <td>6-9</td>\n",
              "      <td>240.0</td>\n",
              "      <td>Georgia State</td>\n",
              "      <td>12000000.0</td>\n",
              "    </tr>\n",
              "    <tr>\n",
              "      <th>6</th>\n",
              "      <td>Jordan Mickey</td>\n",
              "      <td>Boston Celtics</td>\n",
              "      <td>55.0</td>\n",
              "      <td>PF</td>\n",
              "      <td>21.0</td>\n",
              "      <td>6-8</td>\n",
              "      <td>235.0</td>\n",
              "      <td>LSU</td>\n",
              "      <td>1170960.0</td>\n",
              "    </tr>\n",
              "    <tr>\n",
              "      <th>7</th>\n",
              "      <td>Kelly Olynyk</td>\n",
              "      <td>Boston Celtics</td>\n",
              "      <td>41.0</td>\n",
              "      <td>C</td>\n",
              "      <td>25.0</td>\n",
              "      <td>7-0</td>\n",
              "      <td>238.0</td>\n",
              "      <td>Gonzaga</td>\n",
              "      <td>2165160.0</td>\n",
              "    </tr>\n",
              "    <tr>\n",
              "      <th>8</th>\n",
              "      <td>Terry Rozier</td>\n",
              "      <td>Boston Celtics</td>\n",
              "      <td>12.0</td>\n",
              "      <td>PG</td>\n",
              "      <td>22.0</td>\n",
              "      <td>6-2</td>\n",
              "      <td>190.0</td>\n",
              "      <td>Louisville</td>\n",
              "      <td>1824360.0</td>\n",
              "    </tr>\n",
              "    <tr>\n",
              "      <th>9</th>\n",
              "      <td>Marcus Smart</td>\n",
              "      <td>Boston Celtics</td>\n",
              "      <td>36.0</td>\n",
              "      <td>PG</td>\n",
              "      <td>22.0</td>\n",
              "      <td>6-4</td>\n",
              "      <td>220.0</td>\n",
              "      <td>Oklahoma State</td>\n",
              "      <td>3431040.0</td>\n",
              "    </tr>\n",
              "    <tr>\n",
              "      <th>10</th>\n",
              "      <td>Jared Sullinger</td>\n",
              "      <td>Boston Celtics</td>\n",
              "      <td>7.0</td>\n",
              "      <td>C</td>\n",
              "      <td>24.0</td>\n",
              "      <td>6-9</td>\n",
              "      <td>260.0</td>\n",
              "      <td>Ohio State</td>\n",
              "      <td>2569260.0</td>\n",
              "    </tr>\n",
              "    <tr>\n",
              "      <th>11</th>\n",
              "      <td>Isaiah Thomas</td>\n",
              "      <td>Boston Celtics</td>\n",
              "      <td>4.0</td>\n",
              "      <td>PG</td>\n",
              "      <td>27.0</td>\n",
              "      <td>5-9</td>\n",
              "      <td>185.0</td>\n",
              "      <td>Washington</td>\n",
              "      <td>6912869.0</td>\n",
              "    </tr>\n",
              "    <tr>\n",
              "      <th>12</th>\n",
              "      <td>Evan Turner</td>\n",
              "      <td>Boston Celtics</td>\n",
              "      <td>11.0</td>\n",
              "      <td>SG</td>\n",
              "      <td>27.0</td>\n",
              "      <td>6-7</td>\n",
              "      <td>220.0</td>\n",
              "      <td>Ohio State</td>\n",
              "      <td>3425510.0</td>\n",
              "    </tr>\n",
              "    <tr>\n",
              "      <th>13</th>\n",
              "      <td>James Young</td>\n",
              "      <td>Boston Celtics</td>\n",
              "      <td>13.0</td>\n",
              "      <td>SG</td>\n",
              "      <td>20.0</td>\n",
              "      <td>6-6</td>\n",
              "      <td>215.0</td>\n",
              "      <td>Kentucky</td>\n",
              "      <td>1749840.0</td>\n",
              "    </tr>\n",
              "    <tr>\n",
              "      <th>14</th>\n",
              "      <td>Tyler Zeller</td>\n",
              "      <td>Boston Celtics</td>\n",
              "      <td>44.0</td>\n",
              "      <td>C</td>\n",
              "      <td>26.0</td>\n",
              "      <td>7-0</td>\n",
              "      <td>253.0</td>\n",
              "      <td>North Carolina</td>\n",
              "      <td>2616975.0</td>\n",
              "    </tr>\n",
              "    <tr>\n",
              "      <th>15</th>\n",
              "      <td>Bojan Bogdanovic</td>\n",
              "      <td>Brooklyn Nets</td>\n",
              "      <td>44.0</td>\n",
              "      <td>SG</td>\n",
              "      <td>27.0</td>\n",
              "      <td>6-8</td>\n",
              "      <td>216.0</td>\n",
              "      <td>North Carolina</td>\n",
              "      <td>3425510.0</td>\n",
              "    </tr>\n",
              "    <tr>\n",
              "      <th>16</th>\n",
              "      <td>Markel Brown</td>\n",
              "      <td>Brooklyn Nets</td>\n",
              "      <td>22.0</td>\n",
              "      <td>SG</td>\n",
              "      <td>24.0</td>\n",
              "      <td>6-3</td>\n",
              "      <td>190.0</td>\n",
              "      <td>Oklahoma State</td>\n",
              "      <td>845059.0</td>\n",
              "    </tr>\n",
              "    <tr>\n",
              "      <th>17</th>\n",
              "      <td>Wayne Ellington</td>\n",
              "      <td>Brooklyn Nets</td>\n",
              "      <td>21.0</td>\n",
              "      <td>SG</td>\n",
              "      <td>28.0</td>\n",
              "      <td>6-4</td>\n",
              "      <td>200.0</td>\n",
              "      <td>North Carolina</td>\n",
              "      <td>1500000.0</td>\n",
              "    </tr>\n",
              "    <tr>\n",
              "      <th>18</th>\n",
              "      <td>Rondae Hollis-Jefferson</td>\n",
              "      <td>Brooklyn Nets</td>\n",
              "      <td>24.0</td>\n",
              "      <td>SG</td>\n",
              "      <td>21.0</td>\n",
              "      <td>6-7</td>\n",
              "      <td>220.0</td>\n",
              "      <td>Arizona</td>\n",
              "      <td>1335480.0</td>\n",
              "    </tr>\n",
              "    <tr>\n",
              "      <th>19</th>\n",
              "      <td>Jarrett Jack</td>\n",
              "      <td>Brooklyn Nets</td>\n",
              "      <td>2.0</td>\n",
              "      <td>PG</td>\n",
              "      <td>32.0</td>\n",
              "      <td>6-3</td>\n",
              "      <td>200.0</td>\n",
              "      <td>Georgia Tech</td>\n",
              "      <td>6300000.0</td>\n",
              "    </tr>\n",
              "    <tr>\n",
              "      <th>20</th>\n",
              "      <td>Sergey Karasev</td>\n",
              "      <td>Brooklyn Nets</td>\n",
              "      <td>10.0</td>\n",
              "      <td>SG</td>\n",
              "      <td>22.0</td>\n",
              "      <td>6-7</td>\n",
              "      <td>208.0</td>\n",
              "      <td>Georgia Tech</td>\n",
              "      <td>1599840.0</td>\n",
              "    </tr>\n",
              "    <tr>\n",
              "      <th>21</th>\n",
              "      <td>Sean Kilpatrick</td>\n",
              "      <td>Brooklyn Nets</td>\n",
              "      <td>6.0</td>\n",
              "      <td>SG</td>\n",
              "      <td>26.0</td>\n",
              "      <td>6-4</td>\n",
              "      <td>219.0</td>\n",
              "      <td>Cincinnati</td>\n",
              "      <td>134215.0</td>\n",
              "    </tr>\n",
              "    <tr>\n",
              "      <th>22</th>\n",
              "      <td>Shane Larkin</td>\n",
              "      <td>Brooklyn Nets</td>\n",
              "      <td>0.0</td>\n",
              "      <td>PG</td>\n",
              "      <td>23.0</td>\n",
              "      <td>5-11</td>\n",
              "      <td>175.0</td>\n",
              "      <td>Miami (FL)</td>\n",
              "      <td>1500000.0</td>\n",
              "    </tr>\n",
              "    <tr>\n",
              "      <th>23</th>\n",
              "      <td>Brook Lopez</td>\n",
              "      <td>Brooklyn Nets</td>\n",
              "      <td>11.0</td>\n",
              "      <td>C</td>\n",
              "      <td>28.0</td>\n",
              "      <td>7-0</td>\n",
              "      <td>275.0</td>\n",
              "      <td>Stanford</td>\n",
              "      <td>19689000.0</td>\n",
              "    </tr>\n",
              "    <tr>\n",
              "      <th>24</th>\n",
              "      <td>Chris McCullough</td>\n",
              "      <td>Brooklyn Nets</td>\n",
              "      <td>1.0</td>\n",
              "      <td>PF</td>\n",
              "      <td>21.0</td>\n",
              "      <td>6-11</td>\n",
              "      <td>200.0</td>\n",
              "      <td>Syracuse</td>\n",
              "      <td>1140240.0</td>\n",
              "    </tr>\n",
              "    <tr>\n",
              "      <th>25</th>\n",
              "      <td>Willie Reed</td>\n",
              "      <td>Brooklyn Nets</td>\n",
              "      <td>33.0</td>\n",
              "      <td>PF</td>\n",
              "      <td>26.0</td>\n",
              "      <td>6-10</td>\n",
              "      <td>220.0</td>\n",
              "      <td>Saint Louis</td>\n",
              "      <td>947276.0</td>\n",
              "    </tr>\n",
              "    <tr>\n",
              "      <th>26</th>\n",
              "      <td>Thomas Robinson</td>\n",
              "      <td>Brooklyn Nets</td>\n",
              "      <td>41.0</td>\n",
              "      <td>PF</td>\n",
              "      <td>25.0</td>\n",
              "      <td>6-10</td>\n",
              "      <td>237.0</td>\n",
              "      <td>Kansas</td>\n",
              "      <td>981348.0</td>\n",
              "    </tr>\n",
              "    <tr>\n",
              "      <th>27</th>\n",
              "      <td>Henry Sims</td>\n",
              "      <td>Brooklyn Nets</td>\n",
              "      <td>14.0</td>\n",
              "      <td>C</td>\n",
              "      <td>26.0</td>\n",
              "      <td>6-10</td>\n",
              "      <td>248.0</td>\n",
              "      <td>Georgetown</td>\n",
              "      <td>947276.0</td>\n",
              "    </tr>\n",
              "    <tr>\n",
              "      <th>28</th>\n",
              "      <td>Donald Sloan</td>\n",
              "      <td>Brooklyn Nets</td>\n",
              "      <td>15.0</td>\n",
              "      <td>PG</td>\n",
              "      <td>28.0</td>\n",
              "      <td>6-3</td>\n",
              "      <td>205.0</td>\n",
              "      <td>Texas A&amp;M</td>\n",
              "      <td>947276.0</td>\n",
              "    </tr>\n",
              "    <tr>\n",
              "      <th>29</th>\n",
              "      <td>Thaddeus Young</td>\n",
              "      <td>Brooklyn Nets</td>\n",
              "      <td>30.0</td>\n",
              "      <td>PF</td>\n",
              "      <td>27.0</td>\n",
              "      <td>6-8</td>\n",
              "      <td>221.0</td>\n",
              "      <td>Georgia Tech</td>\n",
              "      <td>11235955.0</td>\n",
              "    </tr>\n",
              "    <tr>\n",
              "      <th>...</th>\n",
              "      <td>...</td>\n",
              "      <td>...</td>\n",
              "      <td>...</td>\n",
              "      <td>...</td>\n",
              "      <td>...</td>\n",
              "      <td>...</td>\n",
              "      <td>...</td>\n",
              "      <td>...</td>\n",
              "      <td>...</td>\n",
              "    </tr>\n",
              "    <tr>\n",
              "      <th>428</th>\n",
              "      <td>Al-Farouq Aminu</td>\n",
              "      <td>Portland Trail Blazers</td>\n",
              "      <td>8.0</td>\n",
              "      <td>SF</td>\n",
              "      <td>25.0</td>\n",
              "      <td>6-9</td>\n",
              "      <td>215.0</td>\n",
              "      <td>Wake Forest</td>\n",
              "      <td>8042895.0</td>\n",
              "    </tr>\n",
              "    <tr>\n",
              "      <th>429</th>\n",
              "      <td>Pat Connaughton</td>\n",
              "      <td>Portland Trail Blazers</td>\n",
              "      <td>5.0</td>\n",
              "      <td>SG</td>\n",
              "      <td>23.0</td>\n",
              "      <td>6-5</td>\n",
              "      <td>206.0</td>\n",
              "      <td>Notre Dame</td>\n",
              "      <td>625093.0</td>\n",
              "    </tr>\n",
              "    <tr>\n",
              "      <th>430</th>\n",
              "      <td>Allen Crabbe</td>\n",
              "      <td>Portland Trail Blazers</td>\n",
              "      <td>23.0</td>\n",
              "      <td>SG</td>\n",
              "      <td>24.0</td>\n",
              "      <td>6-6</td>\n",
              "      <td>210.0</td>\n",
              "      <td>California</td>\n",
              "      <td>947276.0</td>\n",
              "    </tr>\n",
              "    <tr>\n",
              "      <th>431</th>\n",
              "      <td>Ed Davis</td>\n",
              "      <td>Portland Trail Blazers</td>\n",
              "      <td>17.0</td>\n",
              "      <td>C</td>\n",
              "      <td>27.0</td>\n",
              "      <td>6-10</td>\n",
              "      <td>240.0</td>\n",
              "      <td>North Carolina</td>\n",
              "      <td>6980802.0</td>\n",
              "    </tr>\n",
              "    <tr>\n",
              "      <th>432</th>\n",
              "      <td>Maurice Harkless</td>\n",
              "      <td>Portland Trail Blazers</td>\n",
              "      <td>4.0</td>\n",
              "      <td>SF</td>\n",
              "      <td>23.0</td>\n",
              "      <td>6-9</td>\n",
              "      <td>215.0</td>\n",
              "      <td>St. John's</td>\n",
              "      <td>2894059.0</td>\n",
              "    </tr>\n",
              "    <tr>\n",
              "      <th>433</th>\n",
              "      <td>Gerald Henderson</td>\n",
              "      <td>Portland Trail Blazers</td>\n",
              "      <td>9.0</td>\n",
              "      <td>SG</td>\n",
              "      <td>28.0</td>\n",
              "      <td>6-5</td>\n",
              "      <td>215.0</td>\n",
              "      <td>Duke</td>\n",
              "      <td>6000000.0</td>\n",
              "    </tr>\n",
              "    <tr>\n",
              "      <th>434</th>\n",
              "      <td>Chris Kaman</td>\n",
              "      <td>Portland Trail Blazers</td>\n",
              "      <td>35.0</td>\n",
              "      <td>C</td>\n",
              "      <td>34.0</td>\n",
              "      <td>7-0</td>\n",
              "      <td>265.0</td>\n",
              "      <td>Central Michigan</td>\n",
              "      <td>5016000.0</td>\n",
              "    </tr>\n",
              "    <tr>\n",
              "      <th>435</th>\n",
              "      <td>Meyers Leonard</td>\n",
              "      <td>Portland Trail Blazers</td>\n",
              "      <td>11.0</td>\n",
              "      <td>PF</td>\n",
              "      <td>24.0</td>\n",
              "      <td>7-1</td>\n",
              "      <td>245.0</td>\n",
              "      <td>Illinois</td>\n",
              "      <td>3075880.0</td>\n",
              "    </tr>\n",
              "    <tr>\n",
              "      <th>436</th>\n",
              "      <td>Damian Lillard</td>\n",
              "      <td>Portland Trail Blazers</td>\n",
              "      <td>0.0</td>\n",
              "      <td>PG</td>\n",
              "      <td>25.0</td>\n",
              "      <td>6-3</td>\n",
              "      <td>195.0</td>\n",
              "      <td>Weber State</td>\n",
              "      <td>4236287.0</td>\n",
              "    </tr>\n",
              "    <tr>\n",
              "      <th>437</th>\n",
              "      <td>C.J. McCollum</td>\n",
              "      <td>Portland Trail Blazers</td>\n",
              "      <td>3.0</td>\n",
              "      <td>SG</td>\n",
              "      <td>24.0</td>\n",
              "      <td>6-4</td>\n",
              "      <td>200.0</td>\n",
              "      <td>Lehigh</td>\n",
              "      <td>2525160.0</td>\n",
              "    </tr>\n",
              "    <tr>\n",
              "      <th>438</th>\n",
              "      <td>Luis Montero</td>\n",
              "      <td>Portland Trail Blazers</td>\n",
              "      <td>44.0</td>\n",
              "      <td>SG</td>\n",
              "      <td>23.0</td>\n",
              "      <td>6-7</td>\n",
              "      <td>185.0</td>\n",
              "      <td>Westchester CC</td>\n",
              "      <td>525093.0</td>\n",
              "    </tr>\n",
              "    <tr>\n",
              "      <th>439</th>\n",
              "      <td>Mason Plumlee</td>\n",
              "      <td>Portland Trail Blazers</td>\n",
              "      <td>24.0</td>\n",
              "      <td>C</td>\n",
              "      <td>26.0</td>\n",
              "      <td>6-11</td>\n",
              "      <td>235.0</td>\n",
              "      <td>Duke</td>\n",
              "      <td>1415520.0</td>\n",
              "    </tr>\n",
              "    <tr>\n",
              "      <th>440</th>\n",
              "      <td>Brian Roberts</td>\n",
              "      <td>Portland Trail Blazers</td>\n",
              "      <td>2.0</td>\n",
              "      <td>PG</td>\n",
              "      <td>30.0</td>\n",
              "      <td>6-1</td>\n",
              "      <td>173.0</td>\n",
              "      <td>Dayton</td>\n",
              "      <td>2854940.0</td>\n",
              "    </tr>\n",
              "    <tr>\n",
              "      <th>441</th>\n",
              "      <td>Noah Vonleh</td>\n",
              "      <td>Portland Trail Blazers</td>\n",
              "      <td>21.0</td>\n",
              "      <td>PF</td>\n",
              "      <td>20.0</td>\n",
              "      <td>6-9</td>\n",
              "      <td>240.0</td>\n",
              "      <td>Indiana</td>\n",
              "      <td>2637720.0</td>\n",
              "    </tr>\n",
              "    <tr>\n",
              "      <th>442</th>\n",
              "      <td>Trevor Booker</td>\n",
              "      <td>Utah Jazz</td>\n",
              "      <td>33.0</td>\n",
              "      <td>PF</td>\n",
              "      <td>28.0</td>\n",
              "      <td>6-8</td>\n",
              "      <td>228.0</td>\n",
              "      <td>Clemson</td>\n",
              "      <td>4775000.0</td>\n",
              "    </tr>\n",
              "    <tr>\n",
              "      <th>443</th>\n",
              "      <td>Trey Burke</td>\n",
              "      <td>Utah Jazz</td>\n",
              "      <td>3.0</td>\n",
              "      <td>PG</td>\n",
              "      <td>23.0</td>\n",
              "      <td>6-1</td>\n",
              "      <td>191.0</td>\n",
              "      <td>Michigan</td>\n",
              "      <td>2658240.0</td>\n",
              "    </tr>\n",
              "    <tr>\n",
              "      <th>444</th>\n",
              "      <td>Alec Burks</td>\n",
              "      <td>Utah Jazz</td>\n",
              "      <td>10.0</td>\n",
              "      <td>SG</td>\n",
              "      <td>24.0</td>\n",
              "      <td>6-6</td>\n",
              "      <td>214.0</td>\n",
              "      <td>Colorado</td>\n",
              "      <td>9463484.0</td>\n",
              "    </tr>\n",
              "    <tr>\n",
              "      <th>445</th>\n",
              "      <td>Dante Exum</td>\n",
              "      <td>Utah Jazz</td>\n",
              "      <td>11.0</td>\n",
              "      <td>PG</td>\n",
              "      <td>20.0</td>\n",
              "      <td>6-6</td>\n",
              "      <td>190.0</td>\n",
              "      <td>Colorado</td>\n",
              "      <td>3777720.0</td>\n",
              "    </tr>\n",
              "    <tr>\n",
              "      <th>446</th>\n",
              "      <td>Derrick Favors</td>\n",
              "      <td>Utah Jazz</td>\n",
              "      <td>15.0</td>\n",
              "      <td>PF</td>\n",
              "      <td>24.0</td>\n",
              "      <td>6-10</td>\n",
              "      <td>265.0</td>\n",
              "      <td>Georgia Tech</td>\n",
              "      <td>12000000.0</td>\n",
              "    </tr>\n",
              "    <tr>\n",
              "      <th>447</th>\n",
              "      <td>Rudy Gobert</td>\n",
              "      <td>Utah Jazz</td>\n",
              "      <td>27.0</td>\n",
              "      <td>C</td>\n",
              "      <td>23.0</td>\n",
              "      <td>7-1</td>\n",
              "      <td>245.0</td>\n",
              "      <td>Georgia Tech</td>\n",
              "      <td>1175880.0</td>\n",
              "    </tr>\n",
              "    <tr>\n",
              "      <th>448</th>\n",
              "      <td>Gordon Hayward</td>\n",
              "      <td>Utah Jazz</td>\n",
              "      <td>20.0</td>\n",
              "      <td>SF</td>\n",
              "      <td>26.0</td>\n",
              "      <td>6-8</td>\n",
              "      <td>226.0</td>\n",
              "      <td>Butler</td>\n",
              "      <td>15409570.0</td>\n",
              "    </tr>\n",
              "    <tr>\n",
              "      <th>449</th>\n",
              "      <td>Rodney Hood</td>\n",
              "      <td>Utah Jazz</td>\n",
              "      <td>5.0</td>\n",
              "      <td>SG</td>\n",
              "      <td>23.0</td>\n",
              "      <td>6-8</td>\n",
              "      <td>206.0</td>\n",
              "      <td>Duke</td>\n",
              "      <td>1348440.0</td>\n",
              "    </tr>\n",
              "    <tr>\n",
              "      <th>450</th>\n",
              "      <td>Joe Ingles</td>\n",
              "      <td>Utah Jazz</td>\n",
              "      <td>2.0</td>\n",
              "      <td>SF</td>\n",
              "      <td>28.0</td>\n",
              "      <td>6-8</td>\n",
              "      <td>226.0</td>\n",
              "      <td>Duke</td>\n",
              "      <td>2050000.0</td>\n",
              "    </tr>\n",
              "    <tr>\n",
              "      <th>451</th>\n",
              "      <td>Chris Johnson</td>\n",
              "      <td>Utah Jazz</td>\n",
              "      <td>23.0</td>\n",
              "      <td>SF</td>\n",
              "      <td>26.0</td>\n",
              "      <td>6-6</td>\n",
              "      <td>206.0</td>\n",
              "      <td>Dayton</td>\n",
              "      <td>981348.0</td>\n",
              "    </tr>\n",
              "    <tr>\n",
              "      <th>452</th>\n",
              "      <td>Trey Lyles</td>\n",
              "      <td>Utah Jazz</td>\n",
              "      <td>41.0</td>\n",
              "      <td>PF</td>\n",
              "      <td>20.0</td>\n",
              "      <td>6-10</td>\n",
              "      <td>234.0</td>\n",
              "      <td>Kentucky</td>\n",
              "      <td>2239800.0</td>\n",
              "    </tr>\n",
              "    <tr>\n",
              "      <th>453</th>\n",
              "      <td>Shelvin Mack</td>\n",
              "      <td>Utah Jazz</td>\n",
              "      <td>8.0</td>\n",
              "      <td>PG</td>\n",
              "      <td>26.0</td>\n",
              "      <td>6-3</td>\n",
              "      <td>203.0</td>\n",
              "      <td>Butler</td>\n",
              "      <td>2433333.0</td>\n",
              "    </tr>\n",
              "    <tr>\n",
              "      <th>454</th>\n",
              "      <td>Raul Neto</td>\n",
              "      <td>Utah Jazz</td>\n",
              "      <td>25.0</td>\n",
              "      <td>PG</td>\n",
              "      <td>24.0</td>\n",
              "      <td>6-1</td>\n",
              "      <td>179.0</td>\n",
              "      <td>Butler</td>\n",
              "      <td>900000.0</td>\n",
              "    </tr>\n",
              "    <tr>\n",
              "      <th>455</th>\n",
              "      <td>Tibor Pleiss</td>\n",
              "      <td>Utah Jazz</td>\n",
              "      <td>21.0</td>\n",
              "      <td>C</td>\n",
              "      <td>26.0</td>\n",
              "      <td>7-3</td>\n",
              "      <td>256.0</td>\n",
              "      <td>Butler</td>\n",
              "      <td>2900000.0</td>\n",
              "    </tr>\n",
              "    <tr>\n",
              "      <th>456</th>\n",
              "      <td>Jeff Withey</td>\n",
              "      <td>Utah Jazz</td>\n",
              "      <td>24.0</td>\n",
              "      <td>C</td>\n",
              "      <td>26.0</td>\n",
              "      <td>7-0</td>\n",
              "      <td>231.0</td>\n",
              "      <td>Kansas</td>\n",
              "      <td>947276.0</td>\n",
              "    </tr>\n",
              "    <tr>\n",
              "      <th>457</th>\n",
              "      <td>NaN</td>\n",
              "      <td>NaN</td>\n",
              "      <td>NaN</td>\n",
              "      <td>NaN</td>\n",
              "      <td>NaN</td>\n",
              "      <td>NaN</td>\n",
              "      <td>NaN</td>\n",
              "      <td>Kansas</td>\n",
              "      <td>NaN</td>\n",
              "    </tr>\n",
              "  </tbody>\n",
              "</table>\n",
              "<p>458 rows × 9 columns</p>\n",
              "</div>"
            ],
            "text/plain": [
              "                        Name                    Team  Number Position   Age  \\\n",
              "0              Avery Bradley          Boston Celtics     0.0       PG  25.0   \n",
              "1                Jae Crowder          Boston Celtics    99.0       SF  25.0   \n",
              "2               John Holland          Boston Celtics    30.0       SG  27.0   \n",
              "3                R.J. Hunter          Boston Celtics    28.0       SG  22.0   \n",
              "4              Jonas Jerebko          Boston Celtics     8.0       PF  29.0   \n",
              "5               Amir Johnson          Boston Celtics    90.0       PF  29.0   \n",
              "6              Jordan Mickey          Boston Celtics    55.0       PF  21.0   \n",
              "7               Kelly Olynyk          Boston Celtics    41.0        C  25.0   \n",
              "8               Terry Rozier          Boston Celtics    12.0       PG  22.0   \n",
              "9               Marcus Smart          Boston Celtics    36.0       PG  22.0   \n",
              "10           Jared Sullinger          Boston Celtics     7.0        C  24.0   \n",
              "11             Isaiah Thomas          Boston Celtics     4.0       PG  27.0   \n",
              "12               Evan Turner          Boston Celtics    11.0       SG  27.0   \n",
              "13               James Young          Boston Celtics    13.0       SG  20.0   \n",
              "14              Tyler Zeller          Boston Celtics    44.0        C  26.0   \n",
              "15          Bojan Bogdanovic           Brooklyn Nets    44.0       SG  27.0   \n",
              "16              Markel Brown           Brooklyn Nets    22.0       SG  24.0   \n",
              "17           Wayne Ellington           Brooklyn Nets    21.0       SG  28.0   \n",
              "18   Rondae Hollis-Jefferson           Brooklyn Nets    24.0       SG  21.0   \n",
              "19              Jarrett Jack           Brooklyn Nets     2.0       PG  32.0   \n",
              "20            Sergey Karasev           Brooklyn Nets    10.0       SG  22.0   \n",
              "21           Sean Kilpatrick           Brooklyn Nets     6.0       SG  26.0   \n",
              "22              Shane Larkin           Brooklyn Nets     0.0       PG  23.0   \n",
              "23               Brook Lopez           Brooklyn Nets    11.0        C  28.0   \n",
              "24          Chris McCullough           Brooklyn Nets     1.0       PF  21.0   \n",
              "25               Willie Reed           Brooklyn Nets    33.0       PF  26.0   \n",
              "26           Thomas Robinson           Brooklyn Nets    41.0       PF  25.0   \n",
              "27                Henry Sims           Brooklyn Nets    14.0        C  26.0   \n",
              "28              Donald Sloan           Brooklyn Nets    15.0       PG  28.0   \n",
              "29            Thaddeus Young           Brooklyn Nets    30.0       PF  27.0   \n",
              "..                       ...                     ...     ...      ...   ...   \n",
              "428          Al-Farouq Aminu  Portland Trail Blazers     8.0       SF  25.0   \n",
              "429          Pat Connaughton  Portland Trail Blazers     5.0       SG  23.0   \n",
              "430             Allen Crabbe  Portland Trail Blazers    23.0       SG  24.0   \n",
              "431                 Ed Davis  Portland Trail Blazers    17.0        C  27.0   \n",
              "432         Maurice Harkless  Portland Trail Blazers     4.0       SF  23.0   \n",
              "433         Gerald Henderson  Portland Trail Blazers     9.0       SG  28.0   \n",
              "434              Chris Kaman  Portland Trail Blazers    35.0        C  34.0   \n",
              "435           Meyers Leonard  Portland Trail Blazers    11.0       PF  24.0   \n",
              "436           Damian Lillard  Portland Trail Blazers     0.0       PG  25.0   \n",
              "437            C.J. McCollum  Portland Trail Blazers     3.0       SG  24.0   \n",
              "438             Luis Montero  Portland Trail Blazers    44.0       SG  23.0   \n",
              "439            Mason Plumlee  Portland Trail Blazers    24.0        C  26.0   \n",
              "440            Brian Roberts  Portland Trail Blazers     2.0       PG  30.0   \n",
              "441              Noah Vonleh  Portland Trail Blazers    21.0       PF  20.0   \n",
              "442            Trevor Booker               Utah Jazz    33.0       PF  28.0   \n",
              "443               Trey Burke               Utah Jazz     3.0       PG  23.0   \n",
              "444               Alec Burks               Utah Jazz    10.0       SG  24.0   \n",
              "445               Dante Exum               Utah Jazz    11.0       PG  20.0   \n",
              "446           Derrick Favors               Utah Jazz    15.0       PF  24.0   \n",
              "447              Rudy Gobert               Utah Jazz    27.0        C  23.0   \n",
              "448           Gordon Hayward               Utah Jazz    20.0       SF  26.0   \n",
              "449              Rodney Hood               Utah Jazz     5.0       SG  23.0   \n",
              "450               Joe Ingles               Utah Jazz     2.0       SF  28.0   \n",
              "451            Chris Johnson               Utah Jazz    23.0       SF  26.0   \n",
              "452               Trey Lyles               Utah Jazz    41.0       PF  20.0   \n",
              "453             Shelvin Mack               Utah Jazz     8.0       PG  26.0   \n",
              "454                Raul Neto               Utah Jazz    25.0       PG  24.0   \n",
              "455             Tibor Pleiss               Utah Jazz    21.0        C  26.0   \n",
              "456              Jeff Withey               Utah Jazz    24.0        C  26.0   \n",
              "457                      NaN                     NaN     NaN      NaN   NaN   \n",
              "\n",
              "    Height  Weight            College      Salary  \n",
              "0      6-2   180.0              Texas   7730337.0  \n",
              "1      6-6   235.0          Marquette   6796117.0  \n",
              "2      6-5   205.0  Boston University         NaN  \n",
              "3      6-5   185.0      Georgia State   1148640.0  \n",
              "4     6-10   231.0      Georgia State   5000000.0  \n",
              "5      6-9   240.0      Georgia State  12000000.0  \n",
              "6      6-8   235.0                LSU   1170960.0  \n",
              "7      7-0   238.0            Gonzaga   2165160.0  \n",
              "8      6-2   190.0         Louisville   1824360.0  \n",
              "9      6-4   220.0     Oklahoma State   3431040.0  \n",
              "10     6-9   260.0         Ohio State   2569260.0  \n",
              "11     5-9   185.0         Washington   6912869.0  \n",
              "12     6-7   220.0         Ohio State   3425510.0  \n",
              "13     6-6   215.0           Kentucky   1749840.0  \n",
              "14     7-0   253.0     North Carolina   2616975.0  \n",
              "15     6-8   216.0     North Carolina   3425510.0  \n",
              "16     6-3   190.0     Oklahoma State    845059.0  \n",
              "17     6-4   200.0     North Carolina   1500000.0  \n",
              "18     6-7   220.0            Arizona   1335480.0  \n",
              "19     6-3   200.0       Georgia Tech   6300000.0  \n",
              "20     6-7   208.0       Georgia Tech   1599840.0  \n",
              "21     6-4   219.0         Cincinnati    134215.0  \n",
              "22    5-11   175.0         Miami (FL)   1500000.0  \n",
              "23     7-0   275.0           Stanford  19689000.0  \n",
              "24    6-11   200.0           Syracuse   1140240.0  \n",
              "25    6-10   220.0        Saint Louis    947276.0  \n",
              "26    6-10   237.0             Kansas    981348.0  \n",
              "27    6-10   248.0         Georgetown    947276.0  \n",
              "28     6-3   205.0          Texas A&M    947276.0  \n",
              "29     6-8   221.0       Georgia Tech  11235955.0  \n",
              "..     ...     ...                ...         ...  \n",
              "428    6-9   215.0        Wake Forest   8042895.0  \n",
              "429    6-5   206.0         Notre Dame    625093.0  \n",
              "430    6-6   210.0         California    947276.0  \n",
              "431   6-10   240.0     North Carolina   6980802.0  \n",
              "432    6-9   215.0         St. John's   2894059.0  \n",
              "433    6-5   215.0               Duke   6000000.0  \n",
              "434    7-0   265.0   Central Michigan   5016000.0  \n",
              "435    7-1   245.0           Illinois   3075880.0  \n",
              "436    6-3   195.0        Weber State   4236287.0  \n",
              "437    6-4   200.0             Lehigh   2525160.0  \n",
              "438    6-7   185.0     Westchester CC    525093.0  \n",
              "439   6-11   235.0               Duke   1415520.0  \n",
              "440    6-1   173.0             Dayton   2854940.0  \n",
              "441    6-9   240.0            Indiana   2637720.0  \n",
              "442    6-8   228.0            Clemson   4775000.0  \n",
              "443    6-1   191.0           Michigan   2658240.0  \n",
              "444    6-6   214.0           Colorado   9463484.0  \n",
              "445    6-6   190.0           Colorado   3777720.0  \n",
              "446   6-10   265.0       Georgia Tech  12000000.0  \n",
              "447    7-1   245.0       Georgia Tech   1175880.0  \n",
              "448    6-8   226.0             Butler  15409570.0  \n",
              "449    6-8   206.0               Duke   1348440.0  \n",
              "450    6-8   226.0               Duke   2050000.0  \n",
              "451    6-6   206.0             Dayton    981348.0  \n",
              "452   6-10   234.0           Kentucky   2239800.0  \n",
              "453    6-3   203.0             Butler   2433333.0  \n",
              "454    6-1   179.0             Butler    900000.0  \n",
              "455    7-3   256.0             Butler   2900000.0  \n",
              "456    7-0   231.0             Kansas    947276.0  \n",
              "457    NaN     NaN             Kansas         NaN  \n",
              "\n",
              "[458 rows x 9 columns]"
            ]
          },
          "metadata": {
            "tags": []
          },
          "execution_count": 38
        }
      ]
    },
    {
      "metadata": {
        "id": "piWqI8wndWmQ",
        "colab_type": "code",
        "outputId": "0f58a6db-caa5-4752-b9e9-4a983e09bfc5",
        "colab": {
          "base_uri": "https://localhost:8080/",
          "height": 1992
        }
      },
      "cell_type": "code",
      "source": [
        "nba = pd.read_csv(\"https://cdncontribute.geeksforgeeks.org/wp-content/uploads/nba.csv\")\n",
        "\n",
        "nba[\"College\"].fillna(method = 'ffill', limit = 1, inplace = True)\n",
        "\n",
        "nba"
      ],
      "execution_count": 39,
      "outputs": [
        {
          "output_type": "execute_result",
          "data": {
            "text/html": [
              "<div>\n",
              "<style scoped>\n",
              "    .dataframe tbody tr th:only-of-type {\n",
              "        vertical-align: middle;\n",
              "    }\n",
              "\n",
              "    .dataframe tbody tr th {\n",
              "        vertical-align: top;\n",
              "    }\n",
              "\n",
              "    .dataframe thead th {\n",
              "        text-align: right;\n",
              "    }\n",
              "</style>\n",
              "<table border=\"1\" class=\"dataframe\">\n",
              "  <thead>\n",
              "    <tr style=\"text-align: right;\">\n",
              "      <th></th>\n",
              "      <th>Name</th>\n",
              "      <th>Team</th>\n",
              "      <th>Number</th>\n",
              "      <th>Position</th>\n",
              "      <th>Age</th>\n",
              "      <th>Height</th>\n",
              "      <th>Weight</th>\n",
              "      <th>College</th>\n",
              "      <th>Salary</th>\n",
              "    </tr>\n",
              "  </thead>\n",
              "  <tbody>\n",
              "    <tr>\n",
              "      <th>0</th>\n",
              "      <td>Avery Bradley</td>\n",
              "      <td>Boston Celtics</td>\n",
              "      <td>0.0</td>\n",
              "      <td>PG</td>\n",
              "      <td>25.0</td>\n",
              "      <td>6-2</td>\n",
              "      <td>180.0</td>\n",
              "      <td>Texas</td>\n",
              "      <td>7730337.0</td>\n",
              "    </tr>\n",
              "    <tr>\n",
              "      <th>1</th>\n",
              "      <td>Jae Crowder</td>\n",
              "      <td>Boston Celtics</td>\n",
              "      <td>99.0</td>\n",
              "      <td>SF</td>\n",
              "      <td>25.0</td>\n",
              "      <td>6-6</td>\n",
              "      <td>235.0</td>\n",
              "      <td>Marquette</td>\n",
              "      <td>6796117.0</td>\n",
              "    </tr>\n",
              "    <tr>\n",
              "      <th>2</th>\n",
              "      <td>John Holland</td>\n",
              "      <td>Boston Celtics</td>\n",
              "      <td>30.0</td>\n",
              "      <td>SG</td>\n",
              "      <td>27.0</td>\n",
              "      <td>6-5</td>\n",
              "      <td>205.0</td>\n",
              "      <td>Boston University</td>\n",
              "      <td>NaN</td>\n",
              "    </tr>\n",
              "    <tr>\n",
              "      <th>3</th>\n",
              "      <td>R.J. Hunter</td>\n",
              "      <td>Boston Celtics</td>\n",
              "      <td>28.0</td>\n",
              "      <td>SG</td>\n",
              "      <td>22.0</td>\n",
              "      <td>6-5</td>\n",
              "      <td>185.0</td>\n",
              "      <td>Georgia State</td>\n",
              "      <td>1148640.0</td>\n",
              "    </tr>\n",
              "    <tr>\n",
              "      <th>4</th>\n",
              "      <td>Jonas Jerebko</td>\n",
              "      <td>Boston Celtics</td>\n",
              "      <td>8.0</td>\n",
              "      <td>PF</td>\n",
              "      <td>29.0</td>\n",
              "      <td>6-10</td>\n",
              "      <td>231.0</td>\n",
              "      <td>Georgia State</td>\n",
              "      <td>5000000.0</td>\n",
              "    </tr>\n",
              "    <tr>\n",
              "      <th>5</th>\n",
              "      <td>Amir Johnson</td>\n",
              "      <td>Boston Celtics</td>\n",
              "      <td>90.0</td>\n",
              "      <td>PF</td>\n",
              "      <td>29.0</td>\n",
              "      <td>6-9</td>\n",
              "      <td>240.0</td>\n",
              "      <td>NaN</td>\n",
              "      <td>12000000.0</td>\n",
              "    </tr>\n",
              "    <tr>\n",
              "      <th>6</th>\n",
              "      <td>Jordan Mickey</td>\n",
              "      <td>Boston Celtics</td>\n",
              "      <td>55.0</td>\n",
              "      <td>PF</td>\n",
              "      <td>21.0</td>\n",
              "      <td>6-8</td>\n",
              "      <td>235.0</td>\n",
              "      <td>LSU</td>\n",
              "      <td>1170960.0</td>\n",
              "    </tr>\n",
              "    <tr>\n",
              "      <th>7</th>\n",
              "      <td>Kelly Olynyk</td>\n",
              "      <td>Boston Celtics</td>\n",
              "      <td>41.0</td>\n",
              "      <td>C</td>\n",
              "      <td>25.0</td>\n",
              "      <td>7-0</td>\n",
              "      <td>238.0</td>\n",
              "      <td>Gonzaga</td>\n",
              "      <td>2165160.0</td>\n",
              "    </tr>\n",
              "    <tr>\n",
              "      <th>8</th>\n",
              "      <td>Terry Rozier</td>\n",
              "      <td>Boston Celtics</td>\n",
              "      <td>12.0</td>\n",
              "      <td>PG</td>\n",
              "      <td>22.0</td>\n",
              "      <td>6-2</td>\n",
              "      <td>190.0</td>\n",
              "      <td>Louisville</td>\n",
              "      <td>1824360.0</td>\n",
              "    </tr>\n",
              "    <tr>\n",
              "      <th>9</th>\n",
              "      <td>Marcus Smart</td>\n",
              "      <td>Boston Celtics</td>\n",
              "      <td>36.0</td>\n",
              "      <td>PG</td>\n",
              "      <td>22.0</td>\n",
              "      <td>6-4</td>\n",
              "      <td>220.0</td>\n",
              "      <td>Oklahoma State</td>\n",
              "      <td>3431040.0</td>\n",
              "    </tr>\n",
              "    <tr>\n",
              "      <th>10</th>\n",
              "      <td>Jared Sullinger</td>\n",
              "      <td>Boston Celtics</td>\n",
              "      <td>7.0</td>\n",
              "      <td>C</td>\n",
              "      <td>24.0</td>\n",
              "      <td>6-9</td>\n",
              "      <td>260.0</td>\n",
              "      <td>Ohio State</td>\n",
              "      <td>2569260.0</td>\n",
              "    </tr>\n",
              "    <tr>\n",
              "      <th>11</th>\n",
              "      <td>Isaiah Thomas</td>\n",
              "      <td>Boston Celtics</td>\n",
              "      <td>4.0</td>\n",
              "      <td>PG</td>\n",
              "      <td>27.0</td>\n",
              "      <td>5-9</td>\n",
              "      <td>185.0</td>\n",
              "      <td>Washington</td>\n",
              "      <td>6912869.0</td>\n",
              "    </tr>\n",
              "    <tr>\n",
              "      <th>12</th>\n",
              "      <td>Evan Turner</td>\n",
              "      <td>Boston Celtics</td>\n",
              "      <td>11.0</td>\n",
              "      <td>SG</td>\n",
              "      <td>27.0</td>\n",
              "      <td>6-7</td>\n",
              "      <td>220.0</td>\n",
              "      <td>Ohio State</td>\n",
              "      <td>3425510.0</td>\n",
              "    </tr>\n",
              "    <tr>\n",
              "      <th>13</th>\n",
              "      <td>James Young</td>\n",
              "      <td>Boston Celtics</td>\n",
              "      <td>13.0</td>\n",
              "      <td>SG</td>\n",
              "      <td>20.0</td>\n",
              "      <td>6-6</td>\n",
              "      <td>215.0</td>\n",
              "      <td>Kentucky</td>\n",
              "      <td>1749840.0</td>\n",
              "    </tr>\n",
              "    <tr>\n",
              "      <th>14</th>\n",
              "      <td>Tyler Zeller</td>\n",
              "      <td>Boston Celtics</td>\n",
              "      <td>44.0</td>\n",
              "      <td>C</td>\n",
              "      <td>26.0</td>\n",
              "      <td>7-0</td>\n",
              "      <td>253.0</td>\n",
              "      <td>North Carolina</td>\n",
              "      <td>2616975.0</td>\n",
              "    </tr>\n",
              "    <tr>\n",
              "      <th>15</th>\n",
              "      <td>Bojan Bogdanovic</td>\n",
              "      <td>Brooklyn Nets</td>\n",
              "      <td>44.0</td>\n",
              "      <td>SG</td>\n",
              "      <td>27.0</td>\n",
              "      <td>6-8</td>\n",
              "      <td>216.0</td>\n",
              "      <td>North Carolina</td>\n",
              "      <td>3425510.0</td>\n",
              "    </tr>\n",
              "    <tr>\n",
              "      <th>16</th>\n",
              "      <td>Markel Brown</td>\n",
              "      <td>Brooklyn Nets</td>\n",
              "      <td>22.0</td>\n",
              "      <td>SG</td>\n",
              "      <td>24.0</td>\n",
              "      <td>6-3</td>\n",
              "      <td>190.0</td>\n",
              "      <td>Oklahoma State</td>\n",
              "      <td>845059.0</td>\n",
              "    </tr>\n",
              "    <tr>\n",
              "      <th>17</th>\n",
              "      <td>Wayne Ellington</td>\n",
              "      <td>Brooklyn Nets</td>\n",
              "      <td>21.0</td>\n",
              "      <td>SG</td>\n",
              "      <td>28.0</td>\n",
              "      <td>6-4</td>\n",
              "      <td>200.0</td>\n",
              "      <td>North Carolina</td>\n",
              "      <td>1500000.0</td>\n",
              "    </tr>\n",
              "    <tr>\n",
              "      <th>18</th>\n",
              "      <td>Rondae Hollis-Jefferson</td>\n",
              "      <td>Brooklyn Nets</td>\n",
              "      <td>24.0</td>\n",
              "      <td>SG</td>\n",
              "      <td>21.0</td>\n",
              "      <td>6-7</td>\n",
              "      <td>220.0</td>\n",
              "      <td>Arizona</td>\n",
              "      <td>1335480.0</td>\n",
              "    </tr>\n",
              "    <tr>\n",
              "      <th>19</th>\n",
              "      <td>Jarrett Jack</td>\n",
              "      <td>Brooklyn Nets</td>\n",
              "      <td>2.0</td>\n",
              "      <td>PG</td>\n",
              "      <td>32.0</td>\n",
              "      <td>6-3</td>\n",
              "      <td>200.0</td>\n",
              "      <td>Georgia Tech</td>\n",
              "      <td>6300000.0</td>\n",
              "    </tr>\n",
              "    <tr>\n",
              "      <th>20</th>\n",
              "      <td>Sergey Karasev</td>\n",
              "      <td>Brooklyn Nets</td>\n",
              "      <td>10.0</td>\n",
              "      <td>SG</td>\n",
              "      <td>22.0</td>\n",
              "      <td>6-7</td>\n",
              "      <td>208.0</td>\n",
              "      <td>Georgia Tech</td>\n",
              "      <td>1599840.0</td>\n",
              "    </tr>\n",
              "    <tr>\n",
              "      <th>21</th>\n",
              "      <td>Sean Kilpatrick</td>\n",
              "      <td>Brooklyn Nets</td>\n",
              "      <td>6.0</td>\n",
              "      <td>SG</td>\n",
              "      <td>26.0</td>\n",
              "      <td>6-4</td>\n",
              "      <td>219.0</td>\n",
              "      <td>Cincinnati</td>\n",
              "      <td>134215.0</td>\n",
              "    </tr>\n",
              "    <tr>\n",
              "      <th>22</th>\n",
              "      <td>Shane Larkin</td>\n",
              "      <td>Brooklyn Nets</td>\n",
              "      <td>0.0</td>\n",
              "      <td>PG</td>\n",
              "      <td>23.0</td>\n",
              "      <td>5-11</td>\n",
              "      <td>175.0</td>\n",
              "      <td>Miami (FL)</td>\n",
              "      <td>1500000.0</td>\n",
              "    </tr>\n",
              "    <tr>\n",
              "      <th>23</th>\n",
              "      <td>Brook Lopez</td>\n",
              "      <td>Brooklyn Nets</td>\n",
              "      <td>11.0</td>\n",
              "      <td>C</td>\n",
              "      <td>28.0</td>\n",
              "      <td>7-0</td>\n",
              "      <td>275.0</td>\n",
              "      <td>Stanford</td>\n",
              "      <td>19689000.0</td>\n",
              "    </tr>\n",
              "    <tr>\n",
              "      <th>24</th>\n",
              "      <td>Chris McCullough</td>\n",
              "      <td>Brooklyn Nets</td>\n",
              "      <td>1.0</td>\n",
              "      <td>PF</td>\n",
              "      <td>21.0</td>\n",
              "      <td>6-11</td>\n",
              "      <td>200.0</td>\n",
              "      <td>Syracuse</td>\n",
              "      <td>1140240.0</td>\n",
              "    </tr>\n",
              "    <tr>\n",
              "      <th>25</th>\n",
              "      <td>Willie Reed</td>\n",
              "      <td>Brooklyn Nets</td>\n",
              "      <td>33.0</td>\n",
              "      <td>PF</td>\n",
              "      <td>26.0</td>\n",
              "      <td>6-10</td>\n",
              "      <td>220.0</td>\n",
              "      <td>Saint Louis</td>\n",
              "      <td>947276.0</td>\n",
              "    </tr>\n",
              "    <tr>\n",
              "      <th>26</th>\n",
              "      <td>Thomas Robinson</td>\n",
              "      <td>Brooklyn Nets</td>\n",
              "      <td>41.0</td>\n",
              "      <td>PF</td>\n",
              "      <td>25.0</td>\n",
              "      <td>6-10</td>\n",
              "      <td>237.0</td>\n",
              "      <td>Kansas</td>\n",
              "      <td>981348.0</td>\n",
              "    </tr>\n",
              "    <tr>\n",
              "      <th>27</th>\n",
              "      <td>Henry Sims</td>\n",
              "      <td>Brooklyn Nets</td>\n",
              "      <td>14.0</td>\n",
              "      <td>C</td>\n",
              "      <td>26.0</td>\n",
              "      <td>6-10</td>\n",
              "      <td>248.0</td>\n",
              "      <td>Georgetown</td>\n",
              "      <td>947276.0</td>\n",
              "    </tr>\n",
              "    <tr>\n",
              "      <th>28</th>\n",
              "      <td>Donald Sloan</td>\n",
              "      <td>Brooklyn Nets</td>\n",
              "      <td>15.0</td>\n",
              "      <td>PG</td>\n",
              "      <td>28.0</td>\n",
              "      <td>6-3</td>\n",
              "      <td>205.0</td>\n",
              "      <td>Texas A&amp;M</td>\n",
              "      <td>947276.0</td>\n",
              "    </tr>\n",
              "    <tr>\n",
              "      <th>29</th>\n",
              "      <td>Thaddeus Young</td>\n",
              "      <td>Brooklyn Nets</td>\n",
              "      <td>30.0</td>\n",
              "      <td>PF</td>\n",
              "      <td>27.0</td>\n",
              "      <td>6-8</td>\n",
              "      <td>221.0</td>\n",
              "      <td>Georgia Tech</td>\n",
              "      <td>11235955.0</td>\n",
              "    </tr>\n",
              "    <tr>\n",
              "      <th>...</th>\n",
              "      <td>...</td>\n",
              "      <td>...</td>\n",
              "      <td>...</td>\n",
              "      <td>...</td>\n",
              "      <td>...</td>\n",
              "      <td>...</td>\n",
              "      <td>...</td>\n",
              "      <td>...</td>\n",
              "      <td>...</td>\n",
              "    </tr>\n",
              "    <tr>\n",
              "      <th>428</th>\n",
              "      <td>Al-Farouq Aminu</td>\n",
              "      <td>Portland Trail Blazers</td>\n",
              "      <td>8.0</td>\n",
              "      <td>SF</td>\n",
              "      <td>25.0</td>\n",
              "      <td>6-9</td>\n",
              "      <td>215.0</td>\n",
              "      <td>Wake Forest</td>\n",
              "      <td>8042895.0</td>\n",
              "    </tr>\n",
              "    <tr>\n",
              "      <th>429</th>\n",
              "      <td>Pat Connaughton</td>\n",
              "      <td>Portland Trail Blazers</td>\n",
              "      <td>5.0</td>\n",
              "      <td>SG</td>\n",
              "      <td>23.0</td>\n",
              "      <td>6-5</td>\n",
              "      <td>206.0</td>\n",
              "      <td>Notre Dame</td>\n",
              "      <td>625093.0</td>\n",
              "    </tr>\n",
              "    <tr>\n",
              "      <th>430</th>\n",
              "      <td>Allen Crabbe</td>\n",
              "      <td>Portland Trail Blazers</td>\n",
              "      <td>23.0</td>\n",
              "      <td>SG</td>\n",
              "      <td>24.0</td>\n",
              "      <td>6-6</td>\n",
              "      <td>210.0</td>\n",
              "      <td>California</td>\n",
              "      <td>947276.0</td>\n",
              "    </tr>\n",
              "    <tr>\n",
              "      <th>431</th>\n",
              "      <td>Ed Davis</td>\n",
              "      <td>Portland Trail Blazers</td>\n",
              "      <td>17.0</td>\n",
              "      <td>C</td>\n",
              "      <td>27.0</td>\n",
              "      <td>6-10</td>\n",
              "      <td>240.0</td>\n",
              "      <td>North Carolina</td>\n",
              "      <td>6980802.0</td>\n",
              "    </tr>\n",
              "    <tr>\n",
              "      <th>432</th>\n",
              "      <td>Maurice Harkless</td>\n",
              "      <td>Portland Trail Blazers</td>\n",
              "      <td>4.0</td>\n",
              "      <td>SF</td>\n",
              "      <td>23.0</td>\n",
              "      <td>6-9</td>\n",
              "      <td>215.0</td>\n",
              "      <td>St. John's</td>\n",
              "      <td>2894059.0</td>\n",
              "    </tr>\n",
              "    <tr>\n",
              "      <th>433</th>\n",
              "      <td>Gerald Henderson</td>\n",
              "      <td>Portland Trail Blazers</td>\n",
              "      <td>9.0</td>\n",
              "      <td>SG</td>\n",
              "      <td>28.0</td>\n",
              "      <td>6-5</td>\n",
              "      <td>215.0</td>\n",
              "      <td>Duke</td>\n",
              "      <td>6000000.0</td>\n",
              "    </tr>\n",
              "    <tr>\n",
              "      <th>434</th>\n",
              "      <td>Chris Kaman</td>\n",
              "      <td>Portland Trail Blazers</td>\n",
              "      <td>35.0</td>\n",
              "      <td>C</td>\n",
              "      <td>34.0</td>\n",
              "      <td>7-0</td>\n",
              "      <td>265.0</td>\n",
              "      <td>Central Michigan</td>\n",
              "      <td>5016000.0</td>\n",
              "    </tr>\n",
              "    <tr>\n",
              "      <th>435</th>\n",
              "      <td>Meyers Leonard</td>\n",
              "      <td>Portland Trail Blazers</td>\n",
              "      <td>11.0</td>\n",
              "      <td>PF</td>\n",
              "      <td>24.0</td>\n",
              "      <td>7-1</td>\n",
              "      <td>245.0</td>\n",
              "      <td>Illinois</td>\n",
              "      <td>3075880.0</td>\n",
              "    </tr>\n",
              "    <tr>\n",
              "      <th>436</th>\n",
              "      <td>Damian Lillard</td>\n",
              "      <td>Portland Trail Blazers</td>\n",
              "      <td>0.0</td>\n",
              "      <td>PG</td>\n",
              "      <td>25.0</td>\n",
              "      <td>6-3</td>\n",
              "      <td>195.0</td>\n",
              "      <td>Weber State</td>\n",
              "      <td>4236287.0</td>\n",
              "    </tr>\n",
              "    <tr>\n",
              "      <th>437</th>\n",
              "      <td>C.J. McCollum</td>\n",
              "      <td>Portland Trail Blazers</td>\n",
              "      <td>3.0</td>\n",
              "      <td>SG</td>\n",
              "      <td>24.0</td>\n",
              "      <td>6-4</td>\n",
              "      <td>200.0</td>\n",
              "      <td>Lehigh</td>\n",
              "      <td>2525160.0</td>\n",
              "    </tr>\n",
              "    <tr>\n",
              "      <th>438</th>\n",
              "      <td>Luis Montero</td>\n",
              "      <td>Portland Trail Blazers</td>\n",
              "      <td>44.0</td>\n",
              "      <td>SG</td>\n",
              "      <td>23.0</td>\n",
              "      <td>6-7</td>\n",
              "      <td>185.0</td>\n",
              "      <td>Westchester CC</td>\n",
              "      <td>525093.0</td>\n",
              "    </tr>\n",
              "    <tr>\n",
              "      <th>439</th>\n",
              "      <td>Mason Plumlee</td>\n",
              "      <td>Portland Trail Blazers</td>\n",
              "      <td>24.0</td>\n",
              "      <td>C</td>\n",
              "      <td>26.0</td>\n",
              "      <td>6-11</td>\n",
              "      <td>235.0</td>\n",
              "      <td>Duke</td>\n",
              "      <td>1415520.0</td>\n",
              "    </tr>\n",
              "    <tr>\n",
              "      <th>440</th>\n",
              "      <td>Brian Roberts</td>\n",
              "      <td>Portland Trail Blazers</td>\n",
              "      <td>2.0</td>\n",
              "      <td>PG</td>\n",
              "      <td>30.0</td>\n",
              "      <td>6-1</td>\n",
              "      <td>173.0</td>\n",
              "      <td>Dayton</td>\n",
              "      <td>2854940.0</td>\n",
              "    </tr>\n",
              "    <tr>\n",
              "      <th>441</th>\n",
              "      <td>Noah Vonleh</td>\n",
              "      <td>Portland Trail Blazers</td>\n",
              "      <td>21.0</td>\n",
              "      <td>PF</td>\n",
              "      <td>20.0</td>\n",
              "      <td>6-9</td>\n",
              "      <td>240.0</td>\n",
              "      <td>Indiana</td>\n",
              "      <td>2637720.0</td>\n",
              "    </tr>\n",
              "    <tr>\n",
              "      <th>442</th>\n",
              "      <td>Trevor Booker</td>\n",
              "      <td>Utah Jazz</td>\n",
              "      <td>33.0</td>\n",
              "      <td>PF</td>\n",
              "      <td>28.0</td>\n",
              "      <td>6-8</td>\n",
              "      <td>228.0</td>\n",
              "      <td>Clemson</td>\n",
              "      <td>4775000.0</td>\n",
              "    </tr>\n",
              "    <tr>\n",
              "      <th>443</th>\n",
              "      <td>Trey Burke</td>\n",
              "      <td>Utah Jazz</td>\n",
              "      <td>3.0</td>\n",
              "      <td>PG</td>\n",
              "      <td>23.0</td>\n",
              "      <td>6-1</td>\n",
              "      <td>191.0</td>\n",
              "      <td>Michigan</td>\n",
              "      <td>2658240.0</td>\n",
              "    </tr>\n",
              "    <tr>\n",
              "      <th>444</th>\n",
              "      <td>Alec Burks</td>\n",
              "      <td>Utah Jazz</td>\n",
              "      <td>10.0</td>\n",
              "      <td>SG</td>\n",
              "      <td>24.0</td>\n",
              "      <td>6-6</td>\n",
              "      <td>214.0</td>\n",
              "      <td>Colorado</td>\n",
              "      <td>9463484.0</td>\n",
              "    </tr>\n",
              "    <tr>\n",
              "      <th>445</th>\n",
              "      <td>Dante Exum</td>\n",
              "      <td>Utah Jazz</td>\n",
              "      <td>11.0</td>\n",
              "      <td>PG</td>\n",
              "      <td>20.0</td>\n",
              "      <td>6-6</td>\n",
              "      <td>190.0</td>\n",
              "      <td>Colorado</td>\n",
              "      <td>3777720.0</td>\n",
              "    </tr>\n",
              "    <tr>\n",
              "      <th>446</th>\n",
              "      <td>Derrick Favors</td>\n",
              "      <td>Utah Jazz</td>\n",
              "      <td>15.0</td>\n",
              "      <td>PF</td>\n",
              "      <td>24.0</td>\n",
              "      <td>6-10</td>\n",
              "      <td>265.0</td>\n",
              "      <td>Georgia Tech</td>\n",
              "      <td>12000000.0</td>\n",
              "    </tr>\n",
              "    <tr>\n",
              "      <th>447</th>\n",
              "      <td>Rudy Gobert</td>\n",
              "      <td>Utah Jazz</td>\n",
              "      <td>27.0</td>\n",
              "      <td>C</td>\n",
              "      <td>23.0</td>\n",
              "      <td>7-1</td>\n",
              "      <td>245.0</td>\n",
              "      <td>Georgia Tech</td>\n",
              "      <td>1175880.0</td>\n",
              "    </tr>\n",
              "    <tr>\n",
              "      <th>448</th>\n",
              "      <td>Gordon Hayward</td>\n",
              "      <td>Utah Jazz</td>\n",
              "      <td>20.0</td>\n",
              "      <td>SF</td>\n",
              "      <td>26.0</td>\n",
              "      <td>6-8</td>\n",
              "      <td>226.0</td>\n",
              "      <td>Butler</td>\n",
              "      <td>15409570.0</td>\n",
              "    </tr>\n",
              "    <tr>\n",
              "      <th>449</th>\n",
              "      <td>Rodney Hood</td>\n",
              "      <td>Utah Jazz</td>\n",
              "      <td>5.0</td>\n",
              "      <td>SG</td>\n",
              "      <td>23.0</td>\n",
              "      <td>6-8</td>\n",
              "      <td>206.0</td>\n",
              "      <td>Duke</td>\n",
              "      <td>1348440.0</td>\n",
              "    </tr>\n",
              "    <tr>\n",
              "      <th>450</th>\n",
              "      <td>Joe Ingles</td>\n",
              "      <td>Utah Jazz</td>\n",
              "      <td>2.0</td>\n",
              "      <td>SF</td>\n",
              "      <td>28.0</td>\n",
              "      <td>6-8</td>\n",
              "      <td>226.0</td>\n",
              "      <td>Duke</td>\n",
              "      <td>2050000.0</td>\n",
              "    </tr>\n",
              "    <tr>\n",
              "      <th>451</th>\n",
              "      <td>Chris Johnson</td>\n",
              "      <td>Utah Jazz</td>\n",
              "      <td>23.0</td>\n",
              "      <td>SF</td>\n",
              "      <td>26.0</td>\n",
              "      <td>6-6</td>\n",
              "      <td>206.0</td>\n",
              "      <td>Dayton</td>\n",
              "      <td>981348.0</td>\n",
              "    </tr>\n",
              "    <tr>\n",
              "      <th>452</th>\n",
              "      <td>Trey Lyles</td>\n",
              "      <td>Utah Jazz</td>\n",
              "      <td>41.0</td>\n",
              "      <td>PF</td>\n",
              "      <td>20.0</td>\n",
              "      <td>6-10</td>\n",
              "      <td>234.0</td>\n",
              "      <td>Kentucky</td>\n",
              "      <td>2239800.0</td>\n",
              "    </tr>\n",
              "    <tr>\n",
              "      <th>453</th>\n",
              "      <td>Shelvin Mack</td>\n",
              "      <td>Utah Jazz</td>\n",
              "      <td>8.0</td>\n",
              "      <td>PG</td>\n",
              "      <td>26.0</td>\n",
              "      <td>6-3</td>\n",
              "      <td>203.0</td>\n",
              "      <td>Butler</td>\n",
              "      <td>2433333.0</td>\n",
              "    </tr>\n",
              "    <tr>\n",
              "      <th>454</th>\n",
              "      <td>Raul Neto</td>\n",
              "      <td>Utah Jazz</td>\n",
              "      <td>25.0</td>\n",
              "      <td>PG</td>\n",
              "      <td>24.0</td>\n",
              "      <td>6-1</td>\n",
              "      <td>179.0</td>\n",
              "      <td>Butler</td>\n",
              "      <td>900000.0</td>\n",
              "    </tr>\n",
              "    <tr>\n",
              "      <th>455</th>\n",
              "      <td>Tibor Pleiss</td>\n",
              "      <td>Utah Jazz</td>\n",
              "      <td>21.0</td>\n",
              "      <td>C</td>\n",
              "      <td>26.0</td>\n",
              "      <td>7-3</td>\n",
              "      <td>256.0</td>\n",
              "      <td>NaN</td>\n",
              "      <td>2900000.0</td>\n",
              "    </tr>\n",
              "    <tr>\n",
              "      <th>456</th>\n",
              "      <td>Jeff Withey</td>\n",
              "      <td>Utah Jazz</td>\n",
              "      <td>24.0</td>\n",
              "      <td>C</td>\n",
              "      <td>26.0</td>\n",
              "      <td>7-0</td>\n",
              "      <td>231.0</td>\n",
              "      <td>Kansas</td>\n",
              "      <td>947276.0</td>\n",
              "    </tr>\n",
              "    <tr>\n",
              "      <th>457</th>\n",
              "      <td>NaN</td>\n",
              "      <td>NaN</td>\n",
              "      <td>NaN</td>\n",
              "      <td>NaN</td>\n",
              "      <td>NaN</td>\n",
              "      <td>NaN</td>\n",
              "      <td>NaN</td>\n",
              "      <td>Kansas</td>\n",
              "      <td>NaN</td>\n",
              "    </tr>\n",
              "  </tbody>\n",
              "</table>\n",
              "<p>458 rows × 9 columns</p>\n",
              "</div>"
            ],
            "text/plain": [
              "                        Name                    Team  Number Position   Age  \\\n",
              "0              Avery Bradley          Boston Celtics     0.0       PG  25.0   \n",
              "1                Jae Crowder          Boston Celtics    99.0       SF  25.0   \n",
              "2               John Holland          Boston Celtics    30.0       SG  27.0   \n",
              "3                R.J. Hunter          Boston Celtics    28.0       SG  22.0   \n",
              "4              Jonas Jerebko          Boston Celtics     8.0       PF  29.0   \n",
              "5               Amir Johnson          Boston Celtics    90.0       PF  29.0   \n",
              "6              Jordan Mickey          Boston Celtics    55.0       PF  21.0   \n",
              "7               Kelly Olynyk          Boston Celtics    41.0        C  25.0   \n",
              "8               Terry Rozier          Boston Celtics    12.0       PG  22.0   \n",
              "9               Marcus Smart          Boston Celtics    36.0       PG  22.0   \n",
              "10           Jared Sullinger          Boston Celtics     7.0        C  24.0   \n",
              "11             Isaiah Thomas          Boston Celtics     4.0       PG  27.0   \n",
              "12               Evan Turner          Boston Celtics    11.0       SG  27.0   \n",
              "13               James Young          Boston Celtics    13.0       SG  20.0   \n",
              "14              Tyler Zeller          Boston Celtics    44.0        C  26.0   \n",
              "15          Bojan Bogdanovic           Brooklyn Nets    44.0       SG  27.0   \n",
              "16              Markel Brown           Brooklyn Nets    22.0       SG  24.0   \n",
              "17           Wayne Ellington           Brooklyn Nets    21.0       SG  28.0   \n",
              "18   Rondae Hollis-Jefferson           Brooklyn Nets    24.0       SG  21.0   \n",
              "19              Jarrett Jack           Brooklyn Nets     2.0       PG  32.0   \n",
              "20            Sergey Karasev           Brooklyn Nets    10.0       SG  22.0   \n",
              "21           Sean Kilpatrick           Brooklyn Nets     6.0       SG  26.0   \n",
              "22              Shane Larkin           Brooklyn Nets     0.0       PG  23.0   \n",
              "23               Brook Lopez           Brooklyn Nets    11.0        C  28.0   \n",
              "24          Chris McCullough           Brooklyn Nets     1.0       PF  21.0   \n",
              "25               Willie Reed           Brooklyn Nets    33.0       PF  26.0   \n",
              "26           Thomas Robinson           Brooklyn Nets    41.0       PF  25.0   \n",
              "27                Henry Sims           Brooklyn Nets    14.0        C  26.0   \n",
              "28              Donald Sloan           Brooklyn Nets    15.0       PG  28.0   \n",
              "29            Thaddeus Young           Brooklyn Nets    30.0       PF  27.0   \n",
              "..                       ...                     ...     ...      ...   ...   \n",
              "428          Al-Farouq Aminu  Portland Trail Blazers     8.0       SF  25.0   \n",
              "429          Pat Connaughton  Portland Trail Blazers     5.0       SG  23.0   \n",
              "430             Allen Crabbe  Portland Trail Blazers    23.0       SG  24.0   \n",
              "431                 Ed Davis  Portland Trail Blazers    17.0        C  27.0   \n",
              "432         Maurice Harkless  Portland Trail Blazers     4.0       SF  23.0   \n",
              "433         Gerald Henderson  Portland Trail Blazers     9.0       SG  28.0   \n",
              "434              Chris Kaman  Portland Trail Blazers    35.0        C  34.0   \n",
              "435           Meyers Leonard  Portland Trail Blazers    11.0       PF  24.0   \n",
              "436           Damian Lillard  Portland Trail Blazers     0.0       PG  25.0   \n",
              "437            C.J. McCollum  Portland Trail Blazers     3.0       SG  24.0   \n",
              "438             Luis Montero  Portland Trail Blazers    44.0       SG  23.0   \n",
              "439            Mason Plumlee  Portland Trail Blazers    24.0        C  26.0   \n",
              "440            Brian Roberts  Portland Trail Blazers     2.0       PG  30.0   \n",
              "441              Noah Vonleh  Portland Trail Blazers    21.0       PF  20.0   \n",
              "442            Trevor Booker               Utah Jazz    33.0       PF  28.0   \n",
              "443               Trey Burke               Utah Jazz     3.0       PG  23.0   \n",
              "444               Alec Burks               Utah Jazz    10.0       SG  24.0   \n",
              "445               Dante Exum               Utah Jazz    11.0       PG  20.0   \n",
              "446           Derrick Favors               Utah Jazz    15.0       PF  24.0   \n",
              "447              Rudy Gobert               Utah Jazz    27.0        C  23.0   \n",
              "448           Gordon Hayward               Utah Jazz    20.0       SF  26.0   \n",
              "449              Rodney Hood               Utah Jazz     5.0       SG  23.0   \n",
              "450               Joe Ingles               Utah Jazz     2.0       SF  28.0   \n",
              "451            Chris Johnson               Utah Jazz    23.0       SF  26.0   \n",
              "452               Trey Lyles               Utah Jazz    41.0       PF  20.0   \n",
              "453             Shelvin Mack               Utah Jazz     8.0       PG  26.0   \n",
              "454                Raul Neto               Utah Jazz    25.0       PG  24.0   \n",
              "455             Tibor Pleiss               Utah Jazz    21.0        C  26.0   \n",
              "456              Jeff Withey               Utah Jazz    24.0        C  26.0   \n",
              "457                      NaN                     NaN     NaN      NaN   NaN   \n",
              "\n",
              "    Height  Weight            College      Salary  \n",
              "0      6-2   180.0              Texas   7730337.0  \n",
              "1      6-6   235.0          Marquette   6796117.0  \n",
              "2      6-5   205.0  Boston University         NaN  \n",
              "3      6-5   185.0      Georgia State   1148640.0  \n",
              "4     6-10   231.0      Georgia State   5000000.0  \n",
              "5      6-9   240.0                NaN  12000000.0  \n",
              "6      6-8   235.0                LSU   1170960.0  \n",
              "7      7-0   238.0            Gonzaga   2165160.0  \n",
              "8      6-2   190.0         Louisville   1824360.0  \n",
              "9      6-4   220.0     Oklahoma State   3431040.0  \n",
              "10     6-9   260.0         Ohio State   2569260.0  \n",
              "11     5-9   185.0         Washington   6912869.0  \n",
              "12     6-7   220.0         Ohio State   3425510.0  \n",
              "13     6-6   215.0           Kentucky   1749840.0  \n",
              "14     7-0   253.0     North Carolina   2616975.0  \n",
              "15     6-8   216.0     North Carolina   3425510.0  \n",
              "16     6-3   190.0     Oklahoma State    845059.0  \n",
              "17     6-4   200.0     North Carolina   1500000.0  \n",
              "18     6-7   220.0            Arizona   1335480.0  \n",
              "19     6-3   200.0       Georgia Tech   6300000.0  \n",
              "20     6-7   208.0       Georgia Tech   1599840.0  \n",
              "21     6-4   219.0         Cincinnati    134215.0  \n",
              "22    5-11   175.0         Miami (FL)   1500000.0  \n",
              "23     7-0   275.0           Stanford  19689000.0  \n",
              "24    6-11   200.0           Syracuse   1140240.0  \n",
              "25    6-10   220.0        Saint Louis    947276.0  \n",
              "26    6-10   237.0             Kansas    981348.0  \n",
              "27    6-10   248.0         Georgetown    947276.0  \n",
              "28     6-3   205.0          Texas A&M    947276.0  \n",
              "29     6-8   221.0       Georgia Tech  11235955.0  \n",
              "..     ...     ...                ...         ...  \n",
              "428    6-9   215.0        Wake Forest   8042895.0  \n",
              "429    6-5   206.0         Notre Dame    625093.0  \n",
              "430    6-6   210.0         California    947276.0  \n",
              "431   6-10   240.0     North Carolina   6980802.0  \n",
              "432    6-9   215.0         St. John's   2894059.0  \n",
              "433    6-5   215.0               Duke   6000000.0  \n",
              "434    7-0   265.0   Central Michigan   5016000.0  \n",
              "435    7-1   245.0           Illinois   3075880.0  \n",
              "436    6-3   195.0        Weber State   4236287.0  \n",
              "437    6-4   200.0             Lehigh   2525160.0  \n",
              "438    6-7   185.0     Westchester CC    525093.0  \n",
              "439   6-11   235.0               Duke   1415520.0  \n",
              "440    6-1   173.0             Dayton   2854940.0  \n",
              "441    6-9   240.0            Indiana   2637720.0  \n",
              "442    6-8   228.0            Clemson   4775000.0  \n",
              "443    6-1   191.0           Michigan   2658240.0  \n",
              "444    6-6   214.0           Colorado   9463484.0  \n",
              "445    6-6   190.0           Colorado   3777720.0  \n",
              "446   6-10   265.0       Georgia Tech  12000000.0  \n",
              "447    7-1   245.0       Georgia Tech   1175880.0  \n",
              "448    6-8   226.0             Butler  15409570.0  \n",
              "449    6-8   206.0               Duke   1348440.0  \n",
              "450    6-8   226.0               Duke   2050000.0  \n",
              "451    6-6   206.0             Dayton    981348.0  \n",
              "452   6-10   234.0           Kentucky   2239800.0  \n",
              "453    6-3   203.0             Butler   2433333.0  \n",
              "454    6-1   179.0             Butler    900000.0  \n",
              "455    7-3   256.0                NaN   2900000.0  \n",
              "456    7-0   231.0             Kansas    947276.0  \n",
              "457    NaN     NaN             Kansas         NaN  \n",
              "\n",
              "[458 rows x 9 columns]"
            ]
          },
          "metadata": {
            "tags": []
          },
          "execution_count": 39
        }
      ]
    },
    {
      "metadata": {
        "id": "aoDeVJG9eL1e",
        "colab_type": "text"
      },
      "cell_type": "markdown",
      "source": [
        "### pd.Series.fillna()"
      ]
    },
    {
      "metadata": {
        "id": "_05mL307dnWc",
        "colab_type": "code",
        "outputId": "7110734e-d626-42ef-b704-aed6ce757a0b",
        "colab": {
          "base_uri": "https://localhost:8080/",
          "height": 124
        }
      },
      "cell_type": "code",
      "source": [
        "## See examples of pd.DataFrame.fillna()\n",
        "\n",
        "sr = pd.Series(['New York', 'Chicago', 'Toronto', None, 'Rio'])\n",
        "\n",
        "index_ = ['City 1', 'City 2', 'City 3', 'City 4', 'City 5']\n",
        "\n",
        "sr.index = index_\n",
        "\n",
        "sr"
      ],
      "execution_count": 40,
      "outputs": [
        {
          "output_type": "execute_result",
          "data": {
            "text/plain": [
              "City 1    New York\n",
              "City 2     Chicago\n",
              "City 3     Toronto\n",
              "City 4        None\n",
              "City 5         Rio\n",
              "dtype: object"
            ]
          },
          "metadata": {
            "tags": []
          },
          "execution_count": 40
        }
      ]
    },
    {
      "metadata": {
        "id": "vc3onwC9fC3p",
        "colab_type": "code",
        "outputId": "c943b324-0d91-4063-a752-b821a22d3ed0",
        "colab": {
          "base_uri": "https://localhost:8080/",
          "height": 124
        }
      },
      "cell_type": "code",
      "source": [
        "result = sr.fillna(value = {'City 4': 'Lisbon',\n",
        "                            'City 1': 'Dublin'})\n",
        "\n",
        "result"
      ],
      "execution_count": 41,
      "outputs": [
        {
          "output_type": "execute_result",
          "data": {
            "text/plain": [
              "City 1    New York\n",
              "City 2     Chicago\n",
              "City 3     Toronto\n",
              "City 4      Lisbon\n",
              "City 5         Rio\n",
              "dtype: object"
            ]
          },
          "metadata": {
            "tags": []
          },
          "execution_count": 41
        }
      ]
    },
    {
      "metadata": {
        "id": "MN9t5dbbfUW-",
        "colab_type": "code",
        "outputId": "aad24688-0dae-4629-e9f2-bf017226030a",
        "colab": {
          "base_uri": "https://localhost:8080/",
          "height": 231
        }
      },
      "cell_type": "code",
      "source": [
        "sr = pd.Series([100, None, None, 18, 65, None, 32, 10, 5, 24, None])\n",
        "\n",
        "index_ = pd.date_range('2010-10-09', periods = 11, freq = 'M')\n",
        "\n",
        "sr.index = index_\n",
        "\n",
        "sr"
      ],
      "execution_count": 42,
      "outputs": [
        {
          "output_type": "execute_result",
          "data": {
            "text/plain": [
              "2010-10-31    100.0\n",
              "2010-11-30      NaN\n",
              "2010-12-31      NaN\n",
              "2011-01-31     18.0\n",
              "2011-02-28     65.0\n",
              "2011-03-31      NaN\n",
              "2011-04-30     32.0\n",
              "2011-05-31     10.0\n",
              "2011-06-30      5.0\n",
              "2011-07-31     24.0\n",
              "2011-08-31      NaN\n",
              "Freq: M, dtype: float64"
            ]
          },
          "metadata": {
            "tags": []
          },
          "execution_count": 42
        }
      ]
    },
    {
      "metadata": {
        "id": "mw8PGQX9fk7C",
        "colab_type": "code",
        "outputId": "bdd09235-ff1b-49fd-a4e7-73f72ee8babe",
        "colab": {
          "base_uri": "https://localhost:8080/",
          "height": 231
        }
      },
      "cell_type": "code",
      "source": [
        "result = sr.fillna(method = 'ffill')\n",
        "\n",
        "result"
      ],
      "execution_count": 43,
      "outputs": [
        {
          "output_type": "execute_result",
          "data": {
            "text/plain": [
              "2010-10-31    100.0\n",
              "2010-11-30    100.0\n",
              "2010-12-31    100.0\n",
              "2011-01-31     18.0\n",
              "2011-02-28     65.0\n",
              "2011-03-31     65.0\n",
              "2011-04-30     32.0\n",
              "2011-05-31     10.0\n",
              "2011-06-30      5.0\n",
              "2011-07-31     24.0\n",
              "2011-08-31     24.0\n",
              "Freq: M, dtype: float64"
            ]
          },
          "metadata": {
            "tags": []
          },
          "execution_count": 43
        }
      ]
    },
    {
      "metadata": {
        "id": "--IlZuKYgduo",
        "colab_type": "text"
      },
      "cell_type": "markdown",
      "source": [
        "### pd.DataFrame.isnull()"
      ]
    },
    {
      "metadata": {
        "id": "bU6ILxM1f_Ir",
        "colab_type": "code",
        "outputId": "ae171d14-59ad-4592-c554-724cd192bf09",
        "colab": {
          "base_uri": "https://localhost:8080/",
          "height": 143
        }
      },
      "cell_type": "code",
      "source": [
        "df = pd.DataFrame({'age': [5, 6, np.NaN],\n",
        "                   'born': [pd.NaT, pd.Timestamp('1939-05-27'),\n",
        "                            pd.Timestamp('1940-04-25')],\n",
        "                   'name': ['Alfred', 'Batman', ''],\n",
        "                   'toy': [None, 'Batmobile', 'Joker']})\n",
        "\n",
        "df"
      ],
      "execution_count": 44,
      "outputs": [
        {
          "output_type": "execute_result",
          "data": {
            "text/html": [
              "<div>\n",
              "<style scoped>\n",
              "    .dataframe tbody tr th:only-of-type {\n",
              "        vertical-align: middle;\n",
              "    }\n",
              "\n",
              "    .dataframe tbody tr th {\n",
              "        vertical-align: top;\n",
              "    }\n",
              "\n",
              "    .dataframe thead th {\n",
              "        text-align: right;\n",
              "    }\n",
              "</style>\n",
              "<table border=\"1\" class=\"dataframe\">\n",
              "  <thead>\n",
              "    <tr style=\"text-align: right;\">\n",
              "      <th></th>\n",
              "      <th>age</th>\n",
              "      <th>born</th>\n",
              "      <th>name</th>\n",
              "      <th>toy</th>\n",
              "    </tr>\n",
              "  </thead>\n",
              "  <tbody>\n",
              "    <tr>\n",
              "      <th>0</th>\n",
              "      <td>5.0</td>\n",
              "      <td>NaT</td>\n",
              "      <td>Alfred</td>\n",
              "      <td>None</td>\n",
              "    </tr>\n",
              "    <tr>\n",
              "      <th>1</th>\n",
              "      <td>6.0</td>\n",
              "      <td>1939-05-27</td>\n",
              "      <td>Batman</td>\n",
              "      <td>Batmobile</td>\n",
              "    </tr>\n",
              "    <tr>\n",
              "      <th>2</th>\n",
              "      <td>NaN</td>\n",
              "      <td>1940-04-25</td>\n",
              "      <td></td>\n",
              "      <td>Joker</td>\n",
              "    </tr>\n",
              "  </tbody>\n",
              "</table>\n",
              "</div>"
            ],
            "text/plain": [
              "   age       born    name        toy\n",
              "0  5.0        NaT  Alfred       None\n",
              "1  6.0 1939-05-27  Batman  Batmobile\n",
              "2  NaN 1940-04-25              Joker"
            ]
          },
          "metadata": {
            "tags": []
          },
          "execution_count": 44
        }
      ]
    },
    {
      "metadata": {
        "id": "krgevyWjg-cV",
        "colab_type": "code",
        "outputId": "b24ee160-b947-412c-85fc-7888190be276",
        "colab": {
          "base_uri": "https://localhost:8080/",
          "height": 143
        }
      },
      "cell_type": "code",
      "source": [
        "df.isna()"
      ],
      "execution_count": 45,
      "outputs": [
        {
          "output_type": "execute_result",
          "data": {
            "text/html": [
              "<div>\n",
              "<style scoped>\n",
              "    .dataframe tbody tr th:only-of-type {\n",
              "        vertical-align: middle;\n",
              "    }\n",
              "\n",
              "    .dataframe tbody tr th {\n",
              "        vertical-align: top;\n",
              "    }\n",
              "\n",
              "    .dataframe thead th {\n",
              "        text-align: right;\n",
              "    }\n",
              "</style>\n",
              "<table border=\"1\" class=\"dataframe\">\n",
              "  <thead>\n",
              "    <tr style=\"text-align: right;\">\n",
              "      <th></th>\n",
              "      <th>age</th>\n",
              "      <th>born</th>\n",
              "      <th>name</th>\n",
              "      <th>toy</th>\n",
              "    </tr>\n",
              "  </thead>\n",
              "  <tbody>\n",
              "    <tr>\n",
              "      <th>0</th>\n",
              "      <td>False</td>\n",
              "      <td>True</td>\n",
              "      <td>False</td>\n",
              "      <td>True</td>\n",
              "    </tr>\n",
              "    <tr>\n",
              "      <th>1</th>\n",
              "      <td>False</td>\n",
              "      <td>False</td>\n",
              "      <td>False</td>\n",
              "      <td>False</td>\n",
              "    </tr>\n",
              "    <tr>\n",
              "      <th>2</th>\n",
              "      <td>True</td>\n",
              "      <td>False</td>\n",
              "      <td>False</td>\n",
              "      <td>False</td>\n",
              "    </tr>\n",
              "  </tbody>\n",
              "</table>\n",
              "</div>"
            ],
            "text/plain": [
              "     age   born   name    toy\n",
              "0  False   True  False   True\n",
              "1  False  False  False  False\n",
              "2   True  False  False  False"
            ]
          },
          "metadata": {
            "tags": []
          },
          "execution_count": 45
        }
      ]
    },
    {
      "metadata": {
        "id": "sU_7qnPyhBwW",
        "colab_type": "code",
        "outputId": "1131f1e7-0d79-47e6-a716-06e66baca3f8",
        "colab": {
          "base_uri": "https://localhost:8080/",
          "height": 88
        }
      },
      "cell_type": "code",
      "source": [
        "ser = pd.Series([5, 6, np.NaN])\n",
        "\n",
        "ser"
      ],
      "execution_count": 46,
      "outputs": [
        {
          "output_type": "execute_result",
          "data": {
            "text/plain": [
              "0    5.0\n",
              "1    6.0\n",
              "2    NaN\n",
              "dtype: float64"
            ]
          },
          "metadata": {
            "tags": []
          },
          "execution_count": 46
        }
      ]
    },
    {
      "metadata": {
        "id": "JwI2OOJjhSYH",
        "colab_type": "code",
        "outputId": "620226cc-1fe0-4dc1-a7fe-c299c1ba77ea",
        "colab": {
          "base_uri": "https://localhost:8080/",
          "height": 88
        }
      },
      "cell_type": "code",
      "source": [
        "ser.isna()"
      ],
      "execution_count": 47,
      "outputs": [
        {
          "output_type": "execute_result",
          "data": {
            "text/plain": [
              "0    False\n",
              "1    False\n",
              "2     True\n",
              "dtype: bool"
            ]
          },
          "metadata": {
            "tags": []
          },
          "execution_count": 47
        }
      ]
    },
    {
      "metadata": {
        "id": "4w0bUSRAhThS",
        "colab_type": "code",
        "outputId": "699132a2-6e59-40b9-c1b8-ed1ea6cd56e1",
        "colab": {
          "base_uri": "https://localhost:8080/",
          "height": 1992
        }
      },
      "cell_type": "code",
      "source": [
        "data = pd.read_csv(\"https://cdncontribute.geeksforgeeks.org/wp-content/uploads/employees.csv\")\n",
        "\n",
        "bool_series = pd.isnull(data[\"Gender\"])\n",
        "\n",
        "data[bool_series]"
      ],
      "execution_count": 48,
      "outputs": [
        {
          "output_type": "execute_result",
          "data": {
            "text/html": [
              "<div>\n",
              "<style scoped>\n",
              "    .dataframe tbody tr th:only-of-type {\n",
              "        vertical-align: middle;\n",
              "    }\n",
              "\n",
              "    .dataframe tbody tr th {\n",
              "        vertical-align: top;\n",
              "    }\n",
              "\n",
              "    .dataframe thead th {\n",
              "        text-align: right;\n",
              "    }\n",
              "</style>\n",
              "<table border=\"1\" class=\"dataframe\">\n",
              "  <thead>\n",
              "    <tr style=\"text-align: right;\">\n",
              "      <th></th>\n",
              "      <th>First Name</th>\n",
              "      <th>Gender</th>\n",
              "      <th>Start Date</th>\n",
              "      <th>Last Login Time</th>\n",
              "      <th>Salary</th>\n",
              "      <th>Bonus %</th>\n",
              "      <th>Senior Management</th>\n",
              "      <th>Team</th>\n",
              "    </tr>\n",
              "  </thead>\n",
              "  <tbody>\n",
              "    <tr>\n",
              "      <th>20</th>\n",
              "      <td>Lois</td>\n",
              "      <td>NaN</td>\n",
              "      <td>4/22/1995</td>\n",
              "      <td>7:18 PM</td>\n",
              "      <td>64714</td>\n",
              "      <td>4.934</td>\n",
              "      <td>True</td>\n",
              "      <td>Legal</td>\n",
              "    </tr>\n",
              "    <tr>\n",
              "      <th>22</th>\n",
              "      <td>Joshua</td>\n",
              "      <td>NaN</td>\n",
              "      <td>3/8/2012</td>\n",
              "      <td>1:58 AM</td>\n",
              "      <td>90816</td>\n",
              "      <td>18.816</td>\n",
              "      <td>True</td>\n",
              "      <td>Client Services</td>\n",
              "    </tr>\n",
              "    <tr>\n",
              "      <th>27</th>\n",
              "      <td>Scott</td>\n",
              "      <td>NaN</td>\n",
              "      <td>7/11/1991</td>\n",
              "      <td>6:58 PM</td>\n",
              "      <td>122367</td>\n",
              "      <td>5.218</td>\n",
              "      <td>False</td>\n",
              "      <td>Legal</td>\n",
              "    </tr>\n",
              "    <tr>\n",
              "      <th>31</th>\n",
              "      <td>Joyce</td>\n",
              "      <td>NaN</td>\n",
              "      <td>2/20/2005</td>\n",
              "      <td>2:40 PM</td>\n",
              "      <td>88657</td>\n",
              "      <td>12.752</td>\n",
              "      <td>False</td>\n",
              "      <td>Product</td>\n",
              "    </tr>\n",
              "    <tr>\n",
              "      <th>41</th>\n",
              "      <td>Christine</td>\n",
              "      <td>NaN</td>\n",
              "      <td>6/28/2015</td>\n",
              "      <td>1:08 AM</td>\n",
              "      <td>66582</td>\n",
              "      <td>11.308</td>\n",
              "      <td>True</td>\n",
              "      <td>Business Development</td>\n",
              "    </tr>\n",
              "    <tr>\n",
              "      <th>49</th>\n",
              "      <td>Chris</td>\n",
              "      <td>NaN</td>\n",
              "      <td>1/24/1980</td>\n",
              "      <td>12:13 PM</td>\n",
              "      <td>113590</td>\n",
              "      <td>3.055</td>\n",
              "      <td>False</td>\n",
              "      <td>Sales</td>\n",
              "    </tr>\n",
              "    <tr>\n",
              "      <th>51</th>\n",
              "      <td>NaN</td>\n",
              "      <td>NaN</td>\n",
              "      <td>12/17/2011</td>\n",
              "      <td>8:29 AM</td>\n",
              "      <td>41126</td>\n",
              "      <td>14.009</td>\n",
              "      <td>NaN</td>\n",
              "      <td>Sales</td>\n",
              "    </tr>\n",
              "    <tr>\n",
              "      <th>53</th>\n",
              "      <td>Alan</td>\n",
              "      <td>NaN</td>\n",
              "      <td>3/3/2014</td>\n",
              "      <td>1:28 PM</td>\n",
              "      <td>40341</td>\n",
              "      <td>17.578</td>\n",
              "      <td>True</td>\n",
              "      <td>Finance</td>\n",
              "    </tr>\n",
              "    <tr>\n",
              "      <th>60</th>\n",
              "      <td>Paula</td>\n",
              "      <td>NaN</td>\n",
              "      <td>11/23/2005</td>\n",
              "      <td>2:01 PM</td>\n",
              "      <td>48866</td>\n",
              "      <td>4.271</td>\n",
              "      <td>False</td>\n",
              "      <td>Distribution</td>\n",
              "    </tr>\n",
              "    <tr>\n",
              "      <th>64</th>\n",
              "      <td>Kathleen</td>\n",
              "      <td>NaN</td>\n",
              "      <td>4/11/1990</td>\n",
              "      <td>6:46 PM</td>\n",
              "      <td>77834</td>\n",
              "      <td>18.771</td>\n",
              "      <td>False</td>\n",
              "      <td>Business Development</td>\n",
              "    </tr>\n",
              "    <tr>\n",
              "      <th>69</th>\n",
              "      <td>Irene</td>\n",
              "      <td>NaN</td>\n",
              "      <td>7/14/2015</td>\n",
              "      <td>4:31 PM</td>\n",
              "      <td>100863</td>\n",
              "      <td>4.382</td>\n",
              "      <td>True</td>\n",
              "      <td>Finance</td>\n",
              "    </tr>\n",
              "    <tr>\n",
              "      <th>70</th>\n",
              "      <td>Todd</td>\n",
              "      <td>NaN</td>\n",
              "      <td>6/10/2003</td>\n",
              "      <td>2:26 PM</td>\n",
              "      <td>84692</td>\n",
              "      <td>6.617</td>\n",
              "      <td>False</td>\n",
              "      <td>Client Services</td>\n",
              "    </tr>\n",
              "    <tr>\n",
              "      <th>80</th>\n",
              "      <td>Gerald</td>\n",
              "      <td>NaN</td>\n",
              "      <td>3/17/1995</td>\n",
              "      <td>12:50 AM</td>\n",
              "      <td>137126</td>\n",
              "      <td>15.602</td>\n",
              "      <td>True</td>\n",
              "      <td>Sales</td>\n",
              "    </tr>\n",
              "    <tr>\n",
              "      <th>86</th>\n",
              "      <td>Annie</td>\n",
              "      <td>NaN</td>\n",
              "      <td>9/29/2007</td>\n",
              "      <td>12:11 AM</td>\n",
              "      <td>103495</td>\n",
              "      <td>17.290</td>\n",
              "      <td>True</td>\n",
              "      <td>Business Development</td>\n",
              "    </tr>\n",
              "    <tr>\n",
              "      <th>90</th>\n",
              "      <td>Janice</td>\n",
              "      <td>NaN</td>\n",
              "      <td>8/21/1997</td>\n",
              "      <td>5:12 AM</td>\n",
              "      <td>91719</td>\n",
              "      <td>11.583</td>\n",
              "      <td>True</td>\n",
              "      <td>Legal</td>\n",
              "    </tr>\n",
              "    <tr>\n",
              "      <th>91</th>\n",
              "      <td>James</td>\n",
              "      <td>NaN</td>\n",
              "      <td>1/26/2005</td>\n",
              "      <td>11:00 PM</td>\n",
              "      <td>128771</td>\n",
              "      <td>8.309</td>\n",
              "      <td>False</td>\n",
              "      <td>NaN</td>\n",
              "    </tr>\n",
              "    <tr>\n",
              "      <th>93</th>\n",
              "      <td>Virginia</td>\n",
              "      <td>NaN</td>\n",
              "      <td>5/7/1994</td>\n",
              "      <td>5:58 PM</td>\n",
              "      <td>111858</td>\n",
              "      <td>1.601</td>\n",
              "      <td>True</td>\n",
              "      <td>Legal</td>\n",
              "    </tr>\n",
              "    <tr>\n",
              "      <th>97</th>\n",
              "      <td>Laura</td>\n",
              "      <td>NaN</td>\n",
              "      <td>7/19/2014</td>\n",
              "      <td>9:23 PM</td>\n",
              "      <td>140371</td>\n",
              "      <td>10.620</td>\n",
              "      <td>True</td>\n",
              "      <td>Marketing</td>\n",
              "    </tr>\n",
              "    <tr>\n",
              "      <th>108</th>\n",
              "      <td>Russell</td>\n",
              "      <td>NaN</td>\n",
              "      <td>5/5/1988</td>\n",
              "      <td>7:57 AM</td>\n",
              "      <td>133980</td>\n",
              "      <td>12.396</td>\n",
              "      <td>True</td>\n",
              "      <td>Legal</td>\n",
              "    </tr>\n",
              "    <tr>\n",
              "      <th>121</th>\n",
              "      <td>Kathleen</td>\n",
              "      <td>NaN</td>\n",
              "      <td>5/9/2016</td>\n",
              "      <td>8:55 AM</td>\n",
              "      <td>119735</td>\n",
              "      <td>18.740</td>\n",
              "      <td>False</td>\n",
              "      <td>Product</td>\n",
              "    </tr>\n",
              "    <tr>\n",
              "      <th>143</th>\n",
              "      <td>Teresa</td>\n",
              "      <td>NaN</td>\n",
              "      <td>1/28/2016</td>\n",
              "      <td>10:55 AM</td>\n",
              "      <td>140013</td>\n",
              "      <td>8.689</td>\n",
              "      <td>True</td>\n",
              "      <td>Engineering</td>\n",
              "    </tr>\n",
              "    <tr>\n",
              "      <th>144</th>\n",
              "      <td>Nicole</td>\n",
              "      <td>NaN</td>\n",
              "      <td>3/5/1982</td>\n",
              "      <td>2:28 PM</td>\n",
              "      <td>122717</td>\n",
              "      <td>12.452</td>\n",
              "      <td>False</td>\n",
              "      <td>Sales</td>\n",
              "    </tr>\n",
              "    <tr>\n",
              "      <th>148</th>\n",
              "      <td>Patrick</td>\n",
              "      <td>NaN</td>\n",
              "      <td>7/14/1991</td>\n",
              "      <td>2:24 AM</td>\n",
              "      <td>124488</td>\n",
              "      <td>14.837</td>\n",
              "      <td>True</td>\n",
              "      <td>Sales</td>\n",
              "    </tr>\n",
              "    <tr>\n",
              "      <th>151</th>\n",
              "      <td>Brandon</td>\n",
              "      <td>NaN</td>\n",
              "      <td>11/3/1997</td>\n",
              "      <td>8:17 PM</td>\n",
              "      <td>121333</td>\n",
              "      <td>15.295</td>\n",
              "      <td>False</td>\n",
              "      <td>Business Development</td>\n",
              "    </tr>\n",
              "    <tr>\n",
              "      <th>153</th>\n",
              "      <td>Victor</td>\n",
              "      <td>NaN</td>\n",
              "      <td>3/10/2011</td>\n",
              "      <td>8:40 PM</td>\n",
              "      <td>84546</td>\n",
              "      <td>10.489</td>\n",
              "      <td>True</td>\n",
              "      <td>Finance</td>\n",
              "    </tr>\n",
              "    <tr>\n",
              "      <th>159</th>\n",
              "      <td>James</td>\n",
              "      <td>NaN</td>\n",
              "      <td>11/22/1983</td>\n",
              "      <td>10:52 PM</td>\n",
              "      <td>68501</td>\n",
              "      <td>14.316</td>\n",
              "      <td>False</td>\n",
              "      <td>Marketing</td>\n",
              "    </tr>\n",
              "    <tr>\n",
              "      <th>161</th>\n",
              "      <td>Marilyn</td>\n",
              "      <td>NaN</td>\n",
              "      <td>8/22/1999</td>\n",
              "      <td>9:09 AM</td>\n",
              "      <td>103386</td>\n",
              "      <td>11.451</td>\n",
              "      <td>False</td>\n",
              "      <td>Distribution</td>\n",
              "    </tr>\n",
              "    <tr>\n",
              "      <th>168</th>\n",
              "      <td>Peter</td>\n",
              "      <td>NaN</td>\n",
              "      <td>9/3/1987</td>\n",
              "      <td>5:59 PM</td>\n",
              "      <td>38989</td>\n",
              "      <td>7.017</td>\n",
              "      <td>True</td>\n",
              "      <td>Marketing</td>\n",
              "    </tr>\n",
              "    <tr>\n",
              "      <th>174</th>\n",
              "      <td>NaN</td>\n",
              "      <td>NaN</td>\n",
              "      <td>9/18/2007</td>\n",
              "      <td>6:59 PM</td>\n",
              "      <td>40297</td>\n",
              "      <td>6.185</td>\n",
              "      <td>NaN</td>\n",
              "      <td>Client Services</td>\n",
              "    </tr>\n",
              "    <tr>\n",
              "      <th>183</th>\n",
              "      <td>Ruth</td>\n",
              "      <td>NaN</td>\n",
              "      <td>5/18/1999</td>\n",
              "      <td>5:56 AM</td>\n",
              "      <td>98233</td>\n",
              "      <td>2.518</td>\n",
              "      <td>True</td>\n",
              "      <td>Distribution</td>\n",
              "    </tr>\n",
              "    <tr>\n",
              "      <th>...</th>\n",
              "      <td>...</td>\n",
              "      <td>...</td>\n",
              "      <td>...</td>\n",
              "      <td>...</td>\n",
              "      <td>...</td>\n",
              "      <td>...</td>\n",
              "      <td>...</td>\n",
              "      <td>...</td>\n",
              "    </tr>\n",
              "    <tr>\n",
              "      <th>769</th>\n",
              "      <td>Samuel</td>\n",
              "      <td>NaN</td>\n",
              "      <td>10/7/2002</td>\n",
              "      <td>3:08 AM</td>\n",
              "      <td>141305</td>\n",
              "      <td>9.849</td>\n",
              "      <td>True</td>\n",
              "      <td>Marketing</td>\n",
              "    </tr>\n",
              "    <tr>\n",
              "      <th>783</th>\n",
              "      <td>NaN</td>\n",
              "      <td>NaN</td>\n",
              "      <td>4/15/1991</td>\n",
              "      <td>3:39 AM</td>\n",
              "      <td>132505</td>\n",
              "      <td>13.592</td>\n",
              "      <td>NaN</td>\n",
              "      <td>Product</td>\n",
              "    </tr>\n",
              "    <tr>\n",
              "      <th>788</th>\n",
              "      <td>Michelle</td>\n",
              "      <td>NaN</td>\n",
              "      <td>3/31/2012</td>\n",
              "      <td>6:28 AM</td>\n",
              "      <td>124441</td>\n",
              "      <td>16.353</td>\n",
              "      <td>False</td>\n",
              "      <td>Business Development</td>\n",
              "    </tr>\n",
              "    <tr>\n",
              "      <th>792</th>\n",
              "      <td>Anne</td>\n",
              "      <td>NaN</td>\n",
              "      <td>4/18/1996</td>\n",
              "      <td>11:57 PM</td>\n",
              "      <td>122762</td>\n",
              "      <td>9.564</td>\n",
              "      <td>False</td>\n",
              "      <td>Distribution</td>\n",
              "    </tr>\n",
              "    <tr>\n",
              "      <th>795</th>\n",
              "      <td>Theresa</td>\n",
              "      <td>NaN</td>\n",
              "      <td>10/7/1995</td>\n",
              "      <td>10:16 AM</td>\n",
              "      <td>42025</td>\n",
              "      <td>3.319</td>\n",
              "      <td>True</td>\n",
              "      <td>Human Resources</td>\n",
              "    </tr>\n",
              "    <tr>\n",
              "      <th>815</th>\n",
              "      <td>Maria</td>\n",
              "      <td>NaN</td>\n",
              "      <td>1/18/1986</td>\n",
              "      <td>8:36 PM</td>\n",
              "      <td>106562</td>\n",
              "      <td>4.000</td>\n",
              "      <td>False</td>\n",
              "      <td>Human Resources</td>\n",
              "    </tr>\n",
              "    <tr>\n",
              "      <th>825</th>\n",
              "      <td>Robert</td>\n",
              "      <td>NaN</td>\n",
              "      <td>12/4/2000</td>\n",
              "      <td>1:20 AM</td>\n",
              "      <td>69267</td>\n",
              "      <td>5.890</td>\n",
              "      <td>True</td>\n",
              "      <td>Sales</td>\n",
              "    </tr>\n",
              "    <tr>\n",
              "      <th>826</th>\n",
              "      <td>NaN</td>\n",
              "      <td>NaN</td>\n",
              "      <td>8/1/1988</td>\n",
              "      <td>1:35 AM</td>\n",
              "      <td>87103</td>\n",
              "      <td>5.665</td>\n",
              "      <td>NaN</td>\n",
              "      <td>NaN</td>\n",
              "    </tr>\n",
              "    <tr>\n",
              "      <th>827</th>\n",
              "      <td>Jesse</td>\n",
              "      <td>NaN</td>\n",
              "      <td>7/16/2014</td>\n",
              "      <td>2:24 AM</td>\n",
              "      <td>98811</td>\n",
              "      <td>7.487</td>\n",
              "      <td>False</td>\n",
              "      <td>Legal</td>\n",
              "    </tr>\n",
              "    <tr>\n",
              "      <th>834</th>\n",
              "      <td>Carl</td>\n",
              "      <td>NaN</td>\n",
              "      <td>2/11/1982</td>\n",
              "      <td>7:54 AM</td>\n",
              "      <td>49325</td>\n",
              "      <td>2.071</td>\n",
              "      <td>True</td>\n",
              "      <td>Business Development</td>\n",
              "    </tr>\n",
              "    <tr>\n",
              "      <th>844</th>\n",
              "      <td>Maria</td>\n",
              "      <td>NaN</td>\n",
              "      <td>6/19/1985</td>\n",
              "      <td>1:48 AM</td>\n",
              "      <td>148857</td>\n",
              "      <td>8.738</td>\n",
              "      <td>False</td>\n",
              "      <td>Legal</td>\n",
              "    </tr>\n",
              "    <tr>\n",
              "      <th>847</th>\n",
              "      <td>Nicole</td>\n",
              "      <td>NaN</td>\n",
              "      <td>5/2/1981</td>\n",
              "      <td>12:03 PM</td>\n",
              "      <td>41449</td>\n",
              "      <td>4.707</td>\n",
              "      <td>False</td>\n",
              "      <td>Finance</td>\n",
              "    </tr>\n",
              "    <tr>\n",
              "      <th>855</th>\n",
              "      <td>Phillip</td>\n",
              "      <td>NaN</td>\n",
              "      <td>10/20/2003</td>\n",
              "      <td>11:09 AM</td>\n",
              "      <td>89700</td>\n",
              "      <td>2.277</td>\n",
              "      <td>True</td>\n",
              "      <td>NaN</td>\n",
              "    </tr>\n",
              "    <tr>\n",
              "      <th>856</th>\n",
              "      <td>Bonnie</td>\n",
              "      <td>NaN</td>\n",
              "      <td>1/18/2006</td>\n",
              "      <td>6:52 PM</td>\n",
              "      <td>108946</td>\n",
              "      <td>12.211</td>\n",
              "      <td>False</td>\n",
              "      <td>Finance</td>\n",
              "    </tr>\n",
              "    <tr>\n",
              "      <th>870</th>\n",
              "      <td>Cynthia</td>\n",
              "      <td>NaN</td>\n",
              "      <td>11/19/1996</td>\n",
              "      <td>10:40 PM</td>\n",
              "      <td>107816</td>\n",
              "      <td>18.751</td>\n",
              "      <td>False</td>\n",
              "      <td>Marketing</td>\n",
              "    </tr>\n",
              "    <tr>\n",
              "      <th>876</th>\n",
              "      <td>Terry</td>\n",
              "      <td>NaN</td>\n",
              "      <td>9/11/1992</td>\n",
              "      <td>4:41 PM</td>\n",
              "      <td>41238</td>\n",
              "      <td>8.219</td>\n",
              "      <td>False</td>\n",
              "      <td>Marketing</td>\n",
              "    </tr>\n",
              "    <tr>\n",
              "      <th>880</th>\n",
              "      <td>Robert</td>\n",
              "      <td>NaN</td>\n",
              "      <td>5/25/2007</td>\n",
              "      <td>3:17 AM</td>\n",
              "      <td>90998</td>\n",
              "      <td>8.382</td>\n",
              "      <td>False</td>\n",
              "      <td>Finance</td>\n",
              "    </tr>\n",
              "    <tr>\n",
              "      <th>882</th>\n",
              "      <td>Sara</td>\n",
              "      <td>NaN</td>\n",
              "      <td>11/18/2014</td>\n",
              "      <td>2:47 PM</td>\n",
              "      <td>135990</td>\n",
              "      <td>14.344</td>\n",
              "      <td>True</td>\n",
              "      <td>Distribution</td>\n",
              "    </tr>\n",
              "    <tr>\n",
              "      <th>895</th>\n",
              "      <td>Janice</td>\n",
              "      <td>NaN</td>\n",
              "      <td>11/19/1991</td>\n",
              "      <td>6:02 PM</td>\n",
              "      <td>139791</td>\n",
              "      <td>16.968</td>\n",
              "      <td>False</td>\n",
              "      <td>Business Development</td>\n",
              "    </tr>\n",
              "    <tr>\n",
              "      <th>897</th>\n",
              "      <td>Kenneth</td>\n",
              "      <td>NaN</td>\n",
              "      <td>2/28/1994</td>\n",
              "      <td>10:10 AM</td>\n",
              "      <td>95296</td>\n",
              "      <td>10.146</td>\n",
              "      <td>False</td>\n",
              "      <td>Finance</td>\n",
              "    </tr>\n",
              "    <tr>\n",
              "      <th>923</th>\n",
              "      <td>Irene</td>\n",
              "      <td>NaN</td>\n",
              "      <td>2/28/1991</td>\n",
              "      <td>10:23 PM</td>\n",
              "      <td>135369</td>\n",
              "      <td>4.380</td>\n",
              "      <td>False</td>\n",
              "      <td>Business Development</td>\n",
              "    </tr>\n",
              "    <tr>\n",
              "      <th>937</th>\n",
              "      <td>Aaron</td>\n",
              "      <td>NaN</td>\n",
              "      <td>1/22/1986</td>\n",
              "      <td>7:39 PM</td>\n",
              "      <td>63126</td>\n",
              "      <td>18.424</td>\n",
              "      <td>False</td>\n",
              "      <td>Client Services</td>\n",
              "    </tr>\n",
              "    <tr>\n",
              "      <th>938</th>\n",
              "      <td>Mark</td>\n",
              "      <td>NaN</td>\n",
              "      <td>9/9/2006</td>\n",
              "      <td>12:27 PM</td>\n",
              "      <td>44836</td>\n",
              "      <td>2.657</td>\n",
              "      <td>False</td>\n",
              "      <td>Client Services</td>\n",
              "    </tr>\n",
              "    <tr>\n",
              "      <th>939</th>\n",
              "      <td>Ralph</td>\n",
              "      <td>NaN</td>\n",
              "      <td>7/28/1995</td>\n",
              "      <td>6:53 PM</td>\n",
              "      <td>70635</td>\n",
              "      <td>2.147</td>\n",
              "      <td>False</td>\n",
              "      <td>Client Services</td>\n",
              "    </tr>\n",
              "    <tr>\n",
              "      <th>945</th>\n",
              "      <td>Gerald</td>\n",
              "      <td>NaN</td>\n",
              "      <td>4/15/1989</td>\n",
              "      <td>12:44 PM</td>\n",
              "      <td>93712</td>\n",
              "      <td>17.426</td>\n",
              "      <td>True</td>\n",
              "      <td>Distribution</td>\n",
              "    </tr>\n",
              "    <tr>\n",
              "      <th>961</th>\n",
              "      <td>Antonio</td>\n",
              "      <td>NaN</td>\n",
              "      <td>6/18/1989</td>\n",
              "      <td>9:37 PM</td>\n",
              "      <td>103050</td>\n",
              "      <td>3.050</td>\n",
              "      <td>False</td>\n",
              "      <td>Legal</td>\n",
              "    </tr>\n",
              "    <tr>\n",
              "      <th>972</th>\n",
              "      <td>Victor</td>\n",
              "      <td>NaN</td>\n",
              "      <td>7/28/2006</td>\n",
              "      <td>2:49 PM</td>\n",
              "      <td>76381</td>\n",
              "      <td>11.159</td>\n",
              "      <td>True</td>\n",
              "      <td>Sales</td>\n",
              "    </tr>\n",
              "    <tr>\n",
              "      <th>985</th>\n",
              "      <td>Stephen</td>\n",
              "      <td>NaN</td>\n",
              "      <td>7/10/1983</td>\n",
              "      <td>8:10 PM</td>\n",
              "      <td>85668</td>\n",
              "      <td>1.909</td>\n",
              "      <td>False</td>\n",
              "      <td>Legal</td>\n",
              "    </tr>\n",
              "    <tr>\n",
              "      <th>989</th>\n",
              "      <td>Justin</td>\n",
              "      <td>NaN</td>\n",
              "      <td>2/10/1991</td>\n",
              "      <td>4:58 PM</td>\n",
              "      <td>38344</td>\n",
              "      <td>3.794</td>\n",
              "      <td>False</td>\n",
              "      <td>Legal</td>\n",
              "    </tr>\n",
              "    <tr>\n",
              "      <th>995</th>\n",
              "      <td>Henry</td>\n",
              "      <td>NaN</td>\n",
              "      <td>11/23/2014</td>\n",
              "      <td>6:09 AM</td>\n",
              "      <td>132483</td>\n",
              "      <td>16.655</td>\n",
              "      <td>False</td>\n",
              "      <td>Distribution</td>\n",
              "    </tr>\n",
              "  </tbody>\n",
              "</table>\n",
              "<p>145 rows × 8 columns</p>\n",
              "</div>"
            ],
            "text/plain": [
              "    First Name Gender  Start Date Last Login Time  Salary  Bonus %  \\\n",
              "20        Lois    NaN   4/22/1995         7:18 PM   64714    4.934   \n",
              "22      Joshua    NaN    3/8/2012         1:58 AM   90816   18.816   \n",
              "27       Scott    NaN   7/11/1991         6:58 PM  122367    5.218   \n",
              "31       Joyce    NaN   2/20/2005         2:40 PM   88657   12.752   \n",
              "41   Christine    NaN   6/28/2015         1:08 AM   66582   11.308   \n",
              "49       Chris    NaN   1/24/1980        12:13 PM  113590    3.055   \n",
              "51         NaN    NaN  12/17/2011         8:29 AM   41126   14.009   \n",
              "53        Alan    NaN    3/3/2014         1:28 PM   40341   17.578   \n",
              "60       Paula    NaN  11/23/2005         2:01 PM   48866    4.271   \n",
              "64    Kathleen    NaN   4/11/1990         6:46 PM   77834   18.771   \n",
              "69       Irene    NaN   7/14/2015         4:31 PM  100863    4.382   \n",
              "70        Todd    NaN   6/10/2003         2:26 PM   84692    6.617   \n",
              "80      Gerald    NaN   3/17/1995        12:50 AM  137126   15.602   \n",
              "86       Annie    NaN   9/29/2007        12:11 AM  103495   17.290   \n",
              "90      Janice    NaN   8/21/1997         5:12 AM   91719   11.583   \n",
              "91       James    NaN   1/26/2005        11:00 PM  128771    8.309   \n",
              "93    Virginia    NaN    5/7/1994         5:58 PM  111858    1.601   \n",
              "97       Laura    NaN   7/19/2014         9:23 PM  140371   10.620   \n",
              "108    Russell    NaN    5/5/1988         7:57 AM  133980   12.396   \n",
              "121   Kathleen    NaN    5/9/2016         8:55 AM  119735   18.740   \n",
              "143     Teresa    NaN   1/28/2016        10:55 AM  140013    8.689   \n",
              "144     Nicole    NaN    3/5/1982         2:28 PM  122717   12.452   \n",
              "148    Patrick    NaN   7/14/1991         2:24 AM  124488   14.837   \n",
              "151    Brandon    NaN   11/3/1997         8:17 PM  121333   15.295   \n",
              "153     Victor    NaN   3/10/2011         8:40 PM   84546   10.489   \n",
              "159      James    NaN  11/22/1983        10:52 PM   68501   14.316   \n",
              "161    Marilyn    NaN   8/22/1999         9:09 AM  103386   11.451   \n",
              "168      Peter    NaN    9/3/1987         5:59 PM   38989    7.017   \n",
              "174        NaN    NaN   9/18/2007         6:59 PM   40297    6.185   \n",
              "183       Ruth    NaN   5/18/1999         5:56 AM   98233    2.518   \n",
              "..         ...    ...         ...             ...     ...      ...   \n",
              "769     Samuel    NaN   10/7/2002         3:08 AM  141305    9.849   \n",
              "783        NaN    NaN   4/15/1991         3:39 AM  132505   13.592   \n",
              "788   Michelle    NaN   3/31/2012         6:28 AM  124441   16.353   \n",
              "792       Anne    NaN   4/18/1996        11:57 PM  122762    9.564   \n",
              "795    Theresa    NaN   10/7/1995        10:16 AM   42025    3.319   \n",
              "815      Maria    NaN   1/18/1986         8:36 PM  106562    4.000   \n",
              "825     Robert    NaN   12/4/2000         1:20 AM   69267    5.890   \n",
              "826        NaN    NaN    8/1/1988         1:35 AM   87103    5.665   \n",
              "827      Jesse    NaN   7/16/2014         2:24 AM   98811    7.487   \n",
              "834       Carl    NaN   2/11/1982         7:54 AM   49325    2.071   \n",
              "844      Maria    NaN   6/19/1985         1:48 AM  148857    8.738   \n",
              "847     Nicole    NaN    5/2/1981        12:03 PM   41449    4.707   \n",
              "855    Phillip    NaN  10/20/2003        11:09 AM   89700    2.277   \n",
              "856     Bonnie    NaN   1/18/2006         6:52 PM  108946   12.211   \n",
              "870    Cynthia    NaN  11/19/1996        10:40 PM  107816   18.751   \n",
              "876      Terry    NaN   9/11/1992         4:41 PM   41238    8.219   \n",
              "880     Robert    NaN   5/25/2007         3:17 AM   90998    8.382   \n",
              "882       Sara    NaN  11/18/2014         2:47 PM  135990   14.344   \n",
              "895     Janice    NaN  11/19/1991         6:02 PM  139791   16.968   \n",
              "897    Kenneth    NaN   2/28/1994        10:10 AM   95296   10.146   \n",
              "923      Irene    NaN   2/28/1991        10:23 PM  135369    4.380   \n",
              "937      Aaron    NaN   1/22/1986         7:39 PM   63126   18.424   \n",
              "938       Mark    NaN    9/9/2006        12:27 PM   44836    2.657   \n",
              "939      Ralph    NaN   7/28/1995         6:53 PM   70635    2.147   \n",
              "945     Gerald    NaN   4/15/1989        12:44 PM   93712   17.426   \n",
              "961    Antonio    NaN   6/18/1989         9:37 PM  103050    3.050   \n",
              "972     Victor    NaN   7/28/2006         2:49 PM   76381   11.159   \n",
              "985    Stephen    NaN   7/10/1983         8:10 PM   85668    1.909   \n",
              "989     Justin    NaN   2/10/1991         4:58 PM   38344    3.794   \n",
              "995      Henry    NaN  11/23/2014         6:09 AM  132483   16.655   \n",
              "\n",
              "    Senior Management                  Team  \n",
              "20               True                 Legal  \n",
              "22               True       Client Services  \n",
              "27              False                 Legal  \n",
              "31              False               Product  \n",
              "41               True  Business Development  \n",
              "49              False                 Sales  \n",
              "51                NaN                 Sales  \n",
              "53               True               Finance  \n",
              "60              False          Distribution  \n",
              "64              False  Business Development  \n",
              "69               True               Finance  \n",
              "70              False       Client Services  \n",
              "80               True                 Sales  \n",
              "86               True  Business Development  \n",
              "90               True                 Legal  \n",
              "91              False                   NaN  \n",
              "93               True                 Legal  \n",
              "97               True             Marketing  \n",
              "108              True                 Legal  \n",
              "121             False               Product  \n",
              "143              True           Engineering  \n",
              "144             False                 Sales  \n",
              "148              True                 Sales  \n",
              "151             False  Business Development  \n",
              "153              True               Finance  \n",
              "159             False             Marketing  \n",
              "161             False          Distribution  \n",
              "168              True             Marketing  \n",
              "174               NaN       Client Services  \n",
              "183              True          Distribution  \n",
              "..                ...                   ...  \n",
              "769              True             Marketing  \n",
              "783               NaN               Product  \n",
              "788             False  Business Development  \n",
              "792             False          Distribution  \n",
              "795              True       Human Resources  \n",
              "815             False       Human Resources  \n",
              "825              True                 Sales  \n",
              "826               NaN                   NaN  \n",
              "827             False                 Legal  \n",
              "834              True  Business Development  \n",
              "844             False                 Legal  \n",
              "847             False               Finance  \n",
              "855              True                   NaN  \n",
              "856             False               Finance  \n",
              "870             False             Marketing  \n",
              "876             False             Marketing  \n",
              "880             False               Finance  \n",
              "882              True          Distribution  \n",
              "895             False  Business Development  \n",
              "897             False               Finance  \n",
              "923             False  Business Development  \n",
              "937             False       Client Services  \n",
              "938             False       Client Services  \n",
              "939             False       Client Services  \n",
              "945              True          Distribution  \n",
              "961             False                 Legal  \n",
              "972              True                 Sales  \n",
              "985             False                 Legal  \n",
              "989             False                 Legal  \n",
              "995             False          Distribution  \n",
              "\n",
              "[145 rows x 8 columns]"
            ]
          },
          "metadata": {
            "tags": []
          },
          "execution_count": 48
        }
      ]
    },
    {
      "metadata": {
        "id": "LM4Igk4AiJB6",
        "colab_type": "text"
      },
      "cell_type": "markdown",
      "source": [
        "### pd.Series.isnull()"
      ]
    },
    {
      "metadata": {
        "id": "q8n29GcGh5OC",
        "colab_type": "code",
        "outputId": "949ca52d-b510-4641-b8d7-fc7beebc0d19",
        "colab": {
          "base_uri": "https://localhost:8080/",
          "height": 142
        }
      },
      "cell_type": "code",
      "source": [
        "## See pd.DataFrame.isnull() examples\n",
        "\n",
        "sr = pd.Series([10, 25, 3, 25, 24, 6])\n",
        "\n",
        "index_ = ['Coca Cola', 'Sprite', 'Coke', 'Fanta', 'Dew', 'ThumbsUp']\n",
        "\n",
        "sr.index = index_\n",
        "\n",
        "sr"
      ],
      "execution_count": 49,
      "outputs": [
        {
          "output_type": "execute_result",
          "data": {
            "text/plain": [
              "Coca Cola    10\n",
              "Sprite       25\n",
              "Coke          3\n",
              "Fanta        25\n",
              "Dew          24\n",
              "ThumbsUp      6\n",
              "dtype: int64"
            ]
          },
          "metadata": {
            "tags": []
          },
          "execution_count": 49
        }
      ]
    },
    {
      "metadata": {
        "id": "3RxzJmlVisbo",
        "colab_type": "code",
        "outputId": "58b240f0-d719-4d1a-e7f8-07804b909ee8",
        "colab": {
          "base_uri": "https://localhost:8080/",
          "height": 142
        }
      },
      "cell_type": "code",
      "source": [
        "result = sr.isnull()\n",
        "\n",
        "result"
      ],
      "execution_count": 50,
      "outputs": [
        {
          "output_type": "execute_result",
          "data": {
            "text/plain": [
              "Coca Cola    False\n",
              "Sprite       False\n",
              "Coke         False\n",
              "Fanta        False\n",
              "Dew          False\n",
              "ThumbsUp     False\n",
              "dtype: bool"
            ]
          },
          "metadata": {
            "tags": []
          },
          "execution_count": 50
        }
      ]
    },
    {
      "metadata": {
        "id": "-qGvkVE3ivLi",
        "colab_type": "code",
        "outputId": "882907e2-c60b-4e2d-f843-af1b8113ac85",
        "colab": {
          "base_uri": "https://localhost:8080/",
          "height": 231
        }
      },
      "cell_type": "code",
      "source": [
        "sr = pd.Series([11, 21, 8, 18, 65, None, 32, 10, 5, 24, None])\n",
        "\n",
        "index_ = pd.date_range('2010-10-09', periods = 11, freq = 'M')\n",
        "\n",
        "sr.index = index_\n",
        "\n",
        "sr"
      ],
      "execution_count": 51,
      "outputs": [
        {
          "output_type": "execute_result",
          "data": {
            "text/plain": [
              "2010-10-31    11.0\n",
              "2010-11-30    21.0\n",
              "2010-12-31     8.0\n",
              "2011-01-31    18.0\n",
              "2011-02-28    65.0\n",
              "2011-03-31     NaN\n",
              "2011-04-30    32.0\n",
              "2011-05-31    10.0\n",
              "2011-06-30     5.0\n",
              "2011-07-31    24.0\n",
              "2011-08-31     NaN\n",
              "Freq: M, dtype: float64"
            ]
          },
          "metadata": {
            "tags": []
          },
          "execution_count": 51
        }
      ]
    },
    {
      "metadata": {
        "id": "BQ4RbxIAjWcT",
        "colab_type": "code",
        "outputId": "9b62d8c0-16d7-4712-bf6d-4747ebfd95b4",
        "colab": {
          "base_uri": "https://localhost:8080/",
          "height": 231
        }
      },
      "cell_type": "code",
      "source": [
        "result = sr.isnull()\n",
        "\n",
        "result"
      ],
      "execution_count": 52,
      "outputs": [
        {
          "output_type": "execute_result",
          "data": {
            "text/plain": [
              "2010-10-31    False\n",
              "2010-11-30    False\n",
              "2010-12-31    False\n",
              "2011-01-31    False\n",
              "2011-02-28    False\n",
              "2011-03-31     True\n",
              "2011-04-30    False\n",
              "2011-05-31    False\n",
              "2011-06-30    False\n",
              "2011-07-31    False\n",
              "2011-08-31     True\n",
              "Freq: M, dtype: bool"
            ]
          },
          "metadata": {
            "tags": []
          },
          "execution_count": 52
        }
      ]
    },
    {
      "metadata": {
        "id": "lYtlaC1Ejg5z",
        "colab_type": "text"
      },
      "cell_type": "markdown",
      "source": [
        "### pd.DataFrame.notnull()"
      ]
    },
    {
      "metadata": {
        "id": "0eR2jzqbjZkL",
        "colab_type": "code",
        "outputId": "92a44ebe-e826-4d84-ca8f-1356a515c5ac",
        "colab": {
          "base_uri": "https://localhost:8080/",
          "height": 143
        }
      },
      "cell_type": "code",
      "source": [
        "df = pd.DataFrame({'age': [5, 6, np.NaN],\n",
        "                   'born': [pd.NaT, pd.Timestamp('1939-05-27'),\n",
        "                            pd.Timestamp('1940-04-25')],\n",
        "                   'name': ['Alfred', 'Batman', ''],\n",
        "                   'toy': [None, 'Batmobile', 'Joker']})\n",
        "\n",
        "df"
      ],
      "execution_count": 53,
      "outputs": [
        {
          "output_type": "execute_result",
          "data": {
            "text/html": [
              "<div>\n",
              "<style scoped>\n",
              "    .dataframe tbody tr th:only-of-type {\n",
              "        vertical-align: middle;\n",
              "    }\n",
              "\n",
              "    .dataframe tbody tr th {\n",
              "        vertical-align: top;\n",
              "    }\n",
              "\n",
              "    .dataframe thead th {\n",
              "        text-align: right;\n",
              "    }\n",
              "</style>\n",
              "<table border=\"1\" class=\"dataframe\">\n",
              "  <thead>\n",
              "    <tr style=\"text-align: right;\">\n",
              "      <th></th>\n",
              "      <th>age</th>\n",
              "      <th>born</th>\n",
              "      <th>name</th>\n",
              "      <th>toy</th>\n",
              "    </tr>\n",
              "  </thead>\n",
              "  <tbody>\n",
              "    <tr>\n",
              "      <th>0</th>\n",
              "      <td>5.0</td>\n",
              "      <td>NaT</td>\n",
              "      <td>Alfred</td>\n",
              "      <td>None</td>\n",
              "    </tr>\n",
              "    <tr>\n",
              "      <th>1</th>\n",
              "      <td>6.0</td>\n",
              "      <td>1939-05-27</td>\n",
              "      <td>Batman</td>\n",
              "      <td>Batmobile</td>\n",
              "    </tr>\n",
              "    <tr>\n",
              "      <th>2</th>\n",
              "      <td>NaN</td>\n",
              "      <td>1940-04-25</td>\n",
              "      <td></td>\n",
              "      <td>Joker</td>\n",
              "    </tr>\n",
              "  </tbody>\n",
              "</table>\n",
              "</div>"
            ],
            "text/plain": [
              "   age       born    name        toy\n",
              "0  5.0        NaT  Alfred       None\n",
              "1  6.0 1939-05-27  Batman  Batmobile\n",
              "2  NaN 1940-04-25              Joker"
            ]
          },
          "metadata": {
            "tags": []
          },
          "execution_count": 53
        }
      ]
    },
    {
      "metadata": {
        "id": "yRGOYOUxj3cJ",
        "colab_type": "code",
        "outputId": "fe15f23c-7b51-49fe-f171-e882f08820d0",
        "colab": {
          "base_uri": "https://localhost:8080/",
          "height": 143
        }
      },
      "cell_type": "code",
      "source": [
        "df.notna()"
      ],
      "execution_count": 54,
      "outputs": [
        {
          "output_type": "execute_result",
          "data": {
            "text/html": [
              "<div>\n",
              "<style scoped>\n",
              "    .dataframe tbody tr th:only-of-type {\n",
              "        vertical-align: middle;\n",
              "    }\n",
              "\n",
              "    .dataframe tbody tr th {\n",
              "        vertical-align: top;\n",
              "    }\n",
              "\n",
              "    .dataframe thead th {\n",
              "        text-align: right;\n",
              "    }\n",
              "</style>\n",
              "<table border=\"1\" class=\"dataframe\">\n",
              "  <thead>\n",
              "    <tr style=\"text-align: right;\">\n",
              "      <th></th>\n",
              "      <th>age</th>\n",
              "      <th>born</th>\n",
              "      <th>name</th>\n",
              "      <th>toy</th>\n",
              "    </tr>\n",
              "  </thead>\n",
              "  <tbody>\n",
              "    <tr>\n",
              "      <th>0</th>\n",
              "      <td>True</td>\n",
              "      <td>False</td>\n",
              "      <td>True</td>\n",
              "      <td>False</td>\n",
              "    </tr>\n",
              "    <tr>\n",
              "      <th>1</th>\n",
              "      <td>True</td>\n",
              "      <td>True</td>\n",
              "      <td>True</td>\n",
              "      <td>True</td>\n",
              "    </tr>\n",
              "    <tr>\n",
              "      <th>2</th>\n",
              "      <td>False</td>\n",
              "      <td>True</td>\n",
              "      <td>True</td>\n",
              "      <td>True</td>\n",
              "    </tr>\n",
              "  </tbody>\n",
              "</table>\n",
              "</div>"
            ],
            "text/plain": [
              "     age   born  name    toy\n",
              "0   True  False  True  False\n",
              "1   True   True  True   True\n",
              "2  False   True  True   True"
            ]
          },
          "metadata": {
            "tags": []
          },
          "execution_count": 54
        }
      ]
    },
    {
      "metadata": {
        "id": "0Krt63Rej8Sp",
        "colab_type": "code",
        "outputId": "01f85625-3f39-427a-efc6-97e7438404d6",
        "colab": {
          "base_uri": "https://localhost:8080/",
          "height": 88
        }
      },
      "cell_type": "code",
      "source": [
        "ser = pd.Series([5, 6, np.NaN])\n",
        "\n",
        "ser"
      ],
      "execution_count": 55,
      "outputs": [
        {
          "output_type": "execute_result",
          "data": {
            "text/plain": [
              "0    5.0\n",
              "1    6.0\n",
              "2    NaN\n",
              "dtype: float64"
            ]
          },
          "metadata": {
            "tags": []
          },
          "execution_count": 55
        }
      ]
    },
    {
      "metadata": {
        "id": "u2Ic7HYikGnv",
        "colab_type": "code",
        "outputId": "1723ed7d-02d1-430a-893a-1f9eb38f2c5b",
        "colab": {
          "base_uri": "https://localhost:8080/",
          "height": 88
        }
      },
      "cell_type": "code",
      "source": [
        "ser.notna()"
      ],
      "execution_count": 56,
      "outputs": [
        {
          "output_type": "execute_result",
          "data": {
            "text/plain": [
              "0     True\n",
              "1     True\n",
              "2    False\n",
              "dtype: bool"
            ]
          },
          "metadata": {
            "tags": []
          },
          "execution_count": 56
        }
      ]
    },
    {
      "metadata": {
        "id": "kUyamQ2_kXTZ",
        "colab_type": "code",
        "outputId": "4ebeb587-3f91-4053-d944-df3be992c0ca",
        "colab": {
          "base_uri": "https://localhost:8080/",
          "height": 206
        }
      },
      "cell_type": "code",
      "source": [
        "df = pd.DataFrame({\"A\": [14, 4, 5, 4, 1],\n",
        "                   \"B\": [\"Sam\", \"olivia\", \"terica\", \"megan\", \"amanda\"],\n",
        "                   \"C\": [20 + 5j, 20 + 3j, 7, 3, 8],\n",
        "                   \"D\": [14, 3, 6, 2, 6]})\n",
        "\n",
        "df"
      ],
      "execution_count": 57,
      "outputs": [
        {
          "output_type": "execute_result",
          "data": {
            "text/html": [
              "<div>\n",
              "<style scoped>\n",
              "    .dataframe tbody tr th:only-of-type {\n",
              "        vertical-align: middle;\n",
              "    }\n",
              "\n",
              "    .dataframe tbody tr th {\n",
              "        vertical-align: top;\n",
              "    }\n",
              "\n",
              "    .dataframe thead th {\n",
              "        text-align: right;\n",
              "    }\n",
              "</style>\n",
              "<table border=\"1\" class=\"dataframe\">\n",
              "  <thead>\n",
              "    <tr style=\"text-align: right;\">\n",
              "      <th></th>\n",
              "      <th>A</th>\n",
              "      <th>B</th>\n",
              "      <th>C</th>\n",
              "      <th>D</th>\n",
              "    </tr>\n",
              "  </thead>\n",
              "  <tbody>\n",
              "    <tr>\n",
              "      <th>0</th>\n",
              "      <td>14</td>\n",
              "      <td>Sam</td>\n",
              "      <td>(20+5j)</td>\n",
              "      <td>14</td>\n",
              "    </tr>\n",
              "    <tr>\n",
              "      <th>1</th>\n",
              "      <td>4</td>\n",
              "      <td>olivia</td>\n",
              "      <td>(20+3j)</td>\n",
              "      <td>3</td>\n",
              "    </tr>\n",
              "    <tr>\n",
              "      <th>2</th>\n",
              "      <td>5</td>\n",
              "      <td>terica</td>\n",
              "      <td>(7+0j)</td>\n",
              "      <td>6</td>\n",
              "    </tr>\n",
              "    <tr>\n",
              "      <th>3</th>\n",
              "      <td>4</td>\n",
              "      <td>megan</td>\n",
              "      <td>(3+0j)</td>\n",
              "      <td>2</td>\n",
              "    </tr>\n",
              "    <tr>\n",
              "      <th>4</th>\n",
              "      <td>1</td>\n",
              "      <td>amanda</td>\n",
              "      <td>(8+0j)</td>\n",
              "      <td>6</td>\n",
              "    </tr>\n",
              "  </tbody>\n",
              "</table>\n",
              "</div>"
            ],
            "text/plain": [
              "    A       B        C   D\n",
              "0  14     Sam  (20+5j)  14\n",
              "1   4  olivia  (20+3j)   3\n",
              "2   5  terica   (7+0j)   6\n",
              "3   4   megan   (3+0j)   2\n",
              "4   1  amanda   (8+0j)   6"
            ]
          },
          "metadata": {
            "tags": []
          },
          "execution_count": 57
        }
      ]
    },
    {
      "metadata": {
        "id": "moQVxda0kzLk",
        "colab_type": "code",
        "outputId": "d6d70fec-d9af-40f0-9810-e7734e49e113",
        "colab": {
          "base_uri": "https://localhost:8080/",
          "height": 206
        }
      },
      "cell_type": "code",
      "source": [
        "df.notnull()"
      ],
      "execution_count": 58,
      "outputs": [
        {
          "output_type": "execute_result",
          "data": {
            "text/html": [
              "<div>\n",
              "<style scoped>\n",
              "    .dataframe tbody tr th:only-of-type {\n",
              "        vertical-align: middle;\n",
              "    }\n",
              "\n",
              "    .dataframe tbody tr th {\n",
              "        vertical-align: top;\n",
              "    }\n",
              "\n",
              "    .dataframe thead th {\n",
              "        text-align: right;\n",
              "    }\n",
              "</style>\n",
              "<table border=\"1\" class=\"dataframe\">\n",
              "  <thead>\n",
              "    <tr style=\"text-align: right;\">\n",
              "      <th></th>\n",
              "      <th>A</th>\n",
              "      <th>B</th>\n",
              "      <th>C</th>\n",
              "      <th>D</th>\n",
              "    </tr>\n",
              "  </thead>\n",
              "  <tbody>\n",
              "    <tr>\n",
              "      <th>0</th>\n",
              "      <td>True</td>\n",
              "      <td>True</td>\n",
              "      <td>True</td>\n",
              "      <td>True</td>\n",
              "    </tr>\n",
              "    <tr>\n",
              "      <th>1</th>\n",
              "      <td>True</td>\n",
              "      <td>True</td>\n",
              "      <td>True</td>\n",
              "      <td>True</td>\n",
              "    </tr>\n",
              "    <tr>\n",
              "      <th>2</th>\n",
              "      <td>True</td>\n",
              "      <td>True</td>\n",
              "      <td>True</td>\n",
              "      <td>True</td>\n",
              "    </tr>\n",
              "    <tr>\n",
              "      <th>3</th>\n",
              "      <td>True</td>\n",
              "      <td>True</td>\n",
              "      <td>True</td>\n",
              "      <td>True</td>\n",
              "    </tr>\n",
              "    <tr>\n",
              "      <th>4</th>\n",
              "      <td>True</td>\n",
              "      <td>True</td>\n",
              "      <td>True</td>\n",
              "      <td>True</td>\n",
              "    </tr>\n",
              "  </tbody>\n",
              "</table>\n",
              "</div>"
            ],
            "text/plain": [
              "      A     B     C     D\n",
              "0  True  True  True  True\n",
              "1  True  True  True  True\n",
              "2  True  True  True  True\n",
              "3  True  True  True  True\n",
              "4  True  True  True  True"
            ]
          },
          "metadata": {
            "tags": []
          },
          "execution_count": 58
        }
      ]
    },
    {
      "metadata": {
        "id": "wfQToPEGk1oh",
        "colab_type": "code",
        "outputId": "1dc590a4-1a31-45ad-ea9b-52dbc35e5122",
        "colab": {
          "base_uri": "https://localhost:8080/",
          "height": 206
        }
      },
      "cell_type": "code",
      "source": [
        "df = pd.DataFrame({\"A\": [\"Sandy\", \"alex\", \"brook\", \"kelly\", np.nan],\n",
        "                   \"B\": [np.nan, \"olivia\", \"terica\", \"\", \"amanda\"],\n",
        "                   \"C\": [20 + 5j, 20 + 3j, 7, None, 8],\n",
        "                   \"D\": [14.8, 3, None, 2.3, 6]})\n",
        "\n",
        "df.notnull()"
      ],
      "execution_count": 59,
      "outputs": [
        {
          "output_type": "execute_result",
          "data": {
            "text/html": [
              "<div>\n",
              "<style scoped>\n",
              "    .dataframe tbody tr th:only-of-type {\n",
              "        vertical-align: middle;\n",
              "    }\n",
              "\n",
              "    .dataframe tbody tr th {\n",
              "        vertical-align: top;\n",
              "    }\n",
              "\n",
              "    .dataframe thead th {\n",
              "        text-align: right;\n",
              "    }\n",
              "</style>\n",
              "<table border=\"1\" class=\"dataframe\">\n",
              "  <thead>\n",
              "    <tr style=\"text-align: right;\">\n",
              "      <th></th>\n",
              "      <th>A</th>\n",
              "      <th>B</th>\n",
              "      <th>C</th>\n",
              "      <th>D</th>\n",
              "    </tr>\n",
              "  </thead>\n",
              "  <tbody>\n",
              "    <tr>\n",
              "      <th>0</th>\n",
              "      <td>True</td>\n",
              "      <td>False</td>\n",
              "      <td>True</td>\n",
              "      <td>True</td>\n",
              "    </tr>\n",
              "    <tr>\n",
              "      <th>1</th>\n",
              "      <td>True</td>\n",
              "      <td>True</td>\n",
              "      <td>True</td>\n",
              "      <td>True</td>\n",
              "    </tr>\n",
              "    <tr>\n",
              "      <th>2</th>\n",
              "      <td>True</td>\n",
              "      <td>True</td>\n",
              "      <td>True</td>\n",
              "      <td>False</td>\n",
              "    </tr>\n",
              "    <tr>\n",
              "      <th>3</th>\n",
              "      <td>True</td>\n",
              "      <td>True</td>\n",
              "      <td>False</td>\n",
              "      <td>True</td>\n",
              "    </tr>\n",
              "    <tr>\n",
              "      <th>4</th>\n",
              "      <td>False</td>\n",
              "      <td>True</td>\n",
              "      <td>True</td>\n",
              "      <td>True</td>\n",
              "    </tr>\n",
              "  </tbody>\n",
              "</table>\n",
              "</div>"
            ],
            "text/plain": [
              "       A      B      C      D\n",
              "0   True  False   True   True\n",
              "1   True   True   True   True\n",
              "2   True   True   True  False\n",
              "3   True   True  False   True\n",
              "4  False   True   True   True"
            ]
          },
          "metadata": {
            "tags": []
          },
          "execution_count": 59
        }
      ]
    },
    {
      "metadata": {
        "id": "nHPl-CIElNb5",
        "colab_type": "code",
        "outputId": "f9f04ff1-6633-4135-eec7-92811bae44ea",
        "colab": {
          "base_uri": "https://localhost:8080/",
          "height": 1992
        }
      },
      "cell_type": "code",
      "source": [
        "data = pd.read_csv(\"https://cdncontribute.geeksforgeeks.org/wp-content/uploads/employees.csv\")\n",
        "\n",
        "bool_series = pd.notnull(data[\"Gender\"])\n",
        "\n",
        "data[bool_series]"
      ],
      "execution_count": 60,
      "outputs": [
        {
          "output_type": "execute_result",
          "data": {
            "text/html": [
              "<div>\n",
              "<style scoped>\n",
              "    .dataframe tbody tr th:only-of-type {\n",
              "        vertical-align: middle;\n",
              "    }\n",
              "\n",
              "    .dataframe tbody tr th {\n",
              "        vertical-align: top;\n",
              "    }\n",
              "\n",
              "    .dataframe thead th {\n",
              "        text-align: right;\n",
              "    }\n",
              "</style>\n",
              "<table border=\"1\" class=\"dataframe\">\n",
              "  <thead>\n",
              "    <tr style=\"text-align: right;\">\n",
              "      <th></th>\n",
              "      <th>First Name</th>\n",
              "      <th>Gender</th>\n",
              "      <th>Start Date</th>\n",
              "      <th>Last Login Time</th>\n",
              "      <th>Salary</th>\n",
              "      <th>Bonus %</th>\n",
              "      <th>Senior Management</th>\n",
              "      <th>Team</th>\n",
              "    </tr>\n",
              "  </thead>\n",
              "  <tbody>\n",
              "    <tr>\n",
              "      <th>0</th>\n",
              "      <td>Douglas</td>\n",
              "      <td>Male</td>\n",
              "      <td>8/6/1993</td>\n",
              "      <td>12:42 PM</td>\n",
              "      <td>97308</td>\n",
              "      <td>6.945</td>\n",
              "      <td>True</td>\n",
              "      <td>Marketing</td>\n",
              "    </tr>\n",
              "    <tr>\n",
              "      <th>1</th>\n",
              "      <td>Thomas</td>\n",
              "      <td>Male</td>\n",
              "      <td>3/31/1996</td>\n",
              "      <td>6:53 AM</td>\n",
              "      <td>61933</td>\n",
              "      <td>4.170</td>\n",
              "      <td>True</td>\n",
              "      <td>NaN</td>\n",
              "    </tr>\n",
              "    <tr>\n",
              "      <th>2</th>\n",
              "      <td>Maria</td>\n",
              "      <td>Female</td>\n",
              "      <td>4/23/1993</td>\n",
              "      <td>11:17 AM</td>\n",
              "      <td>130590</td>\n",
              "      <td>11.858</td>\n",
              "      <td>False</td>\n",
              "      <td>Finance</td>\n",
              "    </tr>\n",
              "    <tr>\n",
              "      <th>3</th>\n",
              "      <td>Jerry</td>\n",
              "      <td>Male</td>\n",
              "      <td>3/4/2005</td>\n",
              "      <td>1:00 PM</td>\n",
              "      <td>138705</td>\n",
              "      <td>9.340</td>\n",
              "      <td>True</td>\n",
              "      <td>Finance</td>\n",
              "    </tr>\n",
              "    <tr>\n",
              "      <th>4</th>\n",
              "      <td>Larry</td>\n",
              "      <td>Male</td>\n",
              "      <td>1/24/1998</td>\n",
              "      <td>4:47 PM</td>\n",
              "      <td>101004</td>\n",
              "      <td>1.389</td>\n",
              "      <td>True</td>\n",
              "      <td>Client Services</td>\n",
              "    </tr>\n",
              "    <tr>\n",
              "      <th>5</th>\n",
              "      <td>Dennis</td>\n",
              "      <td>Male</td>\n",
              "      <td>4/18/1987</td>\n",
              "      <td>1:35 AM</td>\n",
              "      <td>115163</td>\n",
              "      <td>10.125</td>\n",
              "      <td>False</td>\n",
              "      <td>Legal</td>\n",
              "    </tr>\n",
              "    <tr>\n",
              "      <th>6</th>\n",
              "      <td>Ruby</td>\n",
              "      <td>Female</td>\n",
              "      <td>8/17/1987</td>\n",
              "      <td>4:20 PM</td>\n",
              "      <td>65476</td>\n",
              "      <td>10.012</td>\n",
              "      <td>True</td>\n",
              "      <td>Product</td>\n",
              "    </tr>\n",
              "    <tr>\n",
              "      <th>7</th>\n",
              "      <td>NaN</td>\n",
              "      <td>Female</td>\n",
              "      <td>7/20/2015</td>\n",
              "      <td>10:43 AM</td>\n",
              "      <td>45906</td>\n",
              "      <td>11.598</td>\n",
              "      <td>NaN</td>\n",
              "      <td>Finance</td>\n",
              "    </tr>\n",
              "    <tr>\n",
              "      <th>8</th>\n",
              "      <td>Angela</td>\n",
              "      <td>Female</td>\n",
              "      <td>11/22/2005</td>\n",
              "      <td>6:29 AM</td>\n",
              "      <td>95570</td>\n",
              "      <td>18.523</td>\n",
              "      <td>True</td>\n",
              "      <td>Engineering</td>\n",
              "    </tr>\n",
              "    <tr>\n",
              "      <th>9</th>\n",
              "      <td>Frances</td>\n",
              "      <td>Female</td>\n",
              "      <td>8/8/2002</td>\n",
              "      <td>6:51 AM</td>\n",
              "      <td>139852</td>\n",
              "      <td>7.524</td>\n",
              "      <td>True</td>\n",
              "      <td>Business Development</td>\n",
              "    </tr>\n",
              "    <tr>\n",
              "      <th>10</th>\n",
              "      <td>Louise</td>\n",
              "      <td>Female</td>\n",
              "      <td>8/12/1980</td>\n",
              "      <td>9:01 AM</td>\n",
              "      <td>63241</td>\n",
              "      <td>15.132</td>\n",
              "      <td>True</td>\n",
              "      <td>NaN</td>\n",
              "    </tr>\n",
              "    <tr>\n",
              "      <th>11</th>\n",
              "      <td>Julie</td>\n",
              "      <td>Female</td>\n",
              "      <td>10/26/1997</td>\n",
              "      <td>3:19 PM</td>\n",
              "      <td>102508</td>\n",
              "      <td>12.637</td>\n",
              "      <td>True</td>\n",
              "      <td>Legal</td>\n",
              "    </tr>\n",
              "    <tr>\n",
              "      <th>12</th>\n",
              "      <td>Brandon</td>\n",
              "      <td>Male</td>\n",
              "      <td>12/1/1980</td>\n",
              "      <td>1:08 AM</td>\n",
              "      <td>112807</td>\n",
              "      <td>17.492</td>\n",
              "      <td>True</td>\n",
              "      <td>Human Resources</td>\n",
              "    </tr>\n",
              "    <tr>\n",
              "      <th>13</th>\n",
              "      <td>Gary</td>\n",
              "      <td>Male</td>\n",
              "      <td>1/27/2008</td>\n",
              "      <td>11:40 PM</td>\n",
              "      <td>109831</td>\n",
              "      <td>5.831</td>\n",
              "      <td>False</td>\n",
              "      <td>Sales</td>\n",
              "    </tr>\n",
              "    <tr>\n",
              "      <th>14</th>\n",
              "      <td>Kimberly</td>\n",
              "      <td>Female</td>\n",
              "      <td>1/14/1999</td>\n",
              "      <td>7:13 AM</td>\n",
              "      <td>41426</td>\n",
              "      <td>14.543</td>\n",
              "      <td>True</td>\n",
              "      <td>Finance</td>\n",
              "    </tr>\n",
              "    <tr>\n",
              "      <th>15</th>\n",
              "      <td>Lillian</td>\n",
              "      <td>Female</td>\n",
              "      <td>6/5/2016</td>\n",
              "      <td>6:09 AM</td>\n",
              "      <td>59414</td>\n",
              "      <td>1.256</td>\n",
              "      <td>False</td>\n",
              "      <td>Product</td>\n",
              "    </tr>\n",
              "    <tr>\n",
              "      <th>16</th>\n",
              "      <td>Jeremy</td>\n",
              "      <td>Male</td>\n",
              "      <td>9/21/2010</td>\n",
              "      <td>5:56 AM</td>\n",
              "      <td>90370</td>\n",
              "      <td>7.369</td>\n",
              "      <td>False</td>\n",
              "      <td>Human Resources</td>\n",
              "    </tr>\n",
              "    <tr>\n",
              "      <th>17</th>\n",
              "      <td>Shawn</td>\n",
              "      <td>Male</td>\n",
              "      <td>12/7/1986</td>\n",
              "      <td>7:45 PM</td>\n",
              "      <td>111737</td>\n",
              "      <td>6.414</td>\n",
              "      <td>False</td>\n",
              "      <td>Product</td>\n",
              "    </tr>\n",
              "    <tr>\n",
              "      <th>18</th>\n",
              "      <td>Diana</td>\n",
              "      <td>Female</td>\n",
              "      <td>10/23/1981</td>\n",
              "      <td>10:27 AM</td>\n",
              "      <td>132940</td>\n",
              "      <td>19.082</td>\n",
              "      <td>False</td>\n",
              "      <td>Client Services</td>\n",
              "    </tr>\n",
              "    <tr>\n",
              "      <th>19</th>\n",
              "      <td>Donna</td>\n",
              "      <td>Female</td>\n",
              "      <td>7/22/2010</td>\n",
              "      <td>3:48 AM</td>\n",
              "      <td>81014</td>\n",
              "      <td>1.894</td>\n",
              "      <td>False</td>\n",
              "      <td>Product</td>\n",
              "    </tr>\n",
              "    <tr>\n",
              "      <th>21</th>\n",
              "      <td>Matthew</td>\n",
              "      <td>Male</td>\n",
              "      <td>9/5/1995</td>\n",
              "      <td>2:12 AM</td>\n",
              "      <td>100612</td>\n",
              "      <td>13.645</td>\n",
              "      <td>False</td>\n",
              "      <td>Marketing</td>\n",
              "    </tr>\n",
              "    <tr>\n",
              "      <th>23</th>\n",
              "      <td>NaN</td>\n",
              "      <td>Male</td>\n",
              "      <td>6/14/2012</td>\n",
              "      <td>4:19 PM</td>\n",
              "      <td>125792</td>\n",
              "      <td>5.042</td>\n",
              "      <td>NaN</td>\n",
              "      <td>NaN</td>\n",
              "    </tr>\n",
              "    <tr>\n",
              "      <th>24</th>\n",
              "      <td>John</td>\n",
              "      <td>Male</td>\n",
              "      <td>7/1/1992</td>\n",
              "      <td>10:08 PM</td>\n",
              "      <td>97950</td>\n",
              "      <td>13.873</td>\n",
              "      <td>False</td>\n",
              "      <td>Client Services</td>\n",
              "    </tr>\n",
              "    <tr>\n",
              "      <th>25</th>\n",
              "      <td>NaN</td>\n",
              "      <td>Male</td>\n",
              "      <td>10/8/2012</td>\n",
              "      <td>1:12 AM</td>\n",
              "      <td>37076</td>\n",
              "      <td>18.576</td>\n",
              "      <td>NaN</td>\n",
              "      <td>Client Services</td>\n",
              "    </tr>\n",
              "    <tr>\n",
              "      <th>26</th>\n",
              "      <td>Craig</td>\n",
              "      <td>Male</td>\n",
              "      <td>2/27/2000</td>\n",
              "      <td>7:45 AM</td>\n",
              "      <td>37598</td>\n",
              "      <td>7.757</td>\n",
              "      <td>True</td>\n",
              "      <td>Marketing</td>\n",
              "    </tr>\n",
              "    <tr>\n",
              "      <th>28</th>\n",
              "      <td>Terry</td>\n",
              "      <td>Male</td>\n",
              "      <td>11/27/1981</td>\n",
              "      <td>6:30 PM</td>\n",
              "      <td>124008</td>\n",
              "      <td>13.464</td>\n",
              "      <td>True</td>\n",
              "      <td>Client Services</td>\n",
              "    </tr>\n",
              "    <tr>\n",
              "      <th>29</th>\n",
              "      <td>Benjamin</td>\n",
              "      <td>Male</td>\n",
              "      <td>1/26/2005</td>\n",
              "      <td>10:06 PM</td>\n",
              "      <td>79529</td>\n",
              "      <td>7.008</td>\n",
              "      <td>True</td>\n",
              "      <td>Legal</td>\n",
              "    </tr>\n",
              "    <tr>\n",
              "      <th>30</th>\n",
              "      <td>Christina</td>\n",
              "      <td>Female</td>\n",
              "      <td>8/6/2002</td>\n",
              "      <td>1:19 PM</td>\n",
              "      <td>118780</td>\n",
              "      <td>9.096</td>\n",
              "      <td>True</td>\n",
              "      <td>Engineering</td>\n",
              "    </tr>\n",
              "    <tr>\n",
              "      <th>32</th>\n",
              "      <td>NaN</td>\n",
              "      <td>Male</td>\n",
              "      <td>8/21/1998</td>\n",
              "      <td>2:27 PM</td>\n",
              "      <td>122340</td>\n",
              "      <td>6.417</td>\n",
              "      <td>NaN</td>\n",
              "      <td>NaN</td>\n",
              "    </tr>\n",
              "    <tr>\n",
              "      <th>33</th>\n",
              "      <td>Jean</td>\n",
              "      <td>Female</td>\n",
              "      <td>12/18/1993</td>\n",
              "      <td>9:07 AM</td>\n",
              "      <td>119082</td>\n",
              "      <td>16.180</td>\n",
              "      <td>False</td>\n",
              "      <td>Business Development</td>\n",
              "    </tr>\n",
              "    <tr>\n",
              "      <th>...</th>\n",
              "      <td>...</td>\n",
              "      <td>...</td>\n",
              "      <td>...</td>\n",
              "      <td>...</td>\n",
              "      <td>...</td>\n",
              "      <td>...</td>\n",
              "      <td>...</td>\n",
              "      <td>...</td>\n",
              "    </tr>\n",
              "    <tr>\n",
              "      <th>966</th>\n",
              "      <td>Louis</td>\n",
              "      <td>Male</td>\n",
              "      <td>8/16/2011</td>\n",
              "      <td>5:19 PM</td>\n",
              "      <td>93022</td>\n",
              "      <td>9.146</td>\n",
              "      <td>True</td>\n",
              "      <td>Human Resources</td>\n",
              "    </tr>\n",
              "    <tr>\n",
              "      <th>967</th>\n",
              "      <td>Thomas</td>\n",
              "      <td>Male</td>\n",
              "      <td>3/12/2016</td>\n",
              "      <td>3:10 PM</td>\n",
              "      <td>105681</td>\n",
              "      <td>19.572</td>\n",
              "      <td>False</td>\n",
              "      <td>Engineering</td>\n",
              "    </tr>\n",
              "    <tr>\n",
              "      <th>968</th>\n",
              "      <td>Louise</td>\n",
              "      <td>Female</td>\n",
              "      <td>3/27/1995</td>\n",
              "      <td>10:27 PM</td>\n",
              "      <td>43050</td>\n",
              "      <td>11.671</td>\n",
              "      <td>False</td>\n",
              "      <td>Distribution</td>\n",
              "    </tr>\n",
              "    <tr>\n",
              "      <th>969</th>\n",
              "      <td>Linda</td>\n",
              "      <td>Female</td>\n",
              "      <td>2/4/2010</td>\n",
              "      <td>8:49 PM</td>\n",
              "      <td>44486</td>\n",
              "      <td>17.308</td>\n",
              "      <td>True</td>\n",
              "      <td>Engineering</td>\n",
              "    </tr>\n",
              "    <tr>\n",
              "      <th>970</th>\n",
              "      <td>Alice</td>\n",
              "      <td>Female</td>\n",
              "      <td>9/3/1988</td>\n",
              "      <td>8:54 PM</td>\n",
              "      <td>63571</td>\n",
              "      <td>15.397</td>\n",
              "      <td>True</td>\n",
              "      <td>Product</td>\n",
              "    </tr>\n",
              "    <tr>\n",
              "      <th>971</th>\n",
              "      <td>Patrick</td>\n",
              "      <td>Male</td>\n",
              "      <td>12/30/2002</td>\n",
              "      <td>2:01 AM</td>\n",
              "      <td>75423</td>\n",
              "      <td>5.368</td>\n",
              "      <td>True</td>\n",
              "      <td>Business Development</td>\n",
              "    </tr>\n",
              "    <tr>\n",
              "      <th>973</th>\n",
              "      <td>Russell</td>\n",
              "      <td>Male</td>\n",
              "      <td>5/10/2013</td>\n",
              "      <td>11:08 PM</td>\n",
              "      <td>137359</td>\n",
              "      <td>11.105</td>\n",
              "      <td>False</td>\n",
              "      <td>Business Development</td>\n",
              "    </tr>\n",
              "    <tr>\n",
              "      <th>974</th>\n",
              "      <td>Harry</td>\n",
              "      <td>Male</td>\n",
              "      <td>8/30/2011</td>\n",
              "      <td>6:31 PM</td>\n",
              "      <td>67656</td>\n",
              "      <td>16.455</td>\n",
              "      <td>True</td>\n",
              "      <td>Client Services</td>\n",
              "    </tr>\n",
              "    <tr>\n",
              "      <th>975</th>\n",
              "      <td>Susan</td>\n",
              "      <td>Female</td>\n",
              "      <td>4/7/1995</td>\n",
              "      <td>10:05 PM</td>\n",
              "      <td>92436</td>\n",
              "      <td>12.467</td>\n",
              "      <td>False</td>\n",
              "      <td>Sales</td>\n",
              "    </tr>\n",
              "    <tr>\n",
              "      <th>976</th>\n",
              "      <td>Denise</td>\n",
              "      <td>Female</td>\n",
              "      <td>10/19/1992</td>\n",
              "      <td>5:42 AM</td>\n",
              "      <td>137954</td>\n",
              "      <td>4.195</td>\n",
              "      <td>True</td>\n",
              "      <td>Legal</td>\n",
              "    </tr>\n",
              "    <tr>\n",
              "      <th>977</th>\n",
              "      <td>Sarah</td>\n",
              "      <td>Female</td>\n",
              "      <td>12/4/1995</td>\n",
              "      <td>9:16 AM</td>\n",
              "      <td>124566</td>\n",
              "      <td>5.949</td>\n",
              "      <td>False</td>\n",
              "      <td>Product</td>\n",
              "    </tr>\n",
              "    <tr>\n",
              "      <th>978</th>\n",
              "      <td>Sean</td>\n",
              "      <td>Male</td>\n",
              "      <td>1/17/1983</td>\n",
              "      <td>2:23 PM</td>\n",
              "      <td>66146</td>\n",
              "      <td>11.178</td>\n",
              "      <td>False</td>\n",
              "      <td>Human Resources</td>\n",
              "    </tr>\n",
              "    <tr>\n",
              "      <th>979</th>\n",
              "      <td>Ernest</td>\n",
              "      <td>Male</td>\n",
              "      <td>7/20/2013</td>\n",
              "      <td>6:41 AM</td>\n",
              "      <td>142935</td>\n",
              "      <td>13.198</td>\n",
              "      <td>True</td>\n",
              "      <td>Product</td>\n",
              "    </tr>\n",
              "    <tr>\n",
              "      <th>980</th>\n",
              "      <td>Kimberly</td>\n",
              "      <td>Female</td>\n",
              "      <td>1/26/2013</td>\n",
              "      <td>12:57 AM</td>\n",
              "      <td>46233</td>\n",
              "      <td>8.862</td>\n",
              "      <td>True</td>\n",
              "      <td>Engineering</td>\n",
              "    </tr>\n",
              "    <tr>\n",
              "      <th>981</th>\n",
              "      <td>James</td>\n",
              "      <td>Male</td>\n",
              "      <td>1/15/1993</td>\n",
              "      <td>5:19 PM</td>\n",
              "      <td>148985</td>\n",
              "      <td>19.280</td>\n",
              "      <td>False</td>\n",
              "      <td>Legal</td>\n",
              "    </tr>\n",
              "    <tr>\n",
              "      <th>982</th>\n",
              "      <td>Rose</td>\n",
              "      <td>Female</td>\n",
              "      <td>4/6/1982</td>\n",
              "      <td>10:43 AM</td>\n",
              "      <td>91411</td>\n",
              "      <td>8.639</td>\n",
              "      <td>True</td>\n",
              "      <td>Human Resources</td>\n",
              "    </tr>\n",
              "    <tr>\n",
              "      <th>983</th>\n",
              "      <td>John</td>\n",
              "      <td>Male</td>\n",
              "      <td>12/23/1982</td>\n",
              "      <td>10:35 PM</td>\n",
              "      <td>146907</td>\n",
              "      <td>11.738</td>\n",
              "      <td>False</td>\n",
              "      <td>Engineering</td>\n",
              "    </tr>\n",
              "    <tr>\n",
              "      <th>984</th>\n",
              "      <td>Maria</td>\n",
              "      <td>Female</td>\n",
              "      <td>10/15/2011</td>\n",
              "      <td>4:53 PM</td>\n",
              "      <td>43455</td>\n",
              "      <td>13.040</td>\n",
              "      <td>False</td>\n",
              "      <td>Engineering</td>\n",
              "    </tr>\n",
              "    <tr>\n",
              "      <th>986</th>\n",
              "      <td>Donna</td>\n",
              "      <td>Female</td>\n",
              "      <td>11/26/1982</td>\n",
              "      <td>7:04 AM</td>\n",
              "      <td>82871</td>\n",
              "      <td>17.999</td>\n",
              "      <td>False</td>\n",
              "      <td>Marketing</td>\n",
              "    </tr>\n",
              "    <tr>\n",
              "      <th>987</th>\n",
              "      <td>Gloria</td>\n",
              "      <td>Female</td>\n",
              "      <td>12/8/2014</td>\n",
              "      <td>5:08 AM</td>\n",
              "      <td>136709</td>\n",
              "      <td>10.331</td>\n",
              "      <td>True</td>\n",
              "      <td>Finance</td>\n",
              "    </tr>\n",
              "    <tr>\n",
              "      <th>988</th>\n",
              "      <td>Alice</td>\n",
              "      <td>Female</td>\n",
              "      <td>10/5/2004</td>\n",
              "      <td>9:34 AM</td>\n",
              "      <td>47638</td>\n",
              "      <td>11.209</td>\n",
              "      <td>False</td>\n",
              "      <td>Human Resources</td>\n",
              "    </tr>\n",
              "    <tr>\n",
              "      <th>990</th>\n",
              "      <td>Robin</td>\n",
              "      <td>Female</td>\n",
              "      <td>7/24/1987</td>\n",
              "      <td>1:35 PM</td>\n",
              "      <td>100765</td>\n",
              "      <td>10.982</td>\n",
              "      <td>True</td>\n",
              "      <td>Client Services</td>\n",
              "    </tr>\n",
              "    <tr>\n",
              "      <th>991</th>\n",
              "      <td>Rose</td>\n",
              "      <td>Female</td>\n",
              "      <td>8/25/2002</td>\n",
              "      <td>5:12 AM</td>\n",
              "      <td>134505</td>\n",
              "      <td>11.051</td>\n",
              "      <td>True</td>\n",
              "      <td>Marketing</td>\n",
              "    </tr>\n",
              "    <tr>\n",
              "      <th>992</th>\n",
              "      <td>Anthony</td>\n",
              "      <td>Male</td>\n",
              "      <td>10/16/2011</td>\n",
              "      <td>8:35 AM</td>\n",
              "      <td>112769</td>\n",
              "      <td>11.625</td>\n",
              "      <td>True</td>\n",
              "      <td>Finance</td>\n",
              "    </tr>\n",
              "    <tr>\n",
              "      <th>993</th>\n",
              "      <td>Tina</td>\n",
              "      <td>Female</td>\n",
              "      <td>5/15/1997</td>\n",
              "      <td>3:53 PM</td>\n",
              "      <td>56450</td>\n",
              "      <td>19.040</td>\n",
              "      <td>True</td>\n",
              "      <td>Engineering</td>\n",
              "    </tr>\n",
              "    <tr>\n",
              "      <th>994</th>\n",
              "      <td>George</td>\n",
              "      <td>Male</td>\n",
              "      <td>6/21/2013</td>\n",
              "      <td>5:47 PM</td>\n",
              "      <td>98874</td>\n",
              "      <td>4.479</td>\n",
              "      <td>True</td>\n",
              "      <td>Marketing</td>\n",
              "    </tr>\n",
              "    <tr>\n",
              "      <th>996</th>\n",
              "      <td>Phillip</td>\n",
              "      <td>Male</td>\n",
              "      <td>1/31/1984</td>\n",
              "      <td>6:30 AM</td>\n",
              "      <td>42392</td>\n",
              "      <td>19.675</td>\n",
              "      <td>False</td>\n",
              "      <td>Finance</td>\n",
              "    </tr>\n",
              "    <tr>\n",
              "      <th>997</th>\n",
              "      <td>Russell</td>\n",
              "      <td>Male</td>\n",
              "      <td>5/20/2013</td>\n",
              "      <td>12:39 PM</td>\n",
              "      <td>96914</td>\n",
              "      <td>1.421</td>\n",
              "      <td>False</td>\n",
              "      <td>Product</td>\n",
              "    </tr>\n",
              "    <tr>\n",
              "      <th>998</th>\n",
              "      <td>Larry</td>\n",
              "      <td>Male</td>\n",
              "      <td>4/20/2013</td>\n",
              "      <td>4:45 PM</td>\n",
              "      <td>60500</td>\n",
              "      <td>11.985</td>\n",
              "      <td>False</td>\n",
              "      <td>Business Development</td>\n",
              "    </tr>\n",
              "    <tr>\n",
              "      <th>999</th>\n",
              "      <td>Albert</td>\n",
              "      <td>Male</td>\n",
              "      <td>5/15/2012</td>\n",
              "      <td>6:24 PM</td>\n",
              "      <td>129949</td>\n",
              "      <td>10.169</td>\n",
              "      <td>True</td>\n",
              "      <td>Sales</td>\n",
              "    </tr>\n",
              "  </tbody>\n",
              "</table>\n",
              "<p>855 rows × 8 columns</p>\n",
              "</div>"
            ],
            "text/plain": [
              "    First Name  Gender  Start Date Last Login Time  Salary  Bonus %  \\\n",
              "0      Douglas    Male    8/6/1993        12:42 PM   97308    6.945   \n",
              "1       Thomas    Male   3/31/1996         6:53 AM   61933    4.170   \n",
              "2        Maria  Female   4/23/1993        11:17 AM  130590   11.858   \n",
              "3        Jerry    Male    3/4/2005         1:00 PM  138705    9.340   \n",
              "4        Larry    Male   1/24/1998         4:47 PM  101004    1.389   \n",
              "5       Dennis    Male   4/18/1987         1:35 AM  115163   10.125   \n",
              "6         Ruby  Female   8/17/1987         4:20 PM   65476   10.012   \n",
              "7          NaN  Female   7/20/2015        10:43 AM   45906   11.598   \n",
              "8       Angela  Female  11/22/2005         6:29 AM   95570   18.523   \n",
              "9      Frances  Female    8/8/2002         6:51 AM  139852    7.524   \n",
              "10      Louise  Female   8/12/1980         9:01 AM   63241   15.132   \n",
              "11       Julie  Female  10/26/1997         3:19 PM  102508   12.637   \n",
              "12     Brandon    Male   12/1/1980         1:08 AM  112807   17.492   \n",
              "13        Gary    Male   1/27/2008        11:40 PM  109831    5.831   \n",
              "14    Kimberly  Female   1/14/1999         7:13 AM   41426   14.543   \n",
              "15     Lillian  Female    6/5/2016         6:09 AM   59414    1.256   \n",
              "16      Jeremy    Male   9/21/2010         5:56 AM   90370    7.369   \n",
              "17       Shawn    Male   12/7/1986         7:45 PM  111737    6.414   \n",
              "18       Diana  Female  10/23/1981        10:27 AM  132940   19.082   \n",
              "19       Donna  Female   7/22/2010         3:48 AM   81014    1.894   \n",
              "21     Matthew    Male    9/5/1995         2:12 AM  100612   13.645   \n",
              "23         NaN    Male   6/14/2012         4:19 PM  125792    5.042   \n",
              "24        John    Male    7/1/1992        10:08 PM   97950   13.873   \n",
              "25         NaN    Male   10/8/2012         1:12 AM   37076   18.576   \n",
              "26       Craig    Male   2/27/2000         7:45 AM   37598    7.757   \n",
              "28       Terry    Male  11/27/1981         6:30 PM  124008   13.464   \n",
              "29    Benjamin    Male   1/26/2005        10:06 PM   79529    7.008   \n",
              "30   Christina  Female    8/6/2002         1:19 PM  118780    9.096   \n",
              "32         NaN    Male   8/21/1998         2:27 PM  122340    6.417   \n",
              "33        Jean  Female  12/18/1993         9:07 AM  119082   16.180   \n",
              "..         ...     ...         ...             ...     ...      ...   \n",
              "966      Louis    Male   8/16/2011         5:19 PM   93022    9.146   \n",
              "967     Thomas    Male   3/12/2016         3:10 PM  105681   19.572   \n",
              "968     Louise  Female   3/27/1995        10:27 PM   43050   11.671   \n",
              "969      Linda  Female    2/4/2010         8:49 PM   44486   17.308   \n",
              "970      Alice  Female    9/3/1988         8:54 PM   63571   15.397   \n",
              "971    Patrick    Male  12/30/2002         2:01 AM   75423    5.368   \n",
              "973    Russell    Male   5/10/2013        11:08 PM  137359   11.105   \n",
              "974      Harry    Male   8/30/2011         6:31 PM   67656   16.455   \n",
              "975      Susan  Female    4/7/1995        10:05 PM   92436   12.467   \n",
              "976     Denise  Female  10/19/1992         5:42 AM  137954    4.195   \n",
              "977      Sarah  Female   12/4/1995         9:16 AM  124566    5.949   \n",
              "978       Sean    Male   1/17/1983         2:23 PM   66146   11.178   \n",
              "979     Ernest    Male   7/20/2013         6:41 AM  142935   13.198   \n",
              "980   Kimberly  Female   1/26/2013        12:57 AM   46233    8.862   \n",
              "981      James    Male   1/15/1993         5:19 PM  148985   19.280   \n",
              "982       Rose  Female    4/6/1982        10:43 AM   91411    8.639   \n",
              "983       John    Male  12/23/1982        10:35 PM  146907   11.738   \n",
              "984      Maria  Female  10/15/2011         4:53 PM   43455   13.040   \n",
              "986      Donna  Female  11/26/1982         7:04 AM   82871   17.999   \n",
              "987     Gloria  Female   12/8/2014         5:08 AM  136709   10.331   \n",
              "988      Alice  Female   10/5/2004         9:34 AM   47638   11.209   \n",
              "990      Robin  Female   7/24/1987         1:35 PM  100765   10.982   \n",
              "991       Rose  Female   8/25/2002         5:12 AM  134505   11.051   \n",
              "992    Anthony    Male  10/16/2011         8:35 AM  112769   11.625   \n",
              "993       Tina  Female   5/15/1997         3:53 PM   56450   19.040   \n",
              "994     George    Male   6/21/2013         5:47 PM   98874    4.479   \n",
              "996    Phillip    Male   1/31/1984         6:30 AM   42392   19.675   \n",
              "997    Russell    Male   5/20/2013        12:39 PM   96914    1.421   \n",
              "998      Larry    Male   4/20/2013         4:45 PM   60500   11.985   \n",
              "999     Albert    Male   5/15/2012         6:24 PM  129949   10.169   \n",
              "\n",
              "    Senior Management                  Team  \n",
              "0                True             Marketing  \n",
              "1                True                   NaN  \n",
              "2               False               Finance  \n",
              "3                True               Finance  \n",
              "4                True       Client Services  \n",
              "5               False                 Legal  \n",
              "6                True               Product  \n",
              "7                 NaN               Finance  \n",
              "8                True           Engineering  \n",
              "9                True  Business Development  \n",
              "10               True                   NaN  \n",
              "11               True                 Legal  \n",
              "12               True       Human Resources  \n",
              "13              False                 Sales  \n",
              "14               True               Finance  \n",
              "15              False               Product  \n",
              "16              False       Human Resources  \n",
              "17              False               Product  \n",
              "18              False       Client Services  \n",
              "19              False               Product  \n",
              "21              False             Marketing  \n",
              "23                NaN                   NaN  \n",
              "24              False       Client Services  \n",
              "25                NaN       Client Services  \n",
              "26               True             Marketing  \n",
              "28               True       Client Services  \n",
              "29               True                 Legal  \n",
              "30               True           Engineering  \n",
              "32                NaN                   NaN  \n",
              "33              False  Business Development  \n",
              "..                ...                   ...  \n",
              "966              True       Human Resources  \n",
              "967             False           Engineering  \n",
              "968             False          Distribution  \n",
              "969              True           Engineering  \n",
              "970              True               Product  \n",
              "971              True  Business Development  \n",
              "973             False  Business Development  \n",
              "974              True       Client Services  \n",
              "975             False                 Sales  \n",
              "976              True                 Legal  \n",
              "977             False               Product  \n",
              "978             False       Human Resources  \n",
              "979              True               Product  \n",
              "980              True           Engineering  \n",
              "981             False                 Legal  \n",
              "982              True       Human Resources  \n",
              "983             False           Engineering  \n",
              "984             False           Engineering  \n",
              "986             False             Marketing  \n",
              "987              True               Finance  \n",
              "988             False       Human Resources  \n",
              "990              True       Client Services  \n",
              "991              True             Marketing  \n",
              "992              True               Finance  \n",
              "993              True           Engineering  \n",
              "994              True             Marketing  \n",
              "996             False               Finance  \n",
              "997             False               Product  \n",
              "998             False  Business Development  \n",
              "999              True                 Sales  \n",
              "\n",
              "[855 rows x 8 columns]"
            ]
          },
          "metadata": {
            "tags": []
          },
          "execution_count": 60
        }
      ]
    },
    {
      "metadata": {
        "id": "E3cH8zdrl7eh",
        "colab_type": "text"
      },
      "cell_type": "markdown",
      "source": [
        "### pd.Series.notnull()"
      ]
    },
    {
      "metadata": {
        "id": "7m9MviGJlso-",
        "colab_type": "code",
        "outputId": "200c7d59-5ad0-437d-c1cb-e71e3c99125d",
        "colab": {
          "base_uri": "https://localhost:8080/",
          "height": 142
        }
      },
      "cell_type": "code",
      "source": [
        "## See pd.DataFrame.notnull() examples\n",
        "\n",
        "sr = pd.Series([10, 25, 3, 25, 24, 6])\n",
        "\n",
        "index_ = ['Coca Cola', 'Sprite', 'Coke', 'Fanta', 'Dew', 'ThumbsUp']\n",
        "\n",
        "sr.index = index_\n",
        "\n",
        "sr"
      ],
      "execution_count": 61,
      "outputs": [
        {
          "output_type": "execute_result",
          "data": {
            "text/plain": [
              "Coca Cola    10\n",
              "Sprite       25\n",
              "Coke          3\n",
              "Fanta        25\n",
              "Dew          24\n",
              "ThumbsUp      6\n",
              "dtype: int64"
            ]
          },
          "metadata": {
            "tags": []
          },
          "execution_count": 61
        }
      ]
    },
    {
      "metadata": {
        "id": "rebKhBQ_mXhQ",
        "colab_type": "code",
        "outputId": "9ed27025-4d06-46aa-8149-a3f498aef9fe",
        "colab": {
          "base_uri": "https://localhost:8080/",
          "height": 142
        }
      },
      "cell_type": "code",
      "source": [
        "result = sr.notnull()\n",
        "\n",
        "result"
      ],
      "execution_count": 62,
      "outputs": [
        {
          "output_type": "execute_result",
          "data": {
            "text/plain": [
              "Coca Cola    True\n",
              "Sprite       True\n",
              "Coke         True\n",
              "Fanta        True\n",
              "Dew          True\n",
              "ThumbsUp     True\n",
              "dtype: bool"
            ]
          },
          "metadata": {
            "tags": []
          },
          "execution_count": 62
        }
      ]
    },
    {
      "metadata": {
        "id": "dI-6V-F9mfMv",
        "colab_type": "code",
        "outputId": "5a30924e-36d7-4efe-8d2f-e314d08d523e",
        "colab": {
          "base_uri": "https://localhost:8080/",
          "height": 196
        }
      },
      "cell_type": "code",
      "source": [
        "sr = pd.Series([19.5, 16.8, None, 22.78, None, 20.124, None,\n",
        "                18.1002, None])\n",
        "\n",
        "sr"
      ],
      "execution_count": 63,
      "outputs": [
        {
          "output_type": "execute_result",
          "data": {
            "text/plain": [
              "0    19.5000\n",
              "1    16.8000\n",
              "2        NaN\n",
              "3    22.7800\n",
              "4        NaN\n",
              "5    20.1240\n",
              "6        NaN\n",
              "7    18.1002\n",
              "8        NaN\n",
              "dtype: float64"
            ]
          },
          "metadata": {
            "tags": []
          },
          "execution_count": 63
        }
      ]
    },
    {
      "metadata": {
        "id": "TI78K-ARm2GV",
        "colab_type": "code",
        "outputId": "d0637ab4-3d5a-439e-d724-bff0080792bd",
        "colab": {
          "base_uri": "https://localhost:8080/",
          "height": 196
        }
      },
      "cell_type": "code",
      "source": [
        "result = sr.notnull()\n",
        "\n",
        "result"
      ],
      "execution_count": 64,
      "outputs": [
        {
          "output_type": "execute_result",
          "data": {
            "text/plain": [
              "0     True\n",
              "1     True\n",
              "2    False\n",
              "3     True\n",
              "4    False\n",
              "5     True\n",
              "6    False\n",
              "7     True\n",
              "8    False\n",
              "dtype: bool"
            ]
          },
          "metadata": {
            "tags": []
          },
          "execution_count": 64
        }
      ]
    },
    {
      "metadata": {
        "id": "gXsRyqn_nWK4",
        "colab_type": "text"
      },
      "cell_type": "markdown",
      "source": [
        "## Filtering Out Missing Data"
      ]
    },
    {
      "metadata": {
        "id": "mEUQ1qnfm8AB",
        "colab_type": "code",
        "colab": {}
      },
      "cell_type": "code",
      "source": [
        "from numpy import nan as NA"
      ],
      "execution_count": 0,
      "outputs": []
    },
    {
      "metadata": {
        "id": "1Hg8yCp1ngKn",
        "colab_type": "code",
        "outputId": "c8300cb8-d1a9-4140-b8bb-db07511b6b4e",
        "colab": {
          "base_uri": "https://localhost:8080/",
          "height": 124
        }
      },
      "cell_type": "code",
      "source": [
        "data = pd.Series([1, NA, 3.5, NA, 7])\n",
        "\n",
        "data"
      ],
      "execution_count": 66,
      "outputs": [
        {
          "output_type": "execute_result",
          "data": {
            "text/plain": [
              "0    1.0\n",
              "1    NaN\n",
              "2    3.5\n",
              "3    NaN\n",
              "4    7.0\n",
              "dtype: float64"
            ]
          },
          "metadata": {
            "tags": []
          },
          "execution_count": 66
        }
      ]
    },
    {
      "metadata": {
        "id": "ht5Lry9xnqBq",
        "colab_type": "code",
        "outputId": "5dc1d112-81a8-4273-95d7-95be9a36dc59",
        "colab": {
          "base_uri": "https://localhost:8080/",
          "height": 88
        }
      },
      "cell_type": "code",
      "source": [
        "data.dropna()"
      ],
      "execution_count": 67,
      "outputs": [
        {
          "output_type": "execute_result",
          "data": {
            "text/plain": [
              "0    1.0\n",
              "2    3.5\n",
              "4    7.0\n",
              "dtype: float64"
            ]
          },
          "metadata": {
            "tags": []
          },
          "execution_count": 67
        }
      ]
    },
    {
      "metadata": {
        "id": "ow2-B_kYntBX",
        "colab_type": "code",
        "outputId": "fe8a05d0-46df-404c-eac6-340cdb324826",
        "colab": {
          "base_uri": "https://localhost:8080/",
          "height": 88
        }
      },
      "cell_type": "code",
      "source": [
        "data[data.notnull()]"
      ],
      "execution_count": 68,
      "outputs": [
        {
          "output_type": "execute_result",
          "data": {
            "text/plain": [
              "0    1.0\n",
              "2    3.5\n",
              "4    7.0\n",
              "dtype: float64"
            ]
          },
          "metadata": {
            "tags": []
          },
          "execution_count": 68
        }
      ]
    },
    {
      "metadata": {
        "id": "46lMKdqznxyn",
        "colab_type": "code",
        "outputId": "cea92890-d6b2-4eac-c3e4-4b72d3cdae95",
        "colab": {
          "base_uri": "https://localhost:8080/",
          "height": 175
        }
      },
      "cell_type": "code",
      "source": [
        "data = pd.DataFrame([[1., 6.5, 3.], [1., NA, NA],\n",
        "                     [NA, NA, NA], [NA, 6.5, 3.]])\n",
        "\n",
        "data"
      ],
      "execution_count": 69,
      "outputs": [
        {
          "output_type": "execute_result",
          "data": {
            "text/html": [
              "<div>\n",
              "<style scoped>\n",
              "    .dataframe tbody tr th:only-of-type {\n",
              "        vertical-align: middle;\n",
              "    }\n",
              "\n",
              "    .dataframe tbody tr th {\n",
              "        vertical-align: top;\n",
              "    }\n",
              "\n",
              "    .dataframe thead th {\n",
              "        text-align: right;\n",
              "    }\n",
              "</style>\n",
              "<table border=\"1\" class=\"dataframe\">\n",
              "  <thead>\n",
              "    <tr style=\"text-align: right;\">\n",
              "      <th></th>\n",
              "      <th>0</th>\n",
              "      <th>1</th>\n",
              "      <th>2</th>\n",
              "    </tr>\n",
              "  </thead>\n",
              "  <tbody>\n",
              "    <tr>\n",
              "      <th>0</th>\n",
              "      <td>1.0</td>\n",
              "      <td>6.5</td>\n",
              "      <td>3.0</td>\n",
              "    </tr>\n",
              "    <tr>\n",
              "      <th>1</th>\n",
              "      <td>1.0</td>\n",
              "      <td>NaN</td>\n",
              "      <td>NaN</td>\n",
              "    </tr>\n",
              "    <tr>\n",
              "      <th>2</th>\n",
              "      <td>NaN</td>\n",
              "      <td>NaN</td>\n",
              "      <td>NaN</td>\n",
              "    </tr>\n",
              "    <tr>\n",
              "      <th>3</th>\n",
              "      <td>NaN</td>\n",
              "      <td>6.5</td>\n",
              "      <td>3.0</td>\n",
              "    </tr>\n",
              "  </tbody>\n",
              "</table>\n",
              "</div>"
            ],
            "text/plain": [
              "     0    1    2\n",
              "0  1.0  6.5  3.0\n",
              "1  1.0  NaN  NaN\n",
              "2  NaN  NaN  NaN\n",
              "3  NaN  6.5  3.0"
            ]
          },
          "metadata": {
            "tags": []
          },
          "execution_count": 69
        }
      ]
    },
    {
      "metadata": {
        "id": "4EN4DqzWoCXO",
        "colab_type": "code",
        "outputId": "d9360b4f-2655-42da-906c-0ee2515a2c7d",
        "colab": {
          "base_uri": "https://localhost:8080/",
          "height": 81
        }
      },
      "cell_type": "code",
      "source": [
        "cleaned = data.dropna()\n",
        "\n",
        "cleaned"
      ],
      "execution_count": 70,
      "outputs": [
        {
          "output_type": "execute_result",
          "data": {
            "text/html": [
              "<div>\n",
              "<style scoped>\n",
              "    .dataframe tbody tr th:only-of-type {\n",
              "        vertical-align: middle;\n",
              "    }\n",
              "\n",
              "    .dataframe tbody tr th {\n",
              "        vertical-align: top;\n",
              "    }\n",
              "\n",
              "    .dataframe thead th {\n",
              "        text-align: right;\n",
              "    }\n",
              "</style>\n",
              "<table border=\"1\" class=\"dataframe\">\n",
              "  <thead>\n",
              "    <tr style=\"text-align: right;\">\n",
              "      <th></th>\n",
              "      <th>0</th>\n",
              "      <th>1</th>\n",
              "      <th>2</th>\n",
              "    </tr>\n",
              "  </thead>\n",
              "  <tbody>\n",
              "    <tr>\n",
              "      <th>0</th>\n",
              "      <td>1.0</td>\n",
              "      <td>6.5</td>\n",
              "      <td>3.0</td>\n",
              "    </tr>\n",
              "  </tbody>\n",
              "</table>\n",
              "</div>"
            ],
            "text/plain": [
              "     0    1    2\n",
              "0  1.0  6.5  3.0"
            ]
          },
          "metadata": {
            "tags": []
          },
          "execution_count": 70
        }
      ]
    },
    {
      "metadata": {
        "id": "or2BQRgzoJ9z",
        "colab_type": "code",
        "outputId": "08225e7d-650b-4a2e-a50e-050ae01364bd",
        "colab": {
          "base_uri": "https://localhost:8080/",
          "height": 143
        }
      },
      "cell_type": "code",
      "source": [
        "data.dropna(how = 'all')  # drop rows that are all NA"
      ],
      "execution_count": 71,
      "outputs": [
        {
          "output_type": "execute_result",
          "data": {
            "text/html": [
              "<div>\n",
              "<style scoped>\n",
              "    .dataframe tbody tr th:only-of-type {\n",
              "        vertical-align: middle;\n",
              "    }\n",
              "\n",
              "    .dataframe tbody tr th {\n",
              "        vertical-align: top;\n",
              "    }\n",
              "\n",
              "    .dataframe thead th {\n",
              "        text-align: right;\n",
              "    }\n",
              "</style>\n",
              "<table border=\"1\" class=\"dataframe\">\n",
              "  <thead>\n",
              "    <tr style=\"text-align: right;\">\n",
              "      <th></th>\n",
              "      <th>0</th>\n",
              "      <th>1</th>\n",
              "      <th>2</th>\n",
              "    </tr>\n",
              "  </thead>\n",
              "  <tbody>\n",
              "    <tr>\n",
              "      <th>0</th>\n",
              "      <td>1.0</td>\n",
              "      <td>6.5</td>\n",
              "      <td>3.0</td>\n",
              "    </tr>\n",
              "    <tr>\n",
              "      <th>1</th>\n",
              "      <td>1.0</td>\n",
              "      <td>NaN</td>\n",
              "      <td>NaN</td>\n",
              "    </tr>\n",
              "    <tr>\n",
              "      <th>3</th>\n",
              "      <td>NaN</td>\n",
              "      <td>6.5</td>\n",
              "      <td>3.0</td>\n",
              "    </tr>\n",
              "  </tbody>\n",
              "</table>\n",
              "</div>"
            ],
            "text/plain": [
              "     0    1    2\n",
              "0  1.0  6.5  3.0\n",
              "1  1.0  NaN  NaN\n",
              "3  NaN  6.5  3.0"
            ]
          },
          "metadata": {
            "tags": []
          },
          "execution_count": 71
        }
      ]
    },
    {
      "metadata": {
        "id": "onDEVR_GoWV3",
        "colab_type": "code",
        "outputId": "221e7cff-603c-46a0-de1a-ac369b7a1acb",
        "colab": {
          "base_uri": "https://localhost:8080/",
          "height": 175
        }
      },
      "cell_type": "code",
      "source": [
        "data[4] = NA\n",
        "\n",
        "data"
      ],
      "execution_count": 72,
      "outputs": [
        {
          "output_type": "execute_result",
          "data": {
            "text/html": [
              "<div>\n",
              "<style scoped>\n",
              "    .dataframe tbody tr th:only-of-type {\n",
              "        vertical-align: middle;\n",
              "    }\n",
              "\n",
              "    .dataframe tbody tr th {\n",
              "        vertical-align: top;\n",
              "    }\n",
              "\n",
              "    .dataframe thead th {\n",
              "        text-align: right;\n",
              "    }\n",
              "</style>\n",
              "<table border=\"1\" class=\"dataframe\">\n",
              "  <thead>\n",
              "    <tr style=\"text-align: right;\">\n",
              "      <th></th>\n",
              "      <th>0</th>\n",
              "      <th>1</th>\n",
              "      <th>2</th>\n",
              "      <th>4</th>\n",
              "    </tr>\n",
              "  </thead>\n",
              "  <tbody>\n",
              "    <tr>\n",
              "      <th>0</th>\n",
              "      <td>1.0</td>\n",
              "      <td>6.5</td>\n",
              "      <td>3.0</td>\n",
              "      <td>NaN</td>\n",
              "    </tr>\n",
              "    <tr>\n",
              "      <th>1</th>\n",
              "      <td>1.0</td>\n",
              "      <td>NaN</td>\n",
              "      <td>NaN</td>\n",
              "      <td>NaN</td>\n",
              "    </tr>\n",
              "    <tr>\n",
              "      <th>2</th>\n",
              "      <td>NaN</td>\n",
              "      <td>NaN</td>\n",
              "      <td>NaN</td>\n",
              "      <td>NaN</td>\n",
              "    </tr>\n",
              "    <tr>\n",
              "      <th>3</th>\n",
              "      <td>NaN</td>\n",
              "      <td>6.5</td>\n",
              "      <td>3.0</td>\n",
              "      <td>NaN</td>\n",
              "    </tr>\n",
              "  </tbody>\n",
              "</table>\n",
              "</div>"
            ],
            "text/plain": [
              "     0    1    2   4\n",
              "0  1.0  6.5  3.0 NaN\n",
              "1  1.0  NaN  NaN NaN\n",
              "2  NaN  NaN  NaN NaN\n",
              "3  NaN  6.5  3.0 NaN"
            ]
          },
          "metadata": {
            "tags": []
          },
          "execution_count": 72
        }
      ]
    },
    {
      "metadata": {
        "id": "7IljDxSoog6L",
        "colab_type": "code",
        "outputId": "d0b929fd-03c6-42cf-9fbd-fbece54e7a83",
        "colab": {
          "base_uri": "https://localhost:8080/",
          "height": 175
        }
      },
      "cell_type": "code",
      "source": [
        "data.dropna(axis = 1, how = 'all')"
      ],
      "execution_count": 73,
      "outputs": [
        {
          "output_type": "execute_result",
          "data": {
            "text/html": [
              "<div>\n",
              "<style scoped>\n",
              "    .dataframe tbody tr th:only-of-type {\n",
              "        vertical-align: middle;\n",
              "    }\n",
              "\n",
              "    .dataframe tbody tr th {\n",
              "        vertical-align: top;\n",
              "    }\n",
              "\n",
              "    .dataframe thead th {\n",
              "        text-align: right;\n",
              "    }\n",
              "</style>\n",
              "<table border=\"1\" class=\"dataframe\">\n",
              "  <thead>\n",
              "    <tr style=\"text-align: right;\">\n",
              "      <th></th>\n",
              "      <th>0</th>\n",
              "      <th>1</th>\n",
              "      <th>2</th>\n",
              "    </tr>\n",
              "  </thead>\n",
              "  <tbody>\n",
              "    <tr>\n",
              "      <th>0</th>\n",
              "      <td>1.0</td>\n",
              "      <td>6.5</td>\n",
              "      <td>3.0</td>\n",
              "    </tr>\n",
              "    <tr>\n",
              "      <th>1</th>\n",
              "      <td>1.0</td>\n",
              "      <td>NaN</td>\n",
              "      <td>NaN</td>\n",
              "    </tr>\n",
              "    <tr>\n",
              "      <th>2</th>\n",
              "      <td>NaN</td>\n",
              "      <td>NaN</td>\n",
              "      <td>NaN</td>\n",
              "    </tr>\n",
              "    <tr>\n",
              "      <th>3</th>\n",
              "      <td>NaN</td>\n",
              "      <td>6.5</td>\n",
              "      <td>3.0</td>\n",
              "    </tr>\n",
              "  </tbody>\n",
              "</table>\n",
              "</div>"
            ],
            "text/plain": [
              "     0    1    2\n",
              "0  1.0  6.5  3.0\n",
              "1  1.0  NaN  NaN\n",
              "2  NaN  NaN  NaN\n",
              "3  NaN  6.5  3.0"
            ]
          },
          "metadata": {
            "tags": []
          },
          "execution_count": 73
        }
      ]
    },
    {
      "metadata": {
        "id": "_nonT5JdomWT",
        "colab_type": "code",
        "outputId": "e6bf5546-e7f7-4b9a-e297-8fbcd19b1824",
        "colab": {
          "base_uri": "https://localhost:8080/",
          "height": 269
        }
      },
      "cell_type": "code",
      "source": [
        "df = pd.DataFrame(np.random.randn(7, 3))\n",
        "\n",
        "df.iloc[:4, 1] = NA\n",
        "\n",
        "df.iloc[:2, 2] = NA\n",
        "\n",
        "df"
      ],
      "execution_count": 74,
      "outputs": [
        {
          "output_type": "execute_result",
          "data": {
            "text/html": [
              "<div>\n",
              "<style scoped>\n",
              "    .dataframe tbody tr th:only-of-type {\n",
              "        vertical-align: middle;\n",
              "    }\n",
              "\n",
              "    .dataframe tbody tr th {\n",
              "        vertical-align: top;\n",
              "    }\n",
              "\n",
              "    .dataframe thead th {\n",
              "        text-align: right;\n",
              "    }\n",
              "</style>\n",
              "<table border=\"1\" class=\"dataframe\">\n",
              "  <thead>\n",
              "    <tr style=\"text-align: right;\">\n",
              "      <th></th>\n",
              "      <th>0</th>\n",
              "      <th>1</th>\n",
              "      <th>2</th>\n",
              "    </tr>\n",
              "  </thead>\n",
              "  <tbody>\n",
              "    <tr>\n",
              "      <th>0</th>\n",
              "      <td>1.412405</td>\n",
              "      <td>NaN</td>\n",
              "      <td>NaN</td>\n",
              "    </tr>\n",
              "    <tr>\n",
              "      <th>1</th>\n",
              "      <td>0.931827</td>\n",
              "      <td>NaN</td>\n",
              "      <td>NaN</td>\n",
              "    </tr>\n",
              "    <tr>\n",
              "      <th>2</th>\n",
              "      <td>1.133041</td>\n",
              "      <td>NaN</td>\n",
              "      <td>1.964337</td>\n",
              "    </tr>\n",
              "    <tr>\n",
              "      <th>3</th>\n",
              "      <td>2.253912</td>\n",
              "      <td>NaN</td>\n",
              "      <td>0.123907</td>\n",
              "    </tr>\n",
              "    <tr>\n",
              "      <th>4</th>\n",
              "      <td>-0.619670</td>\n",
              "      <td>1.461331</td>\n",
              "      <td>-0.422855</td>\n",
              "    </tr>\n",
              "    <tr>\n",
              "      <th>5</th>\n",
              "      <td>-1.693341</td>\n",
              "      <td>-3.092042</td>\n",
              "      <td>-2.583528</td>\n",
              "    </tr>\n",
              "    <tr>\n",
              "      <th>6</th>\n",
              "      <td>1.688272</td>\n",
              "      <td>0.248388</td>\n",
              "      <td>-0.688920</td>\n",
              "    </tr>\n",
              "  </tbody>\n",
              "</table>\n",
              "</div>"
            ],
            "text/plain": [
              "          0         1         2\n",
              "0  1.412405       NaN       NaN\n",
              "1  0.931827       NaN       NaN\n",
              "2  1.133041       NaN  1.964337\n",
              "3  2.253912       NaN  0.123907\n",
              "4 -0.619670  1.461331 -0.422855\n",
              "5 -1.693341 -3.092042 -2.583528\n",
              "6  1.688272  0.248388 -0.688920"
            ]
          },
          "metadata": {
            "tags": []
          },
          "execution_count": 74
        }
      ]
    },
    {
      "metadata": {
        "id": "DsI9v-75o9Y6",
        "colab_type": "code",
        "outputId": "fdfccabb-f3d0-48d7-c60b-e3580e7be8c8",
        "colab": {
          "base_uri": "https://localhost:8080/",
          "height": 143
        }
      },
      "cell_type": "code",
      "source": [
        "df.dropna()"
      ],
      "execution_count": 75,
      "outputs": [
        {
          "output_type": "execute_result",
          "data": {
            "text/html": [
              "<div>\n",
              "<style scoped>\n",
              "    .dataframe tbody tr th:only-of-type {\n",
              "        vertical-align: middle;\n",
              "    }\n",
              "\n",
              "    .dataframe tbody tr th {\n",
              "        vertical-align: top;\n",
              "    }\n",
              "\n",
              "    .dataframe thead th {\n",
              "        text-align: right;\n",
              "    }\n",
              "</style>\n",
              "<table border=\"1\" class=\"dataframe\">\n",
              "  <thead>\n",
              "    <tr style=\"text-align: right;\">\n",
              "      <th></th>\n",
              "      <th>0</th>\n",
              "      <th>1</th>\n",
              "      <th>2</th>\n",
              "    </tr>\n",
              "  </thead>\n",
              "  <tbody>\n",
              "    <tr>\n",
              "      <th>4</th>\n",
              "      <td>-0.619670</td>\n",
              "      <td>1.461331</td>\n",
              "      <td>-0.422855</td>\n",
              "    </tr>\n",
              "    <tr>\n",
              "      <th>5</th>\n",
              "      <td>-1.693341</td>\n",
              "      <td>-3.092042</td>\n",
              "      <td>-2.583528</td>\n",
              "    </tr>\n",
              "    <tr>\n",
              "      <th>6</th>\n",
              "      <td>1.688272</td>\n",
              "      <td>0.248388</td>\n",
              "      <td>-0.688920</td>\n",
              "    </tr>\n",
              "  </tbody>\n",
              "</table>\n",
              "</div>"
            ],
            "text/plain": [
              "          0         1         2\n",
              "4 -0.619670  1.461331 -0.422855\n",
              "5 -1.693341 -3.092042 -2.583528\n",
              "6  1.688272  0.248388 -0.688920"
            ]
          },
          "metadata": {
            "tags": []
          },
          "execution_count": 75
        }
      ]
    },
    {
      "metadata": {
        "id": "MtEB6cS_pLp-",
        "colab_type": "code",
        "outputId": "10fc5626-5a53-4d8e-a522-6dd183b7c0d3",
        "colab": {
          "base_uri": "https://localhost:8080/",
          "height": 206
        }
      },
      "cell_type": "code",
      "source": [
        "df.dropna(thresh = 2)"
      ],
      "execution_count": 76,
      "outputs": [
        {
          "output_type": "execute_result",
          "data": {
            "text/html": [
              "<div>\n",
              "<style scoped>\n",
              "    .dataframe tbody tr th:only-of-type {\n",
              "        vertical-align: middle;\n",
              "    }\n",
              "\n",
              "    .dataframe tbody tr th {\n",
              "        vertical-align: top;\n",
              "    }\n",
              "\n",
              "    .dataframe thead th {\n",
              "        text-align: right;\n",
              "    }\n",
              "</style>\n",
              "<table border=\"1\" class=\"dataframe\">\n",
              "  <thead>\n",
              "    <tr style=\"text-align: right;\">\n",
              "      <th></th>\n",
              "      <th>0</th>\n",
              "      <th>1</th>\n",
              "      <th>2</th>\n",
              "    </tr>\n",
              "  </thead>\n",
              "  <tbody>\n",
              "    <tr>\n",
              "      <th>2</th>\n",
              "      <td>1.133041</td>\n",
              "      <td>NaN</td>\n",
              "      <td>1.964337</td>\n",
              "    </tr>\n",
              "    <tr>\n",
              "      <th>3</th>\n",
              "      <td>2.253912</td>\n",
              "      <td>NaN</td>\n",
              "      <td>0.123907</td>\n",
              "    </tr>\n",
              "    <tr>\n",
              "      <th>4</th>\n",
              "      <td>-0.619670</td>\n",
              "      <td>1.461331</td>\n",
              "      <td>-0.422855</td>\n",
              "    </tr>\n",
              "    <tr>\n",
              "      <th>5</th>\n",
              "      <td>-1.693341</td>\n",
              "      <td>-3.092042</td>\n",
              "      <td>-2.583528</td>\n",
              "    </tr>\n",
              "    <tr>\n",
              "      <th>6</th>\n",
              "      <td>1.688272</td>\n",
              "      <td>0.248388</td>\n",
              "      <td>-0.688920</td>\n",
              "    </tr>\n",
              "  </tbody>\n",
              "</table>\n",
              "</div>"
            ],
            "text/plain": [
              "          0         1         2\n",
              "2  1.133041       NaN  1.964337\n",
              "3  2.253912       NaN  0.123907\n",
              "4 -0.619670  1.461331 -0.422855\n",
              "5 -1.693341 -3.092042 -2.583528\n",
              "6  1.688272  0.248388 -0.688920"
            ]
          },
          "metadata": {
            "tags": []
          },
          "execution_count": 76
        }
      ]
    },
    {
      "metadata": {
        "id": "l-xIe6n5pc51",
        "colab_type": "text"
      },
      "cell_type": "markdown",
      "source": [
        "## Filling In Missing Data"
      ]
    },
    {
      "metadata": {
        "id": "7delaBa5pRCL",
        "colab_type": "code",
        "outputId": "93008196-d245-42a2-f3db-7511e0dba5d4",
        "colab": {
          "base_uri": "https://localhost:8080/",
          "height": 269
        }
      },
      "cell_type": "code",
      "source": [
        "df.fillna(0)"
      ],
      "execution_count": 77,
      "outputs": [
        {
          "output_type": "execute_result",
          "data": {
            "text/html": [
              "<div>\n",
              "<style scoped>\n",
              "    .dataframe tbody tr th:only-of-type {\n",
              "        vertical-align: middle;\n",
              "    }\n",
              "\n",
              "    .dataframe tbody tr th {\n",
              "        vertical-align: top;\n",
              "    }\n",
              "\n",
              "    .dataframe thead th {\n",
              "        text-align: right;\n",
              "    }\n",
              "</style>\n",
              "<table border=\"1\" class=\"dataframe\">\n",
              "  <thead>\n",
              "    <tr style=\"text-align: right;\">\n",
              "      <th></th>\n",
              "      <th>0</th>\n",
              "      <th>1</th>\n",
              "      <th>2</th>\n",
              "    </tr>\n",
              "  </thead>\n",
              "  <tbody>\n",
              "    <tr>\n",
              "      <th>0</th>\n",
              "      <td>1.412405</td>\n",
              "      <td>0.000000</td>\n",
              "      <td>0.000000</td>\n",
              "    </tr>\n",
              "    <tr>\n",
              "      <th>1</th>\n",
              "      <td>0.931827</td>\n",
              "      <td>0.000000</td>\n",
              "      <td>0.000000</td>\n",
              "    </tr>\n",
              "    <tr>\n",
              "      <th>2</th>\n",
              "      <td>1.133041</td>\n",
              "      <td>0.000000</td>\n",
              "      <td>1.964337</td>\n",
              "    </tr>\n",
              "    <tr>\n",
              "      <th>3</th>\n",
              "      <td>2.253912</td>\n",
              "      <td>0.000000</td>\n",
              "      <td>0.123907</td>\n",
              "    </tr>\n",
              "    <tr>\n",
              "      <th>4</th>\n",
              "      <td>-0.619670</td>\n",
              "      <td>1.461331</td>\n",
              "      <td>-0.422855</td>\n",
              "    </tr>\n",
              "    <tr>\n",
              "      <th>5</th>\n",
              "      <td>-1.693341</td>\n",
              "      <td>-3.092042</td>\n",
              "      <td>-2.583528</td>\n",
              "    </tr>\n",
              "    <tr>\n",
              "      <th>6</th>\n",
              "      <td>1.688272</td>\n",
              "      <td>0.248388</td>\n",
              "      <td>-0.688920</td>\n",
              "    </tr>\n",
              "  </tbody>\n",
              "</table>\n",
              "</div>"
            ],
            "text/plain": [
              "          0         1         2\n",
              "0  1.412405  0.000000  0.000000\n",
              "1  0.931827  0.000000  0.000000\n",
              "2  1.133041  0.000000  1.964337\n",
              "3  2.253912  0.000000  0.123907\n",
              "4 -0.619670  1.461331 -0.422855\n",
              "5 -1.693341 -3.092042 -2.583528\n",
              "6  1.688272  0.248388 -0.688920"
            ]
          },
          "metadata": {
            "tags": []
          },
          "execution_count": 77
        }
      ]
    },
    {
      "metadata": {
        "id": "Fmz9pXi2pnJ8",
        "colab_type": "code",
        "outputId": "a497ca56-7378-490f-e5cf-ca93d76de259",
        "colab": {
          "base_uri": "https://localhost:8080/",
          "height": 269
        }
      },
      "cell_type": "code",
      "source": [
        "df.fillna({1: 0.5, 2: 0})"
      ],
      "execution_count": 78,
      "outputs": [
        {
          "output_type": "execute_result",
          "data": {
            "text/html": [
              "<div>\n",
              "<style scoped>\n",
              "    .dataframe tbody tr th:only-of-type {\n",
              "        vertical-align: middle;\n",
              "    }\n",
              "\n",
              "    .dataframe tbody tr th {\n",
              "        vertical-align: top;\n",
              "    }\n",
              "\n",
              "    .dataframe thead th {\n",
              "        text-align: right;\n",
              "    }\n",
              "</style>\n",
              "<table border=\"1\" class=\"dataframe\">\n",
              "  <thead>\n",
              "    <tr style=\"text-align: right;\">\n",
              "      <th></th>\n",
              "      <th>0</th>\n",
              "      <th>1</th>\n",
              "      <th>2</th>\n",
              "    </tr>\n",
              "  </thead>\n",
              "  <tbody>\n",
              "    <tr>\n",
              "      <th>0</th>\n",
              "      <td>1.412405</td>\n",
              "      <td>0.500000</td>\n",
              "      <td>0.000000</td>\n",
              "    </tr>\n",
              "    <tr>\n",
              "      <th>1</th>\n",
              "      <td>0.931827</td>\n",
              "      <td>0.500000</td>\n",
              "      <td>0.000000</td>\n",
              "    </tr>\n",
              "    <tr>\n",
              "      <th>2</th>\n",
              "      <td>1.133041</td>\n",
              "      <td>0.500000</td>\n",
              "      <td>1.964337</td>\n",
              "    </tr>\n",
              "    <tr>\n",
              "      <th>3</th>\n",
              "      <td>2.253912</td>\n",
              "      <td>0.500000</td>\n",
              "      <td>0.123907</td>\n",
              "    </tr>\n",
              "    <tr>\n",
              "      <th>4</th>\n",
              "      <td>-0.619670</td>\n",
              "      <td>1.461331</td>\n",
              "      <td>-0.422855</td>\n",
              "    </tr>\n",
              "    <tr>\n",
              "      <th>5</th>\n",
              "      <td>-1.693341</td>\n",
              "      <td>-3.092042</td>\n",
              "      <td>-2.583528</td>\n",
              "    </tr>\n",
              "    <tr>\n",
              "      <th>6</th>\n",
              "      <td>1.688272</td>\n",
              "      <td>0.248388</td>\n",
              "      <td>-0.688920</td>\n",
              "    </tr>\n",
              "  </tbody>\n",
              "</table>\n",
              "</div>"
            ],
            "text/plain": [
              "          0         1         2\n",
              "0  1.412405  0.500000  0.000000\n",
              "1  0.931827  0.500000  0.000000\n",
              "2  1.133041  0.500000  1.964337\n",
              "3  2.253912  0.500000  0.123907\n",
              "4 -0.619670  1.461331 -0.422855\n",
              "5 -1.693341 -3.092042 -2.583528\n",
              "6  1.688272  0.248388 -0.688920"
            ]
          },
          "metadata": {
            "tags": []
          },
          "execution_count": 78
        }
      ]
    },
    {
      "metadata": {
        "id": "9WlZjVp7p26g",
        "colab_type": "code",
        "outputId": "723171b5-fc4e-488a-9c38-c07beb2c1aca",
        "colab": {
          "base_uri": "https://localhost:8080/",
          "height": 269
        }
      },
      "cell_type": "code",
      "source": [
        "_ = df.fillna(0, inplace = True)\n",
        "\n",
        "df"
      ],
      "execution_count": 79,
      "outputs": [
        {
          "output_type": "execute_result",
          "data": {
            "text/html": [
              "<div>\n",
              "<style scoped>\n",
              "    .dataframe tbody tr th:only-of-type {\n",
              "        vertical-align: middle;\n",
              "    }\n",
              "\n",
              "    .dataframe tbody tr th {\n",
              "        vertical-align: top;\n",
              "    }\n",
              "\n",
              "    .dataframe thead th {\n",
              "        text-align: right;\n",
              "    }\n",
              "</style>\n",
              "<table border=\"1\" class=\"dataframe\">\n",
              "  <thead>\n",
              "    <tr style=\"text-align: right;\">\n",
              "      <th></th>\n",
              "      <th>0</th>\n",
              "      <th>1</th>\n",
              "      <th>2</th>\n",
              "    </tr>\n",
              "  </thead>\n",
              "  <tbody>\n",
              "    <tr>\n",
              "      <th>0</th>\n",
              "      <td>1.412405</td>\n",
              "      <td>0.000000</td>\n",
              "      <td>0.000000</td>\n",
              "    </tr>\n",
              "    <tr>\n",
              "      <th>1</th>\n",
              "      <td>0.931827</td>\n",
              "      <td>0.000000</td>\n",
              "      <td>0.000000</td>\n",
              "    </tr>\n",
              "    <tr>\n",
              "      <th>2</th>\n",
              "      <td>1.133041</td>\n",
              "      <td>0.000000</td>\n",
              "      <td>1.964337</td>\n",
              "    </tr>\n",
              "    <tr>\n",
              "      <th>3</th>\n",
              "      <td>2.253912</td>\n",
              "      <td>0.000000</td>\n",
              "      <td>0.123907</td>\n",
              "    </tr>\n",
              "    <tr>\n",
              "      <th>4</th>\n",
              "      <td>-0.619670</td>\n",
              "      <td>1.461331</td>\n",
              "      <td>-0.422855</td>\n",
              "    </tr>\n",
              "    <tr>\n",
              "      <th>5</th>\n",
              "      <td>-1.693341</td>\n",
              "      <td>-3.092042</td>\n",
              "      <td>-2.583528</td>\n",
              "    </tr>\n",
              "    <tr>\n",
              "      <th>6</th>\n",
              "      <td>1.688272</td>\n",
              "      <td>0.248388</td>\n",
              "      <td>-0.688920</td>\n",
              "    </tr>\n",
              "  </tbody>\n",
              "</table>\n",
              "</div>"
            ],
            "text/plain": [
              "          0         1         2\n",
              "0  1.412405  0.000000  0.000000\n",
              "1  0.931827  0.000000  0.000000\n",
              "2  1.133041  0.000000  1.964337\n",
              "3  2.253912  0.000000  0.123907\n",
              "4 -0.619670  1.461331 -0.422855\n",
              "5 -1.693341 -3.092042 -2.583528\n",
              "6  1.688272  0.248388 -0.688920"
            ]
          },
          "metadata": {
            "tags": []
          },
          "execution_count": 79
        }
      ]
    },
    {
      "metadata": {
        "id": "N49QNBJJqNDy",
        "colab_type": "code",
        "outputId": "6e74bc5c-8686-4b6d-e4a2-7d2878f4f33d",
        "colab": {
          "base_uri": "https://localhost:8080/",
          "height": 238
        }
      },
      "cell_type": "code",
      "source": [
        "df = pd.DataFrame(np.random.randn(6, 3))\n",
        "\n",
        "df.iloc[2:, 1] = NA\n",
        "\n",
        "df.iloc[4:, 2] = NA\n",
        "\n",
        "df"
      ],
      "execution_count": 80,
      "outputs": [
        {
          "output_type": "execute_result",
          "data": {
            "text/html": [
              "<div>\n",
              "<style scoped>\n",
              "    .dataframe tbody tr th:only-of-type {\n",
              "        vertical-align: middle;\n",
              "    }\n",
              "\n",
              "    .dataframe tbody tr th {\n",
              "        vertical-align: top;\n",
              "    }\n",
              "\n",
              "    .dataframe thead th {\n",
              "        text-align: right;\n",
              "    }\n",
              "</style>\n",
              "<table border=\"1\" class=\"dataframe\">\n",
              "  <thead>\n",
              "    <tr style=\"text-align: right;\">\n",
              "      <th></th>\n",
              "      <th>0</th>\n",
              "      <th>1</th>\n",
              "      <th>2</th>\n",
              "    </tr>\n",
              "  </thead>\n",
              "  <tbody>\n",
              "    <tr>\n",
              "      <th>0</th>\n",
              "      <td>-1.954009</td>\n",
              "      <td>-1.572340</td>\n",
              "      <td>0.684120</td>\n",
              "    </tr>\n",
              "    <tr>\n",
              "      <th>1</th>\n",
              "      <td>-1.020135</td>\n",
              "      <td>2.937428</td>\n",
              "      <td>-0.588248</td>\n",
              "    </tr>\n",
              "    <tr>\n",
              "      <th>2</th>\n",
              "      <td>0.726491</td>\n",
              "      <td>NaN</td>\n",
              "      <td>-0.817443</td>\n",
              "    </tr>\n",
              "    <tr>\n",
              "      <th>3</th>\n",
              "      <td>-0.084278</td>\n",
              "      <td>NaN</td>\n",
              "      <td>1.064872</td>\n",
              "    </tr>\n",
              "    <tr>\n",
              "      <th>4</th>\n",
              "      <td>0.958398</td>\n",
              "      <td>NaN</td>\n",
              "      <td>NaN</td>\n",
              "    </tr>\n",
              "    <tr>\n",
              "      <th>5</th>\n",
              "      <td>-2.475085</td>\n",
              "      <td>NaN</td>\n",
              "      <td>NaN</td>\n",
              "    </tr>\n",
              "  </tbody>\n",
              "</table>\n",
              "</div>"
            ],
            "text/plain": [
              "          0         1         2\n",
              "0 -1.954009 -1.572340  0.684120\n",
              "1 -1.020135  2.937428 -0.588248\n",
              "2  0.726491       NaN -0.817443\n",
              "3 -0.084278       NaN  1.064872\n",
              "4  0.958398       NaN       NaN\n",
              "5 -2.475085       NaN       NaN"
            ]
          },
          "metadata": {
            "tags": []
          },
          "execution_count": 80
        }
      ]
    },
    {
      "metadata": {
        "id": "Yekw-b80qk7A",
        "colab_type": "code",
        "outputId": "8f0fa5d6-d760-434c-deca-f06121dc74c3",
        "colab": {
          "base_uri": "https://localhost:8080/",
          "height": 238
        }
      },
      "cell_type": "code",
      "source": [
        "df.fillna(method = 'ffill')"
      ],
      "execution_count": 81,
      "outputs": [
        {
          "output_type": "execute_result",
          "data": {
            "text/html": [
              "<div>\n",
              "<style scoped>\n",
              "    .dataframe tbody tr th:only-of-type {\n",
              "        vertical-align: middle;\n",
              "    }\n",
              "\n",
              "    .dataframe tbody tr th {\n",
              "        vertical-align: top;\n",
              "    }\n",
              "\n",
              "    .dataframe thead th {\n",
              "        text-align: right;\n",
              "    }\n",
              "</style>\n",
              "<table border=\"1\" class=\"dataframe\">\n",
              "  <thead>\n",
              "    <tr style=\"text-align: right;\">\n",
              "      <th></th>\n",
              "      <th>0</th>\n",
              "      <th>1</th>\n",
              "      <th>2</th>\n",
              "    </tr>\n",
              "  </thead>\n",
              "  <tbody>\n",
              "    <tr>\n",
              "      <th>0</th>\n",
              "      <td>-1.954009</td>\n",
              "      <td>-1.572340</td>\n",
              "      <td>0.684120</td>\n",
              "    </tr>\n",
              "    <tr>\n",
              "      <th>1</th>\n",
              "      <td>-1.020135</td>\n",
              "      <td>2.937428</td>\n",
              "      <td>-0.588248</td>\n",
              "    </tr>\n",
              "    <tr>\n",
              "      <th>2</th>\n",
              "      <td>0.726491</td>\n",
              "      <td>2.937428</td>\n",
              "      <td>-0.817443</td>\n",
              "    </tr>\n",
              "    <tr>\n",
              "      <th>3</th>\n",
              "      <td>-0.084278</td>\n",
              "      <td>2.937428</td>\n",
              "      <td>1.064872</td>\n",
              "    </tr>\n",
              "    <tr>\n",
              "      <th>4</th>\n",
              "      <td>0.958398</td>\n",
              "      <td>2.937428</td>\n",
              "      <td>1.064872</td>\n",
              "    </tr>\n",
              "    <tr>\n",
              "      <th>5</th>\n",
              "      <td>-2.475085</td>\n",
              "      <td>2.937428</td>\n",
              "      <td>1.064872</td>\n",
              "    </tr>\n",
              "  </tbody>\n",
              "</table>\n",
              "</div>"
            ],
            "text/plain": [
              "          0         1         2\n",
              "0 -1.954009 -1.572340  0.684120\n",
              "1 -1.020135  2.937428 -0.588248\n",
              "2  0.726491  2.937428 -0.817443\n",
              "3 -0.084278  2.937428  1.064872\n",
              "4  0.958398  2.937428  1.064872\n",
              "5 -2.475085  2.937428  1.064872"
            ]
          },
          "metadata": {
            "tags": []
          },
          "execution_count": 81
        }
      ]
    },
    {
      "metadata": {
        "id": "gAF6Zs4IqzPR",
        "colab_type": "code",
        "outputId": "c874604a-6df1-42f5-8a33-dfd84ac3485e",
        "colab": {
          "base_uri": "https://localhost:8080/",
          "height": 238
        }
      },
      "cell_type": "code",
      "source": [
        "df.fillna(method = 'ffill', limit = 2)"
      ],
      "execution_count": 82,
      "outputs": [
        {
          "output_type": "execute_result",
          "data": {
            "text/html": [
              "<div>\n",
              "<style scoped>\n",
              "    .dataframe tbody tr th:only-of-type {\n",
              "        vertical-align: middle;\n",
              "    }\n",
              "\n",
              "    .dataframe tbody tr th {\n",
              "        vertical-align: top;\n",
              "    }\n",
              "\n",
              "    .dataframe thead th {\n",
              "        text-align: right;\n",
              "    }\n",
              "</style>\n",
              "<table border=\"1\" class=\"dataframe\">\n",
              "  <thead>\n",
              "    <tr style=\"text-align: right;\">\n",
              "      <th></th>\n",
              "      <th>0</th>\n",
              "      <th>1</th>\n",
              "      <th>2</th>\n",
              "    </tr>\n",
              "  </thead>\n",
              "  <tbody>\n",
              "    <tr>\n",
              "      <th>0</th>\n",
              "      <td>-1.954009</td>\n",
              "      <td>-1.572340</td>\n",
              "      <td>0.684120</td>\n",
              "    </tr>\n",
              "    <tr>\n",
              "      <th>1</th>\n",
              "      <td>-1.020135</td>\n",
              "      <td>2.937428</td>\n",
              "      <td>-0.588248</td>\n",
              "    </tr>\n",
              "    <tr>\n",
              "      <th>2</th>\n",
              "      <td>0.726491</td>\n",
              "      <td>2.937428</td>\n",
              "      <td>-0.817443</td>\n",
              "    </tr>\n",
              "    <tr>\n",
              "      <th>3</th>\n",
              "      <td>-0.084278</td>\n",
              "      <td>2.937428</td>\n",
              "      <td>1.064872</td>\n",
              "    </tr>\n",
              "    <tr>\n",
              "      <th>4</th>\n",
              "      <td>0.958398</td>\n",
              "      <td>NaN</td>\n",
              "      <td>1.064872</td>\n",
              "    </tr>\n",
              "    <tr>\n",
              "      <th>5</th>\n",
              "      <td>-2.475085</td>\n",
              "      <td>NaN</td>\n",
              "      <td>1.064872</td>\n",
              "    </tr>\n",
              "  </tbody>\n",
              "</table>\n",
              "</div>"
            ],
            "text/plain": [
              "          0         1         2\n",
              "0 -1.954009 -1.572340  0.684120\n",
              "1 -1.020135  2.937428 -0.588248\n",
              "2  0.726491  2.937428 -0.817443\n",
              "3 -0.084278  2.937428  1.064872\n",
              "4  0.958398       NaN  1.064872\n",
              "5 -2.475085       NaN  1.064872"
            ]
          },
          "metadata": {
            "tags": []
          },
          "execution_count": 82
        }
      ]
    },
    {
      "metadata": {
        "id": "XGLPNLlmq4ix",
        "colab_type": "code",
        "outputId": "1a90f0cc-53a8-44c1-bad6-795bb9bf3590",
        "colab": {
          "base_uri": "https://localhost:8080/",
          "height": 124
        }
      },
      "cell_type": "code",
      "source": [
        "data = pd.Series([1., NA, 3.5, NA, 7])\n",
        "\n",
        "data.fillna(data.mean())"
      ],
      "execution_count": 83,
      "outputs": [
        {
          "output_type": "execute_result",
          "data": {
            "text/plain": [
              "0    1.000000\n",
              "1    3.833333\n",
              "2    3.500000\n",
              "3    3.833333\n",
              "4    7.000000\n",
              "dtype: float64"
            ]
          },
          "metadata": {
            "tags": []
          },
          "execution_count": 83
        }
      ]
    },
    {
      "metadata": {
        "id": "3oS9JqH3rUlT",
        "colab_type": "text"
      },
      "cell_type": "markdown",
      "source": [
        "# 7.2 Data Transformation"
      ]
    },
    {
      "metadata": {
        "id": "s9pC6nTyrYyJ",
        "colab_type": "text"
      },
      "cell_type": "markdown",
      "source": [
        "## Removing Duplicates"
      ]
    },
    {
      "metadata": {
        "id": "Q--hQh_mrJ1p",
        "colab_type": "code",
        "outputId": "f1220d33-efcf-417d-eedf-8c903a44580c",
        "colab": {
          "base_uri": "https://localhost:8080/",
          "height": 269
        }
      },
      "cell_type": "code",
      "source": [
        "data = pd.DataFrame({'k1': ['one', 'two'] * 3 + ['two'],\n",
        "                     'k2': [1, 1, 2, 3, 3, 4, 4]})\n",
        "\n",
        "data"
      ],
      "execution_count": 84,
      "outputs": [
        {
          "output_type": "execute_result",
          "data": {
            "text/html": [
              "<div>\n",
              "<style scoped>\n",
              "    .dataframe tbody tr th:only-of-type {\n",
              "        vertical-align: middle;\n",
              "    }\n",
              "\n",
              "    .dataframe tbody tr th {\n",
              "        vertical-align: top;\n",
              "    }\n",
              "\n",
              "    .dataframe thead th {\n",
              "        text-align: right;\n",
              "    }\n",
              "</style>\n",
              "<table border=\"1\" class=\"dataframe\">\n",
              "  <thead>\n",
              "    <tr style=\"text-align: right;\">\n",
              "      <th></th>\n",
              "      <th>k1</th>\n",
              "      <th>k2</th>\n",
              "    </tr>\n",
              "  </thead>\n",
              "  <tbody>\n",
              "    <tr>\n",
              "      <th>0</th>\n",
              "      <td>one</td>\n",
              "      <td>1</td>\n",
              "    </tr>\n",
              "    <tr>\n",
              "      <th>1</th>\n",
              "      <td>two</td>\n",
              "      <td>1</td>\n",
              "    </tr>\n",
              "    <tr>\n",
              "      <th>2</th>\n",
              "      <td>one</td>\n",
              "      <td>2</td>\n",
              "    </tr>\n",
              "    <tr>\n",
              "      <th>3</th>\n",
              "      <td>two</td>\n",
              "      <td>3</td>\n",
              "    </tr>\n",
              "    <tr>\n",
              "      <th>4</th>\n",
              "      <td>one</td>\n",
              "      <td>3</td>\n",
              "    </tr>\n",
              "    <tr>\n",
              "      <th>5</th>\n",
              "      <td>two</td>\n",
              "      <td>4</td>\n",
              "    </tr>\n",
              "    <tr>\n",
              "      <th>6</th>\n",
              "      <td>two</td>\n",
              "      <td>4</td>\n",
              "    </tr>\n",
              "  </tbody>\n",
              "</table>\n",
              "</div>"
            ],
            "text/plain": [
              "    k1  k2\n",
              "0  one   1\n",
              "1  two   1\n",
              "2  one   2\n",
              "3  two   3\n",
              "4  one   3\n",
              "5  two   4\n",
              "6  two   4"
            ]
          },
          "metadata": {
            "tags": []
          },
          "execution_count": 84
        }
      ]
    },
    {
      "metadata": {
        "id": "KPUI_GWkroEc",
        "colab_type": "code",
        "outputId": "36b851d5-de2b-4ca1-c232-9b5b6480b3b8",
        "colab": {
          "base_uri": "https://localhost:8080/",
          "height": 160
        }
      },
      "cell_type": "code",
      "source": [
        "data.duplicated()"
      ],
      "execution_count": 85,
      "outputs": [
        {
          "output_type": "execute_result",
          "data": {
            "text/plain": [
              "0    False\n",
              "1    False\n",
              "2    False\n",
              "3    False\n",
              "4    False\n",
              "5    False\n",
              "6     True\n",
              "dtype: bool"
            ]
          },
          "metadata": {
            "tags": []
          },
          "execution_count": 85
        }
      ]
    },
    {
      "metadata": {
        "id": "swFmKF9Or43c",
        "colab_type": "code",
        "outputId": "3064162d-f04c-43b5-8e1c-133b87f2aa2f",
        "colab": {
          "base_uri": "https://localhost:8080/",
          "height": 238
        }
      },
      "cell_type": "code",
      "source": [
        "data.drop_duplicates()"
      ],
      "execution_count": 86,
      "outputs": [
        {
          "output_type": "execute_result",
          "data": {
            "text/html": [
              "<div>\n",
              "<style scoped>\n",
              "    .dataframe tbody tr th:only-of-type {\n",
              "        vertical-align: middle;\n",
              "    }\n",
              "\n",
              "    .dataframe tbody tr th {\n",
              "        vertical-align: top;\n",
              "    }\n",
              "\n",
              "    .dataframe thead th {\n",
              "        text-align: right;\n",
              "    }\n",
              "</style>\n",
              "<table border=\"1\" class=\"dataframe\">\n",
              "  <thead>\n",
              "    <tr style=\"text-align: right;\">\n",
              "      <th></th>\n",
              "      <th>k1</th>\n",
              "      <th>k2</th>\n",
              "    </tr>\n",
              "  </thead>\n",
              "  <tbody>\n",
              "    <tr>\n",
              "      <th>0</th>\n",
              "      <td>one</td>\n",
              "      <td>1</td>\n",
              "    </tr>\n",
              "    <tr>\n",
              "      <th>1</th>\n",
              "      <td>two</td>\n",
              "      <td>1</td>\n",
              "    </tr>\n",
              "    <tr>\n",
              "      <th>2</th>\n",
              "      <td>one</td>\n",
              "      <td>2</td>\n",
              "    </tr>\n",
              "    <tr>\n",
              "      <th>3</th>\n",
              "      <td>two</td>\n",
              "      <td>3</td>\n",
              "    </tr>\n",
              "    <tr>\n",
              "      <th>4</th>\n",
              "      <td>one</td>\n",
              "      <td>3</td>\n",
              "    </tr>\n",
              "    <tr>\n",
              "      <th>5</th>\n",
              "      <td>two</td>\n",
              "      <td>4</td>\n",
              "    </tr>\n",
              "  </tbody>\n",
              "</table>\n",
              "</div>"
            ],
            "text/plain": [
              "    k1  k2\n",
              "0  one   1\n",
              "1  two   1\n",
              "2  one   2\n",
              "3  two   3\n",
              "4  one   3\n",
              "5  two   4"
            ]
          },
          "metadata": {
            "tags": []
          },
          "execution_count": 86
        }
      ]
    },
    {
      "metadata": {
        "id": "u0frCFlAsoP2",
        "colab_type": "code",
        "colab": {}
      },
      "cell_type": "code",
      "source": [
        "data['v1'] = range(7)"
      ],
      "execution_count": 0,
      "outputs": []
    },
    {
      "metadata": {
        "id": "YzwId5MDs8Ix",
        "colab_type": "code",
        "outputId": "93e3ee88-b67a-4f8e-8635-488085807e5d",
        "colab": {
          "base_uri": "https://localhost:8080/",
          "height": 112
        }
      },
      "cell_type": "code",
      "source": [
        "data.drop_duplicates(['k1'])"
      ],
      "execution_count": 88,
      "outputs": [
        {
          "output_type": "execute_result",
          "data": {
            "text/html": [
              "<div>\n",
              "<style scoped>\n",
              "    .dataframe tbody tr th:only-of-type {\n",
              "        vertical-align: middle;\n",
              "    }\n",
              "\n",
              "    .dataframe tbody tr th {\n",
              "        vertical-align: top;\n",
              "    }\n",
              "\n",
              "    .dataframe thead th {\n",
              "        text-align: right;\n",
              "    }\n",
              "</style>\n",
              "<table border=\"1\" class=\"dataframe\">\n",
              "  <thead>\n",
              "    <tr style=\"text-align: right;\">\n",
              "      <th></th>\n",
              "      <th>k1</th>\n",
              "      <th>k2</th>\n",
              "      <th>v1</th>\n",
              "    </tr>\n",
              "  </thead>\n",
              "  <tbody>\n",
              "    <tr>\n",
              "      <th>0</th>\n",
              "      <td>one</td>\n",
              "      <td>1</td>\n",
              "      <td>0</td>\n",
              "    </tr>\n",
              "    <tr>\n",
              "      <th>1</th>\n",
              "      <td>two</td>\n",
              "      <td>1</td>\n",
              "      <td>1</td>\n",
              "    </tr>\n",
              "  </tbody>\n",
              "</table>\n",
              "</div>"
            ],
            "text/plain": [
              "    k1  k2  v1\n",
              "0  one   1   0\n",
              "1  two   1   1"
            ]
          },
          "metadata": {
            "tags": []
          },
          "execution_count": 88
        }
      ]
    },
    {
      "metadata": {
        "id": "q4mdaRM7tAxH",
        "colab_type": "code",
        "outputId": "2620627f-ce90-49f0-c6ba-1907870402d0",
        "colab": {
          "base_uri": "https://localhost:8080/",
          "height": 238
        }
      },
      "cell_type": "code",
      "source": [
        "data.drop_duplicates(['k1', 'k2'], keep = 'last')"
      ],
      "execution_count": 89,
      "outputs": [
        {
          "output_type": "execute_result",
          "data": {
            "text/html": [
              "<div>\n",
              "<style scoped>\n",
              "    .dataframe tbody tr th:only-of-type {\n",
              "        vertical-align: middle;\n",
              "    }\n",
              "\n",
              "    .dataframe tbody tr th {\n",
              "        vertical-align: top;\n",
              "    }\n",
              "\n",
              "    .dataframe thead th {\n",
              "        text-align: right;\n",
              "    }\n",
              "</style>\n",
              "<table border=\"1\" class=\"dataframe\">\n",
              "  <thead>\n",
              "    <tr style=\"text-align: right;\">\n",
              "      <th></th>\n",
              "      <th>k1</th>\n",
              "      <th>k2</th>\n",
              "      <th>v1</th>\n",
              "    </tr>\n",
              "  </thead>\n",
              "  <tbody>\n",
              "    <tr>\n",
              "      <th>0</th>\n",
              "      <td>one</td>\n",
              "      <td>1</td>\n",
              "      <td>0</td>\n",
              "    </tr>\n",
              "    <tr>\n",
              "      <th>1</th>\n",
              "      <td>two</td>\n",
              "      <td>1</td>\n",
              "      <td>1</td>\n",
              "    </tr>\n",
              "    <tr>\n",
              "      <th>2</th>\n",
              "      <td>one</td>\n",
              "      <td>2</td>\n",
              "      <td>2</td>\n",
              "    </tr>\n",
              "    <tr>\n",
              "      <th>3</th>\n",
              "      <td>two</td>\n",
              "      <td>3</td>\n",
              "      <td>3</td>\n",
              "    </tr>\n",
              "    <tr>\n",
              "      <th>4</th>\n",
              "      <td>one</td>\n",
              "      <td>3</td>\n",
              "      <td>4</td>\n",
              "    </tr>\n",
              "    <tr>\n",
              "      <th>6</th>\n",
              "      <td>two</td>\n",
              "      <td>4</td>\n",
              "      <td>6</td>\n",
              "    </tr>\n",
              "  </tbody>\n",
              "</table>\n",
              "</div>"
            ],
            "text/plain": [
              "    k1  k2  v1\n",
              "0  one   1   0\n",
              "1  two   1   1\n",
              "2  one   2   2\n",
              "3  two   3   3\n",
              "4  one   3   4\n",
              "6  two   4   6"
            ]
          },
          "metadata": {
            "tags": []
          },
          "execution_count": 89
        }
      ]
    },
    {
      "metadata": {
        "id": "S_x9ek2rt_vB",
        "colab_type": "text"
      },
      "cell_type": "markdown",
      "source": [
        "## Transforming Data Using a Function or Mapping"
      ]
    },
    {
      "metadata": {
        "id": "tBIFKo9Xtl1o",
        "colab_type": "code",
        "outputId": "be467550-54b0-41f0-ff7b-ad47b231764a",
        "colab": {
          "base_uri": "https://localhost:8080/",
          "height": 332
        }
      },
      "cell_type": "code",
      "source": [
        "data = pd.DataFrame({'food': ['bacon', 'pulled pork', 'bacon',\n",
        "                              'Pastrami', 'corned beef', 'Bacon',\n",
        "                              'pastrami', 'honey ham', 'nova lox'],\n",
        "                     'ounces': [4, 3, 12, 6, 7.5, 8, 3, 5, 6]})\n",
        "\n",
        "data"
      ],
      "execution_count": 90,
      "outputs": [
        {
          "output_type": "execute_result",
          "data": {
            "text/html": [
              "<div>\n",
              "<style scoped>\n",
              "    .dataframe tbody tr th:only-of-type {\n",
              "        vertical-align: middle;\n",
              "    }\n",
              "\n",
              "    .dataframe tbody tr th {\n",
              "        vertical-align: top;\n",
              "    }\n",
              "\n",
              "    .dataframe thead th {\n",
              "        text-align: right;\n",
              "    }\n",
              "</style>\n",
              "<table border=\"1\" class=\"dataframe\">\n",
              "  <thead>\n",
              "    <tr style=\"text-align: right;\">\n",
              "      <th></th>\n",
              "      <th>food</th>\n",
              "      <th>ounces</th>\n",
              "    </tr>\n",
              "  </thead>\n",
              "  <tbody>\n",
              "    <tr>\n",
              "      <th>0</th>\n",
              "      <td>bacon</td>\n",
              "      <td>4.0</td>\n",
              "    </tr>\n",
              "    <tr>\n",
              "      <th>1</th>\n",
              "      <td>pulled pork</td>\n",
              "      <td>3.0</td>\n",
              "    </tr>\n",
              "    <tr>\n",
              "      <th>2</th>\n",
              "      <td>bacon</td>\n",
              "      <td>12.0</td>\n",
              "    </tr>\n",
              "    <tr>\n",
              "      <th>3</th>\n",
              "      <td>Pastrami</td>\n",
              "      <td>6.0</td>\n",
              "    </tr>\n",
              "    <tr>\n",
              "      <th>4</th>\n",
              "      <td>corned beef</td>\n",
              "      <td>7.5</td>\n",
              "    </tr>\n",
              "    <tr>\n",
              "      <th>5</th>\n",
              "      <td>Bacon</td>\n",
              "      <td>8.0</td>\n",
              "    </tr>\n",
              "    <tr>\n",
              "      <th>6</th>\n",
              "      <td>pastrami</td>\n",
              "      <td>3.0</td>\n",
              "    </tr>\n",
              "    <tr>\n",
              "      <th>7</th>\n",
              "      <td>honey ham</td>\n",
              "      <td>5.0</td>\n",
              "    </tr>\n",
              "    <tr>\n",
              "      <th>8</th>\n",
              "      <td>nova lox</td>\n",
              "      <td>6.0</td>\n",
              "    </tr>\n",
              "  </tbody>\n",
              "</table>\n",
              "</div>"
            ],
            "text/plain": [
              "          food  ounces\n",
              "0        bacon     4.0\n",
              "1  pulled pork     3.0\n",
              "2        bacon    12.0\n",
              "3     Pastrami     6.0\n",
              "4  corned beef     7.5\n",
              "5        Bacon     8.0\n",
              "6     pastrami     3.0\n",
              "7    honey ham     5.0\n",
              "8     nova lox     6.0"
            ]
          },
          "metadata": {
            "tags": []
          },
          "execution_count": 90
        }
      ]
    },
    {
      "metadata": {
        "id": "0xzk2uFVutq1",
        "colab_type": "code",
        "colab": {}
      },
      "cell_type": "code",
      "source": [
        "meat_to_animal = {\n",
        "    'bacon': 'pig',\n",
        "    'pulled pork': 'pig',\n",
        "    'pastrami': 'cow',\n",
        "    'corned beef': 'cow',\n",
        "    'honey ham': 'pig',\n",
        "    'nova lox': 'salmon'\n",
        "}"
      ],
      "execution_count": 0,
      "outputs": []
    },
    {
      "metadata": {
        "id": "SRzl6KmHu8-z",
        "colab_type": "code",
        "outputId": "da9a88ce-a5b4-401e-a8f6-d06b0d43cc97",
        "colab": {
          "base_uri": "https://localhost:8080/",
          "height": 196
        }
      },
      "cell_type": "code",
      "source": [
        "lowercased = data['food'].str.lower()\n",
        "\n",
        "lowercased"
      ],
      "execution_count": 92,
      "outputs": [
        {
          "output_type": "execute_result",
          "data": {
            "text/plain": [
              "0          bacon\n",
              "1    pulled pork\n",
              "2          bacon\n",
              "3       pastrami\n",
              "4    corned beef\n",
              "5          bacon\n",
              "6       pastrami\n",
              "7      honey ham\n",
              "8       nova lox\n",
              "Name: food, dtype: object"
            ]
          },
          "metadata": {
            "tags": []
          },
          "execution_count": 92
        }
      ]
    },
    {
      "metadata": {
        "id": "f1iuwwPLvPPz",
        "colab_type": "code",
        "outputId": "52ce7933-0952-4a28-b8ff-027fc3658662",
        "colab": {
          "base_uri": "https://localhost:8080/",
          "height": 332
        }
      },
      "cell_type": "code",
      "source": [
        "data['animal'] = lowercased.map(meat_to_animal)\n",
        "\n",
        "data"
      ],
      "execution_count": 93,
      "outputs": [
        {
          "output_type": "execute_result",
          "data": {
            "text/html": [
              "<div>\n",
              "<style scoped>\n",
              "    .dataframe tbody tr th:only-of-type {\n",
              "        vertical-align: middle;\n",
              "    }\n",
              "\n",
              "    .dataframe tbody tr th {\n",
              "        vertical-align: top;\n",
              "    }\n",
              "\n",
              "    .dataframe thead th {\n",
              "        text-align: right;\n",
              "    }\n",
              "</style>\n",
              "<table border=\"1\" class=\"dataframe\">\n",
              "  <thead>\n",
              "    <tr style=\"text-align: right;\">\n",
              "      <th></th>\n",
              "      <th>food</th>\n",
              "      <th>ounces</th>\n",
              "      <th>animal</th>\n",
              "    </tr>\n",
              "  </thead>\n",
              "  <tbody>\n",
              "    <tr>\n",
              "      <th>0</th>\n",
              "      <td>bacon</td>\n",
              "      <td>4.0</td>\n",
              "      <td>pig</td>\n",
              "    </tr>\n",
              "    <tr>\n",
              "      <th>1</th>\n",
              "      <td>pulled pork</td>\n",
              "      <td>3.0</td>\n",
              "      <td>pig</td>\n",
              "    </tr>\n",
              "    <tr>\n",
              "      <th>2</th>\n",
              "      <td>bacon</td>\n",
              "      <td>12.0</td>\n",
              "      <td>pig</td>\n",
              "    </tr>\n",
              "    <tr>\n",
              "      <th>3</th>\n",
              "      <td>Pastrami</td>\n",
              "      <td>6.0</td>\n",
              "      <td>cow</td>\n",
              "    </tr>\n",
              "    <tr>\n",
              "      <th>4</th>\n",
              "      <td>corned beef</td>\n",
              "      <td>7.5</td>\n",
              "      <td>cow</td>\n",
              "    </tr>\n",
              "    <tr>\n",
              "      <th>5</th>\n",
              "      <td>Bacon</td>\n",
              "      <td>8.0</td>\n",
              "      <td>pig</td>\n",
              "    </tr>\n",
              "    <tr>\n",
              "      <th>6</th>\n",
              "      <td>pastrami</td>\n",
              "      <td>3.0</td>\n",
              "      <td>cow</td>\n",
              "    </tr>\n",
              "    <tr>\n",
              "      <th>7</th>\n",
              "      <td>honey ham</td>\n",
              "      <td>5.0</td>\n",
              "      <td>pig</td>\n",
              "    </tr>\n",
              "    <tr>\n",
              "      <th>8</th>\n",
              "      <td>nova lox</td>\n",
              "      <td>6.0</td>\n",
              "      <td>salmon</td>\n",
              "    </tr>\n",
              "  </tbody>\n",
              "</table>\n",
              "</div>"
            ],
            "text/plain": [
              "          food  ounces  animal\n",
              "0        bacon     4.0     pig\n",
              "1  pulled pork     3.0     pig\n",
              "2        bacon    12.0     pig\n",
              "3     Pastrami     6.0     cow\n",
              "4  corned beef     7.5     cow\n",
              "5        Bacon     8.0     pig\n",
              "6     pastrami     3.0     cow\n",
              "7    honey ham     5.0     pig\n",
              "8     nova lox     6.0  salmon"
            ]
          },
          "metadata": {
            "tags": []
          },
          "execution_count": 93
        }
      ]
    },
    {
      "metadata": {
        "id": "05jO9IaVvbqL",
        "colab_type": "code",
        "outputId": "66614bf8-095b-4025-9541-3ef4d96dd7ef",
        "colab": {
          "base_uri": "https://localhost:8080/",
          "height": 196
        }
      },
      "cell_type": "code",
      "source": [
        "data['food'].map(lambda x: meat_to_animal[x.lower()])"
      ],
      "execution_count": 94,
      "outputs": [
        {
          "output_type": "execute_result",
          "data": {
            "text/plain": [
              "0       pig\n",
              "1       pig\n",
              "2       pig\n",
              "3       cow\n",
              "4       cow\n",
              "5       pig\n",
              "6       cow\n",
              "7       pig\n",
              "8    salmon\n",
              "Name: food, dtype: object"
            ]
          },
          "metadata": {
            "tags": []
          },
          "execution_count": 94
        }
      ]
    },
    {
      "metadata": {
        "id": "eWMhNHaKbzXS",
        "colab_type": "text"
      },
      "cell_type": "markdown",
      "source": [
        "## Replacing Values"
      ]
    },
    {
      "metadata": {
        "id": "kBDZp2ZYvzv2",
        "colab_type": "code",
        "outputId": "0e9cf420-e031-406b-889c-1af713c94f90",
        "colab": {
          "base_uri": "https://localhost:8080/",
          "height": 142
        }
      },
      "cell_type": "code",
      "source": [
        "data = pd.Series([1., -999., 2., -999., -1000., 3.])\n",
        "\n",
        "data"
      ],
      "execution_count": 95,
      "outputs": [
        {
          "output_type": "execute_result",
          "data": {
            "text/plain": [
              "0       1.0\n",
              "1    -999.0\n",
              "2       2.0\n",
              "3    -999.0\n",
              "4   -1000.0\n",
              "5       3.0\n",
              "dtype: float64"
            ]
          },
          "metadata": {
            "tags": []
          },
          "execution_count": 95
        }
      ]
    },
    {
      "metadata": {
        "id": "EQmfSYvPcsc3",
        "colab_type": "code",
        "outputId": "2515077d-261e-4b63-d712-e9ee2f36970f",
        "colab": {
          "base_uri": "https://localhost:8080/",
          "height": 142
        }
      },
      "cell_type": "code",
      "source": [
        "data.replace(-999, np.nan)"
      ],
      "execution_count": 96,
      "outputs": [
        {
          "output_type": "execute_result",
          "data": {
            "text/plain": [
              "0       1.0\n",
              "1       NaN\n",
              "2       2.0\n",
              "3       NaN\n",
              "4   -1000.0\n",
              "5       3.0\n",
              "dtype: float64"
            ]
          },
          "metadata": {
            "tags": []
          },
          "execution_count": 96
        }
      ]
    },
    {
      "metadata": {
        "id": "dMZ5NJfPcv44",
        "colab_type": "code",
        "outputId": "45cebda2-c9c6-4bf6-9f87-d3ed8a705d5e",
        "colab": {
          "base_uri": "https://localhost:8080/",
          "height": 142
        }
      },
      "cell_type": "code",
      "source": [
        "data.replace([-999, -1000], np.nan)"
      ],
      "execution_count": 97,
      "outputs": [
        {
          "output_type": "execute_result",
          "data": {
            "text/plain": [
              "0    1.0\n",
              "1    NaN\n",
              "2    2.0\n",
              "3    NaN\n",
              "4    NaN\n",
              "5    3.0\n",
              "dtype: float64"
            ]
          },
          "metadata": {
            "tags": []
          },
          "execution_count": 97
        }
      ]
    },
    {
      "metadata": {
        "id": "KAmO7jiDc7fD",
        "colab_type": "code",
        "outputId": "ae5fa436-6747-4f92-b530-caae3fb82b3b",
        "colab": {
          "base_uri": "https://localhost:8080/",
          "height": 142
        }
      },
      "cell_type": "code",
      "source": [
        "data.replace([-999, -1000], [np.nan, 0])"
      ],
      "execution_count": 98,
      "outputs": [
        {
          "output_type": "execute_result",
          "data": {
            "text/plain": [
              "0    1.0\n",
              "1    NaN\n",
              "2    2.0\n",
              "3    NaN\n",
              "4    0.0\n",
              "5    3.0\n",
              "dtype: float64"
            ]
          },
          "metadata": {
            "tags": []
          },
          "execution_count": 98
        }
      ]
    },
    {
      "metadata": {
        "id": "IDtNSZf7dfeW",
        "colab_type": "code",
        "outputId": "2f32e177-a91e-47fb-c171-332f1fbd6fee",
        "colab": {
          "base_uri": "https://localhost:8080/",
          "height": 142
        }
      },
      "cell_type": "code",
      "source": [
        "data.replace({-999: np.nan, -1000:0})"
      ],
      "execution_count": 99,
      "outputs": [
        {
          "output_type": "execute_result",
          "data": {
            "text/plain": [
              "0    1.0\n",
              "1    NaN\n",
              "2    2.0\n",
              "3    NaN\n",
              "4    0.0\n",
              "5    3.0\n",
              "dtype: float64"
            ]
          },
          "metadata": {
            "tags": []
          },
          "execution_count": 99
        }
      ]
    },
    {
      "metadata": {
        "id": "anJEbYZJeFZ1",
        "colab_type": "text"
      },
      "cell_type": "markdown",
      "source": [
        "## Renaming Axis Indexes"
      ]
    },
    {
      "metadata": {
        "id": "y81e_4szdt-g",
        "colab_type": "code",
        "colab": {}
      },
      "cell_type": "code",
      "source": [
        "data = pd.DataFrame(np.arange(12).reshape((3, 4)),\n",
        "                    index = ['Ohio', 'Colorado', 'New York'],\n",
        "                    columns = ['one', 'two', 'three', 'four'])"
      ],
      "execution_count": 0,
      "outputs": []
    },
    {
      "metadata": {
        "id": "G_4WR6RVete3",
        "colab_type": "code",
        "colab": {}
      },
      "cell_type": "code",
      "source": [
        "transform = lambda x: x[:4].upper()"
      ],
      "execution_count": 0,
      "outputs": []
    },
    {
      "metadata": {
        "id": "c2Qje7RGewq3",
        "colab_type": "code",
        "outputId": "95653b3a-7507-4672-a715-aa67b2b4da67",
        "colab": {
          "base_uri": "https://localhost:8080/",
          "height": 35
        }
      },
      "cell_type": "code",
      "source": [
        "data.index.map(transform)"
      ],
      "execution_count": 102,
      "outputs": [
        {
          "output_type": "execute_result",
          "data": {
            "text/plain": [
              "Index(['OHIO', 'COLO', 'NEW '], dtype='object')"
            ]
          },
          "metadata": {
            "tags": []
          },
          "execution_count": 102
        }
      ]
    },
    {
      "metadata": {
        "id": "YtGQhQ6ne9sF",
        "colab_type": "code",
        "outputId": "d6dd8daf-de9a-4aad-dfb0-62213bae209c",
        "colab": {
          "base_uri": "https://localhost:8080/",
          "height": 143
        }
      },
      "cell_type": "code",
      "source": [
        "data.index = data.index.map(transform)\n",
        "\n",
        "data"
      ],
      "execution_count": 103,
      "outputs": [
        {
          "output_type": "execute_result",
          "data": {
            "text/html": [
              "<div>\n",
              "<style scoped>\n",
              "    .dataframe tbody tr th:only-of-type {\n",
              "        vertical-align: middle;\n",
              "    }\n",
              "\n",
              "    .dataframe tbody tr th {\n",
              "        vertical-align: top;\n",
              "    }\n",
              "\n",
              "    .dataframe thead th {\n",
              "        text-align: right;\n",
              "    }\n",
              "</style>\n",
              "<table border=\"1\" class=\"dataframe\">\n",
              "  <thead>\n",
              "    <tr style=\"text-align: right;\">\n",
              "      <th></th>\n",
              "      <th>one</th>\n",
              "      <th>two</th>\n",
              "      <th>three</th>\n",
              "      <th>four</th>\n",
              "    </tr>\n",
              "  </thead>\n",
              "  <tbody>\n",
              "    <tr>\n",
              "      <th>OHIO</th>\n",
              "      <td>0</td>\n",
              "      <td>1</td>\n",
              "      <td>2</td>\n",
              "      <td>3</td>\n",
              "    </tr>\n",
              "    <tr>\n",
              "      <th>COLO</th>\n",
              "      <td>4</td>\n",
              "      <td>5</td>\n",
              "      <td>6</td>\n",
              "      <td>7</td>\n",
              "    </tr>\n",
              "    <tr>\n",
              "      <th>NEW</th>\n",
              "      <td>8</td>\n",
              "      <td>9</td>\n",
              "      <td>10</td>\n",
              "      <td>11</td>\n",
              "    </tr>\n",
              "  </tbody>\n",
              "</table>\n",
              "</div>"
            ],
            "text/plain": [
              "      one  two  three  four\n",
              "OHIO    0    1      2     3\n",
              "COLO    4    5      6     7\n",
              "NEW     8    9     10    11"
            ]
          },
          "metadata": {
            "tags": []
          },
          "execution_count": 103
        }
      ]
    },
    {
      "metadata": {
        "id": "q_LIqjeBfD09",
        "colab_type": "code",
        "outputId": "e9eb1671-7f27-4ec7-b7ff-785ade264c48",
        "colab": {
          "base_uri": "https://localhost:8080/",
          "height": 143
        }
      },
      "cell_type": "code",
      "source": [
        "data.rename(index = str.title, columns = str.upper)"
      ],
      "execution_count": 104,
      "outputs": [
        {
          "output_type": "execute_result",
          "data": {
            "text/html": [
              "<div>\n",
              "<style scoped>\n",
              "    .dataframe tbody tr th:only-of-type {\n",
              "        vertical-align: middle;\n",
              "    }\n",
              "\n",
              "    .dataframe tbody tr th {\n",
              "        vertical-align: top;\n",
              "    }\n",
              "\n",
              "    .dataframe thead th {\n",
              "        text-align: right;\n",
              "    }\n",
              "</style>\n",
              "<table border=\"1\" class=\"dataframe\">\n",
              "  <thead>\n",
              "    <tr style=\"text-align: right;\">\n",
              "      <th></th>\n",
              "      <th>ONE</th>\n",
              "      <th>TWO</th>\n",
              "      <th>THREE</th>\n",
              "      <th>FOUR</th>\n",
              "    </tr>\n",
              "  </thead>\n",
              "  <tbody>\n",
              "    <tr>\n",
              "      <th>Ohio</th>\n",
              "      <td>0</td>\n",
              "      <td>1</td>\n",
              "      <td>2</td>\n",
              "      <td>3</td>\n",
              "    </tr>\n",
              "    <tr>\n",
              "      <th>Colo</th>\n",
              "      <td>4</td>\n",
              "      <td>5</td>\n",
              "      <td>6</td>\n",
              "      <td>7</td>\n",
              "    </tr>\n",
              "    <tr>\n",
              "      <th>New</th>\n",
              "      <td>8</td>\n",
              "      <td>9</td>\n",
              "      <td>10</td>\n",
              "      <td>11</td>\n",
              "    </tr>\n",
              "  </tbody>\n",
              "</table>\n",
              "</div>"
            ],
            "text/plain": [
              "      ONE  TWO  THREE  FOUR\n",
              "Ohio    0    1      2     3\n",
              "Colo    4    5      6     7\n",
              "New     8    9     10    11"
            ]
          },
          "metadata": {
            "tags": []
          },
          "execution_count": 104
        }
      ]
    },
    {
      "metadata": {
        "id": "tEY6j7u7fsE1",
        "colab_type": "code",
        "outputId": "2f6771dd-e66f-483b-8160-cf840906e049",
        "colab": {
          "base_uri": "https://localhost:8080/",
          "height": 143
        }
      },
      "cell_type": "code",
      "source": [
        "data.rename(index = {'OHIO': 'INDIANA'},\n",
        "            columns = {'three': 'peekaboo'})"
      ],
      "execution_count": 105,
      "outputs": [
        {
          "output_type": "execute_result",
          "data": {
            "text/html": [
              "<div>\n",
              "<style scoped>\n",
              "    .dataframe tbody tr th:only-of-type {\n",
              "        vertical-align: middle;\n",
              "    }\n",
              "\n",
              "    .dataframe tbody tr th {\n",
              "        vertical-align: top;\n",
              "    }\n",
              "\n",
              "    .dataframe thead th {\n",
              "        text-align: right;\n",
              "    }\n",
              "</style>\n",
              "<table border=\"1\" class=\"dataframe\">\n",
              "  <thead>\n",
              "    <tr style=\"text-align: right;\">\n",
              "      <th></th>\n",
              "      <th>one</th>\n",
              "      <th>two</th>\n",
              "      <th>peekaboo</th>\n",
              "      <th>four</th>\n",
              "    </tr>\n",
              "  </thead>\n",
              "  <tbody>\n",
              "    <tr>\n",
              "      <th>INDIANA</th>\n",
              "      <td>0</td>\n",
              "      <td>1</td>\n",
              "      <td>2</td>\n",
              "      <td>3</td>\n",
              "    </tr>\n",
              "    <tr>\n",
              "      <th>COLO</th>\n",
              "      <td>4</td>\n",
              "      <td>5</td>\n",
              "      <td>6</td>\n",
              "      <td>7</td>\n",
              "    </tr>\n",
              "    <tr>\n",
              "      <th>NEW</th>\n",
              "      <td>8</td>\n",
              "      <td>9</td>\n",
              "      <td>10</td>\n",
              "      <td>11</td>\n",
              "    </tr>\n",
              "  </tbody>\n",
              "</table>\n",
              "</div>"
            ],
            "text/plain": [
              "         one  two  peekaboo  four\n",
              "INDIANA    0    1         2     3\n",
              "COLO       4    5         6     7\n",
              "NEW        8    9        10    11"
            ]
          },
          "metadata": {
            "tags": []
          },
          "execution_count": 105
        }
      ]
    },
    {
      "metadata": {
        "id": "GY8HstCxfzVN",
        "colab_type": "code",
        "colab": {}
      },
      "cell_type": "code",
      "source": [
        "data.rename(index = {'OHIO': 'INDIANA'}, inplace = True)"
      ],
      "execution_count": 0,
      "outputs": []
    },
    {
      "metadata": {
        "id": "2ekKExPXgLoW",
        "colab_type": "code",
        "outputId": "4cea88ee-8e38-4d8b-e9ee-7980fecbdcae",
        "colab": {
          "base_uri": "https://localhost:8080/",
          "height": 143
        }
      },
      "cell_type": "code",
      "source": [
        "data"
      ],
      "execution_count": 107,
      "outputs": [
        {
          "output_type": "execute_result",
          "data": {
            "text/html": [
              "<div>\n",
              "<style scoped>\n",
              "    .dataframe tbody tr th:only-of-type {\n",
              "        vertical-align: middle;\n",
              "    }\n",
              "\n",
              "    .dataframe tbody tr th {\n",
              "        vertical-align: top;\n",
              "    }\n",
              "\n",
              "    .dataframe thead th {\n",
              "        text-align: right;\n",
              "    }\n",
              "</style>\n",
              "<table border=\"1\" class=\"dataframe\">\n",
              "  <thead>\n",
              "    <tr style=\"text-align: right;\">\n",
              "      <th></th>\n",
              "      <th>one</th>\n",
              "      <th>two</th>\n",
              "      <th>three</th>\n",
              "      <th>four</th>\n",
              "    </tr>\n",
              "  </thead>\n",
              "  <tbody>\n",
              "    <tr>\n",
              "      <th>INDIANA</th>\n",
              "      <td>0</td>\n",
              "      <td>1</td>\n",
              "      <td>2</td>\n",
              "      <td>3</td>\n",
              "    </tr>\n",
              "    <tr>\n",
              "      <th>COLO</th>\n",
              "      <td>4</td>\n",
              "      <td>5</td>\n",
              "      <td>6</td>\n",
              "      <td>7</td>\n",
              "    </tr>\n",
              "    <tr>\n",
              "      <th>NEW</th>\n",
              "      <td>8</td>\n",
              "      <td>9</td>\n",
              "      <td>10</td>\n",
              "      <td>11</td>\n",
              "    </tr>\n",
              "  </tbody>\n",
              "</table>\n",
              "</div>"
            ],
            "text/plain": [
              "         one  two  three  four\n",
              "INDIANA    0    1      2     3\n",
              "COLO       4    5      6     7\n",
              "NEW        8    9     10    11"
            ]
          },
          "metadata": {
            "tags": []
          },
          "execution_count": 107
        }
      ]
    },
    {
      "metadata": {
        "id": "kNCZjFtLgqOM",
        "colab_type": "text"
      },
      "cell_type": "markdown",
      "source": [
        "## Discretization and Binning"
      ]
    },
    {
      "metadata": {
        "id": "ZvinWJqBgMmp",
        "colab_type": "code",
        "outputId": "f8d966d8-6218-4f2c-baa3-44d5deba7bc8",
        "colab": {
          "base_uri": "https://localhost:8080/",
          "height": 71
        }
      },
      "cell_type": "code",
      "source": [
        "ages = [20, 22, 25, 27, 21, 23, 37, 31, 61, 45, 41, 32]\n",
        "\n",
        "bins = [18, 25, 35, 60, 100]\n",
        "\n",
        "cats = pd.cut(ages, bins)\n",
        "\n",
        "cats"
      ],
      "execution_count": 108,
      "outputs": [
        {
          "output_type": "execute_result",
          "data": {
            "text/plain": [
              "[(18, 25], (18, 25], (18, 25], (25, 35], (18, 25], ..., (25, 35], (60, 100], (35, 60], (35, 60], (25, 35]]\n",
              "Length: 12\n",
              "Categories (4, interval[int64]): [(18, 25] < (25, 35] < (35, 60] < (60, 100]]"
            ]
          },
          "metadata": {
            "tags": []
          },
          "execution_count": 108
        }
      ]
    },
    {
      "metadata": {
        "id": "bsoDBPK-hBqp",
        "colab_type": "code",
        "outputId": "4d1bf4cb-9b44-465f-af8c-a30242cdd345",
        "colab": {
          "base_uri": "https://localhost:8080/",
          "height": 35
        }
      },
      "cell_type": "code",
      "source": [
        "cats.codes"
      ],
      "execution_count": 109,
      "outputs": [
        {
          "output_type": "execute_result",
          "data": {
            "text/plain": [
              "array([0, 0, 0, 1, 0, 0, 2, 1, 3, 2, 2, 1], dtype=int8)"
            ]
          },
          "metadata": {
            "tags": []
          },
          "execution_count": 109
        }
      ]
    },
    {
      "metadata": {
        "id": "P48WLKpWhMFb",
        "colab_type": "code",
        "outputId": "44e08769-052a-42df-843d-fb7540103886",
        "colab": {
          "base_uri": "https://localhost:8080/",
          "height": 71
        }
      },
      "cell_type": "code",
      "source": [
        "cats.categories"
      ],
      "execution_count": 110,
      "outputs": [
        {
          "output_type": "execute_result",
          "data": {
            "text/plain": [
              "IntervalIndex([(18, 25], (25, 35], (35, 60], (60, 100]]\n",
              "              closed='right',\n",
              "              dtype='interval[int64]')"
            ]
          },
          "metadata": {
            "tags": []
          },
          "execution_count": 110
        }
      ]
    },
    {
      "metadata": {
        "id": "LsLNRr6XhPtv",
        "colab_type": "code",
        "outputId": "943e3539-109c-472c-bacd-7484742ee8f8",
        "colab": {
          "base_uri": "https://localhost:8080/",
          "height": 106
        }
      },
      "cell_type": "code",
      "source": [
        "pd.value_counts(cats)"
      ],
      "execution_count": 111,
      "outputs": [
        {
          "output_type": "execute_result",
          "data": {
            "text/plain": [
              "(18, 25]     5\n",
              "(35, 60]     3\n",
              "(25, 35]     3\n",
              "(60, 100]    1\n",
              "dtype: int64"
            ]
          },
          "metadata": {
            "tags": []
          },
          "execution_count": 111
        }
      ]
    },
    {
      "metadata": {
        "id": "wR6TJbQUhaN3",
        "colab_type": "code",
        "outputId": "74ce9431-41ef-4ea3-fe0a-b27f9cda6df3",
        "colab": {
          "base_uri": "https://localhost:8080/",
          "height": 71
        }
      },
      "cell_type": "code",
      "source": [
        "pd.cut(ages, [18, 26, 36, 61, 100], right = False)"
      ],
      "execution_count": 112,
      "outputs": [
        {
          "output_type": "execute_result",
          "data": {
            "text/plain": [
              "[[18, 26), [18, 26), [18, 26), [26, 36), [18, 26), ..., [26, 36), [61, 100), [36, 61), [36, 61), [26, 36)]\n",
              "Length: 12\n",
              "Categories (4, interval[int64]): [[18, 26) < [26, 36) < [36, 61) < [61, 100)]"
            ]
          },
          "metadata": {
            "tags": []
          },
          "execution_count": 112
        }
      ]
    },
    {
      "metadata": {
        "id": "X48-6m8dikJY",
        "colab_type": "code",
        "colab": {}
      },
      "cell_type": "code",
      "source": [
        "group_names = ['Youth', 'YoungAdult', 'MiddleAged', 'Senior']"
      ],
      "execution_count": 0,
      "outputs": []
    },
    {
      "metadata": {
        "id": "GUe5-2epi_xA",
        "colab_type": "code",
        "outputId": "e511d756-3bf7-4eb8-f6a5-f099eba7e241",
        "colab": {
          "base_uri": "https://localhost:8080/",
          "height": 71
        }
      },
      "cell_type": "code",
      "source": [
        "pd.cut(ages, bins, labels = group_names)"
      ],
      "execution_count": 114,
      "outputs": [
        {
          "output_type": "execute_result",
          "data": {
            "text/plain": [
              "[Youth, Youth, Youth, YoungAdult, Youth, ..., YoungAdult, Senior, MiddleAged, MiddleAged, YoungAdult]\n",
              "Length: 12\n",
              "Categories (4, object): [Youth < YoungAdult < MiddleAged < Senior]"
            ]
          },
          "metadata": {
            "tags": []
          },
          "execution_count": 114
        }
      ]
    },
    {
      "metadata": {
        "id": "_Z4vuWpJjMkU",
        "colab_type": "code",
        "outputId": "be4e373e-e6e7-4964-fe2a-49af645cbb64",
        "colab": {
          "base_uri": "https://localhost:8080/",
          "height": 71
        }
      },
      "cell_type": "code",
      "source": [
        "data = np.random.rand(20)\n",
        "\n",
        "pd.cut(data, 4, precision = 2)"
      ],
      "execution_count": 115,
      "outputs": [
        {
          "output_type": "execute_result",
          "data": {
            "text/plain": [
              "[(0.27, 0.5], (0.5, 0.72], (0.041, 0.27], (0.5, 0.72], (0.72, 0.95], ..., (0.041, 0.27], (0.72, 0.95], (0.72, 0.95], (0.72, 0.95], (0.27, 0.5]]\n",
              "Length: 20\n",
              "Categories (4, interval[float64]): [(0.041, 0.27] < (0.27, 0.5] < (0.5, 0.72] < (0.72, 0.95]]"
            ]
          },
          "metadata": {
            "tags": []
          },
          "execution_count": 115
        }
      ]
    },
    {
      "metadata": {
        "id": "DmDzE4UpjnVM",
        "colab_type": "code",
        "colab": {}
      },
      "cell_type": "code",
      "source": [
        "data = np.random.randn(1000) # Normally distributed"
      ],
      "execution_count": 0,
      "outputs": []
    },
    {
      "metadata": {
        "id": "kIAc8BW0j6jy",
        "colab_type": "code",
        "outputId": "7814b275-0bf9-4e65-932d-e1f0939008ab",
        "colab": {
          "base_uri": "https://localhost:8080/",
          "height": 108
        }
      },
      "cell_type": "code",
      "source": [
        "cats = pd.qcut(data, 4)  # Cut into quartiles\n",
        "\n",
        "cats"
      ],
      "execution_count": 117,
      "outputs": [
        {
          "output_type": "execute_result",
          "data": {
            "text/plain": [
              "[(-3.5949999999999998, -0.736], (0.645, 3.528], (0.645, 3.528], (-0.736, -0.0292], (-3.5949999999999998, -0.736], ..., (-3.5949999999999998, -0.736], (-3.5949999999999998, -0.736], (-3.5949999999999998, -0.736], (-3.5949999999999998, -0.736], (-0.736, -0.0292]]\n",
              "Length: 1000\n",
              "Categories (4, interval[float64]): [(-3.5949999999999998, -0.736] < (-0.736, -0.0292] < (-0.0292, 0.645] <\n",
              "                                    (0.645, 3.528]]"
            ]
          },
          "metadata": {
            "tags": []
          },
          "execution_count": 117
        }
      ]
    },
    {
      "metadata": {
        "id": "TcFQYagbkK8Q",
        "colab_type": "code",
        "outputId": "f4c67ef5-60e4-46c4-a698-0e930d752318",
        "colab": {
          "base_uri": "https://localhost:8080/",
          "height": 106
        }
      },
      "cell_type": "code",
      "source": [
        "pd.value_counts(cats)"
      ],
      "execution_count": 118,
      "outputs": [
        {
          "output_type": "execute_result",
          "data": {
            "text/plain": [
              "(0.645, 3.528]                   250\n",
              "(-0.0292, 0.645]                 250\n",
              "(-0.736, -0.0292]                250\n",
              "(-3.5949999999999998, -0.736]    250\n",
              "dtype: int64"
            ]
          },
          "metadata": {
            "tags": []
          },
          "execution_count": 118
        }
      ]
    },
    {
      "metadata": {
        "id": "oeDohvYAkhs8",
        "colab_type": "code",
        "outputId": "ff3fd0dc-3a59-4c78-e565-3b1fd1aeb08a",
        "colab": {
          "base_uri": "https://localhost:8080/",
          "height": 108
        }
      },
      "cell_type": "code",
      "source": [
        "pd.qcut(data, [0, 0.1, 0.5, 0.9, 1.])"
      ],
      "execution_count": 119,
      "outputs": [
        {
          "output_type": "execute_result",
          "data": {
            "text/plain": [
              "[(-3.5949999999999998, -1.263], (-0.0292, 1.334], (1.334, 3.528], (-1.263, -0.0292], (-3.5949999999999998, -1.263], ..., (-3.5949999999999998, -1.263], (-1.263, -0.0292], (-3.5949999999999998, -1.263], (-1.263, -0.0292], (-1.263, -0.0292]]\n",
              "Length: 1000\n",
              "Categories (4, interval[float64]): [(-3.5949999999999998, -1.263] < (-1.263, -0.0292] < (-0.0292, 1.334] <\n",
              "                                    (1.334, 3.528]]"
            ]
          },
          "metadata": {
            "tags": []
          },
          "execution_count": 119
        }
      ]
    },
    {
      "metadata": {
        "id": "ZrDTRpt1lF2G",
        "colab_type": "text"
      },
      "cell_type": "markdown",
      "source": [
        "## Detecting and Filtering Outliers"
      ]
    },
    {
      "metadata": {
        "id": "YIBv9EIvkqCq",
        "colab_type": "code",
        "outputId": "40b567bf-812d-4546-e2bd-09e0acfd994b",
        "colab": {
          "base_uri": "https://localhost:8080/",
          "height": 300
        }
      },
      "cell_type": "code",
      "source": [
        "data = pd.DataFrame(np.random.randn(1000, 4))\n",
        "\n",
        "data.describe()"
      ],
      "execution_count": 120,
      "outputs": [
        {
          "output_type": "execute_result",
          "data": {
            "text/html": [
              "<div>\n",
              "<style scoped>\n",
              "    .dataframe tbody tr th:only-of-type {\n",
              "        vertical-align: middle;\n",
              "    }\n",
              "\n",
              "    .dataframe tbody tr th {\n",
              "        vertical-align: top;\n",
              "    }\n",
              "\n",
              "    .dataframe thead th {\n",
              "        text-align: right;\n",
              "    }\n",
              "</style>\n",
              "<table border=\"1\" class=\"dataframe\">\n",
              "  <thead>\n",
              "    <tr style=\"text-align: right;\">\n",
              "      <th></th>\n",
              "      <th>0</th>\n",
              "      <th>1</th>\n",
              "      <th>2</th>\n",
              "      <th>3</th>\n",
              "    </tr>\n",
              "  </thead>\n",
              "  <tbody>\n",
              "    <tr>\n",
              "      <th>count</th>\n",
              "      <td>1000.000000</td>\n",
              "      <td>1000.000000</td>\n",
              "      <td>1000.000000</td>\n",
              "      <td>1000.000000</td>\n",
              "    </tr>\n",
              "    <tr>\n",
              "      <th>mean</th>\n",
              "      <td>0.014376</td>\n",
              "      <td>-0.008781</td>\n",
              "      <td>-0.041803</td>\n",
              "      <td>0.010742</td>\n",
              "    </tr>\n",
              "    <tr>\n",
              "      <th>std</th>\n",
              "      <td>0.980127</td>\n",
              "      <td>1.008480</td>\n",
              "      <td>1.021911</td>\n",
              "      <td>1.026074</td>\n",
              "    </tr>\n",
              "    <tr>\n",
              "      <th>min</th>\n",
              "      <td>-3.834682</td>\n",
              "      <td>-3.177803</td>\n",
              "      <td>-2.906478</td>\n",
              "      <td>-3.344438</td>\n",
              "    </tr>\n",
              "    <tr>\n",
              "      <th>25%</th>\n",
              "      <td>-0.630968</td>\n",
              "      <td>-0.690980</td>\n",
              "      <td>-0.757285</td>\n",
              "      <td>-0.619013</td>\n",
              "    </tr>\n",
              "    <tr>\n",
              "      <th>50%</th>\n",
              "      <td>0.011627</td>\n",
              "      <td>-0.032570</td>\n",
              "      <td>-0.015809</td>\n",
              "      <td>0.022671</td>\n",
              "    </tr>\n",
              "    <tr>\n",
              "      <th>75%</th>\n",
              "      <td>0.638097</td>\n",
              "      <td>0.650182</td>\n",
              "      <td>0.673984</td>\n",
              "      <td>0.719689</td>\n",
              "    </tr>\n",
              "    <tr>\n",
              "      <th>max</th>\n",
              "      <td>3.335630</td>\n",
              "      <td>3.252415</td>\n",
              "      <td>3.955269</td>\n",
              "      <td>2.983987</td>\n",
              "    </tr>\n",
              "  </tbody>\n",
              "</table>\n",
              "</div>"
            ],
            "text/plain": [
              "                 0            1            2            3\n",
              "count  1000.000000  1000.000000  1000.000000  1000.000000\n",
              "mean      0.014376    -0.008781    -0.041803     0.010742\n",
              "std       0.980127     1.008480     1.021911     1.026074\n",
              "min      -3.834682    -3.177803    -2.906478    -3.344438\n",
              "25%      -0.630968    -0.690980    -0.757285    -0.619013\n",
              "50%       0.011627    -0.032570    -0.015809     0.022671\n",
              "75%       0.638097     0.650182     0.673984     0.719689\n",
              "max       3.335630     3.252415     3.955269     2.983987"
            ]
          },
          "metadata": {
            "tags": []
          },
          "execution_count": 120
        }
      ]
    },
    {
      "metadata": {
        "id": "iiuTFwFNlY7R",
        "colab_type": "code",
        "colab": {}
      },
      "cell_type": "code",
      "source": [
        "col = data[2]"
      ],
      "execution_count": 0,
      "outputs": []
    },
    {
      "metadata": {
        "id": "ZQnDt2rCld_b",
        "colab_type": "code",
        "outputId": "1b033d49-62cb-419b-c63d-d6b824227da5",
        "colab": {
          "base_uri": "https://localhost:8080/",
          "height": 53
        }
      },
      "cell_type": "code",
      "source": [
        "col[np.abs(col) > 3]"
      ],
      "execution_count": 122,
      "outputs": [
        {
          "output_type": "execute_result",
          "data": {
            "text/plain": [
              "401    3.955269\n",
              "Name: 2, dtype: float64"
            ]
          },
          "metadata": {
            "tags": []
          },
          "execution_count": 122
        }
      ]
    },
    {
      "metadata": {
        "id": "wmTieEmPlf9U",
        "colab_type": "code",
        "outputId": "276bd744-76f2-4352-afc2-184eeba05a83",
        "colab": {
          "base_uri": "https://localhost:8080/",
          "height": 489
        }
      },
      "cell_type": "code",
      "source": [
        "data[(np.abs(data) > 3).any(1)]"
      ],
      "execution_count": 123,
      "outputs": [
        {
          "output_type": "execute_result",
          "data": {
            "text/html": [
              "<div>\n",
              "<style scoped>\n",
              "    .dataframe tbody tr th:only-of-type {\n",
              "        vertical-align: middle;\n",
              "    }\n",
              "\n",
              "    .dataframe tbody tr th {\n",
              "        vertical-align: top;\n",
              "    }\n",
              "\n",
              "    .dataframe thead th {\n",
              "        text-align: right;\n",
              "    }\n",
              "</style>\n",
              "<table border=\"1\" class=\"dataframe\">\n",
              "  <thead>\n",
              "    <tr style=\"text-align: right;\">\n",
              "      <th></th>\n",
              "      <th>0</th>\n",
              "      <th>1</th>\n",
              "      <th>2</th>\n",
              "      <th>3</th>\n",
              "    </tr>\n",
              "  </thead>\n",
              "  <tbody>\n",
              "    <tr>\n",
              "      <th>100</th>\n",
              "      <td>-0.278356</td>\n",
              "      <td>0.763369</td>\n",
              "      <td>-0.924645</td>\n",
              "      <td>-3.344438</td>\n",
              "    </tr>\n",
              "    <tr>\n",
              "      <th>110</th>\n",
              "      <td>-3.834682</td>\n",
              "      <td>-1.194257</td>\n",
              "      <td>0.370370</td>\n",
              "      <td>0.713694</td>\n",
              "    </tr>\n",
              "    <tr>\n",
              "      <th>112</th>\n",
              "      <td>0.217942</td>\n",
              "      <td>3.252415</td>\n",
              "      <td>-0.219369</td>\n",
              "      <td>-0.180917</td>\n",
              "    </tr>\n",
              "    <tr>\n",
              "      <th>230</th>\n",
              "      <td>-0.477895</td>\n",
              "      <td>-3.177803</td>\n",
              "      <td>-0.964096</td>\n",
              "      <td>0.269497</td>\n",
              "    </tr>\n",
              "    <tr>\n",
              "      <th>235</th>\n",
              "      <td>-0.270577</td>\n",
              "      <td>1.187541</td>\n",
              "      <td>0.594053</td>\n",
              "      <td>-3.239329</td>\n",
              "    </tr>\n",
              "    <tr>\n",
              "      <th>288</th>\n",
              "      <td>3.056407</td>\n",
              "      <td>0.360832</td>\n",
              "      <td>0.162295</td>\n",
              "      <td>0.789040</td>\n",
              "    </tr>\n",
              "    <tr>\n",
              "      <th>401</th>\n",
              "      <td>-0.535083</td>\n",
              "      <td>-1.136216</td>\n",
              "      <td>3.955269</td>\n",
              "      <td>-2.802732</td>\n",
              "    </tr>\n",
              "    <tr>\n",
              "      <th>486</th>\n",
              "      <td>-3.373402</td>\n",
              "      <td>1.147894</td>\n",
              "      <td>0.568820</td>\n",
              "      <td>0.637839</td>\n",
              "    </tr>\n",
              "    <tr>\n",
              "      <th>526</th>\n",
              "      <td>-1.301562</td>\n",
              "      <td>1.943625</td>\n",
              "      <td>0.233023</td>\n",
              "      <td>-3.239716</td>\n",
              "    </tr>\n",
              "    <tr>\n",
              "      <th>681</th>\n",
              "      <td>-3.131010</td>\n",
              "      <td>0.717435</td>\n",
              "      <td>1.139929</td>\n",
              "      <td>-0.340809</td>\n",
              "    </tr>\n",
              "    <tr>\n",
              "      <th>735</th>\n",
              "      <td>3.335630</td>\n",
              "      <td>-0.574483</td>\n",
              "      <td>0.070943</td>\n",
              "      <td>-0.387277</td>\n",
              "    </tr>\n",
              "    <tr>\n",
              "      <th>776</th>\n",
              "      <td>-1.260187</td>\n",
              "      <td>0.394121</td>\n",
              "      <td>-0.513596</td>\n",
              "      <td>-3.105458</td>\n",
              "    </tr>\n",
              "    <tr>\n",
              "      <th>804</th>\n",
              "      <td>-0.437119</td>\n",
              "      <td>1.204944</td>\n",
              "      <td>0.142549</td>\n",
              "      <td>-3.086945</td>\n",
              "    </tr>\n",
              "    <tr>\n",
              "      <th>916</th>\n",
              "      <td>3.207037</td>\n",
              "      <td>-0.129573</td>\n",
              "      <td>1.232762</td>\n",
              "      <td>1.085810</td>\n",
              "    </tr>\n",
              "  </tbody>\n",
              "</table>\n",
              "</div>"
            ],
            "text/plain": [
              "            0         1         2         3\n",
              "100 -0.278356  0.763369 -0.924645 -3.344438\n",
              "110 -3.834682 -1.194257  0.370370  0.713694\n",
              "112  0.217942  3.252415 -0.219369 -0.180917\n",
              "230 -0.477895 -3.177803 -0.964096  0.269497\n",
              "235 -0.270577  1.187541  0.594053 -3.239329\n",
              "288  3.056407  0.360832  0.162295  0.789040\n",
              "401 -0.535083 -1.136216  3.955269 -2.802732\n",
              "486 -3.373402  1.147894  0.568820  0.637839\n",
              "526 -1.301562  1.943625  0.233023 -3.239716\n",
              "681 -3.131010  0.717435  1.139929 -0.340809\n",
              "735  3.335630 -0.574483  0.070943 -0.387277\n",
              "776 -1.260187  0.394121 -0.513596 -3.105458\n",
              "804 -0.437119  1.204944  0.142549 -3.086945\n",
              "916  3.207037 -0.129573  1.232762  1.085810"
            ]
          },
          "metadata": {
            "tags": []
          },
          "execution_count": 123
        }
      ]
    },
    {
      "metadata": {
        "id": "xrYg7TN5l1vi",
        "colab_type": "code",
        "colab": {}
      },
      "cell_type": "code",
      "source": [
        "data[np.abs(data) > 3] = np.sign(data) * 3"
      ],
      "execution_count": 0,
      "outputs": []
    },
    {
      "metadata": {
        "id": "LWE11WS2mKEd",
        "colab_type": "code",
        "outputId": "e74a30c1-7b8a-47a1-9188-f49662cc2000",
        "colab": {
          "base_uri": "https://localhost:8080/",
          "height": 300
        }
      },
      "cell_type": "code",
      "source": [
        "data.describe()"
      ],
      "execution_count": 125,
      "outputs": [
        {
          "output_type": "execute_result",
          "data": {
            "text/html": [
              "<div>\n",
              "<style scoped>\n",
              "    .dataframe tbody tr th:only-of-type {\n",
              "        vertical-align: middle;\n",
              "    }\n",
              "\n",
              "    .dataframe tbody tr th {\n",
              "        vertical-align: top;\n",
              "    }\n",
              "\n",
              "    .dataframe thead th {\n",
              "        text-align: right;\n",
              "    }\n",
              "</style>\n",
              "<table border=\"1\" class=\"dataframe\">\n",
              "  <thead>\n",
              "    <tr style=\"text-align: right;\">\n",
              "      <th></th>\n",
              "      <th>0</th>\n",
              "      <th>1</th>\n",
              "      <th>2</th>\n",
              "      <th>3</th>\n",
              "    </tr>\n",
              "  </thead>\n",
              "  <tbody>\n",
              "    <tr>\n",
              "      <th>count</th>\n",
              "      <td>1000.000000</td>\n",
              "      <td>1000.000000</td>\n",
              "      <td>1000.000000</td>\n",
              "      <td>1000.000000</td>\n",
              "    </tr>\n",
              "    <tr>\n",
              "      <th>mean</th>\n",
              "      <td>0.015116</td>\n",
              "      <td>-0.008856</td>\n",
              "      <td>-0.042759</td>\n",
              "      <td>0.011758</td>\n",
              "    </tr>\n",
              "    <tr>\n",
              "      <th>std</th>\n",
              "      <td>0.973639</td>\n",
              "      <td>1.007150</td>\n",
              "      <td>1.018612</td>\n",
              "      <td>1.022962</td>\n",
              "    </tr>\n",
              "    <tr>\n",
              "      <th>min</th>\n",
              "      <td>-3.000000</td>\n",
              "      <td>-3.000000</td>\n",
              "      <td>-2.906478</td>\n",
              "      <td>-3.000000</td>\n",
              "    </tr>\n",
              "    <tr>\n",
              "      <th>25%</th>\n",
              "      <td>-0.630968</td>\n",
              "      <td>-0.690980</td>\n",
              "      <td>-0.757285</td>\n",
              "      <td>-0.619013</td>\n",
              "    </tr>\n",
              "    <tr>\n",
              "      <th>50%</th>\n",
              "      <td>0.011627</td>\n",
              "      <td>-0.032570</td>\n",
              "      <td>-0.015809</td>\n",
              "      <td>0.022671</td>\n",
              "    </tr>\n",
              "    <tr>\n",
              "      <th>75%</th>\n",
              "      <td>0.638097</td>\n",
              "      <td>0.650182</td>\n",
              "      <td>0.673984</td>\n",
              "      <td>0.719689</td>\n",
              "    </tr>\n",
              "    <tr>\n",
              "      <th>max</th>\n",
              "      <td>3.000000</td>\n",
              "      <td>3.000000</td>\n",
              "      <td>3.000000</td>\n",
              "      <td>2.983987</td>\n",
              "    </tr>\n",
              "  </tbody>\n",
              "</table>\n",
              "</div>"
            ],
            "text/plain": [
              "                 0            1            2            3\n",
              "count  1000.000000  1000.000000  1000.000000  1000.000000\n",
              "mean      0.015116    -0.008856    -0.042759     0.011758\n",
              "std       0.973639     1.007150     1.018612     1.022962\n",
              "min      -3.000000    -3.000000    -2.906478    -3.000000\n",
              "25%      -0.630968    -0.690980    -0.757285    -0.619013\n",
              "50%       0.011627    -0.032570    -0.015809     0.022671\n",
              "75%       0.638097     0.650182     0.673984     0.719689\n",
              "max       3.000000     3.000000     3.000000     2.983987"
            ]
          },
          "metadata": {
            "tags": []
          },
          "execution_count": 125
        }
      ]
    },
    {
      "metadata": {
        "id": "pMgxKONkmLMY",
        "colab_type": "code",
        "outputId": "afce20f1-adc8-4fcf-f0b9-15755f35db71",
        "colab": {
          "base_uri": "https://localhost:8080/",
          "height": 206
        }
      },
      "cell_type": "code",
      "source": [
        "np.sign(data).head()"
      ],
      "execution_count": 126,
      "outputs": [
        {
          "output_type": "execute_result",
          "data": {
            "text/html": [
              "<div>\n",
              "<style scoped>\n",
              "    .dataframe tbody tr th:only-of-type {\n",
              "        vertical-align: middle;\n",
              "    }\n",
              "\n",
              "    .dataframe tbody tr th {\n",
              "        vertical-align: top;\n",
              "    }\n",
              "\n",
              "    .dataframe thead th {\n",
              "        text-align: right;\n",
              "    }\n",
              "</style>\n",
              "<table border=\"1\" class=\"dataframe\">\n",
              "  <thead>\n",
              "    <tr style=\"text-align: right;\">\n",
              "      <th></th>\n",
              "      <th>0</th>\n",
              "      <th>1</th>\n",
              "      <th>2</th>\n",
              "      <th>3</th>\n",
              "    </tr>\n",
              "  </thead>\n",
              "  <tbody>\n",
              "    <tr>\n",
              "      <th>0</th>\n",
              "      <td>-1.0</td>\n",
              "      <td>1.0</td>\n",
              "      <td>-1.0</td>\n",
              "      <td>1.0</td>\n",
              "    </tr>\n",
              "    <tr>\n",
              "      <th>1</th>\n",
              "      <td>-1.0</td>\n",
              "      <td>-1.0</td>\n",
              "      <td>-1.0</td>\n",
              "      <td>-1.0</td>\n",
              "    </tr>\n",
              "    <tr>\n",
              "      <th>2</th>\n",
              "      <td>1.0</td>\n",
              "      <td>-1.0</td>\n",
              "      <td>1.0</td>\n",
              "      <td>-1.0</td>\n",
              "    </tr>\n",
              "    <tr>\n",
              "      <th>3</th>\n",
              "      <td>1.0</td>\n",
              "      <td>1.0</td>\n",
              "      <td>1.0</td>\n",
              "      <td>-1.0</td>\n",
              "    </tr>\n",
              "    <tr>\n",
              "      <th>4</th>\n",
              "      <td>1.0</td>\n",
              "      <td>1.0</td>\n",
              "      <td>1.0</td>\n",
              "      <td>-1.0</td>\n",
              "    </tr>\n",
              "  </tbody>\n",
              "</table>\n",
              "</div>"
            ],
            "text/plain": [
              "     0    1    2    3\n",
              "0 -1.0  1.0 -1.0  1.0\n",
              "1 -1.0 -1.0 -1.0 -1.0\n",
              "2  1.0 -1.0  1.0 -1.0\n",
              "3  1.0  1.0  1.0 -1.0\n",
              "4  1.0  1.0  1.0 -1.0"
            ]
          },
          "metadata": {
            "tags": []
          },
          "execution_count": 126
        }
      ]
    },
    {
      "metadata": {
        "id": "QgjWL4mWnGQR",
        "colab_type": "text"
      },
      "cell_type": "markdown",
      "source": [
        "## Permutation and Random Sampling"
      ]
    },
    {
      "metadata": {
        "id": "3v4OXWHnmz0j",
        "colab_type": "code",
        "outputId": "126a41d8-f60a-424b-ca63-069f849436ad",
        "colab": {
          "base_uri": "https://localhost:8080/",
          "height": 35
        }
      },
      "cell_type": "code",
      "source": [
        "df = pd.DataFrame(np.arange(5 * 4).reshape((5, 4)))\n",
        "\n",
        "sampler = np.random.permutation(5)\n",
        "\n",
        "sampler"
      ],
      "execution_count": 127,
      "outputs": [
        {
          "output_type": "execute_result",
          "data": {
            "text/plain": [
              "array([2, 0, 3, 1, 4])"
            ]
          },
          "metadata": {
            "tags": []
          },
          "execution_count": 127
        }
      ]
    },
    {
      "metadata": {
        "id": "yoWRtIcDnuJm",
        "colab_type": "code",
        "outputId": "c31179ec-bbc6-464b-8ff3-ffd950284da5",
        "colab": {
          "base_uri": "https://localhost:8080/",
          "height": 206
        }
      },
      "cell_type": "code",
      "source": [
        "df"
      ],
      "execution_count": 128,
      "outputs": [
        {
          "output_type": "execute_result",
          "data": {
            "text/html": [
              "<div>\n",
              "<style scoped>\n",
              "    .dataframe tbody tr th:only-of-type {\n",
              "        vertical-align: middle;\n",
              "    }\n",
              "\n",
              "    .dataframe tbody tr th {\n",
              "        vertical-align: top;\n",
              "    }\n",
              "\n",
              "    .dataframe thead th {\n",
              "        text-align: right;\n",
              "    }\n",
              "</style>\n",
              "<table border=\"1\" class=\"dataframe\">\n",
              "  <thead>\n",
              "    <tr style=\"text-align: right;\">\n",
              "      <th></th>\n",
              "      <th>0</th>\n",
              "      <th>1</th>\n",
              "      <th>2</th>\n",
              "      <th>3</th>\n",
              "    </tr>\n",
              "  </thead>\n",
              "  <tbody>\n",
              "    <tr>\n",
              "      <th>0</th>\n",
              "      <td>0</td>\n",
              "      <td>1</td>\n",
              "      <td>2</td>\n",
              "      <td>3</td>\n",
              "    </tr>\n",
              "    <tr>\n",
              "      <th>1</th>\n",
              "      <td>4</td>\n",
              "      <td>5</td>\n",
              "      <td>6</td>\n",
              "      <td>7</td>\n",
              "    </tr>\n",
              "    <tr>\n",
              "      <th>2</th>\n",
              "      <td>8</td>\n",
              "      <td>9</td>\n",
              "      <td>10</td>\n",
              "      <td>11</td>\n",
              "    </tr>\n",
              "    <tr>\n",
              "      <th>3</th>\n",
              "      <td>12</td>\n",
              "      <td>13</td>\n",
              "      <td>14</td>\n",
              "      <td>15</td>\n",
              "    </tr>\n",
              "    <tr>\n",
              "      <th>4</th>\n",
              "      <td>16</td>\n",
              "      <td>17</td>\n",
              "      <td>18</td>\n",
              "      <td>19</td>\n",
              "    </tr>\n",
              "  </tbody>\n",
              "</table>\n",
              "</div>"
            ],
            "text/plain": [
              "    0   1   2   3\n",
              "0   0   1   2   3\n",
              "1   4   5   6   7\n",
              "2   8   9  10  11\n",
              "3  12  13  14  15\n",
              "4  16  17  18  19"
            ]
          },
          "metadata": {
            "tags": []
          },
          "execution_count": 128
        }
      ]
    },
    {
      "metadata": {
        "id": "kCI2VJhYn9I3",
        "colab_type": "code",
        "outputId": "b85e8230-ef2e-4728-be30-dd35c443215a",
        "colab": {
          "base_uri": "https://localhost:8080/",
          "height": 206
        }
      },
      "cell_type": "code",
      "source": [
        "df.take(sampler)"
      ],
      "execution_count": 129,
      "outputs": [
        {
          "output_type": "execute_result",
          "data": {
            "text/html": [
              "<div>\n",
              "<style scoped>\n",
              "    .dataframe tbody tr th:only-of-type {\n",
              "        vertical-align: middle;\n",
              "    }\n",
              "\n",
              "    .dataframe tbody tr th {\n",
              "        vertical-align: top;\n",
              "    }\n",
              "\n",
              "    .dataframe thead th {\n",
              "        text-align: right;\n",
              "    }\n",
              "</style>\n",
              "<table border=\"1\" class=\"dataframe\">\n",
              "  <thead>\n",
              "    <tr style=\"text-align: right;\">\n",
              "      <th></th>\n",
              "      <th>0</th>\n",
              "      <th>1</th>\n",
              "      <th>2</th>\n",
              "      <th>3</th>\n",
              "    </tr>\n",
              "  </thead>\n",
              "  <tbody>\n",
              "    <tr>\n",
              "      <th>2</th>\n",
              "      <td>8</td>\n",
              "      <td>9</td>\n",
              "      <td>10</td>\n",
              "      <td>11</td>\n",
              "    </tr>\n",
              "    <tr>\n",
              "      <th>0</th>\n",
              "      <td>0</td>\n",
              "      <td>1</td>\n",
              "      <td>2</td>\n",
              "      <td>3</td>\n",
              "    </tr>\n",
              "    <tr>\n",
              "      <th>3</th>\n",
              "      <td>12</td>\n",
              "      <td>13</td>\n",
              "      <td>14</td>\n",
              "      <td>15</td>\n",
              "    </tr>\n",
              "    <tr>\n",
              "      <th>1</th>\n",
              "      <td>4</td>\n",
              "      <td>5</td>\n",
              "      <td>6</td>\n",
              "      <td>7</td>\n",
              "    </tr>\n",
              "    <tr>\n",
              "      <th>4</th>\n",
              "      <td>16</td>\n",
              "      <td>17</td>\n",
              "      <td>18</td>\n",
              "      <td>19</td>\n",
              "    </tr>\n",
              "  </tbody>\n",
              "</table>\n",
              "</div>"
            ],
            "text/plain": [
              "    0   1   2   3\n",
              "2   8   9  10  11\n",
              "0   0   1   2   3\n",
              "3  12  13  14  15\n",
              "1   4   5   6   7\n",
              "4  16  17  18  19"
            ]
          },
          "metadata": {
            "tags": []
          },
          "execution_count": 129
        }
      ]
    },
    {
      "metadata": {
        "id": "_KStQm4Yn_Za",
        "colab_type": "code",
        "outputId": "75f1d48f-dee3-4f09-d879-5029fdcd2058",
        "colab": {
          "base_uri": "https://localhost:8080/",
          "height": 143
        }
      },
      "cell_type": "code",
      "source": [
        "df.sample(n = 3)"
      ],
      "execution_count": 130,
      "outputs": [
        {
          "output_type": "execute_result",
          "data": {
            "text/html": [
              "<div>\n",
              "<style scoped>\n",
              "    .dataframe tbody tr th:only-of-type {\n",
              "        vertical-align: middle;\n",
              "    }\n",
              "\n",
              "    .dataframe tbody tr th {\n",
              "        vertical-align: top;\n",
              "    }\n",
              "\n",
              "    .dataframe thead th {\n",
              "        text-align: right;\n",
              "    }\n",
              "</style>\n",
              "<table border=\"1\" class=\"dataframe\">\n",
              "  <thead>\n",
              "    <tr style=\"text-align: right;\">\n",
              "      <th></th>\n",
              "      <th>0</th>\n",
              "      <th>1</th>\n",
              "      <th>2</th>\n",
              "      <th>3</th>\n",
              "    </tr>\n",
              "  </thead>\n",
              "  <tbody>\n",
              "    <tr>\n",
              "      <th>4</th>\n",
              "      <td>16</td>\n",
              "      <td>17</td>\n",
              "      <td>18</td>\n",
              "      <td>19</td>\n",
              "    </tr>\n",
              "    <tr>\n",
              "      <th>3</th>\n",
              "      <td>12</td>\n",
              "      <td>13</td>\n",
              "      <td>14</td>\n",
              "      <td>15</td>\n",
              "    </tr>\n",
              "    <tr>\n",
              "      <th>0</th>\n",
              "      <td>0</td>\n",
              "      <td>1</td>\n",
              "      <td>2</td>\n",
              "      <td>3</td>\n",
              "    </tr>\n",
              "  </tbody>\n",
              "</table>\n",
              "</div>"
            ],
            "text/plain": [
              "    0   1   2   3\n",
              "4  16  17  18  19\n",
              "3  12  13  14  15\n",
              "0   0   1   2   3"
            ]
          },
          "metadata": {
            "tags": []
          },
          "execution_count": 130
        }
      ]
    },
    {
      "metadata": {
        "id": "cP82dfYhoKgY",
        "colab_type": "code",
        "outputId": "51746a18-8ea3-43c7-fa0c-99cc701e7db0",
        "colab": {
          "base_uri": "https://localhost:8080/",
          "height": 214
        }
      },
      "cell_type": "code",
      "source": [
        "choices = pd.Series([5, 7, -1, 6, 4])\n",
        "\n",
        "draws = choices.sample(n = 10, replace = True)\n",
        "\n",
        "draws"
      ],
      "execution_count": 131,
      "outputs": [
        {
          "output_type": "execute_result",
          "data": {
            "text/plain": [
              "1    7\n",
              "3    6\n",
              "4    4\n",
              "4    4\n",
              "0    5\n",
              "3    6\n",
              "0    5\n",
              "3    6\n",
              "3    6\n",
              "4    4\n",
              "dtype: int64"
            ]
          },
          "metadata": {
            "tags": []
          },
          "execution_count": 131
        }
      ]
    },
    {
      "metadata": {
        "id": "X2YqnopNovV_",
        "colab_type": "text"
      },
      "cell_type": "markdown",
      "source": [
        "## Computing Indicator / Dummy Variables"
      ]
    },
    {
      "metadata": {
        "id": "mjll7zZdoW60",
        "colab_type": "code",
        "colab": {}
      },
      "cell_type": "code",
      "source": [
        "df = pd.DataFrame({'key': ['b', 'b', 'a', 'c', 'a', 'b'],\n",
        "                   'data1': range(6)})"
      ],
      "execution_count": 0,
      "outputs": []
    },
    {
      "metadata": {
        "id": "kMghg6UPpCbl",
        "colab_type": "code",
        "outputId": "33e99353-e310-4ed4-a5de-845a34892a89",
        "colab": {
          "base_uri": "https://localhost:8080/",
          "height": 238
        }
      },
      "cell_type": "code",
      "source": [
        "pd.get_dummies(df['key'])"
      ],
      "execution_count": 133,
      "outputs": [
        {
          "output_type": "execute_result",
          "data": {
            "text/html": [
              "<div>\n",
              "<style scoped>\n",
              "    .dataframe tbody tr th:only-of-type {\n",
              "        vertical-align: middle;\n",
              "    }\n",
              "\n",
              "    .dataframe tbody tr th {\n",
              "        vertical-align: top;\n",
              "    }\n",
              "\n",
              "    .dataframe thead th {\n",
              "        text-align: right;\n",
              "    }\n",
              "</style>\n",
              "<table border=\"1\" class=\"dataframe\">\n",
              "  <thead>\n",
              "    <tr style=\"text-align: right;\">\n",
              "      <th></th>\n",
              "      <th>a</th>\n",
              "      <th>b</th>\n",
              "      <th>c</th>\n",
              "    </tr>\n",
              "  </thead>\n",
              "  <tbody>\n",
              "    <tr>\n",
              "      <th>0</th>\n",
              "      <td>0</td>\n",
              "      <td>1</td>\n",
              "      <td>0</td>\n",
              "    </tr>\n",
              "    <tr>\n",
              "      <th>1</th>\n",
              "      <td>0</td>\n",
              "      <td>1</td>\n",
              "      <td>0</td>\n",
              "    </tr>\n",
              "    <tr>\n",
              "      <th>2</th>\n",
              "      <td>1</td>\n",
              "      <td>0</td>\n",
              "      <td>0</td>\n",
              "    </tr>\n",
              "    <tr>\n",
              "      <th>3</th>\n",
              "      <td>0</td>\n",
              "      <td>0</td>\n",
              "      <td>1</td>\n",
              "    </tr>\n",
              "    <tr>\n",
              "      <th>4</th>\n",
              "      <td>1</td>\n",
              "      <td>0</td>\n",
              "      <td>0</td>\n",
              "    </tr>\n",
              "    <tr>\n",
              "      <th>5</th>\n",
              "      <td>0</td>\n",
              "      <td>1</td>\n",
              "      <td>0</td>\n",
              "    </tr>\n",
              "  </tbody>\n",
              "</table>\n",
              "</div>"
            ],
            "text/plain": [
              "   a  b  c\n",
              "0  0  1  0\n",
              "1  0  1  0\n",
              "2  1  0  0\n",
              "3  0  0  1\n",
              "4  1  0  0\n",
              "5  0  1  0"
            ]
          },
          "metadata": {
            "tags": []
          },
          "execution_count": 133
        }
      ]
    },
    {
      "metadata": {
        "id": "De-M1udWpXX3",
        "colab_type": "code",
        "colab": {}
      },
      "cell_type": "code",
      "source": [
        "dummies = pd.get_dummies(df['key'], prefix = 'key')"
      ],
      "execution_count": 0,
      "outputs": []
    },
    {
      "metadata": {
        "id": "etH2UXDXp4Lg",
        "colab_type": "code",
        "outputId": "44ea5ee5-70be-4882-9939-83c2fae1959f",
        "colab": {
          "base_uri": "https://localhost:8080/",
          "height": 238
        }
      },
      "cell_type": "code",
      "source": [
        "df_with_dummy = df[['data1']].join(dummies)\n",
        "\n",
        "df_with_dummy"
      ],
      "execution_count": 135,
      "outputs": [
        {
          "output_type": "execute_result",
          "data": {
            "text/html": [
              "<div>\n",
              "<style scoped>\n",
              "    .dataframe tbody tr th:only-of-type {\n",
              "        vertical-align: middle;\n",
              "    }\n",
              "\n",
              "    .dataframe tbody tr th {\n",
              "        vertical-align: top;\n",
              "    }\n",
              "\n",
              "    .dataframe thead th {\n",
              "        text-align: right;\n",
              "    }\n",
              "</style>\n",
              "<table border=\"1\" class=\"dataframe\">\n",
              "  <thead>\n",
              "    <tr style=\"text-align: right;\">\n",
              "      <th></th>\n",
              "      <th>data1</th>\n",
              "      <th>key_a</th>\n",
              "      <th>key_b</th>\n",
              "      <th>key_c</th>\n",
              "    </tr>\n",
              "  </thead>\n",
              "  <tbody>\n",
              "    <tr>\n",
              "      <th>0</th>\n",
              "      <td>0</td>\n",
              "      <td>0</td>\n",
              "      <td>1</td>\n",
              "      <td>0</td>\n",
              "    </tr>\n",
              "    <tr>\n",
              "      <th>1</th>\n",
              "      <td>1</td>\n",
              "      <td>0</td>\n",
              "      <td>1</td>\n",
              "      <td>0</td>\n",
              "    </tr>\n",
              "    <tr>\n",
              "      <th>2</th>\n",
              "      <td>2</td>\n",
              "      <td>1</td>\n",
              "      <td>0</td>\n",
              "      <td>0</td>\n",
              "    </tr>\n",
              "    <tr>\n",
              "      <th>3</th>\n",
              "      <td>3</td>\n",
              "      <td>0</td>\n",
              "      <td>0</td>\n",
              "      <td>1</td>\n",
              "    </tr>\n",
              "    <tr>\n",
              "      <th>4</th>\n",
              "      <td>4</td>\n",
              "      <td>1</td>\n",
              "      <td>0</td>\n",
              "      <td>0</td>\n",
              "    </tr>\n",
              "    <tr>\n",
              "      <th>5</th>\n",
              "      <td>5</td>\n",
              "      <td>0</td>\n",
              "      <td>1</td>\n",
              "      <td>0</td>\n",
              "    </tr>\n",
              "  </tbody>\n",
              "</table>\n",
              "</div>"
            ],
            "text/plain": [
              "   data1  key_a  key_b  key_c\n",
              "0      0      0      1      0\n",
              "1      1      0      1      0\n",
              "2      2      1      0      0\n",
              "3      3      0      0      1\n",
              "4      4      1      0      0\n",
              "5      5      0      1      0"
            ]
          },
          "metadata": {
            "tags": []
          },
          "execution_count": 135
        }
      ]
    },
    {
      "metadata": {
        "id": "kgTVym9MqF0D",
        "colab_type": "code",
        "outputId": "1ae98ea6-f5db-4fa3-fea3-3965a1ea0a3f",
        "colab": {
          "resources": {
            "http://localhost:8080/nbextensions/google.colab/files.js": {
              "data": "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",
              "ok": true,
              "headers": [
                [
                  "content-type",
                  "application/javascript"
                ]
              ],
              "status": 200,
              "status_text": "OK"
            }
          },
          "base_uri": "https://localhost:8080/",
          "height": 41
        }
      },
      "cell_type": "code",
      "source": [
        "from google.colab import files\n",
        "\n",
        "uploaded = files.upload()"
      ],
      "execution_count": 136,
      "outputs": [
        {
          "output_type": "display_data",
          "data": {
            "text/html": [
              "\n",
              "     <input type=\"file\" id=\"files-6b747be1-81d7-4654-b8c6-78ecb4e09c54\" name=\"files[]\" multiple disabled />\n",
              "     <output id=\"result-6b747be1-81d7-4654-b8c6-78ecb4e09c54\">\n",
              "      Upload widget is only available when the cell has been executed in the\n",
              "      current browser session. Please rerun this cell to enable.\n",
              "      </output>\n",
              "      <script src=\"/nbextensions/google.colab/files.js\"></script> "
            ],
            "text/plain": [
              "<IPython.core.display.HTML object>"
            ]
          },
          "metadata": {
            "tags": []
          }
        }
      ]
    },
    {
      "metadata": {
        "id": "XFAyjSNwrIWe",
        "colab_type": "code",
        "colab": {}
      },
      "cell_type": "code",
      "source": [
        "mnames = ['movie_id', 'title', 'genres']"
      ],
      "execution_count": 0,
      "outputs": []
    },
    {
      "metadata": {
        "id": "XUs8rlFvrgoy",
        "colab_type": "code",
        "outputId": "f8009f76-728d-4cb5-9e6e-3f0aafe14bd5",
        "colab": {
          "base_uri": "https://localhost:8080/",
          "height": 419
        }
      },
      "cell_type": "code",
      "source": [
        "movies = pd.read_table('movies.dat.txt', sep = '::',\n",
        "                       header = None, names = mnames)\n",
        "\n",
        "movies[:10]"
      ],
      "execution_count": 138,
      "outputs": [
        {
          "output_type": "stream",
          "text": [
            "/usr/local/lib/python3.6/dist-packages/ipykernel_launcher.py:2: ParserWarning: Falling back to the 'python' engine because the 'c' engine does not support regex separators (separators > 1 char and different from '\\s+' are interpreted as regex); you can avoid this warning by specifying engine='python'.\n",
            "  \n"
          ],
          "name": "stderr"
        },
        {
          "output_type": "execute_result",
          "data": {
            "text/html": [
              "<div>\n",
              "<style scoped>\n",
              "    .dataframe tbody tr th:only-of-type {\n",
              "        vertical-align: middle;\n",
              "    }\n",
              "\n",
              "    .dataframe tbody tr th {\n",
              "        vertical-align: top;\n",
              "    }\n",
              "\n",
              "    .dataframe thead th {\n",
              "        text-align: right;\n",
              "    }\n",
              "</style>\n",
              "<table border=\"1\" class=\"dataframe\">\n",
              "  <thead>\n",
              "    <tr style=\"text-align: right;\">\n",
              "      <th></th>\n",
              "      <th>movie_id</th>\n",
              "      <th>title</th>\n",
              "      <th>genres</th>\n",
              "    </tr>\n",
              "  </thead>\n",
              "  <tbody>\n",
              "    <tr>\n",
              "      <th>0</th>\n",
              "      <td>1</td>\n",
              "      <td>Toy Story (1995)</td>\n",
              "      <td>Animation|Children's|Comedy</td>\n",
              "    </tr>\n",
              "    <tr>\n",
              "      <th>1</th>\n",
              "      <td>2</td>\n",
              "      <td>Jumanji (1995)</td>\n",
              "      <td>Adventure|Children's|Fantasy</td>\n",
              "    </tr>\n",
              "    <tr>\n",
              "      <th>2</th>\n",
              "      <td>3</td>\n",
              "      <td>Grumpier Old Men (1995)</td>\n",
              "      <td>Comedy|Romance</td>\n",
              "    </tr>\n",
              "    <tr>\n",
              "      <th>3</th>\n",
              "      <td>4</td>\n",
              "      <td>Waiting to Exhale (1995)</td>\n",
              "      <td>Comedy|Drama</td>\n",
              "    </tr>\n",
              "    <tr>\n",
              "      <th>4</th>\n",
              "      <td>5</td>\n",
              "      <td>Father of the Bride Part II (1995)</td>\n",
              "      <td>Comedy</td>\n",
              "    </tr>\n",
              "    <tr>\n",
              "      <th>5</th>\n",
              "      <td>6</td>\n",
              "      <td>Heat (1995)</td>\n",
              "      <td>Action|Crime|Thriller</td>\n",
              "    </tr>\n",
              "    <tr>\n",
              "      <th>6</th>\n",
              "      <td>7</td>\n",
              "      <td>Sabrina (1995)</td>\n",
              "      <td>Comedy|Romance</td>\n",
              "    </tr>\n",
              "    <tr>\n",
              "      <th>7</th>\n",
              "      <td>8</td>\n",
              "      <td>Tom and Huck (1995)</td>\n",
              "      <td>Adventure|Children's</td>\n",
              "    </tr>\n",
              "    <tr>\n",
              "      <th>8</th>\n",
              "      <td>9</td>\n",
              "      <td>Sudden Death (1995)</td>\n",
              "      <td>Action</td>\n",
              "    </tr>\n",
              "    <tr>\n",
              "      <th>9</th>\n",
              "      <td>10</td>\n",
              "      <td>GoldenEye (1995)</td>\n",
              "      <td>Action|Adventure|Thriller</td>\n",
              "    </tr>\n",
              "  </tbody>\n",
              "</table>\n",
              "</div>"
            ],
            "text/plain": [
              "   movie_id                               title                        genres\n",
              "0         1                    Toy Story (1995)   Animation|Children's|Comedy\n",
              "1         2                      Jumanji (1995)  Adventure|Children's|Fantasy\n",
              "2         3             Grumpier Old Men (1995)                Comedy|Romance\n",
              "3         4            Waiting to Exhale (1995)                  Comedy|Drama\n",
              "4         5  Father of the Bride Part II (1995)                        Comedy\n",
              "5         6                         Heat (1995)         Action|Crime|Thriller\n",
              "6         7                      Sabrina (1995)                Comedy|Romance\n",
              "7         8                 Tom and Huck (1995)          Adventure|Children's\n",
              "8         9                 Sudden Death (1995)                        Action\n",
              "9        10                    GoldenEye (1995)     Action|Adventure|Thriller"
            ]
          },
          "metadata": {
            "tags": []
          },
          "execution_count": 138
        }
      ]
    },
    {
      "metadata": {
        "id": "cnak2dt-rq8-",
        "colab_type": "code",
        "colab": {}
      },
      "cell_type": "code",
      "source": [
        "all_genres = []"
      ],
      "execution_count": 0,
      "outputs": []
    },
    {
      "metadata": {
        "id": "T74ghoHgsjr-",
        "colab_type": "code",
        "colab": {}
      },
      "cell_type": "code",
      "source": [
        "for x in movies.genres:\n",
        "  all_genres.extend(x.split('|'))"
      ],
      "execution_count": 0,
      "outputs": []
    },
    {
      "metadata": {
        "id": "DiCVwtKwtBjn",
        "colab_type": "code",
        "outputId": "d5929a34-2325-4cfd-f3fd-31476b44a77b",
        "colab": {
          "base_uri": "https://localhost:8080/",
          "height": 88
        }
      },
      "cell_type": "code",
      "source": [
        "genres = pd.unique(all_genres)\n",
        "\n",
        "genres"
      ],
      "execution_count": 141,
      "outputs": [
        {
          "output_type": "execute_result",
          "data": {
            "text/plain": [
              "array(['Animation', \"Children's\", 'Comedy', 'Adventure', 'Fantasy',\n",
              "       'Romance', 'Drama', 'Action', 'Crime', 'Thriller', 'Horror',\n",
              "       'Sci-Fi', 'Documentary', 'War', 'Musical', 'Mystery', 'Film-Noir',\n",
              "       'Western'], dtype=object)"
            ]
          },
          "metadata": {
            "tags": []
          },
          "execution_count": 141
        }
      ]
    },
    {
      "metadata": {
        "id": "RVxH8CVgtF9q",
        "colab_type": "code",
        "colab": {}
      },
      "cell_type": "code",
      "source": [
        "zero_matrix = np.zeros((len(movies), len(genres)))"
      ],
      "execution_count": 0,
      "outputs": []
    },
    {
      "metadata": {
        "id": "GCb_E83HuULU",
        "colab_type": "code",
        "colab": {}
      },
      "cell_type": "code",
      "source": [
        "dummies = pd.DataFrame(zero_matrix, columns = genres)"
      ],
      "execution_count": 0,
      "outputs": []
    },
    {
      "metadata": {
        "id": "jiPvjDpjuYmY",
        "colab_type": "code",
        "colab": {}
      },
      "cell_type": "code",
      "source": [
        "gen = movies.genres[0]"
      ],
      "execution_count": 0,
      "outputs": []
    },
    {
      "metadata": {
        "id": "JUvCFtatuvZa",
        "colab_type": "code",
        "outputId": "53eff59b-36f1-4068-ea2f-0c5df545b115",
        "colab": {
          "base_uri": "https://localhost:8080/",
          "height": 35
        }
      },
      "cell_type": "code",
      "source": [
        "gen.split('|')"
      ],
      "execution_count": 145,
      "outputs": [
        {
          "output_type": "execute_result",
          "data": {
            "text/plain": [
              "['Animation', \"Children's\", 'Comedy']"
            ]
          },
          "metadata": {
            "tags": []
          },
          "execution_count": 145
        }
      ]
    },
    {
      "metadata": {
        "id": "lPAJ5Eq2uxJc",
        "colab_type": "code",
        "outputId": "43bcef70-fcbc-4fd4-e2f7-2ab33368a061",
        "colab": {
          "base_uri": "https://localhost:8080/",
          "height": 35
        }
      },
      "cell_type": "code",
      "source": [
        "dummies.columns.get_indexer(gen.split('|'))"
      ],
      "execution_count": 146,
      "outputs": [
        {
          "output_type": "execute_result",
          "data": {
            "text/plain": [
              "array([0, 1, 2])"
            ]
          },
          "metadata": {
            "tags": []
          },
          "execution_count": 146
        }
      ]
    },
    {
      "metadata": {
        "id": "JOjChCiAu2F0",
        "colab_type": "code",
        "colab": {}
      },
      "cell_type": "code",
      "source": [
        "for i, gen in enumerate(movies.genres):\n",
        "  indices = dummies.columns.get_indexer(gen.split('|'))\n",
        "  dummies.iloc[i, indices] = 1"
      ],
      "execution_count": 0,
      "outputs": []
    },
    {
      "metadata": {
        "id": "BPCkdTQBvV-7",
        "colab_type": "code",
        "colab": {}
      },
      "cell_type": "code",
      "source": [
        "movies_windic = movies.join(dummies.add_prefix('Genre_'))"
      ],
      "execution_count": 0,
      "outputs": []
    },
    {
      "metadata": {
        "id": "dG6Bnizvvq0M",
        "colab_type": "code",
        "outputId": "d9e95125-c52f-4b59-c6e4-4132a6ccaa0d",
        "colab": {
          "base_uri": "https://localhost:8080/",
          "height": 410
        }
      },
      "cell_type": "code",
      "source": [
        "movies_windic.iloc[0]"
      ],
      "execution_count": 149,
      "outputs": [
        {
          "output_type": "execute_result",
          "data": {
            "text/plain": [
              "movie_id                                       1\n",
              "title                           Toy Story (1995)\n",
              "genres               Animation|Children's|Comedy\n",
              "Genre_Animation                                1\n",
              "Genre_Children's                               1\n",
              "Genre_Comedy                                   1\n",
              "Genre_Adventure                                0\n",
              "Genre_Fantasy                                  0\n",
              "Genre_Romance                                  0\n",
              "Genre_Drama                                    0\n",
              "Genre_Action                                   0\n",
              "Genre_Crime                                    0\n",
              "Genre_Thriller                                 0\n",
              "Genre_Horror                                   0\n",
              "Genre_Sci-Fi                                   0\n",
              "Genre_Documentary                              0\n",
              "Genre_War                                      0\n",
              "Genre_Musical                                  0\n",
              "Genre_Mystery                                  0\n",
              "Genre_Film-Noir                                0\n",
              "Genre_Western                                  0\n",
              "Name: 0, dtype: object"
            ]
          },
          "metadata": {
            "tags": []
          },
          "execution_count": 149
        }
      ]
    },
    {
      "metadata": {
        "id": "uVyFFkXxvtbi",
        "colab_type": "code",
        "colab": {}
      },
      "cell_type": "code",
      "source": [
        "np.random.seed(12345)"
      ],
      "execution_count": 0,
      "outputs": []
    },
    {
      "metadata": {
        "id": "9hIsk488wtnB",
        "colab_type": "code",
        "outputId": "4e61e3d5-c1d1-4d0d-dc1b-07086379a415",
        "colab": {
          "base_uri": "https://localhost:8080/",
          "height": 53
        }
      },
      "cell_type": "code",
      "source": [
        "values = np.random.rand(10)\n",
        "\n",
        "values"
      ],
      "execution_count": 151,
      "outputs": [
        {
          "output_type": "execute_result",
          "data": {
            "text/plain": [
              "array([0.92961609, 0.31637555, 0.18391881, 0.20456028, 0.56772503,\n",
              "       0.5955447 , 0.96451452, 0.6531771 , 0.74890664, 0.65356987])"
            ]
          },
          "metadata": {
            "tags": []
          },
          "execution_count": 151
        }
      ]
    },
    {
      "metadata": {
        "id": "YWaRTXNCwwx7",
        "colab_type": "code",
        "colab": {}
      },
      "cell_type": "code",
      "source": [
        "bins = [0, 0.2, 0.4, 0.6, 0.8, 1]"
      ],
      "execution_count": 0,
      "outputs": []
    },
    {
      "metadata": {
        "id": "genQYdNuw2Y9",
        "colab_type": "code",
        "outputId": "d7e6c3b8-2165-406d-b4fc-5ae92689a389",
        "colab": {
          "base_uri": "https://localhost:8080/",
          "height": 363
        }
      },
      "cell_type": "code",
      "source": [
        "pd.get_dummies(pd.cut(values, bins))"
      ],
      "execution_count": 153,
      "outputs": [
        {
          "output_type": "execute_result",
          "data": {
            "text/html": [
              "<div>\n",
              "<style scoped>\n",
              "    .dataframe tbody tr th:only-of-type {\n",
              "        vertical-align: middle;\n",
              "    }\n",
              "\n",
              "    .dataframe tbody tr th {\n",
              "        vertical-align: top;\n",
              "    }\n",
              "\n",
              "    .dataframe thead th {\n",
              "        text-align: right;\n",
              "    }\n",
              "</style>\n",
              "<table border=\"1\" class=\"dataframe\">\n",
              "  <thead>\n",
              "    <tr style=\"text-align: right;\">\n",
              "      <th></th>\n",
              "      <th>(0.0, 0.2]</th>\n",
              "      <th>(0.2, 0.4]</th>\n",
              "      <th>(0.4, 0.6]</th>\n",
              "      <th>(0.6, 0.8]</th>\n",
              "      <th>(0.8, 1.0]</th>\n",
              "    </tr>\n",
              "  </thead>\n",
              "  <tbody>\n",
              "    <tr>\n",
              "      <th>0</th>\n",
              "      <td>0</td>\n",
              "      <td>0</td>\n",
              "      <td>0</td>\n",
              "      <td>0</td>\n",
              "      <td>1</td>\n",
              "    </tr>\n",
              "    <tr>\n",
              "      <th>1</th>\n",
              "      <td>0</td>\n",
              "      <td>1</td>\n",
              "      <td>0</td>\n",
              "      <td>0</td>\n",
              "      <td>0</td>\n",
              "    </tr>\n",
              "    <tr>\n",
              "      <th>2</th>\n",
              "      <td>1</td>\n",
              "      <td>0</td>\n",
              "      <td>0</td>\n",
              "      <td>0</td>\n",
              "      <td>0</td>\n",
              "    </tr>\n",
              "    <tr>\n",
              "      <th>3</th>\n",
              "      <td>0</td>\n",
              "      <td>1</td>\n",
              "      <td>0</td>\n",
              "      <td>0</td>\n",
              "      <td>0</td>\n",
              "    </tr>\n",
              "    <tr>\n",
              "      <th>4</th>\n",
              "      <td>0</td>\n",
              "      <td>0</td>\n",
              "      <td>1</td>\n",
              "      <td>0</td>\n",
              "      <td>0</td>\n",
              "    </tr>\n",
              "    <tr>\n",
              "      <th>5</th>\n",
              "      <td>0</td>\n",
              "      <td>0</td>\n",
              "      <td>1</td>\n",
              "      <td>0</td>\n",
              "      <td>0</td>\n",
              "    </tr>\n",
              "    <tr>\n",
              "      <th>6</th>\n",
              "      <td>0</td>\n",
              "      <td>0</td>\n",
              "      <td>0</td>\n",
              "      <td>0</td>\n",
              "      <td>1</td>\n",
              "    </tr>\n",
              "    <tr>\n",
              "      <th>7</th>\n",
              "      <td>0</td>\n",
              "      <td>0</td>\n",
              "      <td>0</td>\n",
              "      <td>1</td>\n",
              "      <td>0</td>\n",
              "    </tr>\n",
              "    <tr>\n",
              "      <th>8</th>\n",
              "      <td>0</td>\n",
              "      <td>0</td>\n",
              "      <td>0</td>\n",
              "      <td>1</td>\n",
              "      <td>0</td>\n",
              "    </tr>\n",
              "    <tr>\n",
              "      <th>9</th>\n",
              "      <td>0</td>\n",
              "      <td>0</td>\n",
              "      <td>0</td>\n",
              "      <td>1</td>\n",
              "      <td>0</td>\n",
              "    </tr>\n",
              "  </tbody>\n",
              "</table>\n",
              "</div>"
            ],
            "text/plain": [
              "   (0.0, 0.2]  (0.2, 0.4]  (0.4, 0.6]  (0.6, 0.8]  (0.8, 1.0]\n",
              "0           0           0           0           0           1\n",
              "1           0           1           0           0           0\n",
              "2           1           0           0           0           0\n",
              "3           0           1           0           0           0\n",
              "4           0           0           1           0           0\n",
              "5           0           0           1           0           0\n",
              "6           0           0           0           0           1\n",
              "7           0           0           0           1           0\n",
              "8           0           0           0           1           0\n",
              "9           0           0           0           1           0"
            ]
          },
          "metadata": {
            "tags": []
          },
          "execution_count": 153
        }
      ]
    },
    {
      "metadata": {
        "id": "-4eGaLISxwEZ",
        "colab_type": "text"
      },
      "cell_type": "markdown",
      "source": [
        "# 7.3 String Manipulation"
      ]
    },
    {
      "metadata": {
        "id": "VziAJ1ZZyStd",
        "colab_type": "text"
      },
      "cell_type": "markdown",
      "source": [
        "## String Object Methods"
      ]
    },
    {
      "metadata": {
        "id": "_qBJWTNhxBlk",
        "colab_type": "code",
        "colab": {
          "base_uri": "https://localhost:8080/",
          "height": 35
        },
        "outputId": "ae77959b-c8cb-4d0c-b5ef-2d2900641f07"
      },
      "cell_type": "code",
      "source": [
        "val = 'a,b, guido'\n",
        "\n",
        "val.split(',')"
      ],
      "execution_count": 154,
      "outputs": [
        {
          "output_type": "execute_result",
          "data": {
            "text/plain": [
              "['a', 'b', ' guido']"
            ]
          },
          "metadata": {
            "tags": []
          },
          "execution_count": 154
        }
      ]
    },
    {
      "metadata": {
        "id": "IOI8FoZAYImy",
        "colab_type": "code",
        "colab": {
          "base_uri": "https://localhost:8080/",
          "height": 35
        },
        "outputId": "e4d20893-0b63-47a2-b917-4c530efa784a"
      },
      "cell_type": "code",
      "source": [
        "pieces = [x.strip() for x in val.split(',')]\n",
        "\n",
        "pieces"
      ],
      "execution_count": 155,
      "outputs": [
        {
          "output_type": "execute_result",
          "data": {
            "text/plain": [
              "['a', 'b', 'guido']"
            ]
          },
          "metadata": {
            "tags": []
          },
          "execution_count": 155
        }
      ]
    },
    {
      "metadata": {
        "id": "cKJO3fNMYfER",
        "colab_type": "code",
        "colab": {}
      },
      "cell_type": "code",
      "source": [
        "first, second, third = pieces"
      ],
      "execution_count": 0,
      "outputs": []
    },
    {
      "metadata": {
        "id": "NpHVBSG6YyNm",
        "colab_type": "code",
        "colab": {
          "base_uri": "https://localhost:8080/",
          "height": 35
        },
        "outputId": "dcec8a0e-e6a4-4198-9626-bad0ce1a283e"
      },
      "cell_type": "code",
      "source": [
        "first + '::' + second + '::' + third"
      ],
      "execution_count": 157,
      "outputs": [
        {
          "output_type": "execute_result",
          "data": {
            "text/plain": [
              "'a::b::guido'"
            ]
          },
          "metadata": {
            "tags": []
          },
          "execution_count": 157
        }
      ]
    },
    {
      "metadata": {
        "id": "WR8JHIbaY2WG",
        "colab_type": "code",
        "colab": {
          "base_uri": "https://localhost:8080/",
          "height": 35
        },
        "outputId": "4542efaa-1935-494b-f49d-e156a619d5ba"
      },
      "cell_type": "code",
      "source": [
        "'::'.join(pieces)"
      ],
      "execution_count": 158,
      "outputs": [
        {
          "output_type": "execute_result",
          "data": {
            "text/plain": [
              "'a::b::guido'"
            ]
          },
          "metadata": {
            "tags": []
          },
          "execution_count": 158
        }
      ]
    },
    {
      "metadata": {
        "id": "JlyWIUZqZADs",
        "colab_type": "code",
        "colab": {
          "base_uri": "https://localhost:8080/",
          "height": 35
        },
        "outputId": "47909272-e7c8-4a5d-987d-a625015ebe89"
      },
      "cell_type": "code",
      "source": [
        "'guido' in val"
      ],
      "execution_count": 159,
      "outputs": [
        {
          "output_type": "execute_result",
          "data": {
            "text/plain": [
              "True"
            ]
          },
          "metadata": {
            "tags": []
          },
          "execution_count": 159
        }
      ]
    },
    {
      "metadata": {
        "id": "K8cBDw4SZR1P",
        "colab_type": "code",
        "colab": {
          "base_uri": "https://localhost:8080/",
          "height": 35
        },
        "outputId": "181374b6-58b9-47ac-92ae-ead020cb820e"
      },
      "cell_type": "code",
      "source": [
        "val.index(',')"
      ],
      "execution_count": 160,
      "outputs": [
        {
          "output_type": "execute_result",
          "data": {
            "text/plain": [
              "1"
            ]
          },
          "metadata": {
            "tags": []
          },
          "execution_count": 160
        }
      ]
    },
    {
      "metadata": {
        "id": "6l7mV8GHZXKB",
        "colab_type": "code",
        "colab": {
          "base_uri": "https://localhost:8080/",
          "height": 35
        },
        "outputId": "432296b8-2065-4b1c-8e0e-ed4a34f91dc7"
      },
      "cell_type": "code",
      "source": [
        "val.find(':')"
      ],
      "execution_count": 161,
      "outputs": [
        {
          "output_type": "execute_result",
          "data": {
            "text/plain": [
              "-1"
            ]
          },
          "metadata": {
            "tags": []
          },
          "execution_count": 161
        }
      ]
    },
    {
      "metadata": {
        "id": "ex2mXINgZbfO",
        "colab_type": "code",
        "colab": {}
      },
      "cell_type": "code",
      "source": [
        "# val.index(':')\n",
        "# this will raise a ValueError: substring not found"
      ],
      "execution_count": 0,
      "outputs": []
    },
    {
      "metadata": {
        "id": "f95ttNxOZmW9",
        "colab_type": "code",
        "colab": {
          "base_uri": "https://localhost:8080/",
          "height": 35
        },
        "outputId": "dd400270-ea9e-4e97-9c63-ad84b9dc4ff5"
      },
      "cell_type": "code",
      "source": [
        "val.count(',')"
      ],
      "execution_count": 163,
      "outputs": [
        {
          "output_type": "execute_result",
          "data": {
            "text/plain": [
              "2"
            ]
          },
          "metadata": {
            "tags": []
          },
          "execution_count": 163
        }
      ]
    },
    {
      "metadata": {
        "id": "iE2R5WKUZpkN",
        "colab_type": "code",
        "colab": {
          "base_uri": "https://localhost:8080/",
          "height": 35
        },
        "outputId": "5d36c799-8c9e-4d39-afba-4d6fdd338360"
      },
      "cell_type": "code",
      "source": [
        "val.replace(',', '::')"
      ],
      "execution_count": 164,
      "outputs": [
        {
          "output_type": "execute_result",
          "data": {
            "text/plain": [
              "'a::b:: guido'"
            ]
          },
          "metadata": {
            "tags": []
          },
          "execution_count": 164
        }
      ]
    },
    {
      "metadata": {
        "id": "776KgcU4Zx1M",
        "colab_type": "code",
        "colab": {
          "base_uri": "https://localhost:8080/",
          "height": 35
        },
        "outputId": "16894586-caeb-43d1-d67e-3267016510b6"
      },
      "cell_type": "code",
      "source": [
        "val.replace(',', '')"
      ],
      "execution_count": 165,
      "outputs": [
        {
          "output_type": "execute_result",
          "data": {
            "text/plain": [
              "'ab guido'"
            ]
          },
          "metadata": {
            "tags": []
          },
          "execution_count": 165
        }
      ]
    },
    {
      "metadata": {
        "id": "JIg1OwHCaWpH",
        "colab_type": "text"
      },
      "cell_type": "markdown",
      "source": [
        "## Python built-in string methods"
      ]
    },
    {
      "metadata": {
        "id": "e5LyWFRBacEZ",
        "colab_type": "text"
      },
      "cell_type": "markdown",
      "source": [
        "### count()"
      ]
    },
    {
      "metadata": {
        "id": "Uw7BzP7FZ0yN",
        "colab_type": "code",
        "colab": {
          "base_uri": "https://localhost:8080/",
          "height": 35
        },
        "outputId": "c20fdc00-f34c-4cfb-927b-6f53ee625e7b"
      },
      "cell_type": "code",
      "source": [
        "string = \"geeks for geeks\"\n",
        "\n",
        "string.count(\"geeks\")"
      ],
      "execution_count": 166,
      "outputs": [
        {
          "output_type": "execute_result",
          "data": {
            "text/plain": [
              "2"
            ]
          },
          "metadata": {
            "tags": []
          },
          "execution_count": 166
        }
      ]
    },
    {
      "metadata": {
        "id": "CCl37iAekBcg",
        "colab_type": "code",
        "colab": {
          "base_uri": "https://localhost:8080/",
          "height": 35
        },
        "outputId": "419fe977-7b95-4dff-e26e-23fc2b3874f8"
      },
      "cell_type": "code",
      "source": [
        "string.count(\"geeks\", 0, 5)  # searches from index 0 to 5\n",
        "\n",
        "string.count(\"geeks\", 0, 15)  # searches from index 0 to 15"
      ],
      "execution_count": 167,
      "outputs": [
        {
          "output_type": "execute_result",
          "data": {
            "text/plain": [
              "2"
            ]
          },
          "metadata": {
            "tags": []
          },
          "execution_count": 167
        }
      ]
    },
    {
      "metadata": {
        "id": "7dgrpan7kkfE",
        "colab_type": "text"
      },
      "cell_type": "markdown",
      "source": [
        "### endswith()"
      ]
    },
    {
      "metadata": {
        "id": "2or-skfNkQIZ",
        "colab_type": "code",
        "colab": {
          "base_uri": "https://localhost:8080/",
          "height": 35
        },
        "outputId": "b75efe5d-e18f-4a23-d79b-46affcc3639f"
      },
      "cell_type": "code",
      "source": [
        "text = \"geeks for geeks\"\n",
        "\n",
        "result = text.endswith('for geeks')\n",
        "result"
      ],
      "execution_count": 168,
      "outputs": [
        {
          "output_type": "execute_result",
          "data": {
            "text/plain": [
              "True"
            ]
          },
          "metadata": {
            "tags": []
          },
          "execution_count": 168
        }
      ]
    },
    {
      "metadata": {
        "id": "oSvfwTq5lH4B",
        "colab_type": "code",
        "colab": {
          "base_uri": "https://localhost:8080/",
          "height": 35
        },
        "outputId": "29a0627a-3051-44d4-9400-a8fa696272c5"
      },
      "cell_type": "code",
      "source": [
        "result = text.endswith('geeks.')\n",
        "result"
      ],
      "execution_count": 169,
      "outputs": [
        {
          "output_type": "execute_result",
          "data": {
            "text/plain": [
              "False"
            ]
          },
          "metadata": {
            "tags": []
          },
          "execution_count": 169
        }
      ]
    },
    {
      "metadata": {
        "id": "hqc1Z9zqlMuf",
        "colab_type": "code",
        "colab": {
          "base_uri": "https://localhost:8080/",
          "height": 35
        },
        "outputId": "fbd11eac-577b-483c-bc32-265b9831ea66"
      },
      "cell_type": "code",
      "source": [
        "result = text.endswith('geeks for geeks')\n",
        "result"
      ],
      "execution_count": 170,
      "outputs": [
        {
          "output_type": "execute_result",
          "data": {
            "text/plain": [
              "True"
            ]
          },
          "metadata": {
            "tags": []
          },
          "execution_count": 170
        }
      ]
    },
    {
      "metadata": {
        "id": "0_dAKpuvlVMZ",
        "colab_type": "code",
        "colab": {
          "base_uri": "https://localhost:8080/",
          "height": 35
        },
        "outputId": "76d390fb-dd89-4893-934c-f5df37bfe1c7"
      },
      "cell_type": "code",
      "source": [
        "result = text.endswith('geeks', 10)\n",
        "result"
      ],
      "execution_count": 171,
      "outputs": [
        {
          "output_type": "execute_result",
          "data": {
            "text/plain": [
              "True"
            ]
          },
          "metadata": {
            "tags": []
          },
          "execution_count": 171
        }
      ]
    },
    {
      "metadata": {
        "id": "DsOYsAYRlgQF",
        "colab_type": "code",
        "colab": {
          "base_uri": "https://localhost:8080/",
          "height": 35
        },
        "outputId": "03a32b05-b9a4-4849-f69e-8dc0585013cd"
      },
      "cell_type": "code",
      "source": [
        "result = text.endswith('geeks', 10, 15)\n",
        "result"
      ],
      "execution_count": 172,
      "outputs": [
        {
          "output_type": "execute_result",
          "data": {
            "text/plain": [
              "True"
            ]
          },
          "metadata": {
            "tags": []
          },
          "execution_count": 172
        }
      ]
    },
    {
      "metadata": {
        "id": "HSGGRlAMmCcU",
        "colab_type": "text"
      },
      "cell_type": "markdown",
      "source": [
        "### startswith()"
      ]
    },
    {
      "metadata": {
        "id": "Gm7kaCJHlow6",
        "colab_type": "code",
        "colab": {
          "base_uri": "https://localhost:8080/",
          "height": 35
        },
        "outputId": "3d0b900f-53e5-46ee-9c15-0b674720972c"
      },
      "cell_type": "code",
      "source": [
        "str = \"GeeksforGeeks\"\n",
        "\n",
        "str.startswith(\"Geeks\")"
      ],
      "execution_count": 173,
      "outputs": [
        {
          "output_type": "execute_result",
          "data": {
            "text/plain": [
              "True"
            ]
          },
          "metadata": {
            "tags": []
          },
          "execution_count": 173
        }
      ]
    },
    {
      "metadata": {
        "id": "2fZHADuymMCZ",
        "colab_type": "code",
        "colab": {
          "base_uri": "https://localhost:8080/",
          "height": 35
        },
        "outputId": "3f87af46-097c-4d52-878f-cc9dac38e9ca"
      },
      "cell_type": "code",
      "source": [
        "str.startswith(\"Geeks\", 4, 10)"
      ],
      "execution_count": 174,
      "outputs": [
        {
          "output_type": "execute_result",
          "data": {
            "text/plain": [
              "False"
            ]
          },
          "metadata": {
            "tags": []
          },
          "execution_count": 174
        }
      ]
    },
    {
      "metadata": {
        "id": "v2VenWRfmQiq",
        "colab_type": "code",
        "colab": {
          "base_uri": "https://localhost:8080/",
          "height": 35
        },
        "outputId": "ced886fc-1fd2-493b-e3a8-03add96f12aa"
      },
      "cell_type": "code",
      "source": [
        "str.startswith(\"Geeks\", 8, 14)"
      ],
      "execution_count": 175,
      "outputs": [
        {
          "output_type": "execute_result",
          "data": {
            "text/plain": [
              "True"
            ]
          },
          "metadata": {
            "tags": []
          },
          "execution_count": 175
        }
      ]
    },
    {
      "metadata": {
        "id": "KayUE5Zqmtpt",
        "colab_type": "text"
      },
      "cell_type": "markdown",
      "source": [
        "### join()"
      ]
    },
    {
      "metadata": {
        "id": "5S0uIGHZmWC8",
        "colab_type": "code",
        "colab": {
          "base_uri": "https://localhost:8080/",
          "height": 35
        },
        "outputId": "37aceea3-c608-4188-86d8-7063492bb475"
      },
      "cell_type": "code",
      "source": [
        "list1 = ['1', '2', '3', '4']\n",
        "\n",
        "s = \"-\"\n",
        "\n",
        "s = s.join(list1)\n",
        "s"
      ],
      "execution_count": 176,
      "outputs": [
        {
          "output_type": "execute_result",
          "data": {
            "text/plain": [
              "'1-2-3-4'"
            ]
          },
          "metadata": {
            "tags": []
          },
          "execution_count": 176
        }
      ]
    },
    {
      "metadata": {
        "id": "cI8MLDaLm3zH",
        "colab_type": "code",
        "colab": {
          "base_uri": "https://localhost:8080/",
          "height": 35
        },
        "outputId": "c9920a74-506e-4aec-ad4f-ba6e3fcabee9"
      },
      "cell_type": "code",
      "source": [
        "list1 = ['g', 'e', 'e', 'k', 's']\n",
        "\n",
        "print(\"\".join(list1))"
      ],
      "execution_count": 177,
      "outputs": [
        {
          "output_type": "stream",
          "text": [
            "geeks\n"
          ],
          "name": "stdout"
        }
      ]
    },
    {
      "metadata": {
        "id": "zt1p-zmJno6j",
        "colab_type": "text"
      },
      "cell_type": "markdown",
      "source": [
        "### index()"
      ]
    },
    {
      "metadata": {
        "id": "DTPIpLrrnAqT",
        "colab_type": "code",
        "colab": {
          "base_uri": "https://localhost:8080/",
          "height": 35
        },
        "outputId": "37dd747a-ba67-4b43-cc92-8e747c81b9c4"
      },
      "cell_type": "code",
      "source": [
        "ch = \"geeksforgeeks\"\n",
        "\n",
        "ch1 = \"geeks\"\n",
        "\n",
        "pos = ch.index(ch1, 2)\n",
        "\n",
        "print(\"The first position of geeks after 2nd index: \", end = \"\")\n",
        "print(pos)"
      ],
      "execution_count": 178,
      "outputs": [
        {
          "output_type": "stream",
          "text": [
            "The first position of geeks after 2nd index: 8\n"
          ],
          "name": "stdout"
        }
      ]
    },
    {
      "metadata": {
        "id": "43_cpxIKn8KD",
        "colab_type": "code",
        "colab": {}
      },
      "cell_type": "code",
      "source": [
        "ch = \"geeksforgeeks\"\n",
        "\n",
        "ch1 = \"gfg\"\n",
        "\n",
        "# pos = ch.index(ch1)\n",
        "\n",
        "# print(\"The first position of gfg is: \", end = \"\")\n",
        "# print(pos)\n",
        "# Gives a RuntimeError: substring not found"
      ],
      "execution_count": 0,
      "outputs": []
    },
    {
      "metadata": {
        "id": "Ttbo0iWcoRB1",
        "colab_type": "code",
        "colab": {
          "base_uri": "https://localhost:8080/",
          "height": 53
        },
        "outputId": "7ef16f6d-8b16-47c6-9b0c-4bda117667dc"
      },
      "cell_type": "code",
      "source": [
        "sentence = 'Python programming is fun.'\n",
        "\n",
        "print(sentence.index('ing', 10))  # searched in 'gramming is fun.'\n",
        "\n",
        "print(sentence.index('g is', 10, -4))  # searched in 'gramming is '"
      ],
      "execution_count": 181,
      "outputs": [
        {
          "output_type": "stream",
          "text": [
            "15\n",
            "17\n"
          ],
          "name": "stdout"
        }
      ]
    },
    {
      "metadata": {
        "id": "mJKHTuNVpxZ9",
        "colab_type": "text"
      },
      "cell_type": "markdown",
      "source": [
        "### find()"
      ]
    },
    {
      "metadata": {
        "id": "1RYPctq_pa73",
        "colab_type": "code",
        "colab": {
          "base_uri": "https://localhost:8080/",
          "height": 53
        },
        "outputId": "8a6edf43-8e27-4a3d-f862-2254ac6f9ac9"
      },
      "cell_type": "code",
      "source": [
        "quote = 'Let it be, let it be, let it be'\n",
        "\n",
        "result = quote.find('let it')\n",
        "print(\"Substring 'let it': \", result)\n",
        "\n",
        "result = quote.find('small')\n",
        "print(\"Substring 'small': \", result)"
      ],
      "execution_count": 182,
      "outputs": [
        {
          "output_type": "stream",
          "text": [
            "Substring 'let it':  11\n",
            "Substring 'small':  -1\n"
          ],
          "name": "stdout"
        }
      ]
    },
    {
      "metadata": {
        "id": "Eby_CAy5qPjS",
        "colab_type": "code",
        "colab": {
          "base_uri": "https://localhost:8080/",
          "height": 71
        },
        "outputId": "3b32af58-3916-4610-c038-500d3180bcbe"
      },
      "cell_type": "code",
      "source": [
        "quote = 'Do small things with great love'\n",
        "\n",
        "print(quote.find('small things', 10))   # -1\n",
        "\n",
        "print(quote.find('small things', 2))    # 3\n",
        "\n",
        "print(quote.find('o small', 10, -1))    # -1"
      ],
      "execution_count": 183,
      "outputs": [
        {
          "output_type": "stream",
          "text": [
            "-1\n",
            "3\n",
            "-1\n"
          ],
          "name": "stdout"
        }
      ]
    },
    {
      "metadata": {
        "id": "aee0n9SVq2Wk",
        "colab_type": "text"
      },
      "cell_type": "markdown",
      "source": [
        "### rfind()"
      ]
    },
    {
      "metadata": {
        "id": "ZXFqJyznqqiz",
        "colab_type": "code",
        "colab": {
          "base_uri": "https://localhost:8080/",
          "height": 53
        },
        "outputId": "cb20ded4-89e8-4050-e8a0-a9cb40ef5f96"
      },
      "cell_type": "code",
      "source": [
        "quote = 'Let it be, let it be, let it be'\n",
        "\n",
        "result = quote.rfind('let it')\n",
        "print(\"Substring 'let it': \", result)\n",
        "\n",
        "result = quote.rfind('small')\n",
        "print(\"Substring 'small': \", result)"
      ],
      "execution_count": 184,
      "outputs": [
        {
          "output_type": "stream",
          "text": [
            "Substring 'let it':  22\n",
            "Substring 'small':  -1\n"
          ],
          "name": "stdout"
        }
      ]
    },
    {
      "metadata": {
        "id": "PBHom20trlki",
        "colab_type": "code",
        "colab": {
          "base_uri": "https://localhost:8080/",
          "height": 35
        },
        "outputId": "90021d0a-0119-4edc-896c-50141caedbd7"
      },
      "cell_type": "code",
      "source": [
        "result = quote.rfind('be,')\n",
        "\n",
        "if(result != -1):\n",
        "  print(\"Highest index where 'be,' occurs: \", result)\n",
        "else:\n",
        "  print(\"Doesn't contain substring\")"
      ],
      "execution_count": 185,
      "outputs": [
        {
          "output_type": "stream",
          "text": [
            "Highest index where 'be,' occurs:  18\n"
          ],
          "name": "stdout"
        }
      ]
    },
    {
      "metadata": {
        "id": "_bP3f2Oqr4K5",
        "colab_type": "code",
        "colab": {
          "base_uri": "https://localhost:8080/",
          "height": 88
        },
        "outputId": "c515b728-0f6d-49b5-de87-eefab19dc592"
      },
      "cell_type": "code",
      "source": [
        "quote = 'Do small things with great love'\n",
        "\n",
        "# searched in 'hings with great love'\n",
        "print(quote.rfind('things', 10))  # -1\n",
        "\n",
        "# searched in 'small things with great love'\n",
        "print(quote.rfind('t', 2))        # 25\n",
        "\n",
        "# searched in 'hings with great lov'\n",
        "print(quote.rfind('o small ', 10, -1))\n",
        "\n",
        "# searched in 'll things with'\n",
        "print(quote.rfind('th', 6, 20))\n"
      ],
      "execution_count": 186,
      "outputs": [
        {
          "output_type": "stream",
          "text": [
            "-1\n",
            "25\n",
            "-1\n",
            "18\n"
          ],
          "name": "stdout"
        }
      ]
    },
    {
      "metadata": {
        "id": "HRKNa2nVtXVQ",
        "colab_type": "text"
      },
      "cell_type": "markdown",
      "source": [
        "### replace()"
      ]
    },
    {
      "metadata": {
        "id": "z5dKNluusxV9",
        "colab_type": "code",
        "colab": {
          "base_uri": "https://localhost:8080/",
          "height": 53
        },
        "outputId": "e75425e5-522a-421b-93a8-3370e6eed969"
      },
      "cell_type": "code",
      "source": [
        "song = 'cold, cold heart'\n",
        "print(song.replace('cold', 'hurt'))\n",
        "\n",
        "song = 'Let it be, let it be, let it be, let it be'\n",
        "\n",
        "# only 2 occurences of 'let' is replaced\n",
        "print(song.replace('let', \"don't let\", 2))"
      ],
      "execution_count": 187,
      "outputs": [
        {
          "output_type": "stream",
          "text": [
            "hurt, hurt heart\n",
            "Let it be, don't let it be, don't let it be, let it be\n"
          ],
          "name": "stdout"
        }
      ]
    },
    {
      "metadata": {
        "id": "PGqd7Dmdts64",
        "colab_type": "code",
        "colab": {
          "base_uri": "https://localhost:8080/",
          "height": 71
        },
        "outputId": "a99e0c4a-d830-427d-d35b-aed69bac916c"
      },
      "cell_type": "code",
      "source": [
        "song = 'cold, cold heart'\n",
        "replaced_song = song.replace('o', 'e')\n",
        "\n",
        "print('Original string: ', song)\n",
        "print('Replaced string: ', replaced_song)\n",
        "\n",
        "song = 'let it be, let it be, let it be'\n",
        "\n",
        "# maximum of 0 substring is replaced\n",
        "# returns copy of original string\n",
        "print(song.replace('let', 'so', 0))"
      ],
      "execution_count": 188,
      "outputs": [
        {
          "output_type": "stream",
          "text": [
            "Original string:  cold, cold heart\n",
            "Replaced string:  celd, celd heart\n",
            "let it be, let it be, let it be\n"
          ],
          "name": "stdout"
        }
      ]
    },
    {
      "metadata": {
        "id": "7l7FYenMudeU",
        "colab_type": "text"
      },
      "cell_type": "markdown",
      "source": [
        "### strip()"
      ]
    },
    {
      "metadata": {
        "id": "iVxL7PwbuKxC",
        "colab_type": "code",
        "colab": {
          "base_uri": "https://localhost:8080/",
          "height": 71
        },
        "outputId": "14eace17-e95f-4969-c641-7ff69ffa1c37"
      },
      "cell_type": "code",
      "source": [
        "string = '   Geeks for Geeks'\n",
        "\n",
        "# Leading spaces are removed\n",
        "print(string.strip())\n",
        "\n",
        "# Geeks is removed\n",
        "print(string.strip('   Geeks'))\n",
        "\n",
        "# Not removed since spaces don't match\n",
        "print(string.strip('Geeks'))"
      ],
      "execution_count": 189,
      "outputs": [
        {
          "output_type": "stream",
          "text": [
            "Geeks for Geeks\n",
            "for\n",
            "   Geeks for \n"
          ],
          "name": "stdout"
        }
      ]
    },
    {
      "metadata": {
        "id": "5NXU-R3RvMvy",
        "colab_type": "code",
        "colab": {
          "base_uri": "https://localhost:8080/",
          "height": 53
        },
        "outputId": "4925641e-2707-4f6e-9c47-aa2be47e9fa1"
      },
      "cell_type": "code",
      "source": [
        "string = '@@@@Geeks for Geeks@@@@@'\n",
        "\n",
        "# strip all '@' from beginning and ending\n",
        "print(string.strip('@'))\n",
        "\n",
        "string = 'www.Geeksforgeeks.org'\n",
        "\n",
        "# '.grow' removes 'www' and 'org' and '.'\n",
        "print(string.strip('.grow'))"
      ],
      "execution_count": 190,
      "outputs": [
        {
          "output_type": "stream",
          "text": [
            "Geeks for Geeks\n",
            "Geeksforgeeks\n"
          ],
          "name": "stdout"
        }
      ]
    },
    {
      "metadata": {
        "id": "f6W8f9DWvm0s",
        "colab_type": "code",
        "colab": {
          "base_uri": "https://localhost:8080/",
          "height": 88
        },
        "outputId": "14b9d5a3-e9c5-49a5-bb15-83883069aa21"
      },
      "cell_type": "code",
      "source": [
        "string = ' xoxo love xoxo  '\n",
        "\n",
        "# leading whitespaces are removed\n",
        "print(string.strip())\n",
        "\n",
        "print(string.strip(' xoxoe'))  # lov\n",
        "\n",
        "# argument doesn't contain space\n",
        "# no characters are removed\n",
        "print(string.strip('sti'))\n",
        "\n",
        "string = 'android is awesome'\n",
        "print(string.strip('an'))"
      ],
      "execution_count": 191,
      "outputs": [
        {
          "output_type": "stream",
          "text": [
            "xoxo love xoxo\n",
            "lov\n",
            " xoxo love xoxo  \n",
            "droid is awesome\n"
          ],
          "name": "stdout"
        }
      ]
    },
    {
      "metadata": {
        "id": "son-6iPKwrFc",
        "colab_type": "text"
      },
      "cell_type": "markdown",
      "source": [
        "### rstrip()"
      ]
    },
    {
      "metadata": {
        "id": "SVjljiDTwZjI",
        "colab_type": "code",
        "colab": {
          "base_uri": "https://localhost:8080/",
          "height": 88
        },
        "outputId": "a1ec7c54-0e22-4645-fdc2-88098d5e3903"
      },
      "cell_type": "code",
      "source": [
        "string = ' this is good'\n",
        "\n",
        "# leading whitespaces removed\n",
        "print(string.rstrip())\n",
        "\n",
        "# argument doesn't contain 'd'\n",
        "# no characters are removed\n",
        "print(string.rstrip('si oo'))\n",
        "\n",
        "print(string.rstrip('sid oo'))\n",
        "\n",
        "website = 'www.programiz.com/'\n",
        "print(website.rstrip('m/.'))"
      ],
      "execution_count": 192,
      "outputs": [
        {
          "output_type": "stream",
          "text": [
            " this is good\n",
            " this is good\n",
            " this is g\n",
            "www.programiz.co\n"
          ],
          "name": "stdout"
        }
      ]
    },
    {
      "metadata": {
        "id": "75u5Ti_DxViT",
        "colab_type": "code",
        "colab": {
          "base_uri": "https://localhost:8080/",
          "height": 35
        },
        "outputId": "cbdbac58-e5df-47f9-b09c-e044b065195f"
      },
      "cell_type": "code",
      "source": [
        "string = 'geekssss'\n",
        "\n",
        "string.rstrip('s')"
      ],
      "execution_count": 193,
      "outputs": [
        {
          "output_type": "execute_result",
          "data": {
            "text/plain": [
              "'geek'"
            ]
          },
          "metadata": {
            "tags": []
          },
          "execution_count": 193
        }
      ]
    },
    {
      "metadata": {
        "id": "py23XMFmxuSf",
        "colab_type": "code",
        "colab": {
          "base_uri": "https://localhost:8080/",
          "height": 35
        },
        "outputId": "dbf8b961-54d8-423e-a931-29cfaa59c383"
      },
      "cell_type": "code",
      "source": [
        "string = \"   for   \"\n",
        "\n",
        "print(\"Geeks\" + string.rstrip() + \" Geeks \")"
      ],
      "execution_count": 194,
      "outputs": [
        {
          "output_type": "stream",
          "text": [
            "Geeks   for Geeks \n"
          ],
          "name": "stdout"
        }
      ]
    },
    {
      "metadata": {
        "id": "0-gF8eeox2FL",
        "colab_type": "code",
        "colab": {
          "base_uri": "https://localhost:8080/",
          "height": 35
        },
        "outputId": "435ec71c-c9d4-49a2-eab3-f1e284917de5"
      },
      "cell_type": "code",
      "source": [
        "string = \"geeks for geeks\"\n",
        "\n",
        "# argument doesn't contain trailing 's'\n",
        "# so, no characters are removed\n",
        "string.rstrip('ek')"
      ],
      "execution_count": 195,
      "outputs": [
        {
          "output_type": "execute_result",
          "data": {
            "text/plain": [
              "'geeks for geeks'"
            ]
          },
          "metadata": {
            "tags": []
          },
          "execution_count": 195
        }
      ]
    },
    {
      "metadata": {
        "id": "i2Y4W9EmyCK-",
        "colab_type": "code",
        "colab": {
          "base_uri": "https://localhost:8080/",
          "height": 35
        },
        "outputId": "f37dcc57-41f7-4165-ba3f-dd1db699fd50"
      },
      "cell_type": "code",
      "source": [
        "string = \"geeks for geeks\"\n",
        "\n",
        "string.rstrip('ske')"
      ],
      "execution_count": 196,
      "outputs": [
        {
          "output_type": "execute_result",
          "data": {
            "text/plain": [
              "'geeks for g'"
            ]
          },
          "metadata": {
            "tags": []
          },
          "execution_count": 196
        }
      ]
    },
    {
      "metadata": {
        "id": "yNe0bt7AyaM6",
        "colab_type": "text"
      },
      "cell_type": "markdown",
      "source": [
        "### lstrip()"
      ]
    },
    {
      "metadata": {
        "id": "41jtUSOuyI26",
        "colab_type": "code",
        "colab": {
          "base_uri": "https://localhost:8080/",
          "height": 88
        },
        "outputId": "acad2643-cf60-473d-e83d-65ac89920f3b"
      },
      "cell_type": "code",
      "source": [
        "str = '    this is good '\n",
        "\n",
        "# leading whitespaces are removed\n",
        "print(str.lstrip())\n",
        "\n",
        "# argument doesn't contain space\n",
        "# no characters are removed\n",
        "print(str.lstrip('sti'))\n",
        "\n",
        "print(str.lstrip('s ti'))\n",
        "\n",
        "site = 'https://www.programiz.com/'\n",
        "print(site.lstrip('htps:/.'))"
      ],
      "execution_count": 197,
      "outputs": [
        {
          "output_type": "stream",
          "text": [
            "this is good \n",
            "    this is good \n",
            "his is good \n",
            "www.programiz.com/\n"
          ],
          "name": "stdout"
        }
      ]
    },
    {
      "metadata": {
        "id": "gYvrzAdazDHw",
        "colab_type": "code",
        "colab": {
          "base_uri": "https://localhost:8080/",
          "height": 35
        },
        "outputId": "9eefb617-13f0-465c-c5d0-67c7496d9d89"
      },
      "cell_type": "code",
      "source": [
        "string = \"  geeksforgeeks\"\n",
        "\n",
        "string.lstrip()"
      ],
      "execution_count": 198,
      "outputs": [
        {
          "output_type": "execute_result",
          "data": {
            "text/plain": [
              "'geeksforgeeks'"
            ]
          },
          "metadata": {
            "tags": []
          },
          "execution_count": 198
        }
      ]
    },
    {
      "metadata": {
        "id": "uYj2BrSszQBC",
        "colab_type": "code",
        "colab": {
          "base_uri": "https://localhost:8080/",
          "height": 35
        },
        "outputId": "5d68df3a-af32-4341-cba2-b6f06d8316c8"
      },
      "cell_type": "code",
      "source": [
        "string = \"++++x...y!!z* geeksforgeeks\"\n",
        "\n",
        "string.lstrip(\"+.!*xyz\")"
      ],
      "execution_count": 199,
      "outputs": [
        {
          "output_type": "execute_result",
          "data": {
            "text/plain": [
              "' geeksforgeeks'"
            ]
          },
          "metadata": {
            "tags": []
          },
          "execution_count": 199
        }
      ]
    },
    {
      "metadata": {
        "id": "sJ9Am0oQzfaO",
        "colab_type": "code",
        "colab": {
          "base_uri": "https://localhost:8080/",
          "height": 35
        },
        "outputId": "c319fc08-fb05-4423-f579-afc7ff1cc7da"
      },
      "cell_type": "code",
      "source": [
        "string = \"geeks for geeks\"\n",
        "\n",
        "# argument doesn't contain leading 'g'\n",
        "# so, no characters are removed\n",
        "string.lstrip('ge')\n"
      ],
      "execution_count": 200,
      "outputs": [
        {
          "output_type": "execute_result",
          "data": {
            "text/plain": [
              "'ks for geeks'"
            ]
          },
          "metadata": {
            "tags": []
          },
          "execution_count": 200
        }
      ]
    },
    {
      "metadata": {
        "id": "B2wplc3czxkk",
        "colab_type": "code",
        "colab": {}
      },
      "cell_type": "code",
      "source": [
        "str = \" geeks for geeks \"\n",
        "\n",
        "list = [1, 2, 3]\n",
        "\n",
        "# list.lstrip()\n",
        "# AttributeError: 'list' object has no attribute 'lstrip'"
      ],
      "execution_count": 0,
      "outputs": []
    },
    {
      "metadata": {
        "id": "-on3LWyg0Z2I",
        "colab_type": "text"
      },
      "cell_type": "markdown",
      "source": [
        "### split()"
      ]
    },
    {
      "metadata": {
        "id": "2uu4_dpg0CT4",
        "colab_type": "code",
        "colab": {
          "base_uri": "https://localhost:8080/",
          "height": 88
        },
        "outputId": "d7e667e6-6a43-48dd-b907-92165d9485cb"
      },
      "cell_type": "code",
      "source": [
        "text = 'geeks for geeks'\n",
        "\n",
        "# splits at space\n",
        "print(text.split())\n",
        "\n",
        "word = 'geeks, for, geeks'\n",
        "\n",
        "# splits at ','\n",
        "print(word.split(', '))\n",
        "\n",
        "word = 'geeks:for:geeks'\n",
        "\n",
        "# splits at ':'\n",
        "print(word.split(':'))\n",
        "\n",
        "word = 'CatBatSatFatOr'\n",
        "\n",
        "# splits at 3\n",
        "print([word[i : i + 3] for i in range(0, len(word), 3)])"
      ],
      "execution_count": 203,
      "outputs": [
        {
          "output_type": "stream",
          "text": [
            "['geeks', 'for', 'geeks']\n",
            "['geeks', 'for', 'geeks']\n",
            "['geeks', 'for', 'geeks']\n",
            "['Cat', 'Bat', 'Sat', 'Fat', 'Or']\n"
          ],
          "name": "stdout"
        }
      ]
    },
    {
      "metadata": {
        "id": "B8rxSM611D9B",
        "colab_type": "code",
        "colab": {
          "base_uri": "https://localhost:8080/",
          "height": 71
        },
        "outputId": "324592d6-2fe5-46d6-e18e-5c14ad299fff"
      },
      "cell_type": "code",
      "source": [
        "word = 'geeks, for, geeks, pawan'\n",
        "\n",
        "# maxsplit: 0\n",
        "print(word.split(', ', 0))\n",
        "\n",
        "# maxsplit: 4\n",
        "print(word.split(', ', 4))\n",
        "\n",
        "# maxsplit: 1\n",
        "print(word.split(', ', 1))"
      ],
      "execution_count": 204,
      "outputs": [
        {
          "output_type": "stream",
          "text": [
            "['geeks, for, geeks, pawan']\n",
            "['geeks', 'for', 'geeks', 'pawan']\n",
            "['geeks', 'for, geeks, pawan']\n"
          ],
          "name": "stdout"
        }
      ]
    },
    {
      "metadata": {
        "id": "2reYIoX91i33",
        "colab_type": "code",
        "colab": {
          "base_uri": "https://localhost:8080/",
          "height": 71
        },
        "outputId": "fab9519e-82d1-4d18-92df-475ce6ca84e6"
      },
      "cell_type": "code",
      "source": [
        "text = 'Love thy neighbor'\n",
        "\n",
        "# splits at grace\n",
        "print(text.split())\n",
        "\n",
        "grocery = 'Milk, Chicken, Bread'\n",
        "\n",
        "# splits at ','\n",
        "print(grocery.split(', '))\n",
        "\n",
        "# splits at ':'\n",
        "print(grocery.split(':'))"
      ],
      "execution_count": 205,
      "outputs": [
        {
          "output_type": "stream",
          "text": [
            "['Love', 'thy', 'neighbor']\n",
            "['Milk', 'Chicken', 'Bread']\n",
            "['Milk, Chicken, Bread']\n"
          ],
          "name": "stdout"
        }
      ]
    },
    {
      "metadata": {
        "id": "DEBhF9rG2Bnh",
        "colab_type": "code",
        "colab": {
          "base_uri": "https://localhost:8080/",
          "height": 88
        },
        "outputId": "f71643ea-a6ca-4d6b-cea8-d25c069eb40b"
      },
      "cell_type": "code",
      "source": [
        "grocery = 'Milk, Chicken, Bread, Butter'\n",
        "\n",
        "# maxsplit: 2\n",
        "print(grocery.split(', ', 2))\n",
        "\n",
        "# maxsplit: 1\n",
        "print(grocery.split(', ', 1))\n",
        "\n",
        "# maxsplit: 5\n",
        "print(grocery.split(', ', 5))\n",
        "\n",
        "# maxsplit: 0\n",
        "print(grocery.split(', ', 0))"
      ],
      "execution_count": 206,
      "outputs": [
        {
          "output_type": "stream",
          "text": [
            "['Milk', 'Chicken', 'Bread, Butter']\n",
            "['Milk', 'Chicken, Bread, Butter']\n",
            "['Milk', 'Chicken', 'Bread', 'Butter']\n",
            "['Milk, Chicken, Bread, Butter']\n"
          ],
          "name": "stdout"
        }
      ]
    },
    {
      "metadata": {
        "id": "3H5LztzQ2uGe",
        "colab_type": "text"
      },
      "cell_type": "markdown",
      "source": [
        "### lower()"
      ]
    },
    {
      "metadata": {
        "id": "xyb4M83f2W4S",
        "colab_type": "code",
        "colab": {
          "base_uri": "https://localhost:8080/",
          "height": 53
        },
        "outputId": "e19aa0db-68ba-488d-b1a7-3b4f09f69417"
      },
      "cell_type": "code",
      "source": [
        "str = \"THIS SHOULD BE LOWERCASE!\"\n",
        "print(str.lower())\n",
        "\n",
        "str = \"Th!s Sh0uLd B3 L0w3rCas3!\"\n",
        "print(str.lower())"
      ],
      "execution_count": 207,
      "outputs": [
        {
          "output_type": "stream",
          "text": [
            "this should be lowercase!\n",
            "th!s sh0uld b3 l0w3rcas3!\n"
          ],
          "name": "stdout"
        }
      ]
    },
    {
      "metadata": {
        "id": "zZqDZVcF3NtW",
        "colab_type": "code",
        "colab": {
          "base_uri": "https://localhost:8080/",
          "height": 35
        },
        "outputId": "80224011-44df-4faa-becb-7125431a6fa3"
      },
      "cell_type": "code",
      "source": [
        "first = \"PYTHON IS AWESOME!\"\n",
        "\n",
        "second = \"PyThOn Is AwEsOmE!\"\n",
        "\n",
        "if(first.lower() == second.lower()):\n",
        "  print(\"The strings are same\")\n",
        "else:\n",
        "  print(\"The strings are different\")"
      ],
      "execution_count": 208,
      "outputs": [
        {
          "output_type": "stream",
          "text": [
            "The strings are same\n"
          ],
          "name": "stdout"
        }
      ]
    },
    {
      "metadata": {
        "id": "4nRtHofO3wbF",
        "colab_type": "text"
      },
      "cell_type": "markdown",
      "source": [
        "### upper()"
      ]
    },
    {
      "metadata": {
        "id": "NQwmSoot3o_H",
        "colab_type": "code",
        "colab": {
          "base_uri": "https://localhost:8080/",
          "height": 71
        },
        "outputId": "3960b251-c66d-4da8-81e3-5e80c67c664f"
      },
      "cell_type": "code",
      "source": [
        "text = 'geeKs For geEkS'\n",
        "\n",
        "print(\"Original string: \", text)\n",
        "\n",
        "print(\"\\nConverted string: \", text.upper())"
      ],
      "execution_count": 209,
      "outputs": [
        {
          "output_type": "stream",
          "text": [
            "Original string:  geeKs For geEkS\n",
            "\n",
            "Converted string:  GEEKS FOR GEEKS\n"
          ],
          "name": "stdout"
        }
      ]
    },
    {
      "metadata": {
        "id": "SKVjBJ7d4ZC_",
        "colab_type": "code",
        "colab": {
          "base_uri": "https://localhost:8080/",
          "height": 71
        },
        "outputId": "024e5d4a-96ce-4aa4-c13f-9ff1b32ef7a3"
      },
      "cell_type": "code",
      "source": [
        "text = 'g3Ek5 f0r gE3K5'\n",
        "\n",
        "print(\"Original string: \", text)\n",
        "\n",
        "print(\"\\nConverted string: \", text.upper())"
      ],
      "execution_count": 210,
      "outputs": [
        {
          "output_type": "stream",
          "text": [
            "Original string:  g3Ek5 f0r gE3K5\n",
            "\n",
            "Converted string:  G3EK5 F0R GE3K5\n"
          ],
          "name": "stdout"
        }
      ]
    },
    {
      "metadata": {
        "id": "hKZV7Wqa4m4w",
        "colab_type": "code",
        "colab": {
          "base_uri": "https://localhost:8080/",
          "height": 35
        },
        "outputId": "46b1ad5a-43f0-4108-fa0c-148752ad0ce5"
      },
      "cell_type": "code",
      "source": [
        "first = \"python is awesome!\"\n",
        "\n",
        "second = \"PyThOn Is AwEsOmE!\"\n",
        "\n",
        "if(first.upper() == second.upper()):\n",
        "   print(\"Strings are same\")\n",
        "else:\n",
        "   print(\"Strings are different\")"
      ],
      "execution_count": 213,
      "outputs": [
        {
          "output_type": "stream",
          "text": [
            "Strings are same\n"
          ],
          "name": "stdout"
        }
      ]
    },
    {
      "metadata": {
        "id": "B9lmm3A95hsB",
        "colab_type": "text"
      },
      "cell_type": "markdown",
      "source": [
        "### casefold()"
      ]
    },
    {
      "metadata": {
        "id": "xJAA6Zl15Apg",
        "colab_type": "code",
        "colab": {
          "base_uri": "https://localhost:8080/",
          "height": 35
        },
        "outputId": "3a2b8041-ebf3-4746-c266-d832f9428920"
      },
      "cell_type": "code",
      "source": [
        "str = \"HELLOTHERE\"\n",
        "\n",
        "print(\"lowercase str: \", str.casefold())"
      ],
      "execution_count": 214,
      "outputs": [
        {
          "output_type": "stream",
          "text": [
            "lowercase str:  hellothere\n"
          ],
          "name": "stdout"
        }
      ]
    },
    {
      "metadata": {
        "id": "vmiQHWYL5s11",
        "colab_type": "code",
        "colab": {
          "base_uri": "https://localhost:8080/",
          "height": 35
        },
        "outputId": "94db5158-d49b-443d-c81f-5888f9486858"
      },
      "cell_type": "code",
      "source": [
        "## checking if a string is a palindrome\n",
        "\n",
        "str = 'geeksforgeeks'\n",
        "\n",
        "str = str.casefold()\n",
        "\n",
        "rev_str = reversed(str)\n",
        "\n",
        "if str == rev_str:\n",
        "  print(\"palindrome\")\n",
        "else:\n",
        "  print(\"not palindrome\")"
      ],
      "execution_count": 217,
      "outputs": [
        {
          "output_type": "stream",
          "text": [
            "not palindrome\n"
          ],
          "name": "stdout"
        }
      ]
    },
    {
      "metadata": {
        "id": "XAJ_TgAx59vi",
        "colab_type": "code",
        "colab": {
          "base_uri": "https://localhost:8080/",
          "height": 35
        },
        "outputId": "49fffbc9-9cd1-4b51-996b-4310e592c5e7"
      },
      "cell_type": "code",
      "source": [
        "## counting vowels in a string\n",
        "\n",
        "v = 'aeiou'\n",
        "\n",
        "str = 'Hello, have you tried geeksforgeeks?'\n",
        "\n",
        "str = str.casefold()\n",
        "\n",
        "# make a dict with each vowel and value 0\n",
        "c = {}.fromkeys(v, 0)\n",
        "\n",
        "# count the vowels\n",
        "for char in str:\n",
        "  if char in c:\n",
        "    c[char] += 1\n",
        "print(c)"
      ],
      "execution_count": 218,
      "outputs": [
        {
          "output_type": "stream",
          "text": [
            "{'a': 1, 'e': 7, 'i': 1, 'o': 3, 'u': 1}\n"
          ],
          "name": "stdout"
        }
      ]
    },
    {
      "metadata": {
        "id": "SNom8U2x86s3",
        "colab_type": "text"
      },
      "cell_type": "markdown",
      "source": [
        "### ljust()"
      ]
    },
    {
      "metadata": {
        "id": "qjM-JoST8HoM",
        "colab_type": "code",
        "colab": {
          "base_uri": "https://localhost:8080/",
          "height": 88
        },
        "outputId": "bc111d32-9280-4337-fe47-547da5fb4b1b"
      },
      "cell_type": "code",
      "source": [
        "lstr = \"I love geeksforgeeks\"\n",
        "\n",
        "print(\"Original string is: \\n\", lstr, \"\\n\")\n",
        "\n",
        "print(\"The left aligned string is: \", lstr.ljust(40, '-'))"
      ],
      "execution_count": 219,
      "outputs": [
        {
          "output_type": "stream",
          "text": [
            "Original string is: \n",
            " I love geeksforgeeks \n",
            "\n",
            "The left aligned string is:  I love geeksforgeeks--------------------\n"
          ],
          "name": "stdout"
        }
      ]
    },
    {
      "metadata": {
        "id": "uIpAGksc9MzK",
        "colab_type": "code",
        "colab": {
          "base_uri": "https://localhost:8080/",
          "height": 35
        },
        "outputId": "d8de5bea-6385-42a2-acb4-7c10791f8103"
      },
      "cell_type": "code",
      "source": [
        "string = 'geeks'\n",
        "length = 8\n",
        "\n",
        "# 3 spaces are printed after geeks\n",
        "print(string.ljust(length))"
      ],
      "execution_count": 220,
      "outputs": [
        {
          "output_type": "stream",
          "text": [
            "geeks   \n"
          ],
          "name": "stdout"
        }
      ]
    },
    {
      "metadata": {
        "id": "yWLRKEEq9cKF",
        "colab_type": "code",
        "colab": {
          "base_uri": "https://localhost:8080/",
          "height": 35
        },
        "outputId": "3b2ba3b9-c659-410e-ed71-5039c8c6f4e8"
      },
      "cell_type": "code",
      "source": [
        "string = 'geeks'\n",
        "length = 8\n",
        "fillchar = '*'\n",
        "\n",
        "print(string.ljust(length, fillchar))"
      ],
      "execution_count": 221,
      "outputs": [
        {
          "output_type": "stream",
          "text": [
            "geeks***\n"
          ],
          "name": "stdout"
        }
      ]
    },
    {
      "metadata": {
        "id": "h16O_lPL9q72",
        "colab_type": "text"
      },
      "cell_type": "markdown",
      "source": [
        "### rjust()"
      ]
    },
    {
      "metadata": {
        "id": "_VGNXcoh9nSe",
        "colab_type": "code",
        "colab": {
          "base_uri": "https://localhost:8080/",
          "height": 88
        },
        "outputId": "0ce686aa-2c35-415b-f124-63dfa68a0831"
      },
      "cell_type": "code",
      "source": [
        "rstr = \"I love geeksforgeeks\"\n",
        "\n",
        "print(\"The original string is: \\n\", rstr, \"\\n\")\n",
        "\n",
        "print(\"The right aligned string is: \", rstr.rjust(40, '-'))"
      ],
      "execution_count": 222,
      "outputs": [
        {
          "output_type": "stream",
          "text": [
            "The original string is: \n",
            " I love geeksforgeeks \n",
            "\n",
            "The right aligned string is:  --------------------I love geeksforgeeks\n"
          ],
          "name": "stdout"
        }
      ]
    },
    {
      "metadata": {
        "id": "CdUgZwnO9-Vk",
        "colab_type": "code",
        "colab": {
          "base_uri": "https://localhost:8080/",
          "height": 35
        },
        "outputId": "dd2769f6-37c8-46ef-a095-8e2255028a40"
      },
      "cell_type": "code",
      "source": [
        "string = 'geeks'\n",
        "length = 8\n",
        "\n",
        "# if no fillchar is used, space is used as fillchar\n",
        "print(string.rjust(length))"
      ],
      "execution_count": 223,
      "outputs": [
        {
          "output_type": "stream",
          "text": [
            "   geeks\n"
          ],
          "name": "stdout"
        }
      ]
    },
    {
      "metadata": {
        "id": "Mz_wIhW3-NSE",
        "colab_type": "code",
        "colab": {
          "base_uri": "https://localhost:8080/",
          "height": 35
        },
        "outputId": "e07de37c-404e-4ca8-a9f4-09916fa1bdf3"
      },
      "cell_type": "code",
      "source": [
        "string = 'geeks'\n",
        "length = 8\n",
        "fillchar = '*'\n",
        "\n",
        "print(string.rjust(length, fillchar))"
      ],
      "execution_count": 224,
      "outputs": [
        {
          "output_type": "stream",
          "text": [
            "***geeks\n"
          ],
          "name": "stdout"
        }
      ]
    }
  ]
}