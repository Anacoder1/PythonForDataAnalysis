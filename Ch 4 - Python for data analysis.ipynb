{
 "cells": [
  {
   "cell_type": "code",
   "execution_count": 1,
   "metadata": {
    "colab": {},
    "colab_type": "code",
    "id": "Gxe9SNO-Tdkr"
   },
   "outputs": [],
   "source": [
    "import numpy as np"
   ]
  },
  {
   "cell_type": "code",
   "execution_count": 2,
   "metadata": {
    "colab": {},
    "colab_type": "code",
    "id": "qRlyD_vbTlDJ"
   },
   "outputs": [],
   "source": [
    "my_arr = np.arange(1000000)"
   ]
  },
  {
   "cell_type": "code",
   "execution_count": 3,
   "metadata": {
    "colab": {},
    "colab_type": "code",
    "id": "lLNtdEQyTxPS"
   },
   "outputs": [],
   "source": [
    "my_list = list(range(1000000))"
   ]
  },
  {
   "cell_type": "code",
   "execution_count": 4,
   "metadata": {
    "colab": {
     "base_uri": "https://localhost:8080/",
     "height": 53
    },
    "colab_type": "code",
    "executionInfo": {
     "elapsed": 65010,
     "status": "ok",
     "timestamp": 1550685940966,
     "user": {
      "displayName": "Ana D",
      "photoUrl": "",
      "userId": "13952176772373622573"
     },
     "user_tz": -330
    },
    "id": "P0kiEWOnT1Ei",
    "outputId": "257da042-ee0d-4832-9692-a2cabbccb6ed"
   },
   "outputs": [
    {
     "name": "stdout",
     "output_type": "stream",
     "text": [
      "Wall time: 93.8 ms\n"
     ]
    }
   ],
   "source": [
    "%time for _ in range(10): my_arr2 = my_arr * 2"
   ]
  },
  {
   "cell_type": "code",
   "execution_count": 5,
   "metadata": {
    "colab": {
     "base_uri": "https://localhost:8080/",
     "height": 53
    },
    "colab_type": "code",
    "executionInfo": {
     "elapsed": 64678,
     "status": "ok",
     "timestamp": 1550685940984,
     "user": {
      "displayName": "Ana D",
      "photoUrl": "",
      "userId": "13952176772373622573"
     },
     "user_tz": -330
    },
    "id": "acizeTHDT5b-",
    "outputId": "3e35c080-472d-4ca5-b093-df7c1cdb4113"
   },
   "outputs": [
    {
     "name": "stdout",
     "output_type": "stream",
     "text": [
      "Wall time: 2.73 s\n"
     ]
    }
   ],
   "source": [
    "%time for _ in range(10): my_list2 = [x * 2 for x in my_list]"
   ]
  },
  {
   "cell_type": "code",
   "execution_count": 6,
   "metadata": {
    "colab": {
     "base_uri": "https://localhost:8080/",
     "height": 53
    },
    "colab_type": "code",
    "executionInfo": {
     "elapsed": 64387,
     "status": "ok",
     "timestamp": 1550685941001,
     "user": {
      "displayName": "Ana D",
      "photoUrl": "",
      "userId": "13952176772373622573"
     },
     "user_tz": -330
    },
    "id": "FRTYqHOnUBIR",
    "outputId": "dc123265-96a1-4843-c6d8-41656af8d2cd"
   },
   "outputs": [
    {
     "data": {
      "text/plain": [
       "array([[ 0.21209441, -1.75590144, -0.04746178],\n",
       "       [ 0.83549225,  0.72098871,  0.67334308]])"
      ]
     },
     "execution_count": 6,
     "metadata": {},
     "output_type": "execute_result"
    }
   ],
   "source": [
    "data = np.random.randn(2, 3)\n",
    "data"
   ]
  },
  {
   "cell_type": "code",
   "execution_count": 7,
   "metadata": {
    "colab": {
     "base_uri": "https://localhost:8080/",
     "height": 53
    },
    "colab_type": "code",
    "executionInfo": {
     "elapsed": 64160,
     "status": "ok",
     "timestamp": 1550685941025,
     "user": {
      "displayName": "Ana D",
      "photoUrl": "",
      "userId": "13952176772373622573"
     },
     "user_tz": -330
    },
    "id": "pl3vBtqxUEgM",
    "outputId": "bb0ec2d3-498d-4626-83a1-b08bfdb59a25"
   },
   "outputs": [
    {
     "data": {
      "text/plain": [
       "array([[  2.12094412, -17.5590144 ,  -0.47461784],\n",
       "       [  8.35492253,   7.20988713,   6.73343078]])"
      ]
     },
     "execution_count": 7,
     "metadata": {},
     "output_type": "execute_result"
    }
   ],
   "source": [
    "data * 10"
   ]
  },
  {
   "cell_type": "code",
   "execution_count": 8,
   "metadata": {
    "colab": {
     "base_uri": "https://localhost:8080/",
     "height": 53
    },
    "colab_type": "code",
    "executionInfo": {
     "elapsed": 63723,
     "status": "ok",
     "timestamp": 1550685941041,
     "user": {
      "displayName": "Ana D",
      "photoUrl": "",
      "userId": "13952176772373622573"
     },
     "user_tz": -330
    },
    "id": "-UyinvxwUHD-",
    "outputId": "1f0d16fd-5b03-4dfb-a089-71bcbc8d78f6"
   },
   "outputs": [
    {
     "data": {
      "text/plain": [
       "array([[ 0.42418882, -3.51180288, -0.09492357],\n",
       "       [ 1.67098451,  1.44197743,  1.34668616]])"
      ]
     },
     "execution_count": 8,
     "metadata": {},
     "output_type": "execute_result"
    }
   ],
   "source": [
    "data + data"
   ]
  },
  {
   "cell_type": "code",
   "execution_count": 9,
   "metadata": {
    "colab": {
     "base_uri": "https://localhost:8080/",
     "height": 35
    },
    "colab_type": "code",
    "executionInfo": {
     "elapsed": 63407,
     "status": "ok",
     "timestamp": 1550685941055,
     "user": {
      "displayName": "Ana D",
      "photoUrl": "",
      "userId": "13952176772373622573"
     },
     "user_tz": -330
    },
    "id": "Sj2TIQs7UI-I",
    "outputId": "89e7af57-137d-45a2-f537-a96ba9b52b77"
   },
   "outputs": [
    {
     "data": {
      "text/plain": [
       "(2, 3)"
      ]
     },
     "execution_count": 9,
     "metadata": {},
     "output_type": "execute_result"
    }
   ],
   "source": [
    "data.shape"
   ]
  },
  {
   "cell_type": "code",
   "execution_count": 10,
   "metadata": {
    "colab": {
     "base_uri": "https://localhost:8080/",
     "height": 35
    },
    "colab_type": "code",
    "executionInfo": {
     "elapsed": 63161,
     "status": "ok",
     "timestamp": 1550685941070,
     "user": {
      "displayName": "Ana D",
      "photoUrl": "",
      "userId": "13952176772373622573"
     },
     "user_tz": -330
    },
    "id": "2kM8bsQVUKka",
    "outputId": "9ba52677-1445-42ee-acdf-f99d3b4e629e"
   },
   "outputs": [
    {
     "data": {
      "text/plain": [
       "dtype('float64')"
      ]
     },
     "execution_count": 10,
     "metadata": {},
     "output_type": "execute_result"
    }
   ],
   "source": [
    "data.dtype"
   ]
  },
  {
   "cell_type": "code",
   "execution_count": 11,
   "metadata": {
    "colab": {},
    "colab_type": "code",
    "id": "YYtSdJEOUL81"
   },
   "outputs": [],
   "source": [
    "data1 = [6, 7.5, 8, 0, 1]"
   ]
  },
  {
   "cell_type": "code",
   "execution_count": 12,
   "metadata": {
    "colab": {
     "base_uri": "https://localhost:8080/",
     "height": 35
    },
    "colab_type": "code",
    "executionInfo": {
     "elapsed": 62768,
     "status": "ok",
     "timestamp": 1550685941136,
     "user": {
      "displayName": "Ana D",
      "photoUrl": "",
      "userId": "13952176772373622573"
     },
     "user_tz": -330
    },
    "id": "-YjLVs30UPn-",
    "outputId": "13fcb4da-b026-4b4e-a7cd-0b0d8f28e265"
   },
   "outputs": [
    {
     "data": {
      "text/plain": [
       "array([6. , 7.5, 8. , 0. , 1. ])"
      ]
     },
     "execution_count": 12,
     "metadata": {},
     "output_type": "execute_result"
    }
   ],
   "source": [
    "arr1 = np.array(data1)\n",
    "arr1"
   ]
  },
  {
   "cell_type": "code",
   "execution_count": 13,
   "metadata": {
    "colab": {},
    "colab_type": "code",
    "id": "2nGZU4MVUSNd"
   },
   "outputs": [],
   "source": [
    "data2 = [[1, 2, 3, 4], [5, 6, 7, 8]]"
   ]
  },
  {
   "cell_type": "code",
   "execution_count": 14,
   "metadata": {
    "colab": {
     "base_uri": "https://localhost:8080/",
     "height": 53
    },
    "colab_type": "code",
    "executionInfo": {
     "elapsed": 62430,
     "status": "ok",
     "timestamp": 1550685941159,
     "user": {
      "displayName": "Ana D",
      "photoUrl": "",
      "userId": "13952176772373622573"
     },
     "user_tz": -330
    },
    "id": "JXnlDOIpUWbr",
    "outputId": "3d07ff57-7f72-45fc-c2a5-bbaf9e57663b"
   },
   "outputs": [
    {
     "data": {
      "text/plain": [
       "array([[1, 2, 3, 4],\n",
       "       [5, 6, 7, 8]])"
      ]
     },
     "execution_count": 14,
     "metadata": {},
     "output_type": "execute_result"
    }
   ],
   "source": [
    "arr2 = np.array(data2)\n",
    "arr2"
   ]
  },
  {
   "cell_type": "code",
   "execution_count": 15,
   "metadata": {
    "colab": {
     "base_uri": "https://localhost:8080/",
     "height": 35
    },
    "colab_type": "code",
    "executionInfo": {
     "elapsed": 62177,
     "status": "ok",
     "timestamp": 1550685941174,
     "user": {
      "displayName": "Ana D",
      "photoUrl": "",
      "userId": "13952176772373622573"
     },
     "user_tz": -330
    },
    "id": "JFwLwJdwUaNQ",
    "outputId": "cbc2d8e8-7395-489c-dfad-bb045115f581"
   },
   "outputs": [
    {
     "data": {
      "text/plain": [
       "2"
      ]
     },
     "execution_count": 15,
     "metadata": {},
     "output_type": "execute_result"
    }
   ],
   "source": [
    "arr2.ndim"
   ]
  },
  {
   "cell_type": "code",
   "execution_count": 16,
   "metadata": {
    "colab": {
     "base_uri": "https://localhost:8080/",
     "height": 35
    },
    "colab_type": "code",
    "executionInfo": {
     "elapsed": 61743,
     "status": "ok",
     "timestamp": 1550685941188,
     "user": {
      "displayName": "Ana D",
      "photoUrl": "",
      "userId": "13952176772373622573"
     },
     "user_tz": -330
    },
    "id": "2Nv3BUvvUhzk",
    "outputId": "51705e45-9186-4f9c-e280-a4cad8be7a5d"
   },
   "outputs": [
    {
     "data": {
      "text/plain": [
       "(2, 4)"
      ]
     },
     "execution_count": 16,
     "metadata": {},
     "output_type": "execute_result"
    }
   ],
   "source": [
    "arr2.shape"
   ]
  },
  {
   "cell_type": "code",
   "execution_count": 17,
   "metadata": {
    "colab": {
     "base_uri": "https://localhost:8080/",
     "height": 35
    },
    "colab_type": "code",
    "executionInfo": {
     "elapsed": 61498,
     "status": "ok",
     "timestamp": 1550685941202,
     "user": {
      "displayName": "Ana D",
      "photoUrl": "",
      "userId": "13952176772373622573"
     },
     "user_tz": -330
    },
    "id": "J6jbJxxmUkF6",
    "outputId": "bb82da28-1797-4613-9b6c-52fd46009daf"
   },
   "outputs": [
    {
     "data": {
      "text/plain": [
       "dtype('float64')"
      ]
     },
     "execution_count": 17,
     "metadata": {},
     "output_type": "execute_result"
    }
   ],
   "source": [
    "arr1.dtype"
   ]
  },
  {
   "cell_type": "code",
   "execution_count": 18,
   "metadata": {
    "colab": {
     "base_uri": "https://localhost:8080/",
     "height": 35
    },
    "colab_type": "code",
    "executionInfo": {
     "elapsed": 61173,
     "status": "ok",
     "timestamp": 1550685941211,
     "user": {
      "displayName": "Ana D",
      "photoUrl": "",
      "userId": "13952176772373622573"
     },
     "user_tz": -330
    },
    "id": "KBBSWadbUmPV",
    "outputId": "db02ea47-e9c8-4d5f-b2dd-6e36f37dbcfb"
   },
   "outputs": [
    {
     "data": {
      "text/plain": [
       "dtype('int32')"
      ]
     },
     "execution_count": 18,
     "metadata": {},
     "output_type": "execute_result"
    }
   ],
   "source": [
    "arr2.dtype"
   ]
  },
  {
   "cell_type": "code",
   "execution_count": 19,
   "metadata": {
    "colab": {
     "base_uri": "https://localhost:8080/",
     "height": 35
    },
    "colab_type": "code",
    "executionInfo": {
     "elapsed": 60916,
     "status": "ok",
     "timestamp": 1550685941221,
     "user": {
      "displayName": "Ana D",
      "photoUrl": "",
      "userId": "13952176772373622573"
     },
     "user_tz": -330
    },
    "id": "Re0sOVykUoeN",
    "outputId": "753fd565-f4a6-43cd-9344-5028e482a14b"
   },
   "outputs": [
    {
     "data": {
      "text/plain": [
       "array([0., 0., 0., 0., 0., 0., 0., 0., 0., 0.])"
      ]
     },
     "execution_count": 19,
     "metadata": {},
     "output_type": "execute_result"
    }
   ],
   "source": [
    "np.zeros(10)"
   ]
  },
  {
   "cell_type": "code",
   "execution_count": 20,
   "metadata": {
    "colab": {
     "base_uri": "https://localhost:8080/",
     "height": 71
    },
    "colab_type": "code",
    "executionInfo": {
     "elapsed": 60694,
     "status": "ok",
     "timestamp": 1550685941238,
     "user": {
      "displayName": "Ana D",
      "photoUrl": "",
      "userId": "13952176772373622573"
     },
     "user_tz": -330
    },
    "id": "thcGDcJ1UtBq",
    "outputId": "a2805c9a-90e4-403e-ce1d-de40eebeaed1"
   },
   "outputs": [
    {
     "data": {
      "text/plain": [
       "array([[0., 0., 0., 0., 0., 0.],\n",
       "       [0., 0., 0., 0., 0., 0.],\n",
       "       [0., 0., 0., 0., 0., 0.]])"
      ]
     },
     "execution_count": 20,
     "metadata": {},
     "output_type": "execute_result"
    }
   ],
   "source": [
    "np.zeros((3, 6))"
   ]
  },
  {
   "cell_type": "code",
   "execution_count": 21,
   "metadata": {
    "colab": {
     "base_uri": "https://localhost:8080/",
     "height": 142
    },
    "colab_type": "code",
    "executionInfo": {
     "elapsed": 60492,
     "status": "ok",
     "timestamp": 1550685941280,
     "user": {
      "displayName": "Ana D",
      "photoUrl": "",
      "userId": "13952176772373622573"
     },
     "user_tz": -330
    },
    "id": "YyGR19YiUvd7",
    "outputId": "f7ad6b67-0ae6-4c49-b4ac-1c003f0c9341"
   },
   "outputs": [
    {
     "data": {
      "text/plain": [
       "array([[[0., 0.],\n",
       "        [0., 0.],\n",
       "        [0., 0.]],\n",
       "\n",
       "       [[0., 0.],\n",
       "        [0., 0.],\n",
       "        [0., 0.]]])"
      ]
     },
     "execution_count": 21,
     "metadata": {},
     "output_type": "execute_result"
    }
   ],
   "source": [
    "np.empty((2, 3, 2))"
   ]
  },
  {
   "cell_type": "code",
   "execution_count": 22,
   "metadata": {
    "colab": {
     "base_uri": "https://localhost:8080/",
     "height": 35
    },
    "colab_type": "code",
    "executionInfo": {
     "elapsed": 60301,
     "status": "ok",
     "timestamp": 1550685941312,
     "user": {
      "displayName": "Ana D",
      "photoUrl": "",
      "userId": "13952176772373622573"
     },
     "user_tz": -330
    },
    "id": "xOOxxnesUy4N",
    "outputId": "b5e017d3-8fa3-4b55-ca31-5da995a78846"
   },
   "outputs": [
    {
     "data": {
      "text/plain": [
       "array([ 0,  1,  2,  3,  4,  5,  6,  7,  8,  9, 10, 11, 12, 13, 14])"
      ]
     },
     "execution_count": 22,
     "metadata": {},
     "output_type": "execute_result"
    }
   ],
   "source": [
    "np.arange(15)"
   ]
  },
  {
   "cell_type": "markdown",
   "metadata": {
    "colab_type": "text",
    "id": "LCnszWapU4C3"
   },
   "source": [
    "# **np.asarray examples**"
   ]
  },
  {
   "cell_type": "code",
   "execution_count": 23,
   "metadata": {
    "colab": {
     "base_uri": "https://localhost:8080/",
     "height": 53
    },
    "colab_type": "code",
    "executionInfo": {
     "elapsed": 60135,
     "status": "ok",
     "timestamp": 1550685941325,
     "user": {
      "displayName": "Ana D",
      "photoUrl": "",
      "userId": "13952176772373622573"
     },
     "user_tz": -330
    },
    "id": "ST-BMTWUVDfT",
    "outputId": "77d7132b-9022-4a84-ff5c-68eef7cb2e8b"
   },
   "outputs": [
    {
     "name": "stdout",
     "output_type": "stream",
     "text": [
      "Input list:  [1, 3, 5, 7, 9]\n",
      "Output array from input list:  [1 3 5 7 9]\n"
     ]
    }
   ],
   "source": [
    "## List to array\n",
    "\n",
    "list_1 = [1, 3, 5, 7, 9]\n",
    "\n",
    "print(\"Input list: \", list_1)\n",
    "\n",
    "out_arr = np.asarray(list_1)\n",
    "print(\"Output array from input list: \", out_arr)"
   ]
  },
  {
   "cell_type": "code",
   "execution_count": 24,
   "metadata": {
    "colab": {
     "base_uri": "https://localhost:8080/",
     "height": 71
    },
    "colab_type": "code",
    "executionInfo": {
     "elapsed": 59956,
     "status": "ok",
     "timestamp": 1550685941337,
     "user": {
      "displayName": "Ana D",
      "photoUrl": "",
      "userId": "13952176772373622573"
     },
     "user_tz": -330
    },
    "id": "Cl19Q2LAVQYV",
    "outputId": "29f9e009-89ac-403b-ddba-dc62ef8e35b1"
   },
   "outputs": [
    {
     "name": "stdout",
     "output_type": "stream",
     "text": [
      "Input tuple:  ([1, 3, 9], [8, 2, 6])\n",
      "Output array from input tuple:  [[1 3 9]\n",
      " [8 2 6]]\n"
     ]
    }
   ],
   "source": [
    "## Tuple to array\n",
    "\n",
    "tuple_1 = ([1, 3, 9], [8, 2, 6])\n",
    "\n",
    "print(\"Input tuple: \", tuple_1)\n",
    "\n",
    "out_arr = np.asarray(tuple_1)\n",
    "print(\"Output array from input tuple: \", out_arr)"
   ]
  },
  {
   "cell_type": "markdown",
   "metadata": {
    "colab_type": "text",
    "id": "YpNA2HZ7VgT_"
   },
   "source": [
    "# **np.ones examples**"
   ]
  },
  {
   "cell_type": "code",
   "execution_count": 25,
   "metadata": {
    "colab": {
     "base_uri": "https://localhost:8080/",
     "height": 214
    },
    "colab_type": "code",
    "executionInfo": {
     "elapsed": 59783,
     "status": "ok",
     "timestamp": 1550685941364,
     "user": {
      "displayName": "Ana D",
      "photoUrl": "",
      "userId": "13952176772373622573"
     },
     "user_tz": -330
    },
    "id": "f4F4ayKQVlr4",
    "outputId": "972c78d5-0d44-4948-d076-ee4a62f2bd9b"
   },
   "outputs": [
    {
     "name": "stdout",
     "output_type": "stream",
     "text": [
      "Matrix b: \n",
      " [1 1]\n",
      "\n",
      "Matrix a: \n",
      " [[1 1]\n",
      " [1 1]]\n",
      "\n",
      "Matrix c: \n",
      " [[1. 1. 1.]\n",
      " [1. 1. 1.]\n",
      " [1. 1. 1.]]\n"
     ]
    }
   ],
   "source": [
    "b = np.ones(2, dtype = int)\n",
    "print(\"Matrix b: \\n\", b)\n",
    "\n",
    "a = np.ones([2, 2], dtype = int)\n",
    "print(\"\\nMatrix a: \\n\", a)\n",
    "\n",
    "c = np.ones([3, 3])\n",
    "print(\"\\nMatrix c: \\n\", c)"
   ]
  },
  {
   "cell_type": "markdown",
   "metadata": {
    "colab_type": "text",
    "id": "sB8enPfbV2B_"
   },
   "source": [
    "# **np.ones_like examples**"
   ]
  },
  {
   "cell_type": "code",
   "execution_count": 26,
   "metadata": {
    "colab": {},
    "colab_type": "code",
    "id": "M15RToUgV6pe"
   },
   "outputs": [],
   "source": [
    "x = np.arange(6)"
   ]
  },
  {
   "cell_type": "code",
   "execution_count": 27,
   "metadata": {
    "colab": {},
    "colab_type": "code",
    "id": "hhqPX0exV9b7"
   },
   "outputs": [],
   "source": [
    "x = x.reshape((2, 3))"
   ]
  },
  {
   "cell_type": "code",
   "execution_count": 28,
   "metadata": {
    "colab": {
     "base_uri": "https://localhost:8080/",
     "height": 53
    },
    "colab_type": "code",
    "executionInfo": {
     "elapsed": 59501,
     "status": "ok",
     "timestamp": 1550685941408,
     "user": {
      "displayName": "Ana D",
      "photoUrl": "",
      "userId": "13952176772373622573"
     },
     "user_tz": -330
    },
    "id": "jVQewxw8V_v3",
    "outputId": "844fc06a-bc9d-4b4b-a5e4-3e24598cdb2d"
   },
   "outputs": [
    {
     "data": {
      "text/plain": [
       "array([[0, 1, 2],\n",
       "       [3, 4, 5]])"
      ]
     },
     "execution_count": 28,
     "metadata": {},
     "output_type": "execute_result"
    }
   ],
   "source": [
    "x"
   ]
  },
  {
   "cell_type": "code",
   "execution_count": 29,
   "metadata": {
    "colab": {
     "base_uri": "https://localhost:8080/",
     "height": 53
    },
    "colab_type": "code",
    "executionInfo": {
     "elapsed": 58987,
     "status": "ok",
     "timestamp": 1550685941437,
     "user": {
      "displayName": "Ana D",
      "photoUrl": "",
      "userId": "13952176772373622573"
     },
     "user_tz": -330
    },
    "id": "Vh9bfptyWA8B",
    "outputId": "8bdc0892-10b7-4592-e0d0-ff0a31e3f0cd"
   },
   "outputs": [
    {
     "data": {
      "text/plain": [
       "array([[1, 1, 1],\n",
       "       [1, 1, 1]])"
      ]
     },
     "execution_count": 29,
     "metadata": {},
     "output_type": "execute_result"
    }
   ],
   "source": [
    "np.ones_like(x)"
   ]
  },
  {
   "cell_type": "code",
   "execution_count": 30,
   "metadata": {
    "colab": {
     "base_uri": "https://localhost:8080/",
     "height": 35
    },
    "colab_type": "code",
    "executionInfo": {
     "elapsed": 58732,
     "status": "ok",
     "timestamp": 1550685941449,
     "user": {
      "displayName": "Ana D",
      "photoUrl": "",
      "userId": "13952176772373622573"
     },
     "user_tz": -330
    },
    "id": "-_wMV7HFWDeD",
    "outputId": "2d17ecc0-8e16-467b-e83b-4cc6ba9f93b4"
   },
   "outputs": [
    {
     "data": {
      "text/plain": [
       "array([0., 1., 2.])"
      ]
     },
     "execution_count": 30,
     "metadata": {},
     "output_type": "execute_result"
    }
   ],
   "source": [
    "y = np.arange(3, dtype = float)\n",
    "y"
   ]
  },
  {
   "cell_type": "code",
   "execution_count": 31,
   "metadata": {
    "colab": {
     "base_uri": "https://localhost:8080/",
     "height": 35
    },
    "colab_type": "code",
    "executionInfo": {
     "elapsed": 58523,
     "status": "ok",
     "timestamp": 1550685941466,
     "user": {
      "displayName": "Ana D",
      "photoUrl": "",
      "userId": "13952176772373622573"
     },
     "user_tz": -330
    },
    "id": "40e67M3OWGjd",
    "outputId": "6f6617c3-0ad0-426d-b11a-53f74f3ab86d"
   },
   "outputs": [
    {
     "data": {
      "text/plain": [
       "array([1., 1., 1.])"
      ]
     },
     "execution_count": 31,
     "metadata": {},
     "output_type": "execute_result"
    }
   ],
   "source": [
    "np.ones_like(y)"
   ]
  },
  {
   "cell_type": "markdown",
   "metadata": {
    "colab_type": "text",
    "id": "JD9PDEBeWNXQ"
   },
   "source": [
    "# **np.zeros_like examples**"
   ]
  },
  {
   "cell_type": "code",
   "execution_count": 32,
   "metadata": {
    "colab": {},
    "colab_type": "code",
    "id": "15RPyczjWTRp"
   },
   "outputs": [],
   "source": [
    "x = np.arange(6)"
   ]
  },
  {
   "cell_type": "code",
   "execution_count": 33,
   "metadata": {
    "colab": {},
    "colab_type": "code",
    "id": "6rJJQp3PWjuC"
   },
   "outputs": [],
   "source": [
    "x = x.reshape((2, 3))"
   ]
  },
  {
   "cell_type": "code",
   "execution_count": 34,
   "metadata": {
    "colab": {
     "base_uri": "https://localhost:8080/",
     "height": 53
    },
    "colab_type": "code",
    "executionInfo": {
     "elapsed": 58153,
     "status": "ok",
     "timestamp": 1550685941492,
     "user": {
      "displayName": "Ana D",
      "photoUrl": "",
      "userId": "13952176772373622573"
     },
     "user_tz": -330
    },
    "id": "-liD_t1wWl5E",
    "outputId": "c4eaa26e-ae71-4907-d17d-148503a1b86e"
   },
   "outputs": [
    {
     "data": {
      "text/plain": [
       "array([[0, 1, 2],\n",
       "       [3, 4, 5]])"
      ]
     },
     "execution_count": 34,
     "metadata": {},
     "output_type": "execute_result"
    }
   ],
   "source": [
    "x"
   ]
  },
  {
   "cell_type": "code",
   "execution_count": 35,
   "metadata": {
    "colab": {
     "base_uri": "https://localhost:8080/",
     "height": 53
    },
    "colab_type": "code",
    "executionInfo": {
     "elapsed": 57919,
     "status": "ok",
     "timestamp": 1550685941505,
     "user": {
      "displayName": "Ana D",
      "photoUrl": "",
      "userId": "13952176772373622573"
     },
     "user_tz": -330
    },
    "id": "Mxu4iTUNWmk3",
    "outputId": "958933b2-dd4c-4057-d550-e7bbe2a75a8b"
   },
   "outputs": [
    {
     "data": {
      "text/plain": [
       "array([[0, 0, 0],\n",
       "       [0, 0, 0]])"
      ]
     },
     "execution_count": 35,
     "metadata": {},
     "output_type": "execute_result"
    }
   ],
   "source": [
    "np.zeros_like(x)"
   ]
  },
  {
   "cell_type": "code",
   "execution_count": 36,
   "metadata": {
    "colab": {
     "base_uri": "https://localhost:8080/",
     "height": 35
    },
    "colab_type": "code",
    "executionInfo": {
     "elapsed": 57689,
     "status": "ok",
     "timestamp": 1550685941513,
     "user": {
      "displayName": "Ana D",
      "photoUrl": "",
      "userId": "13952176772373622573"
     },
     "user_tz": -330
    },
    "id": "6qoTjZNXWopY",
    "outputId": "dfe1acf6-bf7b-4e32-8e36-85fd948f3859"
   },
   "outputs": [
    {
     "data": {
      "text/plain": [
       "array([0., 1., 2.])"
      ]
     },
     "execution_count": 36,
     "metadata": {},
     "output_type": "execute_result"
    }
   ],
   "source": [
    "y = np.arange(3, dtype = float)\n",
    "y"
   ]
  },
  {
   "cell_type": "code",
   "execution_count": 37,
   "metadata": {
    "colab": {
     "base_uri": "https://localhost:8080/",
     "height": 35
    },
    "colab_type": "code",
    "executionInfo": {
     "elapsed": 57431,
     "status": "ok",
     "timestamp": 1550685941532,
     "user": {
      "displayName": "Ana D",
      "photoUrl": "",
      "userId": "13952176772373622573"
     },
     "user_tz": -330
    },
    "id": "SxdATH2VWroX",
    "outputId": "906bf657-76be-448a-c854-96f31de0dfe5"
   },
   "outputs": [
    {
     "data": {
      "text/plain": [
       "array([0., 0., 0.])"
      ]
     },
     "execution_count": 37,
     "metadata": {},
     "output_type": "execute_result"
    }
   ],
   "source": [
    "np.zeros_like(y)"
   ]
  },
  {
   "cell_type": "markdown",
   "metadata": {
    "colab_type": "text",
    "id": "5Ln388UtXBzd"
   },
   "source": [
    "# **np.empty_like examples**"
   ]
  },
  {
   "cell_type": "code",
   "execution_count": 38,
   "metadata": {
    "colab": {},
    "colab_type": "code",
    "id": "LcoHb2FWWt_A"
   },
   "outputs": [],
   "source": [
    "a = ([1, 2, 3], [4, 5, 6])"
   ]
  },
  {
   "cell_type": "code",
   "execution_count": 39,
   "metadata": {
    "colab": {
     "base_uri": "https://localhost:8080/",
     "height": 53
    },
    "colab_type": "code",
    "executionInfo": {
     "elapsed": 57162,
     "status": "ok",
     "timestamp": 1550685941581,
     "user": {
      "displayName": "Ana D",
      "photoUrl": "",
      "userId": "13952176772373622573"
     },
     "user_tz": -330
    },
    "id": "lMrapM_yXI9Y",
    "outputId": "78834e7d-da60-4b4b-b8ce-e55a90fc19a8"
   },
   "outputs": [
    {
     "data": {
      "text/plain": [
       "array([[0, 0, 0],\n",
       "       [0, 0, 0]])"
      ]
     },
     "execution_count": 39,
     "metadata": {},
     "output_type": "execute_result"
    }
   ],
   "source": [
    "np.empty_like(a)"
   ]
  },
  {
   "cell_type": "code",
   "execution_count": 40,
   "metadata": {
    "colab": {},
    "colab_type": "code",
    "id": "AF5z6V6GXK26"
   },
   "outputs": [],
   "source": [
    "a = np.array([[1., 2., 3.], [4., 5., 6.]])"
   ]
  },
  {
   "cell_type": "code",
   "execution_count": 41,
   "metadata": {
    "colab": {
     "base_uri": "https://localhost:8080/",
     "height": 53
    },
    "colab_type": "code",
    "executionInfo": {
     "elapsed": 56917,
     "status": "ok",
     "timestamp": 1550685941613,
     "user": {
      "displayName": "Ana D",
      "photoUrl": "",
      "userId": "13952176772373622573"
     },
     "user_tz": -330
    },
    "id": "BQBQiKhBXRiJ",
    "outputId": "4e25019d-d677-452f-9b61-889b4b8f1b83"
   },
   "outputs": [
    {
     "data": {
      "text/plain": [
       "array([[ 0.42418882, -3.51180288, -0.09492357],\n",
       "       [ 1.67098451,  1.44197743,  1.34668616]])"
      ]
     },
     "execution_count": 41,
     "metadata": {},
     "output_type": "execute_result"
    }
   ],
   "source": [
    "np.empty_like(a)"
   ]
  },
  {
   "cell_type": "markdown",
   "metadata": {
    "colab_type": "text",
    "id": "T5uKPeN5Xfte"
   },
   "source": [
    "# **np.full examples**"
   ]
  },
  {
   "cell_type": "code",
   "execution_count": 42,
   "metadata": {
    "colab": {
     "base_uri": "https://localhost:8080/",
     "height": 53
    },
    "colab_type": "code",
    "executionInfo": {
     "elapsed": 56686,
     "status": "ok",
     "timestamp": 1550685941626,
     "user": {
      "displayName": "Ana D",
      "photoUrl": "",
      "userId": "13952176772373622573"
     },
     "user_tz": -330
    },
    "id": "wke6R-5vXTDQ",
    "outputId": "f703eec6-2b5b-4f67-af68-bac9da660b22"
   },
   "outputs": [
    {
     "data": {
      "text/plain": [
       "array([[inf, inf],\n",
       "       [inf, inf]])"
      ]
     },
     "execution_count": 42,
     "metadata": {},
     "output_type": "execute_result"
    }
   ],
   "source": [
    "np.full((2, 2), np.inf)"
   ]
  },
  {
   "cell_type": "code",
   "execution_count": 43,
   "metadata": {
    "colab": {
     "base_uri": "https://localhost:8080/",
     "height": 53
    },
    "colab_type": "code",
    "executionInfo": {
     "elapsed": 56523,
     "status": "ok",
     "timestamp": 1550685941675,
     "user": {
      "displayName": "Ana D",
      "photoUrl": "",
      "userId": "13952176772373622573"
     },
     "user_tz": -330
    },
    "id": "BDKcdX8YXlU8",
    "outputId": "333c0012-5b9b-46d0-b94a-71898b048b22"
   },
   "outputs": [
    {
     "data": {
      "text/plain": [
       "array([[10, 10],\n",
       "       [10, 10]])"
      ]
     },
     "execution_count": 43,
     "metadata": {},
     "output_type": "execute_result"
    }
   ],
   "source": [
    "np.full((2, 2), 10)"
   ]
  },
  {
   "cell_type": "markdown",
   "metadata": {
    "colab_type": "text",
    "id": "3ykEpN64ZFhI"
   },
   "source": [
    "# **np.full_like examples**"
   ]
  },
  {
   "cell_type": "code",
   "execution_count": 44,
   "metadata": {
    "colab": {},
    "colab_type": "code",
    "id": "LQjMj4kAXn6G"
   },
   "outputs": [],
   "source": [
    "x = np.arange(6, dtype = int)"
   ]
  },
  {
   "cell_type": "code",
   "execution_count": 45,
   "metadata": {
    "colab": {
     "base_uri": "https://localhost:8080/",
     "height": 35
    },
    "colab_type": "code",
    "executionInfo": {
     "elapsed": 56292,
     "status": "ok",
     "timestamp": 1550685941727,
     "user": {
      "displayName": "Ana D",
      "photoUrl": "",
      "userId": "13952176772373622573"
     },
     "user_tz": -330
    },
    "id": "sQHe1CrRZMtF",
    "outputId": "5bafa8c0-c5c4-47f1-afa7-9a5d54df2407"
   },
   "outputs": [
    {
     "data": {
      "text/plain": [
       "array([1, 1, 1, 1, 1, 1])"
      ]
     },
     "execution_count": 45,
     "metadata": {},
     "output_type": "execute_result"
    }
   ],
   "source": [
    "np.full_like(x, 1)"
   ]
  },
  {
   "cell_type": "code",
   "execution_count": 46,
   "metadata": {
    "colab": {
     "base_uri": "https://localhost:8080/",
     "height": 35
    },
    "colab_type": "code",
    "executionInfo": {
     "elapsed": 56080,
     "status": "ok",
     "timestamp": 1550685941740,
     "user": {
      "displayName": "Ana D",
      "photoUrl": "",
      "userId": "13952176772373622573"
     },
     "user_tz": -330
    },
    "id": "GImzxdIBZO0L",
    "outputId": "31c94dd1-210d-4d66-dd40-3a7876045891"
   },
   "outputs": [
    {
     "data": {
      "text/plain": [
       "array([0, 0, 0, 0, 0, 0])"
      ]
     },
     "execution_count": 46,
     "metadata": {},
     "output_type": "execute_result"
    }
   ],
   "source": [
    "np.full_like(x, 0.1)"
   ]
  },
  {
   "cell_type": "code",
   "execution_count": 47,
   "metadata": {
    "colab": {
     "base_uri": "https://localhost:8080/",
     "height": 35
    },
    "colab_type": "code",
    "executionInfo": {
     "elapsed": 55887,
     "status": "ok",
     "timestamp": 1550685941760,
     "user": {
      "displayName": "Ana D",
      "photoUrl": "",
      "userId": "13952176772373622573"
     },
     "user_tz": -330
    },
    "id": "YRB2g6wrZSXp",
    "outputId": "704d300a-c04e-45b0-f8fc-af4aba4bdef4"
   },
   "outputs": [
    {
     "data": {
      "text/plain": [
       "array([0.1, 0.1, 0.1, 0.1, 0.1, 0.1])"
      ]
     },
     "execution_count": 47,
     "metadata": {},
     "output_type": "execute_result"
    }
   ],
   "source": [
    "np.full_like(x, 0.1, dtype = np.double)"
   ]
  },
  {
   "cell_type": "code",
   "execution_count": 48,
   "metadata": {
    "colab": {
     "base_uri": "https://localhost:8080/",
     "height": 35
    },
    "colab_type": "code",
    "executionInfo": {
     "elapsed": 55633,
     "status": "ok",
     "timestamp": 1550685941771,
     "user": {
      "displayName": "Ana D",
      "photoUrl": "",
      "userId": "13952176772373622573"
     },
     "user_tz": -330
    },
    "id": "P1EudVddZWr5",
    "outputId": "3d6447fb-b881-432d-a317-334f67993315"
   },
   "outputs": [
    {
     "data": {
      "text/plain": [
       "array([nan, nan, nan, nan, nan, nan])"
      ]
     },
     "execution_count": 48,
     "metadata": {},
     "output_type": "execute_result"
    }
   ],
   "source": [
    "np.full_like(x, np.nan, dtype = np.double)"
   ]
  },
  {
   "cell_type": "code",
   "execution_count": 49,
   "metadata": {
    "colab": {},
    "colab_type": "code",
    "id": "0xzNTD9dZi9w"
   },
   "outputs": [],
   "source": [
    "y = np.arange(6, dtype = np.double)"
   ]
  },
  {
   "cell_type": "code",
   "execution_count": 50,
   "metadata": {
    "colab": {
     "base_uri": "https://localhost:8080/",
     "height": 35
    },
    "colab_type": "code",
    "executionInfo": {
     "elapsed": 55364,
     "status": "ok",
     "timestamp": 1550685941842,
     "user": {
      "displayName": "Ana D",
      "photoUrl": "",
      "userId": "13952176772373622573"
     },
     "user_tz": -330
    },
    "id": "Q-R_qc10Zmeo",
    "outputId": "ebad31f1-f27b-4845-b6bb-e59b41aead2b"
   },
   "outputs": [
    {
     "data": {
      "text/plain": [
       "array([0.1, 0.1, 0.1, 0.1, 0.1, 0.1])"
      ]
     },
     "execution_count": 50,
     "metadata": {},
     "output_type": "execute_result"
    }
   ],
   "source": [
    "np.full_like(y, 0.1)"
   ]
  },
  {
   "cell_type": "markdown",
   "metadata": {
    "colab_type": "text",
    "id": "Tj6ucdvwZ58I"
   },
   "source": [
    "# **np.eye examples**"
   ]
  },
  {
   "cell_type": "code",
   "execution_count": 51,
   "metadata": {
    "colab": {
     "base_uri": "https://localhost:8080/",
     "height": 53
    },
    "colab_type": "code",
    "executionInfo": {
     "elapsed": 55165,
     "status": "ok",
     "timestamp": 1550685941853,
     "user": {
      "displayName": "Ana D",
      "photoUrl": "",
      "userId": "13952176772373622573"
     },
     "user_tz": -330
    },
    "id": "c83ISOi3Zqv8",
    "outputId": "b6b31981-ca1e-4d9a-ed0e-45ccc044e764"
   },
   "outputs": [
    {
     "data": {
      "text/plain": [
       "array([[1, 0],\n",
       "       [0, 1]])"
      ]
     },
     "execution_count": 51,
     "metadata": {},
     "output_type": "execute_result"
    }
   ],
   "source": [
    "np.eye(2, dtype = int)"
   ]
  },
  {
   "cell_type": "code",
   "execution_count": 52,
   "metadata": {
    "colab": {
     "base_uri": "https://localhost:8080/",
     "height": 71
    },
    "colab_type": "code",
    "executionInfo": {
     "elapsed": 54951,
     "status": "ok",
     "timestamp": 1550685941871,
     "user": {
      "displayName": "Ana D",
      "photoUrl": "",
      "userId": "13952176772373622573"
     },
     "user_tz": -330
    },
    "id": "4w0gUtzHaAzb",
    "outputId": "ef6961d2-2f74-4b90-9177-1a77b463eef0"
   },
   "outputs": [
    {
     "data": {
      "text/plain": [
       "array([[0., 1., 0.],\n",
       "       [0., 0., 1.],\n",
       "       [0., 0., 0.]])"
      ]
     },
     "execution_count": 52,
     "metadata": {},
     "output_type": "execute_result"
    }
   ],
   "source": [
    "np.eye(3, k = 1)"
   ]
  },
  {
   "cell_type": "markdown",
   "metadata": {
    "colab_type": "text",
    "id": "T-aP1Gs9afK0"
   },
   "source": [
    "# **np.identity examples**"
   ]
  },
  {
   "cell_type": "code",
   "execution_count": 53,
   "metadata": {
    "colab": {
     "base_uri": "https://localhost:8080/",
     "height": 71
    },
    "colab_type": "code",
    "executionInfo": {
     "elapsed": 54719,
     "status": "ok",
     "timestamp": 1550685941892,
     "user": {
      "displayName": "Ana D",
      "photoUrl": "",
      "userId": "13952176772373622573"
     },
     "user_tz": -330
    },
    "id": "OUJqk51-aDHm",
    "outputId": "0deaae8f-6b08-4932-de4b-bb5a5846055d"
   },
   "outputs": [
    {
     "data": {
      "text/plain": [
       "array([[1., 0., 0.],\n",
       "       [0., 1., 0.],\n",
       "       [0., 0., 1.]])"
      ]
     },
     "execution_count": 53,
     "metadata": {},
     "output_type": "execute_result"
    }
   ],
   "source": [
    "np.identity(3)"
   ]
  },
  {
   "cell_type": "markdown",
   "metadata": {
    "colab_type": "text",
    "id": "3zKUmqzEaw4N"
   },
   "source": [
    "## Back to book examples"
   ]
  },
  {
   "cell_type": "code",
   "execution_count": 54,
   "metadata": {
    "colab": {},
    "colab_type": "code",
    "id": "nJ2szke6arG2"
   },
   "outputs": [],
   "source": [
    "arr1 = np.array([1, 2, 3], dtype = np.float64)"
   ]
  },
  {
   "cell_type": "code",
   "execution_count": 55,
   "metadata": {
    "colab": {},
    "colab_type": "code",
    "id": "avGp_LS6bOW0"
   },
   "outputs": [],
   "source": [
    "arr2 = np.array([1, 2, 3], dtype = np.int32)"
   ]
  },
  {
   "cell_type": "code",
   "execution_count": 56,
   "metadata": {
    "colab": {
     "base_uri": "https://localhost:8080/",
     "height": 35
    },
    "colab_type": "code",
    "executionInfo": {
     "elapsed": 54334,
     "status": "ok",
     "timestamp": 1550685941948,
     "user": {
      "displayName": "Ana D",
      "photoUrl": "",
      "userId": "13952176772373622573"
     },
     "user_tz": -330
    },
    "id": "vxdiZx3nbTT-",
    "outputId": "2b1ab950-9053-49d0-bc3c-2c74beefe716"
   },
   "outputs": [
    {
     "data": {
      "text/plain": [
       "dtype('float64')"
      ]
     },
     "execution_count": 56,
     "metadata": {},
     "output_type": "execute_result"
    }
   ],
   "source": [
    "arr1.dtype"
   ]
  },
  {
   "cell_type": "code",
   "execution_count": 57,
   "metadata": {
    "colab": {
     "base_uri": "https://localhost:8080/",
     "height": 35
    },
    "colab_type": "code",
    "executionInfo": {
     "elapsed": 54146,
     "status": "ok",
     "timestamp": 1550685941965,
     "user": {
      "displayName": "Ana D",
      "photoUrl": "",
      "userId": "13952176772373622573"
     },
     "user_tz": -330
    },
    "id": "d0cdF0nLbcrA",
    "outputId": "a24cf402-441b-42ab-bddb-562c1ebec94f"
   },
   "outputs": [
    {
     "data": {
      "text/plain": [
       "dtype('int32')"
      ]
     },
     "execution_count": 57,
     "metadata": {},
     "output_type": "execute_result"
    }
   ],
   "source": [
    "arr2.dtype"
   ]
  },
  {
   "cell_type": "markdown",
   "metadata": {
    "colab_type": "text",
    "id": "TC5L4FBNb80L"
   },
   "source": [
    "## np.astype examples"
   ]
  },
  {
   "cell_type": "code",
   "execution_count": 58,
   "metadata": {
    "colab": {},
    "colab_type": "code",
    "id": "OK98bTQVbj3H"
   },
   "outputs": [],
   "source": [
    "arr = np.array([1, 2, 3, 4, 5])"
   ]
  },
  {
   "cell_type": "code",
   "execution_count": 59,
   "metadata": {
    "colab": {
     "base_uri": "https://localhost:8080/",
     "height": 35
    },
    "colab_type": "code",
    "executionInfo": {
     "elapsed": 53899,
     "status": "ok",
     "timestamp": 1550685941999,
     "user": {
      "displayName": "Ana D",
      "photoUrl": "",
      "userId": "13952176772373622573"
     },
     "user_tz": -330
    },
    "id": "CMXaFWKMcIMk",
    "outputId": "e4aa93d9-90a4-4609-d273-ecf4ecd7fb50"
   },
   "outputs": [
    {
     "data": {
      "text/plain": [
       "dtype('int32')"
      ]
     },
     "execution_count": 59,
     "metadata": {},
     "output_type": "execute_result"
    }
   ],
   "source": [
    "arr.dtype"
   ]
  },
  {
   "cell_type": "code",
   "execution_count": 60,
   "metadata": {
    "colab": {},
    "colab_type": "code",
    "id": "g1ecfMLzcJfO"
   },
   "outputs": [],
   "source": [
    "float_arr = arr.astype(np.float64)"
   ]
  },
  {
   "cell_type": "code",
   "execution_count": 61,
   "metadata": {
    "colab": {
     "base_uri": "https://localhost:8080/",
     "height": 35
    },
    "colab_type": "code",
    "executionInfo": {
     "elapsed": 53666,
     "status": "ok",
     "timestamp": 1550685942028,
     "user": {
      "displayName": "Ana D",
      "photoUrl": "",
      "userId": "13952176772373622573"
     },
     "user_tz": -330
    },
    "id": "8JRLV2IOcNXj",
    "outputId": "8475ae38-a883-4557-be3e-52e40af5ff10"
   },
   "outputs": [
    {
     "data": {
      "text/plain": [
       "dtype('float64')"
      ]
     },
     "execution_count": 61,
     "metadata": {},
     "output_type": "execute_result"
    }
   ],
   "source": [
    "float_arr.dtype"
   ]
  },
  {
   "cell_type": "code",
   "execution_count": 62,
   "metadata": {
    "colab": {
     "base_uri": "https://localhost:8080/",
     "height": 35
    },
    "colab_type": "code",
    "executionInfo": {
     "elapsed": 53509,
     "status": "ok",
     "timestamp": 1550685942078,
     "user": {
      "displayName": "Ana D",
      "photoUrl": "",
      "userId": "13952176772373622573"
     },
     "user_tz": -330
    },
    "id": "mFa5Mm6ycPa6",
    "outputId": "4a374725-9b0e-48b7-f260-eeb0b47f323a"
   },
   "outputs": [
    {
     "data": {
      "text/plain": [
       "array([ 3.7, -1.2, -2.6,  0.5, 12.9, 10.1])"
      ]
     },
     "execution_count": 62,
     "metadata": {},
     "output_type": "execute_result"
    }
   ],
   "source": [
    "arr = np.array([3.7, -1.2, -2.6, 0.5, 12.9, 10.1])\n",
    "arr"
   ]
  },
  {
   "cell_type": "code",
   "execution_count": 63,
   "metadata": {
    "colab": {
     "base_uri": "https://localhost:8080/",
     "height": 35
    },
    "colab_type": "code",
    "executionInfo": {
     "elapsed": 53257,
     "status": "ok",
     "timestamp": 1550685942089,
     "user": {
      "displayName": "Ana D",
      "photoUrl": "",
      "userId": "13952176772373622573"
     },
     "user_tz": -330
    },
    "id": "t0Th4Fmacgnc",
    "outputId": "67f17d86-4412-4690-ec99-d602c2025d95"
   },
   "outputs": [
    {
     "data": {
      "text/plain": [
       "array([ 3, -1, -2,  0, 12, 10])"
      ]
     },
     "execution_count": 63,
     "metadata": {},
     "output_type": "execute_result"
    }
   ],
   "source": [
    "arr.astype(np.int32)"
   ]
  },
  {
   "cell_type": "code",
   "execution_count": 64,
   "metadata": {
    "colab": {},
    "colab_type": "code",
    "id": "lDtyXRtpcjMg"
   },
   "outputs": [],
   "source": [
    "numeric_strings = np.array(['1.25', '-9.6', '42'], dtype = np.string_)"
   ]
  },
  {
   "cell_type": "code",
   "execution_count": 65,
   "metadata": {
    "colab": {
     "base_uri": "https://localhost:8080/",
     "height": 35
    },
    "colab_type": "code",
    "executionInfo": {
     "elapsed": 52973,
     "status": "ok",
     "timestamp": 1550685942143,
     "user": {
      "displayName": "Ana D",
      "photoUrl": "",
      "userId": "13952176772373622573"
     },
     "user_tz": -330
    },
    "id": "aUyBkiqec6BH",
    "outputId": "31e49485-418a-49aa-f804-20571fa07d43"
   },
   "outputs": [
    {
     "data": {
      "text/plain": [
       "array([ 1.25, -9.6 , 42.  ])"
      ]
     },
     "execution_count": 65,
     "metadata": {},
     "output_type": "execute_result"
    }
   ],
   "source": [
    "numeric_strings.astype(float)"
   ]
  },
  {
   "cell_type": "code",
   "execution_count": 66,
   "metadata": {
    "colab": {},
    "colab_type": "code",
    "id": "OOPEMZBzc-oP"
   },
   "outputs": [],
   "source": [
    "int_array = np.arange(10)"
   ]
  },
  {
   "cell_type": "code",
   "execution_count": 67,
   "metadata": {
    "colab": {},
    "colab_type": "code",
    "id": "-6B70_bgdMsx"
   },
   "outputs": [],
   "source": [
    "calibers = np.array([.22, .270, .357, .380, .44, .50], \n",
    "                    dtype = np.float64)"
   ]
  },
  {
   "cell_type": "code",
   "execution_count": 68,
   "metadata": {
    "colab": {
     "base_uri": "https://localhost:8080/",
     "height": 35
    },
    "colab_type": "code",
    "executionInfo": {
     "elapsed": 52585,
     "status": "ok",
     "timestamp": 1550685942188,
     "user": {
      "displayName": "Ana D",
      "photoUrl": "",
      "userId": "13952176772373622573"
     },
     "user_tz": -330
    },
    "id": "ETBU1kGodXEL",
    "outputId": "815a1bfa-5d76-46b8-e2b3-9c150548b361"
   },
   "outputs": [
    {
     "data": {
      "text/plain": [
       "array([0., 1., 2., 3., 4., 5., 6., 7., 8., 9.])"
      ]
     },
     "execution_count": 68,
     "metadata": {},
     "output_type": "execute_result"
    }
   ],
   "source": [
    "int_array.astype(calibers.dtype)"
   ]
  },
  {
   "cell_type": "code",
   "execution_count": 69,
   "metadata": {
    "colab": {
     "base_uri": "https://localhost:8080/",
     "height": 53
    },
    "colab_type": "code",
    "executionInfo": {
     "elapsed": 52369,
     "status": "ok",
     "timestamp": 1550685942198,
     "user": {
      "displayName": "Ana D",
      "photoUrl": "",
      "userId": "13952176772373622573"
     },
     "user_tz": -330
    },
    "id": "uCj8fdAjdbAt",
    "outputId": "8225bc8a-4d3d-457e-88c3-95516b21d922"
   },
   "outputs": [
    {
     "data": {
      "text/plain": [
       "array([         0, 2146435072,          0, 2146435072,          0,\n",
       "       2146435072,          0, 2146435072], dtype=uint32)"
      ]
     },
     "execution_count": 69,
     "metadata": {},
     "output_type": "execute_result"
    }
   ],
   "source": [
    "empty_uint32 = np.empty(8, dtype = 'u4')\n",
    "empty_uint32"
   ]
  },
  {
   "cell_type": "markdown",
   "metadata": {
    "colab_type": "text",
    "id": "-sHeeaZqeGq2"
   },
   "source": [
    "## Arithmetic with Numpy arrays"
   ]
  },
  {
   "cell_type": "code",
   "execution_count": 70,
   "metadata": {
    "colab": {
     "base_uri": "https://localhost:8080/",
     "height": 53
    },
    "colab_type": "code",
    "executionInfo": {
     "elapsed": 52142,
     "status": "ok",
     "timestamp": 1550685942206,
     "user": {
      "displayName": "Ana D",
      "photoUrl": "",
      "userId": "13952176772373622573"
     },
     "user_tz": -330
    },
    "id": "iEEr8GPDd6Yr",
    "outputId": "37fb7804-84c8-4c2c-ec11-b61b1daf048b"
   },
   "outputs": [
    {
     "data": {
      "text/plain": [
       "array([[1., 2., 3.],\n",
       "       [4., 5., 6.]])"
      ]
     },
     "execution_count": 70,
     "metadata": {},
     "output_type": "execute_result"
    }
   ],
   "source": [
    "arr = np.array([[1., 2., 3.], [4., 5., 6.]])\n",
    "arr"
   ]
  },
  {
   "cell_type": "code",
   "execution_count": 71,
   "metadata": {
    "colab": {
     "base_uri": "https://localhost:8080/",
     "height": 53
    },
    "colab_type": "code",
    "executionInfo": {
     "elapsed": 51923,
     "status": "ok",
     "timestamp": 1550685942215,
     "user": {
      "displayName": "Ana D",
      "photoUrl": "",
      "userId": "13952176772373622573"
     },
     "user_tz": -330
    },
    "id": "-X2NN0BEv2tD",
    "outputId": "d8613829-1f28-4937-c942-d2cf4924a30f"
   },
   "outputs": [
    {
     "data": {
      "text/plain": [
       "array([[ 1.,  4.,  9.],\n",
       "       [16., 25., 36.]])"
      ]
     },
     "execution_count": 71,
     "metadata": {},
     "output_type": "execute_result"
    }
   ],
   "source": [
    "arr * arr"
   ]
  },
  {
   "cell_type": "code",
   "execution_count": 72,
   "metadata": {
    "colab": {
     "base_uri": "https://localhost:8080/",
     "height": 53
    },
    "colab_type": "code",
    "executionInfo": {
     "elapsed": 51721,
     "status": "ok",
     "timestamp": 1550685942227,
     "user": {
      "displayName": "Ana D",
      "photoUrl": "",
      "userId": "13952176772373622573"
     },
     "user_tz": -330
    },
    "id": "llX3iuAKv6nC",
    "outputId": "c73b66d0-1db5-4971-ca00-0665a677ee85"
   },
   "outputs": [
    {
     "data": {
      "text/plain": [
       "array([[0., 0., 0.],\n",
       "       [0., 0., 0.]])"
      ]
     },
     "execution_count": 72,
     "metadata": {},
     "output_type": "execute_result"
    }
   ],
   "source": [
    "arr - arr"
   ]
  },
  {
   "cell_type": "code",
   "execution_count": 73,
   "metadata": {
    "colab": {
     "base_uri": "https://localhost:8080/",
     "height": 53
    },
    "colab_type": "code",
    "executionInfo": {
     "elapsed": 51548,
     "status": "ok",
     "timestamp": 1550685942262,
     "user": {
      "displayName": "Ana D",
      "photoUrl": "",
      "userId": "13952176772373622573"
     },
     "user_tz": -330
    },
    "id": "K5hSS3Mkv89c",
    "outputId": "8c37cf21-ff2f-418a-b911-46b6b106a344"
   },
   "outputs": [
    {
     "data": {
      "text/plain": [
       "array([[1.        , 0.5       , 0.33333333],\n",
       "       [0.25      , 0.2       , 0.16666667]])"
      ]
     },
     "execution_count": 73,
     "metadata": {},
     "output_type": "execute_result"
    }
   ],
   "source": [
    "1 / arr"
   ]
  },
  {
   "cell_type": "code",
   "execution_count": 74,
   "metadata": {
    "colab": {
     "base_uri": "https://localhost:8080/",
     "height": 53
    },
    "colab_type": "code",
    "executionInfo": {
     "elapsed": 51350,
     "status": "ok",
     "timestamp": 1550685942271,
     "user": {
      "displayName": "Ana D",
      "photoUrl": "",
      "userId": "13952176772373622573"
     },
     "user_tz": -330
    },
    "id": "vNbWDzTBwHK-",
    "outputId": "84525cc0-190c-4a8f-8e3e-0803f7fa615f"
   },
   "outputs": [
    {
     "data": {
      "text/plain": [
       "array([[1.        , 1.41421356, 1.73205081],\n",
       "       [2.        , 2.23606798, 2.44948974]])"
      ]
     },
     "execution_count": 74,
     "metadata": {},
     "output_type": "execute_result"
    }
   ],
   "source": [
    "arr ** 0.5"
   ]
  },
  {
   "cell_type": "code",
   "execution_count": 75,
   "metadata": {
    "colab": {
     "base_uri": "https://localhost:8080/",
     "height": 53
    },
    "colab_type": "code",
    "executionInfo": {
     "elapsed": 51155,
     "status": "ok",
     "timestamp": 1550685942283,
     "user": {
      "displayName": "Ana D",
      "photoUrl": "",
      "userId": "13952176772373622573"
     },
     "user_tz": -330
    },
    "id": "1J7foXLbwJw7",
    "outputId": "ac315da2-3f8a-4dcc-ce22-8297d9a36505"
   },
   "outputs": [
    {
     "data": {
      "text/plain": [
       "array([[ 0.,  4.,  1.],\n",
       "       [ 7.,  2., 12.]])"
      ]
     },
     "execution_count": 75,
     "metadata": {},
     "output_type": "execute_result"
    }
   ],
   "source": [
    "arr2 = np.array([[0., 4., 1.], [7., 2., 12.]])\n",
    "arr2"
   ]
  },
  {
   "cell_type": "code",
   "execution_count": 76,
   "metadata": {
    "colab": {
     "base_uri": "https://localhost:8080/",
     "height": 53
    },
    "colab_type": "code",
    "executionInfo": {
     "elapsed": 50980,
     "status": "ok",
     "timestamp": 1550685942304,
     "user": {
      "displayName": "Ana D",
      "photoUrl": "",
      "userId": "13952176772373622573"
     },
     "user_tz": -330
    },
    "id": "mpHKNMk0wRhU",
    "outputId": "48c02737-97f2-4054-f6a1-dbddc79befc9"
   },
   "outputs": [
    {
     "data": {
      "text/plain": [
       "array([[False,  True, False],\n",
       "       [ True, False,  True]])"
      ]
     },
     "execution_count": 76,
     "metadata": {},
     "output_type": "execute_result"
    }
   ],
   "source": [
    "arr2 > arr"
   ]
  },
  {
   "cell_type": "markdown",
   "metadata": {
    "colab_type": "text",
    "id": "jc005RiEo0cn"
   },
   "source": [
    "## Basic Indexing and Slicing"
   ]
  },
  {
   "cell_type": "code",
   "execution_count": 77,
   "metadata": {
    "colab": {
     "base_uri": "https://localhost:8080/",
     "height": 35
    },
    "colab_type": "code",
    "executionInfo": {
     "elapsed": 50776,
     "status": "ok",
     "timestamp": 1550685942311,
     "user": {
      "displayName": "Ana D",
      "photoUrl": "",
      "userId": "13952176772373622573"
     },
     "user_tz": -330
    },
    "id": "gxL_6x7Qoqxb",
    "outputId": "a767d653-6c58-45c4-cfa9-97d31d88986c"
   },
   "outputs": [
    {
     "data": {
      "text/plain": [
       "array([0, 1, 2, 3, 4, 5, 6, 7, 8, 9])"
      ]
     },
     "execution_count": 77,
     "metadata": {},
     "output_type": "execute_result"
    }
   ],
   "source": [
    "arr = np.arange(10)\n",
    "arr"
   ]
  },
  {
   "cell_type": "code",
   "execution_count": 78,
   "metadata": {
    "colab": {
     "base_uri": "https://localhost:8080/",
     "height": 35
    },
    "colab_type": "code",
    "executionInfo": {
     "elapsed": 50591,
     "status": "ok",
     "timestamp": 1550685942317,
     "user": {
      "displayName": "Ana D",
      "photoUrl": "",
      "userId": "13952176772373622573"
     },
     "user_tz": -330
    },
    "id": "c9eoZh9bo8_-",
    "outputId": "659cd75b-b4a0-4ead-cee6-0e4154089006"
   },
   "outputs": [
    {
     "data": {
      "text/plain": [
       "5"
      ]
     },
     "execution_count": 78,
     "metadata": {},
     "output_type": "execute_result"
    }
   ],
   "source": [
    "arr[5]"
   ]
  },
  {
   "cell_type": "code",
   "execution_count": 79,
   "metadata": {
    "colab": {
     "base_uri": "https://localhost:8080/",
     "height": 35
    },
    "colab_type": "code",
    "executionInfo": {
     "elapsed": 50404,
     "status": "ok",
     "timestamp": 1550685942325,
     "user": {
      "displayName": "Ana D",
      "photoUrl": "",
      "userId": "13952176772373622573"
     },
     "user_tz": -330
    },
    "id": "jLJUJNxmpNM0",
    "outputId": "93135844-aba9-4e8d-f19b-707628691e5f"
   },
   "outputs": [
    {
     "data": {
      "text/plain": [
       "array([5, 6, 7])"
      ]
     },
     "execution_count": 79,
     "metadata": {},
     "output_type": "execute_result"
    }
   ],
   "source": [
    "arr[5:8]"
   ]
  },
  {
   "cell_type": "code",
   "execution_count": 80,
   "metadata": {
    "colab": {},
    "colab_type": "code",
    "id": "azvO_rE5pPPY"
   },
   "outputs": [],
   "source": [
    "arr[5:8] = 12"
   ]
  },
  {
   "cell_type": "code",
   "execution_count": 81,
   "metadata": {
    "colab": {
     "base_uri": "https://localhost:8080/",
     "height": 35
    },
    "colab_type": "code",
    "executionInfo": {
     "elapsed": 50129,
     "status": "ok",
     "timestamp": 1550685942339,
     "user": {
      "displayName": "Ana D",
      "photoUrl": "",
      "userId": "13952176772373622573"
     },
     "user_tz": -330
    },
    "id": "SeZIr1VtpUCk",
    "outputId": "03fc3182-f31c-483f-adaa-d1a4bddd75e7"
   },
   "outputs": [
    {
     "data": {
      "text/plain": [
       "array([ 0,  1,  2,  3,  4, 12, 12, 12,  8,  9])"
      ]
     },
     "execution_count": 81,
     "metadata": {},
     "output_type": "execute_result"
    }
   ],
   "source": [
    "arr"
   ]
  },
  {
   "cell_type": "code",
   "execution_count": 82,
   "metadata": {
    "colab": {},
    "colab_type": "code",
    "id": "Q1KTCI-DpVFw"
   },
   "outputs": [],
   "source": [
    "arr_slice = arr[5:8]"
   ]
  },
  {
   "cell_type": "code",
   "execution_count": 83,
   "metadata": {
    "colab": {
     "base_uri": "https://localhost:8080/",
     "height": 35
    },
    "colab_type": "code",
    "executionInfo": {
     "elapsed": 49895,
     "status": "ok",
     "timestamp": 1550685942352,
     "user": {
      "displayName": "Ana D",
      "photoUrl": "",
      "userId": "13952176772373622573"
     },
     "user_tz": -330
    },
    "id": "WTqzsLAypcv4",
    "outputId": "046a23f6-084d-4e14-c308-ffc7fa3b4290"
   },
   "outputs": [
    {
     "data": {
      "text/plain": [
       "array([12, 12, 12])"
      ]
     },
     "execution_count": 83,
     "metadata": {},
     "output_type": "execute_result"
    }
   ],
   "source": [
    "arr_slice"
   ]
  },
  {
   "cell_type": "code",
   "execution_count": 84,
   "metadata": {
    "colab": {},
    "colab_type": "code",
    "id": "oAmMfKv0pj5I"
   },
   "outputs": [],
   "source": [
    "arr_slice[1] = 12345"
   ]
  },
  {
   "cell_type": "code",
   "execution_count": 85,
   "metadata": {
    "colab": {
     "base_uri": "https://localhost:8080/",
     "height": 53
    },
    "colab_type": "code",
    "executionInfo": {
     "elapsed": 49613,
     "status": "ok",
     "timestamp": 1550685942366,
     "user": {
      "displayName": "Ana D",
      "photoUrl": "",
      "userId": "13952176772373622573"
     },
     "user_tz": -330
    },
    "id": "RISBGOFXppaL",
    "outputId": "46310189-7be5-4be9-8e1a-aef28d934c02"
   },
   "outputs": [
    {
     "data": {
      "text/plain": [
       "array([    0,     1,     2,     3,     4,    12, 12345,    12,     8,\n",
       "           9])"
      ]
     },
     "execution_count": 85,
     "metadata": {},
     "output_type": "execute_result"
    }
   ],
   "source": [
    "arr"
   ]
  },
  {
   "cell_type": "code",
   "execution_count": 86,
   "metadata": {
    "colab": {},
    "colab_type": "code",
    "id": "XYX-RUxrprCz"
   },
   "outputs": [],
   "source": [
    "arr_slice[:]= 64"
   ]
  },
  {
   "cell_type": "code",
   "execution_count": 87,
   "metadata": {
    "colab": {
     "base_uri": "https://localhost:8080/",
     "height": 35
    },
    "colab_type": "code",
    "executionInfo": {
     "elapsed": 49346,
     "status": "ok",
     "timestamp": 1550685942381,
     "user": {
      "displayName": "Ana D",
      "photoUrl": "",
      "userId": "13952176772373622573"
     },
     "user_tz": -330
    },
    "id": "qvnxK1-wpxa9",
    "outputId": "e1d6e00d-d401-4dc2-f128-77113cb2ebf8"
   },
   "outputs": [
    {
     "data": {
      "text/plain": [
       "array([ 0,  1,  2,  3,  4, 64, 64, 64,  8,  9])"
      ]
     },
     "execution_count": 87,
     "metadata": {},
     "output_type": "execute_result"
    }
   ],
   "source": [
    "arr"
   ]
  },
  {
   "cell_type": "code",
   "execution_count": 88,
   "metadata": {
    "colab": {},
    "colab_type": "code",
    "id": "V63xTgnGp3U0"
   },
   "outputs": [],
   "source": [
    "arr2d = np.array([[1, 2, 3], [4, 5, 6], [7, 8, 9]])"
   ]
  },
  {
   "cell_type": "code",
   "execution_count": 89,
   "metadata": {
    "colab": {
     "base_uri": "https://localhost:8080/",
     "height": 35
    },
    "colab_type": "code",
    "executionInfo": {
     "elapsed": 49103,
     "status": "ok",
     "timestamp": 1550685942400,
     "user": {
      "displayName": "Ana D",
      "photoUrl": "",
      "userId": "13952176772373622573"
     },
     "user_tz": -330
    },
    "id": "3NEhIP2VqTmt",
    "outputId": "3c6c0406-0f79-4167-85b6-19b1b49e5c16"
   },
   "outputs": [
    {
     "data": {
      "text/plain": [
       "array([7, 8, 9])"
      ]
     },
     "execution_count": 89,
     "metadata": {},
     "output_type": "execute_result"
    }
   ],
   "source": [
    "arr2d[2]"
   ]
  },
  {
   "cell_type": "code",
   "execution_count": 90,
   "metadata": {
    "colab": {
     "base_uri": "https://localhost:8080/",
     "height": 35
    },
    "colab_type": "code",
    "executionInfo": {
     "elapsed": 48894,
     "status": "ok",
     "timestamp": 1550685942409,
     "user": {
      "displayName": "Ana D",
      "photoUrl": "",
      "userId": "13952176772373622573"
     },
     "user_tz": -330
    },
    "id": "0uJzL9_DqVMq",
    "outputId": "f7d817bf-f143-422f-aac1-189fc10dbe97"
   },
   "outputs": [
    {
     "data": {
      "text/plain": [
       "3"
      ]
     },
     "execution_count": 90,
     "metadata": {},
     "output_type": "execute_result"
    }
   ],
   "source": [
    "arr2d[0][2]"
   ]
  },
  {
   "cell_type": "code",
   "execution_count": 91,
   "metadata": {
    "colab": {
     "base_uri": "https://localhost:8080/",
     "height": 35
    },
    "colab_type": "code",
    "executionInfo": {
     "elapsed": 48685,
     "status": "ok",
     "timestamp": 1550685942418,
     "user": {
      "displayName": "Ana D",
      "photoUrl": "",
      "userId": "13952176772373622573"
     },
     "user_tz": -330
    },
    "id": "Myq7Y58kqcok",
    "outputId": "719505a0-04c2-4b2a-8699-97fed32685a8"
   },
   "outputs": [
    {
     "data": {
      "text/plain": [
       "3"
      ]
     },
     "execution_count": 91,
     "metadata": {},
     "output_type": "execute_result"
    }
   ],
   "source": [
    "arr2d[0, 2]"
   ]
  },
  {
   "cell_type": "code",
   "execution_count": 92,
   "metadata": {
    "colab": {},
    "colab_type": "code",
    "id": "fyEtnxLKqeoY"
   },
   "outputs": [],
   "source": [
    "arr3d = np.array([[[1, 2, 3], [4, 5, 6]], [[7, 8, 9], [10, 11, 12]]])"
   ]
  },
  {
   "cell_type": "code",
   "execution_count": 93,
   "metadata": {
    "colab": {
     "base_uri": "https://localhost:8080/",
     "height": 106
    },
    "colab_type": "code",
    "executionInfo": {
     "elapsed": 48426,
     "status": "ok",
     "timestamp": 1550685942434,
     "user": {
      "displayName": "Ana D",
      "photoUrl": "",
      "userId": "13952176772373622573"
     },
     "user_tz": -330
    },
    "id": "39B4PNKPq9-f",
    "outputId": "451b78c3-e10c-4dc5-ccf2-6b3781122ed0"
   },
   "outputs": [
    {
     "data": {
      "text/plain": [
       "array([[[ 1,  2,  3],\n",
       "        [ 4,  5,  6]],\n",
       "\n",
       "       [[ 7,  8,  9],\n",
       "        [10, 11, 12]]])"
      ]
     },
     "execution_count": 93,
     "metadata": {},
     "output_type": "execute_result"
    }
   ],
   "source": [
    "arr3d"
   ]
  },
  {
   "cell_type": "code",
   "execution_count": 94,
   "metadata": {
    "colab": {
     "base_uri": "https://localhost:8080/",
     "height": 53
    },
    "colab_type": "code",
    "executionInfo": {
     "elapsed": 48247,
     "status": "ok",
     "timestamp": 1550685942442,
     "user": {
      "displayName": "Ana D",
      "photoUrl": "",
      "userId": "13952176772373622573"
     },
     "user_tz": -330
    },
    "id": "PA3U_OEPrAXf",
    "outputId": "eb19ed9f-8fd0-42f9-aeb6-ea4e05fadcbf"
   },
   "outputs": [
    {
     "data": {
      "text/plain": [
       "array([[1, 2, 3],\n",
       "       [4, 5, 6]])"
      ]
     },
     "execution_count": 94,
     "metadata": {},
     "output_type": "execute_result"
    }
   ],
   "source": [
    "arr3d[0]"
   ]
  },
  {
   "cell_type": "code",
   "execution_count": 95,
   "metadata": {
    "colab": {},
    "colab_type": "code",
    "id": "G384nU-3rGN6"
   },
   "outputs": [],
   "source": [
    "old_values = arr3d[0].copy()"
   ]
  },
  {
   "cell_type": "code",
   "execution_count": 96,
   "metadata": {
    "colab": {},
    "colab_type": "code",
    "id": "MP2ZV471re7u"
   },
   "outputs": [],
   "source": [
    "arr3d[0] = 42"
   ]
  },
  {
   "cell_type": "code",
   "execution_count": 97,
   "metadata": {
    "colab": {
     "base_uri": "https://localhost:8080/",
     "height": 106
    },
    "colab_type": "code",
    "executionInfo": {
     "elapsed": 47941,
     "status": "ok",
     "timestamp": 1550685942465,
     "user": {
      "displayName": "Ana D",
      "photoUrl": "",
      "userId": "13952176772373622573"
     },
     "user_tz": -330
    },
    "id": "1aVQJeVyri1b",
    "outputId": "dbe028bb-cd51-4f99-d2c6-98583eac11f8"
   },
   "outputs": [
    {
     "data": {
      "text/plain": [
       "array([[[42, 42, 42],\n",
       "        [42, 42, 42]],\n",
       "\n",
       "       [[ 7,  8,  9],\n",
       "        [10, 11, 12]]])"
      ]
     },
     "execution_count": 97,
     "metadata": {},
     "output_type": "execute_result"
    }
   ],
   "source": [
    "arr3d"
   ]
  },
  {
   "cell_type": "code",
   "execution_count": 98,
   "metadata": {
    "colab": {},
    "colab_type": "code",
    "id": "Fm7zqSZDrkI1"
   },
   "outputs": [],
   "source": [
    "arr3d[0] = old_values"
   ]
  },
  {
   "cell_type": "code",
   "execution_count": 99,
   "metadata": {
    "colab": {
     "base_uri": "https://localhost:8080/",
     "height": 106
    },
    "colab_type": "code",
    "executionInfo": {
     "elapsed": 47699,
     "status": "ok",
     "timestamp": 1550685942482,
     "user": {
      "displayName": "Ana D",
      "photoUrl": "",
      "userId": "13952176772373622573"
     },
     "user_tz": -330
    },
    "id": "1_GHQoA2rsfr",
    "outputId": "b5224e2c-70f3-40b2-ee87-dc1916270ad1"
   },
   "outputs": [
    {
     "data": {
      "text/plain": [
       "array([[[ 1,  2,  3],\n",
       "        [ 4,  5,  6]],\n",
       "\n",
       "       [[ 7,  8,  9],\n",
       "        [10, 11, 12]]])"
      ]
     },
     "execution_count": 99,
     "metadata": {},
     "output_type": "execute_result"
    }
   ],
   "source": [
    "arr3d"
   ]
  },
  {
   "cell_type": "code",
   "execution_count": 100,
   "metadata": {
    "colab": {
     "base_uri": "https://localhost:8080/",
     "height": 35
    },
    "colab_type": "code",
    "executionInfo": {
     "elapsed": 47470,
     "status": "ok",
     "timestamp": 1550685942491,
     "user": {
      "displayName": "Ana D",
      "photoUrl": "",
      "userId": "13952176772373622573"
     },
     "user_tz": -330
    },
    "id": "00yG0Wv6rvrn",
    "outputId": "4d77e339-1efb-47d7-c02e-68d44da10a0f"
   },
   "outputs": [
    {
     "data": {
      "text/plain": [
       "array([7, 8, 9])"
      ]
     },
     "execution_count": 100,
     "metadata": {},
     "output_type": "execute_result"
    }
   ],
   "source": [
    "arr3d[1, 0]"
   ]
  },
  {
   "cell_type": "code",
   "execution_count": 101,
   "metadata": {
    "colab": {
     "base_uri": "https://localhost:8080/",
     "height": 35
    },
    "colab_type": "code",
    "executionInfo": {
     "elapsed": 47236,
     "status": "ok",
     "timestamp": 1550685942498,
     "user": {
      "displayName": "Ana D",
      "photoUrl": "",
      "userId": "13952176772373622573"
     },
     "user_tz": -330
    },
    "id": "NV5wYWXpsCFA",
    "outputId": "7b9abee2-31a2-45aa-b7f6-9c9e265016fe"
   },
   "outputs": [
    {
     "data": {
      "text/plain": [
       "7"
      ]
     },
     "execution_count": 101,
     "metadata": {},
     "output_type": "execute_result"
    }
   ],
   "source": [
    "arr3d[1, 0, 0]"
   ]
  },
  {
   "cell_type": "code",
   "execution_count": 102,
   "metadata": {
    "colab": {
     "base_uri": "https://localhost:8080/",
     "height": 53
    },
    "colab_type": "code",
    "executionInfo": {
     "elapsed": 46952,
     "status": "ok",
     "timestamp": 1550685942527,
     "user": {
      "displayName": "Ana D",
      "photoUrl": "",
      "userId": "13952176772373622573"
     },
     "user_tz": -330
    },
    "id": "tw3LTw7csD6k",
    "outputId": "70d0072a-ed2d-46b4-95f1-4fc870e11e45"
   },
   "outputs": [
    {
     "data": {
      "text/plain": [
       "array([[ 7,  8,  9],\n",
       "       [10, 11, 12]])"
      ]
     },
     "execution_count": 102,
     "metadata": {},
     "output_type": "execute_result"
    }
   ],
   "source": [
    "x = arr3d[1]\n",
    "x"
   ]
  },
  {
   "cell_type": "code",
   "execution_count": 103,
   "metadata": {
    "colab": {
     "base_uri": "https://localhost:8080/",
     "height": 35
    },
    "colab_type": "code",
    "executionInfo": {
     "elapsed": 46784,
     "status": "ok",
     "timestamp": 1550685942533,
     "user": {
      "displayName": "Ana D",
      "photoUrl": "",
      "userId": "13952176772373622573"
     },
     "user_tz": -330
    },
    "id": "jzP0tZL1sKlZ",
    "outputId": "a967d8ea-0992-4aa0-b114-defc5bb62c1b"
   },
   "outputs": [
    {
     "data": {
      "text/plain": [
       "array([7, 8, 9])"
      ]
     },
     "execution_count": 103,
     "metadata": {},
     "output_type": "execute_result"
    }
   ],
   "source": [
    "x[0]"
   ]
  },
  {
   "cell_type": "markdown",
   "metadata": {
    "colab_type": "text",
    "id": "vSxWp1lbsc22"
   },
   "source": [
    "## Indexing with slices"
   ]
  },
  {
   "cell_type": "code",
   "execution_count": 104,
   "metadata": {
    "colab": {
     "base_uri": "https://localhost:8080/",
     "height": 35
    },
    "colab_type": "code",
    "executionInfo": {
     "elapsed": 46623,
     "status": "ok",
     "timestamp": 1550685942542,
     "user": {
      "displayName": "Ana D",
      "photoUrl": "",
      "userId": "13952176772373622573"
     },
     "user_tz": -330
    },
    "id": "U43nWUYQsP4J",
    "outputId": "a626d8d6-48b9-4e72-a977-797199337f12"
   },
   "outputs": [
    {
     "data": {
      "text/plain": [
       "array([ 0,  1,  2,  3,  4, 64, 64, 64,  8,  9])"
      ]
     },
     "execution_count": 104,
     "metadata": {},
     "output_type": "execute_result"
    }
   ],
   "source": [
    "arr"
   ]
  },
  {
   "cell_type": "code",
   "execution_count": 105,
   "metadata": {
    "colab": {
     "base_uri": "https://localhost:8080/",
     "height": 35
    },
    "colab_type": "code",
    "executionInfo": {
     "elapsed": 46450,
     "status": "ok",
     "timestamp": 1550685942549,
     "user": {
      "displayName": "Ana D",
      "photoUrl": "",
      "userId": "13952176772373622573"
     },
     "user_tz": -330
    },
    "id": "U6F9UvCftdYF",
    "outputId": "396595c8-ccbd-4b84-c0cf-54cbcab908e3"
   },
   "outputs": [
    {
     "data": {
      "text/plain": [
       "array([ 1,  2,  3,  4, 64])"
      ]
     },
     "execution_count": 105,
     "metadata": {},
     "output_type": "execute_result"
    }
   ],
   "source": [
    "arr[1:6]"
   ]
  },
  {
   "cell_type": "code",
   "execution_count": 106,
   "metadata": {
    "colab": {
     "base_uri": "https://localhost:8080/",
     "height": 71
    },
    "colab_type": "code",
    "executionInfo": {
     "elapsed": 46273,
     "status": "ok",
     "timestamp": 1550685942558,
     "user": {
      "displayName": "Ana D",
      "photoUrl": "",
      "userId": "13952176772373622573"
     },
     "user_tz": -330
    },
    "id": "IPEXNYAxthz0",
    "outputId": "104b576c-fd22-40ae-929f-b0729cd897b4"
   },
   "outputs": [
    {
     "data": {
      "text/plain": [
       "array([[1, 2, 3],\n",
       "       [4, 5, 6],\n",
       "       [7, 8, 9]])"
      ]
     },
     "execution_count": 106,
     "metadata": {},
     "output_type": "execute_result"
    }
   ],
   "source": [
    "arr2d"
   ]
  },
  {
   "cell_type": "code",
   "execution_count": 107,
   "metadata": {
    "colab": {
     "base_uri": "https://localhost:8080/",
     "height": 53
    },
    "colab_type": "code",
    "executionInfo": {
     "elapsed": 46020,
     "status": "ok",
     "timestamp": 1550685942566,
     "user": {
      "displayName": "Ana D",
      "photoUrl": "",
      "userId": "13952176772373622573"
     },
     "user_tz": -330
    },
    "id": "FCw-8iactmiG",
    "outputId": "c6f5b04f-0860-4f37-e816-f40bdcdf7136"
   },
   "outputs": [
    {
     "data": {
      "text/plain": [
       "array([[1, 2, 3],\n",
       "       [4, 5, 6]])"
      ]
     },
     "execution_count": 107,
     "metadata": {},
     "output_type": "execute_result"
    }
   ],
   "source": [
    "arr2d[:2]"
   ]
  },
  {
   "cell_type": "code",
   "execution_count": 108,
   "metadata": {
    "colab": {
     "base_uri": "https://localhost:8080/",
     "height": 53
    },
    "colab_type": "code",
    "executionInfo": {
     "elapsed": 45824,
     "status": "ok",
     "timestamp": 1550685942576,
     "user": {
      "displayName": "Ana D",
      "photoUrl": "",
      "userId": "13952176772373622573"
     },
     "user_tz": -330
    },
    "id": "kTe2YGfOtttI",
    "outputId": "ce6b4fe4-3922-4137-b934-d41ee66b6b2c"
   },
   "outputs": [
    {
     "data": {
      "text/plain": [
       "array([[2, 3],\n",
       "       [5, 6]])"
      ]
     },
     "execution_count": 108,
     "metadata": {},
     "output_type": "execute_result"
    }
   ],
   "source": [
    "arr2d[:2, 1:]"
   ]
  },
  {
   "cell_type": "code",
   "execution_count": 109,
   "metadata": {
    "colab": {
     "base_uri": "https://localhost:8080/",
     "height": 35
    },
    "colab_type": "code",
    "executionInfo": {
     "elapsed": 45640,
     "status": "ok",
     "timestamp": 1550685942586,
     "user": {
      "displayName": "Ana D",
      "photoUrl": "",
      "userId": "13952176772373622573"
     },
     "user_tz": -330
    },
    "id": "YyPAgv_mt8cr",
    "outputId": "26af3ae9-7bd1-49c2-db94-ed5024f19648"
   },
   "outputs": [
    {
     "data": {
      "text/plain": [
       "array([4, 5])"
      ]
     },
     "execution_count": 109,
     "metadata": {},
     "output_type": "execute_result"
    }
   ],
   "source": [
    "arr2d[1, :2]"
   ]
  },
  {
   "cell_type": "code",
   "execution_count": 110,
   "metadata": {
    "colab": {
     "base_uri": "https://localhost:8080/",
     "height": 35
    },
    "colab_type": "code",
    "executionInfo": {
     "elapsed": 45459,
     "status": "ok",
     "timestamp": 1550685942593,
     "user": {
      "displayName": "Ana D",
      "photoUrl": "",
      "userId": "13952176772373622573"
     },
     "user_tz": -330
    },
    "id": "Z6tNcKOSuDhe",
    "outputId": "047fc581-686d-4022-9ae2-f1f1a7208f9e"
   },
   "outputs": [
    {
     "data": {
      "text/plain": [
       "array([3, 6])"
      ]
     },
     "execution_count": 110,
     "metadata": {},
     "output_type": "execute_result"
    }
   ],
   "source": [
    "arr2d[:2, 2]"
   ]
  },
  {
   "cell_type": "code",
   "execution_count": 111,
   "metadata": {
    "colab": {
     "base_uri": "https://localhost:8080/",
     "height": 71
    },
    "colab_type": "code",
    "executionInfo": {
     "elapsed": 45252,
     "status": "ok",
     "timestamp": 1550685942599,
     "user": {
      "displayName": "Ana D",
      "photoUrl": "",
      "userId": "13952176772373622573"
     },
     "user_tz": -330
    },
    "id": "4m48cVQsuRLS",
    "outputId": "57b50df8-3b08-440d-9931-b9c9909d1fb6"
   },
   "outputs": [
    {
     "data": {
      "text/plain": [
       "array([[1],\n",
       "       [4],\n",
       "       [7]])"
      ]
     },
     "execution_count": 111,
     "metadata": {},
     "output_type": "execute_result"
    }
   ],
   "source": [
    "arr2d[:, :1]"
   ]
  },
  {
   "cell_type": "code",
   "execution_count": 112,
   "metadata": {
    "colab": {},
    "colab_type": "code",
    "id": "P8024LVoubkr"
   },
   "outputs": [],
   "source": [
    "arr2d[:2, 1:] = 0"
   ]
  },
  {
   "cell_type": "code",
   "execution_count": 113,
   "metadata": {
    "colab": {
     "base_uri": "https://localhost:8080/",
     "height": 71
    },
    "colab_type": "code",
    "executionInfo": {
     "elapsed": 44995,
     "status": "ok",
     "timestamp": 1550685942634,
     "user": {
      "displayName": "Ana D",
      "photoUrl": "",
      "userId": "13952176772373622573"
     },
     "user_tz": -330
    },
    "id": "nO_m5v9Bu68T",
    "outputId": "981109f3-88e1-458d-fef9-f529d4428525"
   },
   "outputs": [
    {
     "data": {
      "text/plain": [
       "array([[1, 0, 0],\n",
       "       [4, 0, 0],\n",
       "       [7, 8, 9]])"
      ]
     },
     "execution_count": 113,
     "metadata": {},
     "output_type": "execute_result"
    }
   ],
   "source": [
    "arr2d"
   ]
  },
  {
   "cell_type": "code",
   "execution_count": 114,
   "metadata": {
    "colab": {
     "base_uri": "https://localhost:8080/",
     "height": 35
    },
    "colab_type": "code",
    "executionInfo": {
     "elapsed": 44812,
     "status": "ok",
     "timestamp": 1550685942641,
     "user": {
      "displayName": "Ana D",
      "photoUrl": "",
      "userId": "13952176772373622573"
     },
     "user_tz": -330
    },
    "id": "1XZQVv5wvmXO",
    "outputId": "bc0167ce-6d79-4e82-8591-90eb4d4a3e35"
   },
   "outputs": [
    {
     "data": {
      "text/plain": [
       "(2, 2)"
      ]
     },
     "execution_count": 114,
     "metadata": {},
     "output_type": "execute_result"
    }
   ],
   "source": [
    "arr2d[:2, 1:].shape"
   ]
  },
  {
   "cell_type": "code",
   "execution_count": 115,
   "metadata": {
    "colab": {
     "base_uri": "https://localhost:8080/",
     "height": 53
    },
    "colab_type": "code",
    "executionInfo": {
     "elapsed": 44610,
     "status": "ok",
     "timestamp": 1550685942648,
     "user": {
      "displayName": "Ana D",
      "photoUrl": "",
      "userId": "13952176772373622573"
     },
     "user_tz": -330
    },
    "id": "bJx5uK3lwKo7",
    "outputId": "f86ad783-b90f-421f-d97d-ff85a8f66ec0"
   },
   "outputs": [
    {
     "name": "stdout",
     "output_type": "stream",
     "text": [
      "[7 8 9]\n",
      "Shape:  (3,)\n"
     ]
    }
   ],
   "source": [
    "print(arr2d[2])\n",
    "print(\"Shape: \", arr2d[2].shape)"
   ]
  },
  {
   "cell_type": "code",
   "execution_count": 116,
   "metadata": {
    "colab": {
     "base_uri": "https://localhost:8080/",
     "height": 53
    },
    "colab_type": "code",
    "executionInfo": {
     "elapsed": 44398,
     "status": "ok",
     "timestamp": 1550685942656,
     "user": {
      "displayName": "Ana D",
      "photoUrl": "",
      "userId": "13952176772373622573"
     },
     "user_tz": -330
    },
    "id": "PnPgaZ5-wzlb",
    "outputId": "cfc7e817-8d49-4461-aad0-131130d5ecb9"
   },
   "outputs": [
    {
     "name": "stdout",
     "output_type": "stream",
     "text": [
      "[7 8 9]\n",
      "Shape:  (3,)\n"
     ]
    }
   ],
   "source": [
    "print(arr2d[2, :])\n",
    "print(\"Shape: \", arr2d[2, :].shape)"
   ]
  },
  {
   "cell_type": "code",
   "execution_count": 117,
   "metadata": {
    "colab": {
     "base_uri": "https://localhost:8080/",
     "height": 53
    },
    "colab_type": "code",
    "executionInfo": {
     "elapsed": 44202,
     "status": "ok",
     "timestamp": 1550685942663,
     "user": {
      "displayName": "Ana D",
      "photoUrl": "",
      "userId": "13952176772373622573"
     },
     "user_tz": -330
    },
    "id": "wNoAE6bCw7vW",
    "outputId": "0bc84d78-2ea5-4ded-9933-163d3fe99a86"
   },
   "outputs": [
    {
     "name": "stdout",
     "output_type": "stream",
     "text": [
      "[[7 8 9]]\n",
      "Shape:  (1, 3)\n"
     ]
    }
   ],
   "source": [
    "print(arr2d[2:, :])\n",
    "print(\"Shape: \", arr2d[2:, :].shape)"
   ]
  },
  {
   "cell_type": "code",
   "execution_count": 118,
   "metadata": {
    "colab": {
     "base_uri": "https://localhost:8080/",
     "height": 88
    },
    "colab_type": "code",
    "executionInfo": {
     "elapsed": 43999,
     "status": "ok",
     "timestamp": 1550685942670,
     "user": {
      "displayName": "Ana D",
      "photoUrl": "",
      "userId": "13952176772373622573"
     },
     "user_tz": -330
    },
    "id": "oodhVtFGx-7d",
    "outputId": "de01f576-e71c-48c0-d778-4d1b0b8de3b4"
   },
   "outputs": [
    {
     "name": "stdout",
     "output_type": "stream",
     "text": [
      "[[1 0]\n",
      " [4 0]\n",
      " [7 8]]\n",
      "Shape:  (3, 2)\n"
     ]
    }
   ],
   "source": [
    "print(arr2d[:, :2])\n",
    "print(\"Shape: \", arr2d[:, :2].shape)"
   ]
  },
  {
   "cell_type": "code",
   "execution_count": 119,
   "metadata": {
    "colab": {
     "base_uri": "https://localhost:8080/",
     "height": 53
    },
    "colab_type": "code",
    "executionInfo": {
     "elapsed": 43757,
     "status": "ok",
     "timestamp": 1550685942681,
     "user": {
      "displayName": "Ana D",
      "photoUrl": "",
      "userId": "13952176772373622573"
     },
     "user_tz": -330
    },
    "id": "nP3wOQFmy7xv",
    "outputId": "0de3e549-8699-4a1d-d24c-65bb39513978"
   },
   "outputs": [
    {
     "name": "stdout",
     "output_type": "stream",
     "text": [
      "[4 0]\n",
      "Shape:  (2,)\n"
     ]
    }
   ],
   "source": [
    "print(arr2d[1, :2])\n",
    "print(\"Shape: \", arr2d[1, :2].shape)"
   ]
  },
  {
   "cell_type": "code",
   "execution_count": 120,
   "metadata": {
    "colab": {
     "base_uri": "https://localhost:8080/",
     "height": 53
    },
    "colab_type": "code",
    "executionInfo": {
     "elapsed": 43563,
     "status": "ok",
     "timestamp": 1550685942691,
     "user": {
      "displayName": "Ana D",
      "photoUrl": "",
      "userId": "13952176772373622573"
     },
     "user_tz": -330
    },
    "id": "x6Ulrmu7zJlW",
    "outputId": "a097878a-9a4a-4290-c99d-54ac62ec85c9"
   },
   "outputs": [
    {
     "name": "stdout",
     "output_type": "stream",
     "text": [
      "[[4 0]]\n",
      "Shape:  (1, 2)\n"
     ]
    }
   ],
   "source": [
    "print(arr2d[1:2, :2])\n",
    "print(\"Shape: \", arr2d[1:2, :2].shape)"
   ]
  },
  {
   "cell_type": "code",
   "execution_count": 121,
   "metadata": {
    "colab": {
     "base_uri": "https://localhost:8080/",
     "height": 35
    },
    "colab_type": "code",
    "executionInfo": {
     "elapsed": 43348,
     "status": "ok",
     "timestamp": 1550685942701,
     "user": {
      "displayName": "Ana D",
      "photoUrl": "",
      "userId": "13952176772373622573"
     },
     "user_tz": -330
    },
    "id": "sEvh4S_F0l5D",
    "outputId": "d7bcf286-e667-4284-e393-fd9a0e99e870"
   },
   "outputs": [
    {
     "data": {
      "text/plain": [
       "array([[0]])"
      ]
     },
     "execution_count": 121,
     "metadata": {},
     "output_type": "execute_result"
    }
   ],
   "source": [
    "arr2d[1:2, 1:2]"
   ]
  },
  {
   "cell_type": "code",
   "execution_count": 122,
   "metadata": {
    "colab": {
     "base_uri": "https://localhost:8080/",
     "height": 35
    },
    "colab_type": "code",
    "executionInfo": {
     "elapsed": 43137,
     "status": "ok",
     "timestamp": 1550685942712,
     "user": {
      "displayName": "Ana D",
      "photoUrl": "",
      "userId": "13952176772373622573"
     },
     "user_tz": -330
    },
    "id": "zYQJcLkf1F_I",
    "outputId": "497a87a1-ccf2-40f9-c547-76f4965af9a3"
   },
   "outputs": [
    {
     "data": {
      "text/plain": [
       "0"
      ]
     },
     "execution_count": 122,
     "metadata": {},
     "output_type": "execute_result"
    }
   ],
   "source": [
    "arr2d[1, 1]"
   ]
  },
  {
   "cell_type": "markdown",
   "metadata": {
    "colab_type": "text",
    "id": "X80R8qgC1sUE"
   },
   "source": [
    "## Boolean Indexing"
   ]
  },
  {
   "cell_type": "code",
   "execution_count": 123,
   "metadata": {
    "colab": {},
    "colab_type": "code",
    "id": "VwtVb2Lf1IQS"
   },
   "outputs": [],
   "source": [
    "names = np.array(['Bob', 'Joe', 'Will', 'Bob', 'Will', 'Joe', 'Joe']) "
   ]
  },
  {
   "cell_type": "code",
   "execution_count": 124,
   "metadata": {
    "colab": {},
    "colab_type": "code",
    "id": "1EloPMMG13LC"
   },
   "outputs": [],
   "source": [
    "data = np.random.randn(7, 4)"
   ]
  },
  {
   "cell_type": "code",
   "execution_count": 125,
   "metadata": {
    "colab": {
     "base_uri": "https://localhost:8080/",
     "height": 35
    },
    "colab_type": "code",
    "executionInfo": {
     "elapsed": 42841,
     "status": "ok",
     "timestamp": 1550685942740,
     "user": {
      "displayName": "Ana D",
      "photoUrl": "",
      "userId": "13952176772373622573"
     },
     "user_tz": -330
    },
    "id": "FBOgat9h18-L",
    "outputId": "3a246706-d7d4-42df-8089-219a49e9fcfb"
   },
   "outputs": [
    {
     "data": {
      "text/plain": [
       "array(['Bob', 'Joe', 'Will', 'Bob', 'Will', 'Joe', 'Joe'], dtype='<U4')"
      ]
     },
     "execution_count": 125,
     "metadata": {},
     "output_type": "execute_result"
    }
   ],
   "source": [
    "names"
   ]
  },
  {
   "cell_type": "code",
   "execution_count": 126,
   "metadata": {
    "colab": {
     "base_uri": "https://localhost:8080/",
     "height": 142
    },
    "colab_type": "code",
    "executionInfo": {
     "elapsed": 42620,
     "status": "ok",
     "timestamp": 1550685942760,
     "user": {
      "displayName": "Ana D",
      "photoUrl": "",
      "userId": "13952176772373622573"
     },
     "user_tz": -330
    },
    "id": "sJS9axuW1-LJ",
    "outputId": "4ad0ad13-3ab9-437b-bcf7-c0531f1d15b4"
   },
   "outputs": [
    {
     "data": {
      "text/plain": [
       "array([[ 0.37568637,  0.50286692, -1.08151887, -0.5435883 ],\n",
       "       [ 1.46585684, -0.98856053,  0.10494592, -1.325015  ],\n",
       "       [ 2.42714154, -0.658947  , -1.78425077, -0.33081065],\n",
       "       [ 0.41969316, -0.16329344,  0.64660509,  0.40157004],\n",
       "       [-0.57132388,  1.46131758,  1.38439142, -0.62742298],\n",
       "       [ 0.05291315,  0.35613055,  0.20115618,  1.35536487],\n",
       "       [ 0.60350708,  0.8475513 ,  0.70702001,  0.35303903]])"
      ]
     },
     "execution_count": 126,
     "metadata": {},
     "output_type": "execute_result"
    }
   ],
   "source": [
    "data"
   ]
  },
  {
   "cell_type": "code",
   "execution_count": 127,
   "metadata": {
    "colab": {
     "base_uri": "https://localhost:8080/",
     "height": 35
    },
    "colab_type": "code",
    "executionInfo": {
     "elapsed": 42361,
     "status": "ok",
     "timestamp": 1550685942798,
     "user": {
      "displayName": "Ana D",
      "photoUrl": "",
      "userId": "13952176772373622573"
     },
     "user_tz": -330
    },
    "id": "sb98HF9T1_xL",
    "outputId": "2cce149d-c736-4d15-d321-6e8eef00c5b7"
   },
   "outputs": [
    {
     "data": {
      "text/plain": [
       "array([ True, False, False,  True, False, False, False])"
      ]
     },
     "execution_count": 127,
     "metadata": {},
     "output_type": "execute_result"
    }
   ],
   "source": [
    "names == 'Bob'"
   ]
  },
  {
   "cell_type": "code",
   "execution_count": 128,
   "metadata": {
    "colab": {
     "base_uri": "https://localhost:8080/",
     "height": 53
    },
    "colab_type": "code",
    "executionInfo": {
     "elapsed": 42171,
     "status": "ok",
     "timestamp": 1550685942818,
     "user": {
      "displayName": "Ana D",
      "photoUrl": "",
      "userId": "13952176772373622573"
     },
     "user_tz": -330
    },
    "id": "lkzDJD2i2YsH",
    "outputId": "357b634f-ba4a-44ea-eae7-5165676f1634"
   },
   "outputs": [
    {
     "data": {
      "text/plain": [
       "array([[ 0.37568637,  0.50286692, -1.08151887, -0.5435883 ],\n",
       "       [ 0.41969316, -0.16329344,  0.64660509,  0.40157004]])"
      ]
     },
     "execution_count": 128,
     "metadata": {},
     "output_type": "execute_result"
    }
   ],
   "source": [
    "data[names == 'Bob']"
   ]
  },
  {
   "cell_type": "code",
   "execution_count": 129,
   "metadata": {
    "colab": {
     "base_uri": "https://localhost:8080/",
     "height": 53
    },
    "colab_type": "code",
    "executionInfo": {
     "elapsed": 41981,
     "status": "ok",
     "timestamp": 1550685942826,
     "user": {
      "displayName": "Ana D",
      "photoUrl": "",
      "userId": "13952176772373622573"
     },
     "user_tz": -330
    },
    "id": "RSp9bi9F2a7T",
    "outputId": "b7b53eda-eafa-4f27-adfc-c13adfebd214"
   },
   "outputs": [
    {
     "data": {
      "text/plain": [
       "array([[-1.08151887, -0.5435883 ],\n",
       "       [ 0.64660509,  0.40157004]])"
      ]
     },
     "execution_count": 129,
     "metadata": {},
     "output_type": "execute_result"
    }
   ],
   "source": [
    "data[names == 'Bob', 2:]"
   ]
  },
  {
   "cell_type": "code",
   "execution_count": 130,
   "metadata": {
    "colab": {
     "base_uri": "https://localhost:8080/",
     "height": 35
    },
    "colab_type": "code",
    "executionInfo": {
     "elapsed": 41688,
     "status": "ok",
     "timestamp": 1550685942836,
     "user": {
      "displayName": "Ana D",
      "photoUrl": "",
      "userId": "13952176772373622573"
     },
     "user_tz": -330
    },
    "id": "XUdPc5dU4iU9",
    "outputId": "f56910c2-f9d0-4038-c81c-3b239429d9c1"
   },
   "outputs": [
    {
     "data": {
      "text/plain": [
       "array([-0.5435883 ,  0.40157004])"
      ]
     },
     "execution_count": 130,
     "metadata": {},
     "output_type": "execute_result"
    }
   ],
   "source": [
    "data[names == 'Bob', 3]"
   ]
  },
  {
   "cell_type": "code",
   "execution_count": 131,
   "metadata": {
    "colab": {
     "base_uri": "https://localhost:8080/",
     "height": 35
    },
    "colab_type": "code",
    "executionInfo": {
     "elapsed": 41423,
     "status": "ok",
     "timestamp": 1550685942848,
     "user": {
      "displayName": "Ana D",
      "photoUrl": "",
      "userId": "13952176772373622573"
     },
     "user_tz": -330
    },
    "id": "PfxC2_So41Vn",
    "outputId": "e3fee135-bbea-4f87-b8b5-550eff46f6fb"
   },
   "outputs": [
    {
     "data": {
      "text/plain": [
       "array([False,  True,  True, False,  True,  True,  True])"
      ]
     },
     "execution_count": 131,
     "metadata": {},
     "output_type": "execute_result"
    }
   ],
   "source": [
    "names != 'Bob'"
   ]
  },
  {
   "cell_type": "code",
   "execution_count": 132,
   "metadata": {
    "colab": {
     "base_uri": "https://localhost:8080/",
     "height": 106
    },
    "colab_type": "code",
    "executionInfo": {
     "elapsed": 41198,
     "status": "ok",
     "timestamp": 1550685942855,
     "user": {
      "displayName": "Ana D",
      "photoUrl": "",
      "userId": "13952176772373622573"
     },
     "user_tz": -330
    },
    "id": "VL-2C_Li4-vE",
    "outputId": "57a5ccd1-4ec4-463e-841c-ceb663cb72a4"
   },
   "outputs": [
    {
     "data": {
      "text/plain": [
       "array([[ 1.46585684, -0.98856053,  0.10494592, -1.325015  ],\n",
       "       [ 2.42714154, -0.658947  , -1.78425077, -0.33081065],\n",
       "       [-0.57132388,  1.46131758,  1.38439142, -0.62742298],\n",
       "       [ 0.05291315,  0.35613055,  0.20115618,  1.35536487],\n",
       "       [ 0.60350708,  0.8475513 ,  0.70702001,  0.35303903]])"
      ]
     },
     "execution_count": 132,
     "metadata": {},
     "output_type": "execute_result"
    }
   ],
   "source": [
    "data[~(names == 'Bob')]"
   ]
  },
  {
   "cell_type": "code",
   "execution_count": 133,
   "metadata": {
    "colab": {},
    "colab_type": "code",
    "id": "eYtilmQ75LD_"
   },
   "outputs": [],
   "source": [
    "cond = names == 'Bob'"
   ]
  },
  {
   "cell_type": "code",
   "execution_count": 134,
   "metadata": {
    "colab": {
     "base_uri": "https://localhost:8080/",
     "height": 106
    },
    "colab_type": "code",
    "executionInfo": {
     "elapsed": 40950,
     "status": "ok",
     "timestamp": 1550685942869,
     "user": {
      "displayName": "Ana D",
      "photoUrl": "",
      "userId": "13952176772373622573"
     },
     "user_tz": -330
    },
    "id": "7XER4-WJ5Z_U",
    "outputId": "4eeadd6c-9b1d-46d0-d680-a6ae8fffcb15"
   },
   "outputs": [
    {
     "data": {
      "text/plain": [
       "array([[ 1.46585684, -0.98856053,  0.10494592, -1.325015  ],\n",
       "       [ 2.42714154, -0.658947  , -1.78425077, -0.33081065],\n",
       "       [-0.57132388,  1.46131758,  1.38439142, -0.62742298],\n",
       "       [ 0.05291315,  0.35613055,  0.20115618,  1.35536487],\n",
       "       [ 0.60350708,  0.8475513 ,  0.70702001,  0.35303903]])"
      ]
     },
     "execution_count": 134,
     "metadata": {},
     "output_type": "execute_result"
    }
   ],
   "source": [
    "data[~cond]"
   ]
  },
  {
   "cell_type": "code",
   "execution_count": 135,
   "metadata": {
    "colab": {},
    "colab_type": "code",
    "id": "iI15cF6s5hO2"
   },
   "outputs": [],
   "source": [
    "mask = (names == 'Bob') | (names == 'Will')"
   ]
  },
  {
   "cell_type": "code",
   "execution_count": 136,
   "metadata": {
    "colab": {
     "base_uri": "https://localhost:8080/",
     "height": 35
    },
    "colab_type": "code",
    "executionInfo": {
     "elapsed": 40711,
     "status": "ok",
     "timestamp": 1550685942885,
     "user": {
      "displayName": "Ana D",
      "photoUrl": "",
      "userId": "13952176772373622573"
     },
     "user_tz": -330
    },
    "id": "x8gwiR2R5nfE",
    "outputId": "78936c7c-55db-426f-80ed-a27ab5fba95f"
   },
   "outputs": [
    {
     "data": {
      "text/plain": [
       "array([ True, False,  True,  True,  True, False, False])"
      ]
     },
     "execution_count": 136,
     "metadata": {},
     "output_type": "execute_result"
    }
   ],
   "source": [
    "mask"
   ]
  },
  {
   "cell_type": "code",
   "execution_count": 137,
   "metadata": {
    "colab": {
     "base_uri": "https://localhost:8080/",
     "height": 88
    },
    "colab_type": "code",
    "executionInfo": {
     "elapsed": 40506,
     "status": "ok",
     "timestamp": 1550685942894,
     "user": {
      "displayName": "Ana D",
      "photoUrl": "",
      "userId": "13952176772373622573"
     },
     "user_tz": -330
    },
    "id": "IG6OaTA-5tgc",
    "outputId": "657581be-b75d-4b03-8c99-ed14d3bda41e"
   },
   "outputs": [
    {
     "data": {
      "text/plain": [
       "array([[ 0.37568637,  0.50286692, -1.08151887, -0.5435883 ],\n",
       "       [ 2.42714154, -0.658947  , -1.78425077, -0.33081065],\n",
       "       [ 0.41969316, -0.16329344,  0.64660509,  0.40157004],\n",
       "       [-0.57132388,  1.46131758,  1.38439142, -0.62742298]])"
      ]
     },
     "execution_count": 137,
     "metadata": {},
     "output_type": "execute_result"
    }
   ],
   "source": [
    "data[mask]"
   ]
  },
  {
   "cell_type": "code",
   "execution_count": 138,
   "metadata": {
    "colab": {},
    "colab_type": "code",
    "id": "Kx50KsgmIgcW"
   },
   "outputs": [],
   "source": [
    "data[data < 0] = 0"
   ]
  },
  {
   "cell_type": "code",
   "execution_count": 139,
   "metadata": {
    "colab": {
     "base_uri": "https://localhost:8080/",
     "height": 142
    },
    "colab_type": "code",
    "executionInfo": {
     "elapsed": 40247,
     "status": "ok",
     "timestamp": 1550685942914,
     "user": {
      "displayName": "Ana D",
      "photoUrl": "",
      "userId": "13952176772373622573"
     },
     "user_tz": -330
    },
    "id": "vVUgOMZhIw5M",
    "outputId": "b9f8c44f-d42e-4d1f-a4d8-7d4e7b7e7074"
   },
   "outputs": [
    {
     "data": {
      "text/plain": [
       "array([[0.37568637, 0.50286692, 0.        , 0.        ],\n",
       "       [1.46585684, 0.        , 0.10494592, 0.        ],\n",
       "       [2.42714154, 0.        , 0.        , 0.        ],\n",
       "       [0.41969316, 0.        , 0.64660509, 0.40157004],\n",
       "       [0.        , 1.46131758, 1.38439142, 0.        ],\n",
       "       [0.05291315, 0.35613055, 0.20115618, 1.35536487],\n",
       "       [0.60350708, 0.8475513 , 0.70702001, 0.35303903]])"
      ]
     },
     "execution_count": 139,
     "metadata": {},
     "output_type": "execute_result"
    }
   ],
   "source": [
    "data"
   ]
  },
  {
   "cell_type": "code",
   "execution_count": 140,
   "metadata": {
    "colab": {},
    "colab_type": "code",
    "id": "RpiFw00QIyza"
   },
   "outputs": [],
   "source": [
    "data[names != 'Joe'] = 7"
   ]
  },
  {
   "cell_type": "code",
   "execution_count": 141,
   "metadata": {
    "colab": {
     "base_uri": "https://localhost:8080/",
     "height": 142
    },
    "colab_type": "code",
    "executionInfo": {
     "elapsed": 40005,
     "status": "ok",
     "timestamp": 1550685942926,
     "user": {
      "displayName": "Ana D",
      "photoUrl": "",
      "userId": "13952176772373622573"
     },
     "user_tz": -330
    },
    "id": "fgsAugfxJC5s",
    "outputId": "f42cd8e3-db80-4d5f-8cb1-ed70101d4ff2"
   },
   "outputs": [
    {
     "data": {
      "text/plain": [
       "array([[7.        , 7.        , 7.        , 7.        ],\n",
       "       [1.46585684, 0.        , 0.10494592, 0.        ],\n",
       "       [7.        , 7.        , 7.        , 7.        ],\n",
       "       [7.        , 7.        , 7.        , 7.        ],\n",
       "       [7.        , 7.        , 7.        , 7.        ],\n",
       "       [0.05291315, 0.35613055, 0.20115618, 1.35536487],\n",
       "       [0.60350708, 0.8475513 , 0.70702001, 0.35303903]])"
      ]
     },
     "execution_count": 141,
     "metadata": {},
     "output_type": "execute_result"
    }
   ],
   "source": [
    "data"
   ]
  },
  {
   "cell_type": "markdown",
   "metadata": {
    "colab_type": "text",
    "id": "DAVc0K-LJOl1"
   },
   "source": [
    "## Fancy Indexing"
   ]
  },
  {
   "cell_type": "code",
   "execution_count": 142,
   "metadata": {
    "colab": {},
    "colab_type": "code",
    "id": "DKi5C2zDJEq4"
   },
   "outputs": [],
   "source": [
    "arr = np.empty((8, 4))"
   ]
  },
  {
   "cell_type": "code",
   "execution_count": 143,
   "metadata": {
    "colab": {},
    "colab_type": "code",
    "id": "VN7TSvj9JUBo"
   },
   "outputs": [],
   "source": [
    "for i in range(8):\n",
    "  arr[i] = i"
   ]
  },
  {
   "cell_type": "code",
   "execution_count": 144,
   "metadata": {
    "colab": {
     "base_uri": "https://localhost:8080/",
     "height": 160
    },
    "colab_type": "code",
    "executionInfo": {
     "elapsed": 39643,
     "status": "ok",
     "timestamp": 1550685942948,
     "user": {
      "displayName": "Ana D",
      "photoUrl": "",
      "userId": "13952176772373622573"
     },
     "user_tz": -330
    },
    "id": "A7cbfnhvJYQs",
    "outputId": "eb404e89-6dc8-4196-b6b5-596d8d54f0a6"
   },
   "outputs": [
    {
     "data": {
      "text/plain": [
       "array([[0., 0., 0., 0.],\n",
       "       [1., 1., 1., 1.],\n",
       "       [2., 2., 2., 2.],\n",
       "       [3., 3., 3., 3.],\n",
       "       [4., 4., 4., 4.],\n",
       "       [5., 5., 5., 5.],\n",
       "       [6., 6., 6., 6.],\n",
       "       [7., 7., 7., 7.]])"
      ]
     },
     "execution_count": 144,
     "metadata": {},
     "output_type": "execute_result"
    }
   ],
   "source": [
    "arr"
   ]
  },
  {
   "cell_type": "code",
   "execution_count": 145,
   "metadata": {
    "colab": {
     "base_uri": "https://localhost:8080/",
     "height": 88
    },
    "colab_type": "code",
    "executionInfo": {
     "elapsed": 39414,
     "status": "ok",
     "timestamp": 1550685942955,
     "user": {
      "displayName": "Ana D",
      "photoUrl": "",
      "userId": "13952176772373622573"
     },
     "user_tz": -330
    },
    "id": "DYyfDO0aJakg",
    "outputId": "e37194df-44a2-49a5-c7ac-f6036d4f6356"
   },
   "outputs": [
    {
     "data": {
      "text/plain": [
       "array([[4., 4., 4., 4.],\n",
       "       [3., 3., 3., 3.],\n",
       "       [0., 0., 0., 0.],\n",
       "       [6., 6., 6., 6.]])"
      ]
     },
     "execution_count": 145,
     "metadata": {},
     "output_type": "execute_result"
    }
   ],
   "source": [
    "arr[[4, 3, 0, 6]]"
   ]
  },
  {
   "cell_type": "code",
   "execution_count": 146,
   "metadata": {
    "colab": {
     "base_uri": "https://localhost:8080/",
     "height": 71
    },
    "colab_type": "code",
    "executionInfo": {
     "elapsed": 39199,
     "status": "ok",
     "timestamp": 1550685942962,
     "user": {
      "displayName": "Ana D",
      "photoUrl": "",
      "userId": "13952176772373622573"
     },
     "user_tz": -330
    },
    "id": "tzaJ159SJotr",
    "outputId": "805aedb7-61fc-4334-dd4d-fbb958746169"
   },
   "outputs": [
    {
     "data": {
      "text/plain": [
       "array([[5., 5., 5., 5.],\n",
       "       [3., 3., 3., 3.],\n",
       "       [1., 1., 1., 1.]])"
      ]
     },
     "execution_count": 146,
     "metadata": {},
     "output_type": "execute_result"
    }
   ],
   "source": [
    "arr[[-3, -5, -7]]"
   ]
  },
  {
   "cell_type": "code",
   "execution_count": 147,
   "metadata": {
    "colab": {},
    "colab_type": "code",
    "id": "QKBDsRN3JxAu"
   },
   "outputs": [],
   "source": [
    "arr = np.arange(32).reshape((8, 4))"
   ]
  },
  {
   "cell_type": "code",
   "execution_count": 148,
   "metadata": {
    "colab": {
     "base_uri": "https://localhost:8080/",
     "height": 160
    },
    "colab_type": "code",
    "executionInfo": {
     "elapsed": 38958,
     "status": "ok",
     "timestamp": 1550685942973,
     "user": {
      "displayName": "Ana D",
      "photoUrl": "",
      "userId": "13952176772373622573"
     },
     "user_tz": -330
    },
    "id": "OX95WHaaJ-Bo",
    "outputId": "26467559-d4d5-4707-9103-e84a6e71232e"
   },
   "outputs": [
    {
     "data": {
      "text/plain": [
       "array([[ 0,  1,  2,  3],\n",
       "       [ 4,  5,  6,  7],\n",
       "       [ 8,  9, 10, 11],\n",
       "       [12, 13, 14, 15],\n",
       "       [16, 17, 18, 19],\n",
       "       [20, 21, 22, 23],\n",
       "       [24, 25, 26, 27],\n",
       "       [28, 29, 30, 31]])"
      ]
     },
     "execution_count": 148,
     "metadata": {},
     "output_type": "execute_result"
    }
   ],
   "source": [
    "arr"
   ]
  },
  {
   "cell_type": "code",
   "execution_count": 149,
   "metadata": {
    "colab": {
     "base_uri": "https://localhost:8080/",
     "height": 35
    },
    "colab_type": "code",
    "executionInfo": {
     "elapsed": 38763,
     "status": "ok",
     "timestamp": 1550685942981,
     "user": {
      "displayName": "Ana D",
      "photoUrl": "",
      "userId": "13952176772373622573"
     },
     "user_tz": -330
    },
    "id": "vRbhDWw2J_NE",
    "outputId": "8fe40d1a-94e6-4355-ad60-4ec55abf62a8"
   },
   "outputs": [
    {
     "data": {
      "text/plain": [
       "array([ 4, 23, 29, 10])"
      ]
     },
     "execution_count": 149,
     "metadata": {},
     "output_type": "execute_result"
    }
   ],
   "source": [
    "arr[[1, 5, 7, 2], [0, 3, 1, 2]]"
   ]
  },
  {
   "cell_type": "code",
   "execution_count": 150,
   "metadata": {
    "colab": {
     "base_uri": "https://localhost:8080/",
     "height": 88
    },
    "colab_type": "code",
    "executionInfo": {
     "elapsed": 38572,
     "status": "ok",
     "timestamp": 1550685942996,
     "user": {
      "displayName": "Ana D",
      "photoUrl": "",
      "userId": "13952176772373622573"
     },
     "user_tz": -330
    },
    "id": "ike6oHwtKGYB",
    "outputId": "61664035-b6b1-425c-d405-0d7f2fa7cdf3"
   },
   "outputs": [
    {
     "data": {
      "text/plain": [
       "array([[ 4,  7,  5,  6],\n",
       "       [20, 23, 21, 22],\n",
       "       [28, 31, 29, 30],\n",
       "       [ 8, 11,  9, 10]])"
      ]
     },
     "execution_count": 150,
     "metadata": {},
     "output_type": "execute_result"
    }
   ],
   "source": [
    "arr[[1, 5, 7, 2]][:, [0, 3, 1, 2]]"
   ]
  },
  {
   "cell_type": "markdown",
   "metadata": {
    "colab_type": "text",
    "id": "GxkgrvWHKp_G"
   },
   "source": [
    "## Transposing arrays and Swapping axes"
   ]
  },
  {
   "cell_type": "code",
   "execution_count": 151,
   "metadata": {
    "colab": {
     "base_uri": "https://localhost:8080/",
     "height": 71
    },
    "colab_type": "code",
    "executionInfo": {
     "elapsed": 38398,
     "status": "ok",
     "timestamp": 1550685943006,
     "user": {
      "displayName": "Ana D",
      "photoUrl": "",
      "userId": "13952176772373622573"
     },
     "user_tz": -330
    },
    "id": "9jiPfLIFKhbw",
    "outputId": "cd36ac16-2320-4951-ac80-3460cb5015ea"
   },
   "outputs": [
    {
     "data": {
      "text/plain": [
       "array([[ 0,  1,  2,  3,  4],\n",
       "       [ 5,  6,  7,  8,  9],\n",
       "       [10, 11, 12, 13, 14]])"
      ]
     },
     "execution_count": 151,
     "metadata": {},
     "output_type": "execute_result"
    }
   ],
   "source": [
    "arr = np.arange(15).reshape((3, 5))\n",
    "arr"
   ]
  },
  {
   "cell_type": "code",
   "execution_count": 152,
   "metadata": {
    "colab": {
     "base_uri": "https://localhost:8080/",
     "height": 106
    },
    "colab_type": "code",
    "executionInfo": {
     "elapsed": 38212,
     "status": "ok",
     "timestamp": 1550685943014,
     "user": {
      "displayName": "Ana D",
      "photoUrl": "",
      "userId": "13952176772373622573"
     },
     "user_tz": -330
    },
    "id": "QhUyEJvyKyG_",
    "outputId": "f4e867be-45c4-4819-c171-42720b9d6e17"
   },
   "outputs": [
    {
     "data": {
      "text/plain": [
       "array([[ 0,  5, 10],\n",
       "       [ 1,  6, 11],\n",
       "       [ 2,  7, 12],\n",
       "       [ 3,  8, 13],\n",
       "       [ 4,  9, 14]])"
      ]
     },
     "execution_count": 152,
     "metadata": {},
     "output_type": "execute_result"
    }
   ],
   "source": [
    "arr.T"
   ]
  },
  {
   "cell_type": "code",
   "execution_count": 153,
   "metadata": {
    "colab": {},
    "colab_type": "code",
    "id": "a_cSWgTKLF6D"
   },
   "outputs": [],
   "source": [
    "arr = np.random.randn(6, 3)"
   ]
  },
  {
   "cell_type": "code",
   "execution_count": 154,
   "metadata": {
    "colab": {
     "base_uri": "https://localhost:8080/",
     "height": 124
    },
    "colab_type": "code",
    "executionInfo": {
     "elapsed": 37946,
     "status": "ok",
     "timestamp": 1550685943025,
     "user": {
      "displayName": "Ana D",
      "photoUrl": "",
      "userId": "13952176772373622573"
     },
     "user_tz": -330
    },
    "id": "RWVG8db5LNjB",
    "outputId": "67734ff2-a2c1-4b84-88f0-1623c1259012"
   },
   "outputs": [
    {
     "data": {
      "text/plain": [
       "array([[ 0.54066994, -0.70823614, -0.25749621],\n",
       "       [ 1.86722845, -1.81986292,  0.45796309],\n",
       "       [-0.62448188,  1.35717163,  0.29004808],\n",
       "       [ 1.18385335, -0.37235701,  0.35139501],\n",
       "       [-0.4614167 ,  0.96432024, -1.13715426],\n",
       "       [-1.49416374,  1.91073234,  0.16347686]])"
      ]
     },
     "execution_count": 154,
     "metadata": {},
     "output_type": "execute_result"
    }
   ],
   "source": [
    "arr"
   ]
  },
  {
   "cell_type": "code",
   "execution_count": 155,
   "metadata": {
    "colab": {
     "base_uri": "https://localhost:8080/",
     "height": 71
    },
    "colab_type": "code",
    "executionInfo": {
     "elapsed": 37705,
     "status": "ok",
     "timestamp": 1550685943032,
     "user": {
      "displayName": "Ana D",
      "photoUrl": "",
      "userId": "13952176772373622573"
     },
     "user_tz": -330
    },
    "id": "ZFV5jqIGLOts",
    "outputId": "642c410b-2aba-4304-a046-dce7cb745477"
   },
   "outputs": [
    {
     "data": {
      "text/plain": [
       "array([[ 8.01578309, -8.36926745,  1.23121242],\n",
       "       [-8.36926745, 10.37487567, -1.17248164],\n",
       "       [ 1.23121242, -1.17248164,  1.80348534]])"
      ]
     },
     "execution_count": 155,
     "metadata": {},
     "output_type": "execute_result"
    }
   ],
   "source": [
    "np.dot(arr.T, arr)"
   ]
  },
  {
   "cell_type": "code",
   "execution_count": 156,
   "metadata": {
    "colab": {
     "base_uri": "https://localhost:8080/",
     "height": 106
    },
    "colab_type": "code",
    "executionInfo": {
     "elapsed": 37453,
     "status": "ok",
     "timestamp": 1550685943038,
     "user": {
      "displayName": "Ana D",
      "photoUrl": "",
      "userId": "13952176772373622573"
     },
     "user_tz": -330
    },
    "id": "EngV1Tk6Lf8X",
    "outputId": "ece1fbbd-2c29-46e9-b220-19b555b75a70"
   },
   "outputs": [
    {
     "data": {
      "text/plain": [
       "array([[[ 0,  1,  2,  3],\n",
       "        [ 4,  5,  6,  7]],\n",
       "\n",
       "       [[ 8,  9, 10, 11],\n",
       "        [12, 13, 14, 15]]])"
      ]
     },
     "execution_count": 156,
     "metadata": {},
     "output_type": "execute_result"
    }
   ],
   "source": [
    "arr = np.arange(16).reshape((2, 2, 4))\n",
    "arr"
   ]
  },
  {
   "cell_type": "code",
   "execution_count": 157,
   "metadata": {
    "colab": {
     "base_uri": "https://localhost:8080/",
     "height": 106
    },
    "colab_type": "code",
    "executionInfo": {
     "elapsed": 37263,
     "status": "ok",
     "timestamp": 1550685943045,
     "user": {
      "displayName": "Ana D",
      "photoUrl": "",
      "userId": "13952176772373622573"
     },
     "user_tz": -330
    },
    "id": "2w5szVH3LrQ1",
    "outputId": "b3f4cf57-30d9-400c-9b5e-12e19244ac6e"
   },
   "outputs": [
    {
     "data": {
      "text/plain": [
       "array([[[ 0,  1,  2,  3],\n",
       "        [ 8,  9, 10, 11]],\n",
       "\n",
       "       [[ 4,  5,  6,  7],\n",
       "        [12, 13, 14, 15]]])"
      ]
     },
     "execution_count": 157,
     "metadata": {},
     "output_type": "execute_result"
    }
   ],
   "source": [
    "arr.transpose((1, 0, 2))"
   ]
  },
  {
   "cell_type": "code",
   "execution_count": 158,
   "metadata": {
    "colab": {
     "base_uri": "https://localhost:8080/",
     "height": 214
    },
    "colab_type": "code",
    "executionInfo": {
     "elapsed": 37078,
     "status": "ok",
     "timestamp": 1550685943050,
     "user": {
      "displayName": "Ana D",
      "photoUrl": "",
      "userId": "13952176772373622573"
     },
     "user_tz": -330
    },
    "id": "uFv7gVg3L9fA",
    "outputId": "33141cdd-bd54-414d-aa36-f3d10e60204d"
   },
   "outputs": [
    {
     "data": {
      "text/plain": [
       "array([[[ 0,  4],\n",
       "        [ 8, 12]],\n",
       "\n",
       "       [[ 1,  5],\n",
       "        [ 9, 13]],\n",
       "\n",
       "       [[ 2,  6],\n",
       "        [10, 14]],\n",
       "\n",
       "       [[ 3,  7],\n",
       "        [11, 15]]])"
      ]
     },
     "execution_count": 158,
     "metadata": {},
     "output_type": "execute_result"
    }
   ],
   "source": [
    "arr.transpose((2, 0, 1))"
   ]
  },
  {
   "cell_type": "code",
   "execution_count": 159,
   "metadata": {
    "colab": {
     "base_uri": "https://localhost:8080/",
     "height": 106
    },
    "colab_type": "code",
    "executionInfo": {
     "elapsed": 36893,
     "status": "ok",
     "timestamp": 1550685943056,
     "user": {
      "displayName": "Ana D",
      "photoUrl": "",
      "userId": "13952176772373622573"
     },
     "user_tz": -330
    },
    "id": "2rPR4hlNOKRG",
    "outputId": "943d6375-39f2-4c0f-d596-f05a4b6badd8"
   },
   "outputs": [
    {
     "data": {
      "text/plain": [
       "array([[[ 0,  1,  2,  3],\n",
       "        [ 4,  5,  6,  7]],\n",
       "\n",
       "       [[ 8,  9, 10, 11],\n",
       "        [12, 13, 14, 15]]])"
      ]
     },
     "execution_count": 159,
     "metadata": {},
     "output_type": "execute_result"
    }
   ],
   "source": [
    "arr"
   ]
  },
  {
   "cell_type": "code",
   "execution_count": 160,
   "metadata": {
    "colab": {
     "base_uri": "https://localhost:8080/",
     "height": 178
    },
    "colab_type": "code",
    "executionInfo": {
     "elapsed": 36699,
     "status": "ok",
     "timestamp": 1550685943064,
     "user": {
      "displayName": "Ana D",
      "photoUrl": "",
      "userId": "13952176772373622573"
     },
     "user_tz": -330
    },
    "id": "LGDp1jL2Qrm1",
    "outputId": "77ce3e44-2587-4469-9b5b-ed51071c820b"
   },
   "outputs": [
    {
     "data": {
      "text/plain": [
       "array([[[ 0,  4],\n",
       "        [ 1,  5],\n",
       "        [ 2,  6],\n",
       "        [ 3,  7]],\n",
       "\n",
       "       [[ 8, 12],\n",
       "        [ 9, 13],\n",
       "        [10, 14],\n",
       "        [11, 15]]])"
      ]
     },
     "execution_count": 160,
     "metadata": {},
     "output_type": "execute_result"
    }
   ],
   "source": [
    "arr.swapaxes(1, 2)"
   ]
  },
  {
   "cell_type": "markdown",
   "metadata": {
    "colab_type": "text",
    "id": "dBVms6GXQ_y_"
   },
   "source": [
    "## Universal functions: fast element - wise array functions"
   ]
  },
  {
   "cell_type": "code",
   "execution_count": 161,
   "metadata": {
    "colab": {},
    "colab_type": "code",
    "id": "9OWPm4T7Q0Jk"
   },
   "outputs": [],
   "source": [
    "arr = np.arange(10)"
   ]
  },
  {
   "cell_type": "code",
   "execution_count": 162,
   "metadata": {
    "colab": {
     "base_uri": "https://localhost:8080/",
     "height": 35
    },
    "colab_type": "code",
    "executionInfo": {
     "elapsed": 36510,
     "status": "ok",
     "timestamp": 1550685943127,
     "user": {
      "displayName": "Ana D",
      "photoUrl": "",
      "userId": "13952176772373622573"
     },
     "user_tz": -330
    },
    "id": "47bBMzhPRLf0",
    "outputId": "30d6721f-f42e-41c9-c594-a0f965c004aa"
   },
   "outputs": [
    {
     "data": {
      "text/plain": [
       "array([0, 1, 2, 3, 4, 5, 6, 7, 8, 9])"
      ]
     },
     "execution_count": 162,
     "metadata": {},
     "output_type": "execute_result"
    }
   ],
   "source": [
    "arr"
   ]
  },
  {
   "cell_type": "code",
   "execution_count": 163,
   "metadata": {
    "colab": {
     "base_uri": "https://localhost:8080/",
     "height": 53
    },
    "colab_type": "code",
    "executionInfo": {
     "elapsed": 36336,
     "status": "ok",
     "timestamp": 1550685943135,
     "user": {
      "displayName": "Ana D",
      "photoUrl": "",
      "userId": "13952176772373622573"
     },
     "user_tz": -330
    },
    "id": "B552OmzQRMwV",
    "outputId": "4d978042-4fb9-4e63-d305-4528ce39b809"
   },
   "outputs": [
    {
     "data": {
      "text/plain": [
       "array([0.        , 1.        , 1.41421356, 1.73205081, 2.        ,\n",
       "       2.23606798, 2.44948974, 2.64575131, 2.82842712, 3.        ])"
      ]
     },
     "execution_count": 163,
     "metadata": {},
     "output_type": "execute_result"
    }
   ],
   "source": [
    "np.sqrt(arr)"
   ]
  },
  {
   "cell_type": "code",
   "execution_count": 164,
   "metadata": {
    "colab": {
     "base_uri": "https://localhost:8080/",
     "height": 71
    },
    "colab_type": "code",
    "executionInfo": {
     "elapsed": 36145,
     "status": "ok",
     "timestamp": 1550685943141,
     "user": {
      "displayName": "Ana D",
      "photoUrl": "",
      "userId": "13952176772373622573"
     },
     "user_tz": -330
    },
    "id": "_EgogHEYRRRw",
    "outputId": "fe76d6c7-7b01-4e9b-e578-84950a316b12"
   },
   "outputs": [
    {
     "data": {
      "text/plain": [
       "array([1.00000000e+00, 2.71828183e+00, 7.38905610e+00, 2.00855369e+01,\n",
       "       5.45981500e+01, 1.48413159e+02, 4.03428793e+02, 1.09663316e+03,\n",
       "       2.98095799e+03, 8.10308393e+03])"
      ]
     },
     "execution_count": 164,
     "metadata": {},
     "output_type": "execute_result"
    }
   ],
   "source": [
    "np.exp(arr)"
   ]
  },
  {
   "cell_type": "code",
   "execution_count": 165,
   "metadata": {
    "colab": {
     "base_uri": "https://localhost:8080/",
     "height": 53
    },
    "colab_type": "code",
    "executionInfo": {
     "elapsed": 35913,
     "status": "ok",
     "timestamp": 1550685943151,
     "user": {
      "displayName": "Ana D",
      "photoUrl": "",
      "userId": "13952176772373622573"
     },
     "user_tz": -330
    },
    "id": "fyJ9IMPaRW9E",
    "outputId": "1f407649-e888-4af7-fbf8-1b0680c3444f"
   },
   "outputs": [
    {
     "data": {
      "text/plain": [
       "array([-0.60195803, -1.25513598, -1.46082568, -0.17275325, -0.29841964,\n",
       "       -1.24106616, -1.24740191,  0.66004319])"
      ]
     },
     "execution_count": 165,
     "metadata": {},
     "output_type": "execute_result"
    }
   ],
   "source": [
    "x = np.random.randn(8)\n",
    "x"
   ]
  },
  {
   "cell_type": "code",
   "execution_count": 166,
   "metadata": {
    "colab": {
     "base_uri": "https://localhost:8080/",
     "height": 53
    },
    "colab_type": "code",
    "executionInfo": {
     "elapsed": 35722,
     "status": "ok",
     "timestamp": 1550685943158,
     "user": {
      "displayName": "Ana D",
      "photoUrl": "",
      "userId": "13952176772373622573"
     },
     "user_tz": -330
    },
    "id": "ErkvOI4NRfej",
    "outputId": "13672526-ecda-45f6-8aad-101816e1f63c"
   },
   "outputs": [
    {
     "data": {
      "text/plain": [
       "array([-2.42163005, -2.08312609, -0.61922134,  0.33919064, -0.98467636,\n",
       "       -0.85266314,  0.30632634,  0.03653207])"
      ]
     },
     "execution_count": 166,
     "metadata": {},
     "output_type": "execute_result"
    }
   ],
   "source": [
    "y = np.random.randn(8)\n",
    "y"
   ]
  },
  {
   "cell_type": "code",
   "execution_count": 167,
   "metadata": {
    "colab": {
     "base_uri": "https://localhost:8080/",
     "height": 53
    },
    "colab_type": "code",
    "executionInfo": {
     "elapsed": 35522,
     "status": "ok",
     "timestamp": 1550685943166,
     "user": {
      "displayName": "Ana D",
      "photoUrl": "",
      "userId": "13952176772373622573"
     },
     "user_tz": -330
    },
    "id": "xdZlsIGyRiw2",
    "outputId": "47c4e3b9-cec1-4c27-f40a-397c54437c1e"
   },
   "outputs": [
    {
     "data": {
      "text/plain": [
       "array([-0.60195803, -1.25513598, -0.61922134,  0.33919064, -0.29841964,\n",
       "       -0.85266314,  0.30632634,  0.66004319])"
      ]
     },
     "execution_count": 167,
     "metadata": {},
     "output_type": "execute_result"
    }
   ],
   "source": [
    "np.maximum(x, y)"
   ]
  },
  {
   "cell_type": "code",
   "execution_count": 168,
   "metadata": {
    "colab": {
     "base_uri": "https://localhost:8080/",
     "height": 53
    },
    "colab_type": "code",
    "executionInfo": {
     "elapsed": 35351,
     "status": "ok",
     "timestamp": 1550685943181,
     "user": {
      "displayName": "Ana D",
      "photoUrl": "",
      "userId": "13952176772373622573"
     },
     "user_tz": -330
    },
    "id": "QGenB759RpNo",
    "outputId": "59bb85e2-d8a6-4100-b410-ef0f3d776a73"
   },
   "outputs": [
    {
     "data": {
      "text/plain": [
       "array([-0.67379254,  0.35017892, -1.08329019, -5.2510555 , -2.47020831,\n",
       "        2.7031421 , -2.81410139])"
      ]
     },
     "execution_count": 168,
     "metadata": {},
     "output_type": "execute_result"
    }
   ],
   "source": [
    "arr = np.random.randn(7) * 5\n",
    "arr"
   ]
  },
  {
   "cell_type": "code",
   "execution_count": 169,
   "metadata": {
    "colab": {},
    "colab_type": "code",
    "id": "JoSPC7yrR1Q5"
   },
   "outputs": [],
   "source": [
    "remainder, whole_part = np.modf(arr)"
   ]
  },
  {
   "cell_type": "code",
   "execution_count": 170,
   "metadata": {
    "colab": {
     "base_uri": "https://localhost:8080/",
     "height": 53
    },
    "colab_type": "code",
    "executionInfo": {
     "elapsed": 35098,
     "status": "ok",
     "timestamp": 1550685943200,
     "user": {
      "displayName": "Ana D",
      "photoUrl": "",
      "userId": "13952176772373622573"
     },
     "user_tz": -330
    },
    "id": "LAiO7hxvR_9n",
    "outputId": "63d50cf0-4c63-41a4-cbec-de4b384b93c5"
   },
   "outputs": [
    {
     "data": {
      "text/plain": [
       "array([-0.67379254,  0.35017892, -0.08329019, -0.2510555 , -0.47020831,\n",
       "        0.7031421 , -0.81410139])"
      ]
     },
     "execution_count": 170,
     "metadata": {},
     "output_type": "execute_result"
    }
   ],
   "source": [
    "remainder"
   ]
  },
  {
   "cell_type": "code",
   "execution_count": 171,
   "metadata": {
    "colab": {
     "base_uri": "https://localhost:8080/",
     "height": 35
    },
    "colab_type": "code",
    "executionInfo": {
     "elapsed": 34903,
     "status": "ok",
     "timestamp": 1550685943208,
     "user": {
      "displayName": "Ana D",
      "photoUrl": "",
      "userId": "13952176772373622573"
     },
     "user_tz": -330
    },
    "id": "cCe11GQUSCHK",
    "outputId": "fac76cd0-13ef-4240-aae0-08fe2b88d08a"
   },
   "outputs": [
    {
     "data": {
      "text/plain": [
       "array([-0.,  0., -1., -5., -2.,  2., -2.])"
      ]
     },
     "execution_count": 171,
     "metadata": {},
     "output_type": "execute_result"
    }
   ],
   "source": [
    "whole_part"
   ]
  },
  {
   "cell_type": "code",
   "execution_count": 172,
   "metadata": {
    "colab": {
     "base_uri": "https://localhost:8080/",
     "height": 53
    },
    "colab_type": "code",
    "executionInfo": {
     "elapsed": 34647,
     "status": "ok",
     "timestamp": 1550685943217,
     "user": {
      "displayName": "Ana D",
      "photoUrl": "",
      "userId": "13952176772373622573"
     },
     "user_tz": -330
    },
    "id": "trNJLgc1SINr",
    "outputId": "17401457-0f75-46bf-d43d-96a1d5656b4e"
   },
   "outputs": [
    {
     "data": {
      "text/plain": [
       "array([-0.67379254,  0.35017892, -1.08329019, -5.2510555 , -2.47020831,\n",
       "        2.7031421 , -2.81410139])"
      ]
     },
     "execution_count": 172,
     "metadata": {},
     "output_type": "execute_result"
    }
   ],
   "source": [
    "arr"
   ]
  },
  {
   "cell_type": "code",
   "execution_count": 173,
   "metadata": {
    "colab": {
     "base_uri": "https://localhost:8080/",
     "height": 88
    },
    "colab_type": "code",
    "executionInfo": {
     "elapsed": 34467,
     "status": "ok",
     "timestamp": 1550685943225,
     "user": {
      "displayName": "Ana D",
      "photoUrl": "",
      "userId": "13952176772373622573"
     },
     "user_tz": -330
    },
    "id": "5hqIkAZfSd9K",
    "outputId": "b83750fb-b86a-4a7c-def9-a045a2500d69"
   },
   "outputs": [
    {
     "name": "stderr",
     "output_type": "stream",
     "text": [
      "C:\\ProgramData\\Anaconda3\\lib\\site-packages\\ipykernel_launcher.py:1: RuntimeWarning: invalid value encountered in sqrt\n",
      "  \"\"\"Entry point for launching an IPython kernel.\n"
     ]
    },
    {
     "data": {
      "text/plain": [
       "array([       nan, 0.59175918,        nan,        nan,        nan,\n",
       "       1.64412351,        nan])"
      ]
     },
     "execution_count": 173,
     "metadata": {},
     "output_type": "execute_result"
    }
   ],
   "source": [
    "np.sqrt(arr)"
   ]
  },
  {
   "cell_type": "code",
   "execution_count": 174,
   "metadata": {
    "colab": {
     "base_uri": "https://localhost:8080/",
     "height": 88
    },
    "colab_type": "code",
    "executionInfo": {
     "elapsed": 34282,
     "status": "ok",
     "timestamp": 1550685943244,
     "user": {
      "displayName": "Ana D",
      "photoUrl": "",
      "userId": "13952176772373622573"
     },
     "user_tz": -330
    },
    "id": "q22Uf-JTShMi",
    "outputId": "4fffd836-19a4-4350-c4e1-271e579fa8c7"
   },
   "outputs": [
    {
     "name": "stderr",
     "output_type": "stream",
     "text": [
      "C:\\ProgramData\\Anaconda3\\lib\\site-packages\\ipykernel_launcher.py:1: RuntimeWarning: invalid value encountered in sqrt\n",
      "  \"\"\"Entry point for launching an IPython kernel.\n"
     ]
    },
    {
     "data": {
      "text/plain": [
       "array([       nan, 0.59175918,        nan,        nan,        nan,\n",
       "       1.64412351,        nan])"
      ]
     },
     "execution_count": 174,
     "metadata": {},
     "output_type": "execute_result"
    }
   ],
   "source": [
    "np.sqrt(arr, arr)"
   ]
  },
  {
   "cell_type": "code",
   "execution_count": 175,
   "metadata": {
    "colab": {
     "base_uri": "https://localhost:8080/",
     "height": 53
    },
    "colab_type": "code",
    "executionInfo": {
     "elapsed": 34081,
     "status": "ok",
     "timestamp": 1550685943251,
     "user": {
      "displayName": "Ana D",
      "photoUrl": "",
      "userId": "13952176772373622573"
     },
     "user_tz": -330
    },
    "id": "40uSSJrGSwKI",
    "outputId": "1ecf0d9d-850d-4b2f-fb01-f817f487bc49"
   },
   "outputs": [
    {
     "data": {
      "text/plain": [
       "array([       nan, 0.59175918,        nan,        nan,        nan,\n",
       "       1.64412351,        nan])"
      ]
     },
     "execution_count": 175,
     "metadata": {},
     "output_type": "execute_result"
    }
   ],
   "source": [
    "arr"
   ]
  },
  {
   "cell_type": "markdown",
   "metadata": {
    "colab_type": "text",
    "id": "mbVU4e47TH-0"
   },
   "source": [
    "## Array - oriented programming with Arrays"
   ]
  },
  {
   "cell_type": "code",
   "execution_count": 176,
   "metadata": {
    "colab": {},
    "colab_type": "code",
    "id": "rRbvdg7YSyLS"
   },
   "outputs": [],
   "source": [
    "points = np.arange(-5, 5, 0.01) # 1000 equally spaced points"
   ]
  },
  {
   "cell_type": "code",
   "execution_count": 177,
   "metadata": {
    "colab": {},
    "colab_type": "code",
    "id": "de8BpqEKTbZa"
   },
   "outputs": [],
   "source": [
    "xs, ys = np.meshgrid(points, points)"
   ]
  },
  {
   "cell_type": "code",
   "execution_count": 178,
   "metadata": {
    "colab": {
     "base_uri": "https://localhost:8080/",
     "height": 142
    },
    "colab_type": "code",
    "executionInfo": {
     "elapsed": 33831,
     "status": "ok",
     "timestamp": 1550685943278,
     "user": {
      "displayName": "Ana D",
      "photoUrl": "",
      "userId": "13952176772373622573"
     },
     "user_tz": -330
    },
    "id": "LV_iK8iJTh3u",
    "outputId": "e31ccc20-770a-42b1-bc88-cab9bae05796"
   },
   "outputs": [
    {
     "data": {
      "text/plain": [
       "array([[-5.  , -4.99, -4.98, ...,  4.97,  4.98,  4.99],\n",
       "       [-5.  , -4.99, -4.98, ...,  4.97,  4.98,  4.99],\n",
       "       [-5.  , -4.99, -4.98, ...,  4.97,  4.98,  4.99],\n",
       "       ...,\n",
       "       [-5.  , -4.99, -4.98, ...,  4.97,  4.98,  4.99],\n",
       "       [-5.  , -4.99, -4.98, ...,  4.97,  4.98,  4.99],\n",
       "       [-5.  , -4.99, -4.98, ...,  4.97,  4.98,  4.99]])"
      ]
     },
     "execution_count": 178,
     "metadata": {},
     "output_type": "execute_result"
    }
   ],
   "source": [
    "xs"
   ]
  },
  {
   "cell_type": "code",
   "execution_count": 179,
   "metadata": {
    "colab": {
     "base_uri": "https://localhost:8080/",
     "height": 142
    },
    "colab_type": "code",
    "executionInfo": {
     "elapsed": 33645,
     "status": "ok",
     "timestamp": 1550685943284,
     "user": {
      "displayName": "Ana D",
      "photoUrl": "",
      "userId": "13952176772373622573"
     },
     "user_tz": -330
    },
    "id": "99kO8QndTqi2",
    "outputId": "bce0a28e-8d5a-4ecf-b357-4ff3e949ef14"
   },
   "outputs": [
    {
     "data": {
      "text/plain": [
       "array([[-5.  , -5.  , -5.  , ..., -5.  , -5.  , -5.  ],\n",
       "       [-4.99, -4.99, -4.99, ..., -4.99, -4.99, -4.99],\n",
       "       [-4.98, -4.98, -4.98, ..., -4.98, -4.98, -4.98],\n",
       "       ...,\n",
       "       [ 4.97,  4.97,  4.97, ...,  4.97,  4.97,  4.97],\n",
       "       [ 4.98,  4.98,  4.98, ...,  4.98,  4.98,  4.98],\n",
       "       [ 4.99,  4.99,  4.99, ...,  4.99,  4.99,  4.99]])"
      ]
     },
     "execution_count": 179,
     "metadata": {},
     "output_type": "execute_result"
    }
   ],
   "source": [
    "ys"
   ]
  },
  {
   "cell_type": "code",
   "execution_count": 180,
   "metadata": {
    "colab": {
     "base_uri": "https://localhost:8080/",
     "height": 249
    },
    "colab_type": "code",
    "executionInfo": {
     "elapsed": 33455,
     "status": "ok",
     "timestamp": 1550685943292,
     "user": {
      "displayName": "Ana D",
      "photoUrl": "",
      "userId": "13952176772373622573"
     },
     "user_tz": -330
    },
    "id": "0f2QUK45Ts_J",
    "outputId": "a98c3d66-4526-4c47-aba7-53247e59f8c0"
   },
   "outputs": [
    {
     "data": {
      "text/plain": [
       "array([[7.07106781, 7.06400028, 7.05693985, ..., 7.04988652, 7.05693985,\n",
       "        7.06400028],\n",
       "       [7.06400028, 7.05692568, 7.04985815, ..., 7.04279774, 7.04985815,\n",
       "        7.05692568],\n",
       "       [7.05693985, 7.04985815, 7.04278354, ..., 7.03571603, 7.04278354,\n",
       "        7.04985815],\n",
       "       ...,\n",
       "       [7.04988652, 7.04279774, 7.03571603, ..., 7.0286414 , 7.03571603,\n",
       "        7.04279774],\n",
       "       [7.05693985, 7.04985815, 7.04278354, ..., 7.03571603, 7.04278354,\n",
       "        7.04985815],\n",
       "       [7.06400028, 7.05692568, 7.04985815, ..., 7.04279774, 7.04985815,\n",
       "        7.05692568]])"
      ]
     },
     "execution_count": 180,
     "metadata": {},
     "output_type": "execute_result"
    }
   ],
   "source": [
    "z = np.sqrt(xs ** 2 + ys ** 2)\n",
    "z"
   ]
  },
  {
   "cell_type": "code",
   "execution_count": 181,
   "metadata": {
    "colab": {},
    "colab_type": "code",
    "id": "HXMBz2fqUEA0"
   },
   "outputs": [],
   "source": [
    "import matplotlib.pyplot as plt"
   ]
  },
  {
   "cell_type": "code",
   "execution_count": 182,
   "metadata": {
    "colab": {
     "base_uri": "https://localhost:8080/",
     "height": 388
    },
    "colab_type": "code",
    "executionInfo": {
     "elapsed": 33203,
     "status": "ok",
     "timestamp": 1550685943326,
     "user": {
      "displayName": "Ana D",
      "photoUrl": "",
      "userId": "13952176772373622573"
     },
     "user_tz": -330
    },
    "id": "n6MnAVxWUPpT",
    "outputId": "67c67e4d-a367-49d6-ba3e-1542c10d2cb1"
   },
   "outputs": [
    {
     "data": {
      "text/plain": [
       "Text(0.5,1,'Image plot of $\\\\sqrt{x^2 + y^2}$ for a grid of values')"
      ]
     },
     "execution_count": 182,
     "metadata": {},
     "output_type": "execute_result"
    },
    {
     "data": {
      "image/png": "[encoded data removed]",
      "text/plain": [
       "<Figure size 432x288 with 2 Axes>"
      ]
     },
     "metadata": {},
     "output_type": "display_data"
    }
   ],
   "source": [
    "plt.imshow(z, cmap = plt.cm.gray);\n",
    "plt.colorbar()\n",
    "plt.title(\"Image plot of $\\sqrt{x^2 + y^2}$ for a grid of values\")"
   ]
  },
  {
   "cell_type": "markdown",
   "metadata": {
    "colab_type": "text",
    "id": "YmcPAtSTVKDD"
   },
   "source": [
    "## Expressing Conditional Logic as array operations"
   ]
  },
  {
   "cell_type": "code",
   "execution_count": 183,
   "metadata": {
    "colab": {},
    "colab_type": "code",
    "id": "PnYHmWr2Uzql"
   },
   "outputs": [],
   "source": [
    "xarr = np.array([1.1, 1.2, 1.3, 1.4, 1.5])"
   ]
  },
  {
   "cell_type": "code",
   "execution_count": 184,
   "metadata": {
    "colab": {},
    "colab_type": "code",
    "id": "5Hul8Ci7VcNn"
   },
   "outputs": [],
   "source": [
    "yarr = np.array([2.1, 2.2, 2.3, 2.4, 2.5])"
   ]
  },
  {
   "cell_type": "code",
   "execution_count": 185,
   "metadata": {
    "colab": {},
    "colab_type": "code",
    "id": "slbJYoQ7Vjpj"
   },
   "outputs": [],
   "source": [
    "cond = np.array([True, False, True, True, False])"
   ]
  },
  {
   "cell_type": "code",
   "execution_count": 186,
   "metadata": {
    "colab": {
     "base_uri": "https://localhost:8080/",
     "height": 35
    },
    "colab_type": "code",
    "executionInfo": {
     "elapsed": 32730,
     "status": "ok",
     "timestamp": 1550685943367,
     "user": {
      "displayName": "Ana D",
      "photoUrl": "",
      "userId": "13952176772373622573"
     },
     "user_tz": -330
    },
    "id": "upYYvu39Vr1a",
    "outputId": "e0316ddb-873e-49c1-b30a-9c0c8a63da1a"
   },
   "outputs": [
    {
     "data": {
      "text/plain": [
       "[1.1, 2.2, 1.3, 1.4, 2.5]"
      ]
     },
     "execution_count": 186,
     "metadata": {},
     "output_type": "execute_result"
    }
   ],
   "source": [
    "# List comprehension\n",
    "\n",
    "result = [(x if c else y)\n",
    "          for x, y, c in zip(xarr, yarr, cond)]\n",
    "\n",
    "result"
   ]
  },
  {
   "cell_type": "code",
   "execution_count": 187,
   "metadata": {
    "colab": {
     "base_uri": "https://localhost:8080/",
     "height": 35
    },
    "colab_type": "code",
    "executionInfo": {
     "elapsed": 32550,
     "status": "ok",
     "timestamp": 1550685943387,
     "user": {
      "displayName": "Ana D",
      "photoUrl": "",
      "userId": "13952176772373622573"
     },
     "user_tz": -330
    },
    "id": "cf9-4figV_O1",
    "outputId": "bbbb87e1-9106-49c8-adc1-8607a9903f81"
   },
   "outputs": [
    {
     "data": {
      "text/plain": [
       "array([1.1, 2.2, 1.3, 1.4, 2.5])"
      ]
     },
     "execution_count": 187,
     "metadata": {},
     "output_type": "execute_result"
    }
   ],
   "source": [
    "# Same thing using np.where\n",
    "\n",
    "result = np.where(cond, xarr, yarr)\n",
    "result"
   ]
  },
  {
   "cell_type": "code",
   "execution_count": 188,
   "metadata": {
    "colab": {
     "base_uri": "https://localhost:8080/",
     "height": 88
    },
    "colab_type": "code",
    "executionInfo": {
     "elapsed": 32348,
     "status": "ok",
     "timestamp": 1550685943393,
     "user": {
      "displayName": "Ana D",
      "photoUrl": "",
      "userId": "13952176772373622573"
     },
     "user_tz": -330
    },
    "id": "UCGN1o8eWZ6D",
    "outputId": "72501a3c-94df-40ee-e2ba-98d7688f28f9"
   },
   "outputs": [
    {
     "data": {
      "text/plain": [
       "array([[ 0.18679473,  0.47179336, -0.8522159 , -0.06974315],\n",
       "       [-0.33441345, -1.43676576, -1.38251155, -0.86400405],\n",
       "       [ 0.11731193,  0.79053553,  0.30476901, -1.62030187],\n",
       "       [ 0.57298809,  1.4516482 , -0.9315191 , -1.09190746]])"
      ]
     },
     "execution_count": 188,
     "metadata": {},
     "output_type": "execute_result"
    }
   ],
   "source": [
    "arr = np.random.randn(4, 4)\n",
    "arr"
   ]
  },
  {
   "cell_type": "code",
   "execution_count": 189,
   "metadata": {
    "colab": {
     "base_uri": "https://localhost:8080/",
     "height": 88
    },
    "colab_type": "code",
    "executionInfo": {
     "elapsed": 32116,
     "status": "ok",
     "timestamp": 1550685943407,
     "user": {
      "displayName": "Ana D",
      "photoUrl": "",
      "userId": "13952176772373622573"
     },
     "user_tz": -330
    },
    "id": "QWOM3jAZWnJ5",
    "outputId": "4051801e-20c8-4fde-f5fd-0d57f7499cb3"
   },
   "outputs": [
    {
     "data": {
      "text/plain": [
       "array([[ True,  True, False, False],\n",
       "       [False, False, False, False],\n",
       "       [ True,  True,  True, False],\n",
       "       [ True,  True, False, False]])"
      ]
     },
     "execution_count": 189,
     "metadata": {},
     "output_type": "execute_result"
    }
   ],
   "source": [
    "arr > 0"
   ]
  },
  {
   "cell_type": "code",
   "execution_count": 190,
   "metadata": {
    "colab": {
     "base_uri": "https://localhost:8080/",
     "height": 88
    },
    "colab_type": "code",
    "executionInfo": {
     "elapsed": 31909,
     "status": "ok",
     "timestamp": 1550685943415,
     "user": {
      "displayName": "Ana D",
      "photoUrl": "",
      "userId": "13952176772373622573"
     },
     "user_tz": -330
    },
    "id": "5ZvSaLq5WqjS",
    "outputId": "4bdffe2c-0963-4a2b-94e9-b3db125204a8"
   },
   "outputs": [
    {
     "data": {
      "text/plain": [
       "array([[ 2,  2, -2, -2],\n",
       "       [-2, -2, -2, -2],\n",
       "       [ 2,  2,  2, -2],\n",
       "       [ 2,  2, -2, -2]])"
      ]
     },
     "execution_count": 190,
     "metadata": {},
     "output_type": "execute_result"
    }
   ],
   "source": [
    "np.where(arr > 0, 2, -2)"
   ]
  },
  {
   "cell_type": "code",
   "execution_count": 191,
   "metadata": {
    "colab": {
     "base_uri": "https://localhost:8080/",
     "height": 88
    },
    "colab_type": "code",
    "executionInfo": {
     "elapsed": 31723,
     "status": "ok",
     "timestamp": 1550685943422,
     "user": {
      "displayName": "Ana D",
      "photoUrl": "",
      "userId": "13952176772373622573"
     },
     "user_tz": -330
    },
    "id": "t-cB5fa4W4_B",
    "outputId": "0ed7e720-9c1f-4057-9d0d-3ba2b42b846d"
   },
   "outputs": [
    {
     "data": {
      "text/plain": [
       "array([[ 2.        ,  2.        , -0.8522159 , -0.06974315],\n",
       "       [-0.33441345, -1.43676576, -1.38251155, -0.86400405],\n",
       "       [ 2.        ,  2.        ,  2.        , -1.62030187],\n",
       "       [ 2.        ,  2.        , -0.9315191 , -1.09190746]])"
      ]
     },
     "execution_count": 191,
     "metadata": {},
     "output_type": "execute_result"
    }
   ],
   "source": [
    "np.where(arr > 0, 2, arr) # set only positive values to 2"
   ]
  },
  {
   "cell_type": "markdown",
   "metadata": {
    "colab_type": "text",
    "id": "N0S1B8zAXNNi"
   },
   "source": [
    "## Mathematical and Statistical methods"
   ]
  },
  {
   "cell_type": "code",
   "execution_count": 192,
   "metadata": {
    "colab": {
     "base_uri": "https://localhost:8080/",
     "height": 106
    },
    "colab_type": "code",
    "executionInfo": {
     "elapsed": 31540,
     "status": "ok",
     "timestamp": 1550685943431,
     "user": {
      "displayName": "Ana D",
      "photoUrl": "",
      "userId": "13952176772373622573"
     },
     "user_tz": -330
    },
    "id": "-LObfXkmXGic",
    "outputId": "08a35d4e-6376-433c-ad07-2e1f1d216716"
   },
   "outputs": [
    {
     "data": {
      "text/plain": [
       "array([[ 0.50149439, -0.95810209,  0.31134692,  0.10545839],\n",
       "       [ 0.25752155,  1.16335466, -0.5383497 , -0.11232145],\n",
       "       [-1.61439874, -1.63713226, -0.16646762,  0.11904045],\n",
       "       [-1.36105863, -1.35741025,  0.56811273,  0.22951859],\n",
       "       [-1.21501632, -0.49779849, -0.13482026,  1.31838603]])"
      ]
     },
     "execution_count": 192,
     "metadata": {},
     "output_type": "execute_result"
    }
   ],
   "source": [
    "arr = np.random.randn(5, 4)\n",
    "arr"
   ]
  },
  {
   "cell_type": "code",
   "execution_count": 193,
   "metadata": {
    "colab": {
     "base_uri": "https://localhost:8080/",
     "height": 35
    },
    "colab_type": "code",
    "executionInfo": {
     "elapsed": 31366,
     "status": "ok",
     "timestamp": 1550685943438,
     "user": {
      "displayName": "Ana D",
      "photoUrl": "",
      "userId": "13952176772373622573"
     },
     "user_tz": -330
    },
    "id": "TFUPBI7BXltl",
    "outputId": "2a4724a3-fe31-43a4-c88e-301cc648238e"
   },
   "outputs": [
    {
     "data": {
      "text/plain": [
       "-0.25093210404217475"
      ]
     },
     "execution_count": 193,
     "metadata": {},
     "output_type": "execute_result"
    }
   ],
   "source": [
    "arr.mean()"
   ]
  },
  {
   "cell_type": "code",
   "execution_count": 194,
   "metadata": {
    "colab": {
     "base_uri": "https://localhost:8080/",
     "height": 35
    },
    "colab_type": "code",
    "executionInfo": {
     "elapsed": 31178,
     "status": "ok",
     "timestamp": 1550685943447,
     "user": {
      "displayName": "Ana D",
      "photoUrl": "",
      "userId": "13952176772373622573"
     },
     "user_tz": -330
    },
    "id": "yTk5Z8pyXogd",
    "outputId": "1e5ecf99-1343-45dc-f9cb-fee42a24c015"
   },
   "outputs": [
    {
     "data": {
      "text/plain": [
       "-0.25093210404217475"
      ]
     },
     "execution_count": 194,
     "metadata": {},
     "output_type": "execute_result"
    }
   ],
   "source": [
    "np.mean(arr)"
   ]
  },
  {
   "cell_type": "code",
   "execution_count": 195,
   "metadata": {
    "colab": {
     "base_uri": "https://localhost:8080/",
     "height": 35
    },
    "colab_type": "code",
    "executionInfo": {
     "elapsed": 30967,
     "status": "ok",
     "timestamp": 1550685943453,
     "user": {
      "displayName": "Ana D",
      "photoUrl": "",
      "userId": "13952176772373622573"
     },
     "user_tz": -330
    },
    "id": "mOvFORbLXrRe",
    "outputId": "0587fef1-9c4f-4ed5-cdd1-9815e5917dc8"
   },
   "outputs": [
    {
     "data": {
      "text/plain": [
       "-5.018642080843495"
      ]
     },
     "execution_count": 195,
     "metadata": {},
     "output_type": "execute_result"
    }
   ],
   "source": [
    "arr.sum()"
   ]
  },
  {
   "cell_type": "code",
   "execution_count": 196,
   "metadata": {
    "colab": {
     "base_uri": "https://localhost:8080/",
     "height": 35
    },
    "colab_type": "code",
    "executionInfo": {
     "elapsed": 30738,
     "status": "ok",
     "timestamp": 1550685943458,
     "user": {
      "displayName": "Ana D",
      "photoUrl": "",
      "userId": "13952176772373622573"
     },
     "user_tz": -330
    },
    "id": "moLPWsdnXuT5",
    "outputId": "356236b9-9425-4eb0-c788-b7331ba525cc"
   },
   "outputs": [
    {
     "data": {
      "text/plain": [
       "array([-0.0099506 ,  0.19255127, -0.82473954, -0.48020939, -0.13231226])"
      ]
     },
     "execution_count": 196,
     "metadata": {},
     "output_type": "execute_result"
    }
   ],
   "source": [
    "arr.mean(axis = 1)"
   ]
  },
  {
   "cell_type": "code",
   "execution_count": 197,
   "metadata": {
    "colab": {
     "base_uri": "https://localhost:8080/",
     "height": 35
    },
    "colab_type": "code",
    "executionInfo": {
     "elapsed": 30516,
     "status": "ok",
     "timestamp": 1550685943465,
     "user": {
      "displayName": "Ana D",
      "photoUrl": "",
      "userId": "13952176772373622573"
     },
     "user_tz": -330
    },
    "id": "QlbrG1fwYHN0",
    "outputId": "89c73f09-6161-46de-9094-7a44536b85f0"
   },
   "outputs": [
    {
     "data": {
      "text/plain": [
       "array([-3.43145775, -3.28708843,  0.03982208,  1.66008201])"
      ]
     },
     "execution_count": 197,
     "metadata": {},
     "output_type": "execute_result"
    }
   ],
   "source": [
    "arr.sum(axis = 0)"
   ]
  },
  {
   "cell_type": "code",
   "execution_count": 198,
   "metadata": {
    "colab": {
     "base_uri": "https://localhost:8080/",
     "height": 35
    },
    "colab_type": "code",
    "executionInfo": {
     "elapsed": 30256,
     "status": "ok",
     "timestamp": 1550685943471,
     "user": {
      "displayName": "Ana D",
      "photoUrl": "",
      "userId": "13952176772373622573"
     },
     "user_tz": -330
    },
    "id": "-1krRLMEYJ4z",
    "outputId": "0aaf6a8d-0965-4f58-ea7f-dfb6d8d832f4"
   },
   "outputs": [
    {
     "data": {
      "text/plain": [
       "-3.431457747537051"
      ]
     },
     "execution_count": 198,
     "metadata": {},
     "output_type": "execute_result"
    }
   ],
   "source": [
    "np.sum(arr[:, 0])"
   ]
  },
  {
   "cell_type": "code",
   "execution_count": 199,
   "metadata": {
    "colab": {},
    "colab_type": "code",
    "id": "NdLAH2GSYdcI"
   },
   "outputs": [],
   "source": [
    "arr = np.array([0, 1, 2, 3, 4, 5, 6, 7])"
   ]
  },
  {
   "cell_type": "code",
   "execution_count": 200,
   "metadata": {
    "colab": {
     "base_uri": "https://localhost:8080/",
     "height": 35
    },
    "colab_type": "code",
    "executionInfo": {
     "elapsed": 29824,
     "status": "ok",
     "timestamp": 1550685943488,
     "user": {
      "displayName": "Ana D",
      "photoUrl": "",
      "userId": "13952176772373622573"
     },
     "user_tz": -330
    },
    "id": "wwXiwEvOY1M5",
    "outputId": "ec852653-6c54-4939-f4fa-a4dc1113ad80"
   },
   "outputs": [
    {
     "data": {
      "text/plain": [
       "array([ 0,  1,  3,  6, 10, 15, 21, 28], dtype=int32)"
      ]
     },
     "execution_count": 200,
     "metadata": {},
     "output_type": "execute_result"
    }
   ],
   "source": [
    "arr.cumsum()"
   ]
  },
  {
   "cell_type": "code",
   "execution_count": 201,
   "metadata": {
    "colab": {
     "base_uri": "https://localhost:8080/",
     "height": 71
    },
    "colab_type": "code",
    "executionInfo": {
     "elapsed": 29343,
     "status": "ok",
     "timestamp": 1550685943497,
     "user": {
      "displayName": "Ana D",
      "photoUrl": "",
      "userId": "13952176772373622573"
     },
     "user_tz": -330
    },
    "id": "yYfLBvf5Y6tF",
    "outputId": "faa3b34e-0242-4a47-d136-db16992232a0"
   },
   "outputs": [
    {
     "data": {
      "text/plain": [
       "array([[0, 1, 2],\n",
       "       [3, 4, 5],\n",
       "       [6, 7, 8]])"
      ]
     },
     "execution_count": 201,
     "metadata": {},
     "output_type": "execute_result"
    }
   ],
   "source": [
    "arr = np.array([[0, 1, 2], [3, 4, 5], [6, 7, 8]])\n",
    "arr"
   ]
  },
  {
   "cell_type": "code",
   "execution_count": 202,
   "metadata": {
    "colab": {
     "base_uri": "https://localhost:8080/",
     "height": 71
    },
    "colab_type": "code",
    "executionInfo": {
     "elapsed": 28787,
     "status": "ok",
     "timestamp": 1550685943508,
     "user": {
      "displayName": "Ana D",
      "photoUrl": "",
      "userId": "13952176772373622573"
     },
     "user_tz": -330
    },
    "id": "rJc3co8iZMEH",
    "outputId": "827a25e2-01ea-418b-9345-41830c438dc5"
   },
   "outputs": [
    {
     "data": {
      "text/plain": [
       "array([[ 0,  1,  2],\n",
       "       [ 3,  5,  7],\n",
       "       [ 9, 12, 15]], dtype=int32)"
      ]
     },
     "execution_count": 202,
     "metadata": {},
     "output_type": "execute_result"
    }
   ],
   "source": [
    "arr.cumsum(axis = 0)"
   ]
  },
  {
   "cell_type": "code",
   "execution_count": 203,
   "metadata": {
    "colab": {
     "base_uri": "https://localhost:8080/",
     "height": 71
    },
    "colab_type": "code",
    "executionInfo": {
     "elapsed": 28562,
     "status": "ok",
     "timestamp": 1550685943515,
     "user": {
      "displayName": "Ana D",
      "photoUrl": "",
      "userId": "13952176772373622573"
     },
     "user_tz": -330
    },
    "id": "o68VvmnOZRAk",
    "outputId": "1816bf8d-ff7f-47b6-ad32-4c2ea973268d"
   },
   "outputs": [
    {
     "data": {
      "text/plain": [
       "array([[  0,   0,   0],\n",
       "       [  3,  12,  60],\n",
       "       [  6,  42, 336]], dtype=int32)"
      ]
     },
     "execution_count": 203,
     "metadata": {},
     "output_type": "execute_result"
    }
   ],
   "source": [
    "arr.cumprod(axis = 1)"
   ]
  },
  {
   "cell_type": "markdown",
   "metadata": {
    "colab_type": "text",
    "id": "ZYaCzrf_ZsL3"
   },
   "source": [
    "## Methods for Boolean Arrays"
   ]
  },
  {
   "cell_type": "code",
   "execution_count": 204,
   "metadata": {
    "colab": {},
    "colab_type": "code",
    "id": "QgJUCZNxZY3o"
   },
   "outputs": [],
   "source": [
    "arr = np.random.randn(100)"
   ]
  },
  {
   "cell_type": "code",
   "execution_count": 205,
   "metadata": {
    "colab": {
     "base_uri": "https://localhost:8080/",
     "height": 35
    },
    "colab_type": "code",
    "executionInfo": {
     "elapsed": 28315,
     "status": "ok",
     "timestamp": 1550685943531,
     "user": {
      "displayName": "Ana D",
      "photoUrl": "",
      "userId": "13952176772373622573"
     },
     "user_tz": -330
    },
    "id": "hgVcu1UFZxyZ",
    "outputId": "fe6010f9-6fba-4f67-c314-2826fc8d476f"
   },
   "outputs": [
    {
     "data": {
      "text/plain": [
       "51"
      ]
     },
     "execution_count": 205,
     "metadata": {},
     "output_type": "execute_result"
    }
   ],
   "source": [
    "(arr > 0).sum() # No. of positive values"
   ]
  },
  {
   "cell_type": "code",
   "execution_count": 206,
   "metadata": {
    "colab": {},
    "colab_type": "code",
    "id": "kxeof7izZ47J"
   },
   "outputs": [],
   "source": [
    "bools = np.array([False, False, True, False])"
   ]
  },
  {
   "cell_type": "code",
   "execution_count": 207,
   "metadata": {
    "colab": {
     "base_uri": "https://localhost:8080/",
     "height": 35
    },
    "colab_type": "code",
    "executionInfo": {
     "elapsed": 28078,
     "status": "ok",
     "timestamp": 1550685943544,
     "user": {
      "displayName": "Ana D",
      "photoUrl": "",
      "userId": "13952176772373622573"
     },
     "user_tz": -330
    },
    "id": "d32zgK1SaE44",
    "outputId": "840a5c0c-b049-4788-8357-18c103de1495"
   },
   "outputs": [
    {
     "data": {
      "text/plain": [
       "True"
      ]
     },
     "execution_count": 207,
     "metadata": {},
     "output_type": "execute_result"
    }
   ],
   "source": [
    "bools.any()"
   ]
  },
  {
   "cell_type": "code",
   "execution_count": 208,
   "metadata": {
    "colab": {
     "base_uri": "https://localhost:8080/",
     "height": 35
    },
    "colab_type": "code",
    "executionInfo": {
     "elapsed": 27892,
     "status": "ok",
     "timestamp": 1550685943549,
     "user": {
      "displayName": "Ana D",
      "photoUrl": "",
      "userId": "13952176772373622573"
     },
     "user_tz": -330
    },
    "id": "JkLSBcTraHOV",
    "outputId": "bcf8baa0-0975-48d0-df7e-e7597194521e"
   },
   "outputs": [
    {
     "data": {
      "text/plain": [
       "False"
      ]
     },
     "execution_count": 208,
     "metadata": {},
     "output_type": "execute_result"
    }
   ],
   "source": [
    "bools.all()"
   ]
  },
  {
   "cell_type": "markdown",
   "metadata": {
    "colab_type": "text",
    "id": "DzcipLs5aa31"
   },
   "source": [
    "## Sorting"
   ]
  },
  {
   "cell_type": "code",
   "execution_count": 209,
   "metadata": {
    "colab": {
     "base_uri": "https://localhost:8080/",
     "height": 53
    },
    "colab_type": "code",
    "executionInfo": {
     "elapsed": 27636,
     "status": "ok",
     "timestamp": 1550685943558,
     "user": {
      "displayName": "Ana D",
      "photoUrl": "",
      "userId": "13952176772373622573"
     },
     "user_tz": -330
    },
    "id": "Jp8UwpZ2aUB6",
    "outputId": "71fcb9a1-f24d-4cf8-9e0a-b014dda21dd2"
   },
   "outputs": [
    {
     "data": {
      "text/plain": [
       "array([-0.19695451,  0.05807849,  1.42889542,  1.87946072, -2.11942681,\n",
       "       -0.98007865])"
      ]
     },
     "execution_count": 209,
     "metadata": {},
     "output_type": "execute_result"
    }
   ],
   "source": [
    "arr = np.random.randn(6)\n",
    "arr"
   ]
  },
  {
   "cell_type": "code",
   "execution_count": 210,
   "metadata": {
    "colab": {},
    "colab_type": "code",
    "id": "64ZyHphbandu"
   },
   "outputs": [],
   "source": [
    "arr.sort()"
   ]
  },
  {
   "cell_type": "code",
   "execution_count": 211,
   "metadata": {
    "colab": {
     "base_uri": "https://localhost:8080/",
     "height": 53
    },
    "colab_type": "code",
    "executionInfo": {
     "elapsed": 27360,
     "status": "ok",
     "timestamp": 1550685943573,
     "user": {
      "displayName": "Ana D",
      "photoUrl": "",
      "userId": "13952176772373622573"
     },
     "user_tz": -330
    },
    "id": "kqT471Fhaq0l",
    "outputId": "91a9fe20-9efb-42a3-e059-5b15810a30b3"
   },
   "outputs": [
    {
     "data": {
      "text/plain": [
       "array([-2.11942681, -0.98007865, -0.19695451,  0.05807849,  1.42889542,\n",
       "        1.87946072])"
      ]
     },
     "execution_count": 211,
     "metadata": {},
     "output_type": "execute_result"
    }
   ],
   "source": [
    "arr"
   ]
  },
  {
   "cell_type": "code",
   "execution_count": 212,
   "metadata": {
    "colab": {
     "base_uri": "https://localhost:8080/",
     "height": 106
    },
    "colab_type": "code",
    "executionInfo": {
     "elapsed": 27157,
     "status": "ok",
     "timestamp": 1550685943581,
     "user": {
      "displayName": "Ana D",
      "photoUrl": "",
      "userId": "13952176772373622573"
     },
     "user_tz": -330
    },
    "id": "F9BvR7zLatRX",
    "outputId": "2a581891-0dea-401c-f19c-6816e0701458"
   },
   "outputs": [
    {
     "data": {
      "text/plain": [
       "array([[-1.09475054,  0.98565163, -0.81186195],\n",
       "       [-0.51044345, -0.45345478,  1.43754234],\n",
       "       [-2.40407517,  0.76616133, -0.44529953],\n",
       "       [ 0.08497168, -1.56799631,  0.06805572],\n",
       "       [ 1.53760119,  1.70286802,  2.28006811]])"
      ]
     },
     "execution_count": 212,
     "metadata": {},
     "output_type": "execute_result"
    }
   ],
   "source": [
    "arr = np.random.randn(5, 3)\n",
    "arr"
   ]
  },
  {
   "cell_type": "code",
   "execution_count": 213,
   "metadata": {
    "colab": {},
    "colab_type": "code",
    "id": "SWVpMRJray9B"
   },
   "outputs": [],
   "source": [
    "arr.sort(1)"
   ]
  },
  {
   "cell_type": "code",
   "execution_count": 214,
   "metadata": {
    "colab": {
     "base_uri": "https://localhost:8080/",
     "height": 106
    },
    "colab_type": "code",
    "executionInfo": {
     "elapsed": 26937,
     "status": "ok",
     "timestamp": 1550685943595,
     "user": {
      "displayName": "Ana D",
      "photoUrl": "",
      "userId": "13952176772373622573"
     },
     "user_tz": -330
    },
    "id": "38X7XTKNbJ2r",
    "outputId": "4f2aa069-e4d8-4d64-d8da-2b610bcf841f"
   },
   "outputs": [
    {
     "data": {
      "text/plain": [
       "array([[-1.09475054, -0.81186195,  0.98565163],\n",
       "       [-0.51044345, -0.45345478,  1.43754234],\n",
       "       [-2.40407517, -0.44529953,  0.76616133],\n",
       "       [-1.56799631,  0.06805572,  0.08497168],\n",
       "       [ 1.53760119,  1.70286802,  2.28006811]])"
      ]
     },
     "execution_count": 214,
     "metadata": {},
     "output_type": "execute_result"
    }
   ],
   "source": [
    "arr"
   ]
  },
  {
   "cell_type": "code",
   "execution_count": 215,
   "metadata": {
    "colab": {},
    "colab_type": "code",
    "id": "oMPvQq7BbK-V"
   },
   "outputs": [],
   "source": [
    "large_arr = np.random.randn(1000)"
   ]
  },
  {
   "cell_type": "code",
   "execution_count": 216,
   "metadata": {
    "colab": {},
    "colab_type": "code",
    "id": "TX_b_j0ZbXFo"
   },
   "outputs": [],
   "source": [
    "large_arr.sort()"
   ]
  },
  {
   "cell_type": "code",
   "execution_count": 217,
   "metadata": {
    "colab": {
     "base_uri": "https://localhost:8080/",
     "height": 35
    },
    "colab_type": "code",
    "executionInfo": {
     "elapsed": 26664,
     "status": "ok",
     "timestamp": 1550685943616,
     "user": {
      "displayName": "Ana D",
      "photoUrl": "",
      "userId": "13952176772373622573"
     },
     "user_tz": -330
    },
    "id": "1XPunU3_bbTI",
    "outputId": "0ed642e9-0ae3-403e-e5b6-d6d168125cd3"
   },
   "outputs": [
    {
     "data": {
      "text/plain": [
       "-1.5611325109454366"
      ]
     },
     "execution_count": 217,
     "metadata": {},
     "output_type": "execute_result"
    }
   ],
   "source": [
    "large_arr[int(0.05 * len(large_arr))] # 5% quantile"
   ]
  },
  {
   "cell_type": "markdown",
   "metadata": {
    "colab_type": "text",
    "id": "Fv6wKcHscTAg"
   },
   "source": [
    "## Unique and other Set logic"
   ]
  },
  {
   "cell_type": "code",
   "execution_count": 218,
   "metadata": {
    "colab": {},
    "colab_type": "code",
    "id": "dvCseFFwbpQG"
   },
   "outputs": [],
   "source": [
    "names = np.array(['Bob', 'Joe', 'Will', 'Bob', 'Will', 'Joe', 'Joe'])"
   ]
  },
  {
   "cell_type": "code",
   "execution_count": 219,
   "metadata": {
    "colab": {
     "base_uri": "https://localhost:8080/",
     "height": 35
    },
    "colab_type": "code",
    "executionInfo": {
     "elapsed": 26417,
     "status": "ok",
     "timestamp": 1550685943626,
     "user": {
      "displayName": "Ana D",
      "photoUrl": "",
      "userId": "13952176772373622573"
     },
     "user_tz": -330
    },
    "id": "78wfwohbcywg",
    "outputId": "3ea62294-a9c6-47cb-ec65-368b2837da5c"
   },
   "outputs": [
    {
     "data": {
      "text/plain": [
       "array(['Bob', 'Joe', 'Will'], dtype='<U4')"
      ]
     },
     "execution_count": 219,
     "metadata": {},
     "output_type": "execute_result"
    }
   ],
   "source": [
    "np.unique(names)"
   ]
  },
  {
   "cell_type": "code",
   "execution_count": 220,
   "metadata": {
    "colab": {},
    "colab_type": "code",
    "id": "15NBOHSjc0_F"
   },
   "outputs": [],
   "source": [
    "ints = np.array([3, 3, 3, 2, 2, 1, 1, 4, 4])"
   ]
  },
  {
   "cell_type": "code",
   "execution_count": 221,
   "metadata": {
    "colab": {
     "base_uri": "https://localhost:8080/",
     "height": 35
    },
    "colab_type": "code",
    "executionInfo": {
     "elapsed": 26191,
     "status": "ok",
     "timestamp": 1550685943648,
     "user": {
      "displayName": "Ana D",
      "photoUrl": "",
      "userId": "13952176772373622573"
     },
     "user_tz": -330
    },
    "id": "4UYCIM6gd3yI",
    "outputId": "b34a8f5b-ecbd-4c32-bbdc-cfbfa79602a1"
   },
   "outputs": [
    {
     "data": {
      "text/plain": [
       "array([1, 2, 3, 4])"
      ]
     },
     "execution_count": 221,
     "metadata": {},
     "output_type": "execute_result"
    }
   ],
   "source": [
    "np.unique(ints)"
   ]
  },
  {
   "cell_type": "code",
   "execution_count": 222,
   "metadata": {
    "colab": {
     "base_uri": "https://localhost:8080/",
     "height": 35
    },
    "colab_type": "code",
    "executionInfo": {
     "elapsed": 26015,
     "status": "ok",
     "timestamp": 1550685943657,
     "user": {
      "displayName": "Ana D",
      "photoUrl": "",
      "userId": "13952176772373622573"
     },
     "user_tz": -330
    },
    "id": "whfIxSRdd6xV",
    "outputId": "e774a122-6c64-4cd1-ea9e-2a0b6950220f"
   },
   "outputs": [
    {
     "data": {
      "text/plain": [
       "['Bob', 'Joe', 'Will']"
      ]
     },
     "execution_count": 222,
     "metadata": {},
     "output_type": "execute_result"
    }
   ],
   "source": [
    "sorted(set(names))"
   ]
  },
  {
   "cell_type": "code",
   "execution_count": 223,
   "metadata": {
    "colab": {},
    "colab_type": "code",
    "id": "7wjezpvZeFN6"
   },
   "outputs": [],
   "source": [
    "values = np.array([6, 0, 0, 3, 2, 5, 6])"
   ]
  },
  {
   "cell_type": "code",
   "execution_count": 224,
   "metadata": {
    "colab": {
     "base_uri": "https://localhost:8080/",
     "height": 35
    },
    "colab_type": "code",
    "executionInfo": {
     "elapsed": 25766,
     "status": "ok",
     "timestamp": 1550685943671,
     "user": {
      "displayName": "Ana D",
      "photoUrl": "",
      "userId": "13952176772373622573"
     },
     "user_tz": -330
    },
    "id": "R4S3k4nFeVXl",
    "outputId": "f11edaa0-7927-407a-e579-4fb86f8aa79e"
   },
   "outputs": [
    {
     "data": {
      "text/plain": [
       "array([ True, False, False,  True,  True, False,  True])"
      ]
     },
     "execution_count": 224,
     "metadata": {},
     "output_type": "execute_result"
    }
   ],
   "source": [
    "np.in1d(values, [2, 3, 6])"
   ]
  },
  {
   "cell_type": "code",
   "execution_count": 225,
   "metadata": {
    "colab": {
     "base_uri": "https://localhost:8080/",
     "height": 35
    },
    "colab_type": "code",
    "executionInfo": {
     "elapsed": 25541,
     "status": "ok",
     "timestamp": 1550685943685,
     "user": {
      "displayName": "Ana D",
      "photoUrl": "",
      "userId": "13952176772373622573"
     },
     "user_tz": -330
    },
    "id": "bDempHOAeiQD",
    "outputId": "43dfd729-a961-452a-d5c6-363bdb92259e"
   },
   "outputs": [
    {
     "data": {
      "text/plain": [
       "array([1, 3])"
      ]
     },
     "execution_count": 225,
     "metadata": {},
     "output_type": "execute_result"
    }
   ],
   "source": [
    "np.intersect1d([1, 3, 4, 3], [3, 1, 2, 1])"
   ]
  },
  {
   "cell_type": "code",
   "execution_count": 226,
   "metadata": {
    "colab": {
     "base_uri": "https://localhost:8080/",
     "height": 35
    },
    "colab_type": "code",
    "executionInfo": {
     "elapsed": 25300,
     "status": "ok",
     "timestamp": 1550685943691,
     "user": {
      "displayName": "Ana D",
      "photoUrl": "",
      "userId": "13952176772373622573"
     },
     "user_tz": -330
    },
    "id": "4tVzZjpUfKRQ",
    "outputId": "87ea13a3-b7dc-41a5-bbe0-7f9aae0be1e9"
   },
   "outputs": [
    {
     "data": {
      "text/plain": [
       "array([3])"
      ]
     },
     "execution_count": 226,
     "metadata": {},
     "output_type": "execute_result"
    }
   ],
   "source": [
    "# To intersect more than 2 arrays, use functools.reduce\n",
    "\n",
    "from functools import reduce\n",
    "\n",
    "reduce(np.intersect1d, ([1, 3, 4, 3], [3, 1, 2, 1], [6, 3, 4, 2]))"
   ]
  },
  {
   "cell_type": "code",
   "execution_count": 227,
   "metadata": {
    "colab": {
     "base_uri": "https://localhost:8080/",
     "height": 35
    },
    "colab_type": "code",
    "executionInfo": {
     "elapsed": 25117,
     "status": "ok",
     "timestamp": 1550685943698,
     "user": {
      "displayName": "Ana D",
      "photoUrl": "",
      "userId": "13952176772373622573"
     },
     "user_tz": -330
    },
    "id": "AjfiznuQfZ6h",
    "outputId": "43e8ff84-4298-4171-9406-957fb783ce9d"
   },
   "outputs": [
    {
     "data": {
      "text/plain": [
       "array([-2, -1,  0,  1,  2])"
      ]
     },
     "execution_count": 227,
     "metadata": {},
     "output_type": "execute_result"
    }
   ],
   "source": [
    "np.union1d([-1, 0, 1], [-2, 0, 2])"
   ]
  },
  {
   "cell_type": "code",
   "execution_count": 228,
   "metadata": {
    "colab": {
     "base_uri": "https://localhost:8080/",
     "height": 35
    },
    "colab_type": "code",
    "executionInfo": {
     "elapsed": 24780,
     "status": "ok",
     "timestamp": 1550685943706,
     "user": {
      "displayName": "Ana D",
      "photoUrl": "",
      "userId": "13952176772373622573"
     },
     "user_tz": -330
    },
    "id": "ZUas5uiffpkN",
    "outputId": "366946f3-0061-417d-ae6c-cccd54eb44fe"
   },
   "outputs": [
    {
     "data": {
      "text/plain": [
       "array([1, 2, 3, 4, 6])"
      ]
     },
     "execution_count": 228,
     "metadata": {},
     "output_type": "execute_result"
    }
   ],
   "source": [
    "# To find the union of more than 2 arrays, use functools.reduce\n",
    "\n",
    "reduce(np.union1d, ([1, 3, 4, 3], [3, 1, 2, 1], [6, 3, 4, 2]))"
   ]
  },
  {
   "cell_type": "code",
   "execution_count": 229,
   "metadata": {
    "colab": {
     "base_uri": "https://localhost:8080/",
     "height": 35
    },
    "colab_type": "code",
    "executionInfo": {
     "elapsed": 24503,
     "status": "ok",
     "timestamp": 1550685943713,
     "user": {
      "displayName": "Ana D",
      "photoUrl": "",
      "userId": "13952176772373622573"
     },
     "user_tz": -330
    },
    "id": "xPwl-atQf2WJ",
    "outputId": "49af3fe0-b6cc-4793-9060-4e11ae4a3012"
   },
   "outputs": [
    {
     "data": {
      "text/plain": [
       "array([1, 2])"
      ]
     },
     "execution_count": 229,
     "metadata": {},
     "output_type": "execute_result"
    }
   ],
   "source": [
    "a = np.array([1, 2, 3, 2, 4, 1])\n",
    "b = np.array([3, 4, 5, 6])\n",
    "\n",
    "np.setdiff1d(a, b)"
   ]
  },
  {
   "cell_type": "code",
   "execution_count": 230,
   "metadata": {
    "colab": {
     "base_uri": "https://localhost:8080/",
     "height": 35
    },
    "colab_type": "code",
    "executionInfo": {
     "elapsed": 24048,
     "status": "ok",
     "timestamp": 1550685943718,
     "user": {
      "displayName": "Ana D",
      "photoUrl": "",
      "userId": "13952176772373622573"
     },
     "user_tz": -330
    },
    "id": "Dg9AYDK8gPam",
    "outputId": "0bebccd3-a581-419a-d980-322dcf4e13ab"
   },
   "outputs": [
    {
     "data": {
      "text/plain": [
       "array([1, 4, 5, 7])"
      ]
     },
     "execution_count": 230,
     "metadata": {},
     "output_type": "execute_result"
    }
   ],
   "source": [
    "a = np.array([1, 2, 3, 2, 4])\n",
    "b = np.array([2, 3, 5, 7, 5])\n",
    "\n",
    "np.setxor1d(a, b)"
   ]
  },
  {
   "cell_type": "markdown",
   "metadata": {
    "colab_type": "text",
    "id": "79tbBQLGg2GB"
   },
   "source": [
    "## File Input and Output with Arrays"
   ]
  },
  {
   "cell_type": "code",
   "execution_count": 231,
   "metadata": {
    "colab": {},
    "colab_type": "code",
    "id": "8EZ_BvQaghL5"
   },
   "outputs": [],
   "source": [
    "arr = np.arange(10)"
   ]
  },
  {
   "cell_type": "code",
   "execution_count": 232,
   "metadata": {
    "colab": {},
    "colab_type": "code",
    "id": "aqXa-nL9g7Q3"
   },
   "outputs": [],
   "source": [
    "np.save('some_array', arr)"
   ]
  },
  {
   "cell_type": "code",
   "execution_count": 233,
   "metadata": {
    "colab": {
     "base_uri": "https://localhost:8080/",
     "height": 35
    },
    "colab_type": "code",
    "executionInfo": {
     "elapsed": 23650,
     "status": "ok",
     "timestamp": 1550685943739,
     "user": {
      "displayName": "Ana D",
      "photoUrl": "",
      "userId": "13952176772373622573"
     },
     "user_tz": -330
    },
    "id": "_LhwrV1xg-7O",
    "outputId": "753a8140-b75d-41d3-d0a0-d908e95a7497"
   },
   "outputs": [
    {
     "data": {
      "text/plain": [
       "array([0, 1, 2, 3, 4, 5, 6, 7, 8, 9])"
      ]
     },
     "execution_count": 233,
     "metadata": {},
     "output_type": "execute_result"
    }
   ],
   "source": [
    "np.load('some_array.npy')"
   ]
  },
  {
   "cell_type": "code",
   "execution_count": 234,
   "metadata": {
    "colab": {},
    "colab_type": "code",
    "id": "w8Gs0Fo7hCv2"
   },
   "outputs": [],
   "source": [
    "np.savez('array_archive.npz', a = arr, b = arr)"
   ]
  },
  {
   "cell_type": "code",
   "execution_count": 235,
   "metadata": {
    "colab": {},
    "colab_type": "code",
    "id": "vVQN3bWohPVc"
   },
   "outputs": [],
   "source": [
    "arch = np.load('array_archive.npz')"
   ]
  },
  {
   "cell_type": "code",
   "execution_count": 236,
   "metadata": {
    "colab": {
     "base_uri": "https://localhost:8080/",
     "height": 35
    },
    "colab_type": "code",
    "executionInfo": {
     "elapsed": 23196,
     "status": "ok",
     "timestamp": 1550685943761,
     "user": {
      "displayName": "Ana D",
      "photoUrl": "",
      "userId": "13952176772373622573"
     },
     "user_tz": -330
    },
    "id": "ofvPOzS0henX",
    "outputId": "ed7a4527-753a-4aa1-eeb6-6de3b4823926"
   },
   "outputs": [
    {
     "data": {
      "text/plain": [
       "array([0, 1, 2, 3, 4, 5, 6, 7, 8, 9])"
      ]
     },
     "execution_count": 236,
     "metadata": {},
     "output_type": "execute_result"
    }
   ],
   "source": [
    "arch['b']"
   ]
  },
  {
   "cell_type": "code",
   "execution_count": 237,
   "metadata": {
    "colab": {},
    "colab_type": "code",
    "id": "37SCQxSvhiQ9"
   },
   "outputs": [],
   "source": [
    "np.savez_compressed('arrays_compressed.npz', a = arr, b = arr)"
   ]
  },
  {
   "cell_type": "markdown",
   "metadata": {
    "colab_type": "text",
    "id": "GjW5wCCYh0el"
   },
   "source": [
    "## Linear Algebra"
   ]
  },
  {
   "cell_type": "code",
   "execution_count": 238,
   "metadata": {
    "colab": {},
    "colab_type": "code",
    "id": "SIG6rGLKhvc2"
   },
   "outputs": [],
   "source": [
    "x = np.array([[1., 2., 3.], [4., 5., 6.]])"
   ]
  },
  {
   "cell_type": "code",
   "execution_count": 239,
   "metadata": {
    "colab": {},
    "colab_type": "code",
    "id": "PgEGbi-2h9Ss"
   },
   "outputs": [],
   "source": [
    "y = np.array([[6., 23.], [-1, 7], [8, 9]])"
   ]
  },
  {
   "cell_type": "code",
   "execution_count": 240,
   "metadata": {
    "colab": {
     "base_uri": "https://localhost:8080/",
     "height": 53
    },
    "colab_type": "code",
    "executionInfo": {
     "elapsed": 22857,
     "status": "ok",
     "timestamp": 1550685943793,
     "user": {
      "displayName": "Ana D",
      "photoUrl": "",
      "userId": "13952176772373622573"
     },
     "user_tz": -330
    },
    "id": "O8br7c8iiHYx",
    "outputId": "b1481ede-611f-4828-a3fd-a92273f914ac"
   },
   "outputs": [
    {
     "data": {
      "text/plain": [
       "array([[1., 2., 3.],\n",
       "       [4., 5., 6.]])"
      ]
     },
     "execution_count": 240,
     "metadata": {},
     "output_type": "execute_result"
    }
   ],
   "source": [
    "x"
   ]
  },
  {
   "cell_type": "code",
   "execution_count": 241,
   "metadata": {
    "colab": {
     "base_uri": "https://localhost:8080/",
     "height": 71
    },
    "colab_type": "code",
    "executionInfo": {
     "elapsed": 22678,
     "status": "ok",
     "timestamp": 1550685943801,
     "user": {
      "displayName": "Ana D",
      "photoUrl": "",
      "userId": "13952176772373622573"
     },
     "user_tz": -330
    },
    "id": "xVwFYKxUiJVc",
    "outputId": "f4ba09d3-0fa3-4ac7-ed42-d6dd8dd92e17"
   },
   "outputs": [
    {
     "data": {
      "text/plain": [
       "array([[ 6., 23.],\n",
       "       [-1.,  7.],\n",
       "       [ 8.,  9.]])"
      ]
     },
     "execution_count": 241,
     "metadata": {},
     "output_type": "execute_result"
    }
   ],
   "source": [
    "y"
   ]
  },
  {
   "cell_type": "code",
   "execution_count": 242,
   "metadata": {
    "colab": {
     "base_uri": "https://localhost:8080/",
     "height": 53
    },
    "colab_type": "code",
    "executionInfo": {
     "elapsed": 22492,
     "status": "ok",
     "timestamp": 1550685943808,
     "user": {
      "displayName": "Ana D",
      "photoUrl": "",
      "userId": "13952176772373622573"
     },
     "user_tz": -330
    },
    "id": "zJSIk5N7iQaO",
    "outputId": "393b6a04-3c3b-403b-dcc8-531105f539a3"
   },
   "outputs": [
    {
     "data": {
      "text/plain": [
       "array([[ 28.,  64.],\n",
       "       [ 67., 181.]])"
      ]
     },
     "execution_count": 242,
     "metadata": {},
     "output_type": "execute_result"
    }
   ],
   "source": [
    "x.dot(y)"
   ]
  },
  {
   "cell_type": "code",
   "execution_count": 243,
   "metadata": {
    "colab": {
     "base_uri": "https://localhost:8080/",
     "height": 53
    },
    "colab_type": "code",
    "executionInfo": {
     "elapsed": 22286,
     "status": "ok",
     "timestamp": 1550685943814,
     "user": {
      "displayName": "Ana D",
      "photoUrl": "",
      "userId": "13952176772373622573"
     },
     "user_tz": -330
    },
    "id": "hL7De-3LiTsR",
    "outputId": "8698ad18-85b4-4a68-e3f7-78b330d7dbd4"
   },
   "outputs": [
    {
     "data": {
      "text/plain": [
       "array([[ 28.,  64.],\n",
       "       [ 67., 181.]])"
      ]
     },
     "execution_count": 243,
     "metadata": {},
     "output_type": "execute_result"
    }
   ],
   "source": [
    "np.dot(x, y)"
   ]
  },
  {
   "cell_type": "code",
   "execution_count": 244,
   "metadata": {
    "colab": {
     "base_uri": "https://localhost:8080/",
     "height": 35
    },
    "colab_type": "code",
    "executionInfo": {
     "elapsed": 22098,
     "status": "ok",
     "timestamp": 1550685943820,
     "user": {
      "displayName": "Ana D",
      "photoUrl": "",
      "userId": "13952176772373622573"
     },
     "user_tz": -330
    },
    "id": "9G-iwmpziWd8",
    "outputId": "1df4c147-9ac1-41d4-eadb-4643ea743729"
   },
   "outputs": [
    {
     "data": {
      "text/plain": [
       "array([ 6., 15.])"
      ]
     },
     "execution_count": 244,
     "metadata": {},
     "output_type": "execute_result"
    }
   ],
   "source": [
    "np.dot(x, np.ones(3))"
   ]
  },
  {
   "cell_type": "code",
   "execution_count": 245,
   "metadata": {
    "colab": {
     "base_uri": "https://localhost:8080/",
     "height": 35
    },
    "colab_type": "code",
    "executionInfo": {
     "elapsed": 21907,
     "status": "ok",
     "timestamp": 1550685943826,
     "user": {
      "displayName": "Ana D",
      "photoUrl": "",
      "userId": "13952176772373622573"
     },
     "user_tz": -330
    },
    "id": "K_qGS2s3ipVI",
    "outputId": "0e04fd11-a314-43e9-b238-5443f9f7aef4"
   },
   "outputs": [
    {
     "data": {
      "text/plain": [
       "array([ 6., 15.])"
      ]
     },
     "execution_count": 245,
     "metadata": {},
     "output_type": "execute_result"
    }
   ],
   "source": [
    "# @ works as an infix operator, performing matrix mul\n",
    "\n",
    "x @ np.ones(3)"
   ]
  },
  {
   "cell_type": "code",
   "execution_count": 246,
   "metadata": {
    "colab": {},
    "colab_type": "code",
    "id": "y1dL232ii2hE"
   },
   "outputs": [],
   "source": [
    "from numpy.linalg import inv, qr"
   ]
  },
  {
   "cell_type": "code",
   "execution_count": 247,
   "metadata": {
    "colab": {},
    "colab_type": "code",
    "id": "Kr2vOg71jSPi"
   },
   "outputs": [],
   "source": [
    "X = np.random.randn(5, 5)"
   ]
  },
  {
   "cell_type": "code",
   "execution_count": 248,
   "metadata": {
    "colab": {},
    "colab_type": "code",
    "id": "-8XTfV46jdPk"
   },
   "outputs": [],
   "source": [
    "mat = X.T.dot(X)"
   ]
  },
  {
   "cell_type": "code",
   "execution_count": 249,
   "metadata": {
    "colab": {
     "base_uri": "https://localhost:8080/",
     "height": 106
    },
    "colab_type": "code",
    "executionInfo": {
     "elapsed": 21575,
     "status": "ok",
     "timestamp": 1550685943854,
     "user": {
      "displayName": "Ana D",
      "photoUrl": "",
      "userId": "13952176772373622573"
     },
     "user_tz": -330
    },
    "id": "toHQkhKXjgDx",
    "outputId": "ec5c541c-3de6-45fa-832a-f42b9762dc3d"
   },
   "outputs": [
    {
     "data": {
      "text/plain": [
       "array([[ 0.42912187,  1.16381974,  0.040528  , -1.38745242, -0.55561824],\n",
       "       [ 1.16381974, 11.00731122, -3.47852421, -2.82273016, -0.14800031],\n",
       "       [ 0.040528  , -3.47852421,  1.87330713, -0.882331  , -0.83938117],\n",
       "       [-1.38745242, -2.82273016, -0.882331  ,  5.67303381,  2.19243802],\n",
       "       [-0.55561824, -0.14800031, -0.83938117,  2.19243802,  1.52512517]])"
      ]
     },
     "execution_count": 249,
     "metadata": {},
     "output_type": "execute_result"
    }
   ],
   "source": [
    "inv(mat)"
   ]
  },
  {
   "cell_type": "code",
   "execution_count": 250,
   "metadata": {
    "colab": {
     "base_uri": "https://localhost:8080/",
     "height": 196
    },
    "colab_type": "code",
    "executionInfo": {
     "elapsed": 21212,
     "status": "ok",
     "timestamp": 1550685943860,
     "user": {
      "displayName": "Ana D",
      "photoUrl": "",
      "userId": "13952176772373622573"
     },
     "user_tz": -330
    },
    "id": "Bseo9p_Sjjgq",
    "outputId": "ae66cefa-1247-46ae-d91a-85f995f87414"
   },
   "outputs": [
    {
     "data": {
      "text/plain": [
       "array([[ 1.00000000e+00, -1.05471187e-15,  4.44089210e-16,\n",
       "        -1.33226763e-15,  1.77635684e-15],\n",
       "       [ 1.66533454e-16,  1.00000000e+00, -1.66533454e-16,\n",
       "        -3.33066907e-16, -3.33066907e-16],\n",
       "       [ 2.22044605e-16, -2.27595720e-15,  1.00000000e+00,\n",
       "        -2.22044605e-15, -1.33226763e-15],\n",
       "       [ 3.42607887e-17, -2.11858526e-15,  5.31692745e-16,\n",
       "         1.00000000e+00, -1.99493200e-17],\n",
       "       [ 0.00000000e+00, -2.22044605e-16,  0.00000000e+00,\n",
       "        -8.88178420e-16,  1.00000000e+00]])"
      ]
     },
     "execution_count": 250,
     "metadata": {},
     "output_type": "execute_result"
    }
   ],
   "source": [
    "mat.dot(inv(mat))"
   ]
  },
  {
   "cell_type": "code",
   "execution_count": 251,
   "metadata": {
    "colab": {},
    "colab_type": "code",
    "id": "nO9IsDAljnuT"
   },
   "outputs": [],
   "source": [
    "q, r = qr(mat)"
   ]
  },
  {
   "cell_type": "code",
   "execution_count": 252,
   "metadata": {
    "colab": {
     "base_uri": "https://localhost:8080/",
     "height": 106
    },
    "colab_type": "code",
    "executionInfo": {
     "elapsed": 20976,
     "status": "ok",
     "timestamp": 1550685943959,
     "user": {
      "displayName": "Ana D",
      "photoUrl": "",
      "userId": "13952176772373622573"
     },
     "user_tz": -330
    },
    "id": "81Tq1cQsjwDQ",
    "outputId": "c607e6ec-375d-496f-bbb1-c0f7f3456236"
   },
   "outputs": [
    {
     "data": {
      "text/plain": [
       "array([[-17.37593677,   1.38601808,   0.84954989,  -2.73544533,\n",
       "         -1.86261684],\n",
       "       [  0.        ,  -3.82648671,  -9.69137818,  -2.75053046,\n",
       "         -1.83494486],\n",
       "       [  0.        ,   0.        ,  -0.60254742,   0.68829994,\n",
       "         -1.80927672],\n",
       "       [  0.        ,   0.        ,   0.        ,  -0.32864286,\n",
       "          0.7126037 ],\n",
       "       [  0.        ,   0.        ,   0.        ,   0.        ,\n",
       "          0.34989924]])"
      ]
     },
     "execution_count": 252,
     "metadata": {},
     "output_type": "execute_result"
    }
   ],
   "source": [
    "r"
   ]
  },
  {
   "cell_type": "code",
   "execution_count": 253,
   "metadata": {
    "colab": {
     "base_uri": "https://localhost:8080/",
     "height": 71
    },
    "colab_type": "code",
    "executionInfo": {
     "elapsed": 20770,
     "status": "ok",
     "timestamp": 1550685943970,
     "user": {
      "displayName": "Ana D",
      "photoUrl": "",
      "userId": "13952176772373622573"
     },
     "user_tz": -330
    },
    "id": "Et0ttr0mjy9S",
    "outputId": "a926ff37-6e96-4409-bc8a-64eb6abfad28"
   },
   "outputs": [
    {
     "data": {
      "text/plain": [
       "array([[0, 1, 2],\n",
       "       [3, 4, 5],\n",
       "       [6, 7, 8]])"
      ]
     },
     "execution_count": 253,
     "metadata": {},
     "output_type": "execute_result"
    }
   ],
   "source": [
    "## np.diag() examples\n",
    "\n",
    "x = np.arange(9).reshape((3, 3))\n",
    "x"
   ]
  },
  {
   "cell_type": "code",
   "execution_count": 254,
   "metadata": {
    "colab": {
     "base_uri": "https://localhost:8080/",
     "height": 35
    },
    "colab_type": "code",
    "executionInfo": {
     "elapsed": 20574,
     "status": "ok",
     "timestamp": 1550685943977,
     "user": {
      "displayName": "Ana D",
      "photoUrl": "",
      "userId": "13952176772373622573"
     },
     "user_tz": -330
    },
    "id": "8RuMAVZNklsS",
    "outputId": "bb7b3fa9-f354-445f-aba2-fb6df0abdbcb"
   },
   "outputs": [
    {
     "data": {
      "text/plain": [
       "array([0, 4, 8])"
      ]
     },
     "execution_count": 254,
     "metadata": {},
     "output_type": "execute_result"
    }
   ],
   "source": [
    "np.diag(x)"
   ]
  },
  {
   "cell_type": "code",
   "execution_count": 255,
   "metadata": {
    "colab": {
     "base_uri": "https://localhost:8080/",
     "height": 35
    },
    "colab_type": "code",
    "executionInfo": {
     "elapsed": 20407,
     "status": "ok",
     "timestamp": 1550685943993,
     "user": {
      "displayName": "Ana D",
      "photoUrl": "",
      "userId": "13952176772373622573"
     },
     "user_tz": -330
    },
    "id": "5_dx4JT5kpce",
    "outputId": "cd150b8b-2e27-4ded-be1b-a6e640463b4b"
   },
   "outputs": [
    {
     "data": {
      "text/plain": [
       "array([1, 5])"
      ]
     },
     "execution_count": 255,
     "metadata": {},
     "output_type": "execute_result"
    }
   ],
   "source": [
    "np.diag(x, k = 1)"
   ]
  },
  {
   "cell_type": "code",
   "execution_count": 256,
   "metadata": {
    "colab": {
     "base_uri": "https://localhost:8080/",
     "height": 35
    },
    "colab_type": "code",
    "executionInfo": {
     "elapsed": 20203,
     "status": "ok",
     "timestamp": 1550685944000,
     "user": {
      "displayName": "Ana D",
      "photoUrl": "",
      "userId": "13952176772373622573"
     },
     "user_tz": -330
    },
    "id": "uQ9opE-Vks3g",
    "outputId": "d7caf134-e281-4b38-84d2-6f06e68b487f"
   },
   "outputs": [
    {
     "data": {
      "text/plain": [
       "array([3, 7])"
      ]
     },
     "execution_count": 256,
     "metadata": {},
     "output_type": "execute_result"
    }
   ],
   "source": [
    "np.diag(x, k = -1)"
   ]
  },
  {
   "cell_type": "code",
   "execution_count": 257,
   "metadata": {
    "colab": {
     "base_uri": "https://localhost:8080/",
     "height": 71
    },
    "colab_type": "code",
    "executionInfo": {
     "elapsed": 19983,
     "status": "ok",
     "timestamp": 1550685944010,
     "user": {
      "displayName": "Ana D",
      "photoUrl": "",
      "userId": "13952176772373622573"
     },
     "user_tz": -330
    },
    "id": "oIn3MOzSkwQ9",
    "outputId": "fbc13cfa-89fd-41a2-9228-a9b5a665ae7f"
   },
   "outputs": [
    {
     "data": {
      "text/plain": [
       "array([[0, 0, 0],\n",
       "       [0, 4, 0],\n",
       "       [0, 0, 8]])"
      ]
     },
     "execution_count": 257,
     "metadata": {},
     "output_type": "execute_result"
    }
   ],
   "source": [
    "np.diag(np.diag(x))"
   ]
  },
  {
   "cell_type": "code",
   "execution_count": 258,
   "metadata": {
    "colab": {
     "base_uri": "https://localhost:8080/",
     "height": 35
    },
    "colab_type": "code",
    "executionInfo": {
     "elapsed": 19774,
     "status": "ok",
     "timestamp": 1550685944018,
     "user": {
      "displayName": "Ana D",
      "photoUrl": "",
      "userId": "13952176772373622573"
     },
     "user_tz": -330
    },
    "id": "3moc1AL2kz73",
    "outputId": "78619960-c379-4fe6-f821-cb888a24a149"
   },
   "outputs": [
    {
     "data": {
      "text/plain": [
       "12"
      ]
     },
     "execution_count": 258,
     "metadata": {},
     "output_type": "execute_result"
    }
   ],
   "source": [
    "## np.dot() examples\n",
    "\n",
    "np.dot(3, 4)"
   ]
  },
  {
   "cell_type": "code",
   "execution_count": 259,
   "metadata": {
    "colab": {
     "base_uri": "https://localhost:8080/",
     "height": 35
    },
    "colab_type": "code",
    "executionInfo": {
     "elapsed": 19531,
     "status": "ok",
     "timestamp": 1550685944026,
     "user": {
      "displayName": "Ana D",
      "photoUrl": "",
      "userId": "13952176772373622573"
     },
     "user_tz": -330
    },
    "id": "-zEoKLWWlDZR",
    "outputId": "9f6e6fde-677c-49d2-ad46-54e3500d9b1c"
   },
   "outputs": [
    {
     "data": {
      "text/plain": [
       "(-13+0j)"
      ]
     },
     "execution_count": 259,
     "metadata": {},
     "output_type": "execute_result"
    }
   ],
   "source": [
    "np.dot([2j, 3j], [2j, 3j])"
   ]
  },
  {
   "cell_type": "code",
   "execution_count": 260,
   "metadata": {
    "colab": {
     "base_uri": "https://localhost:8080/",
     "height": 53
    },
    "colab_type": "code",
    "executionInfo": {
     "elapsed": 19367,
     "status": "ok",
     "timestamp": 1550685944033,
     "user": {
      "displayName": "Ana D",
      "photoUrl": "",
      "userId": "13952176772373622573"
     },
     "user_tz": -330
    },
    "id": "KQMoEiTGlIBW",
    "outputId": "32b2e8c7-9ac5-402a-8011-b97161f085c0"
   },
   "outputs": [
    {
     "data": {
      "text/plain": [
       "array([[4, 1],\n",
       "       [2, 2]])"
      ]
     },
     "execution_count": 260,
     "metadata": {},
     "output_type": "execute_result"
    }
   ],
   "source": [
    "a = [[1, 0], [0, 1]]\n",
    "b = [[4, 1], [2, 2]]\n",
    "\n",
    "np.dot(a, b)"
   ]
  },
  {
   "cell_type": "code",
   "execution_count": 261,
   "metadata": {
    "colab": {},
    "colab_type": "code",
    "id": "g32q2aOxlRfy"
   },
   "outputs": [],
   "source": [
    "a = np.arange(3*4*5*6).reshape((3, 4, 5, 6))"
   ]
  },
  {
   "cell_type": "code",
   "execution_count": 262,
   "metadata": {
    "colab": {},
    "colab_type": "code",
    "id": "Vs2k666tlfDA"
   },
   "outputs": [],
   "source": [
    "b = np.arange(3*4*5*6)[::-1].reshape((5, 4, 6, 3))"
   ]
  },
  {
   "cell_type": "code",
   "execution_count": 263,
   "metadata": {
    "colab": {
     "base_uri": "https://localhost:8080/",
     "height": 35
    },
    "colab_type": "code",
    "executionInfo": {
     "elapsed": 19066,
     "status": "ok",
     "timestamp": 1550685944056,
     "user": {
      "displayName": "Ana D",
      "photoUrl": "",
      "userId": "13952176772373622573"
     },
     "user_tz": -330
    },
    "id": "EuVDhM02lsHx",
    "outputId": "a98d0748-315b-4f82-b709-61358f90da13"
   },
   "outputs": [
    {
     "data": {
      "text/plain": [
       "499128"
      ]
     },
     "execution_count": 263,
     "metadata": {},
     "output_type": "execute_result"
    }
   ],
   "source": [
    "np.dot(a, b)[2, 3, 2, 1, 2, 2]"
   ]
  },
  {
   "cell_type": "code",
   "execution_count": 264,
   "metadata": {
    "colab": {
     "base_uri": "https://localhost:8080/",
     "height": 35
    },
    "colab_type": "code",
    "executionInfo": {
     "elapsed": 18732,
     "status": "ok",
     "timestamp": 1550685944061,
     "user": {
      "displayName": "Ana D",
      "photoUrl": "",
      "userId": "13952176772373622573"
     },
     "user_tz": -330
    },
    "id": "3tmbcxw2lwtr",
    "outputId": "744dc215-5cb0-4139-e340-bde227e1a69b"
   },
   "outputs": [
    {
     "data": {
      "text/plain": [
       "499128"
      ]
     },
     "execution_count": 264,
     "metadata": {},
     "output_type": "execute_result"
    }
   ],
   "source": [
    "sum(a[2, 3, 2, :] * b[1, 2, :, 2])"
   ]
  },
  {
   "cell_type": "code",
   "execution_count": 265,
   "metadata": {
    "colab": {
     "base_uri": "https://localhost:8080/",
     "height": 35
    },
    "colab_type": "code",
    "executionInfo": {
     "elapsed": 18398,
     "status": "ok",
     "timestamp": 1550685944067,
     "user": {
      "displayName": "Ana D",
      "photoUrl": "",
      "userId": "13952176772373622573"
     },
     "user_tz": -330
    },
    "id": "BgRSus_-l4ig",
    "outputId": "c29d3e41-b065-49b7-ac32-24beca6cefe3"
   },
   "outputs": [
    {
     "data": {
      "text/plain": [
       "3.0"
      ]
     },
     "execution_count": 265,
     "metadata": {},
     "output_type": "execute_result"
    }
   ],
   "source": [
    "## np.trace() examples\n",
    "\n",
    "np.trace(np.eye(3))"
   ]
  },
  {
   "cell_type": "code",
   "execution_count": 266,
   "metadata": {
    "colab": {
     "base_uri": "https://localhost:8080/",
     "height": 106
    },
    "colab_type": "code",
    "executionInfo": {
     "elapsed": 18165,
     "status": "ok",
     "timestamp": 1550685944074,
     "user": {
      "displayName": "Ana D",
      "photoUrl": "",
      "userId": "13952176772373622573"
     },
     "user_tz": -330
    },
    "id": "OQq2d8tMmdAJ",
    "outputId": "3707e7ae-0831-4d21-c61a-1335772950a7"
   },
   "outputs": [
    {
     "data": {
      "text/plain": [
       "array([[[0, 1],\n",
       "        [2, 3]],\n",
       "\n",
       "       [[4, 5],\n",
       "        [6, 7]]])"
      ]
     },
     "execution_count": 266,
     "metadata": {},
     "output_type": "execute_result"
    }
   ],
   "source": [
    "a = np.arange(8).reshape((2, 2 ,2))\n",
    "a"
   ]
  },
  {
   "cell_type": "code",
   "execution_count": 267,
   "metadata": {
    "colab": {
     "base_uri": "https://localhost:8080/",
     "height": 35
    },
    "colab_type": "code",
    "executionInfo": {
     "elapsed": 17943,
     "status": "ok",
     "timestamp": 1550685944081,
     "user": {
      "displayName": "Ana D",
      "photoUrl": "",
      "userId": "13952176772373622573"
     },
     "user_tz": -330
    },
    "id": "mmN52ERumkJm",
    "outputId": "87b1fb33-bf18-484a-ca8b-0fbb49e3881a"
   },
   "outputs": [
    {
     "data": {
      "text/plain": [
       "array([6, 8])"
      ]
     },
     "execution_count": 267,
     "metadata": {},
     "output_type": "execute_result"
    }
   ],
   "source": [
    "np.trace(a)"
   ]
  },
  {
   "cell_type": "code",
   "execution_count": 268,
   "metadata": {
    "colab": {
     "base_uri": "https://localhost:8080/",
     "height": 35
    },
    "colab_type": "code",
    "executionInfo": {
     "elapsed": 17677,
     "status": "ok",
     "timestamp": 1550685944089,
     "user": {
      "displayName": "Ana D",
      "photoUrl": "",
      "userId": "13952176772373622573"
     },
     "user_tz": -330
    },
    "id": "vGqPCsBCmq9k",
    "outputId": "d7940b02-a541-4290-ffbe-6b2229c130a5"
   },
   "outputs": [
    {
     "data": {
      "text/plain": [
       "3"
      ]
     },
     "execution_count": 268,
     "metadata": {},
     "output_type": "execute_result"
    }
   ],
   "source": [
    "np.trace(a[0])"
   ]
  },
  {
   "cell_type": "code",
   "execution_count": 269,
   "metadata": {
    "colab": {
     "base_uri": "https://localhost:8080/",
     "height": 231
    },
    "colab_type": "code",
    "executionInfo": {
     "elapsed": 17424,
     "status": "ok",
     "timestamp": 1550685944096,
     "user": {
      "displayName": "Ana D",
      "photoUrl": "",
      "userId": "13952176772373622573"
     },
     "user_tz": -330
    },
    "id": "aVDvz1sAnfyB",
    "outputId": "3a730134-48b7-43e3-e086-1267b6f210fd"
   },
   "outputs": [
    {
     "data": {
      "text/plain": [
       "array([[[[ 0,  1,  2],\n",
       "         [ 3,  4,  5]],\n",
       "\n",
       "        [[ 6,  7,  8],\n",
       "         [ 9, 10, 11]]],\n",
       "\n",
       "\n",
       "       [[[12, 13, 14],\n",
       "         [15, 16, 17]],\n",
       "\n",
       "        [[18, 19, 20],\n",
       "         [21, 22, 23]]]])"
      ]
     },
     "execution_count": 269,
     "metadata": {},
     "output_type": "execute_result"
    }
   ],
   "source": [
    "a = np.arange(24).reshape((2, 2, 2, 3))\n",
    "a"
   ]
  },
  {
   "cell_type": "code",
   "execution_count": 270,
   "metadata": {
    "colab": {
     "base_uri": "https://localhost:8080/",
     "height": 35
    },
    "colab_type": "code",
    "executionInfo": {
     "elapsed": 17166,
     "status": "ok",
     "timestamp": 1550685944105,
     "user": {
      "displayName": "Ana D",
      "photoUrl": "",
      "userId": "13952176772373622573"
     },
     "user_tz": -330
    },
    "id": "iUw5eCw1epgX",
    "outputId": "30068cca-f8d9-465c-a8b0-3b5051645f0f"
   },
   "outputs": [
    {
     "data": {
      "text/plain": [
       "(2, 3)"
      ]
     },
     "execution_count": 270,
     "metadata": {},
     "output_type": "execute_result"
    }
   ],
   "source": [
    "np.trace(a).shape"
   ]
  },
  {
   "cell_type": "code",
   "execution_count": 271,
   "metadata": {
    "colab": {
     "base_uri": "https://localhost:8080/",
     "height": 53
    },
    "colab_type": "code",
    "executionInfo": {
     "elapsed": 16938,
     "status": "ok",
     "timestamp": 1550685944113,
     "user": {
      "displayName": "Ana D",
      "photoUrl": "",
      "userId": "13952176772373622573"
     },
     "user_tz": -330
    },
    "id": "gz3SnqRbe1PC",
    "outputId": "96bafa48-6cae-450c-ac9f-7b2daa40a341"
   },
   "outputs": [
    {
     "data": {
      "text/plain": [
       "array([[18, 20, 22],\n",
       "       [24, 26, 28]])"
      ]
     },
     "execution_count": 271,
     "metadata": {},
     "output_type": "execute_result"
    }
   ],
   "source": [
    "np.trace(a)"
   ]
  },
  {
   "cell_type": "code",
   "execution_count": 272,
   "metadata": {
    "colab": {},
    "colab_type": "code",
    "id": "dBQxmk-fffBj"
   },
   "outputs": [],
   "source": [
    "## np.linalg.det() examples\n",
    "\n",
    "a = np.array([[1, 2], [3, 4]])"
   ]
  },
  {
   "cell_type": "code",
   "execution_count": 273,
   "metadata": {
    "colab": {
     "base_uri": "https://localhost:8080/",
     "height": 35
    },
    "colab_type": "code",
    "executionInfo": {
     "elapsed": 16708,
     "status": "ok",
     "timestamp": 1550685944128,
     "user": {
      "displayName": "Ana D",
      "photoUrl": "",
      "userId": "13952176772373622573"
     },
     "user_tz": -330
    },
    "id": "_46kW5lAfy_4",
    "outputId": "5d28f2aa-4394-4137-8e58-1df5f84e0566"
   },
   "outputs": [
    {
     "data": {
      "text/plain": [
       "-2.0000000000000004"
      ]
     },
     "execution_count": 273,
     "metadata": {},
     "output_type": "execute_result"
    }
   ],
   "source": [
    "np.linalg.det(a)"
   ]
  },
  {
   "cell_type": "code",
   "execution_count": 274,
   "metadata": {
    "colab": {},
    "colab_type": "code",
    "id": "p6uQ_Gyrf1_U"
   },
   "outputs": [],
   "source": [
    "a = np.array([ [[1, 2], [3, 4]], [[1, 2], [2, 1]], [[1, 3], [3, 1]] ])"
   ]
  },
  {
   "cell_type": "code",
   "execution_count": 275,
   "metadata": {
    "colab": {
     "base_uri": "https://localhost:8080/",
     "height": 35
    },
    "colab_type": "code",
    "executionInfo": {
     "elapsed": 16477,
     "status": "ok",
     "timestamp": 1550685944140,
     "user": {
      "displayName": "Ana D",
      "photoUrl": "",
      "userId": "13952176772373622573"
     },
     "user_tz": -330
    },
    "id": "50ZPi_b7gTmM",
    "outputId": "b0e48779-c236-41ff-dc84-30fbbcc0d58a"
   },
   "outputs": [
    {
     "data": {
      "text/plain": [
       "(3, 2, 2)"
      ]
     },
     "execution_count": 275,
     "metadata": {},
     "output_type": "execute_result"
    }
   ],
   "source": [
    "a.shape"
   ]
  },
  {
   "cell_type": "code",
   "execution_count": 276,
   "metadata": {
    "colab": {
     "base_uri": "https://localhost:8080/",
     "height": 35
    },
    "colab_type": "code",
    "executionInfo": {
     "elapsed": 16234,
     "status": "ok",
     "timestamp": 1550685944145,
     "user": {
      "displayName": "Ana D",
      "photoUrl": "",
      "userId": "13952176772373622573"
     },
     "user_tz": -330
    },
    "id": "Eu4XO3-FgWAJ",
    "outputId": "515fa874-3038-4f7d-caab-b800ddbf9ff6"
   },
   "outputs": [
    {
     "data": {
      "text/plain": [
       "array([-2., -3., -8.])"
      ]
     },
     "execution_count": 276,
     "metadata": {},
     "output_type": "execute_result"
    }
   ],
   "source": [
    "np.linalg.det(a)"
   ]
  },
  {
   "cell_type": "code",
   "execution_count": 277,
   "metadata": {
    "colab": {},
    "colab_type": "code",
    "id": "PkyIYMvOgbv1"
   },
   "outputs": [],
   "source": [
    "## np.linalg.eig() examples\n",
    "\n",
    "from numpy import linalg as LA"
   ]
  },
  {
   "cell_type": "code",
   "execution_count": 278,
   "metadata": {
    "colab": {
     "base_uri": "https://localhost:8080/",
     "height": 88
    },
    "colab_type": "code",
    "executionInfo": {
     "elapsed": 15857,
     "status": "ok",
     "timestamp": 1550685944161,
     "user": {
      "displayName": "Ana D",
      "photoUrl": "",
      "userId": "13952176772373622573"
     },
     "user_tz": -330
    },
    "id": "TafCDeK2hR40",
    "outputId": "5bdf07db-d96a-4e5b-cbf9-0836195599c4"
   },
   "outputs": [
    {
     "name": "stdout",
     "output_type": "stream",
     "text": [
      "w:  [1. 2. 3.]\n",
      "v:  [[1. 0. 0.]\n",
      " [0. 1. 0.]\n",
      " [0. 0. 1.]]\n"
     ]
    }
   ],
   "source": [
    "w, v = LA.eig(np.diag((1, 2, 3)))\n",
    "\n",
    "print(\"w: \", w)\n",
    "print(\"v: \", v)"
   ]
  },
  {
   "cell_type": "code",
   "execution_count": 279,
   "metadata": {
    "colab": {},
    "colab_type": "code",
    "id": "RYLYv3n1heY8"
   },
   "outputs": [],
   "source": [
    "w, v = LA.eig(np.array([[1, -1], [1, 1]]))"
   ]
  },
  {
   "cell_type": "code",
   "execution_count": 280,
   "metadata": {
    "colab": {
     "base_uri": "https://localhost:8080/",
     "height": 35
    },
    "colab_type": "code",
    "executionInfo": {
     "elapsed": 15568,
     "status": "ok",
     "timestamp": 1550685944174,
     "user": {
      "displayName": "Ana D",
      "photoUrl": "",
      "userId": "13952176772373622573"
     },
     "user_tz": -330
    },
    "id": "d_Ful4JPhti8",
    "outputId": "accb8a71-2608-4ed9-e56e-2880031259c0"
   },
   "outputs": [
    {
     "data": {
      "text/plain": [
       "array([1.+1.j, 1.-1.j])"
      ]
     },
     "execution_count": 280,
     "metadata": {},
     "output_type": "execute_result"
    }
   ],
   "source": [
    "w"
   ]
  },
  {
   "cell_type": "code",
   "execution_count": 281,
   "metadata": {
    "colab": {
     "base_uri": "https://localhost:8080/",
     "height": 53
    },
    "colab_type": "code",
    "executionInfo": {
     "elapsed": 15375,
     "status": "ok",
     "timestamp": 1550685944183,
     "user": {
      "displayName": "Ana D",
      "photoUrl": "",
      "userId": "13952176772373622573"
     },
     "user_tz": -330
    },
    "id": "W4OrZKzohvlK",
    "outputId": "1132b0af-e268-4bde-c549-1c3bc1294cb3"
   },
   "outputs": [
    {
     "data": {
      "text/plain": [
       "array([[0.70710678+0.j        , 0.70710678-0.j        ],\n",
       "       [0.        -0.70710678j, 0.        +0.70710678j]])"
      ]
     },
     "execution_count": 281,
     "metadata": {},
     "output_type": "execute_result"
    }
   ],
   "source": [
    "v"
   ]
  },
  {
   "cell_type": "code",
   "execution_count": 282,
   "metadata": {
    "colab": {},
    "colab_type": "code",
    "id": "nbNoww_PhxN4"
   },
   "outputs": [],
   "source": [
    "a = np.array([[1, 1j], [-1j, 1]])\n",
    "\n",
    "w, v = LA.eig(a)"
   ]
  },
  {
   "cell_type": "code",
   "execution_count": 283,
   "metadata": {
    "colab": {
     "base_uri": "https://localhost:8080/",
     "height": 35
    },
    "colab_type": "code",
    "executionInfo": {
     "elapsed": 15095,
     "status": "ok",
     "timestamp": 1550685944196,
     "user": {
      "displayName": "Ana D",
      "photoUrl": "",
      "userId": "13952176772373622573"
     },
     "user_tz": -330
    },
    "id": "iaxItQjTh-Dd",
    "outputId": "bf0241ab-4d43-4580-be37-74401cbd3520"
   },
   "outputs": [
    {
     "data": {
      "text/plain": [
       "array([2.+0.j, 0.+0.j])"
      ]
     },
     "execution_count": 283,
     "metadata": {},
     "output_type": "execute_result"
    }
   ],
   "source": [
    "w"
   ]
  },
  {
   "cell_type": "code",
   "execution_count": 284,
   "metadata": {
    "colab": {
     "base_uri": "https://localhost:8080/",
     "height": 53
    },
    "colab_type": "code",
    "executionInfo": {
     "elapsed": 14792,
     "status": "ok",
     "timestamp": 1550685944204,
     "user": {
      "displayName": "Ana D",
      "photoUrl": "",
      "userId": "13952176772373622573"
     },
     "user_tz": -330
    },
    "id": "N8S4AAMpiDZJ",
    "outputId": "ad8d1516-3045-4e04-eab8-b7dff38b948f"
   },
   "outputs": [
    {
     "data": {
      "text/plain": [
       "array([[0.        +0.70710678j, 0.70710678+0.j        ],\n",
       "       [0.70710678+0.j        , 0.        +0.70710678j]])"
      ]
     },
     "execution_count": 284,
     "metadata": {},
     "output_type": "execute_result"
    }
   ],
   "source": [
    "v"
   ]
  },
  {
   "cell_type": "code",
   "execution_count": 285,
   "metadata": {
    "colab": {},
    "colab_type": "code",
    "id": "kTQy3zjIiI_f"
   },
   "outputs": [],
   "source": [
    "a = np.array([[1 + 1e-9, 0], [0, 1 - 1e-9]]) # round - off error\n",
    "\n",
    "w, v = LA.eig(a)"
   ]
  },
  {
   "cell_type": "code",
   "execution_count": 286,
   "metadata": {
    "colab": {
     "base_uri": "https://localhost:8080/",
     "height": 35
    },
    "colab_type": "code",
    "executionInfo": {
     "elapsed": 14355,
     "status": "ok",
     "timestamp": 1550685944216,
     "user": {
      "displayName": "Ana D",
      "photoUrl": "",
      "userId": "13952176772373622573"
     },
     "user_tz": -330
    },
    "id": "inWanU_NiY8l",
    "outputId": "7b2278f8-349e-4f7b-c836-92884f060813"
   },
   "outputs": [
    {
     "data": {
      "text/plain": [
       "array([1., 1.])"
      ]
     },
     "execution_count": 286,
     "metadata": {},
     "output_type": "execute_result"
    }
   ],
   "source": [
    "# theoretical e - values are 1 +/- 1e-9\n",
    "w"
   ]
  },
  {
   "cell_type": "code",
   "execution_count": 287,
   "metadata": {
    "colab": {
     "base_uri": "https://localhost:8080/",
     "height": 53
    },
    "colab_type": "code",
    "executionInfo": {
     "elapsed": 14035,
     "status": "ok",
     "timestamp": 1550685944224,
     "user": {
      "displayName": "Ana D",
      "photoUrl": "",
      "userId": "13952176772373622573"
     },
     "user_tz": -330
    },
    "id": "9umR8g7pie8m",
    "outputId": "9ae2e96a-cd57-4909-aabc-b856cd9faf68"
   },
   "outputs": [
    {
     "data": {
      "text/plain": [
       "array([[1., 0.],\n",
       "       [0., 1.]])"
      ]
     },
     "execution_count": 287,
     "metadata": {},
     "output_type": "execute_result"
    }
   ],
   "source": [
    "v"
   ]
  },
  {
   "cell_type": "code",
   "execution_count": 288,
   "metadata": {
    "colab": {},
    "colab_type": "code",
    "id": "Z3aqS-FGiiAt"
   },
   "outputs": [],
   "source": [
    "## np.linalg.inv() examples\n",
    "\n",
    "a = np.array([[1., 2.], [3., 4.]])\n",
    "\n",
    "ainv = inv(a)"
   ]
  },
  {
   "cell_type": "code",
   "execution_count": 289,
   "metadata": {
    "colab": {
     "base_uri": "https://localhost:8080/",
     "height": 35
    },
    "colab_type": "code",
    "executionInfo": {
     "elapsed": 13783,
     "status": "ok",
     "timestamp": 1550685944237,
     "user": {
      "displayName": "Ana D",
      "photoUrl": "",
      "userId": "13952176772373622573"
     },
     "user_tz": -330
    },
    "id": "qEH9WoeijLtA",
    "outputId": "b65f3e26-6079-4136-da97-7a7648fe4f43"
   },
   "outputs": [
    {
     "data": {
      "text/plain": [
       "True"
      ]
     },
     "execution_count": 289,
     "metadata": {},
     "output_type": "execute_result"
    }
   ],
   "source": [
    "np.allclose(np.dot(a, ainv), np.eye(2))"
   ]
  },
  {
   "cell_type": "code",
   "execution_count": 290,
   "metadata": {
    "colab": {
     "base_uri": "https://localhost:8080/",
     "height": 35
    },
    "colab_type": "code",
    "executionInfo": {
     "elapsed": 13586,
     "status": "ok",
     "timestamp": 1550685944244,
     "user": {
      "displayName": "Ana D",
      "photoUrl": "",
      "userId": "13952176772373622573"
     },
     "user_tz": -330
    },
    "id": "frYv1TdNjVGX",
    "outputId": "7a40c4bc-1393-46ea-ba43-23585e854530"
   },
   "outputs": [
    {
     "data": {
      "text/plain": [
       "True"
      ]
     },
     "execution_count": 290,
     "metadata": {},
     "output_type": "execute_result"
    }
   ],
   "source": [
    "np.allclose(np.dot(ainv, a), np.eye(2))"
   ]
  },
  {
   "cell_type": "code",
   "execution_count": 291,
   "metadata": {
    "colab": {
     "base_uri": "https://localhost:8080/",
     "height": 53
    },
    "colab_type": "code",
    "executionInfo": {
     "elapsed": 13352,
     "status": "ok",
     "timestamp": 1550685944250,
     "user": {
      "displayName": "Ana D",
      "photoUrl": "",
      "userId": "13952176772373622573"
     },
     "user_tz": -330
    },
    "id": "OcGGtKrdjcRU",
    "outputId": "69d2a5c4-1de1-47c1-8998-ec26e1c88a5f"
   },
   "outputs": [
    {
     "data": {
      "text/plain": [
       "matrix([[-2. ,  1. ],\n",
       "        [ 1.5, -0.5]])"
      ]
     },
     "execution_count": 291,
     "metadata": {},
     "output_type": "execute_result"
    }
   ],
   "source": [
    "ainv = inv(np.matrix(a))\n",
    "ainv"
   ]
  },
  {
   "cell_type": "code",
   "execution_count": 292,
   "metadata": {
    "colab": {
     "base_uri": "https://localhost:8080/",
     "height": 106
    },
    "colab_type": "code",
    "executionInfo": {
     "elapsed": 13145,
     "status": "ok",
     "timestamp": 1550685944256,
     "user": {
      "displayName": "Ana D",
      "photoUrl": "",
      "userId": "13952176772373622573"
     },
     "user_tz": -330
    },
    "id": "IZsV8rT0jgxA",
    "outputId": "45056bd6-9afa-46d2-d44a-2f0e9e3bb89e"
   },
   "outputs": [
    {
     "data": {
      "text/plain": [
       "array([[[-2.  ,  1.  ],\n",
       "        [ 1.5 , -0.5 ]],\n",
       "\n",
       "       [[-1.25,  0.75],\n",
       "        [ 0.75, -0.25]]])"
      ]
     },
     "execution_count": 292,
     "metadata": {},
     "output_type": "execute_result"
    }
   ],
   "source": [
    "a = np.array([[[1., 2.], [3., 4.]], [[1, 3], [3, 5]]])\n",
    "\n",
    "inv(a)"
   ]
  },
  {
   "cell_type": "code",
   "execution_count": 293,
   "metadata": {
    "colab": {},
    "colab_type": "code",
    "id": "hBcx-Th3jwty"
   },
   "outputs": [],
   "source": [
    "## np.linalg.pinv() examples\n",
    "\n",
    "# if a+ = pinv of a, then this checks that\n",
    "# a * a+ * a == a and a+ * a * a+ == a+\n",
    "\n",
    "a = np.random.randn(9, 6)\n",
    "\n",
    "B = np.linalg.pinv(a)"
   ]
  },
  {
   "cell_type": "code",
   "execution_count": 294,
   "metadata": {
    "colab": {
     "base_uri": "https://localhost:8080/",
     "height": 35
    },
    "colab_type": "code",
    "executionInfo": {
     "elapsed": 12860,
     "status": "ok",
     "timestamp": 1550685944276,
     "user": {
      "displayName": "Ana D",
      "photoUrl": "",
      "userId": "13952176772373622573"
     },
     "user_tz": -330
    },
    "id": "TgEVNC90kxdt",
    "outputId": "7caf688d-dd58-42ad-fe53-047f9a112d51"
   },
   "outputs": [
    {
     "data": {
      "text/plain": [
       "True"
      ]
     },
     "execution_count": 294,
     "metadata": {},
     "output_type": "execute_result"
    }
   ],
   "source": [
    "np.allclose(a, np.dot(a, np.dot(B, a)))"
   ]
  },
  {
   "cell_type": "code",
   "execution_count": 295,
   "metadata": {
    "colab": {
     "base_uri": "https://localhost:8080/",
     "height": 35
    },
    "colab_type": "code",
    "executionInfo": {
     "elapsed": 12618,
     "status": "ok",
     "timestamp": 1550685944282,
     "user": {
      "displayName": "Ana D",
      "photoUrl": "",
      "userId": "13952176772373622573"
     },
     "user_tz": -330
    },
    "id": "tMUf2RH-k9EQ",
    "outputId": "cf5fdb60-5788-4f4f-b0bd-072bc6cb5ce6"
   },
   "outputs": [
    {
     "data": {
      "text/plain": [
       "True"
      ]
     },
     "execution_count": 295,
     "metadata": {},
     "output_type": "execute_result"
    }
   ],
   "source": [
    "np.allclose(B, np.dot(B, np.dot(a, B)))"
   ]
  },
  {
   "cell_type": "markdown",
   "metadata": {
    "colab_type": "text",
    "id": "GCN4jBWEzSlL"
   },
   "source": [
    "## Pseudorandom number generation"
   ]
  },
  {
   "cell_type": "code",
   "execution_count": 296,
   "metadata": {
    "colab": {
     "base_uri": "https://localhost:8080/",
     "height": 88
    },
    "colab_type": "code",
    "executionInfo": {
     "elapsed": 12445,
     "status": "ok",
     "timestamp": 1550685944289,
     "user": {
      "displayName": "Ana D",
      "photoUrl": "",
      "userId": "13952176772373622573"
     },
     "user_tz": -330
    },
    "id": "Rp719gTAlAOd",
    "outputId": "24474a26-20d8-461d-8b3f-be4e6fe747b9"
   },
   "outputs": [
    {
     "data": {
      "text/plain": [
       "array([[ 0.97045699, -0.37295226,  0.55448675,  0.6003592 ],\n",
       "       [-1.80900311,  0.13924641,  0.15622569, -1.8104461 ],\n",
       "       [-1.33882024, -0.42862963, -0.32133213,  2.31943049],\n",
       "       [ 0.06249575, -0.75546236,  1.43307516, -2.20108227]])"
      ]
     },
     "execution_count": 296,
     "metadata": {},
     "output_type": "execute_result"
    }
   ],
   "source": [
    "samples = np.random.normal(size = (4, 4))\n",
    "\n",
    "samples"
   ]
  },
  {
   "cell_type": "code",
   "execution_count": 297,
   "metadata": {
    "colab": {},
    "colab_type": "code",
    "id": "jedlPzAcz3NW"
   },
   "outputs": [],
   "source": [
    "from random import normalvariate"
   ]
  },
  {
   "cell_type": "code",
   "execution_count": 298,
   "metadata": {
    "colab": {},
    "colab_type": "code",
    "id": "ymvIEtU_0BpV"
   },
   "outputs": [],
   "source": [
    "N = 1000000"
   ]
  },
  {
   "cell_type": "code",
   "execution_count": 299,
   "metadata": {
    "colab": {
     "base_uri": "https://localhost:8080/",
     "height": 35
    },
    "colab_type": "code",
    "executionInfo": {
     "elapsed": 12141,
     "status": "ok",
     "timestamp": 1550685944307,
     "user": {
      "displayName": "Ana D",
      "photoUrl": "",
      "userId": "13952176772373622573"
     },
     "user_tz": -330
    },
    "id": "u2KVbqgq09jr",
    "outputId": "722a25f3-bf02-4e74-cb46-379361e819f5"
   },
   "outputs": [
    {
     "name": "stdout",
     "output_type": "stream",
     "text": [
      "1.63 s ± 104 ms per loop (mean ± std. dev. of 7 runs, 1 loop each)\n"
     ]
    }
   ],
   "source": [
    "%timeit samples = [normalvariate(0, 1) for _ in range(N)]"
   ]
  },
  {
   "cell_type": "code",
   "execution_count": 300,
   "metadata": {
    "colab": {
     "base_uri": "https://localhost:8080/",
     "height": 35
    },
    "colab_type": "code",
    "executionInfo": {
     "elapsed": 11822,
     "status": "ok",
     "timestamp": 1550685944314,
     "user": {
      "displayName": "Ana D",
      "photoUrl": "",
      "userId": "13952176772373622573"
     },
     "user_tz": -330
    },
    "id": "kmwvY1UH1EL0",
    "outputId": "25423635-ef87-446d-c22a-e242f5563823"
   },
   "outputs": [
    {
     "name": "stdout",
     "output_type": "stream",
     "text": [
      "56.7 ms ± 1.61 ms per loop (mean ± std. dev. of 7 runs, 10 loops each)\n"
     ]
    }
   ],
   "source": [
    "%timeit np.random.normal(size = N)"
   ]
  },
  {
   "cell_type": "code",
   "execution_count": 301,
   "metadata": {
    "colab": {},
    "colab_type": "code",
    "id": "z_o2MaKN1N3y"
   },
   "outputs": [],
   "source": [
    "np.random.seed(1234)"
   ]
  },
  {
   "cell_type": "code",
   "execution_count": 302,
   "metadata": {
    "colab": {},
    "colab_type": "code",
    "id": "p8cmGio81Wcf"
   },
   "outputs": [],
   "source": [
    "rng = np.random.RandomState(1234)"
   ]
  },
  {
   "cell_type": "code",
   "execution_count": 303,
   "metadata": {
    "colab": {
     "base_uri": "https://localhost:8080/",
     "height": 53
    },
    "colab_type": "code",
    "executionInfo": {
     "elapsed": 11503,
     "status": "ok",
     "timestamp": 1550685944335,
     "user": {
      "displayName": "Ana D",
      "photoUrl": "",
      "userId": "13952176772373622573"
     },
     "user_tz": -330
    },
    "id": "20lUEF-w2ioQ",
    "outputId": "3ffa591a-ec80-4ced-bb06-a0ee708a80a9"
   },
   "outputs": [
    {
     "data": {
      "text/plain": [
       "array([ 0.47143516, -1.19097569,  1.43270697, -0.3126519 , -0.72058873,\n",
       "        0.88716294,  0.85958841, -0.6365235 ,  0.01569637, -2.24268495])"
      ]
     },
     "execution_count": 303,
     "metadata": {},
     "output_type": "execute_result"
    }
   ],
   "source": [
    "rng.randn(10)"
   ]
  },
  {
   "cell_type": "code",
   "execution_count": 304,
   "metadata": {
    "colab": {
     "base_uri": "https://localhost:8080/",
     "height": 35
    },
    "colab_type": "code",
    "executionInfo": {
     "elapsed": 11249,
     "status": "ok",
     "timestamp": 1550685944340,
     "user": {
      "displayName": "Ana D",
      "photoUrl": "",
      "userId": "13952176772373622573"
     },
     "user_tz": -330
    },
    "id": "muNkspy32li7",
    "outputId": "a587dcd5-5fc3-46ef-e5b7-e15d80ce12db"
   },
   "outputs": [
    {
     "data": {
      "text/plain": [
       "array([7, 2, 9, 1, 0, 8, 4, 5, 6, 3])"
      ]
     },
     "execution_count": 304,
     "metadata": {},
     "output_type": "execute_result"
    }
   ],
   "source": [
    "## np.random.permutation() examples\n",
    "\n",
    "np.random.permutation(10)"
   ]
  },
  {
   "cell_type": "code",
   "execution_count": 305,
   "metadata": {
    "colab": {
     "base_uri": "https://localhost:8080/",
     "height": 35
    },
    "colab_type": "code",
    "executionInfo": {
     "elapsed": 11052,
     "status": "ok",
     "timestamp": 1550685944346,
     "user": {
      "displayName": "Ana D",
      "photoUrl": "",
      "userId": "13952176772373622573"
     },
     "user_tz": -330
    },
    "id": "1K8a-SSmTiUS",
    "outputId": "cea1ac77-a61d-4e35-bc02-eeaa2be52810"
   },
   "outputs": [
    {
     "data": {
      "text/plain": [
       "array([ 1, 15, 12,  9,  4])"
      ]
     },
     "execution_count": 305,
     "metadata": {},
     "output_type": "execute_result"
    }
   ],
   "source": [
    "np.random.permutation([1, 4, 9, 12, 15])"
   ]
  },
  {
   "cell_type": "code",
   "execution_count": 306,
   "metadata": {
    "colab": {},
    "colab_type": "code",
    "id": "lZJ1Oy-faa9z"
   },
   "outputs": [],
   "source": [
    "arr = np.arange(9).reshape((3, 3))"
   ]
  },
  {
   "cell_type": "code",
   "execution_count": 307,
   "metadata": {
    "colab": {
     "base_uri": "https://localhost:8080/",
     "height": 71
    },
    "colab_type": "code",
    "executionInfo": {
     "elapsed": 10649,
     "status": "ok",
     "timestamp": 1550685944361,
     "user": {
      "displayName": "Ana D",
      "photoUrl": "",
      "userId": "13952176772373622573"
     },
     "user_tz": -330
    },
    "id": "t5Zpzc8gaodc",
    "outputId": "91c3f511-5491-46f6-cada-a091531cd5cc"
   },
   "outputs": [
    {
     "data": {
      "text/plain": [
       "array([[3, 4, 5],\n",
       "       [0, 1, 2],\n",
       "       [6, 7, 8]])"
      ]
     },
     "execution_count": 307,
     "metadata": {},
     "output_type": "execute_result"
    }
   ],
   "source": [
    "np.random.permutation(arr)"
   ]
  },
  {
   "cell_type": "code",
   "execution_count": 308,
   "metadata": {
    "colab": {},
    "colab_type": "code",
    "id": "90we1bLKaruy"
   },
   "outputs": [],
   "source": [
    "## np.random.shuffle() examples\n",
    "\n",
    "arr = np.arange(10)\n",
    "\n",
    "np.random.shuffle(arr)"
   ]
  },
  {
   "cell_type": "code",
   "execution_count": 309,
   "metadata": {
    "colab": {
     "base_uri": "https://localhost:8080/",
     "height": 35
    },
    "colab_type": "code",
    "executionInfo": {
     "elapsed": 10379,
     "status": "ok",
     "timestamp": 1550685944377,
     "user": {
      "displayName": "Ana D",
      "photoUrl": "",
      "userId": "13952176772373622573"
     },
     "user_tz": -330
    },
    "id": "PJJia8Y0bct9",
    "outputId": "89c70936-1322-4b71-b3e5-55a7bbb76f40"
   },
   "outputs": [
    {
     "data": {
      "text/plain": [
       "array([3, 9, 2, 1, 7, 5, 4, 0, 8, 6])"
      ]
     },
     "execution_count": 309,
     "metadata": {},
     "output_type": "execute_result"
    }
   ],
   "source": [
    "arr"
   ]
  },
  {
   "cell_type": "code",
   "execution_count": 310,
   "metadata": {
    "colab": {},
    "colab_type": "code",
    "id": "5GjVPduFbgkY"
   },
   "outputs": [],
   "source": [
    "arr = np.arange(9).reshape((3, 3))\n",
    "\n",
    "np.random.shuffle(arr)"
   ]
  },
  {
   "cell_type": "code",
   "execution_count": 311,
   "metadata": {
    "colab": {
     "base_uri": "https://localhost:8080/",
     "height": 71
    },
    "colab_type": "code",
    "executionInfo": {
     "elapsed": 10131,
     "status": "ok",
     "timestamp": 1550685944395,
     "user": {
      "displayName": "Ana D",
      "photoUrl": "",
      "userId": "13952176772373622573"
     },
     "user_tz": -330
    },
    "id": "3Q5Ewqr-bxEw",
    "outputId": "a2bbe44f-c01e-4965-e849-311b4161f018"
   },
   "outputs": [
    {
     "data": {
      "text/plain": [
       "array([[3, 4, 5],\n",
       "       [0, 1, 2],\n",
       "       [6, 7, 8]])"
      ]
     },
     "execution_count": 311,
     "metadata": {},
     "output_type": "execute_result"
    }
   ],
   "source": [
    "arr"
   ]
  },
  {
   "cell_type": "code",
   "execution_count": 312,
   "metadata": {
    "colab": {
     "base_uri": "https://localhost:8080/",
     "height": 71
    },
    "colab_type": "code",
    "executionInfo": {
     "elapsed": 9859,
     "status": "ok",
     "timestamp": 1550685944403,
     "user": {
      "displayName": "Ana D",
      "photoUrl": "",
      "userId": "13952176772373622573"
     },
     "user_tz": -330
    },
    "id": "bbJ7RJcfbzF3",
    "outputId": "d2a2c753-b33d-4c14-a742-d0be98ee4337"
   },
   "outputs": [
    {
     "data": {
      "text/plain": [
       "array([[0.44266265, 0.02214391],\n",
       "       [0.29072855, 0.24639444],\n",
       "       [0.73828677, 0.88922613]])"
      ]
     },
     "execution_count": 312,
     "metadata": {},
     "output_type": "execute_result"
    }
   ],
   "source": [
    "## np.random.rand() example\n",
    "\n",
    "np.random.rand(3, 2)"
   ]
  },
  {
   "cell_type": "code",
   "execution_count": 313,
   "metadata": {
    "colab": {
     "base_uri": "https://localhost:8080/",
     "height": 35
    },
    "colab_type": "code",
    "executionInfo": {
     "elapsed": 7542,
     "status": "ok",
     "timestamp": 1550685944409,
     "user": {
      "displayName": "Ana D",
      "photoUrl": "",
      "userId": "13952176772373622573"
     },
     "user_tz": -330
    },
    "id": "jxS0b8tCcKJP",
    "outputId": "f0cc0389-136f-4105-9ee9-c63d4b9640fa"
   },
   "outputs": [
    {
     "data": {
      "text/plain": [
       "array([0, 1, 0, 1, 0, 1, 1, 1, 1, 0])"
      ]
     },
     "execution_count": 313,
     "metadata": {},
     "output_type": "execute_result"
    }
   ],
   "source": [
    "## np.random.randint() examples\n",
    "\n",
    "np.random.randint(2, size = 10)"
   ]
  },
  {
   "cell_type": "code",
   "execution_count": 314,
   "metadata": {
    "colab": {
     "base_uri": "https://localhost:8080/",
     "height": 35
    },
    "colab_type": "code",
    "executionInfo": {
     "elapsed": 7038,
     "status": "ok",
     "timestamp": 1550685944417,
     "user": {
      "displayName": "Ana D",
      "photoUrl": "",
      "userId": "13952176772373622573"
     },
     "user_tz": -330
    },
    "id": "yP80vElycp45",
    "outputId": "abe138d4-7143-420a-cdf9-5fb984cbee10"
   },
   "outputs": [
    {
     "data": {
      "text/plain": [
       "array([0, 0, 0, 0, 0, 0, 0, 0, 0, 0])"
      ]
     },
     "execution_count": 314,
     "metadata": {},
     "output_type": "execute_result"
    }
   ],
   "source": [
    "np.random.randint(1, size = 10)"
   ]
  },
  {
   "cell_type": "code",
   "execution_count": 315,
   "metadata": {
    "colab": {
     "base_uri": "https://localhost:8080/",
     "height": 53
    },
    "colab_type": "code",
    "executionInfo": {
     "elapsed": 6806,
     "status": "ok",
     "timestamp": 1550685944423,
     "user": {
      "displayName": "Ana D",
      "photoUrl": "",
      "userId": "13952176772373622573"
     },
     "user_tz": -330
    },
    "id": "ysGVJee0cwAj",
    "outputId": "4261df5c-4c4c-48bc-d82a-4c042423da60"
   },
   "outputs": [
    {
     "data": {
      "text/plain": [
       "array([[1, 3, 4, 2],\n",
       "       [3, 4, 1, 4]])"
      ]
     },
     "execution_count": 315,
     "metadata": {},
     "output_type": "execute_result"
    }
   ],
   "source": [
    "np.random.randint(5, size = (2, 4))"
   ]
  },
  {
   "cell_type": "code",
   "execution_count": 316,
   "metadata": {
    "colab": {
     "base_uri": "https://localhost:8080/",
     "height": 35
    },
    "colab_type": "code",
    "executionInfo": {
     "elapsed": 6605,
     "status": "ok",
     "timestamp": 1550685944428,
     "user": {
      "displayName": "Ana D",
      "photoUrl": "",
      "userId": "13952176772373622573"
     },
     "user_tz": -330
    },
    "id": "80Z_AId4c5Uu",
    "outputId": "65d49b48-dda4-4a01-937b-38ba596c08d6"
   },
   "outputs": [
    {
     "data": {
      "text/plain": [
       "1.0475785728927218"
      ]
     },
     "execution_count": 316,
     "metadata": {},
     "output_type": "execute_result"
    }
   ],
   "source": [
    "## np.random.randn() examples\n",
    "\n",
    "np.random.randn()"
   ]
  },
  {
   "cell_type": "code",
   "execution_count": 317,
   "metadata": {
    "colab": {
     "base_uri": "https://localhost:8080/",
     "height": 53
    },
    "colab_type": "code",
    "executionInfo": {
     "elapsed": 6411,
     "status": "ok",
     "timestamp": 1550685944434,
     "user": {
      "displayName": "Ana D",
      "photoUrl": "",
      "userId": "13952176772373622573"
     },
     "user_tz": -330
    },
    "id": "nfowbYVddGwj",
    "outputId": "f80fc424-e9f1-4c85-dbf9-b08bc378f370"
   },
   "outputs": [
    {
     "data": {
      "text/plain": [
       "array([[5.61484564, 5.15929323, 2.69477106, 3.31178238],\n",
       "       [2.19301299, 5.10418678, 8.97740129, 3.19049897]])"
      ]
     },
     "execution_count": 317,
     "metadata": {},
     "output_type": "execute_result"
    }
   ],
   "source": [
    "# For random samples from N(mu, sigma^2), use\n",
    "# sigma * np.random.randn(...) + mu\n",
    "\n",
    "# 2 by 4 array of samples from N(3, 6.25):\n",
    "\n",
    "2.5 * np.random.randn(2, 4) + 3"
   ]
  },
  {
   "cell_type": "code",
   "execution_count": 318,
   "metadata": {
    "colab": {},
    "colab_type": "code",
    "id": "48HoC8RxdoFG"
   },
   "outputs": [],
   "source": [
    "## np.random.binomial() examples\n",
    "\n",
    "n, p = 10, .5 # number of trials, probability of each trial"
   ]
  },
  {
   "cell_type": "code",
   "execution_count": 319,
   "metadata": {
    "colab": {},
    "colab_type": "code",
    "id": "EYt5Gl9chiOz"
   },
   "outputs": [],
   "source": [
    "s = np.random.binomial(n, p, 1000)\n",
    "\n",
    "# result of flipping a coin 10 times, tested 1000 times."
   ]
  },
  {
   "cell_type": "code",
   "execution_count": 320,
   "metadata": {
    "colab": {
     "base_uri": "https://localhost:8080/",
     "height": 35
    },
    "colab_type": "code",
    "executionInfo": {
     "elapsed": 1349,
     "status": "ok",
     "timestamp": 1550687376596,
     "user": {
      "displayName": "Ana D",
      "photoUrl": "",
      "userId": "13952176772373622573"
     },
     "user_tz": -330
    },
    "id": "Pwcf1-PqKwPt",
    "outputId": "7fdad68f-fd39-41eb-b73f-90061b0f3921"
   },
   "outputs": [
    {
     "data": {
      "text/plain": [
       "0.38525"
      ]
     },
     "execution_count": 320,
     "metadata": {},
     "output_type": "execute_result"
    }
   ],
   "source": [
    "sum(np.random.binomial(9, 0.1, 20000) == 0) / 20000 "
   ]
  },
  {
   "cell_type": "code",
   "execution_count": 321,
   "metadata": {
    "colab": {},
    "colab_type": "code",
    "id": "p6rmLkPEK4VG"
   },
   "outputs": [],
   "source": [
    "## np.random.normal() examples\n",
    "\n",
    "mu, sigma = 0, 0.1 # mean and standard deviation\n",
    "\n",
    "s = np.random.normal(mu, sigma, 1000)"
   ]
  },
  {
   "cell_type": "code",
   "execution_count": 322,
   "metadata": {
    "colab": {
     "base_uri": "https://localhost:8080/",
     "height": 35
    },
    "colab_type": "code",
    "executionInfo": {
     "elapsed": 1514,
     "status": "ok",
     "timestamp": 1550687551704,
     "user": {
      "displayName": "Ana D",
      "photoUrl": "",
      "userId": "13952176772373622573"
     },
     "user_tz": -330
    },
    "id": "nXXaqlyDLZkx",
    "outputId": "ac476a1c-b441-4607-9af0-e6960dbe68f2"
   },
   "outputs": [
    {
     "data": {
      "text/plain": [
       "True"
      ]
     },
     "execution_count": 322,
     "metadata": {},
     "output_type": "execute_result"
    }
   ],
   "source": [
    "# verifying the mean and the variance\n",
    "\n",
    "abs(mu - np.mean(s)) < 0.01"
   ]
  },
  {
   "cell_type": "code",
   "execution_count": 323,
   "metadata": {
    "colab": {
     "base_uri": "https://localhost:8080/",
     "height": 35
    },
    "colab_type": "code",
    "executionInfo": {
     "elapsed": 1289,
     "status": "ok",
     "timestamp": 1550687579041,
     "user": {
      "displayName": "Ana D",
      "photoUrl": "",
      "userId": "13952176772373622573"
     },
     "user_tz": -330
    },
    "id": "sge20j3bLi7b",
    "outputId": "166739e7-4cd9-47c5-fe8c-d3e5d47ae7b1"
   },
   "outputs": [
    {
     "data": {
      "text/plain": [
       "True"
      ]
     },
     "execution_count": 323,
     "metadata": {},
     "output_type": "execute_result"
    }
   ],
   "source": [
    "abs(sigma - np.std(s, ddof = 1)) < 0.01"
   ]
  },
  {
   "cell_type": "code",
   "execution_count": 324,
   "metadata": {
    "colab": {
     "base_uri": "https://localhost:8080/",
     "height": 347
    },
    "colab_type": "code",
    "executionInfo": {
     "elapsed": 1557,
     "status": "ok",
     "timestamp": 1550687740675,
     "user": {
      "displayName": "Ana D",
      "photoUrl": "",
      "userId": "13952176772373622573"
     },
     "user_tz": -330
    },
    "id": "iuJGYSvULpsr",
    "outputId": "4c38d1c7-13e3-488b-c97e-cc7b3682d5e1"
   },
   "outputs": [
    {
     "data": {
      "image/png": "[encoded data removed]",
      "text/plain": [
       "<Figure size 432x288 with 1 Axes>"
      ]
     },
     "metadata": {},
     "output_type": "display_data"
    }
   ],
   "source": [
    "import matplotlib.pyplot as plt\n",
    "\n",
    "count, bins, ignored = plt.hist(s, 30, density = True)\n",
    "\n",
    "plt.plot(bins, 1 / (sigma * np.sqrt(2 * np.pi)) * \n",
    "        np.exp( - (bins - mu) ** 2 / (2 * sigma ** 2) ),\n",
    "        linewidth = 2, color = 'r')\n",
    "\n",
    "plt.show()"
   ]
  },
  {
   "cell_type": "code",
   "execution_count": 325,
   "metadata": {
    "colab": {
     "base_uri": "https://localhost:8080/",
     "height": 35
    },
    "colab_type": "code",
    "executionInfo": {
     "elapsed": 1584,
     "status": "ok",
     "timestamp": 1550687913966,
     "user": {
      "displayName": "Ana D",
      "photoUrl": "",
      "userId": "13952176772373622573"
     },
     "user_tz": -330
    },
    "id": "gjejNPkLMLIN",
    "outputId": "0fcb4846-1420-4646-9c17-e3311b5e93ea"
   },
   "outputs": [
    {
     "data": {
      "text/plain": [
       "array([1.4197861 , 0.47927692, 2.3623304 , 0.34285139])"
      ]
     },
     "execution_count": 325,
     "metadata": {},
     "output_type": "execute_result"
    }
   ],
   "source": [
    "## np.random.chisquare() example\n",
    "\n",
    "np.random.chisquare(2, 4) # degrees of freedom and size"
   ]
  },
  {
   "cell_type": "code",
   "execution_count": 326,
   "metadata": {
    "colab": {},
    "colab_type": "code",
    "id": "FuHHLP7XM7SK"
   },
   "outputs": [],
   "source": [
    "## np.random.gamma() examples\n",
    "\n",
    "shape, scale = 2., 2.   # mean = 4, std = 2 * sqrt(2)\n",
    "\n",
    "s = np.random.gamma(shape, scale, 1000)"
   ]
  },
  {
   "cell_type": "code",
   "execution_count": 327,
   "metadata": {
    "colab": {
     "base_uri": "https://localhost:8080/",
     "height": 347
    },
    "colab_type": "code",
    "executionInfo": {
     "elapsed": 1912,
     "status": "ok",
     "timestamp": 1550688311490,
     "user": {
      "displayName": "Ana D",
      "photoUrl": "",
      "userId": "13952176772373622573"
     },
     "user_tz": -330
    },
    "id": "U6hZ0f7kNUl2",
    "outputId": "82b48163-ef40-44e4-9d5c-254e539bb9f5"
   },
   "outputs": [
    {
     "data": {
      "image/png": "[encoded data removed]",
      "text/plain": [
       "<Figure size 432x288 with 1 Axes>"
      ]
     },
     "metadata": {},
     "output_type": "display_data"
    }
   ],
   "source": [
    "import matplotlib.pyplot as plt\n",
    "import scipy.special as sps\n",
    "\n",
    "count, bins, ignored = plt.hist(s, 50, density = True)\n",
    "\n",
    "y = bins ** (shape - 1) * (np.exp(-bins/scale) / \n",
    "                          (sps.gamma(shape) * scale ** shape))\n",
    "\n",
    "plt.plot(bins, y, linewidth = 2, color = 'r')\n",
    "\n",
    "plt.show()"
   ]
  },
  {
   "cell_type": "code",
   "execution_count": 328,
   "metadata": {
    "colab": {},
    "colab_type": "code",
    "id": "3x2sLyClOZNf"
   },
   "outputs": [],
   "source": [
    "## np.random.uniform() examples\n",
    "\n",
    "s = np.random.uniform(-1, 0, 1000)"
   ]
  },
  {
   "cell_type": "code",
   "execution_count": 329,
   "metadata": {
    "colab": {
     "base_uri": "https://localhost:8080/",
     "height": 35
    },
    "colab_type": "code",
    "executionInfo": {
     "elapsed": 2353,
     "status": "ok",
     "timestamp": 1550688643105,
     "user": {
      "displayName": "Ana D",
      "photoUrl": "",
      "userId": "13952176772373622573"
     },
     "user_tz": -330
    },
    "id": "K8pPQoACPX0a",
    "outputId": "d132b0fc-bb45-4d82-ad3f-3814442952b2"
   },
   "outputs": [
    {
     "data": {
      "text/plain": [
       "True"
      ]
     },
     "execution_count": 329,
     "metadata": {},
     "output_type": "execute_result"
    }
   ],
   "source": [
    "# verifying whether all values are within given interval\n",
    "\n",
    "np.all(s >= -1)"
   ]
  },
  {
   "cell_type": "code",
   "execution_count": 330,
   "metadata": {
    "colab": {
     "base_uri": "https://localhost:8080/",
     "height": 35
    },
    "colab_type": "code",
    "executionInfo": {
     "elapsed": 4233,
     "status": "ok",
     "timestamp": 1550688668675,
     "user": {
      "displayName": "Ana D",
      "photoUrl": "",
      "userId": "13952176772373622573"
     },
     "user_tz": -330
    },
    "id": "-xhWYFdsPtHB",
    "outputId": "e0a8c810-f902-4afd-ae63-42edb68ff0b6"
   },
   "outputs": [
    {
     "data": {
      "text/plain": [
       "True"
      ]
     },
     "execution_count": 330,
     "metadata": {},
     "output_type": "execute_result"
    }
   ],
   "source": [
    "np.all(s < 0)"
   ]
  },
  {
   "cell_type": "code",
   "execution_count": 331,
   "metadata": {
    "colab": {
     "base_uri": "https://localhost:8080/",
     "height": 347
    },
    "colab_type": "code",
    "executionInfo": {
     "elapsed": 1638,
     "status": "ok",
     "timestamp": 1550688757672,
     "user": {
      "displayName": "Ana D",
      "photoUrl": "",
      "userId": "13952176772373622573"
     },
     "user_tz": -330
    },
    "id": "JlVFDUXNPyzC",
    "outputId": "7cd9614d-b625-48b8-b355-dc888b1a0656"
   },
   "outputs": [
    {
     "data": {
      "image/png": "[encoded data removed]",
      "text/plain": [
       "<Figure size 432x288 with 1 Axes>"
      ]
     },
     "metadata": {},
     "output_type": "display_data"
    }
   ],
   "source": [
    "import matplotlib.pyplot as plt\n",
    "\n",
    "count, bins, ignored = plt.hist(s, 15, density = True)\n",
    "\n",
    "plt.plot(bins, np.ones_like(bins), linewidth = 2, color = 'r')\n",
    "\n",
    "plt.show()"
   ]
  },
  {
   "cell_type": "markdown",
   "metadata": {
    "colab_type": "text",
    "id": "A7rdZES_QblY"
   },
   "source": [
    "## Example: Random Walks"
   ]
  },
  {
   "cell_type": "code",
   "execution_count": 332,
   "metadata": {
    "colab": {},
    "colab_type": "code",
    "id": "lpoMF6M-QJVK"
   },
   "outputs": [],
   "source": [
    "import random\n",
    "\n",
    "position = 0\n",
    "walk = [position]\n",
    "steps = 1000\n",
    "for i in range(steps):\n",
    "  step = 1 if random.randint(0, 1) else -1\n",
    "  position += step\n",
    "  walk.append(position)"
   ]
  },
  {
   "cell_type": "code",
   "execution_count": 333,
   "metadata": {
    "colab": {
     "base_uri": "https://localhost:8080/",
     "height": 365
    },
    "colab_type": "code",
    "executionInfo": {
     "elapsed": 1864,
     "status": "ok",
     "timestamp": 1550689007297,
     "user": {
      "displayName": "Ana D",
      "photoUrl": "",
      "userId": "13952176772373622573"
     },
     "user_tz": -330
    },
    "id": "8XAQQPW7Q_TX",
    "outputId": "35c10635-bd51-4322-ba9a-e4a67359d7e7"
   },
   "outputs": [
    {
     "data": {
      "text/plain": [
       "[<matplotlib.lines.Line2D at 0x1f950fd64e0>]"
      ]
     },
     "execution_count": 333,
     "metadata": {},
     "output_type": "execute_result"
    },
    {
     "data": {
      "image/png": "[encoded data removed]",
      "text/plain": [
       "<Figure size 432x288 with 1 Axes>"
      ]
     },
     "metadata": {},
     "output_type": "display_data"
    }
   ],
   "source": [
    "plt.plot(walk[:100])"
   ]
  },
  {
   "cell_type": "code",
   "execution_count": 334,
   "metadata": {
    "colab": {},
    "colab_type": "code",
    "id": "yr1LiJJwRGFg"
   },
   "outputs": [],
   "source": [
    "nsteps = 1000\n",
    "\n",
    "draws = np.random.randint(0, 2, size = nsteps)\n",
    "\n",
    "steps = np.where(draws > 0, 1, -1)\n",
    "\n",
    "walk = steps.cumsum()"
   ]
  },
  {
   "cell_type": "code",
   "execution_count": 335,
   "metadata": {
    "colab": {
     "base_uri": "https://localhost:8080/",
     "height": 35
    },
    "colab_type": "code",
    "executionInfo": {
     "elapsed": 1821,
     "status": "ok",
     "timestamp": 1550689369822,
     "user": {
      "displayName": "Ana D",
      "photoUrl": "",
      "userId": "13952176772373622573"
     },
     "user_tz": -330
    },
    "id": "1fpfBoWdRnxK",
    "outputId": "d3165c46-c5ed-408b-c40c-5afe22e7428b"
   },
   "outputs": [
    {
     "data": {
      "text/plain": [
       "-27"
      ]
     },
     "execution_count": 335,
     "metadata": {},
     "output_type": "execute_result"
    }
   ],
   "source": [
    "walk.min()"
   ]
  },
  {
   "cell_type": "code",
   "execution_count": 336,
   "metadata": {
    "colab": {
     "base_uri": "https://localhost:8080/",
     "height": 35
    },
    "colab_type": "code",
    "executionInfo": {
     "elapsed": 1665,
     "status": "ok",
     "timestamp": 1550689447183,
     "user": {
      "displayName": "Ana D",
      "photoUrl": "",
      "userId": "13952176772373622573"
     },
     "user_tz": -330
    },
    "id": "oL_znTvxSeyz",
    "outputId": "598ad069-51ed-439a-8bd4-80cf248d3d4b"
   },
   "outputs": [
    {
     "data": {
      "text/plain": [
       "2"
      ]
     },
     "execution_count": 336,
     "metadata": {},
     "output_type": "execute_result"
    }
   ],
   "source": [
    "walk.max()"
   ]
  },
  {
   "cell_type": "code",
   "execution_count": 337,
   "metadata": {
    "colab": {
     "base_uri": "https://localhost:8080/",
     "height": 35
    },
    "colab_type": "code",
    "executionInfo": {
     "elapsed": 1546,
     "status": "ok",
     "timestamp": 1550689492275,
     "user": {
      "displayName": "Ana D",
      "photoUrl": "",
      "userId": "13952176772373622573"
     },
     "user_tz": -330
    },
    "id": "-U9l21_dSxrV",
    "outputId": "d6bc43ba-5d1a-41f7-a467-43256ce442a1"
   },
   "outputs": [
    {
     "data": {
      "text/plain": [
       "61"
      ]
     },
     "execution_count": 337,
     "metadata": {},
     "output_type": "execute_result"
    }
   ],
   "source": [
    "(np.abs(walk) >= 10).argmax()"
   ]
  },
  {
   "cell_type": "markdown",
   "metadata": {
    "colab_type": "text",
    "id": "QWu3A24lTGC8"
   },
   "source": [
    "## Simulating many Random Walks at once"
   ]
  },
  {
   "cell_type": "code",
   "execution_count": 338,
   "metadata": {
    "colab": {},
    "colab_type": "code",
    "id": "R7VwHEzIS8gg"
   },
   "outputs": [],
   "source": [
    "nwalks = 5000\n",
    "\n",
    "nsteps = 1000\n",
    "\n",
    "draws = np.random.randint(0, 2, size = (nwalks, nsteps)) # 0 or 1\n",
    "\n",
    "steps = np.where(draws > 0, 1, -1)\n",
    "\n",
    "walks = steps.cumsum(1)"
   ]
  },
  {
   "cell_type": "code",
   "execution_count": 339,
   "metadata": {
    "colab": {
     "base_uri": "https://localhost:8080/",
     "height": 142
    },
    "colab_type": "code",
    "executionInfo": {
     "elapsed": 1647,
     "status": "ok",
     "timestamp": 1550689658126,
     "user": {
      "displayName": "Ana D",
      "photoUrl": "",
      "userId": "13952176772373622573"
     },
     "user_tz": -330
    },
    "id": "4zyeXUBCTijM",
    "outputId": "5209f16e-c19f-4da5-b5c0-405ac6b1a327"
   },
   "outputs": [
    {
     "data": {
      "text/plain": [
       "array([[  1,   0,  -1, ...,  46,  47,  46],\n",
       "       [ -1,   0,  -1, ...,  30,  29,  28],\n",
       "       [  1,   2,   1, ..., -44, -43, -42],\n",
       "       ...,\n",
       "       [ -1,  -2,  -3, ..., -42, -43, -42],\n",
       "       [ -1,   0,   1, ..., -12, -11, -12],\n",
       "       [  1,   2,   1, ...,  48,  49,  48]], dtype=int32)"
      ]
     },
     "execution_count": 339,
     "metadata": {},
     "output_type": "execute_result"
    }
   ],
   "source": [
    "walks"
   ]
  },
  {
   "cell_type": "code",
   "execution_count": 340,
   "metadata": {
    "colab": {
     "base_uri": "https://localhost:8080/",
     "height": 35
    },
    "colab_type": "code",
    "executionInfo": {
     "elapsed": 1493,
     "status": "ok",
     "timestamp": 1550689754454,
     "user": {
      "displayName": "Ana D",
      "photoUrl": "",
      "userId": "13952176772373622573"
     },
     "user_tz": -330
    },
    "id": "KKztDiyGTlHN",
    "outputId": "289fd205-ad61-4e9b-cca3-ada1d54fb129"
   },
   "outputs": [
    {
     "data": {
      "text/plain": [
       "-114"
      ]
     },
     "execution_count": 340,
     "metadata": {},
     "output_type": "execute_result"
    }
   ],
   "source": [
    "walks.min()"
   ]
  },
  {
   "cell_type": "code",
   "execution_count": 341,
   "metadata": {
    "colab": {
     "base_uri": "https://localhost:8080/",
     "height": 35
    },
    "colab_type": "code",
    "executionInfo": {
     "elapsed": 1778,
     "status": "ok",
     "timestamp": 1550689772265,
     "user": {
      "displayName": "Ana D",
      "photoUrl": "",
      "userId": "13952176772373622573"
     },
     "user_tz": -330
    },
    "id": "Iz_FVn17Twwf",
    "outputId": "48f75942-985b-42fa-bff7-6d42f74bdf6f"
   },
   "outputs": [
    {
     "data": {
      "text/plain": [
       "115"
      ]
     },
     "execution_count": 341,
     "metadata": {},
     "output_type": "execute_result"
    }
   ],
   "source": [
    "walks.max()"
   ]
  },
  {
   "cell_type": "code",
   "execution_count": 342,
   "metadata": {
    "colab": {
     "base_uri": "https://localhost:8080/",
     "height": 35
    },
    "colab_type": "code",
    "executionInfo": {
     "elapsed": 1654,
     "status": "ok",
     "timestamp": 1550689824235,
     "user": {
      "displayName": "Ana D",
      "photoUrl": "",
      "userId": "13952176772373622573"
     },
     "user_tz": -330
    },
    "id": "_Zlte9FjUA_W",
    "outputId": "49436fd7-0dcf-4ebf-f677-f21598d95a36"
   },
   "outputs": [
    {
     "data": {
      "text/plain": [
       "array([ True,  True,  True, ...,  True, False,  True])"
      ]
     },
     "execution_count": 342,
     "metadata": {},
     "output_type": "execute_result"
    }
   ],
   "source": [
    "hits30 = (np.abs(walks) >= 30).any(1)\n",
    "\n",
    "hits30"
   ]
  },
  {
   "cell_type": "code",
   "execution_count": 343,
   "metadata": {
    "colab": {
     "base_uri": "https://localhost:8080/",
     "height": 35
    },
    "colab_type": "code",
    "executionInfo": {
     "elapsed": 1513,
     "status": "ok",
     "timestamp": 1550689853613,
     "user": {
      "displayName": "Ana D",
      "photoUrl": "",
      "userId": "13952176772373622573"
     },
     "user_tz": -330
    },
    "id": "zfCIxRy7UNwM",
    "outputId": "a239a9d7-9968-4da7-b5b1-0a2ba5abedde"
   },
   "outputs": [
    {
     "data": {
      "text/plain": [
       "3416"
      ]
     },
     "execution_count": 343,
     "metadata": {},
     "output_type": "execute_result"
    }
   ],
   "source": [
    "hits30.sum() # Number that hit 30 or -30 "
   ]
  },
  {
   "cell_type": "code",
   "execution_count": 344,
   "metadata": {
    "colab": {},
    "colab_type": "code",
    "id": "1ykn4p6OUU82"
   },
   "outputs": [],
   "source": [
    "crossing_times = (np.abs(walks[hits30]) >= 30).argmax(1)"
   ]
  },
  {
   "cell_type": "code",
   "execution_count": 345,
   "metadata": {
    "colab": {
     "base_uri": "https://localhost:8080/",
     "height": 35
    },
    "colab_type": "code",
    "executionInfo": {
     "elapsed": 2015,
     "status": "ok",
     "timestamp": 1550689941453,
     "user": {
      "displayName": "Ana D",
      "photoUrl": "",
      "userId": "13952176772373622573"
     },
     "user_tz": -330
    },
    "id": "J15mOXt0UmW8",
    "outputId": "3f8bb978-5365-496e-aded-91e2b7add9b4"
   },
   "outputs": [
    {
     "data": {
      "text/plain": [
       "504.48887587822014"
      ]
     },
     "execution_count": 345,
     "metadata": {},
     "output_type": "execute_result"
    }
   ],
   "source": [
    "crossing_times.mean()"
   ]
  },
  {
   "cell_type": "code",
   "execution_count": 346,
   "metadata": {
    "colab": {},
    "colab_type": "code",
    "id": "z95JfIs7UqRT"
   },
   "outputs": [],
   "source": [
    "steps = np.random.normal(loc = 0, scale = 0.25,\n",
    "                         size = (nwalks, nsteps))"
   ]
  }
 ],
 "metadata": {
  "colab": {
   "collapsed_sections": [],
   "name": "Ch 4 - Python for data analysis.ipynb",
   "provenance": [],
   "version": "0.3.2"
  },
  "kernelspec": {
   "display_name": "Python 3",
   "language": "python",
   "name": "python3"
  },
  "language_info": {
   "codemirror_mode": {
    "name": "ipython",
    "version": 3
   },
   "file_extension": ".py",
   "mimetype": "text/x-python",
   "name": "python",
   "nbconvert_exporter": "python",
   "pygments_lexer": "ipython3",
   "version": "3.6.5"
  }
 },
 "nbformat": 4,
 "nbformat_minor": 1
}
