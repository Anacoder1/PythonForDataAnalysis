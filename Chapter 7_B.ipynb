{
  "nbformat": 4,
  "nbformat_minor": 0,
  "metadata": {
    "colab": {
      "name": "2_Ch 7 - Python for data analysis.ipynb",
      "version": "0.3.2",
      "provenance": [],
      "collapsed_sections": []
    },
    "kernelspec": {
      "name": "python3",
      "display_name": "Python 3"
    }
  },
  "cells": [
    {
      "metadata": {
        "id": "N9DXeMXWTDcA",
        "colab_type": "text"
      },
      "cell_type": "markdown",
      "source": [
        "## Regular Expressions"
      ]
    },
    {
      "metadata": {
        "id": "7WsfHPZq_yyB",
        "colab_type": "code",
        "colab": {}
      },
      "cell_type": "code",
      "source": [
        "import re"
      ],
      "execution_count": 0,
      "outputs": []
    },
    {
      "metadata": {
        "id": "xpn5vBqtd0jk",
        "colab_type": "code",
        "colab": {}
      },
      "cell_type": "code",
      "source": [
        "text = \"foo   bar\\t baz   \\tqux\""
      ],
      "execution_count": 0,
      "outputs": []
    },
    {
      "metadata": {
        "id": "9DOMX02Od8qt",
        "colab_type": "code",
        "outputId": "7396972b-abd0-4d3d-eb3d-27aa6f444495",
        "colab": {
          "base_uri": "https://localhost:8080/",
          "height": 35
        }
      },
      "cell_type": "code",
      "source": [
        "re.split('\\s+', text)"
      ],
      "execution_count": 3,
      "outputs": [
        {
          "output_type": "execute_result",
          "data": {
            "text/plain": [
              "['foo', 'bar', 'baz', 'qux']"
            ]
          },
          "metadata": {
            "tags": []
          },
          "execution_count": 3
        }
      ]
    },
    {
      "metadata": {
        "id": "qFUSSC8qd_vp",
        "colab_type": "code",
        "colab": {}
      },
      "cell_type": "code",
      "source": [
        "regex = re.compile('\\s+')"
      ],
      "execution_count": 0,
      "outputs": []
    },
    {
      "metadata": {
        "id": "x8UhoOdCeZr9",
        "colab_type": "code",
        "outputId": "52d5fe6f-ff87-4b1e-940f-06ff8007f6dc",
        "colab": {
          "base_uri": "https://localhost:8080/",
          "height": 35
        }
      },
      "cell_type": "code",
      "source": [
        "regex.split(text)"
      ],
      "execution_count": 5,
      "outputs": [
        {
          "output_type": "execute_result",
          "data": {
            "text/plain": [
              "['foo', 'bar', 'baz', 'qux']"
            ]
          },
          "metadata": {
            "tags": []
          },
          "execution_count": 5
        }
      ]
    },
    {
      "metadata": {
        "id": "uF1OlohPehC9",
        "colab_type": "code",
        "outputId": "8e5ff847-4a6b-40cf-f8ae-fb0374476374",
        "colab": {
          "base_uri": "https://localhost:8080/",
          "height": 35
        }
      },
      "cell_type": "code",
      "source": [
        "regex.findall(text)"
      ],
      "execution_count": 6,
      "outputs": [
        {
          "output_type": "execute_result",
          "data": {
            "text/plain": [
              "['   ', '\\t ', '   \\t']"
            ]
          },
          "metadata": {
            "tags": []
          },
          "execution_count": 6
        }
      ]
    },
    {
      "metadata": {
        "id": "UjB8VzbEek4y",
        "colab_type": "code",
        "colab": {}
      },
      "cell_type": "code",
      "source": [
        "text = \"\"\"Dave dave@google.com\n",
        "Steve steve@gmail.com\n",
        "Rob rob@gmail.com\n",
        "Ryan ryan@yahoo.com\n",
        "\"\"\"\n",
        "\n",
        "pattern = r'[A-Z0-9._%+-]+@[A-Z0-9.-]+\\.[A-Z]{2,4}'\n",
        "\n",
        "# re.IGNORECASE makes the regex case - insensitive\n",
        "\n",
        "regex = re.compile(pattern, flags = re.IGNORECASE)"
      ],
      "execution_count": 0,
      "outputs": []
    },
    {
      "metadata": {
        "id": "s8X3lJu4fr_x",
        "colab_type": "code",
        "outputId": "08eae5a7-a466-4c0e-fece-4c9b0f175180",
        "colab": {
          "base_uri": "https://localhost:8080/",
          "height": 35
        }
      },
      "cell_type": "code",
      "source": [
        "regex.findall(text)"
      ],
      "execution_count": 8,
      "outputs": [
        {
          "output_type": "execute_result",
          "data": {
            "text/plain": [
              "['dave@google.com', 'steve@gmail.com', 'rob@gmail.com', 'ryan@yahoo.com']"
            ]
          },
          "metadata": {
            "tags": []
          },
          "execution_count": 8
        }
      ]
    },
    {
      "metadata": {
        "id": "6nuugyH2fwQu",
        "colab_type": "code",
        "outputId": "d6fa04e3-f72b-4f4e-930c-d7bb1a85fe2f",
        "colab": {
          "base_uri": "https://localhost:8080/",
          "height": 35
        }
      },
      "cell_type": "code",
      "source": [
        "m = regex.search(text)\n",
        "\n",
        "m"
      ],
      "execution_count": 9,
      "outputs": [
        {
          "output_type": "execute_result",
          "data": {
            "text/plain": [
              "<_sre.SRE_Match object; span=(5, 20), match='dave@google.com'>"
            ]
          },
          "metadata": {
            "tags": []
          },
          "execution_count": 9
        }
      ]
    },
    {
      "metadata": {
        "id": "AKYDW_emf8TI",
        "colab_type": "code",
        "outputId": "956b6ddb-01c0-475b-bb95-37067b8b8395",
        "colab": {
          "base_uri": "https://localhost:8080/",
          "height": 35
        }
      },
      "cell_type": "code",
      "source": [
        "text[m.start() : m.end()]"
      ],
      "execution_count": 10,
      "outputs": [
        {
          "output_type": "execute_result",
          "data": {
            "text/plain": [
              "'dave@google.com'"
            ]
          },
          "metadata": {
            "tags": []
          },
          "execution_count": 10
        }
      ]
    },
    {
      "metadata": {
        "id": "qskhCSlBgH82",
        "colab_type": "code",
        "outputId": "045170af-f129-467b-a577-0bb1c2f7be49",
        "colab": {
          "base_uri": "https://localhost:8080/",
          "height": 35
        }
      },
      "cell_type": "code",
      "source": [
        "print(regex.match(text))"
      ],
      "execution_count": 11,
      "outputs": [
        {
          "output_type": "stream",
          "text": [
            "None\n"
          ],
          "name": "stdout"
        }
      ]
    },
    {
      "metadata": {
        "id": "_hA6ypehgdBO",
        "colab_type": "code",
        "colab": {
          "base_uri": "https://localhost:8080/",
          "height": 106
        },
        "outputId": "2e4d3ec0-7b16-49fb-97f2-3ecfc3189557"
      },
      "cell_type": "code",
      "source": [
        "print(regex.sub('REDACTED', text))"
      ],
      "execution_count": 12,
      "outputs": [
        {
          "output_type": "stream",
          "text": [
            "Dave REDACTED\n",
            "Steve REDACTED\n",
            "Rob REDACTED\n",
            "Ryan REDACTED\n",
            "\n"
          ],
          "name": "stdout"
        }
      ]
    },
    {
      "metadata": {
        "id": "IB-XTqgKSLq6",
        "colab_type": "code",
        "colab": {}
      },
      "cell_type": "code",
      "source": [
        "pattern = r'([A-Z0-9._%+-]+)@([A-Z0-9.-]+)\\.([A-Z]{2,4})'\n",
        "\n",
        "regex = re.compile(pattern, flags = re.IGNORECASE)"
      ],
      "execution_count": 0,
      "outputs": []
    },
    {
      "metadata": {
        "id": "-K2Ea6PsSynX",
        "colab_type": "code",
        "colab": {}
      },
      "cell_type": "code",
      "source": [
        "m = regex.match('wesm@bright.net')"
      ],
      "execution_count": 0,
      "outputs": []
    },
    {
      "metadata": {
        "id": "0BmQEJadTjLR",
        "colab_type": "code",
        "colab": {
          "base_uri": "https://localhost:8080/",
          "height": 35
        },
        "outputId": "3a0f3835-b68b-44ad-d127-1140f3995d41"
      },
      "cell_type": "code",
      "source": [
        "m.groups()"
      ],
      "execution_count": 15,
      "outputs": [
        {
          "output_type": "execute_result",
          "data": {
            "text/plain": [
              "('wesm', 'bright', 'net')"
            ]
          },
          "metadata": {
            "tags": []
          },
          "execution_count": 15
        }
      ]
    },
    {
      "metadata": {
        "id": "FTBZQUYJTkw9",
        "colab_type": "code",
        "colab": {
          "base_uri": "https://localhost:8080/",
          "height": 88
        },
        "outputId": "f4c2e616-7f78-44b1-8734-396731cc58c2"
      },
      "cell_type": "code",
      "source": [
        "regex.findall(text)"
      ],
      "execution_count": 16,
      "outputs": [
        {
          "output_type": "execute_result",
          "data": {
            "text/plain": [
              "[('dave', 'google', 'com'),\n",
              " ('steve', 'gmail', 'com'),\n",
              " ('rob', 'gmail', 'com'),\n",
              " ('ryan', 'yahoo', 'com')]"
            ]
          },
          "metadata": {
            "tags": []
          },
          "execution_count": 16
        }
      ]
    },
    {
      "metadata": {
        "id": "_IsxYy1BTnpo",
        "colab_type": "code",
        "colab": {
          "base_uri": "https://localhost:8080/",
          "height": 106
        },
        "outputId": "93d0b29d-b37d-4305-86fb-a31dbf2034dd"
      },
      "cell_type": "code",
      "source": [
        "print(regex.sub(r'Username: \\1, Domain: \\2, Suffix: \\3', text))"
      ],
      "execution_count": 17,
      "outputs": [
        {
          "output_type": "stream",
          "text": [
            "Dave Username: dave, Domain: google, Suffix: com\n",
            "Steve Username: steve, Domain: gmail, Suffix: com\n",
            "Rob Username: rob, Domain: gmail, Suffix: com\n",
            "Ryan Username: ryan, Domain: yahoo, Suffix: com\n",
            "\n"
          ],
          "name": "stdout"
        }
      ]
    },
    {
      "metadata": {
        "id": "vYGt3Xn7UpNf",
        "colab_type": "text"
      },
      "cell_type": "markdown",
      "source": [
        "## Regular expression methods"
      ]
    },
    {
      "metadata": {
        "id": "4LL6b_50VDjO",
        "colab_type": "text"
      },
      "cell_type": "markdown",
      "source": [
        "### re.findall()"
      ]
    },
    {
      "metadata": {
        "id": "nxe1tQENUO7U",
        "colab_type": "code",
        "colab": {
          "base_uri": "https://localhost:8080/",
          "height": 35
        },
        "outputId": "0b32dd0b-8a2f-43d4-b92e-1a945b610711"
      },
      "cell_type": "code",
      "source": [
        "str = \"hello, education is fun\"\n",
        "\n",
        "r1 = re.findall(r\"^\\w+\", str)\n",
        "r1"
      ],
      "execution_count": 18,
      "outputs": [
        {
          "output_type": "execute_result",
          "data": {
            "text/plain": [
              "['hello']"
            ]
          },
          "metadata": {
            "tags": []
          },
          "execution_count": 18
        }
      ]
    },
    {
      "metadata": {
        "id": "IUPmTR1cVVw_",
        "colab_type": "code",
        "colab": {
          "base_uri": "https://localhost:8080/",
          "height": 53
        },
        "outputId": "96cd6c53-f5db-44c3-d61e-7c8c1e0fb041"
      },
      "cell_type": "code",
      "source": [
        "print((re.split(r'\\s', 'we are splitting the words')))\n",
        "\n",
        "print((re.split(r's', 'split the words')))"
      ],
      "execution_count": 19,
      "outputs": [
        {
          "output_type": "stream",
          "text": [
            "['we', 'are', 'splitting', 'the', 'words']\n",
            "['', 'plit the word', '']\n"
          ],
          "name": "stdout"
        }
      ]
    },
    {
      "metadata": {
        "id": "0rfejj6xVlwT",
        "colab_type": "code",
        "colab": {
          "base_uri": "https://localhost:8080/",
          "height": 71
        },
        "outputId": "556b8af1-3df5-4abf-d92e-6da48b69d812"
      },
      "cell_type": "code",
      "source": [
        "abc = 'guru99@google.com, careerguru99@hotmail.com, users@yahoomail.com'\n",
        "\n",
        "emails = re.findall(r'[\\w\\.-]+@[\\w\\.-]+', abc)\n",
        "\n",
        "for email in emails:\n",
        "  print(email)"
      ],
      "execution_count": 20,
      "outputs": [
        {
          "output_type": "stream",
          "text": [
            "guru99@google.com\n",
            "careerguru99@hotmail.com\n",
            "users@yahoomail.com\n"
          ],
          "name": "stdout"
        }
      ]
    },
    {
      "metadata": {
        "id": "oQ7HuqnoWxcL",
        "colab_type": "code",
        "colab": {
          "base_uri": "https://localhost:8080/",
          "height": 53
        },
        "outputId": "fec5ee8a-9bd2-4faa-f9c2-3291a9f4b5e2"
      },
      "cell_type": "code",
      "source": [
        "str = \"\"\"guru99\n",
        "careerguru99\n",
        "selenium\"\"\"\n",
        "\n",
        "k1 = re.findall(r\"^\\w\", str)\n",
        "k2 = re.findall(r\"^\\w\", str, re.MULTILINE)\n",
        "\n",
        "print(k1)\n",
        "print(k2)"
      ],
      "execution_count": 21,
      "outputs": [
        {
          "output_type": "stream",
          "text": [
            "['g']\n",
            "['g', 'c', 's']\n"
          ],
          "name": "stdout"
        }
      ]
    },
    {
      "metadata": {
        "id": "JxUUXPA3XP52",
        "colab_type": "text"
      },
      "cell_type": "markdown",
      "source": [
        "### re.finditer()"
      ]
    },
    {
      "metadata": {
        "id": "Z9wHZNOvYCru",
        "colab_type": "code",
        "colab": {
          "base_uri": "https://localhost:8080/",
          "height": 35
        },
        "outputId": "350c43c8-3491-429e-a46c-845fedeaccca"
      },
      "cell_type": "code",
      "source": [
        "re.finditer(r'\\w', 'http://www.hackerrank.com/')"
      ],
      "execution_count": 22,
      "outputs": [
        {
          "output_type": "execute_result",
          "data": {
            "text/plain": [
              "<callable_iterator at 0x7f54e5419390>"
            ]
          },
          "metadata": {
            "tags": []
          },
          "execution_count": 22
        }
      ]
    },
    {
      "metadata": {
        "id": "fOVwKTF8ZB_E",
        "colab_type": "code",
        "colab": {
          "base_uri": "https://localhost:8080/",
          "height": 35
        },
        "outputId": "91d56d3d-e50e-4500-b963-12106768734e"
      },
      "cell_type": "code",
      "source": [
        "map(lambda x: x.group(), re.finditer(r'\\w', 'http://www.hackerrank.com/'))"
      ],
      "execution_count": 23,
      "outputs": [
        {
          "output_type": "execute_result",
          "data": {
            "text/plain": [
              "<map at 0x7f54e5419588>"
            ]
          },
          "metadata": {
            "tags": []
          },
          "execution_count": 23
        }
      ]
    },
    {
      "metadata": {
        "id": "caJQb0IuZuC7",
        "colab_type": "code",
        "colab": {
          "base_uri": "https://localhost:8080/",
          "height": 35
        },
        "outputId": "133c65c8-f527-4460-dcfb-b8af1d9317e1"
      },
      "cell_type": "code",
      "source": [
        "s1 = 'Blue Berries'\n",
        "\n",
        "pattern = 'Blue Berries'\n",
        "\n",
        "for match in re.finditer(pattern, s1):\n",
        "  s = match.start()\n",
        "  e = match.end()\n",
        "  print('String match \"%s\" at %d: %d' % (s1[s:e], s, e))"
      ],
      "execution_count": 24,
      "outputs": [
        {
          "output_type": "stream",
          "text": [
            "String match \"Blue Berries\" at 0: 12\n"
          ],
          "name": "stdout"
        }
      ]
    },
    {
      "metadata": {
        "id": "vrXuptSWaNNT",
        "colab_type": "text"
      },
      "cell_type": "markdown",
      "source": [
        "### re.match()"
      ]
    },
    {
      "metadata": {
        "id": "5uIYbLVBaKw_",
        "colab_type": "code",
        "colab": {
          "base_uri": "https://localhost:8080/",
          "height": 71
        },
        "outputId": "7164ac2d-768c-4443-a6ca-bf9a66b2db70"
      },
      "cell_type": "code",
      "source": [
        "line = \"Cats are smarter than dogs\"\n",
        "\n",
        "matchObj = re.match(r'(.*) are (.*?) .*', line, re.M|re.I)\n",
        "\n",
        "if matchObj:\n",
        "  print(\"matchObj.group(): \", matchObj.group())\n",
        "  print(\"matchObj.group(1): \", matchObj.group(1))\n",
        "  print(\"matchObj.group(2): \", matchObj.group(2))\n",
        "else:\n",
        "  print(\"No match\")"
      ],
      "execution_count": 25,
      "outputs": [
        {
          "output_type": "stream",
          "text": [
            "matchObj.group():  Cats are smarter than dogs\n",
            "matchObj.group(1):  Cats\n",
            "matchObj.group(2):  smarter\n"
          ],
          "name": "stdout"
        }
      ]
    },
    {
      "metadata": {
        "id": "e7ccac9-rjS6",
        "colab_type": "code",
        "colab": {
          "base_uri": "https://localhost:8080/",
          "height": 35
        },
        "outputId": "c0090820-4357-41aa-ddef-7f4d0d328e0c"
      },
      "cell_type": "code",
      "source": [
        "matchObj = re.match(r'dogs', line, re.M|re.I)\n",
        "\n",
        "if matchObj:\n",
        "  print(\"match --> matchObj.group(): \", matchObj.group())\n",
        "else:\n",
        "  print(\"No match\")"
      ],
      "execution_count": 26,
      "outputs": [
        {
          "output_type": "stream",
          "text": [
            "No match\n"
          ],
          "name": "stdout"
        }
      ]
    },
    {
      "metadata": {
        "id": "sS82QFo-sR5a",
        "colab_type": "text"
      },
      "cell_type": "markdown",
      "source": [
        "### re.search()"
      ]
    },
    {
      "metadata": {
        "id": "EG25UcXasHZj",
        "colab_type": "code",
        "colab": {
          "base_uri": "https://localhost:8080/",
          "height": 71
        },
        "outputId": "43dc3fea-95cf-4a8a-a023-2794d2753ebe"
      },
      "cell_type": "code",
      "source": [
        "line = \"Cats are smarter than dogs\"\n",
        "\n",
        "searchObj = re.search(r'(.*) are (.*?) .*', line, re.M|re.I)\n",
        "\n",
        "if searchObj:\n",
        "  print(\"searchObj.group(): \", searchObj.group())\n",
        "  print(\"searchObj.group(1): \", searchObj.group(1))\n",
        "  print(\"searchObj.group(2): \", searchObj.group(2))\n",
        "else:\n",
        "  print(\"No match\")"
      ],
      "execution_count": 27,
      "outputs": [
        {
          "output_type": "stream",
          "text": [
            "searchObj.group():  Cats are smarter than dogs\n",
            "searchObj.group(1):  Cats\n",
            "searchObj.group(2):  smarter\n"
          ],
          "name": "stdout"
        }
      ]
    },
    {
      "metadata": {
        "id": "H-OI6JrGstai",
        "colab_type": "code",
        "colab": {
          "base_uri": "https://localhost:8080/",
          "height": 35
        },
        "outputId": "716180e8-0844-4f39-c70c-342711f8cc8a"
      },
      "cell_type": "code",
      "source": [
        "searchObj = re.search(r'dogs', line, re.M|re.I)\n",
        "\n",
        "if searchObj:\n",
        "  print(\"match --> matchObj.group(): \", searchObj.group())\n",
        "else:\n",
        "  print(\"No match\")"
      ],
      "execution_count": 28,
      "outputs": [
        {
          "output_type": "stream",
          "text": [
            "match --> matchObj.group():  dogs\n"
          ],
          "name": "stdout"
        }
      ]
    },
    {
      "metadata": {
        "id": "loN680zitHpM",
        "colab_type": "text"
      },
      "cell_type": "markdown",
      "source": [
        "### re.split()"
      ]
    },
    {
      "metadata": {
        "id": "or1tCp--s6gK",
        "colab_type": "code",
        "colab": {
          "base_uri": "https://localhost:8080/",
          "height": 35
        },
        "outputId": "bdf9e46a-c633-4613-cfe8-426be2be9855"
      },
      "cell_type": "code",
      "source": [
        "print((re.split(r'\\s', 'we are splitting the words')))"
      ],
      "execution_count": 29,
      "outputs": [
        {
          "output_type": "stream",
          "text": [
            "['we', 'are', 'splitting', 'the', 'words']\n"
          ],
          "name": "stdout"
        }
      ]
    },
    {
      "metadata": {
        "id": "6PT9RVIytpov",
        "colab_type": "code",
        "colab": {
          "base_uri": "https://localhost:8080/",
          "height": 35
        },
        "outputId": "c23e06da-0049-43e8-e66c-7feda3d64500"
      },
      "cell_type": "code",
      "source": [
        "print((re.split(r's', 'split the words')))"
      ],
      "execution_count": 30,
      "outputs": [
        {
          "output_type": "stream",
          "text": [
            "['', 'plit the word', '']\n"
          ],
          "name": "stdout"
        }
      ]
    },
    {
      "metadata": {
        "id": "SW1lwzkrAweb",
        "colab_type": "code",
        "colab": {
          "base_uri": "https://localhost:8080/",
          "height": 88
        },
        "outputId": "8845ccff-712b-4cb3-960f-98e0c729d967"
      },
      "cell_type": "code",
      "source": [
        "# '\\W+' denotes non - alphanumeric characters or group of characters\n",
        "# Upon finding ',' or whitespace ' ', the split(), splits the string from that point\n",
        "print(re.split('\\W+', 'Words, words , Words'))\n",
        "print(re.split('\\W+', \"Word's words Words\"))\n",
        "\n",
        "# Here ':', ' ', ',' are not alphanumeric thus, the point where splitting occurs\n",
        "print(re.split('\\W+', 'On 12th Jan 2016, at 11:02 AM'))\n",
        "\n",
        "# '\\d+' denotes numeric characters or group of characters\n",
        "# Splitting occurs at '12', '2016', '11', '02' only\n",
        "print(re.split('\\d+', 'On 12th Jan 2016, at 11:02 AM'))"
      ],
      "execution_count": 31,
      "outputs": [
        {
          "output_type": "stream",
          "text": [
            "['Words', 'words', 'Words']\n",
            "['Word', 's', 'words', 'Words']\n",
            "['On', '12th', 'Jan', '2016', 'at', '11', '02', 'AM']\n",
            "['On ', 'th Jan ', ', at ', ':', ' AM']\n"
          ],
          "name": "stdout"
        }
      ]
    },
    {
      "metadata": {
        "id": "O2yQN-y052Tu",
        "colab_type": "text"
      },
      "cell_type": "markdown",
      "source": [
        "### re.sub()"
      ]
    },
    {
      "metadata": {
        "id": "NzAH8FdOtvk_",
        "colab_type": "code",
        "colab": {
          "base_uri": "https://localhost:8080/",
          "height": 53
        },
        "outputId": "aa43122c-2531-4a7a-bd0a-f041e52b01c0"
      },
      "cell_type": "code",
      "source": [
        "phone = \"2004-959-559 # This is Phone Number\"\n",
        "\n",
        "# Delete Python style comments\n",
        "num = re.sub(r'#.*$', \"\", phone)\n",
        "print(\"Phone Num: \", num)\n",
        "\n",
        "# Remove anything other than digits\n",
        "num = re.sub(r'\\D', \"\", phone)\n",
        "print(\"Phone Num: \", num)"
      ],
      "execution_count": 32,
      "outputs": [
        {
          "output_type": "stream",
          "text": [
            "Phone Num:  2004-959-559 \n",
            "Phone Num:  2004959559\n"
          ],
          "name": "stdout"
        }
      ]
    },
    {
      "metadata": {
        "id": "7nal9tDs6qzh",
        "colab_type": "code",
        "colab": {}
      },
      "cell_type": "code",
      "source": [
        "# def multiply(m):\n",
        "#   # Convert group 0 to an integer\n",
        "#   v = int(m.group(0))\n",
        "  \n",
        "#   # Multiply integer by 2\n",
        "#   # Convert back into string and return it\n",
        "#   return str(v * 2)\n",
        "\n",
        "# # Use pattern of 1 or more digits\n",
        "# # Use multiply method as second argument\n",
        "# result = re.sub(\"\\d+\", multiply, \"10 20 30 40 50\")\n",
        "# result"
      ],
      "execution_count": 0,
      "outputs": []
    },
    {
      "metadata": {
        "id": "f5TJi8KQ73dD",
        "colab_type": "code",
        "colab": {
          "base_uri": "https://localhost:8080/",
          "height": 35
        },
        "outputId": "a66a96f5-60c1-4876-e792-e1b0d900eb47"
      },
      "cell_type": "code",
      "source": [
        "v = \"running eating reading\"\n",
        "\n",
        "# Replace words starting with 'r' and ending in 'ing'\n",
        "# With a new string\n",
        "v = re.sub(r\"r.*?ing\", \"ring\", v)\n",
        "v"
      ],
      "execution_count": 34,
      "outputs": [
        {
          "output_type": "execute_result",
          "data": {
            "text/plain": [
              "'ring eating ring'"
            ]
          },
          "metadata": {
            "tags": []
          },
          "execution_count": 34
        }
      ]
    },
    {
      "metadata": {
        "id": "DT1cC22B8EQx",
        "colab_type": "code",
        "colab": {
          "base_uri": "https://localhost:8080/",
          "height": 35
        },
        "outputId": "8bb7979f-c71f-4683-af25-9330f2048db1"
      },
      "cell_type": "code",
      "source": [
        "input = \"laugh eat sleep think\"\n",
        "\n",
        "result = re.sub(\"\\w+\", lambda m: m.group(0) + \"ing\", input)\n",
        "result"
      ],
      "execution_count": 35,
      "outputs": [
        {
          "output_type": "execute_result",
          "data": {
            "text/plain": [
              "'laughing eating sleeping thinking'"
            ]
          },
          "metadata": {
            "tags": []
          },
          "execution_count": 35
        }
      ]
    },
    {
      "metadata": {
        "id": "gxhYbvlQ8N2E",
        "colab_type": "code",
        "colab": {
          "base_uri": "https://localhost:8080/",
          "height": 35
        },
        "outputId": "349f8002-bbdd-4c18-8d4d-b5135dc1f0fe"
      },
      "cell_type": "code",
      "source": [
        "plants = {\"flower\": 1, \"tree\": 1, \"grass\": 1}\n",
        "\n",
        "def modify(m):\n",
        "  v = m.group(0)\n",
        "  \n",
        "  # If string is in dictionary, return different string\n",
        "  if v in plants:\n",
        "    return \"PLANT\"\n",
        "  \n",
        "  # Don't change anything\n",
        "  return v\n",
        "\n",
        "# Modify to remove all strings within the dictionary\n",
        "result = re.sub(\"\\w+\", modify, \"bird flower dog fish tree\")\n",
        "result"
      ],
      "execution_count": 36,
      "outputs": [
        {
          "output_type": "execute_result",
          "data": {
            "text/plain": [
              "'bird PLANT dog fish PLANT'"
            ]
          },
          "metadata": {
            "tags": []
          },
          "execution_count": 36
        }
      ]
    },
    {
      "metadata": {
        "id": "zezF0n7B9yIb",
        "colab_type": "code",
        "colab": {
          "base_uri": "https://localhost:8080/",
          "height": 35
        },
        "outputId": "ce2a74d2-b1e0-41c4-8227-f45176455ddd"
      },
      "cell_type": "code",
      "source": [
        "str = 'purple alice@google.com, blah monkey bob@abc.com blah dishwasher'\n",
        "\n",
        "# Returns new string with all replacements\n",
        "# re.sub(pat, replacement, str)\n",
        "# \\1 is group(1), \\2 is group(2) in the replacement\n",
        "\n",
        "print(re.sub(r'([\\w\\.-]+)@([\\w\\.-]+)', r'\\1@yo-yo-dyne.com', str))"
      ],
      "execution_count": 37,
      "outputs": [
        {
          "output_type": "stream",
          "text": [
            "purple alice@yo-yo-dyne.com, blah monkey bob@yo-yo-dyne.com blah dishwasher\n"
          ],
          "name": "stdout"
        }
      ]
    },
    {
      "metadata": {
        "id": "rTRTI3rT8obP",
        "colab_type": "text"
      },
      "cell_type": "markdown",
      "source": [
        "### re.subn()"
      ]
    },
    {
      "metadata": {
        "id": "FCKuV-xi8kkA",
        "colab_type": "code",
        "colab": {}
      },
      "cell_type": "code",
      "source": [
        "# def add(m):\n",
        "  \n",
        "#   # Convert\n",
        "#   v = int(m.group(0))\n",
        "  \n",
        "#   # Add 2\n",
        "#   return str(v + 1)\n",
        "\n",
        "# result = re.subn(\"\\d+\", add, \"1 2 3 4 5\")\n",
        "\n",
        "# print(\"Result string: \", result[0])\n",
        "# print(\"Number of substitutions: \", result[1])"
      ],
      "execution_count": 0,
      "outputs": []
    },
    {
      "metadata": {
        "id": "MwVIrH8K895N",
        "colab_type": "code",
        "colab": {
          "base_uri": "https://localhost:8080/",
          "height": 88
        },
        "outputId": "773a0ab8-d30f-4359-8849-91a3ab1e2c9d"
      },
      "cell_type": "code",
      "source": [
        "print(re.subn('ub', '~*', 'Subject has booked Uber already'))\n",
        "\n",
        "t = re.subn('ub', '~*', 'Subject has booked Uber already',\n",
        "            flags = re.IGNORECASE)\n",
        "\n",
        "print(t)\n",
        "print(len(t))\n",
        "\n",
        "# This will give same output as sub() would have\n",
        "print(t[0])"
      ],
      "execution_count": 40,
      "outputs": [
        {
          "output_type": "stream",
          "text": [
            "('S~*ject has booked Uber already', 1)\n",
            "('S~*ject has booked ~*er already', 2)\n",
            "2\n",
            "S~*ject has booked ~*er already\n"
          ],
          "name": "stdout"
        }
      ]
    },
    {
      "metadata": {
        "id": "xD12kQ6HEZuq",
        "colab_type": "text"
      },
      "cell_type": "markdown",
      "source": [
        "## Back to book content"
      ]
    },
    {
      "metadata": {
        "id": "AoO425Z8EhPO",
        "colab_type": "text"
      },
      "cell_type": "markdown",
      "source": [
        "## Vectorized String Functions in pandas"
      ]
    },
    {
      "metadata": {
        "id": "ZZ6eUNTLGfV_",
        "colab_type": "code",
        "colab": {}
      },
      "cell_type": "code",
      "source": [
        "import numpy as np\n",
        "import pandas as pd"
      ],
      "execution_count": 0,
      "outputs": []
    },
    {
      "metadata": {
        "id": "IfUETI4s_s8E",
        "colab_type": "code",
        "colab": {
          "base_uri": "https://localhost:8080/",
          "height": 106
        },
        "outputId": "4461995b-eded-4ea0-bbe1-36f5b9c96e61"
      },
      "cell_type": "code",
      "source": [
        "data = {'Dave': 'dave@google.com',\n",
        "        'Steve': 'steve@gmail.com',\n",
        "        'Rob': 'rob@gmail.com',\n",
        "        'Wes': np.nan}\n",
        "\n",
        "data = pd.Series(data)\n",
        "data"
      ],
      "execution_count": 42,
      "outputs": [
        {
          "output_type": "execute_result",
          "data": {
            "text/plain": [
              "Dave     dave@google.com\n",
              "Rob        rob@gmail.com\n",
              "Steve    steve@gmail.com\n",
              "Wes                  NaN\n",
              "dtype: object"
            ]
          },
          "metadata": {
            "tags": []
          },
          "execution_count": 42
        }
      ]
    },
    {
      "metadata": {
        "id": "yPTYN6ivGcnE",
        "colab_type": "code",
        "colab": {
          "base_uri": "https://localhost:8080/",
          "height": 106
        },
        "outputId": "bd7b0d59-9a95-425e-9640-da12d8307452"
      },
      "cell_type": "code",
      "source": [
        "data.isnull()"
      ],
      "execution_count": 43,
      "outputs": [
        {
          "output_type": "execute_result",
          "data": {
            "text/plain": [
              "Dave     False\n",
              "Rob      False\n",
              "Steve    False\n",
              "Wes       True\n",
              "dtype: bool"
            ]
          },
          "metadata": {
            "tags": []
          },
          "execution_count": 43
        }
      ]
    },
    {
      "metadata": {
        "id": "mYGzg8N8G1la",
        "colab_type": "code",
        "colab": {
          "base_uri": "https://localhost:8080/",
          "height": 106
        },
        "outputId": "43f8fb56-47b1-4be1-d576-8e9440187069"
      },
      "cell_type": "code",
      "source": [
        "data.str.contains('gmail')"
      ],
      "execution_count": 44,
      "outputs": [
        {
          "output_type": "execute_result",
          "data": {
            "text/plain": [
              "Dave     False\n",
              "Rob       True\n",
              "Steve     True\n",
              "Wes        NaN\n",
              "dtype: object"
            ]
          },
          "metadata": {
            "tags": []
          },
          "execution_count": 44
        }
      ]
    },
    {
      "metadata": {
        "id": "_MPsPd7DJIq4",
        "colab_type": "code",
        "colab": {}
      },
      "cell_type": "code",
      "source": [
        "pattern = '([A-Z0-9._%+-]+)@([A-Z0-9.-]+)\\\\.([A-Z]{2,4})'"
      ],
      "execution_count": 0,
      "outputs": []
    },
    {
      "metadata": {
        "id": "16_qZpckJPeI",
        "colab_type": "code",
        "colab": {
          "base_uri": "https://localhost:8080/",
          "height": 106
        },
        "outputId": "969a0265-d096-4f87-92e7-cc8ee0430c0f"
      },
      "cell_type": "code",
      "source": [
        "data.str.findall(pattern, flags = re.IGNORECASE)"
      ],
      "execution_count": 46,
      "outputs": [
        {
          "output_type": "execute_result",
          "data": {
            "text/plain": [
              "Dave     [(dave, google, com)]\n",
              "Rob        [(rob, gmail, com)]\n",
              "Steve    [(steve, gmail, com)]\n",
              "Wes                        NaN\n",
              "dtype: object"
            ]
          },
          "metadata": {
            "tags": []
          },
          "execution_count": 46
        }
      ]
    },
    {
      "metadata": {
        "id": "Cwcp7DMmJpow",
        "colab_type": "code",
        "colab": {
          "base_uri": "https://localhost:8080/",
          "height": 106
        },
        "outputId": "01f95ca9-4ddc-4a13-ff17-a369ebdb364f"
      },
      "cell_type": "code",
      "source": [
        "matches = data.str.match(pattern, flags = re.IGNORECASE)\n",
        "\n",
        "matches"
      ],
      "execution_count": 47,
      "outputs": [
        {
          "output_type": "execute_result",
          "data": {
            "text/plain": [
              "Dave     True\n",
              "Rob      True\n",
              "Steve    True\n",
              "Wes       NaN\n",
              "dtype: object"
            ]
          },
          "metadata": {
            "tags": []
          },
          "execution_count": 47
        }
      ]
    },
    {
      "metadata": {
        "id": "hM16gYqxKB0T",
        "colab_type": "code",
        "colab": {
          "base_uri": "https://localhost:8080/",
          "height": 106
        },
        "outputId": "9050cc23-c94c-4e7e-80a2-688fba8a68a0"
      },
      "cell_type": "code",
      "source": [
        "matches.str.get(1)"
      ],
      "execution_count": 48,
      "outputs": [
        {
          "output_type": "execute_result",
          "data": {
            "text/plain": [
              "Dave    NaN\n",
              "Rob     NaN\n",
              "Steve   NaN\n",
              "Wes     NaN\n",
              "dtype: float64"
            ]
          },
          "metadata": {
            "tags": []
          },
          "execution_count": 48
        }
      ]
    },
    {
      "metadata": {
        "id": "SYreSml7KWRM",
        "colab_type": "code",
        "colab": {
          "base_uri": "https://localhost:8080/",
          "height": 106
        },
        "outputId": "bcd50c7f-b61e-4c6e-9773-c4e4054f58f7"
      },
      "cell_type": "code",
      "source": [
        "matches.str[0]"
      ],
      "execution_count": 49,
      "outputs": [
        {
          "output_type": "execute_result",
          "data": {
            "text/plain": [
              "Dave    NaN\n",
              "Rob     NaN\n",
              "Steve   NaN\n",
              "Wes     NaN\n",
              "dtype: float64"
            ]
          },
          "metadata": {
            "tags": []
          },
          "execution_count": 49
        }
      ]
    },
    {
      "metadata": {
        "id": "xihD3_cmKuuA",
        "colab_type": "code",
        "colab": {
          "base_uri": "https://localhost:8080/",
          "height": 106
        },
        "outputId": "c25d6ff0-aabf-4f20-9198-284cbc39bb67"
      },
      "cell_type": "code",
      "source": [
        "data.str[:5]"
      ],
      "execution_count": 50,
      "outputs": [
        {
          "output_type": "execute_result",
          "data": {
            "text/plain": [
              "Dave     dave@\n",
              "Rob      rob@g\n",
              "Steve    steve\n",
              "Wes        NaN\n",
              "dtype: object"
            ]
          },
          "metadata": {
            "tags": []
          },
          "execution_count": 50
        }
      ]
    },
    {
      "metadata": {
        "id": "RVEGT4uXLB0T",
        "colab_type": "text"
      },
      "cell_type": "markdown",
      "source": [
        "## Partial listing of vectorized string methods"
      ]
    },
    {
      "metadata": {
        "id": "U7gpnqCnLpnH",
        "colab_type": "text"
      },
      "cell_type": "markdown",
      "source": [
        "### cat()"
      ]
    },
    {
      "metadata": {
        "id": "xyHHWnKKPuEr",
        "colab_type": "text"
      },
      "cell_type": "markdown",
      "source": [
        "### __contains__()"
      ]
    },
    {
      "metadata": {
        "id": "RTby3kcQPtN8",
        "colab_type": "code",
        "colab": {
          "base_uri": "https://localhost:8080/",
          "height": 71
        },
        "outputId": "53eee888-b63b-47b9-b1a0-5a1b3bab4e9c"
      },
      "cell_type": "code",
      "source": [
        "s = 'abc'\n",
        "\n",
        "print('s contains a = ', s.__contains__('a'))\n",
        "print('s contains A = ', s.__contains__('A'))\n",
        "print('s contains X = ', s.__contains__('X'))"
      ],
      "execution_count": 51,
      "outputs": [
        {
          "output_type": "stream",
          "text": [
            "s contains a =  True\n",
            "s contains A =  False\n",
            "s contains X =  False\n"
          ],
          "name": "stdout"
        }
      ]
    },
    {
      "metadata": {
        "id": "AiZOn_BMK2jC",
        "colab_type": "code",
        "colab": {}
      },
      "cell_type": "code",
      "source": [
        "# print(str.__contains__('ABC', 'A'))\n",
        "# print(str.__contains__('ABC', 'D'))"
      ],
      "execution_count": 0,
      "outputs": []
    },
    {
      "metadata": {
        "id": "r8OuZ-NWQFtV",
        "colab_type": "code",
        "colab": {}
      },
      "cell_type": "code",
      "source": [
        "# input_str1 = input('Enter first input string\\n')\n",
        "\n",
        "# input_str2 = input('Enter second input string\\n')\n",
        "\n",
        "# print('First input string contains second string?',\n",
        "#       input_str1.__contains__(input_str2))"
      ],
      "execution_count": 0,
      "outputs": []
    },
    {
      "metadata": {
        "id": "e6aG4gmyRbyf",
        "colab_type": "text"
      },
      "cell_type": "markdown",
      "source": [
        "### count()"
      ]
    },
    {
      "metadata": {
        "id": "iWFzbRpwQ5Qa",
        "colab_type": "code",
        "colab": {
          "base_uri": "https://localhost:8080/",
          "height": 35
        },
        "outputId": "7bbfd5a3-57e1-4e11-9e45-9c58e9ea70ff"
      },
      "cell_type": "code",
      "source": [
        "string = \"Python is awesome, isn't it?\"\n",
        "substring = \"is\"\n",
        "\n",
        "count = string.count(substring)\n",
        "count"
      ],
      "execution_count": 54,
      "outputs": [
        {
          "output_type": "execute_result",
          "data": {
            "text/plain": [
              "2"
            ]
          },
          "metadata": {
            "tags": []
          },
          "execution_count": 54
        }
      ]
    },
    {
      "metadata": {
        "id": "615GwxtlRqq9",
        "colab_type": "code",
        "colab": {
          "base_uri": "https://localhost:8080/",
          "height": 35
        },
        "outputId": "bfcdb2cc-1862-4026-8869-208fd4f7d70b"
      },
      "cell_type": "code",
      "source": [
        "string = \"Python is awesome, isn't it?\"\n",
        "substring = \"i\"\n",
        "\n",
        "# count after first 'i' and before the last 'i'\n",
        "count = string.count(substring, 8, 25)\n",
        "count"
      ],
      "execution_count": 55,
      "outputs": [
        {
          "output_type": "execute_result",
          "data": {
            "text/plain": [
              "1"
            ]
          },
          "metadata": {
            "tags": []
          },
          "execution_count": 55
        }
      ]
    },
    {
      "metadata": {
        "id": "xO7F6oeBSK4S",
        "colab_type": "text"
      },
      "cell_type": "markdown",
      "source": [
        "### extract()"
      ]
    },
    {
      "metadata": {
        "id": "vjILUC3bS1j0",
        "colab_type": "text"
      },
      "cell_type": "markdown",
      "source": [
        "### endswith()"
      ]
    },
    {
      "metadata": {
        "id": "gd81k69oR1o-",
        "colab_type": "code",
        "colab": {
          "base_uri": "https://localhost:8080/",
          "height": 71
        },
        "outputId": "a20618dc-2670-43e9-a0b2-f010318f2d6a"
      },
      "cell_type": "code",
      "source": [
        "text = \"Python is easy to learn.\"\n",
        "\n",
        "result = text.endswith('to learn')\n",
        "print(result)   # False\n",
        "\n",
        "result = text.endswith('to learn.')\n",
        "print(result)    # True\n",
        "\n",
        "result = text.endswith('Python is easy to learn.')\n",
        "print(result)   # True"
      ],
      "execution_count": 56,
      "outputs": [
        {
          "output_type": "stream",
          "text": [
            "False\n",
            "True\n",
            "True\n"
          ],
          "name": "stdout"
        }
      ]
    },
    {
      "metadata": {
        "id": "rnqnSHNDTVvj",
        "colab_type": "code",
        "colab": {
          "base_uri": "https://localhost:8080/",
          "height": 71
        },
        "outputId": "24ed89f7-70ac-463f-d24d-548d0b2d3bb1"
      },
      "cell_type": "code",
      "source": [
        "text = \"Python programming is easy to learn.\"\n",
        "\n",
        "# start parameter: 7\n",
        "# \"programming is easy to learn.\" string is searched\n",
        "result = text.endswith('learn.', 7)\n",
        "print(result)\n",
        "\n",
        "# start: 7, end: 26\n",
        "# \"programming is easy\" string is searched\n",
        "result = text.endswith('is', 7, 26)\n",
        "print(result)\n",
        "\n",
        "result = text.endswith('easy', 7, 26)\n",
        "print(result)"
      ],
      "execution_count": 57,
      "outputs": [
        {
          "output_type": "stream",
          "text": [
            "True\n",
            "False\n",
            "True\n"
          ],
          "name": "stdout"
        }
      ]
    },
    {
      "metadata": {
        "id": "lo9RcyxkT8yT",
        "colab_type": "code",
        "colab": {
          "base_uri": "https://localhost:8080/",
          "height": 71
        },
        "outputId": "fd89600a-cf0d-437f-ccd4-13f2c27c59cd"
      },
      "cell_type": "code",
      "source": [
        "text = \"programming is easy\"\n",
        "\n",
        "result = text.endswith(('programming', 'python'))\n",
        "print(result)    # False\n",
        "\n",
        "result = text.endswith(('python', 'easy', 'java'))\n",
        "print(result)    # True\n",
        "\n",
        "# with start and end parameter\n",
        "# 'programming is' string is searched\n",
        "result = text.endswith(('is', 'an'), 0, 14)\n",
        "print(result)"
      ],
      "execution_count": 58,
      "outputs": [
        {
          "output_type": "stream",
          "text": [
            "False\n",
            "True\n",
            "True\n"
          ],
          "name": "stdout"
        }
      ]
    },
    {
      "metadata": {
        "id": "dWrM0y_RUsxL",
        "colab_type": "text"
      },
      "cell_type": "markdown",
      "source": [
        "### startswith()"
      ]
    },
    {
      "metadata": {
        "id": "obBL9vb7Ugru",
        "colab_type": "code",
        "colab": {
          "base_uri": "https://localhost:8080/",
          "height": 71
        },
        "outputId": "577f697a-fd2d-4537-831c-f2e4f286bf58"
      },
      "cell_type": "code",
      "source": [
        "text = \"Python is easy to learn.\"\n",
        "\n",
        "result = text.startswith('is easy')\n",
        "print(result)    # False\n",
        "\n",
        "result = text.startswith('Python is')\n",
        "print(result)    # True\n",
        "\n",
        "result = text.startswith('Python is easy to learn')\n",
        "print(result)    # True"
      ],
      "execution_count": 59,
      "outputs": [
        {
          "output_type": "stream",
          "text": [
            "False\n",
            "True\n",
            "True\n"
          ],
          "name": "stdout"
        }
      ]
    },
    {
      "metadata": {
        "id": "YrLyRshaU_8s",
        "colab_type": "code",
        "colab": {
          "base_uri": "https://localhost:8080/",
          "height": 71
        },
        "outputId": "bf8ec858-4858-4320-aeda-ff7fcadd562d"
      },
      "cell_type": "code",
      "source": [
        "text = \"Python programming is easy.\"\n",
        "\n",
        "# start parameter: 7\n",
        "# 'programming is easy.' string is searched\n",
        "result = text.startswith('programming is', 7)\n",
        "print(result)\n",
        "\n",
        "# start: 7, end: 10\n",
        "# 'programming' string is searched\n",
        "result = text.startswith('programming is', 7, 18)\n",
        "print(result)\n",
        "\n",
        "result = text.startswith('program', 7, 18)\n",
        "print(result)"
      ],
      "execution_count": 60,
      "outputs": [
        {
          "output_type": "stream",
          "text": [
            "True\n",
            "False\n",
            "True\n"
          ],
          "name": "stdout"
        }
      ]
    },
    {
      "metadata": {
        "id": "AY-8VhNMVeb-",
        "colab_type": "code",
        "colab": {
          "base_uri": "https://localhost:8080/",
          "height": 71
        },
        "outputId": "8928147e-d959-4940-f13d-1db0df0fc156"
      },
      "cell_type": "code",
      "source": [
        "text = \"programming is easy\"\n",
        "\n",
        "result = text.startswith(('python', 'programming'))\n",
        "print(result)    # True\n",
        "\n",
        "result = text.startswith(('is', 'easy', 'java'))\n",
        "print(result)    # False\n",
        "\n",
        "# with start and end parameter\n",
        "# 'is easy' string is checked\n",
        "result = text.startswith(('programming', 'easy'), 12, 19)\n",
        "print(result)    # False"
      ],
      "execution_count": 61,
      "outputs": [
        {
          "output_type": "stream",
          "text": [
            "True\n",
            "False\n",
            "False\n"
          ],
          "name": "stdout"
        }
      ]
    },
    {
      "metadata": {
        "id": "UDgbiuw4WOQG",
        "colab_type": "text"
      },
      "cell_type": "markdown",
      "source": [
        "### findall()"
      ]
    },
    {
      "metadata": {
        "id": "Nj58HfpGWM1r",
        "colab_type": "code",
        "colab": {}
      },
      "cell_type": "code",
      "source": [
        "## See examples of re.findall()"
      ],
      "execution_count": 0,
      "outputs": []
    },
    {
      "metadata": {
        "id": "S7-_xjxOXLL3",
        "colab_type": "text"
      },
      "cell_type": "markdown",
      "source": [
        "### get()"
      ]
    },
    {
      "metadata": {
        "id": "8YXkkRjRXJQ1",
        "colab_type": "code",
        "colab": {}
      },
      "cell_type": "code",
      "source": [
        "monte = pd.Series(['Graham Chapman', 'John Cleese', \n",
        "                   'Terry Gilliam', 'Eric Idle', 'Terry Jones',\n",
        "                   'Michael Palin'])"
      ],
      "execution_count": 0,
      "outputs": []
    },
    {
      "metadata": {
        "id": "wVLrsLzJWTfX",
        "colab_type": "code",
        "colab": {
          "base_uri": "https://localhost:8080/",
          "height": 142
        },
        "outputId": "88d83de8-1b40-4f2f-d133-f67af7428c20"
      },
      "cell_type": "code",
      "source": [
        "monte.str[0:3]"
      ],
      "execution_count": 64,
      "outputs": [
        {
          "output_type": "execute_result",
          "data": {
            "text/plain": [
              "0    Gra\n",
              "1    Joh\n",
              "2    Ter\n",
              "3    Eri\n",
              "4    Ter\n",
              "5    Mic\n",
              "dtype: object"
            ]
          },
          "metadata": {
            "tags": []
          },
          "execution_count": 64
        }
      ]
    },
    {
      "metadata": {
        "id": "KMYC79ctV8Ml",
        "colab_type": "code",
        "colab": {
          "base_uri": "https://localhost:8080/",
          "height": 142
        },
        "outputId": "a875570b-b757-4058-a290-d1753d50b71b"
      },
      "cell_type": "code",
      "source": [
        "monte.str.split().str.get(-1)"
      ],
      "execution_count": 65,
      "outputs": [
        {
          "output_type": "execute_result",
          "data": {
            "text/plain": [
              "0    Chapman\n",
              "1     Cleese\n",
              "2    Gilliam\n",
              "3       Idle\n",
              "4      Jones\n",
              "5      Palin\n",
              "dtype: object"
            ]
          },
          "metadata": {
            "tags": []
          },
          "execution_count": 65
        }
      ]
    },
    {
      "metadata": {
        "id": "hLlgwZF_YFwd",
        "colab_type": "text"
      },
      "cell_type": "markdown",
      "source": [
        "### isalnum()"
      ]
    },
    {
      "metadata": {
        "id": "vi-f3RY3XtIS",
        "colab_type": "code",
        "colab": {
          "base_uri": "https://localhost:8080/",
          "height": 88
        },
        "outputId": "34e86f23-4261-4d57-d7dd-fa6ebf612330"
      },
      "cell_type": "code",
      "source": [
        "name = \"M234onica\"\n",
        "print(name.isalnum())\n",
        "\n",
        "# contains whitespace\n",
        "name = \"M3onica Gell22er \"\n",
        "print(name.isalnum())\n",
        "\n",
        "name = \"Mo3nicaGell22er\"\n",
        "print(name.isalnum())\n",
        "\n",
        "name = \"133\"\n",
        "print(name.isalnum())"
      ],
      "execution_count": 66,
      "outputs": [
        {
          "output_type": "stream",
          "text": [
            "True\n",
            "False\n",
            "True\n",
            "True\n"
          ],
          "name": "stdout"
        }
      ]
    },
    {
      "metadata": {
        "id": "fcV6F7n7Ypg3",
        "colab_type": "code",
        "colab": {
          "base_uri": "https://localhost:8080/",
          "height": 35
        },
        "outputId": "693bfe0e-fadb-4842-885f-cdf19b9c6234"
      },
      "cell_type": "code",
      "source": [
        "name = \"M0n1caG3ll3r\"\n",
        "\n",
        "if name.isalnum() == True:\n",
        "  print(\"All characters of string (name) are alphanumeric\")\n",
        "else:\n",
        "  print(\"All characters aren't alphanumeric\")"
      ],
      "execution_count": 67,
      "outputs": [
        {
          "output_type": "stream",
          "text": [
            "All characters of string (name) are alphanumeric\n"
          ],
          "name": "stdout"
        }
      ]
    },
    {
      "metadata": {
        "id": "j4VfGlqSZVgj",
        "colab_type": "text"
      },
      "cell_type": "markdown",
      "source": [
        "### isalpha()"
      ]
    },
    {
      "metadata": {
        "id": "9cYKEF_lY55Z",
        "colab_type": "code",
        "colab": {
          "base_uri": "https://localhost:8080/",
          "height": 71
        },
        "outputId": "b5c70fa6-20c0-4689-d3dc-9e58d2eabc7a"
      },
      "cell_type": "code",
      "source": [
        "name = \"Monica\"\n",
        "print(name.isalpha())\n",
        "\n",
        "# contains whitespace\n",
        "name = \"Monica Geller\"\n",
        "print(name.isalpha())\n",
        "\n",
        "# contains number\n",
        "name = \"Mo3nicaGell22er\"\n",
        "print(name.isalpha())"
      ],
      "execution_count": 68,
      "outputs": [
        {
          "output_type": "stream",
          "text": [
            "True\n",
            "False\n",
            "False\n"
          ],
          "name": "stdout"
        }
      ]
    },
    {
      "metadata": {
        "id": "2jj94PdCaMm7",
        "colab_type": "code",
        "colab": {
          "base_uri": "https://localhost:8080/",
          "height": 35
        },
        "outputId": "1eba17a7-6cb3-43b7-e7bd-72ae542ea9e1"
      },
      "cell_type": "code",
      "source": [
        "name = \"MonicaGeller\"\n",
        "\n",
        "if name.isalpha() == True:\n",
        "  print(\"All characters are alphabets\")\n",
        "else:\n",
        "  print(\"All characters are not alphabets\")"
      ],
      "execution_count": 69,
      "outputs": [
        {
          "output_type": "stream",
          "text": [
            "All characters are alphabets\n"
          ],
          "name": "stdout"
        }
      ]
    },
    {
      "metadata": {
        "id": "x_D331bwam28",
        "colab_type": "text"
      },
      "cell_type": "markdown",
      "source": [
        "### isdecimal()"
      ]
    },
    {
      "metadata": {
        "id": "yaHf9LkWackw",
        "colab_type": "code",
        "colab": {
          "base_uri": "https://localhost:8080/",
          "height": 71
        },
        "outputId": "294b9042-82bc-4ce4-8710-6dff127ff86b"
      },
      "cell_type": "code",
      "source": [
        "s = \"28212\"\n",
        "print(s.isdecimal())\n",
        "\n",
        "# contains alphabet\n",
        "s = \"32ladk3\"\n",
        "print(s.isdecimal())\n",
        "\n",
        "# contains alphabets and spaces\n",
        "s = \"Mo3 nicaG el l22er\"\n",
        "print(s.isdecimal())"
      ],
      "execution_count": 70,
      "outputs": [
        {
          "output_type": "stream",
          "text": [
            "True\n",
            "False\n",
            "False\n"
          ],
          "name": "stdout"
        }
      ]
    },
    {
      "metadata": {
        "id": "m5RvTHyNa4_r",
        "colab_type": "code",
        "colab": {
          "base_uri": "https://localhost:8080/",
          "height": 71
        },
        "outputId": "62daa41a-8719-4835-f48f-a8abe7d40b90"
      },
      "cell_type": "code",
      "source": [
        "s = '23455'\n",
        "print(s.isdecimal())\n",
        "\n",
        "# s = '²3455'\n",
        "s = '\\u00B23455'\n",
        "print(s.isdecimal())\n",
        "\n",
        "# s =  '½'\n",
        "s = '\\u00BD'\n",
        "print(s.isdecimal())"
      ],
      "execution_count": 71,
      "outputs": [
        {
          "output_type": "stream",
          "text": [
            "True\n",
            "False\n",
            "False\n"
          ],
          "name": "stdout"
        }
      ]
    },
    {
      "metadata": {
        "id": "scRYKOHtby9A",
        "colab_type": "text"
      },
      "cell_type": "markdown",
      "source": [
        "### isdigit()"
      ]
    },
    {
      "metadata": {
        "id": "SUYf9BgybY63",
        "colab_type": "code",
        "colab": {
          "base_uri": "https://localhost:8080/",
          "height": 53
        },
        "outputId": "40c029d2-609c-42b2-b705-0b3e6eb397ca"
      },
      "cell_type": "code",
      "source": [
        "s = \"28212\"\n",
        "print(s.isdigit())\n",
        "\n",
        "s = \"Mo3 nicaG el l22er\"\n",
        "print(s.isdigit())"
      ],
      "execution_count": 72,
      "outputs": [
        {
          "output_type": "stream",
          "text": [
            "True\n",
            "False\n"
          ],
          "name": "stdout"
        }
      ]
    },
    {
      "metadata": {
        "id": "cFFDFk2pcSUk",
        "colab_type": "code",
        "colab": {
          "base_uri": "https://localhost:8080/",
          "height": 71
        },
        "outputId": "a3ea49cb-6a30-4ac2-c606-fadd3a14aa8f"
      },
      "cell_type": "code",
      "source": [
        "s = '23455'\n",
        "print(s.isdigit())\n",
        "\n",
        "# s = '²3455'\n",
        "# subscript is a digit\n",
        "s = '\\u00B23455'\n",
        "print(s.isdigit())\n",
        "\n",
        "# s = '½'\n",
        "# fraction isn't a digit\n",
        "s = '\\u00BD'\n",
        "print(s.isdigit())"
      ],
      "execution_count": 73,
      "outputs": [
        {
          "output_type": "stream",
          "text": [
            "True\n",
            "True\n",
            "False\n"
          ],
          "name": "stdout"
        }
      ]
    },
    {
      "metadata": {
        "id": "XxSZ8abYdF2Y",
        "colab_type": "text"
      },
      "cell_type": "markdown",
      "source": [
        "### islower()"
      ]
    },
    {
      "metadata": {
        "id": "BK8_SE1vcpCk",
        "colab_type": "code",
        "colab": {
          "base_uri": "https://localhost:8080/",
          "height": 71
        },
        "outputId": "dd48670a-041c-4a00-8452-6b20ecfaf915"
      },
      "cell_type": "code",
      "source": [
        "s = 'this is good'\n",
        "print(s.islower())\n",
        "\n",
        "s = 'th!s is a1so g00d'\n",
        "print(s.islower())\n",
        "\n",
        "s = 'this is Not good'\n",
        "print(s.islower())"
      ],
      "execution_count": 74,
      "outputs": [
        {
          "output_type": "stream",
          "text": [
            "True\n",
            "True\n",
            "False\n"
          ],
          "name": "stdout"
        }
      ]
    },
    {
      "metadata": {
        "id": "By9AEheCfXYm",
        "colab_type": "text"
      },
      "cell_type": "markdown",
      "source": [
        "### isnumeric()"
      ]
    },
    {
      "metadata": {
        "id": "SQ25ubI-dZEa",
        "colab_type": "code",
        "colab": {
          "base_uri": "https://localhost:8080/",
          "height": 88
        },
        "outputId": "981c8bcd-b921-45a1-b00c-112f651a9fdd"
      },
      "cell_type": "code",
      "source": [
        "s = '1242323'\n",
        "print(s.isnumeric())\n",
        "\n",
        "# s = '²3455'\n",
        "s = '\\u00B23455'\n",
        "print(s.isnumeric())\n",
        "\n",
        "# s = '½'\n",
        "s = '\\u00BD'\n",
        "print(s.isnumeric())\n",
        "\n",
        "s = 'python12'\n",
        "print(s.isnumeric())"
      ],
      "execution_count": 75,
      "outputs": [
        {
          "output_type": "stream",
          "text": [
            "True\n",
            "True\n",
            "True\n",
            "False\n"
          ],
          "name": "stdout"
        }
      ]
    },
    {
      "metadata": {
        "id": "Kc1W1_f2gcSW",
        "colab_type": "code",
        "colab": {
          "base_uri": "https://localhost:8080/",
          "height": 35
        },
        "outputId": "91478e35-c5d7-4be4-9863-5b062d6aacad"
      },
      "cell_type": "code",
      "source": [
        "# s = '²3455'\n",
        "s = '\\u00B23455'\n",
        "\n",
        "if s.isnumeric() == True:\n",
        "  print('All characters are numeric')\n",
        "else:\n",
        "  print('All characters are not numeric')"
      ],
      "execution_count": 76,
      "outputs": [
        {
          "output_type": "stream",
          "text": [
            "All characters are numeric\n"
          ],
          "name": "stdout"
        }
      ]
    },
    {
      "metadata": {
        "id": "J_bQTmNxhJFb",
        "colab_type": "text"
      },
      "cell_type": "markdown",
      "source": [
        "### isupper()"
      ]
    },
    {
      "metadata": {
        "id": "V_7BhPrXgqud",
        "colab_type": "code",
        "colab": {
          "base_uri": "https://localhost:8080/",
          "height": 71
        },
        "outputId": "c10ce76b-9a50-431b-af6b-204e86abc1b4"
      },
      "cell_type": "code",
      "source": [
        "string = \"THIS IS GOOD!\"\n",
        "print(string.isupper())\n",
        "\n",
        "# numbers in place of alphabets\n",
        "string = \"THIS IS ALSO G00D\"\n",
        "print(string.isupper())\n",
        "\n",
        "string = \"THIS IS not GOOD!\"\n",
        "print(string.isupper())"
      ],
      "execution_count": 77,
      "outputs": [
        {
          "output_type": "stream",
          "text": [
            "True\n",
            "True\n",
            "False\n"
          ],
          "name": "stdout"
        }
      ]
    },
    {
      "metadata": {
        "id": "powAOO2HhuqZ",
        "colab_type": "text"
      },
      "cell_type": "markdown",
      "source": [
        "### join()"
      ]
    },
    {
      "metadata": {
        "id": "Ke2ONCEsheDi",
        "colab_type": "code",
        "colab": {
          "base_uri": "https://localhost:8080/",
          "height": 88
        },
        "outputId": "32047e83-3708-4f57-e37a-b8d4b29e62b8"
      },
      "cell_type": "code",
      "source": [
        "## lists and tuples\n",
        "\n",
        "numList = ['1', '2', '3', '4']\n",
        "seperator = ', '\n",
        "print(seperator.join(numList))\n",
        "\n",
        "numTuple = ('1', '2', '3', '4')\n",
        "print(seperator.join(numTuple))\n",
        "\n",
        "s1 = 'abc'\n",
        "s2 = '123'\n",
        "\n",
        "\"\"\" Each character of s2 is concatenated to the front of s1 \"\"\"\n",
        "print('s1.join(s2): ', s1.join(s2))\n",
        "\n",
        "\"\"\" Each character of s1 is concatenated to the front of s2 \"\"\"\n",
        "print('s2.join(s1): ', s2.join(s1))"
      ],
      "execution_count": 78,
      "outputs": [
        {
          "output_type": "stream",
          "text": [
            "1, 2, 3, 4\n",
            "1, 2, 3, 4\n",
            "s1.join(s2):  1abc2abc3\n",
            "s2.join(s1):  a123b123c\n"
          ],
          "name": "stdout"
        }
      ]
    },
    {
      "metadata": {
        "id": "-YP2CYFCiYlp",
        "colab_type": "code",
        "colab": {
          "base_uri": "https://localhost:8080/",
          "height": 53
        },
        "outputId": "6b1736f2-acfb-45e5-b452-22206ce4d68f"
      },
      "cell_type": "code",
      "source": [
        "## sets\n",
        "\n",
        "test = {'2', '1', '3'}\n",
        "s = ', '\n",
        "print(s.join(test))\n",
        "\n",
        "test = {'Python', 'Java', 'Ruby'}\n",
        "s = '->->'\n",
        "print(s.join(test))"
      ],
      "execution_count": 79,
      "outputs": [
        {
          "output_type": "stream",
          "text": [
            "2, 1, 3\n",
            "Ruby->->Python->->Java\n"
          ],
          "name": "stdout"
        }
      ]
    },
    {
      "metadata": {
        "id": "9dW4KTCkjGkA",
        "colab_type": "code",
        "colab": {
          "base_uri": "https://localhost:8080/",
          "height": 35
        },
        "outputId": "48ca3e65-735e-4681-d7a3-87ff1e95c191"
      },
      "cell_type": "code",
      "source": [
        "## dictionaries\n",
        "\n",
        "test = {'mat': 1, 'that': 2}\n",
        "s = '->'\n",
        "print(s.join(test))\n",
        "\n",
        "test = {1: 'mat', 2: 'that'}\n",
        "s = ', '\n",
        "\n",
        "# this gives error\n",
        "# print(s.join(test))"
      ],
      "execution_count": 80,
      "outputs": [
        {
          "output_type": "stream",
          "text": [
            "mat->that\n"
          ],
          "name": "stdout"
        }
      ]
    },
    {
      "metadata": {
        "id": "XsXL_inikFgU",
        "colab_type": "text"
      },
      "cell_type": "markdown",
      "source": [
        "### len()"
      ]
    },
    {
      "metadata": {
        "id": "Omoy59lTjeij",
        "colab_type": "code",
        "colab": {
          "base_uri": "https://localhost:8080/",
          "height": 53
        },
        "outputId": "eee63a3f-84f7-4d65-fe4b-28797b173ed4"
      },
      "cell_type": "code",
      "source": [
        "string = \"geeks\"\n",
        "print(len(string))\n",
        "\n",
        "string = \"geeks for geeks\"\n",
        "print(len(string))"
      ],
      "execution_count": 81,
      "outputs": [
        {
          "output_type": "stream",
          "text": [
            "5\n",
            "15\n"
          ],
          "name": "stdout"
        }
      ]
    },
    {
      "metadata": {
        "id": "WXsAvFrIkLkg",
        "colab_type": "code",
        "colab": {
          "base_uri": "https://localhost:8080/",
          "height": 88
        },
        "outputId": "ba533b66-b5c1-47b1-c82c-c6446400901b"
      },
      "cell_type": "code",
      "source": [
        "## tuples, lists and range\n",
        "\n",
        "testList = []\n",
        "print(testList, 'length is', len(testList))\n",
        "\n",
        "testList = [1, 2, 3]\n",
        "print(testList, 'length is', len(testList))\n",
        "\n",
        "testTuple = (1, 2, 3)\n",
        "print(testTuple, 'length is', len(testTuple))\n",
        "\n",
        "testRange = range(1, 10)\n",
        "print('Length of', testRange, 'is', len(testRange))"
      ],
      "execution_count": 82,
      "outputs": [
        {
          "output_type": "stream",
          "text": [
            "[] length is 0\n",
            "[1, 2, 3] length is 3\n",
            "(1, 2, 3) length is 3\n",
            "Length of range(1, 10) is 9\n"
          ],
          "name": "stdout"
        }
      ]
    },
    {
      "metadata": {
        "id": "5rbZsD-zkxge",
        "colab_type": "code",
        "colab": {
          "base_uri": "https://localhost:8080/",
          "height": 88
        },
        "outputId": "85012422-d944-4f08-dc52-16ce1155e08c"
      },
      "cell_type": "code",
      "source": [
        "## strings and bytes\n",
        "\n",
        "testString = ''\n",
        "print('Length of', testString, 'is', len(testString))\n",
        "\n",
        "testString = 'Python'\n",
        "print('Length of', testString, 'is', len(testString))\n",
        "\n",
        "# byte object\n",
        "testByte = b'Python'\n",
        "print('Length of', testByte, 'is', len(testByte))\n",
        "\n",
        "testList = [1, 2, 3]\n",
        "\n",
        "# converting to bytes object\n",
        "testByte = bytes(testList)\n",
        "print('Length of', testByte, 'is', len(testByte))"
      ],
      "execution_count": 83,
      "outputs": [
        {
          "output_type": "stream",
          "text": [
            "Length of  is 0\n",
            "Length of Python is 6\n",
            "Length of b'Python' is 6\n",
            "Length of b'\\x01\\x02\\x03' is 3\n"
          ],
          "name": "stdout"
        }
      ]
    },
    {
      "metadata": {
        "id": "gBKfcRTClY9b",
        "colab_type": "code",
        "colab": {
          "base_uri": "https://localhost:8080/",
          "height": 106
        },
        "outputId": "956a0d96-d7b5-4c74-c3ad-5b262cca19f3"
      },
      "cell_type": "code",
      "source": [
        "## dictionaries and sets\n",
        "\n",
        "testSet = {1, 2, 3}\n",
        "print(testSet, 'length is', len(testSet))\n",
        "\n",
        "# empty set\n",
        "testSet = set()\n",
        "print(testSet, 'length is', len(testSet))\n",
        "\n",
        "testDict = {1: 'one', 2: 'two'}\n",
        "print(testDict, 'length is', len(testDict))\n",
        "\n",
        "testDict = {}\n",
        "print(testDict, 'length is', len(testDict))\n",
        "\n",
        "testSet = {1, 2}\n",
        "\n",
        "# frozenSet\n",
        "frozenTestSet = frozenset(testSet)\n",
        "print(frozenTestSet, 'length is', len(frozenTestSet))"
      ],
      "execution_count": 84,
      "outputs": [
        {
          "output_type": "stream",
          "text": [
            "{1, 2, 3} length is 3\n",
            "set() length is 0\n",
            "{1: 'one', 2: 'two'} length is 2\n",
            "{} length is 0\n",
            "frozenset({1, 2}) length is 2\n"
          ],
          "name": "stdout"
        }
      ]
    },
    {
      "metadata": {
        "id": "NGi4chaKl6Le",
        "colab_type": "code",
        "colab": {
          "base_uri": "https://localhost:8080/",
          "height": 53
        },
        "outputId": "c2dc6036-992f-4c95-bfa9-ccd7f576a3ff"
      },
      "cell_type": "code",
      "source": [
        "## custom objects\n",
        "\n",
        "class Session:\n",
        "  def __init__(self, number = 0):\n",
        "    self.number = number\n",
        "   \n",
        "  def __len__(self):\n",
        "    return self.number\n",
        "\n",
        "# default length is 0\n",
        "s1 = Session()\n",
        "print(len(s1))\n",
        "\n",
        "# giving custom length\n",
        "s2 = Session(6)\n",
        "print(len(s2))"
      ],
      "execution_count": 85,
      "outputs": [
        {
          "output_type": "stream",
          "text": [
            "0\n",
            "6\n"
          ],
          "name": "stdout"
        }
      ]
    },
    {
      "metadata": {
        "id": "4hkkRMB-mvMP",
        "colab_type": "text"
      },
      "cell_type": "markdown",
      "source": [
        "### lower()"
      ]
    },
    {
      "metadata": {
        "id": "N7g9lnB3mSL-",
        "colab_type": "code",
        "colab": {
          "base_uri": "https://localhost:8080/",
          "height": 53
        },
        "outputId": "f0787b60-4a90-4d2f-9f1c-b495e37174cb"
      },
      "cell_type": "code",
      "source": [
        "string = \"THIS SHOULD BE LOWERCASE!\"\n",
        "print(string.lower())\n",
        "\n",
        "# string with numbers\n",
        "# all alphabets would be lowercase\n",
        "string = \"Th!s Sh0uLd B3 L0w3rCas3!\"\n",
        "print(string.lower())"
      ],
      "execution_count": 86,
      "outputs": [
        {
          "output_type": "stream",
          "text": [
            "this should be lowercase!\n",
            "th!s sh0uld b3 l0w3rcas3!\n"
          ],
          "name": "stdout"
        }
      ]
    },
    {
      "metadata": {
        "id": "01yTWe6OnH-W",
        "colab_type": "code",
        "colab": {
          "base_uri": "https://localhost:8080/",
          "height": 35
        },
        "outputId": "dd58640b-3534-42cb-de7a-98996c70bc8b"
      },
      "cell_type": "code",
      "source": [
        "first = \"PYTHON IS AWESOME!\"\n",
        "\n",
        "second = \"PyThOn Is AwEsOmE!\"\n",
        "\n",
        "if(first.lower() == second.lower()):\n",
        "  print(\"Strings are same\")\n",
        "else:\n",
        "  print(\"Strings aren't same\")"
      ],
      "execution_count": 87,
      "outputs": [
        {
          "output_type": "stream",
          "text": [
            "Strings are same\n"
          ],
          "name": "stdout"
        }
      ]
    },
    {
      "metadata": {
        "id": "29ZjP0WCngH9",
        "colab_type": "text"
      },
      "cell_type": "markdown",
      "source": [
        "### upper()"
      ]
    },
    {
      "metadata": {
        "id": "FjpuFsbSnXbX",
        "colab_type": "code",
        "colab": {
          "base_uri": "https://localhost:8080/",
          "height": 53
        },
        "outputId": "bf6344d6-23d9-4e70-d57e-9c4e92163c39"
      },
      "cell_type": "code",
      "source": [
        "string = \"this should be uppercase!\"\n",
        "print(string.upper())\n",
        "\n",
        "# string with numbers\n",
        "# all alphabets would be lowercase\n",
        "string = \"th!s sh0uld b3 upp3rcas3!\"\n",
        "print(string.upper())"
      ],
      "execution_count": 88,
      "outputs": [
        {
          "output_type": "stream",
          "text": [
            "THIS SHOULD BE UPPERCASE!\n",
            "TH!S SH0ULD B3 UPP3RCAS3!\n"
          ],
          "name": "stdout"
        }
      ]
    },
    {
      "metadata": {
        "id": "nFWchwLWnsTM",
        "colab_type": "code",
        "colab": {
          "base_uri": "https://localhost:8080/",
          "height": 35
        },
        "outputId": "3a0a059e-fded-4064-bed4-38a6979157df"
      },
      "cell_type": "code",
      "source": [
        "first = \"python is awesome!\"\n",
        "\n",
        "second = \"PyThOn Is AwEsOmE!\"\n",
        "\n",
        "if(first.upper() == second.upper()):\n",
        "  print(\"Strings are same.\")\n",
        "else:\n",
        "  print(\"Strings aren't same\")"
      ],
      "execution_count": 89,
      "outputs": [
        {
          "output_type": "stream",
          "text": [
            "Strings are same.\n"
          ],
          "name": "stdout"
        }
      ]
    },
    {
      "metadata": {
        "id": "dFSc0ZURo2OR",
        "colab_type": "text"
      },
      "cell_type": "markdown",
      "source": [
        "### match()"
      ]
    },
    {
      "metadata": {
        "id": "UI8Sl39foHH3",
        "colab_type": "code",
        "colab": {}
      },
      "cell_type": "code",
      "source": [
        "## See re.match() examples"
      ],
      "execution_count": 0,
      "outputs": []
    },
    {
      "metadata": {
        "id": "VO5BlF3UpLVW",
        "colab_type": "text"
      },
      "cell_type": "markdown",
      "source": [
        "### pad (ljust(), rjust() and center())"
      ]
    },
    {
      "metadata": {
        "id": "BHCmTEfXpJbe",
        "colab_type": "code",
        "colab": {
          "base_uri": "https://localhost:8080/",
          "height": 124
        },
        "outputId": "1fd57caa-baf9-48ff-d11d-ddfab74d780f"
      },
      "cell_type": "code",
      "source": [
        "cstr = \"I love geeksforgeeks\"\n",
        "\n",
        "print(\"Original string: \\n\", cstr, \"\\n\")\n",
        "\n",
        "print(\"Center aligned string is: \", cstr.center(40), \"\\n\")\n",
        "\n",
        "print(\"Center aligned string with fillchar: \", cstr.center(40, '#'))"
      ],
      "execution_count": 91,
      "outputs": [
        {
          "output_type": "stream",
          "text": [
            "Original string: \n",
            " I love geeksforgeeks \n",
            "\n",
            "Center aligned string is:            I love geeksforgeeks           \n",
            "\n",
            "Center aligned string with fillchar:  ##########I love geeksforgeeks##########\n"
          ],
          "name": "stdout"
        }
      ]
    },
    {
      "metadata": {
        "id": "U6Gd2XA4qVTx",
        "colab_type": "code",
        "colab": {
          "base_uri": "https://localhost:8080/",
          "height": 88
        },
        "outputId": "23d5ec6b-d52f-478a-9e84-5bbedfc3510e"
      },
      "cell_type": "code",
      "source": [
        "lstr = \"I love geeksforgeeks\"\n",
        "\n",
        "print(\"Original string: \\n\", lstr, \"\\n\")\n",
        "\n",
        "print(\"Left aligned string with fillchar: \", cstr.ljust(40, '#'))"
      ],
      "execution_count": 92,
      "outputs": [
        {
          "output_type": "stream",
          "text": [
            "Original string: \n",
            " I love geeksforgeeks \n",
            "\n",
            "Left aligned string with fillchar:  I love geeksforgeeks####################\n"
          ],
          "name": "stdout"
        }
      ]
    },
    {
      "metadata": {
        "id": "Z_pMLdnHrTCJ",
        "colab_type": "code",
        "colab": {
          "base_uri": "https://localhost:8080/",
          "height": 88
        },
        "outputId": "9fc532d3-6aae-469b-b2d2-8080c3e9dfd4"
      },
      "cell_type": "code",
      "source": [
        "cstr = \"I love geeksforgeeks\"\n",
        "\n",
        "print(\"Original string: \\n\", cstr, \"\\n\")\n",
        "\n",
        "print(\"Right aligned string with fillchar: \", cstr.rjust(40, '#'))"
      ],
      "execution_count": 93,
      "outputs": [
        {
          "output_type": "stream",
          "text": [
            "Original string: \n",
            " I love geeksforgeeks \n",
            "\n",
            "Right aligned string with fillchar:  ####################I love geeksforgeeks\n"
          ],
          "name": "stdout"
        }
      ]
    },
    {
      "metadata": {
        "id": "ohWgd0_0sdBP",
        "colab_type": "text"
      },
      "cell_type": "markdown",
      "source": [
        "### repeat()"
      ]
    },
    {
      "metadata": {
        "id": "zwLuPe-Ht-68",
        "colab_type": "code",
        "colab": {
          "base_uri": "https://localhost:8080/",
          "height": 1992
        },
        "outputId": "4dd5cc55-c371-445e-e0ac-2cc59c08a947"
      },
      "cell_type": "code",
      "source": [
        "data = pd.read_csv(\"https://cdncontribute.geeksforgeeks.org/wp-content/uploads/nba.csv\")\n",
        "\n",
        "# removing null values to avoid errors\n",
        "data.dropna(how = 'all', inplace = True)\n",
        "\n",
        "# overwriting with repeated value\n",
        "data[\"Team\"] = data[\"Team\"].str.repeat(2)\n",
        "\n",
        "data"
      ],
      "execution_count": 94,
      "outputs": [
        {
          "output_type": "execute_result",
          "data": {
            "text/html": [
              "<div>\n",
              "<style scoped>\n",
              "    .dataframe tbody tr th:only-of-type {\n",
              "        vertical-align: middle;\n",
              "    }\n",
              "\n",
              "    .dataframe tbody tr th {\n",
              "        vertical-align: top;\n",
              "    }\n",
              "\n",
              "    .dataframe thead th {\n",
              "        text-align: right;\n",
              "    }\n",
              "</style>\n",
              "<table border=\"1\" class=\"dataframe\">\n",
              "  <thead>\n",
              "    <tr style=\"text-align: right;\">\n",
              "      <th></th>\n",
              "      <th>Name</th>\n",
              "      <th>Team</th>\n",
              "      <th>Number</th>\n",
              "      <th>Position</th>\n",
              "      <th>Age</th>\n",
              "      <th>Height</th>\n",
              "      <th>Weight</th>\n",
              "      <th>College</th>\n",
              "      <th>Salary</th>\n",
              "    </tr>\n",
              "  </thead>\n",
              "  <tbody>\n",
              "    <tr>\n",
              "      <th>0</th>\n",
              "      <td>Avery Bradley</td>\n",
              "      <td>Boston CelticsBoston Celtics</td>\n",
              "      <td>0.0</td>\n",
              "      <td>PG</td>\n",
              "      <td>25.0</td>\n",
              "      <td>6-2</td>\n",
              "      <td>180.0</td>\n",
              "      <td>Texas</td>\n",
              "      <td>7730337.0</td>\n",
              "    </tr>\n",
              "    <tr>\n",
              "      <th>1</th>\n",
              "      <td>Jae Crowder</td>\n",
              "      <td>Boston CelticsBoston Celtics</td>\n",
              "      <td>99.0</td>\n",
              "      <td>SF</td>\n",
              "      <td>25.0</td>\n",
              "      <td>6-6</td>\n",
              "      <td>235.0</td>\n",
              "      <td>Marquette</td>\n",
              "      <td>6796117.0</td>\n",
              "    </tr>\n",
              "    <tr>\n",
              "      <th>2</th>\n",
              "      <td>John Holland</td>\n",
              "      <td>Boston CelticsBoston Celtics</td>\n",
              "      <td>30.0</td>\n",
              "      <td>SG</td>\n",
              "      <td>27.0</td>\n",
              "      <td>6-5</td>\n",
              "      <td>205.0</td>\n",
              "      <td>Boston University</td>\n",
              "      <td>NaN</td>\n",
              "    </tr>\n",
              "    <tr>\n",
              "      <th>3</th>\n",
              "      <td>R.J. Hunter</td>\n",
              "      <td>Boston CelticsBoston Celtics</td>\n",
              "      <td>28.0</td>\n",
              "      <td>SG</td>\n",
              "      <td>22.0</td>\n",
              "      <td>6-5</td>\n",
              "      <td>185.0</td>\n",
              "      <td>Georgia State</td>\n",
              "      <td>1148640.0</td>\n",
              "    </tr>\n",
              "    <tr>\n",
              "      <th>4</th>\n",
              "      <td>Jonas Jerebko</td>\n",
              "      <td>Boston CelticsBoston Celtics</td>\n",
              "      <td>8.0</td>\n",
              "      <td>PF</td>\n",
              "      <td>29.0</td>\n",
              "      <td>6-10</td>\n",
              "      <td>231.0</td>\n",
              "      <td>NaN</td>\n",
              "      <td>5000000.0</td>\n",
              "    </tr>\n",
              "    <tr>\n",
              "      <th>5</th>\n",
              "      <td>Amir Johnson</td>\n",
              "      <td>Boston CelticsBoston Celtics</td>\n",
              "      <td>90.0</td>\n",
              "      <td>PF</td>\n",
              "      <td>29.0</td>\n",
              "      <td>6-9</td>\n",
              "      <td>240.0</td>\n",
              "      <td>NaN</td>\n",
              "      <td>12000000.0</td>\n",
              "    </tr>\n",
              "    <tr>\n",
              "      <th>6</th>\n",
              "      <td>Jordan Mickey</td>\n",
              "      <td>Boston CelticsBoston Celtics</td>\n",
              "      <td>55.0</td>\n",
              "      <td>PF</td>\n",
              "      <td>21.0</td>\n",
              "      <td>6-8</td>\n",
              "      <td>235.0</td>\n",
              "      <td>LSU</td>\n",
              "      <td>1170960.0</td>\n",
              "    </tr>\n",
              "    <tr>\n",
              "      <th>7</th>\n",
              "      <td>Kelly Olynyk</td>\n",
              "      <td>Boston CelticsBoston Celtics</td>\n",
              "      <td>41.0</td>\n",
              "      <td>C</td>\n",
              "      <td>25.0</td>\n",
              "      <td>7-0</td>\n",
              "      <td>238.0</td>\n",
              "      <td>Gonzaga</td>\n",
              "      <td>2165160.0</td>\n",
              "    </tr>\n",
              "    <tr>\n",
              "      <th>8</th>\n",
              "      <td>Terry Rozier</td>\n",
              "      <td>Boston CelticsBoston Celtics</td>\n",
              "      <td>12.0</td>\n",
              "      <td>PG</td>\n",
              "      <td>22.0</td>\n",
              "      <td>6-2</td>\n",
              "      <td>190.0</td>\n",
              "      <td>Louisville</td>\n",
              "      <td>1824360.0</td>\n",
              "    </tr>\n",
              "    <tr>\n",
              "      <th>9</th>\n",
              "      <td>Marcus Smart</td>\n",
              "      <td>Boston CelticsBoston Celtics</td>\n",
              "      <td>36.0</td>\n",
              "      <td>PG</td>\n",
              "      <td>22.0</td>\n",
              "      <td>6-4</td>\n",
              "      <td>220.0</td>\n",
              "      <td>Oklahoma State</td>\n",
              "      <td>3431040.0</td>\n",
              "    </tr>\n",
              "    <tr>\n",
              "      <th>10</th>\n",
              "      <td>Jared Sullinger</td>\n",
              "      <td>Boston CelticsBoston Celtics</td>\n",
              "      <td>7.0</td>\n",
              "      <td>C</td>\n",
              "      <td>24.0</td>\n",
              "      <td>6-9</td>\n",
              "      <td>260.0</td>\n",
              "      <td>Ohio State</td>\n",
              "      <td>2569260.0</td>\n",
              "    </tr>\n",
              "    <tr>\n",
              "      <th>11</th>\n",
              "      <td>Isaiah Thomas</td>\n",
              "      <td>Boston CelticsBoston Celtics</td>\n",
              "      <td>4.0</td>\n",
              "      <td>PG</td>\n",
              "      <td>27.0</td>\n",
              "      <td>5-9</td>\n",
              "      <td>185.0</td>\n",
              "      <td>Washington</td>\n",
              "      <td>6912869.0</td>\n",
              "    </tr>\n",
              "    <tr>\n",
              "      <th>12</th>\n",
              "      <td>Evan Turner</td>\n",
              "      <td>Boston CelticsBoston Celtics</td>\n",
              "      <td>11.0</td>\n",
              "      <td>SG</td>\n",
              "      <td>27.0</td>\n",
              "      <td>6-7</td>\n",
              "      <td>220.0</td>\n",
              "      <td>Ohio State</td>\n",
              "      <td>3425510.0</td>\n",
              "    </tr>\n",
              "    <tr>\n",
              "      <th>13</th>\n",
              "      <td>James Young</td>\n",
              "      <td>Boston CelticsBoston Celtics</td>\n",
              "      <td>13.0</td>\n",
              "      <td>SG</td>\n",
              "      <td>20.0</td>\n",
              "      <td>6-6</td>\n",
              "      <td>215.0</td>\n",
              "      <td>Kentucky</td>\n",
              "      <td>1749840.0</td>\n",
              "    </tr>\n",
              "    <tr>\n",
              "      <th>14</th>\n",
              "      <td>Tyler Zeller</td>\n",
              "      <td>Boston CelticsBoston Celtics</td>\n",
              "      <td>44.0</td>\n",
              "      <td>C</td>\n",
              "      <td>26.0</td>\n",
              "      <td>7-0</td>\n",
              "      <td>253.0</td>\n",
              "      <td>North Carolina</td>\n",
              "      <td>2616975.0</td>\n",
              "    </tr>\n",
              "    <tr>\n",
              "      <th>15</th>\n",
              "      <td>Bojan Bogdanovic</td>\n",
              "      <td>Brooklyn NetsBrooklyn Nets</td>\n",
              "      <td>44.0</td>\n",
              "      <td>SG</td>\n",
              "      <td>27.0</td>\n",
              "      <td>6-8</td>\n",
              "      <td>216.0</td>\n",
              "      <td>NaN</td>\n",
              "      <td>3425510.0</td>\n",
              "    </tr>\n",
              "    <tr>\n",
              "      <th>16</th>\n",
              "      <td>Markel Brown</td>\n",
              "      <td>Brooklyn NetsBrooklyn Nets</td>\n",
              "      <td>22.0</td>\n",
              "      <td>SG</td>\n",
              "      <td>24.0</td>\n",
              "      <td>6-3</td>\n",
              "      <td>190.0</td>\n",
              "      <td>Oklahoma State</td>\n",
              "      <td>845059.0</td>\n",
              "    </tr>\n",
              "    <tr>\n",
              "      <th>17</th>\n",
              "      <td>Wayne Ellington</td>\n",
              "      <td>Brooklyn NetsBrooklyn Nets</td>\n",
              "      <td>21.0</td>\n",
              "      <td>SG</td>\n",
              "      <td>28.0</td>\n",
              "      <td>6-4</td>\n",
              "      <td>200.0</td>\n",
              "      <td>North Carolina</td>\n",
              "      <td>1500000.0</td>\n",
              "    </tr>\n",
              "    <tr>\n",
              "      <th>18</th>\n",
              "      <td>Rondae Hollis-Jefferson</td>\n",
              "      <td>Brooklyn NetsBrooklyn Nets</td>\n",
              "      <td>24.0</td>\n",
              "      <td>SG</td>\n",
              "      <td>21.0</td>\n",
              "      <td>6-7</td>\n",
              "      <td>220.0</td>\n",
              "      <td>Arizona</td>\n",
              "      <td>1335480.0</td>\n",
              "    </tr>\n",
              "    <tr>\n",
              "      <th>19</th>\n",
              "      <td>Jarrett Jack</td>\n",
              "      <td>Brooklyn NetsBrooklyn Nets</td>\n",
              "      <td>2.0</td>\n",
              "      <td>PG</td>\n",
              "      <td>32.0</td>\n",
              "      <td>6-3</td>\n",
              "      <td>200.0</td>\n",
              "      <td>Georgia Tech</td>\n",
              "      <td>6300000.0</td>\n",
              "    </tr>\n",
              "    <tr>\n",
              "      <th>20</th>\n",
              "      <td>Sergey Karasev</td>\n",
              "      <td>Brooklyn NetsBrooklyn Nets</td>\n",
              "      <td>10.0</td>\n",
              "      <td>SG</td>\n",
              "      <td>22.0</td>\n",
              "      <td>6-7</td>\n",
              "      <td>208.0</td>\n",
              "      <td>NaN</td>\n",
              "      <td>1599840.0</td>\n",
              "    </tr>\n",
              "    <tr>\n",
              "      <th>21</th>\n",
              "      <td>Sean Kilpatrick</td>\n",
              "      <td>Brooklyn NetsBrooklyn Nets</td>\n",
              "      <td>6.0</td>\n",
              "      <td>SG</td>\n",
              "      <td>26.0</td>\n",
              "      <td>6-4</td>\n",
              "      <td>219.0</td>\n",
              "      <td>Cincinnati</td>\n",
              "      <td>134215.0</td>\n",
              "    </tr>\n",
              "    <tr>\n",
              "      <th>22</th>\n",
              "      <td>Shane Larkin</td>\n",
              "      <td>Brooklyn NetsBrooklyn Nets</td>\n",
              "      <td>0.0</td>\n",
              "      <td>PG</td>\n",
              "      <td>23.0</td>\n",
              "      <td>5-11</td>\n",
              "      <td>175.0</td>\n",
              "      <td>Miami (FL)</td>\n",
              "      <td>1500000.0</td>\n",
              "    </tr>\n",
              "    <tr>\n",
              "      <th>23</th>\n",
              "      <td>Brook Lopez</td>\n",
              "      <td>Brooklyn NetsBrooklyn Nets</td>\n",
              "      <td>11.0</td>\n",
              "      <td>C</td>\n",
              "      <td>28.0</td>\n",
              "      <td>7-0</td>\n",
              "      <td>275.0</td>\n",
              "      <td>Stanford</td>\n",
              "      <td>19689000.0</td>\n",
              "    </tr>\n",
              "    <tr>\n",
              "      <th>24</th>\n",
              "      <td>Chris McCullough</td>\n",
              "      <td>Brooklyn NetsBrooklyn Nets</td>\n",
              "      <td>1.0</td>\n",
              "      <td>PF</td>\n",
              "      <td>21.0</td>\n",
              "      <td>6-11</td>\n",
              "      <td>200.0</td>\n",
              "      <td>Syracuse</td>\n",
              "      <td>1140240.0</td>\n",
              "    </tr>\n",
              "    <tr>\n",
              "      <th>25</th>\n",
              "      <td>Willie Reed</td>\n",
              "      <td>Brooklyn NetsBrooklyn Nets</td>\n",
              "      <td>33.0</td>\n",
              "      <td>PF</td>\n",
              "      <td>26.0</td>\n",
              "      <td>6-10</td>\n",
              "      <td>220.0</td>\n",
              "      <td>Saint Louis</td>\n",
              "      <td>947276.0</td>\n",
              "    </tr>\n",
              "    <tr>\n",
              "      <th>26</th>\n",
              "      <td>Thomas Robinson</td>\n",
              "      <td>Brooklyn NetsBrooklyn Nets</td>\n",
              "      <td>41.0</td>\n",
              "      <td>PF</td>\n",
              "      <td>25.0</td>\n",
              "      <td>6-10</td>\n",
              "      <td>237.0</td>\n",
              "      <td>Kansas</td>\n",
              "      <td>981348.0</td>\n",
              "    </tr>\n",
              "    <tr>\n",
              "      <th>27</th>\n",
              "      <td>Henry Sims</td>\n",
              "      <td>Brooklyn NetsBrooklyn Nets</td>\n",
              "      <td>14.0</td>\n",
              "      <td>C</td>\n",
              "      <td>26.0</td>\n",
              "      <td>6-10</td>\n",
              "      <td>248.0</td>\n",
              "      <td>Georgetown</td>\n",
              "      <td>947276.0</td>\n",
              "    </tr>\n",
              "    <tr>\n",
              "      <th>28</th>\n",
              "      <td>Donald Sloan</td>\n",
              "      <td>Brooklyn NetsBrooklyn Nets</td>\n",
              "      <td>15.0</td>\n",
              "      <td>PG</td>\n",
              "      <td>28.0</td>\n",
              "      <td>6-3</td>\n",
              "      <td>205.0</td>\n",
              "      <td>Texas A&amp;M</td>\n",
              "      <td>947276.0</td>\n",
              "    </tr>\n",
              "    <tr>\n",
              "      <th>29</th>\n",
              "      <td>Thaddeus Young</td>\n",
              "      <td>Brooklyn NetsBrooklyn Nets</td>\n",
              "      <td>30.0</td>\n",
              "      <td>PF</td>\n",
              "      <td>27.0</td>\n",
              "      <td>6-8</td>\n",
              "      <td>221.0</td>\n",
              "      <td>Georgia Tech</td>\n",
              "      <td>11235955.0</td>\n",
              "    </tr>\n",
              "    <tr>\n",
              "      <th>...</th>\n",
              "      <td>...</td>\n",
              "      <td>...</td>\n",
              "      <td>...</td>\n",
              "      <td>...</td>\n",
              "      <td>...</td>\n",
              "      <td>...</td>\n",
              "      <td>...</td>\n",
              "      <td>...</td>\n",
              "      <td>...</td>\n",
              "    </tr>\n",
              "    <tr>\n",
              "      <th>427</th>\n",
              "      <td>Cliff Alexander</td>\n",
              "      <td>Portland Trail BlazersPortland Trail Blazers</td>\n",
              "      <td>34.0</td>\n",
              "      <td>PF</td>\n",
              "      <td>20.0</td>\n",
              "      <td>6-8</td>\n",
              "      <td>240.0</td>\n",
              "      <td>Kansas</td>\n",
              "      <td>525093.0</td>\n",
              "    </tr>\n",
              "    <tr>\n",
              "      <th>428</th>\n",
              "      <td>Al-Farouq Aminu</td>\n",
              "      <td>Portland Trail BlazersPortland Trail Blazers</td>\n",
              "      <td>8.0</td>\n",
              "      <td>SF</td>\n",
              "      <td>25.0</td>\n",
              "      <td>6-9</td>\n",
              "      <td>215.0</td>\n",
              "      <td>Wake Forest</td>\n",
              "      <td>8042895.0</td>\n",
              "    </tr>\n",
              "    <tr>\n",
              "      <th>429</th>\n",
              "      <td>Pat Connaughton</td>\n",
              "      <td>Portland Trail BlazersPortland Trail Blazers</td>\n",
              "      <td>5.0</td>\n",
              "      <td>SG</td>\n",
              "      <td>23.0</td>\n",
              "      <td>6-5</td>\n",
              "      <td>206.0</td>\n",
              "      <td>Notre Dame</td>\n",
              "      <td>625093.0</td>\n",
              "    </tr>\n",
              "    <tr>\n",
              "      <th>430</th>\n",
              "      <td>Allen Crabbe</td>\n",
              "      <td>Portland Trail BlazersPortland Trail Blazers</td>\n",
              "      <td>23.0</td>\n",
              "      <td>SG</td>\n",
              "      <td>24.0</td>\n",
              "      <td>6-6</td>\n",
              "      <td>210.0</td>\n",
              "      <td>California</td>\n",
              "      <td>947276.0</td>\n",
              "    </tr>\n",
              "    <tr>\n",
              "      <th>431</th>\n",
              "      <td>Ed Davis</td>\n",
              "      <td>Portland Trail BlazersPortland Trail Blazers</td>\n",
              "      <td>17.0</td>\n",
              "      <td>C</td>\n",
              "      <td>27.0</td>\n",
              "      <td>6-10</td>\n",
              "      <td>240.0</td>\n",
              "      <td>North Carolina</td>\n",
              "      <td>6980802.0</td>\n",
              "    </tr>\n",
              "    <tr>\n",
              "      <th>432</th>\n",
              "      <td>Maurice Harkless</td>\n",
              "      <td>Portland Trail BlazersPortland Trail Blazers</td>\n",
              "      <td>4.0</td>\n",
              "      <td>SF</td>\n",
              "      <td>23.0</td>\n",
              "      <td>6-9</td>\n",
              "      <td>215.0</td>\n",
              "      <td>St. John's</td>\n",
              "      <td>2894059.0</td>\n",
              "    </tr>\n",
              "    <tr>\n",
              "      <th>433</th>\n",
              "      <td>Gerald Henderson</td>\n",
              "      <td>Portland Trail BlazersPortland Trail Blazers</td>\n",
              "      <td>9.0</td>\n",
              "      <td>SG</td>\n",
              "      <td>28.0</td>\n",
              "      <td>6-5</td>\n",
              "      <td>215.0</td>\n",
              "      <td>Duke</td>\n",
              "      <td>6000000.0</td>\n",
              "    </tr>\n",
              "    <tr>\n",
              "      <th>434</th>\n",
              "      <td>Chris Kaman</td>\n",
              "      <td>Portland Trail BlazersPortland Trail Blazers</td>\n",
              "      <td>35.0</td>\n",
              "      <td>C</td>\n",
              "      <td>34.0</td>\n",
              "      <td>7-0</td>\n",
              "      <td>265.0</td>\n",
              "      <td>Central Michigan</td>\n",
              "      <td>5016000.0</td>\n",
              "    </tr>\n",
              "    <tr>\n",
              "      <th>435</th>\n",
              "      <td>Meyers Leonard</td>\n",
              "      <td>Portland Trail BlazersPortland Trail Blazers</td>\n",
              "      <td>11.0</td>\n",
              "      <td>PF</td>\n",
              "      <td>24.0</td>\n",
              "      <td>7-1</td>\n",
              "      <td>245.0</td>\n",
              "      <td>Illinois</td>\n",
              "      <td>3075880.0</td>\n",
              "    </tr>\n",
              "    <tr>\n",
              "      <th>436</th>\n",
              "      <td>Damian Lillard</td>\n",
              "      <td>Portland Trail BlazersPortland Trail Blazers</td>\n",
              "      <td>0.0</td>\n",
              "      <td>PG</td>\n",
              "      <td>25.0</td>\n",
              "      <td>6-3</td>\n",
              "      <td>195.0</td>\n",
              "      <td>Weber State</td>\n",
              "      <td>4236287.0</td>\n",
              "    </tr>\n",
              "    <tr>\n",
              "      <th>437</th>\n",
              "      <td>C.J. McCollum</td>\n",
              "      <td>Portland Trail BlazersPortland Trail Blazers</td>\n",
              "      <td>3.0</td>\n",
              "      <td>SG</td>\n",
              "      <td>24.0</td>\n",
              "      <td>6-4</td>\n",
              "      <td>200.0</td>\n",
              "      <td>Lehigh</td>\n",
              "      <td>2525160.0</td>\n",
              "    </tr>\n",
              "    <tr>\n",
              "      <th>438</th>\n",
              "      <td>Luis Montero</td>\n",
              "      <td>Portland Trail BlazersPortland Trail Blazers</td>\n",
              "      <td>44.0</td>\n",
              "      <td>SG</td>\n",
              "      <td>23.0</td>\n",
              "      <td>6-7</td>\n",
              "      <td>185.0</td>\n",
              "      <td>Westchester CC</td>\n",
              "      <td>525093.0</td>\n",
              "    </tr>\n",
              "    <tr>\n",
              "      <th>439</th>\n",
              "      <td>Mason Plumlee</td>\n",
              "      <td>Portland Trail BlazersPortland Trail Blazers</td>\n",
              "      <td>24.0</td>\n",
              "      <td>C</td>\n",
              "      <td>26.0</td>\n",
              "      <td>6-11</td>\n",
              "      <td>235.0</td>\n",
              "      <td>Duke</td>\n",
              "      <td>1415520.0</td>\n",
              "    </tr>\n",
              "    <tr>\n",
              "      <th>440</th>\n",
              "      <td>Brian Roberts</td>\n",
              "      <td>Portland Trail BlazersPortland Trail Blazers</td>\n",
              "      <td>2.0</td>\n",
              "      <td>PG</td>\n",
              "      <td>30.0</td>\n",
              "      <td>6-1</td>\n",
              "      <td>173.0</td>\n",
              "      <td>Dayton</td>\n",
              "      <td>2854940.0</td>\n",
              "    </tr>\n",
              "    <tr>\n",
              "      <th>441</th>\n",
              "      <td>Noah Vonleh</td>\n",
              "      <td>Portland Trail BlazersPortland Trail Blazers</td>\n",
              "      <td>21.0</td>\n",
              "      <td>PF</td>\n",
              "      <td>20.0</td>\n",
              "      <td>6-9</td>\n",
              "      <td>240.0</td>\n",
              "      <td>Indiana</td>\n",
              "      <td>2637720.0</td>\n",
              "    </tr>\n",
              "    <tr>\n",
              "      <th>442</th>\n",
              "      <td>Trevor Booker</td>\n",
              "      <td>Utah JazzUtah Jazz</td>\n",
              "      <td>33.0</td>\n",
              "      <td>PF</td>\n",
              "      <td>28.0</td>\n",
              "      <td>6-8</td>\n",
              "      <td>228.0</td>\n",
              "      <td>Clemson</td>\n",
              "      <td>4775000.0</td>\n",
              "    </tr>\n",
              "    <tr>\n",
              "      <th>443</th>\n",
              "      <td>Trey Burke</td>\n",
              "      <td>Utah JazzUtah Jazz</td>\n",
              "      <td>3.0</td>\n",
              "      <td>PG</td>\n",
              "      <td>23.0</td>\n",
              "      <td>6-1</td>\n",
              "      <td>191.0</td>\n",
              "      <td>Michigan</td>\n",
              "      <td>2658240.0</td>\n",
              "    </tr>\n",
              "    <tr>\n",
              "      <th>444</th>\n",
              "      <td>Alec Burks</td>\n",
              "      <td>Utah JazzUtah Jazz</td>\n",
              "      <td>10.0</td>\n",
              "      <td>SG</td>\n",
              "      <td>24.0</td>\n",
              "      <td>6-6</td>\n",
              "      <td>214.0</td>\n",
              "      <td>Colorado</td>\n",
              "      <td>9463484.0</td>\n",
              "    </tr>\n",
              "    <tr>\n",
              "      <th>445</th>\n",
              "      <td>Dante Exum</td>\n",
              "      <td>Utah JazzUtah Jazz</td>\n",
              "      <td>11.0</td>\n",
              "      <td>PG</td>\n",
              "      <td>20.0</td>\n",
              "      <td>6-6</td>\n",
              "      <td>190.0</td>\n",
              "      <td>NaN</td>\n",
              "      <td>3777720.0</td>\n",
              "    </tr>\n",
              "    <tr>\n",
              "      <th>446</th>\n",
              "      <td>Derrick Favors</td>\n",
              "      <td>Utah JazzUtah Jazz</td>\n",
              "      <td>15.0</td>\n",
              "      <td>PF</td>\n",
              "      <td>24.0</td>\n",
              "      <td>6-10</td>\n",
              "      <td>265.0</td>\n",
              "      <td>Georgia Tech</td>\n",
              "      <td>12000000.0</td>\n",
              "    </tr>\n",
              "    <tr>\n",
              "      <th>447</th>\n",
              "      <td>Rudy Gobert</td>\n",
              "      <td>Utah JazzUtah Jazz</td>\n",
              "      <td>27.0</td>\n",
              "      <td>C</td>\n",
              "      <td>23.0</td>\n",
              "      <td>7-1</td>\n",
              "      <td>245.0</td>\n",
              "      <td>NaN</td>\n",
              "      <td>1175880.0</td>\n",
              "    </tr>\n",
              "    <tr>\n",
              "      <th>448</th>\n",
              "      <td>Gordon Hayward</td>\n",
              "      <td>Utah JazzUtah Jazz</td>\n",
              "      <td>20.0</td>\n",
              "      <td>SF</td>\n",
              "      <td>26.0</td>\n",
              "      <td>6-8</td>\n",
              "      <td>226.0</td>\n",
              "      <td>Butler</td>\n",
              "      <td>15409570.0</td>\n",
              "    </tr>\n",
              "    <tr>\n",
              "      <th>449</th>\n",
              "      <td>Rodney Hood</td>\n",
              "      <td>Utah JazzUtah Jazz</td>\n",
              "      <td>5.0</td>\n",
              "      <td>SG</td>\n",
              "      <td>23.0</td>\n",
              "      <td>6-8</td>\n",
              "      <td>206.0</td>\n",
              "      <td>Duke</td>\n",
              "      <td>1348440.0</td>\n",
              "    </tr>\n",
              "    <tr>\n",
              "      <th>450</th>\n",
              "      <td>Joe Ingles</td>\n",
              "      <td>Utah JazzUtah Jazz</td>\n",
              "      <td>2.0</td>\n",
              "      <td>SF</td>\n",
              "      <td>28.0</td>\n",
              "      <td>6-8</td>\n",
              "      <td>226.0</td>\n",
              "      <td>NaN</td>\n",
              "      <td>2050000.0</td>\n",
              "    </tr>\n",
              "    <tr>\n",
              "      <th>451</th>\n",
              "      <td>Chris Johnson</td>\n",
              "      <td>Utah JazzUtah Jazz</td>\n",
              "      <td>23.0</td>\n",
              "      <td>SF</td>\n",
              "      <td>26.0</td>\n",
              "      <td>6-6</td>\n",
              "      <td>206.0</td>\n",
              "      <td>Dayton</td>\n",
              "      <td>981348.0</td>\n",
              "    </tr>\n",
              "    <tr>\n",
              "      <th>452</th>\n",
              "      <td>Trey Lyles</td>\n",
              "      <td>Utah JazzUtah Jazz</td>\n",
              "      <td>41.0</td>\n",
              "      <td>PF</td>\n",
              "      <td>20.0</td>\n",
              "      <td>6-10</td>\n",
              "      <td>234.0</td>\n",
              "      <td>Kentucky</td>\n",
              "      <td>2239800.0</td>\n",
              "    </tr>\n",
              "    <tr>\n",
              "      <th>453</th>\n",
              "      <td>Shelvin Mack</td>\n",
              "      <td>Utah JazzUtah Jazz</td>\n",
              "      <td>8.0</td>\n",
              "      <td>PG</td>\n",
              "      <td>26.0</td>\n",
              "      <td>6-3</td>\n",
              "      <td>203.0</td>\n",
              "      <td>Butler</td>\n",
              "      <td>2433333.0</td>\n",
              "    </tr>\n",
              "    <tr>\n",
              "      <th>454</th>\n",
              "      <td>Raul Neto</td>\n",
              "      <td>Utah JazzUtah Jazz</td>\n",
              "      <td>25.0</td>\n",
              "      <td>PG</td>\n",
              "      <td>24.0</td>\n",
              "      <td>6-1</td>\n",
              "      <td>179.0</td>\n",
              "      <td>NaN</td>\n",
              "      <td>900000.0</td>\n",
              "    </tr>\n",
              "    <tr>\n",
              "      <th>455</th>\n",
              "      <td>Tibor Pleiss</td>\n",
              "      <td>Utah JazzUtah Jazz</td>\n",
              "      <td>21.0</td>\n",
              "      <td>C</td>\n",
              "      <td>26.0</td>\n",
              "      <td>7-3</td>\n",
              "      <td>256.0</td>\n",
              "      <td>NaN</td>\n",
              "      <td>2900000.0</td>\n",
              "    </tr>\n",
              "    <tr>\n",
              "      <th>456</th>\n",
              "      <td>Jeff Withey</td>\n",
              "      <td>Utah JazzUtah Jazz</td>\n",
              "      <td>24.0</td>\n",
              "      <td>C</td>\n",
              "      <td>26.0</td>\n",
              "      <td>7-0</td>\n",
              "      <td>231.0</td>\n",
              "      <td>Kansas</td>\n",
              "      <td>947276.0</td>\n",
              "    </tr>\n",
              "  </tbody>\n",
              "</table>\n",
              "<p>457 rows × 9 columns</p>\n",
              "</div>"
            ],
            "text/plain": [
              "                        Name                                          Team  \\\n",
              "0              Avery Bradley                  Boston CelticsBoston Celtics   \n",
              "1                Jae Crowder                  Boston CelticsBoston Celtics   \n",
              "2               John Holland                  Boston CelticsBoston Celtics   \n",
              "3                R.J. Hunter                  Boston CelticsBoston Celtics   \n",
              "4              Jonas Jerebko                  Boston CelticsBoston Celtics   \n",
              "5               Amir Johnson                  Boston CelticsBoston Celtics   \n",
              "6              Jordan Mickey                  Boston CelticsBoston Celtics   \n",
              "7               Kelly Olynyk                  Boston CelticsBoston Celtics   \n",
              "8               Terry Rozier                  Boston CelticsBoston Celtics   \n",
              "9               Marcus Smart                  Boston CelticsBoston Celtics   \n",
              "10           Jared Sullinger                  Boston CelticsBoston Celtics   \n",
              "11             Isaiah Thomas                  Boston CelticsBoston Celtics   \n",
              "12               Evan Turner                  Boston CelticsBoston Celtics   \n",
              "13               James Young                  Boston CelticsBoston Celtics   \n",
              "14              Tyler Zeller                  Boston CelticsBoston Celtics   \n",
              "15          Bojan Bogdanovic                    Brooklyn NetsBrooklyn Nets   \n",
              "16              Markel Brown                    Brooklyn NetsBrooklyn Nets   \n",
              "17           Wayne Ellington                    Brooklyn NetsBrooklyn Nets   \n",
              "18   Rondae Hollis-Jefferson                    Brooklyn NetsBrooklyn Nets   \n",
              "19              Jarrett Jack                    Brooklyn NetsBrooklyn Nets   \n",
              "20            Sergey Karasev                    Brooklyn NetsBrooklyn Nets   \n",
              "21           Sean Kilpatrick                    Brooklyn NetsBrooklyn Nets   \n",
              "22              Shane Larkin                    Brooklyn NetsBrooklyn Nets   \n",
              "23               Brook Lopez                    Brooklyn NetsBrooklyn Nets   \n",
              "24          Chris McCullough                    Brooklyn NetsBrooklyn Nets   \n",
              "25               Willie Reed                    Brooklyn NetsBrooklyn Nets   \n",
              "26           Thomas Robinson                    Brooklyn NetsBrooklyn Nets   \n",
              "27                Henry Sims                    Brooklyn NetsBrooklyn Nets   \n",
              "28              Donald Sloan                    Brooklyn NetsBrooklyn Nets   \n",
              "29            Thaddeus Young                    Brooklyn NetsBrooklyn Nets   \n",
              "..                       ...                                           ...   \n",
              "427          Cliff Alexander  Portland Trail BlazersPortland Trail Blazers   \n",
              "428          Al-Farouq Aminu  Portland Trail BlazersPortland Trail Blazers   \n",
              "429          Pat Connaughton  Portland Trail BlazersPortland Trail Blazers   \n",
              "430             Allen Crabbe  Portland Trail BlazersPortland Trail Blazers   \n",
              "431                 Ed Davis  Portland Trail BlazersPortland Trail Blazers   \n",
              "432         Maurice Harkless  Portland Trail BlazersPortland Trail Blazers   \n",
              "433         Gerald Henderson  Portland Trail BlazersPortland Trail Blazers   \n",
              "434              Chris Kaman  Portland Trail BlazersPortland Trail Blazers   \n",
              "435           Meyers Leonard  Portland Trail BlazersPortland Trail Blazers   \n",
              "436           Damian Lillard  Portland Trail BlazersPortland Trail Blazers   \n",
              "437            C.J. McCollum  Portland Trail BlazersPortland Trail Blazers   \n",
              "438             Luis Montero  Portland Trail BlazersPortland Trail Blazers   \n",
              "439            Mason Plumlee  Portland Trail BlazersPortland Trail Blazers   \n",
              "440            Brian Roberts  Portland Trail BlazersPortland Trail Blazers   \n",
              "441              Noah Vonleh  Portland Trail BlazersPortland Trail Blazers   \n",
              "442            Trevor Booker                            Utah JazzUtah Jazz   \n",
              "443               Trey Burke                            Utah JazzUtah Jazz   \n",
              "444               Alec Burks                            Utah JazzUtah Jazz   \n",
              "445               Dante Exum                            Utah JazzUtah Jazz   \n",
              "446           Derrick Favors                            Utah JazzUtah Jazz   \n",
              "447              Rudy Gobert                            Utah JazzUtah Jazz   \n",
              "448           Gordon Hayward                            Utah JazzUtah Jazz   \n",
              "449              Rodney Hood                            Utah JazzUtah Jazz   \n",
              "450               Joe Ingles                            Utah JazzUtah Jazz   \n",
              "451            Chris Johnson                            Utah JazzUtah Jazz   \n",
              "452               Trey Lyles                            Utah JazzUtah Jazz   \n",
              "453             Shelvin Mack                            Utah JazzUtah Jazz   \n",
              "454                Raul Neto                            Utah JazzUtah Jazz   \n",
              "455             Tibor Pleiss                            Utah JazzUtah Jazz   \n",
              "456              Jeff Withey                            Utah JazzUtah Jazz   \n",
              "\n",
              "     Number Position   Age Height  Weight            College      Salary  \n",
              "0       0.0       PG  25.0    6-2   180.0              Texas   7730337.0  \n",
              "1      99.0       SF  25.0    6-6   235.0          Marquette   6796117.0  \n",
              "2      30.0       SG  27.0    6-5   205.0  Boston University         NaN  \n",
              "3      28.0       SG  22.0    6-5   185.0      Georgia State   1148640.0  \n",
              "4       8.0       PF  29.0   6-10   231.0                NaN   5000000.0  \n",
              "5      90.0       PF  29.0    6-9   240.0                NaN  12000000.0  \n",
              "6      55.0       PF  21.0    6-8   235.0                LSU   1170960.0  \n",
              "7      41.0        C  25.0    7-0   238.0            Gonzaga   2165160.0  \n",
              "8      12.0       PG  22.0    6-2   190.0         Louisville   1824360.0  \n",
              "9      36.0       PG  22.0    6-4   220.0     Oklahoma State   3431040.0  \n",
              "10      7.0        C  24.0    6-9   260.0         Ohio State   2569260.0  \n",
              "11      4.0       PG  27.0    5-9   185.0         Washington   6912869.0  \n",
              "12     11.0       SG  27.0    6-7   220.0         Ohio State   3425510.0  \n",
              "13     13.0       SG  20.0    6-6   215.0           Kentucky   1749840.0  \n",
              "14     44.0        C  26.0    7-0   253.0     North Carolina   2616975.0  \n",
              "15     44.0       SG  27.0    6-8   216.0                NaN   3425510.0  \n",
              "16     22.0       SG  24.0    6-3   190.0     Oklahoma State    845059.0  \n",
              "17     21.0       SG  28.0    6-4   200.0     North Carolina   1500000.0  \n",
              "18     24.0       SG  21.0    6-7   220.0            Arizona   1335480.0  \n",
              "19      2.0       PG  32.0    6-3   200.0       Georgia Tech   6300000.0  \n",
              "20     10.0       SG  22.0    6-7   208.0                NaN   1599840.0  \n",
              "21      6.0       SG  26.0    6-4   219.0         Cincinnati    134215.0  \n",
              "22      0.0       PG  23.0   5-11   175.0         Miami (FL)   1500000.0  \n",
              "23     11.0        C  28.0    7-0   275.0           Stanford  19689000.0  \n",
              "24      1.0       PF  21.0   6-11   200.0           Syracuse   1140240.0  \n",
              "25     33.0       PF  26.0   6-10   220.0        Saint Louis    947276.0  \n",
              "26     41.0       PF  25.0   6-10   237.0             Kansas    981348.0  \n",
              "27     14.0        C  26.0   6-10   248.0         Georgetown    947276.0  \n",
              "28     15.0       PG  28.0    6-3   205.0          Texas A&M    947276.0  \n",
              "29     30.0       PF  27.0    6-8   221.0       Georgia Tech  11235955.0  \n",
              "..      ...      ...   ...    ...     ...                ...         ...  \n",
              "427    34.0       PF  20.0    6-8   240.0             Kansas    525093.0  \n",
              "428     8.0       SF  25.0    6-9   215.0        Wake Forest   8042895.0  \n",
              "429     5.0       SG  23.0    6-5   206.0         Notre Dame    625093.0  \n",
              "430    23.0       SG  24.0    6-6   210.0         California    947276.0  \n",
              "431    17.0        C  27.0   6-10   240.0     North Carolina   6980802.0  \n",
              "432     4.0       SF  23.0    6-9   215.0         St. John's   2894059.0  \n",
              "433     9.0       SG  28.0    6-5   215.0               Duke   6000000.0  \n",
              "434    35.0        C  34.0    7-0   265.0   Central Michigan   5016000.0  \n",
              "435    11.0       PF  24.0    7-1   245.0           Illinois   3075880.0  \n",
              "436     0.0       PG  25.0    6-3   195.0        Weber State   4236287.0  \n",
              "437     3.0       SG  24.0    6-4   200.0             Lehigh   2525160.0  \n",
              "438    44.0       SG  23.0    6-7   185.0     Westchester CC    525093.0  \n",
              "439    24.0        C  26.0   6-11   235.0               Duke   1415520.0  \n",
              "440     2.0       PG  30.0    6-1   173.0             Dayton   2854940.0  \n",
              "441    21.0       PF  20.0    6-9   240.0            Indiana   2637720.0  \n",
              "442    33.0       PF  28.0    6-8   228.0            Clemson   4775000.0  \n",
              "443     3.0       PG  23.0    6-1   191.0           Michigan   2658240.0  \n",
              "444    10.0       SG  24.0    6-6   214.0           Colorado   9463484.0  \n",
              "445    11.0       PG  20.0    6-6   190.0                NaN   3777720.0  \n",
              "446    15.0       PF  24.0   6-10   265.0       Georgia Tech  12000000.0  \n",
              "447    27.0        C  23.0    7-1   245.0                NaN   1175880.0  \n",
              "448    20.0       SF  26.0    6-8   226.0             Butler  15409570.0  \n",
              "449     5.0       SG  23.0    6-8   206.0               Duke   1348440.0  \n",
              "450     2.0       SF  28.0    6-8   226.0                NaN   2050000.0  \n",
              "451    23.0       SF  26.0    6-6   206.0             Dayton    981348.0  \n",
              "452    41.0       PF  20.0   6-10   234.0           Kentucky   2239800.0  \n",
              "453     8.0       PG  26.0    6-3   203.0             Butler   2433333.0  \n",
              "454    25.0       PG  24.0    6-1   179.0                NaN    900000.0  \n",
              "455    21.0        C  26.0    7-3   256.0                NaN   2900000.0  \n",
              "456    24.0        C  26.0    7-0   231.0             Kansas    947276.0  \n",
              "\n",
              "[457 rows x 9 columns]"
            ]
          },
          "metadata": {
            "tags": []
          },
          "execution_count": 94
        }
      ]
    },
    {
      "metadata": {
        "id": "7HVC57fzua6o",
        "colab_type": "code",
        "colab": {
          "base_uri": "https://localhost:8080/",
          "height": 363
        },
        "outputId": "c46a68bc-af1d-4624-e101-e5b6f1f6890d"
      },
      "cell_type": "code",
      "source": [
        "data = pd.read_csv(\"https://cdncontribute.geeksforgeeks.org/wp-content/uploads/nba.csv\")\n",
        "\n",
        "# removing null values to avoid errors\n",
        "data.dropna(how = 'all', inplace = True)\n",
        "\n",
        "# creating data of 10 rows\n",
        "sample_data = data.head(10).copy()\n",
        "\n",
        "# creating list of 10 ints\n",
        "repeat_list = [2, 1, 3, 4, 1, 5, 0, 6, 1, 2]\n",
        "\n",
        "sample_data[\"Name\"] = sample_data[\"Name\"].str.repeat(repeat_list)\n",
        "\n",
        "sample_data"
      ],
      "execution_count": 95,
      "outputs": [
        {
          "output_type": "execute_result",
          "data": {
            "text/html": [
              "<div>\n",
              "<style scoped>\n",
              "    .dataframe tbody tr th:only-of-type {\n",
              "        vertical-align: middle;\n",
              "    }\n",
              "\n",
              "    .dataframe tbody tr th {\n",
              "        vertical-align: top;\n",
              "    }\n",
              "\n",
              "    .dataframe thead th {\n",
              "        text-align: right;\n",
              "    }\n",
              "</style>\n",
              "<table border=\"1\" class=\"dataframe\">\n",
              "  <thead>\n",
              "    <tr style=\"text-align: right;\">\n",
              "      <th></th>\n",
              "      <th>Name</th>\n",
              "      <th>Team</th>\n",
              "      <th>Number</th>\n",
              "      <th>Position</th>\n",
              "      <th>Age</th>\n",
              "      <th>Height</th>\n",
              "      <th>Weight</th>\n",
              "      <th>College</th>\n",
              "      <th>Salary</th>\n",
              "    </tr>\n",
              "  </thead>\n",
              "  <tbody>\n",
              "    <tr>\n",
              "      <th>0</th>\n",
              "      <td>Avery BradleyAvery Bradley</td>\n",
              "      <td>Boston Celtics</td>\n",
              "      <td>0.0</td>\n",
              "      <td>PG</td>\n",
              "      <td>25.0</td>\n",
              "      <td>6-2</td>\n",
              "      <td>180.0</td>\n",
              "      <td>Texas</td>\n",
              "      <td>7730337.0</td>\n",
              "    </tr>\n",
              "    <tr>\n",
              "      <th>1</th>\n",
              "      <td>Jae Crowder</td>\n",
              "      <td>Boston Celtics</td>\n",
              "      <td>99.0</td>\n",
              "      <td>SF</td>\n",
              "      <td>25.0</td>\n",
              "      <td>6-6</td>\n",
              "      <td>235.0</td>\n",
              "      <td>Marquette</td>\n",
              "      <td>6796117.0</td>\n",
              "    </tr>\n",
              "    <tr>\n",
              "      <th>2</th>\n",
              "      <td>John HollandJohn HollandJohn Holland</td>\n",
              "      <td>Boston Celtics</td>\n",
              "      <td>30.0</td>\n",
              "      <td>SG</td>\n",
              "      <td>27.0</td>\n",
              "      <td>6-5</td>\n",
              "      <td>205.0</td>\n",
              "      <td>Boston University</td>\n",
              "      <td>NaN</td>\n",
              "    </tr>\n",
              "    <tr>\n",
              "      <th>3</th>\n",
              "      <td>R.J. HunterR.J. HunterR.J. HunterR.J. Hunter</td>\n",
              "      <td>Boston Celtics</td>\n",
              "      <td>28.0</td>\n",
              "      <td>SG</td>\n",
              "      <td>22.0</td>\n",
              "      <td>6-5</td>\n",
              "      <td>185.0</td>\n",
              "      <td>Georgia State</td>\n",
              "      <td>1148640.0</td>\n",
              "    </tr>\n",
              "    <tr>\n",
              "      <th>4</th>\n",
              "      <td>Jonas Jerebko</td>\n",
              "      <td>Boston Celtics</td>\n",
              "      <td>8.0</td>\n",
              "      <td>PF</td>\n",
              "      <td>29.0</td>\n",
              "      <td>6-10</td>\n",
              "      <td>231.0</td>\n",
              "      <td>NaN</td>\n",
              "      <td>5000000.0</td>\n",
              "    </tr>\n",
              "    <tr>\n",
              "      <th>5</th>\n",
              "      <td>Amir JohnsonAmir JohnsonAmir JohnsonAmir Johns...</td>\n",
              "      <td>Boston Celtics</td>\n",
              "      <td>90.0</td>\n",
              "      <td>PF</td>\n",
              "      <td>29.0</td>\n",
              "      <td>6-9</td>\n",
              "      <td>240.0</td>\n",
              "      <td>NaN</td>\n",
              "      <td>12000000.0</td>\n",
              "    </tr>\n",
              "    <tr>\n",
              "      <th>6</th>\n",
              "      <td></td>\n",
              "      <td>Boston Celtics</td>\n",
              "      <td>55.0</td>\n",
              "      <td>PF</td>\n",
              "      <td>21.0</td>\n",
              "      <td>6-8</td>\n",
              "      <td>235.0</td>\n",
              "      <td>LSU</td>\n",
              "      <td>1170960.0</td>\n",
              "    </tr>\n",
              "    <tr>\n",
              "      <th>7</th>\n",
              "      <td>Kelly OlynykKelly OlynykKelly OlynykKelly Olyn...</td>\n",
              "      <td>Boston Celtics</td>\n",
              "      <td>41.0</td>\n",
              "      <td>C</td>\n",
              "      <td>25.0</td>\n",
              "      <td>7-0</td>\n",
              "      <td>238.0</td>\n",
              "      <td>Gonzaga</td>\n",
              "      <td>2165160.0</td>\n",
              "    </tr>\n",
              "    <tr>\n",
              "      <th>8</th>\n",
              "      <td>Terry Rozier</td>\n",
              "      <td>Boston Celtics</td>\n",
              "      <td>12.0</td>\n",
              "      <td>PG</td>\n",
              "      <td>22.0</td>\n",
              "      <td>6-2</td>\n",
              "      <td>190.0</td>\n",
              "      <td>Louisville</td>\n",
              "      <td>1824360.0</td>\n",
              "    </tr>\n",
              "    <tr>\n",
              "      <th>9</th>\n",
              "      <td>Marcus SmartMarcus Smart</td>\n",
              "      <td>Boston Celtics</td>\n",
              "      <td>36.0</td>\n",
              "      <td>PG</td>\n",
              "      <td>22.0</td>\n",
              "      <td>6-4</td>\n",
              "      <td>220.0</td>\n",
              "      <td>Oklahoma State</td>\n",
              "      <td>3431040.0</td>\n",
              "    </tr>\n",
              "  </tbody>\n",
              "</table>\n",
              "</div>"
            ],
            "text/plain": [
              "                                                Name            Team  Number  \\\n",
              "0                         Avery BradleyAvery Bradley  Boston Celtics     0.0   \n",
              "1                                        Jae Crowder  Boston Celtics    99.0   \n",
              "2               John HollandJohn HollandJohn Holland  Boston Celtics    30.0   \n",
              "3       R.J. HunterR.J. HunterR.J. HunterR.J. Hunter  Boston Celtics    28.0   \n",
              "4                                      Jonas Jerebko  Boston Celtics     8.0   \n",
              "5  Amir JohnsonAmir JohnsonAmir JohnsonAmir Johns...  Boston Celtics    90.0   \n",
              "6                                                     Boston Celtics    55.0   \n",
              "7  Kelly OlynykKelly OlynykKelly OlynykKelly Olyn...  Boston Celtics    41.0   \n",
              "8                                       Terry Rozier  Boston Celtics    12.0   \n",
              "9                           Marcus SmartMarcus Smart  Boston Celtics    36.0   \n",
              "\n",
              "  Position   Age Height  Weight            College      Salary  \n",
              "0       PG  25.0    6-2   180.0              Texas   7730337.0  \n",
              "1       SF  25.0    6-6   235.0          Marquette   6796117.0  \n",
              "2       SG  27.0    6-5   205.0  Boston University         NaN  \n",
              "3       SG  22.0    6-5   185.0      Georgia State   1148640.0  \n",
              "4       PF  29.0   6-10   231.0                NaN   5000000.0  \n",
              "5       PF  29.0    6-9   240.0                NaN  12000000.0  \n",
              "6       PF  21.0    6-8   235.0                LSU   1170960.0  \n",
              "7        C  25.0    7-0   238.0            Gonzaga   2165160.0  \n",
              "8       PG  22.0    6-2   190.0         Louisville   1824360.0  \n",
              "9       PG  22.0    6-4   220.0     Oklahoma State   3431040.0  "
            ]
          },
          "metadata": {
            "tags": []
          },
          "execution_count": 95
        }
      ]
    },
    {
      "metadata": {
        "id": "jsggbN9UsgdF",
        "colab_type": "text"
      },
      "cell_type": "markdown",
      "source": [
        "### replace()"
      ]
    },
    {
      "metadata": {
        "id": "n_b3R-JUrcmw",
        "colab_type": "code",
        "colab": {
          "base_uri": "https://localhost:8080/",
          "height": 53
        },
        "outputId": "c8c2c13c-146d-40f8-bb5f-5bbdfa540dec"
      },
      "cell_type": "code",
      "source": [
        "song = 'cold, cold heart'\n",
        "print(song.replace('cold', 'hurt'))\n",
        "\n",
        "song = 'Let it be, let it be, let it be, let it be'\n",
        "\n",
        "''' only 2 occurences of 'let' is replaced '''\n",
        "print(song.replace('let', \"don't let\", 2))"
      ],
      "execution_count": 96,
      "outputs": [
        {
          "output_type": "stream",
          "text": [
            "hurt, hurt heart\n",
            "Let it be, don't let it be, don't let it be, let it be\n"
          ],
          "name": "stdout"
        }
      ]
    },
    {
      "metadata": {
        "id": "RgpWCLx_syH_",
        "colab_type": "code",
        "colab": {
          "base_uri": "https://localhost:8080/",
          "height": 71
        },
        "outputId": "2619dc20-e9ff-44c2-b3ec-251bb447d11e"
      },
      "cell_type": "code",
      "source": [
        "song = 'cold, cold heart'\n",
        "replaced_song = song.replace('o', 'e')\n",
        "\n",
        "# Original string is unchanged\n",
        "print('Original string: ', song)\n",
        "print('Replaced string: ', replaced_song)\n",
        "\n",
        "song = 'Let it be, let it be, let it be, let it be'\n",
        "\n",
        "# Maximum of 0 substring is replaced\n",
        "# Returns copy of original string\n",
        "print(song.replace('let', 'so', 0))"
      ],
      "execution_count": 97,
      "outputs": [
        {
          "output_type": "stream",
          "text": [
            "Original string:  cold, cold heart\n",
            "Replaced string:  celd, celd heart\n",
            "Let it be, let it be, let it be, let it be\n"
          ],
          "name": "stdout"
        }
      ]
    },
    {
      "metadata": {
        "id": "vmS7pHq1vGKc",
        "colab_type": "text"
      },
      "cell_type": "markdown",
      "source": [
        "### slice()"
      ]
    },
    {
      "metadata": {
        "id": "z2j2TS7vtTnq",
        "colab_type": "code",
        "colab": {}
      },
      "cell_type": "code",
      "source": [
        "# data = pd.read_csv(\"https://cdncontribute.geeksforgeeks.org/wp-content/uploads/nba.csv\")\n",
        "\n",
        "# # removing null values to avoid errors\n",
        "# data.dropna(inplace = True)\n",
        "\n",
        "# # start, stop and step variables\n",
        "# start, stop, step = 0, -2, 1\n",
        "\n",
        "# # converting to string data type\n",
        "# data[\"Salary\"] = data[\"Salary\"].astype(str)\n",
        "\n",
        "# # slicing till 2nd last element\n",
        "# data[\"Salary (int)\"] = data[\"Salary\"].str.slice(start, stop, step)\n",
        "\n",
        "# data.head(10)"
      ],
      "execution_count": 0,
      "outputs": []
    },
    {
      "metadata": {
        "id": "cbNT6Xelvg8t",
        "colab_type": "code",
        "colab": {
          "base_uri": "https://localhost:8080/",
          "height": 363
        },
        "outputId": "89d1310e-5511-4eee-b92e-0fd0c847ef26"
      },
      "cell_type": "code",
      "source": [
        "data = pd.read_csv(\"https://cdncontribute.geeksforgeeks.org/wp-content/uploads/nba.csv\")\n",
        "\n",
        "# removing null values to avoid errors\n",
        "data.dropna(inplace = True)\n",
        "\n",
        "start, stop, step = 0, -2, 2\n",
        "\n",
        "# slicing till 2nd last element\n",
        "data[\"Name\"] = data[\"Name\"].str.slice(start, stop, step)\n",
        "\n",
        "data.head(10)"
      ],
      "execution_count": 100,
      "outputs": [
        {
          "output_type": "execute_result",
          "data": {
            "text/html": [
              "<div>\n",
              "<style scoped>\n",
              "    .dataframe tbody tr th:only-of-type {\n",
              "        vertical-align: middle;\n",
              "    }\n",
              "\n",
              "    .dataframe tbody tr th {\n",
              "        vertical-align: top;\n",
              "    }\n",
              "\n",
              "    .dataframe thead th {\n",
              "        text-align: right;\n",
              "    }\n",
              "</style>\n",
              "<table border=\"1\" class=\"dataframe\">\n",
              "  <thead>\n",
              "    <tr style=\"text-align: right;\">\n",
              "      <th></th>\n",
              "      <th>Name</th>\n",
              "      <th>Team</th>\n",
              "      <th>Number</th>\n",
              "      <th>Position</th>\n",
              "      <th>Age</th>\n",
              "      <th>Height</th>\n",
              "      <th>Weight</th>\n",
              "      <th>College</th>\n",
              "      <th>Salary</th>\n",
              "    </tr>\n",
              "  </thead>\n",
              "  <tbody>\n",
              "    <tr>\n",
              "      <th>0</th>\n",
              "      <td>AeyBal</td>\n",
              "      <td>Boston Celtics</td>\n",
              "      <td>0.0</td>\n",
              "      <td>PG</td>\n",
              "      <td>25.0</td>\n",
              "      <td>6-2</td>\n",
              "      <td>180.0</td>\n",
              "      <td>Texas</td>\n",
              "      <td>7730337.0</td>\n",
              "    </tr>\n",
              "    <tr>\n",
              "      <th>1</th>\n",
              "      <td>JeCod</td>\n",
              "      <td>Boston Celtics</td>\n",
              "      <td>99.0</td>\n",
              "      <td>SF</td>\n",
              "      <td>25.0</td>\n",
              "      <td>6-6</td>\n",
              "      <td>235.0</td>\n",
              "      <td>Marquette</td>\n",
              "      <td>6796117.0</td>\n",
              "    </tr>\n",
              "    <tr>\n",
              "      <th>3</th>\n",
              "      <td>RJ ut</td>\n",
              "      <td>Boston Celtics</td>\n",
              "      <td>28.0</td>\n",
              "      <td>SG</td>\n",
              "      <td>22.0</td>\n",
              "      <td>6-5</td>\n",
              "      <td>185.0</td>\n",
              "      <td>Georgia State</td>\n",
              "      <td>1148640.0</td>\n",
              "    </tr>\n",
              "    <tr>\n",
              "      <th>6</th>\n",
              "      <td>Jra ik</td>\n",
              "      <td>Boston Celtics</td>\n",
              "      <td>55.0</td>\n",
              "      <td>PF</td>\n",
              "      <td>21.0</td>\n",
              "      <td>6-8</td>\n",
              "      <td>235.0</td>\n",
              "      <td>LSU</td>\n",
              "      <td>1170960.0</td>\n",
              "    </tr>\n",
              "    <tr>\n",
              "      <th>7</th>\n",
              "      <td>KlyOy</td>\n",
              "      <td>Boston Celtics</td>\n",
              "      <td>41.0</td>\n",
              "      <td>C</td>\n",
              "      <td>25.0</td>\n",
              "      <td>7-0</td>\n",
              "      <td>238.0</td>\n",
              "      <td>Gonzaga</td>\n",
              "      <td>2165160.0</td>\n",
              "    </tr>\n",
              "    <tr>\n",
              "      <th>8</th>\n",
              "      <td>TryRz</td>\n",
              "      <td>Boston Celtics</td>\n",
              "      <td>12.0</td>\n",
              "      <td>PG</td>\n",
              "      <td>22.0</td>\n",
              "      <td>6-2</td>\n",
              "      <td>190.0</td>\n",
              "      <td>Louisville</td>\n",
              "      <td>1824360.0</td>\n",
              "    </tr>\n",
              "    <tr>\n",
              "      <th>9</th>\n",
              "      <td>Mru m</td>\n",
              "      <td>Boston Celtics</td>\n",
              "      <td>36.0</td>\n",
              "      <td>PG</td>\n",
              "      <td>22.0</td>\n",
              "      <td>6-4</td>\n",
              "      <td>220.0</td>\n",
              "      <td>Oklahoma State</td>\n",
              "      <td>3431040.0</td>\n",
              "    </tr>\n",
              "    <tr>\n",
              "      <th>10</th>\n",
              "      <td>JrdSlig</td>\n",
              "      <td>Boston Celtics</td>\n",
              "      <td>7.0</td>\n",
              "      <td>C</td>\n",
              "      <td>24.0</td>\n",
              "      <td>6-9</td>\n",
              "      <td>260.0</td>\n",
              "      <td>Ohio State</td>\n",
              "      <td>2569260.0</td>\n",
              "    </tr>\n",
              "    <tr>\n",
              "      <th>11</th>\n",
              "      <td>Iaa hm</td>\n",
              "      <td>Boston Celtics</td>\n",
              "      <td>4.0</td>\n",
              "      <td>PG</td>\n",
              "      <td>27.0</td>\n",
              "      <td>5-9</td>\n",
              "      <td>185.0</td>\n",
              "      <td>Washington</td>\n",
              "      <td>6912869.0</td>\n",
              "    </tr>\n",
              "    <tr>\n",
              "      <th>12</th>\n",
              "      <td>Ea un</td>\n",
              "      <td>Boston Celtics</td>\n",
              "      <td>11.0</td>\n",
              "      <td>SG</td>\n",
              "      <td>27.0</td>\n",
              "      <td>6-7</td>\n",
              "      <td>220.0</td>\n",
              "      <td>Ohio State</td>\n",
              "      <td>3425510.0</td>\n",
              "    </tr>\n",
              "  </tbody>\n",
              "</table>\n",
              "</div>"
            ],
            "text/plain": [
              "       Name            Team  Number Position   Age Height  Weight  \\\n",
              "0    AeyBal  Boston Celtics     0.0       PG  25.0    6-2   180.0   \n",
              "1     JeCod  Boston Celtics    99.0       SF  25.0    6-6   235.0   \n",
              "3     RJ ut  Boston Celtics    28.0       SG  22.0    6-5   185.0   \n",
              "6    Jra ik  Boston Celtics    55.0       PF  21.0    6-8   235.0   \n",
              "7     KlyOy  Boston Celtics    41.0        C  25.0    7-0   238.0   \n",
              "8     TryRz  Boston Celtics    12.0       PG  22.0    6-2   190.0   \n",
              "9     Mru m  Boston Celtics    36.0       PG  22.0    6-4   220.0   \n",
              "10  JrdSlig  Boston Celtics     7.0        C  24.0    6-9   260.0   \n",
              "11   Iaa hm  Boston Celtics     4.0       PG  27.0    5-9   185.0   \n",
              "12    Ea un  Boston Celtics    11.0       SG  27.0    6-7   220.0   \n",
              "\n",
              "           College     Salary  \n",
              "0            Texas  7730337.0  \n",
              "1        Marquette  6796117.0  \n",
              "3    Georgia State  1148640.0  \n",
              "6              LSU  1170960.0  \n",
              "7          Gonzaga  2165160.0  \n",
              "8       Louisville  1824360.0  \n",
              "9   Oklahoma State  3431040.0  \n",
              "10      Ohio State  2569260.0  \n",
              "11      Washington  6912869.0  \n",
              "12      Ohio State  3425510.0  "
            ]
          },
          "metadata": {
            "tags": []
          },
          "execution_count": 100
        }
      ]
    },
    {
      "metadata": {
        "id": "nB5xwc38wqH3",
        "colab_type": "text"
      },
      "cell_type": "markdown",
      "source": [
        "### split()"
      ]
    },
    {
      "metadata": {
        "id": "FV8et9y1v_Wo",
        "colab_type": "code",
        "colab": {
          "base_uri": "https://localhost:8080/",
          "height": 88
        },
        "outputId": "df027d41-5a45-4c33-e31e-21d385b5bc89"
      },
      "cell_type": "code",
      "source": [
        "text = 'geeks for geeks'\n",
        "\n",
        "# splits at space\n",
        "print(text.split())\n",
        "\n",
        "word = 'geeks, for, geeks'\n",
        "\n",
        "# splits at ','\n",
        "print(word.split(', '))\n",
        "\n",
        "word = 'geeks:for:geeks'\n",
        "\n",
        "# splits at ':'\n",
        "print(word.split(':'))\n",
        "\n",
        "word = 'CatBatSatFatOr'\n",
        "\n",
        "# splits at 3\n",
        "print([word[i : i + 3] for i in range(0, len(word), 3)])"
      ],
      "execution_count": 103,
      "outputs": [
        {
          "output_type": "stream",
          "text": [
            "['geeks', 'for', 'geeks']\n",
            "['geeks', 'for', 'geeks']\n",
            "['geeks', 'for', 'geeks']\n",
            "['Cat', 'Bat', 'Sat', 'Fat', 'Or']\n"
          ],
          "name": "stdout"
        }
      ]
    },
    {
      "metadata": {
        "id": "vF285xw9xEAM",
        "colab_type": "code",
        "colab": {
          "base_uri": "https://localhost:8080/",
          "height": 71
        },
        "outputId": "d68579b1-25c4-45b9-af87-c4e938c8ea0e"
      },
      "cell_type": "code",
      "source": [
        "word = 'geeks, for, geeks, anamitra'\n",
        "\n",
        "# maxsplit: 0\n",
        "print(word.split(', ', 0))\n",
        "\n",
        "# maxsplit: 4\n",
        "print(word.split(', ', 4))\n",
        "\n",
        "# maxsplit: 1\n",
        "print(word.split(', ', 1))"
      ],
      "execution_count": 104,
      "outputs": [
        {
          "output_type": "stream",
          "text": [
            "['geeks, for, geeks, anamitra']\n",
            "['geeks', 'for', 'geeks', 'anamitra']\n",
            "['geeks', 'for, geeks, anamitra']\n"
          ],
          "name": "stdout"
        }
      ]
    },
    {
      "metadata": {
        "id": "d4pATz9WyCO2",
        "colab_type": "text"
      },
      "cell_type": "markdown",
      "source": [
        "### pd.Series.strip(), lstrip() and rstrip()"
      ]
    },
    {
      "metadata": {
        "id": "BBxTq_4_xXqd",
        "colab_type": "code",
        "colab": {
          "base_uri": "https://localhost:8080/",
          "height": 1125
        },
        "outputId": "5bb4e2c3-0f6b-4afa-fabf-cef0d9f0cdfd"
      },
      "cell_type": "code",
      "source": [
        "## lstrip()\n",
        "\n",
        "data = pd.read_csv(\"https://cdncontribute.geeksforgeeks.org/wp-content/uploads/nba.csv\")\n",
        "\n",
        "# replacing team name and adding spaces in start and end\n",
        "new = data[\"Team\"].replace(\"Boston Celtics\", \"  Boston Celtics  \").copy()\n",
        "\n",
        "# checking with custom removed space string\n",
        "new.str.lstrip() == \"Boston Celtics  \""
      ],
      "execution_count": 105,
      "outputs": [
        {
          "output_type": "execute_result",
          "data": {
            "text/plain": [
              "0       True\n",
              "1       True\n",
              "2       True\n",
              "3       True\n",
              "4       True\n",
              "5       True\n",
              "6       True\n",
              "7       True\n",
              "8       True\n",
              "9       True\n",
              "10      True\n",
              "11      True\n",
              "12      True\n",
              "13      True\n",
              "14      True\n",
              "15     False\n",
              "16     False\n",
              "17     False\n",
              "18     False\n",
              "19     False\n",
              "20     False\n",
              "21     False\n",
              "22     False\n",
              "23     False\n",
              "24     False\n",
              "25     False\n",
              "26     False\n",
              "27     False\n",
              "28     False\n",
              "29     False\n",
              "       ...  \n",
              "428    False\n",
              "429    False\n",
              "430    False\n",
              "431    False\n",
              "432    False\n",
              "433    False\n",
              "434    False\n",
              "435    False\n",
              "436    False\n",
              "437    False\n",
              "438    False\n",
              "439    False\n",
              "440    False\n",
              "441    False\n",
              "442    False\n",
              "443    False\n",
              "444    False\n",
              "445    False\n",
              "446    False\n",
              "447    False\n",
              "448    False\n",
              "449    False\n",
              "450    False\n",
              "451    False\n",
              "452    False\n",
              "453    False\n",
              "454    False\n",
              "455    False\n",
              "456    False\n",
              "457    False\n",
              "Name: Team, Length: 458, dtype: bool"
            ]
          },
          "metadata": {
            "tags": []
          },
          "execution_count": 105
        }
      ]
    },
    {
      "metadata": {
        "id": "z_zUgycRyaib",
        "colab_type": "code",
        "colab": {
          "base_uri": "https://localhost:8080/",
          "height": 1125
        },
        "outputId": "87af0e61-f4fe-4802-bae7-b1346b977426"
      },
      "cell_type": "code",
      "source": [
        "## strip()\n",
        "\n",
        "data = pd.read_csv(\"https://cdncontribute.geeksforgeeks.org/wp-content/uploads/nba.csv\")\n",
        "\n",
        "# replacing team name and adding spaces in start and end\n",
        "new = data[\"Team\"].replace(\"Boston Celtics\", \"  Boston Celtics  \").copy()\n",
        "\n",
        "# checking with custom string\n",
        "new.str.strip() == \"  Boston Celtics\"\n",
        "new.str.strip() == \"Boston Celtics  \"\n",
        "new.str.strip() == \"  Boston Celtics  \""
      ],
      "execution_count": 106,
      "outputs": [
        {
          "output_type": "execute_result",
          "data": {
            "text/plain": [
              "0      False\n",
              "1      False\n",
              "2      False\n",
              "3      False\n",
              "4      False\n",
              "5      False\n",
              "6      False\n",
              "7      False\n",
              "8      False\n",
              "9      False\n",
              "10     False\n",
              "11     False\n",
              "12     False\n",
              "13     False\n",
              "14     False\n",
              "15     False\n",
              "16     False\n",
              "17     False\n",
              "18     False\n",
              "19     False\n",
              "20     False\n",
              "21     False\n",
              "22     False\n",
              "23     False\n",
              "24     False\n",
              "25     False\n",
              "26     False\n",
              "27     False\n",
              "28     False\n",
              "29     False\n",
              "       ...  \n",
              "428    False\n",
              "429    False\n",
              "430    False\n",
              "431    False\n",
              "432    False\n",
              "433    False\n",
              "434    False\n",
              "435    False\n",
              "436    False\n",
              "437    False\n",
              "438    False\n",
              "439    False\n",
              "440    False\n",
              "441    False\n",
              "442    False\n",
              "443    False\n",
              "444    False\n",
              "445    False\n",
              "446    False\n",
              "447    False\n",
              "448    False\n",
              "449    False\n",
              "450    False\n",
              "451    False\n",
              "452    False\n",
              "453    False\n",
              "454    False\n",
              "455    False\n",
              "456    False\n",
              "457    False\n",
              "Name: Team, Length: 458, dtype: bool"
            ]
          },
          "metadata": {
            "tags": []
          },
          "execution_count": 106
        }
      ]
    },
    {
      "metadata": {
        "id": "LQPDJC3Ty9tK",
        "colab_type": "code",
        "colab": {
          "base_uri": "https://localhost:8080/",
          "height": 1125
        },
        "outputId": "81b5f9b8-a7c6-486b-efd2-afdf4f621c39"
      },
      "cell_type": "code",
      "source": [
        "## rstrip()\n",
        "\n",
        "data = pd.read_csv(\"https://cdncontribute.geeksforgeeks.org/wp-content/uploads/nba.csv\")\n",
        "\n",
        "# replacing team name and adding spaces in start and end\n",
        "new = data[\"Team\"].replace(\"Boston Celtics\", \"  Boston Celtics  \").copy()\n",
        "\n",
        "# checking with custom removed space string\n",
        "new.str.rstrip() == \"  Boston Celtics\""
      ],
      "execution_count": 107,
      "outputs": [
        {
          "output_type": "execute_result",
          "data": {
            "text/plain": [
              "0       True\n",
              "1       True\n",
              "2       True\n",
              "3       True\n",
              "4       True\n",
              "5       True\n",
              "6       True\n",
              "7       True\n",
              "8       True\n",
              "9       True\n",
              "10      True\n",
              "11      True\n",
              "12      True\n",
              "13      True\n",
              "14      True\n",
              "15     False\n",
              "16     False\n",
              "17     False\n",
              "18     False\n",
              "19     False\n",
              "20     False\n",
              "21     False\n",
              "22     False\n",
              "23     False\n",
              "24     False\n",
              "25     False\n",
              "26     False\n",
              "27     False\n",
              "28     False\n",
              "29     False\n",
              "       ...  \n",
              "428    False\n",
              "429    False\n",
              "430    False\n",
              "431    False\n",
              "432    False\n",
              "433    False\n",
              "434    False\n",
              "435    False\n",
              "436    False\n",
              "437    False\n",
              "438    False\n",
              "439    False\n",
              "440    False\n",
              "441    False\n",
              "442    False\n",
              "443    False\n",
              "444    False\n",
              "445    False\n",
              "446    False\n",
              "447    False\n",
              "448    False\n",
              "449    False\n",
              "450    False\n",
              "451    False\n",
              "452    False\n",
              "453    False\n",
              "454    False\n",
              "455    False\n",
              "456    False\n",
              "457    False\n",
              "Name: Team, Length: 458, dtype: bool"
            ]
          },
          "metadata": {
            "tags": []
          },
          "execution_count": 107
        }
      ]
    }
  ]
}
